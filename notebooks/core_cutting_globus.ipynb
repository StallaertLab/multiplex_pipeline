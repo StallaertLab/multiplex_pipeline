{
 "cells": [
  {
   "cell_type": "code",
   "execution_count": 3,
   "metadata": {},
   "outputs": [],
   "source": [
    "import os\n",
    "from datetime import datetime\n",
    "from tifffile import imread, imwrite\n",
    "import numpy as np\n",
    "import pandas as pd\n",
    "from skimage.draw import polygon\n",
    "from pathlib import Path\n",
    "from loguru import logger\n",
    "from IPython.display import clear_output\n",
    "\n",
    "from multiplex_pipeline.utils.utils import load_analysis_settings\n",
    "from multiplex_pipeline.core_preparation.channel_scanner import discover_channels, build_transfer_map\n",
    "from multiplex_pipeline.core_preparation.controller import CorePreparationController\n",
    "from multiplex_pipeline.core_preparation.file_io import GlobusFileStrategy, LocalFileStrategy"
   ]
  },
  {
   "cell_type": "markdown",
   "metadata": {},
   "source": [
    "### Load analysis settings"
   ]
  },
  {
   "cell_type": "code",
   "execution_count": 7,
   "metadata": {},
   "outputs": [
    {
     "data": {
      "text/plain": [
       "{'image_dir': '/CellDive/BLCA-2/BLCA-2_Final',\n",
       " 'analysis_dir': 'R:/Wayne/BLCA/BLCA-2_Analysis',\n",
       " 'log_dir': WindowsPath('R:/Wayne/BLCA/BLCA-2_Analysis/logs'),\n",
       " 'detection_image': 'BLCA-2_1.0.4_R000_DAPI__FINAL_F.ome.tif',\n",
       " 'core_info_file_path': WindowsPath('R:/Wayne/BLCA/BLCA-2_Analysis/cores.csv'),\n",
       " 'cores_dir_tif': WindowsPath('R:/Wayne/BLCA/BLCA-2_Analysis/temp'),\n",
       " 'cores_dir_output': WindowsPath('R:/Wayne/BLCA/BLCA-2_Analysis/cores'),\n",
       " 'include_channels': None,\n",
       " 'exclude_channels': ['008_ECad'],\n",
       " 'use_markers': None,\n",
       " 'ignore_markers': ['Antibody1',\n",
       "  'TNFa',\n",
       "  'Snail1',\n",
       "  'SKP2',\n",
       "  'ProgRc',\n",
       "  'Plk1',\n",
       "  'PH3',\n",
       "  'PDL1',\n",
       "  'p65',\n",
       "  'p130',\n",
       "  'p-p130',\n",
       "  'p-Cdc6',\n",
       "  'LAG3',\n",
       "  'IL-8',\n",
       "  'HER2',\n",
       "  'ERa',\n",
       "  'EpCAM',\n",
       "  'E2F1',\n",
       "  'cycD3',\n",
       "  'cycB2',\n",
       "  'CDC25C',\n",
       "  'CD86',\n",
       "  'CD73',\n",
       "  'CD69',\n",
       "  'CD62L',\n",
       "  'CD56',\n",
       "  'CD4',\n",
       "  'CD25',\n",
       "  'CD19',\n",
       "  'CD27',\n",
       "  'CCR7',\n",
       "  'cCASP3'],\n",
       " 'segmentation': {'package': 'instaseg',\n",
       "  'model': 'fluorescence_nuclei_and_cells',\n",
       "  'kwargs': {'pixel_size': 0.3,\n",
       "   'resolve_cell_and_nucleus': True,\n",
       "   'cleanup_fragments': True},\n",
       "  'input': ['DAPI',\n",
       "   'HLA1',\n",
       "   'CD44',\n",
       "   'NaKATPase',\n",
       "   'CD11C',\n",
       "   'CD45',\n",
       "   'pCK26',\n",
       "   'pS6',\n",
       "   'HES1'],\n",
       "  'output_name': ['instanseg_nucleus', 'instanseg_cell'],\n",
       "  'preprocessing': {'mix': None, 'denoise': None, 'normalize': [1, 99.5]},\n",
       "  'cleaner': 'BlobCleaner'},\n",
       " 'core_detection': {'im_level': 6,\n",
       "  'min_area': 2000,\n",
       "  'max_area': 10000,\n",
       "  'min_iou': 0.8,\n",
       "  'min_st': 0.9,\n",
       "  'min_int': 15,\n",
       "  'frame': 4},\n",
       " 'core_cutting': {'margin': 0,\n",
       "  'mask_value': 0,\n",
       "  'max_pyramid_level': 2,\n",
       "  'transfer_cleanup_enabled': True,\n",
       "  'core_cleanup_enabled': True,\n",
       "  'chunk_size': [1, 512, 512]}}"
      ]
     },
     "execution_count": 7,
     "metadata": {},
     "output_type": "execute_result"
    }
   ],
   "source": [
    "# load analysis configuration\n",
    "settings_path = r'R:\\Wayne\\BLCA\\BLCA-2_Analysis\\analysis_settings_BLCA2.yaml'\n",
    "\n",
    "settings = load_analysis_settings(settings_path)\n",
    "settings"
   ]
  },
  {
   "cell_type": "markdown",
   "metadata": {},
   "source": [
    "### Define the logger"
   ]
  },
  {
   "cell_type": "code",
   "execution_count": 9,
   "metadata": {},
   "outputs": [
    {
     "data": {
      "text/plain": [
       "4"
      ]
     },
     "execution_count": 9,
     "metadata": {},
     "output_type": "execute_result"
    }
   ],
   "source": [
    "log_file = settings['log_dir'] / f\"cores_cutting_{datetime.now():%Y-%m-%d_%H-%M-%S}.log\"\n",
    "\n",
    "logger.remove()\n",
    "logger.add(lambda msg: print(msg, end=\"\"))\n",
    "logger.add(log_file, level=\"DEBUG\", enqueue=True)"
   ]
  },
  {
   "cell_type": "markdown",
   "metadata": {},
   "source": [
    "## Files through Globus"
   ]
  },
  {
   "cell_type": "code",
   "execution_count": 5,
   "metadata": {},
   "outputs": [],
   "source": [
    "from multiplex_pipeline.utils.globus_utils import GlobusConfig, create_globus_tc"
   ]
  },
  {
   "cell_type": "code",
   "execution_count": 8,
   "metadata": {},
   "outputs": [],
   "source": [
    "# get globus config\n",
    "config_dir = Path(r'D:\\\\globus_config')\n",
    "gc = GlobusConfig.from_config_files(config_dir)\n",
    "tc = create_globus_tc(gc.client_id, gc.transfer_tokens)"
   ]
  },
  {
   "cell_type": "code",
   "execution_count": null,
   "metadata": {},
   "outputs": [
    {
     "ename": "SyntaxError",
     "evalue": "invalid syntax. Perhaps you forgot a comma? (333695068.py, line 5)",
     "output_type": "error",
     "traceback": [
      "  \u001b[36mCell\u001b[39m\u001b[36m \u001b[39m\u001b[32mIn[9]\u001b[39m\u001b[32m, line 5\u001b[39m\n\u001b[31m    \u001b[39m\u001b[31mignore_markers=settings.get('ignore_markers')\u001b[39m\n                   ^\n\u001b[31mSyntaxError\u001b[39m\u001b[31m:\u001b[39m invalid syntax. Perhaps you forgot a comma?\n"
     ]
    }
   ],
   "source": [
    "channel_map = discover_channels(Path(settings['image_dir']), \n",
    "                                include_channels=settings['include_channels'], \n",
    "                                exclude_channels=settings['exclude_channels'], \n",
    "                                use_markers=settings.get('use_markers'), \n",
    "                                ignore_markers=settings.get('ignore_markers'),\n",
    "                                gc=gc)"
   ]
  },
  {
   "cell_type": "code",
   "execution_count": 13,
   "metadata": {},
   "outputs": [
    {
     "data": {
      "text/plain": [
       "{'DAPI': '/CellDive/BLCA-1B/BLCA-1B_Final/BLCA-1B_1.0.4_R000_DAPI__FINAL_F.ome.tif',\n",
       " 'CD3': '/CellDive/BLCA-1B/BLCA-1B_Final/BLCA-1B_11.0.4_R000_Cy3_CD3-AF555_FINAL_AFR_F.ome.tif'}"
      ]
     },
     "execution_count": 13,
     "metadata": {},
     "output_type": "execute_result"
    }
   ],
   "source": [
    "selected_keys = [\"DAPI\", \"CD3\"]\n",
    "short_map = {k: channel_map[k] for k in selected_keys if k in channel_map}\n",
    "short_map"
   ]
  },
  {
   "cell_type": "code",
   "execution_count": 16,
   "metadata": {},
   "outputs": [
    {
     "data": {
      "text/plain": [
       "{'DAPI': 'D:\\\\multiplex_pipeline\\\\tests\\\\input_cache\\\\BLCA-1B_1.0.4_R000_DAPI__FINAL_F.ome.tif',\n",
       " 'CD3': 'D:\\\\multiplex_pipeline\\\\tests\\\\input_cache\\\\BLCA-1B_11.0.4_R000_Cy3_CD3-AF555_FINAL_AFR_F.ome.tif'}"
      ]
     },
     "execution_count": 16,
     "metadata": {},
     "output_type": "execute_result"
    }
   ],
   "source": [
    "# build transfer map\n",
    "transfer_cache_dir = Path(temp_dir) / \"input_cache\"\n",
    "transfer_map = build_transfer_map(short_map, transfer_cache_dir)\n",
    "\n",
    "# build a dict for transfered images\n",
    "image_paths = {\n",
    "    ch: str(Path(transfer_cache_dir) / Path(remote).name)\n",
    "    for ch, (remote, _) in transfer_map.items()\n",
    "}\n",
    "image_paths"
   ]
  },
  {
   "cell_type": "code",
   "execution_count": 36,
   "metadata": {},
   "outputs": [
    {
     "name": "stderr",
     "output_type": "stream",
     "text": [
      "\u001b[32m2025-06-17 16:32:35.669\u001b[0m | \u001b[1mINFO    \u001b[0m | \u001b[36mmultiplex_pipeline.core_preparation.file_io\u001b[0m:\u001b[36m_submit_all_transfers\u001b[0m:\u001b[36m65\u001b[0m - \u001b[1mSubmitted transfer for DAPI to /~/D/multiplex_pipeline/tests/input_cache/BLCA-1B_1.0.4_R000_DAPI__FINAL_F.ome.tif (task_id=32598a4f-4bba-11f0-a701-0affcfc1d1e5)\u001b[0m\n",
      "\u001b[32m2025-06-17 16:32:36.056\u001b[0m | \u001b[1mINFO    \u001b[0m | \u001b[36mmultiplex_pipeline.core_preparation.file_io\u001b[0m:\u001b[36m_submit_all_transfers\u001b[0m:\u001b[36m65\u001b[0m - \u001b[1mSubmitted transfer for CD3 to /~/D/multiplex_pipeline/tests/input_cache/BLCA-1B_11.0.4_R000_Cy3_CD3-AF555_FINAL_AFR_F.ome.tif (task_id=32b53b46-4bba-11f0-9834-0affcfc1d1e5)\u001b[0m\n",
      "\u001b[32m2025-06-17 16:32:36.097\u001b[0m | \u001b[1mINFO    \u001b[0m | \u001b[36mmultiplex_pipeline.core_preparation.controller\u001b[0m:\u001b[36mrun\u001b[0m:\u001b[36m48\u001b[0m - \u001b[1mStarting controller run loop...\u001b[0m\n",
      "\u001b[32m2025-06-17 16:33:16.366\u001b[0m | \u001b[1mINFO    \u001b[0m | \u001b[36mmultiplex_pipeline.core_preparation.file_io\u001b[0m:\u001b[36mfetch_or_wait\u001b[0m:\u001b[36m100\u001b[0m - \u001b[1mTransfer for CD3 complete: D:\\multiplex_pipeline\\tests\\input_cache\\BLCA-1B_11.0.4_R000_Cy3_CD3-AF555_FINAL_AFR_F.ome.tif\u001b[0m\n",
      "\u001b[32m2025-06-17 16:33:17.608\u001b[0m | \u001b[34m\u001b[1mDEBUG   \u001b[0m | \u001b[36mmultiplex_pipeline.core_preparation.controller\u001b[0m:\u001b[36mcut_channel\u001b[0m:\u001b[36m81\u001b[0m - \u001b[34m\u001b[1mCut and saved core Core_015, channel CD3\u001b[0m\n",
      "\u001b[32m2025-06-17 16:33:17.608\u001b[0m | \u001b[34m\u001b[1mDEBUG   \u001b[0m | \u001b[36mmultiplex_pipeline.core_preparation.controller\u001b[0m:\u001b[36mcut_channel\u001b[0m:\u001b[36m86\u001b[0m - \u001b[34m\u001b[1mClosed file handle for channel CD3\u001b[0m\n",
      "\u001b[32m2025-06-17 16:33:17.729\u001b[0m | \u001b[1mINFO    \u001b[0m | \u001b[36mmultiplex_pipeline.core_preparation.file_io\u001b[0m:\u001b[36mcleanup\u001b[0m:\u001b[36m129\u001b[0m - \u001b[1mCleaned up file: D:\\multiplex_pipeline\\tests\\input_cache\\BLCA-1B_11.0.4_R000_Cy3_CD3-AF555_FINAL_AFR_F.ome.tif\u001b[0m\n",
      "\u001b[32m2025-06-17 16:33:47.901\u001b[0m | \u001b[1mINFO    \u001b[0m | \u001b[36mmultiplex_pipeline.core_preparation.file_io\u001b[0m:\u001b[36mfetch_or_wait\u001b[0m:\u001b[36m100\u001b[0m - \u001b[1mTransfer for DAPI complete: D:\\multiplex_pipeline\\tests\\input_cache\\BLCA-1B_1.0.4_R000_DAPI__FINAL_F.ome.tif\u001b[0m\n",
      "\u001b[32m2025-06-17 16:33:49.171\u001b[0m | \u001b[34m\u001b[1mDEBUG   \u001b[0m | \u001b[36mmultiplex_pipeline.core_preparation.controller\u001b[0m:\u001b[36mcut_channel\u001b[0m:\u001b[36m81\u001b[0m - \u001b[34m\u001b[1mCut and saved core Core_015, channel DAPI\u001b[0m\n",
      "\u001b[32m2025-06-17 16:33:49.174\u001b[0m | \u001b[34m\u001b[1mDEBUG   \u001b[0m | \u001b[36mmultiplex_pipeline.core_preparation.controller\u001b[0m:\u001b[36mcut_channel\u001b[0m:\u001b[36m86\u001b[0m - \u001b[34m\u001b[1mClosed file handle for channel DAPI\u001b[0m\n",
      "\u001b[32m2025-06-17 16:33:49.706\u001b[0m | \u001b[1mINFO    \u001b[0m | \u001b[36mmultiplex_pipeline.core_preparation.file_io\u001b[0m:\u001b[36mcleanup\u001b[0m:\u001b[36m129\u001b[0m - \u001b[1mCleaned up file: D:\\multiplex_pipeline\\tests\\input_cache\\BLCA-1B_1.0.4_R000_DAPI__FINAL_F.ome.tif\u001b[0m\n",
      "\u001b[32m2025-06-17 16:33:49.706\u001b[0m | \u001b[1mINFO    \u001b[0m | \u001b[36mmultiplex_pipeline.core_preparation.controller\u001b[0m:\u001b[36mtry_assemble_ready_cores\u001b[0m:\u001b[36m92\u001b[0m - \u001b[1mAssembling full core Core_015\u001b[0m\n",
      "\u001b[32m2025-06-17 16:33:52.391\u001b[0m | \u001b[1mINFO    \u001b[0m | \u001b[36mmultiplex_pipeline.core_preparation.assembler\u001b[0m:\u001b[36massemble_core\u001b[0m:\u001b[36m71\u001b[0m - \u001b[1mCore 'Core_015' assembled with channels: ['CD3', 'DAPI']\u001b[0m\n"
     ]
    },
    {
     "name": "stdout",
     "output_type": "stream",
     "text": [
      "\u001b[34mINFO    \u001b[0m The Zarr backing store has been changed from \u001b[3;35mNone\u001b[0m the new file path:                                      \n",
      "         R:\\Wayne\\BLCA\\BLCA-1B_Analysis\\temp\\Core_015.zarr                                                         \n"
     ]
    },
    {
     "name": "stderr",
     "output_type": "stream",
     "text": [
      "\u001b[32m2025-06-17 16:34:18.002\u001b[0m | \u001b[34m\u001b[1mDEBUG   \u001b[0m | \u001b[36mmultiplex_pipeline.core_preparation.assembler\u001b[0m:\u001b[36m_cleanup_core_files\u001b[0m:\u001b[36m89\u001b[0m - \u001b[34m\u001b[1mDeleted intermediate TIFF: R:\\Wayne\\BLCA\\BLCA-1B_Analysis\\temp\\Core_015\\CD3.tiff\u001b[0m\n",
      "\u001b[32m2025-06-17 16:34:18.068\u001b[0m | \u001b[34m\u001b[1mDEBUG   \u001b[0m | \u001b[36mmultiplex_pipeline.core_preparation.assembler\u001b[0m:\u001b[36m_cleanup_core_files\u001b[0m:\u001b[36m89\u001b[0m - \u001b[34m\u001b[1mDeleted intermediate TIFF: R:\\Wayne\\BLCA\\BLCA-1B_Analysis\\temp\\Core_015\\DAPI.tiff\u001b[0m\n",
      "\u001b[32m2025-06-17 16:34:18.068\u001b[0m | \u001b[1mINFO    \u001b[0m | \u001b[36mmultiplex_pipeline.core_preparation.controller\u001b[0m:\u001b[36mrun\u001b[0m:\u001b[36m67\u001b[0m - \u001b[1mAll channels processed and cores assembled.\u001b[0m\n"
     ]
    }
   ],
   "source": [
    "strategy = GlobusFileStrategy(tc=tc, transfer_map=transfer_map, gc=gc, cleanup_enabled = transfer_cleanup_enabled)\n",
    "\n",
    "controller = CorePreparationController(\n",
    "    metadata_df = df.loc[15:15,:],\n",
    "    image_paths = image_paths,\n",
    "    temp_dir = temp_dir,\n",
    "    output_dir = output_dir,\n",
    "    file_strategy = strategy,\n",
    "    margin = margin,\n",
    "    mask_value = mask_value,\n",
    "    max_pyramid_levels = max_pyramid_levels,\n",
    "    core_cleanup_enabled = core_cleanup_enabled,\n",
    ")\n",
    "\n",
    "controller.run()"
   ]
  }
 ],
 "metadata": {
  "kernelspec": {
   "display_name": "sdata-env",
   "language": "python",
   "name": "python3"
  },
  "language_info": {
   "codemirror_mode": {
    "name": "ipython",
    "version": 3
   },
   "file_extension": ".py",
   "mimetype": "text/x-python",
   "name": "python",
   "nbconvert_exporter": "python",
   "pygments_lexer": "ipython3",
   "version": "3.11.13"
  }
 },
 "nbformat": 4,
 "nbformat_minor": 2
}
