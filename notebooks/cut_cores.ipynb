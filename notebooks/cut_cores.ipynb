{
 "cells": [
  {
   "cell_type": "code",
   "execution_count": 1,
   "metadata": {},
   "outputs": [],
   "source": [
    "%load_ext autoreload\n",
    "%autoreload 2"
   ]
  },
  {
   "cell_type": "code",
   "execution_count": 2,
   "metadata": {},
   "outputs": [
    {
     "name": "stderr",
     "output_type": "stream",
     "text": [
      "c:\\Users\\KMK280\\AppData\\Local\\miniconda3\\envs\\napari-env\\Lib\\site-packages\\dask\\dataframe\\__init__.py:31: FutureWarning: The legacy Dask DataFrame implementation is deprecated and will be removed in a future version. Set the configuration option `dataframe.query-planning` to `True` or None to enable the new Dask Dataframe implementation and silence this warning.\n",
      "  warnings.warn(\n"
     ]
    }
   ],
   "source": [
    "import os\n",
    "from tifffile import imread, imwrite\n",
    "import numpy as np\n",
    "import pandas as pd\n",
    "from skimage.draw import polygon\n",
    "from pathlib import Path\n",
    "from loguru import logger\n",
    "\n",
    "from multiplex_pipeline.utils.config_loader import load_config\n",
    "from multiplex_pipeline.core_preparation.channel_scanner import discover_channels, build_transfer_map\n",
    "from multiplex_pipeline.core_preparation.controller import CorePreparationController\n",
    "from multiplex_pipeline.core_preparation.file_io import GlobusFileStrategy, LocalFileStrategy"
   ]
  },
  {
   "cell_type": "code",
   "execution_count": 34,
   "metadata": {},
   "outputs": [],
   "source": [
    "df_path = r'R:\\Wayne\\BLCA\\BLCA-1B_Analysis\\cores.pkl'\n",
    "\n",
    "temp_dir = r\"R:\\Wayne\\BLCA\\BLCA-1B_Analysis\\temp\"\n",
    "output_dir = r\"R:\\Wayne\\BLCA\\BLCA-1B_Analysis\\temp\"\n",
    "\n",
    "margin = 0\n",
    "mask_value = 0\n",
    "max_pyramid_levels = 3\n",
    "\n",
    "transfer_cleanup_enabled = True\n",
    "core_cleanup_enabled = True"
   ]
  },
  {
   "cell_type": "code",
   "execution_count": 4,
   "metadata": {},
   "outputs": [
    {
     "data": {
      "text/html": [
       "<div>\n",
       "<style scoped>\n",
       "    .dataframe tbody tr th:only-of-type {\n",
       "        vertical-align: middle;\n",
       "    }\n",
       "\n",
       "    .dataframe tbody tr th {\n",
       "        vertical-align: top;\n",
       "    }\n",
       "\n",
       "    .dataframe thead th {\n",
       "        text-align: right;\n",
       "    }\n",
       "</style>\n",
       "<table border=\"1\" class=\"dataframe\">\n",
       "  <thead>\n",
       "    <tr style=\"text-align: right;\">\n",
       "      <th></th>\n",
       "      <th>core_name</th>\n",
       "      <th>row_start</th>\n",
       "      <th>row_stop</th>\n",
       "      <th>column_start</th>\n",
       "      <th>column_stop</th>\n",
       "      <th>poly_type</th>\n",
       "      <th>polygon_vertices</th>\n",
       "    </tr>\n",
       "  </thead>\n",
       "  <tbody>\n",
       "    <tr>\n",
       "      <th>0</th>\n",
       "      <td>Core_000</td>\n",
       "      <td>640.0</td>\n",
       "      <td>4992.0</td>\n",
       "      <td>3136.0</td>\n",
       "      <td>8832.0</td>\n",
       "      <td>polygon</td>\n",
       "      <td>[[2688.0, 6080.0], [4992.0, 3136.0], [640.0, 3...</td>\n",
       "    </tr>\n",
       "    <tr>\n",
       "      <th>1</th>\n",
       "      <td>Core_001</td>\n",
       "      <td>960.0</td>\n",
       "      <td>5632.0</td>\n",
       "      <td>9920.0</td>\n",
       "      <td>15680.0</td>\n",
       "      <td>rectangle</td>\n",
       "      <td>[[5632.0, 15680.0], [5632.0, 9920.0], [960.0, ...</td>\n",
       "    </tr>\n",
       "    <tr>\n",
       "      <th>2</th>\n",
       "      <td>Core_002</td>\n",
       "      <td>1664.0</td>\n",
       "      <td>5504.0</td>\n",
       "      <td>16896.0</td>\n",
       "      <td>22656.0</td>\n",
       "      <td>rectangle</td>\n",
       "      <td>[[5504.0, 22656.0], [5504.0, 16896.0], [1664.0...</td>\n",
       "    </tr>\n",
       "    <tr>\n",
       "      <th>3</th>\n",
       "      <td>Core_003</td>\n",
       "      <td>1728.0</td>\n",
       "      <td>5952.0</td>\n",
       "      <td>23680.0</td>\n",
       "      <td>29312.0</td>\n",
       "      <td>rectangle</td>\n",
       "      <td>[[5952.0, 29312.0], [5952.0, 23680.0], [1728.0...</td>\n",
       "    </tr>\n",
       "    <tr>\n",
       "      <th>4</th>\n",
       "      <td>Core_004</td>\n",
       "      <td>1856.0</td>\n",
       "      <td>6400.0</td>\n",
       "      <td>30400.0</td>\n",
       "      <td>35712.0</td>\n",
       "      <td>rectangle</td>\n",
       "      <td>[[6400.0, 35712.0], [6400.0, 30400.0], [1856.0...</td>\n",
       "    </tr>\n",
       "  </tbody>\n",
       "</table>\n",
       "</div>"
      ],
      "text/plain": [
       "  core_name  row_start  row_stop  column_start  column_stop  poly_type  \\\n",
       "0  Core_000      640.0    4992.0        3136.0       8832.0    polygon   \n",
       "1  Core_001      960.0    5632.0        9920.0      15680.0  rectangle   \n",
       "2  Core_002     1664.0    5504.0       16896.0      22656.0  rectangle   \n",
       "3  Core_003     1728.0    5952.0       23680.0      29312.0  rectangle   \n",
       "4  Core_004     1856.0    6400.0       30400.0      35712.0  rectangle   \n",
       "\n",
       "                                    polygon_vertices  \n",
       "0  [[2688.0, 6080.0], [4992.0, 3136.0], [640.0, 3...  \n",
       "1  [[5632.0, 15680.0], [5632.0, 9920.0], [960.0, ...  \n",
       "2  [[5504.0, 22656.0], [5504.0, 16896.0], [1664.0...  \n",
       "3  [[5952.0, 29312.0], [5952.0, 23680.0], [1728.0...  \n",
       "4  [[6400.0, 35712.0], [6400.0, 30400.0], [1856.0...  "
      ]
     },
     "execution_count": 4,
     "metadata": {},
     "output_type": "execute_result"
    }
   ],
   "source": [
    "df = pd.read_pickle(df_path)\n",
    "df.head()"
   ]
  },
  {
   "cell_type": "code",
   "execution_count": 40,
   "metadata": {},
   "outputs": [],
   "source": [
    "df_03 = df.loc[3:3,:]\n",
    "df_03.reset_index(drop=True, inplace=True)\n",
    "df_03.to_csv(os.path.join(r'R:\\Wayne\\BLCA\\BLCA-1B_Analysis', 'df_03.csv'))"
   ]
  },
  {
   "cell_type": "markdown",
   "metadata": {},
   "source": [
    "## Local files"
   ]
  },
  {
   "cell_type": "code",
   "execution_count": 5,
   "metadata": {},
   "outputs": [],
   "source": [
    "input_dir = r'R:\\CellDive\\BLCA-1B\\BLCA-1B_Final'"
   ]
  },
  {
   "cell_type": "code",
   "execution_count": 6,
   "metadata": {},
   "outputs": [
    {
     "name": "stderr",
     "output_type": "stream",
     "text": [
      "\u001b[32m2025-06-17 15:40:50.252\u001b[0m | \u001b[1mINFO    \u001b[0m | \u001b[36mmultiplex_pipeline.core_preparation.channel_scanner\u001b[0m:\u001b[36mscan_channels_from_list\u001b[0m:\u001b[36m45\u001b[0m - \u001b[1mDiscovered channels before filtering: ['011_CD3', '008_DAPI', '022_CD56', '028_DAPI', '014_CD4', '016_DAPI', '025_CD86', '001_cycD3', '005_CDK6', '017_CD27', '010_p38', '010_p16', '009_DAPI', '012_DAPI', '003_cycD1', '001_pRB', '007_CDT1', '008_pRB', '016_pERK', '013_DAPI', '018_DAPI', '027_CD4', '020_EpCAM', '024_DAPI', '015_CD11b', '014_PD-1', '019_p-p130', '006_Plk1', '020_DAPI', '017_CDC6', '013_PH3', '008_YAP1', '025_DAPI', '022_CD19', '002_cycE2', '017_DAPI', '002_DAPI', '027_FOXP3', '028_p65', '012_IL-8', '004_DAPI', '005_bCat', '026_ERa', '008_CDK2', '001_pH2AX', '008_ECad', '023_CD25', '023_DAPI', '009_p21', '002_cycB2', '011_DAPI', '012_cMYC', '025_ECad', '006_DAPI', '024_PML', '001_CDC25C', '025_p27', '011_CD45', '028_CD86', '011_CCR7', '029_DAPI', '029_CD62L', '026_HER2', '007_wee1', '007_VIM', '027_CD68', '018_TGFb1', '003_cCASP3', '007_CDK4', '024_HLADR', '026_HIF1a', '021_SMA', '014_Snail1', '012_CD20', '021_IL6', '005_p65', '010_PDL1', '013_TNFa', '017_pAKT', '021_53BP1', '010_CD127', '027_DAPI', '005_p27', '028_LAG3', '003_RB', '015_CD8a', '029_Coll3', '014_DAPI', '004_E2F1', '015_DAPI', '027_CD45RO', '002_cycA1', '015_NaKATPase', '019_CD163', '001_DAPI', '009_pS6', '004_p53', '006_p-Cdc6', '002_cycE1', '010_DAPI', '018_p130', '006_PCNA', '005_DAPI', '009_pCK26', '013_CD68', '003_DAPI', '021_DAPI', '029_CD4', '003_Ki67', '013_CD69', '004_cycA2', '014_FOXP3', '019_DAPI', '025_LaminB1', '009_CD45RO', '012_CD11C', '020_HLA1', '007_DAPI', '011_SKP2', '019_Fibro', '016_CD31', '026_ProgRc', '023_CD73', '015_Antibody1', '016_CD44', '026_DAPI', '022_DAPI', '006_CycB1', '004_HES1', '020_pATR', '018_GranzymeB']\u001b[0m\n",
      "\u001b[32m2025-06-17 15:40:50.254\u001b[0m | \u001b[1mINFO    \u001b[0m | \u001b[36mmultiplex_pipeline.core_preparation.channel_scanner\u001b[0m:\u001b[36mscan_channels_from_list\u001b[0m:\u001b[36m81\u001b[0m - \u001b[1mFinal selected channels:\u001b[0m\n",
      "\u001b[32m2025-06-17 15:40:50.254\u001b[0m | \u001b[1mINFO    \u001b[0m | \u001b[36mmultiplex_pipeline.core_preparation.channel_scanner\u001b[0m:\u001b[36mscan_channels_from_list\u001b[0m:\u001b[36m83\u001b[0m - \u001b[1m  Channel: 53BP1 <- R:\\CellDive\\BLCA-1B\\BLCA-1B_Final\\BLCA-1B_21.0.4_R000_Cy7_53BP1-AF750_FINAL_AFR_F.ome.tif\u001b[0m\n",
      "\u001b[32m2025-06-17 15:40:50.255\u001b[0m | \u001b[1mINFO    \u001b[0m | \u001b[36mmultiplex_pipeline.core_preparation.channel_scanner\u001b[0m:\u001b[36mscan_channels_from_list\u001b[0m:\u001b[36m83\u001b[0m - \u001b[1m  Channel: Antibody1 <- R:\\CellDive\\BLCA-1B\\BLCA-1B_Final\\BLCA-1B_15.0.4_R000_FITC_Antibody1_FINAL_AFR_F.ome.tif\u001b[0m\n",
      "\u001b[32m2025-06-17 15:40:50.256\u001b[0m | \u001b[1mINFO    \u001b[0m | \u001b[36mmultiplex_pipeline.core_preparation.channel_scanner\u001b[0m:\u001b[36mscan_channels_from_list\u001b[0m:\u001b[36m83\u001b[0m - \u001b[1m  Channel: bCat <- R:\\CellDive\\BLCA-1B\\BLCA-1B_Final\\BLCA-1B_5.0.4_R000_Cy3_bCat-AF555_FINAL_AFR_F.ome.tif\u001b[0m\n",
      "\u001b[32m2025-06-17 15:40:50.257\u001b[0m | \u001b[1mINFO    \u001b[0m | \u001b[36mmultiplex_pipeline.core_preparation.channel_scanner\u001b[0m:\u001b[36mscan_channels_from_list\u001b[0m:\u001b[36m83\u001b[0m - \u001b[1m  Channel: cCASP3 <- R:\\CellDive\\BLCA-1B\\BLCA-1B_Final\\BLCA-1B_3.0.4_R000_FITC_cCASP3-AF488_FINAL_AFR_F.ome.tif\u001b[0m\n",
      "\u001b[32m2025-06-17 15:40:50.258\u001b[0m | \u001b[1mINFO    \u001b[0m | \u001b[36mmultiplex_pipeline.core_preparation.channel_scanner\u001b[0m:\u001b[36mscan_channels_from_list\u001b[0m:\u001b[36m83\u001b[0m - \u001b[1m  Channel: CCR7 <- R:\\CellDive\\BLCA-1B\\BLCA-1B_Final\\BLCA-1B_11.0.4_R000_FITC_CCR7-AF488_FINAL_AFR_F.ome.tif\u001b[0m\n",
      "\u001b[32m2025-06-17 15:40:50.259\u001b[0m | \u001b[1mINFO    \u001b[0m | \u001b[36mmultiplex_pipeline.core_preparation.channel_scanner\u001b[0m:\u001b[36mscan_channels_from_list\u001b[0m:\u001b[36m83\u001b[0m - \u001b[1m  Channel: CD11b <- R:\\CellDive\\BLCA-1B\\BLCA-1B_Final\\BLCA-1B_15.0.4_R000_Cy3_CD11b-AF555_FINAL_AFR_F.ome.tif\u001b[0m\n",
      "\u001b[32m2025-06-17 15:40:50.261\u001b[0m | \u001b[1mINFO    \u001b[0m | \u001b[36mmultiplex_pipeline.core_preparation.channel_scanner\u001b[0m:\u001b[36mscan_channels_from_list\u001b[0m:\u001b[36m83\u001b[0m - \u001b[1m  Channel: CD11C <- R:\\CellDive\\BLCA-1B\\BLCA-1B_Final\\BLCA-1B_12.0.4_R000_Cy3_CD11C-AF555_FINAL_AFR_F.ome.tif\u001b[0m\n",
      "\u001b[32m2025-06-17 15:40:50.262\u001b[0m | \u001b[1mINFO    \u001b[0m | \u001b[36mmultiplex_pipeline.core_preparation.channel_scanner\u001b[0m:\u001b[36mscan_channels_from_list\u001b[0m:\u001b[36m83\u001b[0m - \u001b[1m  Channel: CD127 <- R:\\CellDive\\BLCA-1B\\BLCA-1B_Final\\BLCA-1B_10.0.4_R000_FITC_CD127-AF488_FINAL_AFR_F.ome.tif\u001b[0m\n",
      "\u001b[32m2025-06-17 15:40:50.263\u001b[0m | \u001b[1mINFO    \u001b[0m | \u001b[36mmultiplex_pipeline.core_preparation.channel_scanner\u001b[0m:\u001b[36mscan_channels_from_list\u001b[0m:\u001b[36m83\u001b[0m - \u001b[1m  Channel: CD163 <- R:\\CellDive\\BLCA-1B\\BLCA-1B_Final\\BLCA-1B_19.0.4_R000_Cy3_CD163-AF555_FINAL_AFR_F.ome.tif\u001b[0m\n",
      "\u001b[32m2025-06-17 15:40:50.264\u001b[0m | \u001b[1mINFO    \u001b[0m | \u001b[36mmultiplex_pipeline.core_preparation.channel_scanner\u001b[0m:\u001b[36mscan_channels_from_list\u001b[0m:\u001b[36m83\u001b[0m - \u001b[1m  Channel: CD19 <- R:\\CellDive\\BLCA-1B\\BLCA-1B_Final\\BLCA-1B_22.0.4_R000_Cy5_CD19-AF647_FINAL_AFR_F.ome.tif\u001b[0m\n",
      "\u001b[32m2025-06-17 15:40:50.265\u001b[0m | \u001b[1mINFO    \u001b[0m | \u001b[36mmultiplex_pipeline.core_preparation.channel_scanner\u001b[0m:\u001b[36mscan_channels_from_list\u001b[0m:\u001b[36m83\u001b[0m - \u001b[1m  Channel: CD20 <- R:\\CellDive\\BLCA-1B\\BLCA-1B_Final\\BLCA-1B_12.0.4_R000_Cy7_CD20-AF750_FINAL_AFR_F.ome.tif\u001b[0m\n",
      "\u001b[32m2025-06-17 15:40:50.266\u001b[0m | \u001b[1mINFO    \u001b[0m | \u001b[36mmultiplex_pipeline.core_preparation.channel_scanner\u001b[0m:\u001b[36mscan_channels_from_list\u001b[0m:\u001b[36m83\u001b[0m - \u001b[1m  Channel: CD25 <- R:\\CellDive\\BLCA-1B\\BLCA-1B_Final\\BLCA-1B_23.0.4_R000_Cy5_CD25-AF647_FINAL_AFR_F.ome.tif\u001b[0m\n",
      "\u001b[32m2025-06-17 15:40:50.267\u001b[0m | \u001b[1mINFO    \u001b[0m | \u001b[36mmultiplex_pipeline.core_preparation.channel_scanner\u001b[0m:\u001b[36mscan_channels_from_list\u001b[0m:\u001b[36m83\u001b[0m - \u001b[1m  Channel: CD27 <- R:\\CellDive\\BLCA-1B\\BLCA-1B_Final\\BLCA-1B_17.0.4_R000_Cy3_CD27-AF555_FINAL_AFR_F.ome.tif\u001b[0m\n",
      "\u001b[32m2025-06-17 15:40:50.267\u001b[0m | \u001b[1mINFO    \u001b[0m | \u001b[36mmultiplex_pipeline.core_preparation.channel_scanner\u001b[0m:\u001b[36mscan_channels_from_list\u001b[0m:\u001b[36m83\u001b[0m - \u001b[1m  Channel: CD3 <- R:\\CellDive\\BLCA-1B\\BLCA-1B_Final\\BLCA-1B_11.0.4_R000_Cy3_CD3-AF555_FINAL_AFR_F.ome.tif\u001b[0m\n",
      "\u001b[32m2025-06-17 15:40:50.268\u001b[0m | \u001b[1mINFO    \u001b[0m | \u001b[36mmultiplex_pipeline.core_preparation.channel_scanner\u001b[0m:\u001b[36mscan_channels_from_list\u001b[0m:\u001b[36m83\u001b[0m - \u001b[1m  Channel: CD31 <- R:\\CellDive\\BLCA-1B\\BLCA-1B_Final\\BLCA-1B_16.0.4_R000_Cy3_CD31-AF555_FINAL_AFR_F.ome.tif\u001b[0m\n",
      "\u001b[32m2025-06-17 15:40:50.268\u001b[0m | \u001b[1mINFO    \u001b[0m | \u001b[36mmultiplex_pipeline.core_preparation.channel_scanner\u001b[0m:\u001b[36mscan_channels_from_list\u001b[0m:\u001b[36m83\u001b[0m - \u001b[1m  Channel: CD4 <- R:\\CellDive\\BLCA-1B\\BLCA-1B_Final\\BLCA-1B_29.0.4_R000_Cy3_CD4-AF555_FINAL_AFR_F.ome.tif\u001b[0m\n",
      "\u001b[32m2025-06-17 15:40:50.269\u001b[0m | \u001b[1mINFO    \u001b[0m | \u001b[36mmultiplex_pipeline.core_preparation.channel_scanner\u001b[0m:\u001b[36mscan_channels_from_list\u001b[0m:\u001b[36m83\u001b[0m - \u001b[1m  Channel: CD44 <- R:\\CellDive\\BLCA-1B\\BLCA-1B_Final\\BLCA-1B_16.0.4_R000_Cy7_CD44-AF750_FINAL_AFR_F.ome.tif\u001b[0m\n",
      "\u001b[32m2025-06-17 15:40:50.270\u001b[0m | \u001b[1mINFO    \u001b[0m | \u001b[36mmultiplex_pipeline.core_preparation.channel_scanner\u001b[0m:\u001b[36mscan_channels_from_list\u001b[0m:\u001b[36m83\u001b[0m - \u001b[1m  Channel: CD45 <- R:\\CellDive\\BLCA-1B\\BLCA-1B_Final\\BLCA-1B_11.0.4_R000_Cy7_CD45-AF750_FINAL_AFR_F.ome.tif\u001b[0m\n",
      "\u001b[32m2025-06-17 15:40:50.270\u001b[0m | \u001b[1mINFO    \u001b[0m | \u001b[36mmultiplex_pipeline.core_preparation.channel_scanner\u001b[0m:\u001b[36mscan_channels_from_list\u001b[0m:\u001b[36m83\u001b[0m - \u001b[1m  Channel: CD45RO <- R:\\CellDive\\BLCA-1B\\BLCA-1B_Final\\BLCA-1B_27.0.4_R000_FITC_CD45RO-AF488_FINAL_AFR_F.ome.tif\u001b[0m\n",
      "\u001b[32m2025-06-17 15:40:50.271\u001b[0m | \u001b[1mINFO    \u001b[0m | \u001b[36mmultiplex_pipeline.core_preparation.channel_scanner\u001b[0m:\u001b[36mscan_channels_from_list\u001b[0m:\u001b[36m83\u001b[0m - \u001b[1m  Channel: CD56 <- R:\\CellDive\\BLCA-1B\\BLCA-1B_Final\\BLCA-1B_22.0.4_R000_Cy7_CD56-AF750_FINAL_AFR_F.ome.tif\u001b[0m\n",
      "\u001b[32m2025-06-17 15:40:50.272\u001b[0m | \u001b[1mINFO    \u001b[0m | \u001b[36mmultiplex_pipeline.core_preparation.channel_scanner\u001b[0m:\u001b[36mscan_channels_from_list\u001b[0m:\u001b[36m83\u001b[0m - \u001b[1m  Channel: CD62L <- R:\\CellDive\\BLCA-1B\\BLCA-1B_Final\\BLCA-1B_29.0.4_R000_Cy5_CD62L-AF647_FINAL_AFR_F.ome.tif\u001b[0m\n",
      "\u001b[32m2025-06-17 15:40:50.273\u001b[0m | \u001b[1mINFO    \u001b[0m | \u001b[36mmultiplex_pipeline.core_preparation.channel_scanner\u001b[0m:\u001b[36mscan_channels_from_list\u001b[0m:\u001b[36m83\u001b[0m - \u001b[1m  Channel: CD68 <- R:\\CellDive\\BLCA-1B\\BLCA-1B_Final\\BLCA-1B_27.0.4_R000_Cy3_CD68-AF555_FINAL_AFR_F.ome.tif\u001b[0m\n",
      "\u001b[32m2025-06-17 15:40:50.274\u001b[0m | \u001b[1mINFO    \u001b[0m | \u001b[36mmultiplex_pipeline.core_preparation.channel_scanner\u001b[0m:\u001b[36mscan_channels_from_list\u001b[0m:\u001b[36m83\u001b[0m - \u001b[1m  Channel: CD69 <- R:\\CellDive\\BLCA-1B\\BLCA-1B_Final\\BLCA-1B_13.0.4_R000_Cy5_CD69-AF647_FINAL_AFR_F.ome.tif\u001b[0m\n",
      "\u001b[32m2025-06-17 15:40:50.275\u001b[0m | \u001b[1mINFO    \u001b[0m | \u001b[36mmultiplex_pipeline.core_preparation.channel_scanner\u001b[0m:\u001b[36mscan_channels_from_list\u001b[0m:\u001b[36m83\u001b[0m - \u001b[1m  Channel: CD73 <- R:\\CellDive\\BLCA-1B\\BLCA-1B_Final\\BLCA-1B_23.0.4_R000_Cy7_CD73-AF750_FINAL_AFR_F.ome.tif\u001b[0m\n",
      "\u001b[32m2025-06-17 15:40:50.275\u001b[0m | \u001b[1mINFO    \u001b[0m | \u001b[36mmultiplex_pipeline.core_preparation.channel_scanner\u001b[0m:\u001b[36mscan_channels_from_list\u001b[0m:\u001b[36m83\u001b[0m - \u001b[1m  Channel: CD86 <- R:\\CellDive\\BLCA-1B\\BLCA-1B_Final\\BLCA-1B_28.0.4_R000_Cy5_CD86-AF647_FINAL_AFR_F.ome.tif\u001b[0m\n",
      "\u001b[32m2025-06-17 15:40:50.276\u001b[0m | \u001b[1mINFO    \u001b[0m | \u001b[36mmultiplex_pipeline.core_preparation.channel_scanner\u001b[0m:\u001b[36mscan_channels_from_list\u001b[0m:\u001b[36m83\u001b[0m - \u001b[1m  Channel: CD8a <- R:\\CellDive\\BLCA-1B\\BLCA-1B_Final\\BLCA-1B_15.0.4_R000_Cy5_CD8a-AF647_FINAL_AFR_F.ome.tif\u001b[0m\n",
      "\u001b[32m2025-06-17 15:40:50.277\u001b[0m | \u001b[1mINFO    \u001b[0m | \u001b[36mmultiplex_pipeline.core_preparation.channel_scanner\u001b[0m:\u001b[36mscan_channels_from_list\u001b[0m:\u001b[36m83\u001b[0m - \u001b[1m  Channel: CDC25C <- R:\\CellDive\\BLCA-1B\\BLCA-1B_Final\\BLCA-1B_1.0.4_R000_FITC_CDC25C-AF488_FINAL_AFR_F.ome.tif\u001b[0m\n",
      "\u001b[32m2025-06-17 15:40:50.278\u001b[0m | \u001b[1mINFO    \u001b[0m | \u001b[36mmultiplex_pipeline.core_preparation.channel_scanner\u001b[0m:\u001b[36mscan_channels_from_list\u001b[0m:\u001b[36m83\u001b[0m - \u001b[1m  Channel: CDC6 <- R:\\CellDive\\BLCA-1B\\BLCA-1B_Final\\BLCA-1B_17.0.4_R000_Cy7_CDC6-AF750_FINAL_AFR_F.ome.tif\u001b[0m\n",
      "\u001b[32m2025-06-17 15:40:50.279\u001b[0m | \u001b[1mINFO    \u001b[0m | \u001b[36mmultiplex_pipeline.core_preparation.channel_scanner\u001b[0m:\u001b[36mscan_channels_from_list\u001b[0m:\u001b[36m83\u001b[0m - \u001b[1m  Channel: CDK2 <- R:\\CellDive\\BLCA-1B\\BLCA-1B_Final\\BLCA-1B_8.0.4_R000_Cy7_CDK2-AF750_FINAL_AFR_F.ome.tif\u001b[0m\n",
      "\u001b[32m2025-06-17 15:40:50.280\u001b[0m | \u001b[1mINFO    \u001b[0m | \u001b[36mmultiplex_pipeline.core_preparation.channel_scanner\u001b[0m:\u001b[36mscan_channels_from_list\u001b[0m:\u001b[36m83\u001b[0m - \u001b[1m  Channel: CDK4 <- R:\\CellDive\\BLCA-1B\\BLCA-1B_Final\\BLCA-1B_7.0.4_R000_Cy7_CDK4-AF750_FINAL_AFR_F.ome.tif\u001b[0m\n",
      "\u001b[32m2025-06-17 15:40:50.281\u001b[0m | \u001b[1mINFO    \u001b[0m | \u001b[36mmultiplex_pipeline.core_preparation.channel_scanner\u001b[0m:\u001b[36mscan_channels_from_list\u001b[0m:\u001b[36m83\u001b[0m - \u001b[1m  Channel: CDK6 <- R:\\CellDive\\BLCA-1B\\BLCA-1B_Final\\BLCA-1B_5.0.4_R000_Cy5_CDK6-AF647_FINAL_AFR_F.ome.tif\u001b[0m\n",
      "\u001b[32m2025-06-17 15:40:50.282\u001b[0m | \u001b[1mINFO    \u001b[0m | \u001b[36mmultiplex_pipeline.core_preparation.channel_scanner\u001b[0m:\u001b[36mscan_channels_from_list\u001b[0m:\u001b[36m83\u001b[0m - \u001b[1m  Channel: CDT1 <- R:\\CellDive\\BLCA-1B\\BLCA-1B_Final\\BLCA-1B_7.0.4_R000_Cy5_CDT1-AF647_FINAL_AFR_F.ome.tif\u001b[0m\n",
      "\u001b[32m2025-06-17 15:40:50.284\u001b[0m | \u001b[1mINFO    \u001b[0m | \u001b[36mmultiplex_pipeline.core_preparation.channel_scanner\u001b[0m:\u001b[36mscan_channels_from_list\u001b[0m:\u001b[36m83\u001b[0m - \u001b[1m  Channel: cMYC <- R:\\CellDive\\BLCA-1B\\BLCA-1B_Final\\BLCA-1B_12.0.4_R000_Cy5_cMYC-AF647_FINAL_AFR_F.ome.tif\u001b[0m\n",
      "\u001b[32m2025-06-17 15:40:50.284\u001b[0m | \u001b[1mINFO    \u001b[0m | \u001b[36mmultiplex_pipeline.core_preparation.channel_scanner\u001b[0m:\u001b[36mscan_channels_from_list\u001b[0m:\u001b[36m83\u001b[0m - \u001b[1m  Channel: Coll3 <- R:\\CellDive\\BLCA-1B\\BLCA-1B_Final\\BLCA-1B_29.0.4_R000_Cy7_Coll3-AF750_FINAL_AFR_F.ome.tif\u001b[0m\n",
      "\u001b[32m2025-06-17 15:40:50.285\u001b[0m | \u001b[1mINFO    \u001b[0m | \u001b[36mmultiplex_pipeline.core_preparation.channel_scanner\u001b[0m:\u001b[36mscan_channels_from_list\u001b[0m:\u001b[36m83\u001b[0m - \u001b[1m  Channel: cycA1 <- R:\\CellDive\\BLCA-1B\\BLCA-1B_Final\\BLCA-1B_2.0.4_R000_Cy3_cycA1-AF555_FINAL_AFR_F.ome.tif\u001b[0m\n",
      "\u001b[32m2025-06-17 15:40:50.286\u001b[0m | \u001b[1mINFO    \u001b[0m | \u001b[36mmultiplex_pipeline.core_preparation.channel_scanner\u001b[0m:\u001b[36mscan_channels_from_list\u001b[0m:\u001b[36m83\u001b[0m - \u001b[1m  Channel: cycA2 <- R:\\CellDive\\BLCA-1B\\BLCA-1B_Final\\BLCA-1B_4.0.4_R000_Cy3_cycA2-AF555_FINAL_AFR_F.ome.tif\u001b[0m\n",
      "\u001b[32m2025-06-17 15:40:50.287\u001b[0m | \u001b[1mINFO    \u001b[0m | \u001b[36mmultiplex_pipeline.core_preparation.channel_scanner\u001b[0m:\u001b[36mscan_channels_from_list\u001b[0m:\u001b[36m83\u001b[0m - \u001b[1m  Channel: CycB1 <- R:\\CellDive\\BLCA-1B\\BLCA-1B_Final\\BLCA-1B_6.0.4_R000_Cy3_CycB1-AF555_FINAL_AFR_F.ome.tif\u001b[0m\n",
      "\u001b[32m2025-06-17 15:40:50.288\u001b[0m | \u001b[1mINFO    \u001b[0m | \u001b[36mmultiplex_pipeline.core_preparation.channel_scanner\u001b[0m:\u001b[36mscan_channels_from_list\u001b[0m:\u001b[36m83\u001b[0m - \u001b[1m  Channel: cycB2 <- R:\\CellDive\\BLCA-1B\\BLCA-1B_Final\\BLCA-1B_2.0.4_R000_Cy7_cycB2-AF750_FINAL_AFR_F.ome.tif\u001b[0m\n",
      "\u001b[32m2025-06-17 15:40:50.289\u001b[0m | \u001b[1mINFO    \u001b[0m | \u001b[36mmultiplex_pipeline.core_preparation.channel_scanner\u001b[0m:\u001b[36mscan_channels_from_list\u001b[0m:\u001b[36m83\u001b[0m - \u001b[1m  Channel: cycD1 <- R:\\CellDive\\BLCA-1B\\BLCA-1B_Final\\BLCA-1B_3.0.4_R000_Cy3_cycD1-AF555_FINAL_AFR_F.ome.tif\u001b[0m\n",
      "\u001b[32m2025-06-17 15:40:50.290\u001b[0m | \u001b[1mINFO    \u001b[0m | \u001b[36mmultiplex_pipeline.core_preparation.channel_scanner\u001b[0m:\u001b[36mscan_channels_from_list\u001b[0m:\u001b[36m83\u001b[0m - \u001b[1m  Channel: cycD3 <- R:\\CellDive\\BLCA-1B\\BLCA-1B_Final\\BLCA-1B_1.0.4_R000_Cy7_cycD3-AF750_FINAL_AFR_F.ome.tif\u001b[0m\n",
      "\u001b[32m2025-06-17 15:40:50.291\u001b[0m | \u001b[1mINFO    \u001b[0m | \u001b[36mmultiplex_pipeline.core_preparation.channel_scanner\u001b[0m:\u001b[36mscan_channels_from_list\u001b[0m:\u001b[36m83\u001b[0m - \u001b[1m  Channel: cycE1 <- R:\\CellDive\\BLCA-1B\\BLCA-1B_Final\\BLCA-1B_2.0.4_R000_Cy5_cycE1-AF647_FINAL_AFR_F.ome.tif\u001b[0m\n",
      "\u001b[32m2025-06-17 15:40:50.292\u001b[0m | \u001b[1mINFO    \u001b[0m | \u001b[36mmultiplex_pipeline.core_preparation.channel_scanner\u001b[0m:\u001b[36mscan_channels_from_list\u001b[0m:\u001b[36m83\u001b[0m - \u001b[1m  Channel: cycE2 <- R:\\CellDive\\BLCA-1B\\BLCA-1B_Final\\BLCA-1B_2.0.4_R000_FITC_cycE2-AF488_FINAL_AFR_F.ome.tif\u001b[0m\n",
      "\u001b[32m2025-06-17 15:40:50.293\u001b[0m | \u001b[1mINFO    \u001b[0m | \u001b[36mmultiplex_pipeline.core_preparation.channel_scanner\u001b[0m:\u001b[36mscan_channels_from_list\u001b[0m:\u001b[36m83\u001b[0m - \u001b[1m  Channel: DAPI <- R:\\CellDive\\BLCA-1B\\BLCA-1B_Final\\BLCA-1B_1.0.4_R000_DAPI__FINAL_F.ome.tif\u001b[0m\n",
      "\u001b[32m2025-06-17 15:40:50.294\u001b[0m | \u001b[1mINFO    \u001b[0m | \u001b[36mmultiplex_pipeline.core_preparation.channel_scanner\u001b[0m:\u001b[36mscan_channels_from_list\u001b[0m:\u001b[36m83\u001b[0m - \u001b[1m  Channel: E2F1 <- R:\\CellDive\\BLCA-1B\\BLCA-1B_Final\\BLCA-1B_4.0.4_R000_Cy7_E2F1-AF750_FINAL_AFR_F.ome.tif\u001b[0m\n",
      "\u001b[32m2025-06-17 15:40:50.295\u001b[0m | \u001b[1mINFO    \u001b[0m | \u001b[36mmultiplex_pipeline.core_preparation.channel_scanner\u001b[0m:\u001b[36mscan_channels_from_list\u001b[0m:\u001b[36m83\u001b[0m - \u001b[1m  Channel: ECad <- R:\\CellDive\\BLCA-1B\\BLCA-1B_Final\\BLCA-1B_25.0.4_R000_Cy3_ECad-AF555_FINAL_AFR_F.ome.tif\u001b[0m\n",
      "\u001b[32m2025-06-17 15:40:50.296\u001b[0m | \u001b[1mINFO    \u001b[0m | \u001b[36mmultiplex_pipeline.core_preparation.channel_scanner\u001b[0m:\u001b[36mscan_channels_from_list\u001b[0m:\u001b[36m83\u001b[0m - \u001b[1m  Channel: EpCAM <- R:\\CellDive\\BLCA-1B\\BLCA-1B_Final\\BLCA-1B_20.0.4_R000_Cy5_EpCAM-AF647_FINAL_AFR_F.ome.tif\u001b[0m\n",
      "\u001b[32m2025-06-17 15:40:50.296\u001b[0m | \u001b[1mINFO    \u001b[0m | \u001b[36mmultiplex_pipeline.core_preparation.channel_scanner\u001b[0m:\u001b[36mscan_channels_from_list\u001b[0m:\u001b[36m83\u001b[0m - \u001b[1m  Channel: ERa <- R:\\CellDive\\BLCA-1B\\BLCA-1B_Final\\BLCA-1B_26.0.4_R000_Cy3_ERa-AF555_FINAL_AFR_F.ome.tif\u001b[0m\n",
      "\u001b[32m2025-06-17 15:40:50.297\u001b[0m | \u001b[1mINFO    \u001b[0m | \u001b[36mmultiplex_pipeline.core_preparation.channel_scanner\u001b[0m:\u001b[36mscan_channels_from_list\u001b[0m:\u001b[36m83\u001b[0m - \u001b[1m  Channel: Fibro <- R:\\CellDive\\BLCA-1B\\BLCA-1B_Final\\BLCA-1B_19.0.4_R000_Cy5_Fibro-AF647_FINAL_AFR_F.ome.tif\u001b[0m\n",
      "\u001b[32m2025-06-17 15:40:50.299\u001b[0m | \u001b[1mINFO    \u001b[0m | \u001b[36mmultiplex_pipeline.core_preparation.channel_scanner\u001b[0m:\u001b[36mscan_channels_from_list\u001b[0m:\u001b[36m83\u001b[0m - \u001b[1m  Channel: FOXP3 <- R:\\CellDive\\BLCA-1B\\BLCA-1B_Final\\BLCA-1B_27.0.4_R000_Cy7_FOXP3-AF750_FINAL_AFR_F.ome.tif\u001b[0m\n",
      "\u001b[32m2025-06-17 15:40:50.299\u001b[0m | \u001b[1mINFO    \u001b[0m | \u001b[36mmultiplex_pipeline.core_preparation.channel_scanner\u001b[0m:\u001b[36mscan_channels_from_list\u001b[0m:\u001b[36m83\u001b[0m - \u001b[1m  Channel: GranzymeB <- R:\\CellDive\\BLCA-1B\\BLCA-1B_Final\\BLCA-1B_18.0.4_R000_Cy3_GranzymeB-AF555_FINAL_AFR_F.ome.tif\u001b[0m\n",
      "\u001b[32m2025-06-17 15:40:50.301\u001b[0m | \u001b[1mINFO    \u001b[0m | \u001b[36mmultiplex_pipeline.core_preparation.channel_scanner\u001b[0m:\u001b[36mscan_channels_from_list\u001b[0m:\u001b[36m83\u001b[0m - \u001b[1m  Channel: HER2 <- R:\\CellDive\\BLCA-1B\\BLCA-1B_Final\\BLCA-1B_26.0.4_R000_FITC_HER2-AF488_FINAL_AFR_F.ome.tif\u001b[0m\n",
      "\u001b[32m2025-06-17 15:40:50.302\u001b[0m | \u001b[1mINFO    \u001b[0m | \u001b[36mmultiplex_pipeline.core_preparation.channel_scanner\u001b[0m:\u001b[36mscan_channels_from_list\u001b[0m:\u001b[36m83\u001b[0m - \u001b[1m  Channel: HES1 <- R:\\CellDive\\BLCA-1B\\BLCA-1B_Final\\BLCA-1B_4.0.4_R000_FITC_HES1-AF488_FINAL_AFR_F.ome.tif\u001b[0m\n",
      "\u001b[32m2025-06-17 15:40:50.303\u001b[0m | \u001b[1mINFO    \u001b[0m | \u001b[36mmultiplex_pipeline.core_preparation.channel_scanner\u001b[0m:\u001b[36mscan_channels_from_list\u001b[0m:\u001b[36m83\u001b[0m - \u001b[1m  Channel: HIF1a <- R:\\CellDive\\BLCA-1B\\BLCA-1B_Final\\BLCA-1B_26.0.4_R000_Cy5_HIF1a-AF647_FINAL_AFR_F.ome.tif\u001b[0m\n",
      "\u001b[32m2025-06-17 15:40:50.304\u001b[0m | \u001b[1mINFO    \u001b[0m | \u001b[36mmultiplex_pipeline.core_preparation.channel_scanner\u001b[0m:\u001b[36mscan_channels_from_list\u001b[0m:\u001b[36m83\u001b[0m - \u001b[1m  Channel: HLA1 <- R:\\CellDive\\BLCA-1B\\BLCA-1B_Final\\BLCA-1B_20.0.4_R000_Cy3_HLA1-AF555_FINAL_AFR_F.ome.tif\u001b[0m\n",
      "\u001b[32m2025-06-17 15:40:50.305\u001b[0m | \u001b[1mINFO    \u001b[0m | \u001b[36mmultiplex_pipeline.core_preparation.channel_scanner\u001b[0m:\u001b[36mscan_channels_from_list\u001b[0m:\u001b[36m83\u001b[0m - \u001b[1m  Channel: HLADR <- R:\\CellDive\\BLCA-1B\\BLCA-1B_Final\\BLCA-1B_24.0.4_R000_Cy7_HLADR-AF750_FINAL_AFR_F.ome.tif\u001b[0m\n",
      "\u001b[32m2025-06-17 15:40:50.306\u001b[0m | \u001b[1mINFO    \u001b[0m | \u001b[36mmultiplex_pipeline.core_preparation.channel_scanner\u001b[0m:\u001b[36mscan_channels_from_list\u001b[0m:\u001b[36m83\u001b[0m - \u001b[1m  Channel: IL-8 <- R:\\CellDive\\BLCA-1B\\BLCA-1B_Final\\BLCA-1B_12.0.4_R000_FITC_IL-8-AF488_FINAL_AFR_F.ome.tif\u001b[0m\n",
      "\u001b[32m2025-06-17 15:40:50.307\u001b[0m | \u001b[1mINFO    \u001b[0m | \u001b[36mmultiplex_pipeline.core_preparation.channel_scanner\u001b[0m:\u001b[36mscan_channels_from_list\u001b[0m:\u001b[36m83\u001b[0m - \u001b[1m  Channel: IL6 <- R:\\CellDive\\BLCA-1B\\BLCA-1B_Final\\BLCA-1B_21.0.4_R000_Cy5_IL6-AF647_FINAL_AFR_F.ome.tif\u001b[0m\n",
      "\u001b[32m2025-06-17 15:40:50.308\u001b[0m | \u001b[1mINFO    \u001b[0m | \u001b[36mmultiplex_pipeline.core_preparation.channel_scanner\u001b[0m:\u001b[36mscan_channels_from_list\u001b[0m:\u001b[36m83\u001b[0m - \u001b[1m  Channel: Ki67 <- R:\\CellDive\\BLCA-1B\\BLCA-1B_Final\\BLCA-1B_3.0.4_R000_Cy5_Ki67-AF647_FINAL_AFR_F.ome.tif\u001b[0m\n",
      "\u001b[32m2025-06-17 15:40:50.309\u001b[0m | \u001b[1mINFO    \u001b[0m | \u001b[36mmultiplex_pipeline.core_preparation.channel_scanner\u001b[0m:\u001b[36mscan_channels_from_list\u001b[0m:\u001b[36m83\u001b[0m - \u001b[1m  Channel: LAG3 <- R:\\CellDive\\BLCA-1B\\BLCA-1B_Final\\BLCA-1B_28.0.4_R000_Cy7_LAG3-AF750_FINAL_AFR_F.ome.tif\u001b[0m\n",
      "\u001b[32m2025-06-17 15:40:50.310\u001b[0m | \u001b[1mINFO    \u001b[0m | \u001b[36mmultiplex_pipeline.core_preparation.channel_scanner\u001b[0m:\u001b[36mscan_channels_from_list\u001b[0m:\u001b[36m83\u001b[0m - \u001b[1m  Channel: LaminB1 <- R:\\CellDive\\BLCA-1B\\BLCA-1B_Final\\BLCA-1B_25.0.4_R000_FITC_LaminB1-AF488_FINAL_AFR_F.ome.tif\u001b[0m\n",
      "\u001b[32m2025-06-17 15:40:50.311\u001b[0m | \u001b[1mINFO    \u001b[0m | \u001b[36mmultiplex_pipeline.core_preparation.channel_scanner\u001b[0m:\u001b[36mscan_channels_from_list\u001b[0m:\u001b[36m83\u001b[0m - \u001b[1m  Channel: NaKATPase <- R:\\CellDive\\BLCA-1B\\BLCA-1B_Final\\BLCA-1B_15.0.4_R000_Cy7_NaKATPase-AF750_FINAL_AFR_F.ome.tif\u001b[0m\n",
      "\u001b[32m2025-06-17 15:40:50.312\u001b[0m | \u001b[1mINFO    \u001b[0m | \u001b[36mmultiplex_pipeline.core_preparation.channel_scanner\u001b[0m:\u001b[36mscan_channels_from_list\u001b[0m:\u001b[36m83\u001b[0m - \u001b[1m  Channel: p-Cdc6 <- R:\\CellDive\\BLCA-1B\\BLCA-1B_Final\\BLCA-1B_6.0.4_R000_Cy7_p-Cdc6-AF750_FINAL_AFR_F.ome.tif\u001b[0m\n",
      "\u001b[32m2025-06-17 15:40:50.313\u001b[0m | \u001b[1mINFO    \u001b[0m | \u001b[36mmultiplex_pipeline.core_preparation.channel_scanner\u001b[0m:\u001b[36mscan_channels_from_list\u001b[0m:\u001b[36m83\u001b[0m - \u001b[1m  Channel: p-p130 <- R:\\CellDive\\BLCA-1B\\BLCA-1B_Final\\BLCA-1B_19.0.4_R000_Cy7_p-p130-AF750_FINAL_AFR_F.ome.tif\u001b[0m\n",
      "\u001b[32m2025-06-17 15:40:50.314\u001b[0m | \u001b[1mINFO    \u001b[0m | \u001b[36mmultiplex_pipeline.core_preparation.channel_scanner\u001b[0m:\u001b[36mscan_channels_from_list\u001b[0m:\u001b[36m83\u001b[0m - \u001b[1m  Channel: p130 <- R:\\CellDive\\BLCA-1B\\BLCA-1B_Final\\BLCA-1B_18.0.4_R000_Cy7_p130-AF750_FINAL_AFR_F.ome.tif\u001b[0m\n",
      "\u001b[32m2025-06-17 15:40:50.315\u001b[0m | \u001b[1mINFO    \u001b[0m | \u001b[36mmultiplex_pipeline.core_preparation.channel_scanner\u001b[0m:\u001b[36mscan_channels_from_list\u001b[0m:\u001b[36m83\u001b[0m - \u001b[1m  Channel: p16 <- R:\\CellDive\\BLCA-1B\\BLCA-1B_Final\\BLCA-1B_10.0.4_R000_Cy5_p16-AF647_FINAL_AFR_F.ome.tif\u001b[0m\n",
      "\u001b[32m2025-06-17 15:40:50.316\u001b[0m | \u001b[1mINFO    \u001b[0m | \u001b[36mmultiplex_pipeline.core_preparation.channel_scanner\u001b[0m:\u001b[36mscan_channels_from_list\u001b[0m:\u001b[36m83\u001b[0m - \u001b[1m  Channel: p21 <- R:\\CellDive\\BLCA-1B\\BLCA-1B_Final\\BLCA-1B_9.0.4_R000_Cy5_p21-AF647_FINAL_AFR_F.ome.tif\u001b[0m\n",
      "\u001b[32m2025-06-17 15:40:50.317\u001b[0m | \u001b[1mINFO    \u001b[0m | \u001b[36mmultiplex_pipeline.core_preparation.channel_scanner\u001b[0m:\u001b[36mscan_channels_from_list\u001b[0m:\u001b[36m83\u001b[0m - \u001b[1m  Channel: p27 <- R:\\CellDive\\BLCA-1B\\BLCA-1B_Final\\BLCA-1B_25.0.4_R000_Cy7_p27-AF750_FINAL_AFR_F.ome.tif\u001b[0m\n",
      "\u001b[32m2025-06-17 15:40:50.318\u001b[0m | \u001b[1mINFO    \u001b[0m | \u001b[36mmultiplex_pipeline.core_preparation.channel_scanner\u001b[0m:\u001b[36mscan_channels_from_list\u001b[0m:\u001b[36m83\u001b[0m - \u001b[1m  Channel: p38 <- R:\\CellDive\\BLCA-1B\\BLCA-1B_Final\\BLCA-1B_10.0.4_R000_Cy3_p38-AF555_FINAL_AFR_F.ome.tif\u001b[0m\n",
      "\u001b[32m2025-06-17 15:40:50.319\u001b[0m | \u001b[1mINFO    \u001b[0m | \u001b[36mmultiplex_pipeline.core_preparation.channel_scanner\u001b[0m:\u001b[36mscan_channels_from_list\u001b[0m:\u001b[36m83\u001b[0m - \u001b[1m  Channel: p53 <- R:\\CellDive\\BLCA-1B\\BLCA-1B_Final\\BLCA-1B_4.0.4_R000_Cy5_p53-AF647_FINAL_AFR_F.ome.tif\u001b[0m\n",
      "\u001b[32m2025-06-17 15:40:50.321\u001b[0m | \u001b[1mINFO    \u001b[0m | \u001b[36mmultiplex_pipeline.core_preparation.channel_scanner\u001b[0m:\u001b[36mscan_channels_from_list\u001b[0m:\u001b[36m83\u001b[0m - \u001b[1m  Channel: p65 <- R:\\CellDive\\BLCA-1B\\BLCA-1B_Final\\BLCA-1B_28.0.4_R000_Cy3_p65-AF555_FINAL_AFR_F.ome.tif\u001b[0m\n",
      "\u001b[32m2025-06-17 15:40:50.322\u001b[0m | \u001b[1mINFO    \u001b[0m | \u001b[36mmultiplex_pipeline.core_preparation.channel_scanner\u001b[0m:\u001b[36mscan_channels_from_list\u001b[0m:\u001b[36m83\u001b[0m - \u001b[1m  Channel: pAKT <- R:\\CellDive\\BLCA-1B\\BLCA-1B_Final\\BLCA-1B_17.0.4_R000_Cy5_pAKT-AF647_FINAL_AFR_F.ome.tif\u001b[0m\n",
      "\u001b[32m2025-06-17 15:40:50.323\u001b[0m | \u001b[1mINFO    \u001b[0m | \u001b[36mmultiplex_pipeline.core_preparation.channel_scanner\u001b[0m:\u001b[36mscan_channels_from_list\u001b[0m:\u001b[36m83\u001b[0m - \u001b[1m  Channel: pATR <- R:\\CellDive\\BLCA-1B\\BLCA-1B_Final\\BLCA-1B_20.0.4_R000_Cy7_pATR-AF750_FINAL_AFR_F.ome.tif\u001b[0m\n",
      "\u001b[32m2025-06-17 15:40:50.323\u001b[0m | \u001b[1mINFO    \u001b[0m | \u001b[36mmultiplex_pipeline.core_preparation.channel_scanner\u001b[0m:\u001b[36mscan_channels_from_list\u001b[0m:\u001b[36m83\u001b[0m - \u001b[1m  Channel: pCK26 <- R:\\CellDive\\BLCA-1B\\BLCA-1B_Final\\BLCA-1B_9.0.4_R000_Cy7_pCK26-AF750_FINAL_AFR_F.ome.tif\u001b[0m\n",
      "\u001b[32m2025-06-17 15:40:50.324\u001b[0m | \u001b[1mINFO    \u001b[0m | \u001b[36mmultiplex_pipeline.core_preparation.channel_scanner\u001b[0m:\u001b[36mscan_channels_from_list\u001b[0m:\u001b[36m83\u001b[0m - \u001b[1m  Channel: PCNA <- R:\\CellDive\\BLCA-1B\\BLCA-1B_Final\\BLCA-1B_6.0.4_R000_Cy5_PCNA-AF647_FINAL_AFR_F.ome.tif\u001b[0m\n",
      "\u001b[32m2025-06-17 15:40:50.326\u001b[0m | \u001b[1mINFO    \u001b[0m | \u001b[36mmultiplex_pipeline.core_preparation.channel_scanner\u001b[0m:\u001b[36mscan_channels_from_list\u001b[0m:\u001b[36m83\u001b[0m - \u001b[1m  Channel: PD-1 <- R:\\CellDive\\BLCA-1B\\BLCA-1B_Final\\BLCA-1B_14.0.4_R000_Cy3_PD-1-AF555_FINAL_AFR_F.ome.tif\u001b[0m\n",
      "\u001b[32m2025-06-17 15:40:50.327\u001b[0m | \u001b[1mINFO    \u001b[0m | \u001b[36mmultiplex_pipeline.core_preparation.channel_scanner\u001b[0m:\u001b[36mscan_channels_from_list\u001b[0m:\u001b[36m83\u001b[0m - \u001b[1m  Channel: PDL1 <- R:\\CellDive\\BLCA-1B\\BLCA-1B_Final\\BLCA-1B_10.0.4_R000_Cy7_PDL1-AF750_FINAL_AFR_F.ome.tif\u001b[0m\n",
      "\u001b[32m2025-06-17 15:40:50.328\u001b[0m | \u001b[1mINFO    \u001b[0m | \u001b[36mmultiplex_pipeline.core_preparation.channel_scanner\u001b[0m:\u001b[36mscan_channels_from_list\u001b[0m:\u001b[36m83\u001b[0m - \u001b[1m  Channel: pERK <- R:\\CellDive\\BLCA-1B\\BLCA-1B_Final\\BLCA-1B_16.0.4_R000_Cy5_pERK-AF647_FINAL_AFR_F.ome.tif\u001b[0m\n",
      "\u001b[32m2025-06-17 15:40:50.329\u001b[0m | \u001b[1mINFO    \u001b[0m | \u001b[36mmultiplex_pipeline.core_preparation.channel_scanner\u001b[0m:\u001b[36mscan_channels_from_list\u001b[0m:\u001b[36m83\u001b[0m - \u001b[1m  Channel: pH2AX <- R:\\CellDive\\BLCA-1B\\BLCA-1B_Final\\BLCA-1B_1.0.4_R000_Cy3_pH2AX-AF555_FINAL_AFR_F.ome.tif\u001b[0m\n",
      "\u001b[32m2025-06-17 15:40:50.330\u001b[0m | \u001b[1mINFO    \u001b[0m | \u001b[36mmultiplex_pipeline.core_preparation.channel_scanner\u001b[0m:\u001b[36mscan_channels_from_list\u001b[0m:\u001b[36m83\u001b[0m - \u001b[1m  Channel: PH3 <- R:\\CellDive\\BLCA-1B\\BLCA-1B_Final\\BLCA-1B_13.0.4_R000_Cy7_PH3-AF750_FINAL_AFR_F.ome.tif\u001b[0m\n",
      "\u001b[32m2025-06-17 15:40:50.331\u001b[0m | \u001b[1mINFO    \u001b[0m | \u001b[36mmultiplex_pipeline.core_preparation.channel_scanner\u001b[0m:\u001b[36mscan_channels_from_list\u001b[0m:\u001b[36m83\u001b[0m - \u001b[1m  Channel: Plk1 <- R:\\CellDive\\BLCA-1B\\BLCA-1B_Final\\BLCA-1B_6.0.4_R000_FITC_Plk1-AF488_FINAL_AFR_F.ome.tif\u001b[0m\n",
      "\u001b[32m2025-06-17 15:40:50.332\u001b[0m | \u001b[1mINFO    \u001b[0m | \u001b[36mmultiplex_pipeline.core_preparation.channel_scanner\u001b[0m:\u001b[36mscan_channels_from_list\u001b[0m:\u001b[36m83\u001b[0m - \u001b[1m  Channel: PML <- R:\\CellDive\\BLCA-1B\\BLCA-1B_Final\\BLCA-1B_24.0.4_R000_Cy5_PML-AF647_FINAL_AFR_F.ome.tif\u001b[0m\n",
      "\u001b[32m2025-06-17 15:40:50.333\u001b[0m | \u001b[1mINFO    \u001b[0m | \u001b[36mmultiplex_pipeline.core_preparation.channel_scanner\u001b[0m:\u001b[36mscan_channels_from_list\u001b[0m:\u001b[36m83\u001b[0m - \u001b[1m  Channel: pRB <- R:\\CellDive\\BLCA-1B\\BLCA-1B_Final\\BLCA-1B_8.0.4_R000_Cy5_pRB-AF647_FINAL_AFR_F.ome.tif\u001b[0m\n",
      "\u001b[32m2025-06-17 15:40:50.334\u001b[0m | \u001b[1mINFO    \u001b[0m | \u001b[36mmultiplex_pipeline.core_preparation.channel_scanner\u001b[0m:\u001b[36mscan_channels_from_list\u001b[0m:\u001b[36m83\u001b[0m - \u001b[1m  Channel: ProgRc <- R:\\CellDive\\BLCA-1B\\BLCA-1B_Final\\BLCA-1B_26.0.4_R000_Cy7_ProgRc-AF750_FINAL_AFR_F.ome.tif\u001b[0m\n",
      "\u001b[32m2025-06-17 15:40:50.336\u001b[0m | \u001b[1mINFO    \u001b[0m | \u001b[36mmultiplex_pipeline.core_preparation.channel_scanner\u001b[0m:\u001b[36mscan_channels_from_list\u001b[0m:\u001b[36m83\u001b[0m - \u001b[1m  Channel: pS6 <- R:\\CellDive\\BLCA-1B\\BLCA-1B_Final\\BLCA-1B_9.0.4_R000_Cy3_pS6-AF555_FINAL_AFR_F.ome.tif\u001b[0m\n",
      "\u001b[32m2025-06-17 15:40:50.337\u001b[0m | \u001b[1mINFO    \u001b[0m | \u001b[36mmultiplex_pipeline.core_preparation.channel_scanner\u001b[0m:\u001b[36mscan_channels_from_list\u001b[0m:\u001b[36m83\u001b[0m - \u001b[1m  Channel: RB <- R:\\CellDive\\BLCA-1B\\BLCA-1B_Final\\BLCA-1B_3.0.4_R000_Cy7_RB-AF750_FINAL_AFR_F.ome.tif\u001b[0m\n",
      "\u001b[32m2025-06-17 15:40:50.337\u001b[0m | \u001b[1mINFO    \u001b[0m | \u001b[36mmultiplex_pipeline.core_preparation.channel_scanner\u001b[0m:\u001b[36mscan_channels_from_list\u001b[0m:\u001b[36m83\u001b[0m - \u001b[1m  Channel: SKP2 <- R:\\CellDive\\BLCA-1B\\BLCA-1B_Final\\BLCA-1B_11.0.4_R000_Cy5_SKP2-AF647_FINAL_AFR_F.ome.tif\u001b[0m\n",
      "\u001b[32m2025-06-17 15:40:50.339\u001b[0m | \u001b[1mINFO    \u001b[0m | \u001b[36mmultiplex_pipeline.core_preparation.channel_scanner\u001b[0m:\u001b[36mscan_channels_from_list\u001b[0m:\u001b[36m83\u001b[0m - \u001b[1m  Channel: SMA <- R:\\CellDive\\BLCA-1B\\BLCA-1B_Final\\BLCA-1B_21.0.4_R000_Cy3_SMA-Cy3_FINAL_AFR_F.ome.tif\u001b[0m\n",
      "\u001b[32m2025-06-17 15:40:50.340\u001b[0m | \u001b[1mINFO    \u001b[0m | \u001b[36mmultiplex_pipeline.core_preparation.channel_scanner\u001b[0m:\u001b[36mscan_channels_from_list\u001b[0m:\u001b[36m83\u001b[0m - \u001b[1m  Channel: Snail1 <- R:\\CellDive\\BLCA-1B\\BLCA-1B_Final\\BLCA-1B_14.0.4_R000_FITC_Snail1-AF488_FINAL_AFR_F.ome.tif\u001b[0m\n",
      "\u001b[32m2025-06-17 15:40:50.341\u001b[0m | \u001b[1mINFO    \u001b[0m | \u001b[36mmultiplex_pipeline.core_preparation.channel_scanner\u001b[0m:\u001b[36mscan_channels_from_list\u001b[0m:\u001b[36m83\u001b[0m - \u001b[1m  Channel: TGFb1 <- R:\\CellDive\\BLCA-1B\\BLCA-1B_Final\\BLCA-1B_18.0.4_R000_Cy5_TGFb1-AF647_FINAL_AFR_F.ome.tif\u001b[0m\n",
      "\u001b[32m2025-06-17 15:40:50.342\u001b[0m | \u001b[1mINFO    \u001b[0m | \u001b[36mmultiplex_pipeline.core_preparation.channel_scanner\u001b[0m:\u001b[36mscan_channels_from_list\u001b[0m:\u001b[36m83\u001b[0m - \u001b[1m  Channel: TNFa <- R:\\CellDive\\BLCA-1B\\BLCA-1B_Final\\BLCA-1B_13.0.4_R000_FITC_TNFa-AF488_FINAL_AFR_F.ome.tif\u001b[0m\n",
      "\u001b[32m2025-06-17 15:40:50.343\u001b[0m | \u001b[1mINFO    \u001b[0m | \u001b[36mmultiplex_pipeline.core_preparation.channel_scanner\u001b[0m:\u001b[36mscan_channels_from_list\u001b[0m:\u001b[36m83\u001b[0m - \u001b[1m  Channel: VIM <- R:\\CellDive\\BLCA-1B\\BLCA-1B_Final\\BLCA-1B_7.0.4_R000_FITC_VIM-AF488_FINAL_AFR_F.ome.tif\u001b[0m\n",
      "\u001b[32m2025-06-17 15:40:50.344\u001b[0m | \u001b[1mINFO    \u001b[0m | \u001b[36mmultiplex_pipeline.core_preparation.channel_scanner\u001b[0m:\u001b[36mscan_channels_from_list\u001b[0m:\u001b[36m83\u001b[0m - \u001b[1m  Channel: wee1 <- R:\\CellDive\\BLCA-1B\\BLCA-1B_Final\\BLCA-1B_7.0.4_R000_Cy3_wee1-AF555_FINAL_AFR_F.ome.tif\u001b[0m\n",
      "\u001b[32m2025-06-17 15:40:50.345\u001b[0m | \u001b[1mINFO    \u001b[0m | \u001b[36mmultiplex_pipeline.core_preparation.channel_scanner\u001b[0m:\u001b[36mscan_channels_from_list\u001b[0m:\u001b[36m83\u001b[0m - \u001b[1m  Channel: YAP1 <- R:\\CellDive\\BLCA-1B\\BLCA-1B_Final\\BLCA-1B_8.0.4_R000_Cy3_YAP1-AF555_FINAL_AFR_F.ome.tif\u001b[0m\n",
      "\u001b[32m2025-06-17 15:40:50.345\u001b[0m | \u001b[1mINFO    \u001b[0m | \u001b[36mmultiplex_pipeline.core_preparation.channel_scanner\u001b[0m:\u001b[36mscan_channels_from_list\u001b[0m:\u001b[36m86\u001b[0m - \u001b[1mOME-TIFF files not used in final channel selection:\u001b[0m\n",
      "\u001b[32m2025-06-17 15:40:50.347\u001b[0m | \u001b[1mINFO    \u001b[0m | \u001b[36mmultiplex_pipeline.core_preparation.channel_scanner\u001b[0m:\u001b[36mscan_channels_from_list\u001b[0m:\u001b[36m88\u001b[0m - \u001b[1m  Unused: Channel 001_pRB <- R:\\CellDive\\BLCA-1B\\BLCA-1B_Final\\BLCA-1B_1.0.4_R000_Cy5_pRB-AF647_FINAL_AFR_F.ome.tif\u001b[0m\n",
      "\u001b[32m2025-06-17 15:40:50.347\u001b[0m | \u001b[1mINFO    \u001b[0m | \u001b[36mmultiplex_pipeline.core_preparation.channel_scanner\u001b[0m:\u001b[36mscan_channels_from_list\u001b[0m:\u001b[36m88\u001b[0m - \u001b[1m  Unused: Channel 002_DAPI <- R:\\CellDive\\BLCA-1B\\BLCA-1B_Final\\BLCA-1B_2.0.4_R000_DAPI__FINAL_F.ome.tif\u001b[0m\n",
      "\u001b[32m2025-06-17 15:40:50.348\u001b[0m | \u001b[1mINFO    \u001b[0m | \u001b[36mmultiplex_pipeline.core_preparation.channel_scanner\u001b[0m:\u001b[36mscan_channels_from_list\u001b[0m:\u001b[36m88\u001b[0m - \u001b[1m  Unused: Channel 003_DAPI <- R:\\CellDive\\BLCA-1B\\BLCA-1B_Final\\BLCA-1B_3.0.4_R000_DAPI__FINAL_F.ome.tif\u001b[0m\n",
      "\u001b[32m2025-06-17 15:40:50.349\u001b[0m | \u001b[1mINFO    \u001b[0m | \u001b[36mmultiplex_pipeline.core_preparation.channel_scanner\u001b[0m:\u001b[36mscan_channels_from_list\u001b[0m:\u001b[36m88\u001b[0m - \u001b[1m  Unused: Channel 004_DAPI <- R:\\CellDive\\BLCA-1B\\BLCA-1B_Final\\BLCA-1B_4.0.4_R000_DAPI__FINAL_F.ome.tif\u001b[0m\n",
      "\u001b[32m2025-06-17 15:40:50.350\u001b[0m | \u001b[1mINFO    \u001b[0m | \u001b[36mmultiplex_pipeline.core_preparation.channel_scanner\u001b[0m:\u001b[36mscan_channels_from_list\u001b[0m:\u001b[36m88\u001b[0m - \u001b[1m  Unused: Channel 005_DAPI <- R:\\CellDive\\BLCA-1B\\BLCA-1B_Final\\BLCA-1B_5.0.4_R000_DAPI__FINAL_F.ome.tif\u001b[0m\n",
      "\u001b[32m2025-06-17 15:40:50.351\u001b[0m | \u001b[1mINFO    \u001b[0m | \u001b[36mmultiplex_pipeline.core_preparation.channel_scanner\u001b[0m:\u001b[36mscan_channels_from_list\u001b[0m:\u001b[36m88\u001b[0m - \u001b[1m  Unused: Channel 005_p27 <- R:\\CellDive\\BLCA-1B\\BLCA-1B_Final\\BLCA-1B_5.0.4_R000_Cy7_p27-AF750_FINAL_AFR_F.ome.tif\u001b[0m\n",
      "\u001b[32m2025-06-17 15:40:50.352\u001b[0m | \u001b[1mINFO    \u001b[0m | \u001b[36mmultiplex_pipeline.core_preparation.channel_scanner\u001b[0m:\u001b[36mscan_channels_from_list\u001b[0m:\u001b[36m88\u001b[0m - \u001b[1m  Unused: Channel 005_p65 <- R:\\CellDive\\BLCA-1B\\BLCA-1B_Final\\BLCA-1B_5.0.4_R000_FITC_p65-AF488_FINAL_AFR_F.ome.tif\u001b[0m\n",
      "\u001b[32m2025-06-17 15:40:50.352\u001b[0m | \u001b[1mINFO    \u001b[0m | \u001b[36mmultiplex_pipeline.core_preparation.channel_scanner\u001b[0m:\u001b[36mscan_channels_from_list\u001b[0m:\u001b[36m88\u001b[0m - \u001b[1m  Unused: Channel 006_DAPI <- R:\\CellDive\\BLCA-1B\\BLCA-1B_Final\\BLCA-1B_6.0.4_R000_DAPI__FINAL_F.ome.tif\u001b[0m\n",
      "\u001b[32m2025-06-17 15:40:50.353\u001b[0m | \u001b[1mINFO    \u001b[0m | \u001b[36mmultiplex_pipeline.core_preparation.channel_scanner\u001b[0m:\u001b[36mscan_channels_from_list\u001b[0m:\u001b[36m88\u001b[0m - \u001b[1m  Unused: Channel 007_DAPI <- R:\\CellDive\\BLCA-1B\\BLCA-1B_Final\\BLCA-1B_7.0.4_R000_DAPI__FINAL_F.ome.tif\u001b[0m\n",
      "\u001b[32m2025-06-17 15:40:50.353\u001b[0m | \u001b[1mINFO    \u001b[0m | \u001b[36mmultiplex_pipeline.core_preparation.channel_scanner\u001b[0m:\u001b[36mscan_channels_from_list\u001b[0m:\u001b[36m88\u001b[0m - \u001b[1m  Unused: Channel 008_DAPI <- R:\\CellDive\\BLCA-1B\\BLCA-1B_Final\\BLCA-1B_8.0.4_R000_DAPI__FINAL_F.ome.tif\u001b[0m\n",
      "\u001b[32m2025-06-17 15:40:50.354\u001b[0m | \u001b[1mINFO    \u001b[0m | \u001b[36mmultiplex_pipeline.core_preparation.channel_scanner\u001b[0m:\u001b[36mscan_channels_from_list\u001b[0m:\u001b[36m88\u001b[0m - \u001b[1m  Unused: Channel 008_ECad <- R:\\CellDive\\BLCA-1B\\BLCA-1B_Final\\BLCA-1B_8.0.4_R000_FITC_ECad-AF488_FINAL_AFR_F.ome.tif\u001b[0m\n",
      "\u001b[32m2025-06-17 15:40:50.355\u001b[0m | \u001b[1mINFO    \u001b[0m | \u001b[36mmultiplex_pipeline.core_preparation.channel_scanner\u001b[0m:\u001b[36mscan_channels_from_list\u001b[0m:\u001b[36m88\u001b[0m - \u001b[1m  Unused: Channel 009_CD45RO <- R:\\CellDive\\BLCA-1B\\BLCA-1B_Final\\BLCA-1B_9.0.4_R000_FITC_CD45RO-AF488_FINAL_AFR_F.ome.tif\u001b[0m\n",
      "\u001b[32m2025-06-17 15:40:50.356\u001b[0m | \u001b[1mINFO    \u001b[0m | \u001b[36mmultiplex_pipeline.core_preparation.channel_scanner\u001b[0m:\u001b[36mscan_channels_from_list\u001b[0m:\u001b[36m88\u001b[0m - \u001b[1m  Unused: Channel 009_DAPI <- R:\\CellDive\\BLCA-1B\\BLCA-1B_Final\\BLCA-1B_9.0.4_R000_DAPI__FINAL_F.ome.tif\u001b[0m\n",
      "\u001b[32m2025-06-17 15:40:50.356\u001b[0m | \u001b[1mINFO    \u001b[0m | \u001b[36mmultiplex_pipeline.core_preparation.channel_scanner\u001b[0m:\u001b[36mscan_channels_from_list\u001b[0m:\u001b[36m88\u001b[0m - \u001b[1m  Unused: Channel 010_DAPI <- R:\\CellDive\\BLCA-1B\\BLCA-1B_Final\\BLCA-1B_10.0.4_R000_DAPI__FINAL_F.ome.tif\u001b[0m\n",
      "\u001b[32m2025-06-17 15:40:50.357\u001b[0m | \u001b[1mINFO    \u001b[0m | \u001b[36mmultiplex_pipeline.core_preparation.channel_scanner\u001b[0m:\u001b[36mscan_channels_from_list\u001b[0m:\u001b[36m88\u001b[0m - \u001b[1m  Unused: Channel 011_DAPI <- R:\\CellDive\\BLCA-1B\\BLCA-1B_Final\\BLCA-1B_11.0.4_R000_DAPI__FINAL_F.ome.tif\u001b[0m\n",
      "\u001b[32m2025-06-17 15:40:50.358\u001b[0m | \u001b[1mINFO    \u001b[0m | \u001b[36mmultiplex_pipeline.core_preparation.channel_scanner\u001b[0m:\u001b[36mscan_channels_from_list\u001b[0m:\u001b[36m88\u001b[0m - \u001b[1m  Unused: Channel 012_DAPI <- R:\\CellDive\\BLCA-1B\\BLCA-1B_Final\\BLCA-1B_12.0.4_R000_DAPI__FINAL_F.ome.tif\u001b[0m\n",
      "\u001b[32m2025-06-17 15:40:50.359\u001b[0m | \u001b[1mINFO    \u001b[0m | \u001b[36mmultiplex_pipeline.core_preparation.channel_scanner\u001b[0m:\u001b[36mscan_channels_from_list\u001b[0m:\u001b[36m88\u001b[0m - \u001b[1m  Unused: Channel 013_CD68 <- R:\\CellDive\\BLCA-1B\\BLCA-1B_Final\\BLCA-1B_13.0.4_R000_Cy3_CD68-AF555_FINAL_AFR_F.ome.tif\u001b[0m\n",
      "\u001b[32m2025-06-17 15:40:50.360\u001b[0m | \u001b[1mINFO    \u001b[0m | \u001b[36mmultiplex_pipeline.core_preparation.channel_scanner\u001b[0m:\u001b[36mscan_channels_from_list\u001b[0m:\u001b[36m88\u001b[0m - \u001b[1m  Unused: Channel 013_DAPI <- R:\\CellDive\\BLCA-1B\\BLCA-1B_Final\\BLCA-1B_13.0.4_R000_DAPI__FINAL_F.ome.tif\u001b[0m\n",
      "\u001b[32m2025-06-17 15:40:50.361\u001b[0m | \u001b[1mINFO    \u001b[0m | \u001b[36mmultiplex_pipeline.core_preparation.channel_scanner\u001b[0m:\u001b[36mscan_channels_from_list\u001b[0m:\u001b[36m88\u001b[0m - \u001b[1m  Unused: Channel 014_CD4 <- R:\\CellDive\\BLCA-1B\\BLCA-1B_Final\\BLCA-1B_14.0.4_R000_Cy5_CD4-AF647_FINAL_AFR_F.ome.tif\u001b[0m\n",
      "\u001b[32m2025-06-17 15:40:50.362\u001b[0m | \u001b[1mINFO    \u001b[0m | \u001b[36mmultiplex_pipeline.core_preparation.channel_scanner\u001b[0m:\u001b[36mscan_channels_from_list\u001b[0m:\u001b[36m88\u001b[0m - \u001b[1m  Unused: Channel 014_DAPI <- R:\\CellDive\\BLCA-1B\\BLCA-1B_Final\\BLCA-1B_14.0.4_R000_DAPI__FINAL_F.ome.tif\u001b[0m\n",
      "\u001b[32m2025-06-17 15:40:50.363\u001b[0m | \u001b[1mINFO    \u001b[0m | \u001b[36mmultiplex_pipeline.core_preparation.channel_scanner\u001b[0m:\u001b[36mscan_channels_from_list\u001b[0m:\u001b[36m88\u001b[0m - \u001b[1m  Unused: Channel 014_FOXP3 <- R:\\CellDive\\BLCA-1B\\BLCA-1B_Final\\BLCA-1B_14.0.4_R000_Cy7_FOXP3-AF750_FINAL_AFR_F.ome.tif\u001b[0m\n",
      "\u001b[32m2025-06-17 15:40:50.364\u001b[0m | \u001b[1mINFO    \u001b[0m | \u001b[36mmultiplex_pipeline.core_preparation.channel_scanner\u001b[0m:\u001b[36mscan_channels_from_list\u001b[0m:\u001b[36m88\u001b[0m - \u001b[1m  Unused: Channel 015_DAPI <- R:\\CellDive\\BLCA-1B\\BLCA-1B_Final\\BLCA-1B_15.0.4_R000_DAPI__FINAL_F.ome.tif\u001b[0m\n",
      "\u001b[32m2025-06-17 15:40:50.365\u001b[0m | \u001b[1mINFO    \u001b[0m | \u001b[36mmultiplex_pipeline.core_preparation.channel_scanner\u001b[0m:\u001b[36mscan_channels_from_list\u001b[0m:\u001b[36m88\u001b[0m - \u001b[1m  Unused: Channel 016_DAPI <- R:\\CellDive\\BLCA-1B\\BLCA-1B_Final\\BLCA-1B_16.0.4_R000_DAPI__FINAL_F.ome.tif\u001b[0m\n",
      "\u001b[32m2025-06-17 15:40:50.366\u001b[0m | \u001b[1mINFO    \u001b[0m | \u001b[36mmultiplex_pipeline.core_preparation.channel_scanner\u001b[0m:\u001b[36mscan_channels_from_list\u001b[0m:\u001b[36m88\u001b[0m - \u001b[1m  Unused: Channel 017_DAPI <- R:\\CellDive\\BLCA-1B\\BLCA-1B_Final\\BLCA-1B_17.0.4_R000_DAPI__FINAL_F.ome.tif\u001b[0m\n",
      "\u001b[32m2025-06-17 15:40:50.367\u001b[0m | \u001b[1mINFO    \u001b[0m | \u001b[36mmultiplex_pipeline.core_preparation.channel_scanner\u001b[0m:\u001b[36mscan_channels_from_list\u001b[0m:\u001b[36m88\u001b[0m - \u001b[1m  Unused: Channel 018_DAPI <- R:\\CellDive\\BLCA-1B\\BLCA-1B_Final\\BLCA-1B_18.0.4_R000_DAPI__FINAL_F.ome.tif\u001b[0m\n",
      "\u001b[32m2025-06-17 15:40:50.368\u001b[0m | \u001b[1mINFO    \u001b[0m | \u001b[36mmultiplex_pipeline.core_preparation.channel_scanner\u001b[0m:\u001b[36mscan_channels_from_list\u001b[0m:\u001b[36m88\u001b[0m - \u001b[1m  Unused: Channel 019_DAPI <- R:\\CellDive\\BLCA-1B\\BLCA-1B_Final\\BLCA-1B_19.0.4_R000_DAPI__FINAL_F.ome.tif\u001b[0m\n",
      "\u001b[32m2025-06-17 15:40:50.369\u001b[0m | \u001b[1mINFO    \u001b[0m | \u001b[36mmultiplex_pipeline.core_preparation.channel_scanner\u001b[0m:\u001b[36mscan_channels_from_list\u001b[0m:\u001b[36m88\u001b[0m - \u001b[1m  Unused: Channel 020_DAPI <- R:\\CellDive\\BLCA-1B\\BLCA-1B_Final\\BLCA-1B_20.0.4_R000_DAPI__FINAL_F.ome.tif\u001b[0m\n",
      "\u001b[32m2025-06-17 15:40:50.370\u001b[0m | \u001b[1mINFO    \u001b[0m | \u001b[36mmultiplex_pipeline.core_preparation.channel_scanner\u001b[0m:\u001b[36mscan_channels_from_list\u001b[0m:\u001b[36m88\u001b[0m - \u001b[1m  Unused: Channel 021_DAPI <- R:\\CellDive\\BLCA-1B\\BLCA-1B_Final\\BLCA-1B_21.0.4_R000_DAPI__FINAL_F.ome.tif\u001b[0m\n",
      "\u001b[32m2025-06-17 15:40:50.371\u001b[0m | \u001b[1mINFO    \u001b[0m | \u001b[36mmultiplex_pipeline.core_preparation.channel_scanner\u001b[0m:\u001b[36mscan_channels_from_list\u001b[0m:\u001b[36m88\u001b[0m - \u001b[1m  Unused: Channel 022_DAPI <- R:\\CellDive\\BLCA-1B\\BLCA-1B_Final\\BLCA-1B_22.0.4_R000_DAPI__FINAL_F.ome.tif\u001b[0m\n",
      "\u001b[32m2025-06-17 15:40:50.372\u001b[0m | \u001b[1mINFO    \u001b[0m | \u001b[36mmultiplex_pipeline.core_preparation.channel_scanner\u001b[0m:\u001b[36mscan_channels_from_list\u001b[0m:\u001b[36m88\u001b[0m - \u001b[1m  Unused: Channel 023_DAPI <- R:\\CellDive\\BLCA-1B\\BLCA-1B_Final\\BLCA-1B_23.0.4_R000_DAPI__FINAL_F.ome.tif\u001b[0m\n",
      "\u001b[32m2025-06-17 15:40:50.373\u001b[0m | \u001b[1mINFO    \u001b[0m | \u001b[36mmultiplex_pipeline.core_preparation.channel_scanner\u001b[0m:\u001b[36mscan_channels_from_list\u001b[0m:\u001b[36m88\u001b[0m - \u001b[1m  Unused: Channel 024_DAPI <- R:\\CellDive\\BLCA-1B\\BLCA-1B_Final\\BLCA-1B_24.0.4_R000_DAPI__FINAL_F.ome.tif\u001b[0m\n",
      "\u001b[32m2025-06-17 15:40:50.374\u001b[0m | \u001b[1mINFO    \u001b[0m | \u001b[36mmultiplex_pipeline.core_preparation.channel_scanner\u001b[0m:\u001b[36mscan_channels_from_list\u001b[0m:\u001b[36m88\u001b[0m - \u001b[1m  Unused: Channel 025_CD86 <- R:\\CellDive\\BLCA-1B\\BLCA-1B_Final\\BLCA-1B_25.0.4_R000_Cy5_CD86-AF647_FINAL_AFR_F.ome.tif\u001b[0m\n",
      "\u001b[32m2025-06-17 15:40:50.375\u001b[0m | \u001b[1mINFO    \u001b[0m | \u001b[36mmultiplex_pipeline.core_preparation.channel_scanner\u001b[0m:\u001b[36mscan_channels_from_list\u001b[0m:\u001b[36m88\u001b[0m - \u001b[1m  Unused: Channel 025_DAPI <- R:\\CellDive\\BLCA-1B\\BLCA-1B_Final\\BLCA-1B_25.0.4_R000_DAPI__FINAL_F.ome.tif\u001b[0m\n",
      "\u001b[32m2025-06-17 15:40:50.376\u001b[0m | \u001b[1mINFO    \u001b[0m | \u001b[36mmultiplex_pipeline.core_preparation.channel_scanner\u001b[0m:\u001b[36mscan_channels_from_list\u001b[0m:\u001b[36m88\u001b[0m - \u001b[1m  Unused: Channel 026_DAPI <- R:\\CellDive\\BLCA-1B\\BLCA-1B_Final\\BLCA-1B_26.0.4_R000_DAPI__FINAL_F.ome.tif\u001b[0m\n",
      "\u001b[32m2025-06-17 15:40:50.377\u001b[0m | \u001b[1mINFO    \u001b[0m | \u001b[36mmultiplex_pipeline.core_preparation.channel_scanner\u001b[0m:\u001b[36mscan_channels_from_list\u001b[0m:\u001b[36m88\u001b[0m - \u001b[1m  Unused: Channel 027_CD4 <- R:\\CellDive\\BLCA-1B\\BLCA-1B_Final\\BLCA-1B_27.0.4_R000_Cy5_CD4-AF647_FINAL_AFR_F.ome.tif\u001b[0m\n",
      "\u001b[32m2025-06-17 15:40:50.378\u001b[0m | \u001b[1mINFO    \u001b[0m | \u001b[36mmultiplex_pipeline.core_preparation.channel_scanner\u001b[0m:\u001b[36mscan_channels_from_list\u001b[0m:\u001b[36m88\u001b[0m - \u001b[1m  Unused: Channel 027_DAPI <- R:\\CellDive\\BLCA-1B\\BLCA-1B_Final\\BLCA-1B_27.0.4_R000_DAPI__FINAL_F.ome.tif\u001b[0m\n",
      "\u001b[32m2025-06-17 15:40:50.379\u001b[0m | \u001b[1mINFO    \u001b[0m | \u001b[36mmultiplex_pipeline.core_preparation.channel_scanner\u001b[0m:\u001b[36mscan_channels_from_list\u001b[0m:\u001b[36m88\u001b[0m - \u001b[1m  Unused: Channel 028_DAPI <- R:\\CellDive\\BLCA-1B\\BLCA-1B_Final\\BLCA-1B_28.0.4_R000_DAPI__FINAL_F.ome.tif\u001b[0m\n",
      "\u001b[32m2025-06-17 15:40:50.380\u001b[0m | \u001b[1mINFO    \u001b[0m | \u001b[36mmultiplex_pipeline.core_preparation.channel_scanner\u001b[0m:\u001b[36mscan_channels_from_list\u001b[0m:\u001b[36m88\u001b[0m - \u001b[1m  Unused: Channel 029_DAPI <- R:\\CellDive\\BLCA-1B\\BLCA-1B_Final\\BLCA-1B_29.0.4_R000_DAPI__FINAL_F.ome.tif\u001b[0m\n"
     ]
    }
   ],
   "source": [
    "channel_map = discover_channels(Path(input_dir), include_channels=[], exclude_channels=[])\n",
    "#print(channel_map)"
   ]
  },
  {
   "cell_type": "code",
   "execution_count": 7,
   "metadata": {},
   "outputs": [
    {
     "data": {
      "text/plain": [
       "{'DAPI': 'R:\\\\CellDive\\\\BLCA-1B\\\\BLCA-1B_Final\\\\BLCA-1B_1.0.4_R000_DAPI__FINAL_F.ome.tif',\n",
       " 'CD3': 'R:\\\\CellDive\\\\BLCA-1B\\\\BLCA-1B_Final\\\\BLCA-1B_11.0.4_R000_Cy3_CD3-AF555_FINAL_AFR_F.ome.tif'}"
      ]
     },
     "execution_count": 7,
     "metadata": {},
     "output_type": "execute_result"
    }
   ],
   "source": [
    "selected_keys = [\"DAPI\", \"CD3\"]\n",
    "short_map = {k: channel_map[k] for k in selected_keys if k in channel_map}\n",
    "short_map"
   ]
  },
  {
   "cell_type": "code",
   "execution_count": 8,
   "metadata": {},
   "outputs": [
    {
     "name": "stderr",
     "output_type": "stream",
     "text": [
      "\u001b[32m2025-06-17 15:40:52.178\u001b[0m | \u001b[1mINFO    \u001b[0m | \u001b[36mmultiplex_pipeline.core_preparation.controller\u001b[0m:\u001b[36mrun\u001b[0m:\u001b[36m46\u001b[0m - \u001b[1mStarting controller run loop...\u001b[0m\n",
      "\u001b[32m2025-06-17 15:40:56.214\u001b[0m | \u001b[34m\u001b[1mDEBUG   \u001b[0m | \u001b[36mmultiplex_pipeline.core_preparation.controller\u001b[0m:\u001b[36mcut_channel\u001b[0m:\u001b[36m79\u001b[0m - \u001b[34m\u001b[1mCut and saved core Core_017, channel DAPI\u001b[0m\n",
      "\u001b[32m2025-06-17 15:40:57.875\u001b[0m | \u001b[34m\u001b[1mDEBUG   \u001b[0m | \u001b[36mmultiplex_pipeline.core_preparation.controller\u001b[0m:\u001b[36mcut_channel\u001b[0m:\u001b[36m79\u001b[0m - \u001b[34m\u001b[1mCut and saved core Core_017, channel CD3\u001b[0m\n",
      "\u001b[32m2025-06-17 15:40:57.885\u001b[0m | \u001b[1mINFO    \u001b[0m | \u001b[36mmultiplex_pipeline.core_preparation.controller\u001b[0m:\u001b[36mtry_assemble_ready_cores\u001b[0m:\u001b[36m84\u001b[0m - \u001b[1mAssembling full core Core_017\u001b[0m\n",
      "\u001b[32m2025-06-17 15:41:02.357\u001b[0m | \u001b[1mINFO    \u001b[0m | \u001b[36mmultiplex_pipeline.core_preparation.assembler\u001b[0m:\u001b[36massemble_core\u001b[0m:\u001b[36m68\u001b[0m - \u001b[1mCore 'Core_017' assembled with channels: ['CD3', 'DAPI']\u001b[0m\n"
     ]
    },
    {
     "name": "stdout",
     "output_type": "stream",
     "text": [
      "\u001b[34mINFO    \u001b[0m The Zarr backing store has been changed from \u001b[3;35mNone\u001b[0m the new file path:                                      \n",
      "         R:\\Wayne\\BLCA\\BLCA-1B_Analysis\\temp\\Core_017.zarr                                                         \n"
     ]
    },
    {
     "name": "stderr",
     "output_type": "stream",
     "text": [
      "\u001b[32m2025-06-17 15:43:07.240\u001b[0m | \u001b[1mINFO    \u001b[0m | \u001b[36mmultiplex_pipeline.core_preparation.controller\u001b[0m:\u001b[36mrun\u001b[0m:\u001b[36m65\u001b[0m - \u001b[1mAll channels processed and cores assembled.\u001b[0m\n"
     ]
    }
   ],
   "source": [
    "strategy = LocalFileStrategy()\n",
    "\n",
    "controller = CorePreparationController(\n",
    "    metadata_df = df.loc[17:17,:],\n",
    "    image_paths = short_map,\n",
    "    temp_dir = temp_dir,\n",
    "    output_dir = output_dir,\n",
    "    file_strategy = strategy,\n",
    "    margin = margin,\n",
    "    mask_value = mask_value,\n",
    "    max_pyramid_levels = max_pyramid_levels,\n",
    ")\n",
    "\n",
    "controller.run()"
   ]
  },
  {
   "cell_type": "markdown",
   "metadata": {},
   "source": [
    "## Files through Globus"
   ]
  },
  {
   "cell_type": "code",
   "execution_count": 9,
   "metadata": {},
   "outputs": [],
   "source": [
    "from multiplex_pipeline.utils.globus_utils import GlobusConfig, create_globus_tc"
   ]
  },
  {
   "cell_type": "code",
   "execution_count": 10,
   "metadata": {},
   "outputs": [],
   "source": [
    "input_globus_dir = '/CellDive/BLCA-1B/BLCA-1B_Final'\n",
    "\n",
    "# make sure that this location is available in your Globus collection\n",
    "output_dir = r'D:\\multiplex_pipeline\\tests'\n",
    "temp_dir = r'D:\\multiplex_pipeline\\tests'"
   ]
  },
  {
   "cell_type": "code",
   "execution_count": 11,
   "metadata": {},
   "outputs": [],
   "source": [
    "# get globus config\n",
    "config_dir = Path(r'D:\\\\globus_config')\n",
    "gc = GlobusConfig.from_config_files(config_dir)\n",
    "tc = create_globus_tc(gc.client_id, gc.transfer_tokens)"
   ]
  },
  {
   "cell_type": "code",
   "execution_count": 12,
   "metadata": {},
   "outputs": [
    {
     "name": "stderr",
     "output_type": "stream",
     "text": [
      "\u001b[32m2025-06-17 15:43:21.504\u001b[0m | \u001b[1mINFO    \u001b[0m | \u001b[36mmultiplex_pipeline.core_preparation.channel_scanner\u001b[0m:\u001b[36mscan_channels_from_list\u001b[0m:\u001b[36m45\u001b[0m - \u001b[1mDiscovered channels before filtering: ['001_pH2AX', '001_pRB', '001_cycD3', '001_DAPI', '001_CDC25C', '010_p38', '010_p16', '010_PDL1', '010_DAPI', '010_CD127', '011_CD3', '011_SKP2', '011_CD45', '011_DAPI', '011_CCR7', '012_CD11C', '012_cMYC', '012_CD20', '012_DAPI', '012_IL-8', '013_CD68', '013_CD69', '013_PH3', '013_DAPI', '013_TNFa', '014_PD-1', '014_CD4', '014_FOXP3', '014_DAPI', '014_Snail1', '015_CD11b', '015_CD8a', '015_NaKATPase', '015_DAPI', '015_Antibody1', '016_CD31', '016_pERK', '016_CD44', '016_DAPI', '017_CD27', '017_pAKT', '017_CDC6', '017_DAPI', '018_GranzymeB', '018_TGFb1', '018_p130', '018_DAPI', '019_CD163', '019_Fibro', '019_p-p130', '019_DAPI', '002_cycA1', '002_cycE1', '002_cycB2', '002_DAPI', '002_cycE2', '020_HLA1', '020_EpCAM', '020_pATR', '020_DAPI', '021_SMA', '021_IL6', '021_53BP1', '021_DAPI', '022_CD19', '022_CD56', '022_DAPI', '023_CD25', '023_CD73', '023_DAPI', '024_PML', '024_HLADR', '024_DAPI', '025_ECad', '025_CD86', '025_p27', '025_DAPI', '025_LaminB1', '026_ERa', '026_HIF1a', '026_ProgRc', '026_DAPI', '026_HER2', '027_CD68', '027_CD4', '027_FOXP3', '027_DAPI', '027_CD45RO', '028_p65', '028_CD86', '028_LAG3', '028_DAPI', '029_CD4', '029_CD62L', '029_Coll3', '029_DAPI', '003_cycD1', '003_Ki67', '003_RB', '003_DAPI', '003_cCASP3', '004_cycA2', '004_p53', '004_E2F1', '004_DAPI', '004_HES1', '005_bCat', '005_CDK6', '005_p27', '005_DAPI', '005_p65', '006_CycB1', '006_PCNA', '006_p-Cdc6', '006_DAPI', '006_Plk1', '007_wee1', '007_CDT1', '007_CDK4', '007_DAPI', '007_VIM', '008_YAP1', '008_pRB', '008_CDK2', '008_DAPI', '008_ECad', '009_pS6', '009_p21', '009_pCK26', '009_DAPI', '009_CD45RO']\u001b[0m\n",
      "\u001b[32m2025-06-17 15:43:21.506\u001b[0m | \u001b[1mINFO    \u001b[0m | \u001b[36mmultiplex_pipeline.core_preparation.channel_scanner\u001b[0m:\u001b[36mscan_channels_from_list\u001b[0m:\u001b[36m81\u001b[0m - \u001b[1mFinal selected channels:\u001b[0m\n",
      "\u001b[32m2025-06-17 15:43:21.509\u001b[0m | \u001b[1mINFO    \u001b[0m | \u001b[36mmultiplex_pipeline.core_preparation.channel_scanner\u001b[0m:\u001b[36mscan_channels_from_list\u001b[0m:\u001b[36m83\u001b[0m - \u001b[1m  Channel: 53BP1 <- /CellDive/BLCA-1B/BLCA-1B_Final/BLCA-1B_21.0.4_R000_Cy7_53BP1-AF750_FINAL_AFR_F.ome.tif\u001b[0m\n",
      "\u001b[32m2025-06-17 15:43:21.511\u001b[0m | \u001b[1mINFO    \u001b[0m | \u001b[36mmultiplex_pipeline.core_preparation.channel_scanner\u001b[0m:\u001b[36mscan_channels_from_list\u001b[0m:\u001b[36m83\u001b[0m - \u001b[1m  Channel: Antibody1 <- /CellDive/BLCA-1B/BLCA-1B_Final/BLCA-1B_15.0.4_R000_FITC_Antibody1_FINAL_AFR_F.ome.tif\u001b[0m\n",
      "\u001b[32m2025-06-17 15:43:21.513\u001b[0m | \u001b[1mINFO    \u001b[0m | \u001b[36mmultiplex_pipeline.core_preparation.channel_scanner\u001b[0m:\u001b[36mscan_channels_from_list\u001b[0m:\u001b[36m83\u001b[0m - \u001b[1m  Channel: bCat <- /CellDive/BLCA-1B/BLCA-1B_Final/BLCA-1B_5.0.4_R000_Cy3_bCat-AF555_FINAL_AFR_F.ome.tif\u001b[0m\n",
      "\u001b[32m2025-06-17 15:43:21.516\u001b[0m | \u001b[1mINFO    \u001b[0m | \u001b[36mmultiplex_pipeline.core_preparation.channel_scanner\u001b[0m:\u001b[36mscan_channels_from_list\u001b[0m:\u001b[36m83\u001b[0m - \u001b[1m  Channel: cCASP3 <- /CellDive/BLCA-1B/BLCA-1B_Final/BLCA-1B_3.0.4_R000_FITC_cCASP3-AF488_FINAL_AFR_F.ome.tif\u001b[0m\n",
      "\u001b[32m2025-06-17 15:43:21.518\u001b[0m | \u001b[1mINFO    \u001b[0m | \u001b[36mmultiplex_pipeline.core_preparation.channel_scanner\u001b[0m:\u001b[36mscan_channels_from_list\u001b[0m:\u001b[36m83\u001b[0m - \u001b[1m  Channel: CCR7 <- /CellDive/BLCA-1B/BLCA-1B_Final/BLCA-1B_11.0.4_R000_FITC_CCR7-AF488_FINAL_AFR_F.ome.tif\u001b[0m\n",
      "\u001b[32m2025-06-17 15:43:21.519\u001b[0m | \u001b[1mINFO    \u001b[0m | \u001b[36mmultiplex_pipeline.core_preparation.channel_scanner\u001b[0m:\u001b[36mscan_channels_from_list\u001b[0m:\u001b[36m83\u001b[0m - \u001b[1m  Channel: CD11b <- /CellDive/BLCA-1B/BLCA-1B_Final/BLCA-1B_15.0.4_R000_Cy3_CD11b-AF555_FINAL_AFR_F.ome.tif\u001b[0m\n",
      "\u001b[32m2025-06-17 15:43:21.521\u001b[0m | \u001b[1mINFO    \u001b[0m | \u001b[36mmultiplex_pipeline.core_preparation.channel_scanner\u001b[0m:\u001b[36mscan_channels_from_list\u001b[0m:\u001b[36m83\u001b[0m - \u001b[1m  Channel: CD11C <- /CellDive/BLCA-1B/BLCA-1B_Final/BLCA-1B_12.0.4_R000_Cy3_CD11C-AF555_FINAL_AFR_F.ome.tif\u001b[0m\n",
      "\u001b[32m2025-06-17 15:43:21.524\u001b[0m | \u001b[1mINFO    \u001b[0m | \u001b[36mmultiplex_pipeline.core_preparation.channel_scanner\u001b[0m:\u001b[36mscan_channels_from_list\u001b[0m:\u001b[36m83\u001b[0m - \u001b[1m  Channel: CD127 <- /CellDive/BLCA-1B/BLCA-1B_Final/BLCA-1B_10.0.4_R000_FITC_CD127-AF488_FINAL_AFR_F.ome.tif\u001b[0m\n",
      "\u001b[32m2025-06-17 15:43:21.525\u001b[0m | \u001b[1mINFO    \u001b[0m | \u001b[36mmultiplex_pipeline.core_preparation.channel_scanner\u001b[0m:\u001b[36mscan_channels_from_list\u001b[0m:\u001b[36m83\u001b[0m - \u001b[1m  Channel: CD163 <- /CellDive/BLCA-1B/BLCA-1B_Final/BLCA-1B_19.0.4_R000_Cy3_CD163-AF555_FINAL_AFR_F.ome.tif\u001b[0m\n",
      "\u001b[32m2025-06-17 15:43:21.526\u001b[0m | \u001b[1mINFO    \u001b[0m | \u001b[36mmultiplex_pipeline.core_preparation.channel_scanner\u001b[0m:\u001b[36mscan_channels_from_list\u001b[0m:\u001b[36m83\u001b[0m - \u001b[1m  Channel: CD19 <- /CellDive/BLCA-1B/BLCA-1B_Final/BLCA-1B_22.0.4_R000_Cy5_CD19-AF647_FINAL_AFR_F.ome.tif\u001b[0m\n",
      "\u001b[32m2025-06-17 15:43:21.527\u001b[0m | \u001b[1mINFO    \u001b[0m | \u001b[36mmultiplex_pipeline.core_preparation.channel_scanner\u001b[0m:\u001b[36mscan_channels_from_list\u001b[0m:\u001b[36m83\u001b[0m - \u001b[1m  Channel: CD20 <- /CellDive/BLCA-1B/BLCA-1B_Final/BLCA-1B_12.0.4_R000_Cy7_CD20-AF750_FINAL_AFR_F.ome.tif\u001b[0m\n",
      "\u001b[32m2025-06-17 15:43:21.529\u001b[0m | \u001b[1mINFO    \u001b[0m | \u001b[36mmultiplex_pipeline.core_preparation.channel_scanner\u001b[0m:\u001b[36mscan_channels_from_list\u001b[0m:\u001b[36m83\u001b[0m - \u001b[1m  Channel: CD25 <- /CellDive/BLCA-1B/BLCA-1B_Final/BLCA-1B_23.0.4_R000_Cy5_CD25-AF647_FINAL_AFR_F.ome.tif\u001b[0m\n",
      "\u001b[32m2025-06-17 15:43:21.532\u001b[0m | \u001b[1mINFO    \u001b[0m | \u001b[36mmultiplex_pipeline.core_preparation.channel_scanner\u001b[0m:\u001b[36mscan_channels_from_list\u001b[0m:\u001b[36m83\u001b[0m - \u001b[1m  Channel: CD27 <- /CellDive/BLCA-1B/BLCA-1B_Final/BLCA-1B_17.0.4_R000_Cy3_CD27-AF555_FINAL_AFR_F.ome.tif\u001b[0m\n",
      "\u001b[32m2025-06-17 15:43:21.533\u001b[0m | \u001b[1mINFO    \u001b[0m | \u001b[36mmultiplex_pipeline.core_preparation.channel_scanner\u001b[0m:\u001b[36mscan_channels_from_list\u001b[0m:\u001b[36m83\u001b[0m - \u001b[1m  Channel: CD3 <- /CellDive/BLCA-1B/BLCA-1B_Final/BLCA-1B_11.0.4_R000_Cy3_CD3-AF555_FINAL_AFR_F.ome.tif\u001b[0m\n",
      "\u001b[32m2025-06-17 15:43:21.536\u001b[0m | \u001b[1mINFO    \u001b[0m | \u001b[36mmultiplex_pipeline.core_preparation.channel_scanner\u001b[0m:\u001b[36mscan_channels_from_list\u001b[0m:\u001b[36m83\u001b[0m - \u001b[1m  Channel: CD31 <- /CellDive/BLCA-1B/BLCA-1B_Final/BLCA-1B_16.0.4_R000_Cy3_CD31-AF555_FINAL_AFR_F.ome.tif\u001b[0m\n",
      "\u001b[32m2025-06-17 15:43:21.538\u001b[0m | \u001b[1mINFO    \u001b[0m | \u001b[36mmultiplex_pipeline.core_preparation.channel_scanner\u001b[0m:\u001b[36mscan_channels_from_list\u001b[0m:\u001b[36m83\u001b[0m - \u001b[1m  Channel: CD4 <- /CellDive/BLCA-1B/BLCA-1B_Final/BLCA-1B_29.0.4_R000_Cy3_CD4-AF555_FINAL_AFR_F.ome.tif\u001b[0m\n",
      "\u001b[32m2025-06-17 15:43:21.540\u001b[0m | \u001b[1mINFO    \u001b[0m | \u001b[36mmultiplex_pipeline.core_preparation.channel_scanner\u001b[0m:\u001b[36mscan_channels_from_list\u001b[0m:\u001b[36m83\u001b[0m - \u001b[1m  Channel: CD44 <- /CellDive/BLCA-1B/BLCA-1B_Final/BLCA-1B_16.0.4_R000_Cy7_CD44-AF750_FINAL_AFR_F.ome.tif\u001b[0m\n",
      "\u001b[32m2025-06-17 15:43:21.542\u001b[0m | \u001b[1mINFO    \u001b[0m | \u001b[36mmultiplex_pipeline.core_preparation.channel_scanner\u001b[0m:\u001b[36mscan_channels_from_list\u001b[0m:\u001b[36m83\u001b[0m - \u001b[1m  Channel: CD45 <- /CellDive/BLCA-1B/BLCA-1B_Final/BLCA-1B_11.0.4_R000_Cy7_CD45-AF750_FINAL_AFR_F.ome.tif\u001b[0m\n",
      "\u001b[32m2025-06-17 15:43:21.543\u001b[0m | \u001b[1mINFO    \u001b[0m | \u001b[36mmultiplex_pipeline.core_preparation.channel_scanner\u001b[0m:\u001b[36mscan_channels_from_list\u001b[0m:\u001b[36m83\u001b[0m - \u001b[1m  Channel: CD45RO <- /CellDive/BLCA-1B/BLCA-1B_Final/BLCA-1B_27.0.4_R000_FITC_CD45RO-AF488_FINAL_AFR_F.ome.tif\u001b[0m\n",
      "\u001b[32m2025-06-17 15:43:21.544\u001b[0m | \u001b[1mINFO    \u001b[0m | \u001b[36mmultiplex_pipeline.core_preparation.channel_scanner\u001b[0m:\u001b[36mscan_channels_from_list\u001b[0m:\u001b[36m83\u001b[0m - \u001b[1m  Channel: CD56 <- /CellDive/BLCA-1B/BLCA-1B_Final/BLCA-1B_22.0.4_R000_Cy7_CD56-AF750_FINAL_AFR_F.ome.tif\u001b[0m\n",
      "\u001b[32m2025-06-17 15:43:21.545\u001b[0m | \u001b[1mINFO    \u001b[0m | \u001b[36mmultiplex_pipeline.core_preparation.channel_scanner\u001b[0m:\u001b[36mscan_channels_from_list\u001b[0m:\u001b[36m83\u001b[0m - \u001b[1m  Channel: CD62L <- /CellDive/BLCA-1B/BLCA-1B_Final/BLCA-1B_29.0.4_R000_Cy5_CD62L-AF647_FINAL_AFR_F.ome.tif\u001b[0m\n",
      "\u001b[32m2025-06-17 15:43:21.546\u001b[0m | \u001b[1mINFO    \u001b[0m | \u001b[36mmultiplex_pipeline.core_preparation.channel_scanner\u001b[0m:\u001b[36mscan_channels_from_list\u001b[0m:\u001b[36m83\u001b[0m - \u001b[1m  Channel: CD68 <- /CellDive/BLCA-1B/BLCA-1B_Final/BLCA-1B_27.0.4_R000_Cy3_CD68-AF555_FINAL_AFR_F.ome.tif\u001b[0m\n",
      "\u001b[32m2025-06-17 15:43:21.548\u001b[0m | \u001b[1mINFO    \u001b[0m | \u001b[36mmultiplex_pipeline.core_preparation.channel_scanner\u001b[0m:\u001b[36mscan_channels_from_list\u001b[0m:\u001b[36m83\u001b[0m - \u001b[1m  Channel: CD69 <- /CellDive/BLCA-1B/BLCA-1B_Final/BLCA-1B_13.0.4_R000_Cy5_CD69-AF647_FINAL_AFR_F.ome.tif\u001b[0m\n",
      "\u001b[32m2025-06-17 15:43:21.549\u001b[0m | \u001b[1mINFO    \u001b[0m | \u001b[36mmultiplex_pipeline.core_preparation.channel_scanner\u001b[0m:\u001b[36mscan_channels_from_list\u001b[0m:\u001b[36m83\u001b[0m - \u001b[1m  Channel: CD73 <- /CellDive/BLCA-1B/BLCA-1B_Final/BLCA-1B_23.0.4_R000_Cy7_CD73-AF750_FINAL_AFR_F.ome.tif\u001b[0m\n",
      "\u001b[32m2025-06-17 15:43:21.550\u001b[0m | \u001b[1mINFO    \u001b[0m | \u001b[36mmultiplex_pipeline.core_preparation.channel_scanner\u001b[0m:\u001b[36mscan_channels_from_list\u001b[0m:\u001b[36m83\u001b[0m - \u001b[1m  Channel: CD86 <- /CellDive/BLCA-1B/BLCA-1B_Final/BLCA-1B_28.0.4_R000_Cy5_CD86-AF647_FINAL_AFR_F.ome.tif\u001b[0m\n",
      "\u001b[32m2025-06-17 15:43:21.554\u001b[0m | \u001b[1mINFO    \u001b[0m | \u001b[36mmultiplex_pipeline.core_preparation.channel_scanner\u001b[0m:\u001b[36mscan_channels_from_list\u001b[0m:\u001b[36m83\u001b[0m - \u001b[1m  Channel: CD8a <- /CellDive/BLCA-1B/BLCA-1B_Final/BLCA-1B_15.0.4_R000_Cy5_CD8a-AF647_FINAL_AFR_F.ome.tif\u001b[0m\n",
      "\u001b[32m2025-06-17 15:43:21.555\u001b[0m | \u001b[1mINFO    \u001b[0m | \u001b[36mmultiplex_pipeline.core_preparation.channel_scanner\u001b[0m:\u001b[36mscan_channels_from_list\u001b[0m:\u001b[36m83\u001b[0m - \u001b[1m  Channel: CDC25C <- /CellDive/BLCA-1B/BLCA-1B_Final/BLCA-1B_1.0.4_R000_FITC_CDC25C-AF488_FINAL_AFR_F.ome.tif\u001b[0m\n",
      "\u001b[32m2025-06-17 15:43:21.556\u001b[0m | \u001b[1mINFO    \u001b[0m | \u001b[36mmultiplex_pipeline.core_preparation.channel_scanner\u001b[0m:\u001b[36mscan_channels_from_list\u001b[0m:\u001b[36m83\u001b[0m - \u001b[1m  Channel: CDC6 <- /CellDive/BLCA-1B/BLCA-1B_Final/BLCA-1B_17.0.4_R000_Cy7_CDC6-AF750_FINAL_AFR_F.ome.tif\u001b[0m\n",
      "\u001b[32m2025-06-17 15:43:21.557\u001b[0m | \u001b[1mINFO    \u001b[0m | \u001b[36mmultiplex_pipeline.core_preparation.channel_scanner\u001b[0m:\u001b[36mscan_channels_from_list\u001b[0m:\u001b[36m83\u001b[0m - \u001b[1m  Channel: CDK2 <- /CellDive/BLCA-1B/BLCA-1B_Final/BLCA-1B_8.0.4_R000_Cy7_CDK2-AF750_FINAL_AFR_F.ome.tif\u001b[0m\n",
      "\u001b[32m2025-06-17 15:43:21.558\u001b[0m | \u001b[1mINFO    \u001b[0m | \u001b[36mmultiplex_pipeline.core_preparation.channel_scanner\u001b[0m:\u001b[36mscan_channels_from_list\u001b[0m:\u001b[36m83\u001b[0m - \u001b[1m  Channel: CDK4 <- /CellDive/BLCA-1B/BLCA-1B_Final/BLCA-1B_7.0.4_R000_Cy7_CDK4-AF750_FINAL_AFR_F.ome.tif\u001b[0m\n",
      "\u001b[32m2025-06-17 15:43:21.559\u001b[0m | \u001b[1mINFO    \u001b[0m | \u001b[36mmultiplex_pipeline.core_preparation.channel_scanner\u001b[0m:\u001b[36mscan_channels_from_list\u001b[0m:\u001b[36m83\u001b[0m - \u001b[1m  Channel: CDK6 <- /CellDive/BLCA-1B/BLCA-1B_Final/BLCA-1B_5.0.4_R000_Cy5_CDK6-AF647_FINAL_AFR_F.ome.tif\u001b[0m\n",
      "\u001b[32m2025-06-17 15:43:21.561\u001b[0m | \u001b[1mINFO    \u001b[0m | \u001b[36mmultiplex_pipeline.core_preparation.channel_scanner\u001b[0m:\u001b[36mscan_channels_from_list\u001b[0m:\u001b[36m83\u001b[0m - \u001b[1m  Channel: CDT1 <- /CellDive/BLCA-1B/BLCA-1B_Final/BLCA-1B_7.0.4_R000_Cy5_CDT1-AF647_FINAL_AFR_F.ome.tif\u001b[0m\n",
      "\u001b[32m2025-06-17 15:43:21.562\u001b[0m | \u001b[1mINFO    \u001b[0m | \u001b[36mmultiplex_pipeline.core_preparation.channel_scanner\u001b[0m:\u001b[36mscan_channels_from_list\u001b[0m:\u001b[36m83\u001b[0m - \u001b[1m  Channel: cMYC <- /CellDive/BLCA-1B/BLCA-1B_Final/BLCA-1B_12.0.4_R000_Cy5_cMYC-AF647_FINAL_AFR_F.ome.tif\u001b[0m\n",
      "\u001b[32m2025-06-17 15:43:21.566\u001b[0m | \u001b[1mINFO    \u001b[0m | \u001b[36mmultiplex_pipeline.core_preparation.channel_scanner\u001b[0m:\u001b[36mscan_channels_from_list\u001b[0m:\u001b[36m83\u001b[0m - \u001b[1m  Channel: Coll3 <- /CellDive/BLCA-1B/BLCA-1B_Final/BLCA-1B_29.0.4_R000_Cy7_Coll3-AF750_FINAL_AFR_F.ome.tif\u001b[0m\n",
      "\u001b[32m2025-06-17 15:43:21.566\u001b[0m | \u001b[1mINFO    \u001b[0m | \u001b[36mmultiplex_pipeline.core_preparation.channel_scanner\u001b[0m:\u001b[36mscan_channels_from_list\u001b[0m:\u001b[36m83\u001b[0m - \u001b[1m  Channel: cycA1 <- /CellDive/BLCA-1B/BLCA-1B_Final/BLCA-1B_2.0.4_R000_Cy3_cycA1-AF555_FINAL_AFR_F.ome.tif\u001b[0m\n",
      "\u001b[32m2025-06-17 15:43:21.568\u001b[0m | \u001b[1mINFO    \u001b[0m | \u001b[36mmultiplex_pipeline.core_preparation.channel_scanner\u001b[0m:\u001b[36mscan_channels_from_list\u001b[0m:\u001b[36m83\u001b[0m - \u001b[1m  Channel: cycA2 <- /CellDive/BLCA-1B/BLCA-1B_Final/BLCA-1B_4.0.4_R000_Cy3_cycA2-AF555_FINAL_AFR_F.ome.tif\u001b[0m\n",
      "\u001b[32m2025-06-17 15:43:21.569\u001b[0m | \u001b[1mINFO    \u001b[0m | \u001b[36mmultiplex_pipeline.core_preparation.channel_scanner\u001b[0m:\u001b[36mscan_channels_from_list\u001b[0m:\u001b[36m83\u001b[0m - \u001b[1m  Channel: CycB1 <- /CellDive/BLCA-1B/BLCA-1B_Final/BLCA-1B_6.0.4_R000_Cy3_CycB1-AF555_FINAL_AFR_F.ome.tif\u001b[0m\n",
      "\u001b[32m2025-06-17 15:43:21.570\u001b[0m | \u001b[1mINFO    \u001b[0m | \u001b[36mmultiplex_pipeline.core_preparation.channel_scanner\u001b[0m:\u001b[36mscan_channels_from_list\u001b[0m:\u001b[36m83\u001b[0m - \u001b[1m  Channel: cycB2 <- /CellDive/BLCA-1B/BLCA-1B_Final/BLCA-1B_2.0.4_R000_Cy7_cycB2-AF750_FINAL_AFR_F.ome.tif\u001b[0m\n",
      "\u001b[32m2025-06-17 15:43:21.571\u001b[0m | \u001b[1mINFO    \u001b[0m | \u001b[36mmultiplex_pipeline.core_preparation.channel_scanner\u001b[0m:\u001b[36mscan_channels_from_list\u001b[0m:\u001b[36m83\u001b[0m - \u001b[1m  Channel: cycD1 <- /CellDive/BLCA-1B/BLCA-1B_Final/BLCA-1B_3.0.4_R000_Cy3_cycD1-AF555_FINAL_AFR_F.ome.tif\u001b[0m\n",
      "\u001b[32m2025-06-17 15:43:21.574\u001b[0m | \u001b[1mINFO    \u001b[0m | \u001b[36mmultiplex_pipeline.core_preparation.channel_scanner\u001b[0m:\u001b[36mscan_channels_from_list\u001b[0m:\u001b[36m83\u001b[0m - \u001b[1m  Channel: cycD3 <- /CellDive/BLCA-1B/BLCA-1B_Final/BLCA-1B_1.0.4_R000_Cy7_cycD3-AF750_FINAL_AFR_F.ome.tif\u001b[0m\n",
      "\u001b[32m2025-06-17 15:43:21.575\u001b[0m | \u001b[1mINFO    \u001b[0m | \u001b[36mmultiplex_pipeline.core_preparation.channel_scanner\u001b[0m:\u001b[36mscan_channels_from_list\u001b[0m:\u001b[36m83\u001b[0m - \u001b[1m  Channel: cycE1 <- /CellDive/BLCA-1B/BLCA-1B_Final/BLCA-1B_2.0.4_R000_Cy5_cycE1-AF647_FINAL_AFR_F.ome.tif\u001b[0m\n",
      "\u001b[32m2025-06-17 15:43:21.576\u001b[0m | \u001b[1mINFO    \u001b[0m | \u001b[36mmultiplex_pipeline.core_preparation.channel_scanner\u001b[0m:\u001b[36mscan_channels_from_list\u001b[0m:\u001b[36m83\u001b[0m - \u001b[1m  Channel: cycE2 <- /CellDive/BLCA-1B/BLCA-1B_Final/BLCA-1B_2.0.4_R000_FITC_cycE2-AF488_FINAL_AFR_F.ome.tif\u001b[0m\n",
      "\u001b[32m2025-06-17 15:43:21.578\u001b[0m | \u001b[1mINFO    \u001b[0m | \u001b[36mmultiplex_pipeline.core_preparation.channel_scanner\u001b[0m:\u001b[36mscan_channels_from_list\u001b[0m:\u001b[36m83\u001b[0m - \u001b[1m  Channel: DAPI <- /CellDive/BLCA-1B/BLCA-1B_Final/BLCA-1B_1.0.4_R000_DAPI__FINAL_F.ome.tif\u001b[0m\n",
      "\u001b[32m2025-06-17 15:43:21.579\u001b[0m | \u001b[1mINFO    \u001b[0m | \u001b[36mmultiplex_pipeline.core_preparation.channel_scanner\u001b[0m:\u001b[36mscan_channels_from_list\u001b[0m:\u001b[36m83\u001b[0m - \u001b[1m  Channel: E2F1 <- /CellDive/BLCA-1B/BLCA-1B_Final/BLCA-1B_4.0.4_R000_Cy7_E2F1-AF750_FINAL_AFR_F.ome.tif\u001b[0m\n",
      "\u001b[32m2025-06-17 15:43:21.581\u001b[0m | \u001b[1mINFO    \u001b[0m | \u001b[36mmultiplex_pipeline.core_preparation.channel_scanner\u001b[0m:\u001b[36mscan_channels_from_list\u001b[0m:\u001b[36m83\u001b[0m - \u001b[1m  Channel: ECad <- /CellDive/BLCA-1B/BLCA-1B_Final/BLCA-1B_25.0.4_R000_Cy3_ECad-AF555_FINAL_AFR_F.ome.tif\u001b[0m\n",
      "\u001b[32m2025-06-17 15:43:21.582\u001b[0m | \u001b[1mINFO    \u001b[0m | \u001b[36mmultiplex_pipeline.core_preparation.channel_scanner\u001b[0m:\u001b[36mscan_channels_from_list\u001b[0m:\u001b[36m83\u001b[0m - \u001b[1m  Channel: EpCAM <- /CellDive/BLCA-1B/BLCA-1B_Final/BLCA-1B_20.0.4_R000_Cy5_EpCAM-AF647_FINAL_AFR_F.ome.tif\u001b[0m\n",
      "\u001b[32m2025-06-17 15:43:21.584\u001b[0m | \u001b[1mINFO    \u001b[0m | \u001b[36mmultiplex_pipeline.core_preparation.channel_scanner\u001b[0m:\u001b[36mscan_channels_from_list\u001b[0m:\u001b[36m83\u001b[0m - \u001b[1m  Channel: ERa <- /CellDive/BLCA-1B/BLCA-1B_Final/BLCA-1B_26.0.4_R000_Cy3_ERa-AF555_FINAL_AFR_F.ome.tif\u001b[0m\n",
      "\u001b[32m2025-06-17 15:43:21.586\u001b[0m | \u001b[1mINFO    \u001b[0m | \u001b[36mmultiplex_pipeline.core_preparation.channel_scanner\u001b[0m:\u001b[36mscan_channels_from_list\u001b[0m:\u001b[36m83\u001b[0m - \u001b[1m  Channel: Fibro <- /CellDive/BLCA-1B/BLCA-1B_Final/BLCA-1B_19.0.4_R000_Cy5_Fibro-AF647_FINAL_AFR_F.ome.tif\u001b[0m\n",
      "\u001b[32m2025-06-17 15:43:21.587\u001b[0m | \u001b[1mINFO    \u001b[0m | \u001b[36mmultiplex_pipeline.core_preparation.channel_scanner\u001b[0m:\u001b[36mscan_channels_from_list\u001b[0m:\u001b[36m83\u001b[0m - \u001b[1m  Channel: FOXP3 <- /CellDive/BLCA-1B/BLCA-1B_Final/BLCA-1B_27.0.4_R000_Cy7_FOXP3-AF750_FINAL_AFR_F.ome.tif\u001b[0m\n",
      "\u001b[32m2025-06-17 15:43:21.589\u001b[0m | \u001b[1mINFO    \u001b[0m | \u001b[36mmultiplex_pipeline.core_preparation.channel_scanner\u001b[0m:\u001b[36mscan_channels_from_list\u001b[0m:\u001b[36m83\u001b[0m - \u001b[1m  Channel: GranzymeB <- /CellDive/BLCA-1B/BLCA-1B_Final/BLCA-1B_18.0.4_R000_Cy3_GranzymeB-AF555_FINAL_AFR_F.ome.tif\u001b[0m\n",
      "\u001b[32m2025-06-17 15:43:21.589\u001b[0m | \u001b[1mINFO    \u001b[0m | \u001b[36mmultiplex_pipeline.core_preparation.channel_scanner\u001b[0m:\u001b[36mscan_channels_from_list\u001b[0m:\u001b[36m83\u001b[0m - \u001b[1m  Channel: HER2 <- /CellDive/BLCA-1B/BLCA-1B_Final/BLCA-1B_26.0.4_R000_FITC_HER2-AF488_FINAL_AFR_F.ome.tif\u001b[0m\n",
      "\u001b[32m2025-06-17 15:43:21.591\u001b[0m | \u001b[1mINFO    \u001b[0m | \u001b[36mmultiplex_pipeline.core_preparation.channel_scanner\u001b[0m:\u001b[36mscan_channels_from_list\u001b[0m:\u001b[36m83\u001b[0m - \u001b[1m  Channel: HES1 <- /CellDive/BLCA-1B/BLCA-1B_Final/BLCA-1B_4.0.4_R000_FITC_HES1-AF488_FINAL_AFR_F.ome.tif\u001b[0m\n",
      "\u001b[32m2025-06-17 15:43:21.592\u001b[0m | \u001b[1mINFO    \u001b[0m | \u001b[36mmultiplex_pipeline.core_preparation.channel_scanner\u001b[0m:\u001b[36mscan_channels_from_list\u001b[0m:\u001b[36m83\u001b[0m - \u001b[1m  Channel: HIF1a <- /CellDive/BLCA-1B/BLCA-1B_Final/BLCA-1B_26.0.4_R000_Cy5_HIF1a-AF647_FINAL_AFR_F.ome.tif\u001b[0m\n",
      "\u001b[32m2025-06-17 15:43:21.594\u001b[0m | \u001b[1mINFO    \u001b[0m | \u001b[36mmultiplex_pipeline.core_preparation.channel_scanner\u001b[0m:\u001b[36mscan_channels_from_list\u001b[0m:\u001b[36m83\u001b[0m - \u001b[1m  Channel: HLA1 <- /CellDive/BLCA-1B/BLCA-1B_Final/BLCA-1B_20.0.4_R000_Cy3_HLA1-AF555_FINAL_AFR_F.ome.tif\u001b[0m\n",
      "\u001b[32m2025-06-17 15:43:21.594\u001b[0m | \u001b[1mINFO    \u001b[0m | \u001b[36mmultiplex_pipeline.core_preparation.channel_scanner\u001b[0m:\u001b[36mscan_channels_from_list\u001b[0m:\u001b[36m83\u001b[0m - \u001b[1m  Channel: HLADR <- /CellDive/BLCA-1B/BLCA-1B_Final/BLCA-1B_24.0.4_R000_Cy7_HLADR-AF750_FINAL_AFR_F.ome.tif\u001b[0m\n",
      "\u001b[32m2025-06-17 15:43:21.596\u001b[0m | \u001b[1mINFO    \u001b[0m | \u001b[36mmultiplex_pipeline.core_preparation.channel_scanner\u001b[0m:\u001b[36mscan_channels_from_list\u001b[0m:\u001b[36m83\u001b[0m - \u001b[1m  Channel: IL-8 <- /CellDive/BLCA-1B/BLCA-1B_Final/BLCA-1B_12.0.4_R000_FITC_IL-8-AF488_FINAL_AFR_F.ome.tif\u001b[0m\n",
      "\u001b[32m2025-06-17 15:43:21.597\u001b[0m | \u001b[1mINFO    \u001b[0m | \u001b[36mmultiplex_pipeline.core_preparation.channel_scanner\u001b[0m:\u001b[36mscan_channels_from_list\u001b[0m:\u001b[36m83\u001b[0m - \u001b[1m  Channel: IL6 <- /CellDive/BLCA-1B/BLCA-1B_Final/BLCA-1B_21.0.4_R000_Cy5_IL6-AF647_FINAL_AFR_F.ome.tif\u001b[0m\n",
      "\u001b[32m2025-06-17 15:43:21.598\u001b[0m | \u001b[1mINFO    \u001b[0m | \u001b[36mmultiplex_pipeline.core_preparation.channel_scanner\u001b[0m:\u001b[36mscan_channels_from_list\u001b[0m:\u001b[36m83\u001b[0m - \u001b[1m  Channel: Ki67 <- /CellDive/BLCA-1B/BLCA-1B_Final/BLCA-1B_3.0.4_R000_Cy5_Ki67-AF647_FINAL_AFR_F.ome.tif\u001b[0m\n",
      "\u001b[32m2025-06-17 15:43:21.599\u001b[0m | \u001b[1mINFO    \u001b[0m | \u001b[36mmultiplex_pipeline.core_preparation.channel_scanner\u001b[0m:\u001b[36mscan_channels_from_list\u001b[0m:\u001b[36m83\u001b[0m - \u001b[1m  Channel: LAG3 <- /CellDive/BLCA-1B/BLCA-1B_Final/BLCA-1B_28.0.4_R000_Cy7_LAG3-AF750_FINAL_AFR_F.ome.tif\u001b[0m\n",
      "\u001b[32m2025-06-17 15:43:21.600\u001b[0m | \u001b[1mINFO    \u001b[0m | \u001b[36mmultiplex_pipeline.core_preparation.channel_scanner\u001b[0m:\u001b[36mscan_channels_from_list\u001b[0m:\u001b[36m83\u001b[0m - \u001b[1m  Channel: LaminB1 <- /CellDive/BLCA-1B/BLCA-1B_Final/BLCA-1B_25.0.4_R000_FITC_LaminB1-AF488_FINAL_AFR_F.ome.tif\u001b[0m\n",
      "\u001b[32m2025-06-17 15:43:21.601\u001b[0m | \u001b[1mINFO    \u001b[0m | \u001b[36mmultiplex_pipeline.core_preparation.channel_scanner\u001b[0m:\u001b[36mscan_channels_from_list\u001b[0m:\u001b[36m83\u001b[0m - \u001b[1m  Channel: NaKATPase <- /CellDive/BLCA-1B/BLCA-1B_Final/BLCA-1B_15.0.4_R000_Cy7_NaKATPase-AF750_FINAL_AFR_F.ome.tif\u001b[0m\n",
      "\u001b[32m2025-06-17 15:43:21.601\u001b[0m | \u001b[1mINFO    \u001b[0m | \u001b[36mmultiplex_pipeline.core_preparation.channel_scanner\u001b[0m:\u001b[36mscan_channels_from_list\u001b[0m:\u001b[36m83\u001b[0m - \u001b[1m  Channel: p-Cdc6 <- /CellDive/BLCA-1B/BLCA-1B_Final/BLCA-1B_6.0.4_R000_Cy7_p-Cdc6-AF750_FINAL_AFR_F.ome.tif\u001b[0m\n",
      "\u001b[32m2025-06-17 15:43:21.602\u001b[0m | \u001b[1mINFO    \u001b[0m | \u001b[36mmultiplex_pipeline.core_preparation.channel_scanner\u001b[0m:\u001b[36mscan_channels_from_list\u001b[0m:\u001b[36m83\u001b[0m - \u001b[1m  Channel: p-p130 <- /CellDive/BLCA-1B/BLCA-1B_Final/BLCA-1B_19.0.4_R000_Cy7_p-p130-AF750_FINAL_AFR_F.ome.tif\u001b[0m\n",
      "\u001b[32m2025-06-17 15:43:21.603\u001b[0m | \u001b[1mINFO    \u001b[0m | \u001b[36mmultiplex_pipeline.core_preparation.channel_scanner\u001b[0m:\u001b[36mscan_channels_from_list\u001b[0m:\u001b[36m83\u001b[0m - \u001b[1m  Channel: p130 <- /CellDive/BLCA-1B/BLCA-1B_Final/BLCA-1B_18.0.4_R000_Cy7_p130-AF750_FINAL_AFR_F.ome.tif\u001b[0m\n",
      "\u001b[32m2025-06-17 15:43:21.604\u001b[0m | \u001b[1mINFO    \u001b[0m | \u001b[36mmultiplex_pipeline.core_preparation.channel_scanner\u001b[0m:\u001b[36mscan_channels_from_list\u001b[0m:\u001b[36m83\u001b[0m - \u001b[1m  Channel: p16 <- /CellDive/BLCA-1B/BLCA-1B_Final/BLCA-1B_10.0.4_R000_Cy5_p16-AF647_FINAL_AFR_F.ome.tif\u001b[0m\n",
      "\u001b[32m2025-06-17 15:43:21.604\u001b[0m | \u001b[1mINFO    \u001b[0m | \u001b[36mmultiplex_pipeline.core_preparation.channel_scanner\u001b[0m:\u001b[36mscan_channels_from_list\u001b[0m:\u001b[36m83\u001b[0m - \u001b[1m  Channel: p21 <- /CellDive/BLCA-1B/BLCA-1B_Final/BLCA-1B_9.0.4_R000_Cy5_p21-AF647_FINAL_AFR_F.ome.tif\u001b[0m\n",
      "\u001b[32m2025-06-17 15:43:21.605\u001b[0m | \u001b[1mINFO    \u001b[0m | \u001b[36mmultiplex_pipeline.core_preparation.channel_scanner\u001b[0m:\u001b[36mscan_channels_from_list\u001b[0m:\u001b[36m83\u001b[0m - \u001b[1m  Channel: p27 <- /CellDive/BLCA-1B/BLCA-1B_Final/BLCA-1B_25.0.4_R000_Cy7_p27-AF750_FINAL_AFR_F.ome.tif\u001b[0m\n",
      "\u001b[32m2025-06-17 15:43:21.606\u001b[0m | \u001b[1mINFO    \u001b[0m | \u001b[36mmultiplex_pipeline.core_preparation.channel_scanner\u001b[0m:\u001b[36mscan_channels_from_list\u001b[0m:\u001b[36m83\u001b[0m - \u001b[1m  Channel: p38 <- /CellDive/BLCA-1B/BLCA-1B_Final/BLCA-1B_10.0.4_R000_Cy3_p38-AF555_FINAL_AFR_F.ome.tif\u001b[0m\n",
      "\u001b[32m2025-06-17 15:43:21.608\u001b[0m | \u001b[1mINFO    \u001b[0m | \u001b[36mmultiplex_pipeline.core_preparation.channel_scanner\u001b[0m:\u001b[36mscan_channels_from_list\u001b[0m:\u001b[36m83\u001b[0m - \u001b[1m  Channel: p53 <- /CellDive/BLCA-1B/BLCA-1B_Final/BLCA-1B_4.0.4_R000_Cy5_p53-AF647_FINAL_AFR_F.ome.tif\u001b[0m\n",
      "\u001b[32m2025-06-17 15:43:21.609\u001b[0m | \u001b[1mINFO    \u001b[0m | \u001b[36mmultiplex_pipeline.core_preparation.channel_scanner\u001b[0m:\u001b[36mscan_channels_from_list\u001b[0m:\u001b[36m83\u001b[0m - \u001b[1m  Channel: p65 <- /CellDive/BLCA-1B/BLCA-1B_Final/BLCA-1B_28.0.4_R000_Cy3_p65-AF555_FINAL_AFR_F.ome.tif\u001b[0m\n",
      "\u001b[32m2025-06-17 15:43:21.609\u001b[0m | \u001b[1mINFO    \u001b[0m | \u001b[36mmultiplex_pipeline.core_preparation.channel_scanner\u001b[0m:\u001b[36mscan_channels_from_list\u001b[0m:\u001b[36m83\u001b[0m - \u001b[1m  Channel: pAKT <- /CellDive/BLCA-1B/BLCA-1B_Final/BLCA-1B_17.0.4_R000_Cy5_pAKT-AF647_FINAL_AFR_F.ome.tif\u001b[0m\n",
      "\u001b[32m2025-06-17 15:43:21.610\u001b[0m | \u001b[1mINFO    \u001b[0m | \u001b[36mmultiplex_pipeline.core_preparation.channel_scanner\u001b[0m:\u001b[36mscan_channels_from_list\u001b[0m:\u001b[36m83\u001b[0m - \u001b[1m  Channel: pATR <- /CellDive/BLCA-1B/BLCA-1B_Final/BLCA-1B_20.0.4_R000_Cy7_pATR-AF750_FINAL_AFR_F.ome.tif\u001b[0m\n",
      "\u001b[32m2025-06-17 15:43:21.611\u001b[0m | \u001b[1mINFO    \u001b[0m | \u001b[36mmultiplex_pipeline.core_preparation.channel_scanner\u001b[0m:\u001b[36mscan_channels_from_list\u001b[0m:\u001b[36m83\u001b[0m - \u001b[1m  Channel: pCK26 <- /CellDive/BLCA-1B/BLCA-1B_Final/BLCA-1B_9.0.4_R000_Cy7_pCK26-AF750_FINAL_AFR_F.ome.tif\u001b[0m\n",
      "\u001b[32m2025-06-17 15:43:21.611\u001b[0m | \u001b[1mINFO    \u001b[0m | \u001b[36mmultiplex_pipeline.core_preparation.channel_scanner\u001b[0m:\u001b[36mscan_channels_from_list\u001b[0m:\u001b[36m83\u001b[0m - \u001b[1m  Channel: PCNA <- /CellDive/BLCA-1B/BLCA-1B_Final/BLCA-1B_6.0.4_R000_Cy5_PCNA-AF647_FINAL_AFR_F.ome.tif\u001b[0m\n",
      "\u001b[32m2025-06-17 15:43:21.612\u001b[0m | \u001b[1mINFO    \u001b[0m | \u001b[36mmultiplex_pipeline.core_preparation.channel_scanner\u001b[0m:\u001b[36mscan_channels_from_list\u001b[0m:\u001b[36m83\u001b[0m - \u001b[1m  Channel: PD-1 <- /CellDive/BLCA-1B/BLCA-1B_Final/BLCA-1B_14.0.4_R000_Cy3_PD-1-AF555_FINAL_AFR_F.ome.tif\u001b[0m\n",
      "\u001b[32m2025-06-17 15:43:21.612\u001b[0m | \u001b[1mINFO    \u001b[0m | \u001b[36mmultiplex_pipeline.core_preparation.channel_scanner\u001b[0m:\u001b[36mscan_channels_from_list\u001b[0m:\u001b[36m83\u001b[0m - \u001b[1m  Channel: PDL1 <- /CellDive/BLCA-1B/BLCA-1B_Final/BLCA-1B_10.0.4_R000_Cy7_PDL1-AF750_FINAL_AFR_F.ome.tif\u001b[0m\n",
      "\u001b[32m2025-06-17 15:43:21.613\u001b[0m | \u001b[1mINFO    \u001b[0m | \u001b[36mmultiplex_pipeline.core_preparation.channel_scanner\u001b[0m:\u001b[36mscan_channels_from_list\u001b[0m:\u001b[36m83\u001b[0m - \u001b[1m  Channel: pERK <- /CellDive/BLCA-1B/BLCA-1B_Final/BLCA-1B_16.0.4_R000_Cy5_pERK-AF647_FINAL_AFR_F.ome.tif\u001b[0m\n",
      "\u001b[32m2025-06-17 15:43:21.616\u001b[0m | \u001b[1mINFO    \u001b[0m | \u001b[36mmultiplex_pipeline.core_preparation.channel_scanner\u001b[0m:\u001b[36mscan_channels_from_list\u001b[0m:\u001b[36m83\u001b[0m - \u001b[1m  Channel: pH2AX <- /CellDive/BLCA-1B/BLCA-1B_Final/BLCA-1B_1.0.4_R000_Cy3_pH2AX-AF555_FINAL_AFR_F.ome.tif\u001b[0m\n",
      "\u001b[32m2025-06-17 15:43:21.617\u001b[0m | \u001b[1mINFO    \u001b[0m | \u001b[36mmultiplex_pipeline.core_preparation.channel_scanner\u001b[0m:\u001b[36mscan_channels_from_list\u001b[0m:\u001b[36m83\u001b[0m - \u001b[1m  Channel: PH3 <- /CellDive/BLCA-1B/BLCA-1B_Final/BLCA-1B_13.0.4_R000_Cy7_PH3-AF750_FINAL_AFR_F.ome.tif\u001b[0m\n",
      "\u001b[32m2025-06-17 15:43:21.617\u001b[0m | \u001b[1mINFO    \u001b[0m | \u001b[36mmultiplex_pipeline.core_preparation.channel_scanner\u001b[0m:\u001b[36mscan_channels_from_list\u001b[0m:\u001b[36m83\u001b[0m - \u001b[1m  Channel: Plk1 <- /CellDive/BLCA-1B/BLCA-1B_Final/BLCA-1B_6.0.4_R000_FITC_Plk1-AF488_FINAL_AFR_F.ome.tif\u001b[0m\n",
      "\u001b[32m2025-06-17 15:43:21.618\u001b[0m | \u001b[1mINFO    \u001b[0m | \u001b[36mmultiplex_pipeline.core_preparation.channel_scanner\u001b[0m:\u001b[36mscan_channels_from_list\u001b[0m:\u001b[36m83\u001b[0m - \u001b[1m  Channel: PML <- /CellDive/BLCA-1B/BLCA-1B_Final/BLCA-1B_24.0.4_R000_Cy5_PML-AF647_FINAL_AFR_F.ome.tif\u001b[0m\n",
      "\u001b[32m2025-06-17 15:43:21.619\u001b[0m | \u001b[1mINFO    \u001b[0m | \u001b[36mmultiplex_pipeline.core_preparation.channel_scanner\u001b[0m:\u001b[36mscan_channels_from_list\u001b[0m:\u001b[36m83\u001b[0m - \u001b[1m  Channel: pRB <- /CellDive/BLCA-1B/BLCA-1B_Final/BLCA-1B_8.0.4_R000_Cy5_pRB-AF647_FINAL_AFR_F.ome.tif\u001b[0m\n",
      "\u001b[32m2025-06-17 15:43:21.620\u001b[0m | \u001b[1mINFO    \u001b[0m | \u001b[36mmultiplex_pipeline.core_preparation.channel_scanner\u001b[0m:\u001b[36mscan_channels_from_list\u001b[0m:\u001b[36m83\u001b[0m - \u001b[1m  Channel: ProgRc <- /CellDive/BLCA-1B/BLCA-1B_Final/BLCA-1B_26.0.4_R000_Cy7_ProgRc-AF750_FINAL_AFR_F.ome.tif\u001b[0m\n",
      "\u001b[32m2025-06-17 15:43:21.620\u001b[0m | \u001b[1mINFO    \u001b[0m | \u001b[36mmultiplex_pipeline.core_preparation.channel_scanner\u001b[0m:\u001b[36mscan_channels_from_list\u001b[0m:\u001b[36m83\u001b[0m - \u001b[1m  Channel: pS6 <- /CellDive/BLCA-1B/BLCA-1B_Final/BLCA-1B_9.0.4_R000_Cy3_pS6-AF555_FINAL_AFR_F.ome.tif\u001b[0m\n",
      "\u001b[32m2025-06-17 15:43:21.621\u001b[0m | \u001b[1mINFO    \u001b[0m | \u001b[36mmultiplex_pipeline.core_preparation.channel_scanner\u001b[0m:\u001b[36mscan_channels_from_list\u001b[0m:\u001b[36m83\u001b[0m - \u001b[1m  Channel: RB <- /CellDive/BLCA-1B/BLCA-1B_Final/BLCA-1B_3.0.4_R000_Cy7_RB-AF750_FINAL_AFR_F.ome.tif\u001b[0m\n",
      "\u001b[32m2025-06-17 15:43:21.621\u001b[0m | \u001b[1mINFO    \u001b[0m | \u001b[36mmultiplex_pipeline.core_preparation.channel_scanner\u001b[0m:\u001b[36mscan_channels_from_list\u001b[0m:\u001b[36m83\u001b[0m - \u001b[1m  Channel: SKP2 <- /CellDive/BLCA-1B/BLCA-1B_Final/BLCA-1B_11.0.4_R000_Cy5_SKP2-AF647_FINAL_AFR_F.ome.tif\u001b[0m\n",
      "\u001b[32m2025-06-17 15:43:21.622\u001b[0m | \u001b[1mINFO    \u001b[0m | \u001b[36mmultiplex_pipeline.core_preparation.channel_scanner\u001b[0m:\u001b[36mscan_channels_from_list\u001b[0m:\u001b[36m83\u001b[0m - \u001b[1m  Channel: SMA <- /CellDive/BLCA-1B/BLCA-1B_Final/BLCA-1B_21.0.4_R000_Cy3_SMA-Cy3_FINAL_AFR_F.ome.tif\u001b[0m\n",
      "\u001b[32m2025-06-17 15:43:21.623\u001b[0m | \u001b[1mINFO    \u001b[0m | \u001b[36mmultiplex_pipeline.core_preparation.channel_scanner\u001b[0m:\u001b[36mscan_channels_from_list\u001b[0m:\u001b[36m83\u001b[0m - \u001b[1m  Channel: Snail1 <- /CellDive/BLCA-1B/BLCA-1B_Final/BLCA-1B_14.0.4_R000_FITC_Snail1-AF488_FINAL_AFR_F.ome.tif\u001b[0m\n",
      "\u001b[32m2025-06-17 15:43:21.624\u001b[0m | \u001b[1mINFO    \u001b[0m | \u001b[36mmultiplex_pipeline.core_preparation.channel_scanner\u001b[0m:\u001b[36mscan_channels_from_list\u001b[0m:\u001b[36m83\u001b[0m - \u001b[1m  Channel: TGFb1 <- /CellDive/BLCA-1B/BLCA-1B_Final/BLCA-1B_18.0.4_R000_Cy5_TGFb1-AF647_FINAL_AFR_F.ome.tif\u001b[0m\n",
      "\u001b[32m2025-06-17 15:43:21.625\u001b[0m | \u001b[1mINFO    \u001b[0m | \u001b[36mmultiplex_pipeline.core_preparation.channel_scanner\u001b[0m:\u001b[36mscan_channels_from_list\u001b[0m:\u001b[36m83\u001b[0m - \u001b[1m  Channel: TNFa <- /CellDive/BLCA-1B/BLCA-1B_Final/BLCA-1B_13.0.4_R000_FITC_TNFa-AF488_FINAL_AFR_F.ome.tif\u001b[0m\n",
      "\u001b[32m2025-06-17 15:43:21.626\u001b[0m | \u001b[1mINFO    \u001b[0m | \u001b[36mmultiplex_pipeline.core_preparation.channel_scanner\u001b[0m:\u001b[36mscan_channels_from_list\u001b[0m:\u001b[36m83\u001b[0m - \u001b[1m  Channel: VIM <- /CellDive/BLCA-1B/BLCA-1B_Final/BLCA-1B_7.0.4_R000_FITC_VIM-AF488_FINAL_AFR_F.ome.tif\u001b[0m\n",
      "\u001b[32m2025-06-17 15:43:21.627\u001b[0m | \u001b[1mINFO    \u001b[0m | \u001b[36mmultiplex_pipeline.core_preparation.channel_scanner\u001b[0m:\u001b[36mscan_channels_from_list\u001b[0m:\u001b[36m83\u001b[0m - \u001b[1m  Channel: wee1 <- /CellDive/BLCA-1B/BLCA-1B_Final/BLCA-1B_7.0.4_R000_Cy3_wee1-AF555_FINAL_AFR_F.ome.tif\u001b[0m\n",
      "\u001b[32m2025-06-17 15:43:21.628\u001b[0m | \u001b[1mINFO    \u001b[0m | \u001b[36mmultiplex_pipeline.core_preparation.channel_scanner\u001b[0m:\u001b[36mscan_channels_from_list\u001b[0m:\u001b[36m83\u001b[0m - \u001b[1m  Channel: YAP1 <- /CellDive/BLCA-1B/BLCA-1B_Final/BLCA-1B_8.0.4_R000_Cy3_YAP1-AF555_FINAL_AFR_F.ome.tif\u001b[0m\n",
      "\u001b[32m2025-06-17 15:43:21.629\u001b[0m | \u001b[1mINFO    \u001b[0m | \u001b[36mmultiplex_pipeline.core_preparation.channel_scanner\u001b[0m:\u001b[36mscan_channels_from_list\u001b[0m:\u001b[36m86\u001b[0m - \u001b[1mOME-TIFF files not used in final channel selection:\u001b[0m\n",
      "\u001b[32m2025-06-17 15:43:21.630\u001b[0m | \u001b[1mINFO    \u001b[0m | \u001b[36mmultiplex_pipeline.core_preparation.channel_scanner\u001b[0m:\u001b[36mscan_channels_from_list\u001b[0m:\u001b[36m88\u001b[0m - \u001b[1m  Unused: Channel 001_pRB <- /CellDive/BLCA-1B/BLCA-1B_Final/BLCA-1B_1.0.4_R000_Cy5_pRB-AF647_FINAL_AFR_F.ome.tif\u001b[0m\n",
      "\u001b[32m2025-06-17 15:43:21.631\u001b[0m | \u001b[1mINFO    \u001b[0m | \u001b[36mmultiplex_pipeline.core_preparation.channel_scanner\u001b[0m:\u001b[36mscan_channels_from_list\u001b[0m:\u001b[36m88\u001b[0m - \u001b[1m  Unused: Channel 002_DAPI <- /CellDive/BLCA-1B/BLCA-1B_Final/BLCA-1B_2.0.4_R000_DAPI__FINAL_F.ome.tif\u001b[0m\n",
      "\u001b[32m2025-06-17 15:43:21.631\u001b[0m | \u001b[1mINFO    \u001b[0m | \u001b[36mmultiplex_pipeline.core_preparation.channel_scanner\u001b[0m:\u001b[36mscan_channels_from_list\u001b[0m:\u001b[36m88\u001b[0m - \u001b[1m  Unused: Channel 003_DAPI <- /CellDive/BLCA-1B/BLCA-1B_Final/BLCA-1B_3.0.4_R000_DAPI__FINAL_F.ome.tif\u001b[0m\n",
      "\u001b[32m2025-06-17 15:43:21.632\u001b[0m | \u001b[1mINFO    \u001b[0m | \u001b[36mmultiplex_pipeline.core_preparation.channel_scanner\u001b[0m:\u001b[36mscan_channels_from_list\u001b[0m:\u001b[36m88\u001b[0m - \u001b[1m  Unused: Channel 004_DAPI <- /CellDive/BLCA-1B/BLCA-1B_Final/BLCA-1B_4.0.4_R000_DAPI__FINAL_F.ome.tif\u001b[0m\n",
      "\u001b[32m2025-06-17 15:43:21.633\u001b[0m | \u001b[1mINFO    \u001b[0m | \u001b[36mmultiplex_pipeline.core_preparation.channel_scanner\u001b[0m:\u001b[36mscan_channels_from_list\u001b[0m:\u001b[36m88\u001b[0m - \u001b[1m  Unused: Channel 005_DAPI <- /CellDive/BLCA-1B/BLCA-1B_Final/BLCA-1B_5.0.4_R000_DAPI__FINAL_F.ome.tif\u001b[0m\n",
      "\u001b[32m2025-06-17 15:43:21.634\u001b[0m | \u001b[1mINFO    \u001b[0m | \u001b[36mmultiplex_pipeline.core_preparation.channel_scanner\u001b[0m:\u001b[36mscan_channels_from_list\u001b[0m:\u001b[36m88\u001b[0m - \u001b[1m  Unused: Channel 005_p27 <- /CellDive/BLCA-1B/BLCA-1B_Final/BLCA-1B_5.0.4_R000_Cy7_p27-AF750_FINAL_AFR_F.ome.tif\u001b[0m\n",
      "\u001b[32m2025-06-17 15:43:21.635\u001b[0m | \u001b[1mINFO    \u001b[0m | \u001b[36mmultiplex_pipeline.core_preparation.channel_scanner\u001b[0m:\u001b[36mscan_channels_from_list\u001b[0m:\u001b[36m88\u001b[0m - \u001b[1m  Unused: Channel 005_p65 <- /CellDive/BLCA-1B/BLCA-1B_Final/BLCA-1B_5.0.4_R000_FITC_p65-AF488_FINAL_AFR_F.ome.tif\u001b[0m\n",
      "\u001b[32m2025-06-17 15:43:21.636\u001b[0m | \u001b[1mINFO    \u001b[0m | \u001b[36mmultiplex_pipeline.core_preparation.channel_scanner\u001b[0m:\u001b[36mscan_channels_from_list\u001b[0m:\u001b[36m88\u001b[0m - \u001b[1m  Unused: Channel 006_DAPI <- /CellDive/BLCA-1B/BLCA-1B_Final/BLCA-1B_6.0.4_R000_DAPI__FINAL_F.ome.tif\u001b[0m\n",
      "\u001b[32m2025-06-17 15:43:21.637\u001b[0m | \u001b[1mINFO    \u001b[0m | \u001b[36mmultiplex_pipeline.core_preparation.channel_scanner\u001b[0m:\u001b[36mscan_channels_from_list\u001b[0m:\u001b[36m88\u001b[0m - \u001b[1m  Unused: Channel 007_DAPI <- /CellDive/BLCA-1B/BLCA-1B_Final/BLCA-1B_7.0.4_R000_DAPI__FINAL_F.ome.tif\u001b[0m\n",
      "\u001b[32m2025-06-17 15:43:21.637\u001b[0m | \u001b[1mINFO    \u001b[0m | \u001b[36mmultiplex_pipeline.core_preparation.channel_scanner\u001b[0m:\u001b[36mscan_channels_from_list\u001b[0m:\u001b[36m88\u001b[0m - \u001b[1m  Unused: Channel 008_DAPI <- /CellDive/BLCA-1B/BLCA-1B_Final/BLCA-1B_8.0.4_R000_DAPI__FINAL_F.ome.tif\u001b[0m\n",
      "\u001b[32m2025-06-17 15:43:21.638\u001b[0m | \u001b[1mINFO    \u001b[0m | \u001b[36mmultiplex_pipeline.core_preparation.channel_scanner\u001b[0m:\u001b[36mscan_channels_from_list\u001b[0m:\u001b[36m88\u001b[0m - \u001b[1m  Unused: Channel 008_ECad <- /CellDive/BLCA-1B/BLCA-1B_Final/BLCA-1B_8.0.4_R000_FITC_ECad-AF488_FINAL_AFR_F.ome.tif\u001b[0m\n",
      "\u001b[32m2025-06-17 15:43:21.639\u001b[0m | \u001b[1mINFO    \u001b[0m | \u001b[36mmultiplex_pipeline.core_preparation.channel_scanner\u001b[0m:\u001b[36mscan_channels_from_list\u001b[0m:\u001b[36m88\u001b[0m - \u001b[1m  Unused: Channel 009_CD45RO <- /CellDive/BLCA-1B/BLCA-1B_Final/BLCA-1B_9.0.4_R000_FITC_CD45RO-AF488_FINAL_AFR_F.ome.tif\u001b[0m\n",
      "\u001b[32m2025-06-17 15:43:21.639\u001b[0m | \u001b[1mINFO    \u001b[0m | \u001b[36mmultiplex_pipeline.core_preparation.channel_scanner\u001b[0m:\u001b[36mscan_channels_from_list\u001b[0m:\u001b[36m88\u001b[0m - \u001b[1m  Unused: Channel 009_DAPI <- /CellDive/BLCA-1B/BLCA-1B_Final/BLCA-1B_9.0.4_R000_DAPI__FINAL_F.ome.tif\u001b[0m\n",
      "\u001b[32m2025-06-17 15:43:21.640\u001b[0m | \u001b[1mINFO    \u001b[0m | \u001b[36mmultiplex_pipeline.core_preparation.channel_scanner\u001b[0m:\u001b[36mscan_channels_from_list\u001b[0m:\u001b[36m88\u001b[0m - \u001b[1m  Unused: Channel 010_DAPI <- /CellDive/BLCA-1B/BLCA-1B_Final/BLCA-1B_10.0.4_R000_DAPI__FINAL_F.ome.tif\u001b[0m\n",
      "\u001b[32m2025-06-17 15:43:21.641\u001b[0m | \u001b[1mINFO    \u001b[0m | \u001b[36mmultiplex_pipeline.core_preparation.channel_scanner\u001b[0m:\u001b[36mscan_channels_from_list\u001b[0m:\u001b[36m88\u001b[0m - \u001b[1m  Unused: Channel 011_DAPI <- /CellDive/BLCA-1B/BLCA-1B_Final/BLCA-1B_11.0.4_R000_DAPI__FINAL_F.ome.tif\u001b[0m\n",
      "\u001b[32m2025-06-17 15:43:21.642\u001b[0m | \u001b[1mINFO    \u001b[0m | \u001b[36mmultiplex_pipeline.core_preparation.channel_scanner\u001b[0m:\u001b[36mscan_channels_from_list\u001b[0m:\u001b[36m88\u001b[0m - \u001b[1m  Unused: Channel 012_DAPI <- /CellDive/BLCA-1B/BLCA-1B_Final/BLCA-1B_12.0.4_R000_DAPI__FINAL_F.ome.tif\u001b[0m\n",
      "\u001b[32m2025-06-17 15:43:21.643\u001b[0m | \u001b[1mINFO    \u001b[0m | \u001b[36mmultiplex_pipeline.core_preparation.channel_scanner\u001b[0m:\u001b[36mscan_channels_from_list\u001b[0m:\u001b[36m88\u001b[0m - \u001b[1m  Unused: Channel 013_CD68 <- /CellDive/BLCA-1B/BLCA-1B_Final/BLCA-1B_13.0.4_R000_Cy3_CD68-AF555_FINAL_AFR_F.ome.tif\u001b[0m\n",
      "\u001b[32m2025-06-17 15:43:21.644\u001b[0m | \u001b[1mINFO    \u001b[0m | \u001b[36mmultiplex_pipeline.core_preparation.channel_scanner\u001b[0m:\u001b[36mscan_channels_from_list\u001b[0m:\u001b[36m88\u001b[0m - \u001b[1m  Unused: Channel 013_DAPI <- /CellDive/BLCA-1B/BLCA-1B_Final/BLCA-1B_13.0.4_R000_DAPI__FINAL_F.ome.tif\u001b[0m\n",
      "\u001b[32m2025-06-17 15:43:21.644\u001b[0m | \u001b[1mINFO    \u001b[0m | \u001b[36mmultiplex_pipeline.core_preparation.channel_scanner\u001b[0m:\u001b[36mscan_channels_from_list\u001b[0m:\u001b[36m88\u001b[0m - \u001b[1m  Unused: Channel 014_CD4 <- /CellDive/BLCA-1B/BLCA-1B_Final/BLCA-1B_14.0.4_R000_Cy5_CD4-AF647_FINAL_AFR_F.ome.tif\u001b[0m\n",
      "\u001b[32m2025-06-17 15:43:21.645\u001b[0m | \u001b[1mINFO    \u001b[0m | \u001b[36mmultiplex_pipeline.core_preparation.channel_scanner\u001b[0m:\u001b[36mscan_channels_from_list\u001b[0m:\u001b[36m88\u001b[0m - \u001b[1m  Unused: Channel 014_DAPI <- /CellDive/BLCA-1B/BLCA-1B_Final/BLCA-1B_14.0.4_R000_DAPI__FINAL_F.ome.tif\u001b[0m\n",
      "\u001b[32m2025-06-17 15:43:21.646\u001b[0m | \u001b[1mINFO    \u001b[0m | \u001b[36mmultiplex_pipeline.core_preparation.channel_scanner\u001b[0m:\u001b[36mscan_channels_from_list\u001b[0m:\u001b[36m88\u001b[0m - \u001b[1m  Unused: Channel 014_FOXP3 <- /CellDive/BLCA-1B/BLCA-1B_Final/BLCA-1B_14.0.4_R000_Cy7_FOXP3-AF750_FINAL_AFR_F.ome.tif\u001b[0m\n",
      "\u001b[32m2025-06-17 15:43:21.647\u001b[0m | \u001b[1mINFO    \u001b[0m | \u001b[36mmultiplex_pipeline.core_preparation.channel_scanner\u001b[0m:\u001b[36mscan_channels_from_list\u001b[0m:\u001b[36m88\u001b[0m - \u001b[1m  Unused: Channel 015_DAPI <- /CellDive/BLCA-1B/BLCA-1B_Final/BLCA-1B_15.0.4_R000_DAPI__FINAL_F.ome.tif\u001b[0m\n",
      "\u001b[32m2025-06-17 15:43:21.648\u001b[0m | \u001b[1mINFO    \u001b[0m | \u001b[36mmultiplex_pipeline.core_preparation.channel_scanner\u001b[0m:\u001b[36mscan_channels_from_list\u001b[0m:\u001b[36m88\u001b[0m - \u001b[1m  Unused: Channel 016_DAPI <- /CellDive/BLCA-1B/BLCA-1B_Final/BLCA-1B_16.0.4_R000_DAPI__FINAL_F.ome.tif\u001b[0m\n",
      "\u001b[32m2025-06-17 15:43:21.648\u001b[0m | \u001b[1mINFO    \u001b[0m | \u001b[36mmultiplex_pipeline.core_preparation.channel_scanner\u001b[0m:\u001b[36mscan_channels_from_list\u001b[0m:\u001b[36m88\u001b[0m - \u001b[1m  Unused: Channel 017_DAPI <- /CellDive/BLCA-1B/BLCA-1B_Final/BLCA-1B_17.0.4_R000_DAPI__FINAL_F.ome.tif\u001b[0m\n",
      "\u001b[32m2025-06-17 15:43:21.649\u001b[0m | \u001b[1mINFO    \u001b[0m | \u001b[36mmultiplex_pipeline.core_preparation.channel_scanner\u001b[0m:\u001b[36mscan_channels_from_list\u001b[0m:\u001b[36m88\u001b[0m - \u001b[1m  Unused: Channel 018_DAPI <- /CellDive/BLCA-1B/BLCA-1B_Final/BLCA-1B_18.0.4_R000_DAPI__FINAL_F.ome.tif\u001b[0m\n",
      "\u001b[32m2025-06-17 15:43:21.650\u001b[0m | \u001b[1mINFO    \u001b[0m | \u001b[36mmultiplex_pipeline.core_preparation.channel_scanner\u001b[0m:\u001b[36mscan_channels_from_list\u001b[0m:\u001b[36m88\u001b[0m - \u001b[1m  Unused: Channel 019_DAPI <- /CellDive/BLCA-1B/BLCA-1B_Final/BLCA-1B_19.0.4_R000_DAPI__FINAL_F.ome.tif\u001b[0m\n",
      "\u001b[32m2025-06-17 15:43:21.651\u001b[0m | \u001b[1mINFO    \u001b[0m | \u001b[36mmultiplex_pipeline.core_preparation.channel_scanner\u001b[0m:\u001b[36mscan_channels_from_list\u001b[0m:\u001b[36m88\u001b[0m - \u001b[1m  Unused: Channel 020_DAPI <- /CellDive/BLCA-1B/BLCA-1B_Final/BLCA-1B_20.0.4_R000_DAPI__FINAL_F.ome.tif\u001b[0m\n",
      "\u001b[32m2025-06-17 15:43:21.652\u001b[0m | \u001b[1mINFO    \u001b[0m | \u001b[36mmultiplex_pipeline.core_preparation.channel_scanner\u001b[0m:\u001b[36mscan_channels_from_list\u001b[0m:\u001b[36m88\u001b[0m - \u001b[1m  Unused: Channel 021_DAPI <- /CellDive/BLCA-1B/BLCA-1B_Final/BLCA-1B_21.0.4_R000_DAPI__FINAL_F.ome.tif\u001b[0m\n",
      "\u001b[32m2025-06-17 15:43:21.652\u001b[0m | \u001b[1mINFO    \u001b[0m | \u001b[36mmultiplex_pipeline.core_preparation.channel_scanner\u001b[0m:\u001b[36mscan_channels_from_list\u001b[0m:\u001b[36m88\u001b[0m - \u001b[1m  Unused: Channel 022_DAPI <- /CellDive/BLCA-1B/BLCA-1B_Final/BLCA-1B_22.0.4_R000_DAPI__FINAL_F.ome.tif\u001b[0m\n",
      "\u001b[32m2025-06-17 15:43:21.653\u001b[0m | \u001b[1mINFO    \u001b[0m | \u001b[36mmultiplex_pipeline.core_preparation.channel_scanner\u001b[0m:\u001b[36mscan_channels_from_list\u001b[0m:\u001b[36m88\u001b[0m - \u001b[1m  Unused: Channel 023_DAPI <- /CellDive/BLCA-1B/BLCA-1B_Final/BLCA-1B_23.0.4_R000_DAPI__FINAL_F.ome.tif\u001b[0m\n",
      "\u001b[32m2025-06-17 15:43:21.654\u001b[0m | \u001b[1mINFO    \u001b[0m | \u001b[36mmultiplex_pipeline.core_preparation.channel_scanner\u001b[0m:\u001b[36mscan_channels_from_list\u001b[0m:\u001b[36m88\u001b[0m - \u001b[1m  Unused: Channel 024_DAPI <- /CellDive/BLCA-1B/BLCA-1B_Final/BLCA-1B_24.0.4_R000_DAPI__FINAL_F.ome.tif\u001b[0m\n",
      "\u001b[32m2025-06-17 15:43:21.655\u001b[0m | \u001b[1mINFO    \u001b[0m | \u001b[36mmultiplex_pipeline.core_preparation.channel_scanner\u001b[0m:\u001b[36mscan_channels_from_list\u001b[0m:\u001b[36m88\u001b[0m - \u001b[1m  Unused: Channel 025_CD86 <- /CellDive/BLCA-1B/BLCA-1B_Final/BLCA-1B_25.0.4_R000_Cy5_CD86-AF647_FINAL_AFR_F.ome.tif\u001b[0m\n",
      "\u001b[32m2025-06-17 15:43:21.656\u001b[0m | \u001b[1mINFO    \u001b[0m | \u001b[36mmultiplex_pipeline.core_preparation.channel_scanner\u001b[0m:\u001b[36mscan_channels_from_list\u001b[0m:\u001b[36m88\u001b[0m - \u001b[1m  Unused: Channel 025_DAPI <- /CellDive/BLCA-1B/BLCA-1B_Final/BLCA-1B_25.0.4_R000_DAPI__FINAL_F.ome.tif\u001b[0m\n",
      "\u001b[32m2025-06-17 15:43:21.656\u001b[0m | \u001b[1mINFO    \u001b[0m | \u001b[36mmultiplex_pipeline.core_preparation.channel_scanner\u001b[0m:\u001b[36mscan_channels_from_list\u001b[0m:\u001b[36m88\u001b[0m - \u001b[1m  Unused: Channel 026_DAPI <- /CellDive/BLCA-1B/BLCA-1B_Final/BLCA-1B_26.0.4_R000_DAPI__FINAL_F.ome.tif\u001b[0m\n",
      "\u001b[32m2025-06-17 15:43:21.657\u001b[0m | \u001b[1mINFO    \u001b[0m | \u001b[36mmultiplex_pipeline.core_preparation.channel_scanner\u001b[0m:\u001b[36mscan_channels_from_list\u001b[0m:\u001b[36m88\u001b[0m - \u001b[1m  Unused: Channel 027_CD4 <- /CellDive/BLCA-1B/BLCA-1B_Final/BLCA-1B_27.0.4_R000_Cy5_CD4-AF647_FINAL_AFR_F.ome.tif\u001b[0m\n",
      "\u001b[32m2025-06-17 15:43:21.658\u001b[0m | \u001b[1mINFO    \u001b[0m | \u001b[36mmultiplex_pipeline.core_preparation.channel_scanner\u001b[0m:\u001b[36mscan_channels_from_list\u001b[0m:\u001b[36m88\u001b[0m - \u001b[1m  Unused: Channel 027_DAPI <- /CellDive/BLCA-1B/BLCA-1B_Final/BLCA-1B_27.0.4_R000_DAPI__FINAL_F.ome.tif\u001b[0m\n",
      "\u001b[32m2025-06-17 15:43:21.659\u001b[0m | \u001b[1mINFO    \u001b[0m | \u001b[36mmultiplex_pipeline.core_preparation.channel_scanner\u001b[0m:\u001b[36mscan_channels_from_list\u001b[0m:\u001b[36m88\u001b[0m - \u001b[1m  Unused: Channel 028_DAPI <- /CellDive/BLCA-1B/BLCA-1B_Final/BLCA-1B_28.0.4_R000_DAPI__FINAL_F.ome.tif\u001b[0m\n",
      "\u001b[32m2025-06-17 15:43:21.660\u001b[0m | \u001b[1mINFO    \u001b[0m | \u001b[36mmultiplex_pipeline.core_preparation.channel_scanner\u001b[0m:\u001b[36mscan_channels_from_list\u001b[0m:\u001b[36m88\u001b[0m - \u001b[1m  Unused: Channel 029_DAPI <- /CellDive/BLCA-1B/BLCA-1B_Final/BLCA-1B_29.0.4_R000_DAPI__FINAL_F.ome.tif\u001b[0m\n"
     ]
    }
   ],
   "source": [
    "channel_map = discover_channels(input_globus_dir, include_channels=[], exclude_channels=[], gc = gc)"
   ]
  },
  {
   "cell_type": "code",
   "execution_count": 13,
   "metadata": {},
   "outputs": [
    {
     "data": {
      "text/plain": [
       "{'DAPI': '/CellDive/BLCA-1B/BLCA-1B_Final/BLCA-1B_1.0.4_R000_DAPI__FINAL_F.ome.tif',\n",
       " 'CD3': '/CellDive/BLCA-1B/BLCA-1B_Final/BLCA-1B_11.0.4_R000_Cy3_CD3-AF555_FINAL_AFR_F.ome.tif'}"
      ]
     },
     "execution_count": 13,
     "metadata": {},
     "output_type": "execute_result"
    }
   ],
   "source": [
    "selected_keys = [\"DAPI\", \"CD3\"]\n",
    "short_map = {k: channel_map[k] for k in selected_keys if k in channel_map}\n",
    "short_map"
   ]
  },
  {
   "cell_type": "code",
   "execution_count": 16,
   "metadata": {},
   "outputs": [
    {
     "data": {
      "text/plain": [
       "{'DAPI': 'D:\\\\multiplex_pipeline\\\\tests\\\\input_cache\\\\BLCA-1B_1.0.4_R000_DAPI__FINAL_F.ome.tif',\n",
       " 'CD3': 'D:\\\\multiplex_pipeline\\\\tests\\\\input_cache\\\\BLCA-1B_11.0.4_R000_Cy3_CD3-AF555_FINAL_AFR_F.ome.tif'}"
      ]
     },
     "execution_count": 16,
     "metadata": {},
     "output_type": "execute_result"
    }
   ],
   "source": [
    "# build transfer map\n",
    "transfer_cache_dir = Path(temp_dir) / \"input_cache\"\n",
    "transfer_map = build_transfer_map(short_map, transfer_cache_dir)\n",
    "\n",
    "# build a dict for transfered images\n",
    "image_paths = {\n",
    "    ch: str(Path(transfer_cache_dir) / Path(remote).name)\n",
    "    for ch, (remote, _) in transfer_map.items()\n",
    "}\n",
    "image_paths"
   ]
  },
  {
   "cell_type": "code",
   "execution_count": 36,
   "metadata": {},
   "outputs": [
    {
     "name": "stderr",
     "output_type": "stream",
     "text": [
      "\u001b[32m2025-06-17 16:32:35.669\u001b[0m | \u001b[1mINFO    \u001b[0m | \u001b[36mmultiplex_pipeline.core_preparation.file_io\u001b[0m:\u001b[36m_submit_all_transfers\u001b[0m:\u001b[36m65\u001b[0m - \u001b[1mSubmitted transfer for DAPI to /~/D/multiplex_pipeline/tests/input_cache/BLCA-1B_1.0.4_R000_DAPI__FINAL_F.ome.tif (task_id=32598a4f-4bba-11f0-a701-0affcfc1d1e5)\u001b[0m\n",
      "\u001b[32m2025-06-17 16:32:36.056\u001b[0m | \u001b[1mINFO    \u001b[0m | \u001b[36mmultiplex_pipeline.core_preparation.file_io\u001b[0m:\u001b[36m_submit_all_transfers\u001b[0m:\u001b[36m65\u001b[0m - \u001b[1mSubmitted transfer for CD3 to /~/D/multiplex_pipeline/tests/input_cache/BLCA-1B_11.0.4_R000_Cy3_CD3-AF555_FINAL_AFR_F.ome.tif (task_id=32b53b46-4bba-11f0-9834-0affcfc1d1e5)\u001b[0m\n",
      "\u001b[32m2025-06-17 16:32:36.097\u001b[0m | \u001b[1mINFO    \u001b[0m | \u001b[36mmultiplex_pipeline.core_preparation.controller\u001b[0m:\u001b[36mrun\u001b[0m:\u001b[36m48\u001b[0m - \u001b[1mStarting controller run loop...\u001b[0m\n",
      "\u001b[32m2025-06-17 16:33:16.366\u001b[0m | \u001b[1mINFO    \u001b[0m | \u001b[36mmultiplex_pipeline.core_preparation.file_io\u001b[0m:\u001b[36mfetch_or_wait\u001b[0m:\u001b[36m100\u001b[0m - \u001b[1mTransfer for CD3 complete: D:\\multiplex_pipeline\\tests\\input_cache\\BLCA-1B_11.0.4_R000_Cy3_CD3-AF555_FINAL_AFR_F.ome.tif\u001b[0m\n",
      "\u001b[32m2025-06-17 16:33:17.608\u001b[0m | \u001b[34m\u001b[1mDEBUG   \u001b[0m | \u001b[36mmultiplex_pipeline.core_preparation.controller\u001b[0m:\u001b[36mcut_channel\u001b[0m:\u001b[36m81\u001b[0m - \u001b[34m\u001b[1mCut and saved core Core_015, channel CD3\u001b[0m\n",
      "\u001b[32m2025-06-17 16:33:17.608\u001b[0m | \u001b[34m\u001b[1mDEBUG   \u001b[0m | \u001b[36mmultiplex_pipeline.core_preparation.controller\u001b[0m:\u001b[36mcut_channel\u001b[0m:\u001b[36m86\u001b[0m - \u001b[34m\u001b[1mClosed file handle for channel CD3\u001b[0m\n",
      "\u001b[32m2025-06-17 16:33:17.729\u001b[0m | \u001b[1mINFO    \u001b[0m | \u001b[36mmultiplex_pipeline.core_preparation.file_io\u001b[0m:\u001b[36mcleanup\u001b[0m:\u001b[36m129\u001b[0m - \u001b[1mCleaned up file: D:\\multiplex_pipeline\\tests\\input_cache\\BLCA-1B_11.0.4_R000_Cy3_CD3-AF555_FINAL_AFR_F.ome.tif\u001b[0m\n",
      "\u001b[32m2025-06-17 16:33:47.901\u001b[0m | \u001b[1mINFO    \u001b[0m | \u001b[36mmultiplex_pipeline.core_preparation.file_io\u001b[0m:\u001b[36mfetch_or_wait\u001b[0m:\u001b[36m100\u001b[0m - \u001b[1mTransfer for DAPI complete: D:\\multiplex_pipeline\\tests\\input_cache\\BLCA-1B_1.0.4_R000_DAPI__FINAL_F.ome.tif\u001b[0m\n",
      "\u001b[32m2025-06-17 16:33:49.171\u001b[0m | \u001b[34m\u001b[1mDEBUG   \u001b[0m | \u001b[36mmultiplex_pipeline.core_preparation.controller\u001b[0m:\u001b[36mcut_channel\u001b[0m:\u001b[36m81\u001b[0m - \u001b[34m\u001b[1mCut and saved core Core_015, channel DAPI\u001b[0m\n",
      "\u001b[32m2025-06-17 16:33:49.174\u001b[0m | \u001b[34m\u001b[1mDEBUG   \u001b[0m | \u001b[36mmultiplex_pipeline.core_preparation.controller\u001b[0m:\u001b[36mcut_channel\u001b[0m:\u001b[36m86\u001b[0m - \u001b[34m\u001b[1mClosed file handle for channel DAPI\u001b[0m\n",
      "\u001b[32m2025-06-17 16:33:49.706\u001b[0m | \u001b[1mINFO    \u001b[0m | \u001b[36mmultiplex_pipeline.core_preparation.file_io\u001b[0m:\u001b[36mcleanup\u001b[0m:\u001b[36m129\u001b[0m - \u001b[1mCleaned up file: D:\\multiplex_pipeline\\tests\\input_cache\\BLCA-1B_1.0.4_R000_DAPI__FINAL_F.ome.tif\u001b[0m\n",
      "\u001b[32m2025-06-17 16:33:49.706\u001b[0m | \u001b[1mINFO    \u001b[0m | \u001b[36mmultiplex_pipeline.core_preparation.controller\u001b[0m:\u001b[36mtry_assemble_ready_cores\u001b[0m:\u001b[36m92\u001b[0m - \u001b[1mAssembling full core Core_015\u001b[0m\n",
      "\u001b[32m2025-06-17 16:33:52.391\u001b[0m | \u001b[1mINFO    \u001b[0m | \u001b[36mmultiplex_pipeline.core_preparation.assembler\u001b[0m:\u001b[36massemble_core\u001b[0m:\u001b[36m71\u001b[0m - \u001b[1mCore 'Core_015' assembled with channels: ['CD3', 'DAPI']\u001b[0m\n"
     ]
    },
    {
     "name": "stdout",
     "output_type": "stream",
     "text": [
      "\u001b[34mINFO    \u001b[0m The Zarr backing store has been changed from \u001b[3;35mNone\u001b[0m the new file path:                                      \n",
      "         R:\\Wayne\\BLCA\\BLCA-1B_Analysis\\temp\\Core_015.zarr                                                         \n"
     ]
    },
    {
     "name": "stderr",
     "output_type": "stream",
     "text": [
      "\u001b[32m2025-06-17 16:34:18.002\u001b[0m | \u001b[34m\u001b[1mDEBUG   \u001b[0m | \u001b[36mmultiplex_pipeline.core_preparation.assembler\u001b[0m:\u001b[36m_cleanup_core_files\u001b[0m:\u001b[36m89\u001b[0m - \u001b[34m\u001b[1mDeleted intermediate TIFF: R:\\Wayne\\BLCA\\BLCA-1B_Analysis\\temp\\Core_015\\CD3.tiff\u001b[0m\n",
      "\u001b[32m2025-06-17 16:34:18.068\u001b[0m | \u001b[34m\u001b[1mDEBUG   \u001b[0m | \u001b[36mmultiplex_pipeline.core_preparation.assembler\u001b[0m:\u001b[36m_cleanup_core_files\u001b[0m:\u001b[36m89\u001b[0m - \u001b[34m\u001b[1mDeleted intermediate TIFF: R:\\Wayne\\BLCA\\BLCA-1B_Analysis\\temp\\Core_015\\DAPI.tiff\u001b[0m\n",
      "\u001b[32m2025-06-17 16:34:18.068\u001b[0m | \u001b[1mINFO    \u001b[0m | \u001b[36mmultiplex_pipeline.core_preparation.controller\u001b[0m:\u001b[36mrun\u001b[0m:\u001b[36m67\u001b[0m - \u001b[1mAll channels processed and cores assembled.\u001b[0m\n"
     ]
    }
   ],
   "source": [
    "strategy = GlobusFileStrategy(tc=tc, transfer_map=transfer_map, gc=gc, cleanup_enabled = transfer_cleanup_enabled)\n",
    "\n",
    "controller = CorePreparationController(\n",
    "    metadata_df = df.loc[15:15,:],\n",
    "    image_paths = image_paths,\n",
    "    temp_dir = temp_dir,\n",
    "    output_dir = output_dir,\n",
    "    file_strategy = strategy,\n",
    "    margin = margin,\n",
    "    mask_value = mask_value,\n",
    "    max_pyramid_levels = max_pyramid_levels,\n",
    "    core_cleanup_enabled = core_cleanup_enabled,\n",
    ")\n",
    "\n",
    "controller.run()"
   ]
  }
 ],
 "metadata": {
  "kernelspec": {
   "display_name": "napari-env",
   "language": "python",
   "name": "python3"
  },
  "language_info": {
   "codemirror_mode": {
    "name": "ipython",
    "version": 3
   },
   "file_extension": ".py",
   "mimetype": "text/x-python",
   "name": "python",
   "nbconvert_exporter": "python",
   "pygments_lexer": "ipython3",
   "version": "3.11.11"
  }
 },
 "nbformat": 4,
 "nbformat_minor": 2
}
