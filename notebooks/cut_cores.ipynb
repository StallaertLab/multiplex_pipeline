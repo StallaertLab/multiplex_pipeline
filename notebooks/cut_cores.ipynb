{
 "cells": [
  {
   "cell_type": "code",
   "execution_count": 1,
   "metadata": {},
   "outputs": [],
   "source": [
    "import os\n",
    "from tifffile import imread, imwrite\n",
    "import numpy as np\n",
    "import pandas as pd\n",
    "from skimage.draw import polygon"
   ]
  },
  {
   "cell_type": "code",
   "execution_count": 2,
   "metadata": {},
   "outputs": [],
   "source": [
    "input_dir = r'R:\\CellDive\\BLCA-1B\\BLCA-1B_Final'\n",
    "df_path = r'R:\\Wayne\\BLCA\\BLCA-1B_Analysis\\cores.pkl'\n",
    "#output_dir = r'R:\\Wayne\\BLCA\\BLCA-5_Analysis\\Core Storage'\n",
    "#selection_list = None"
   ]
  },
  {
   "cell_type": "code",
   "execution_count": 3,
   "metadata": {},
   "outputs": [
    {
     "data": {
      "text/html": [
       "<div>\n",
       "<style scoped>\n",
       "    .dataframe tbody tr th:only-of-type {\n",
       "        vertical-align: middle;\n",
       "    }\n",
       "\n",
       "    .dataframe tbody tr th {\n",
       "        vertical-align: top;\n",
       "    }\n",
       "\n",
       "    .dataframe thead th {\n",
       "        text-align: right;\n",
       "    }\n",
       "</style>\n",
       "<table border=\"1\" class=\"dataframe\">\n",
       "  <thead>\n",
       "    <tr style=\"text-align: right;\">\n",
       "      <th></th>\n",
       "      <th>core_name</th>\n",
       "      <th>row_start</th>\n",
       "      <th>row_stop</th>\n",
       "      <th>column_start</th>\n",
       "      <th>column_stop</th>\n",
       "      <th>poly_type</th>\n",
       "      <th>polygon_vertices</th>\n",
       "    </tr>\n",
       "  </thead>\n",
       "  <tbody>\n",
       "    <tr>\n",
       "      <th>0</th>\n",
       "      <td>Core_000</td>\n",
       "      <td>640.0</td>\n",
       "      <td>4992.0</td>\n",
       "      <td>3136.0</td>\n",
       "      <td>8832.0</td>\n",
       "      <td>polygon</td>\n",
       "      <td>[[2688.0, 6080.0], [4992.0, 3136.0], [640.0, 3...</td>\n",
       "    </tr>\n",
       "    <tr>\n",
       "      <th>1</th>\n",
       "      <td>Core_001</td>\n",
       "      <td>960.0</td>\n",
       "      <td>5632.0</td>\n",
       "      <td>9920.0</td>\n",
       "      <td>15680.0</td>\n",
       "      <td>rectangle</td>\n",
       "      <td>[[5632.0, 15680.0], [5632.0, 9920.0], [960.0, ...</td>\n",
       "    </tr>\n",
       "    <tr>\n",
       "      <th>2</th>\n",
       "      <td>Core_002</td>\n",
       "      <td>1664.0</td>\n",
       "      <td>5504.0</td>\n",
       "      <td>16896.0</td>\n",
       "      <td>22656.0</td>\n",
       "      <td>rectangle</td>\n",
       "      <td>[[5504.0, 22656.0], [5504.0, 16896.0], [1664.0...</td>\n",
       "    </tr>\n",
       "    <tr>\n",
       "      <th>3</th>\n",
       "      <td>Core_003</td>\n",
       "      <td>1728.0</td>\n",
       "      <td>5952.0</td>\n",
       "      <td>23680.0</td>\n",
       "      <td>29312.0</td>\n",
       "      <td>rectangle</td>\n",
       "      <td>[[5952.0, 29312.0], [5952.0, 23680.0], [1728.0...</td>\n",
       "    </tr>\n",
       "    <tr>\n",
       "      <th>4</th>\n",
       "      <td>Core_004</td>\n",
       "      <td>1856.0</td>\n",
       "      <td>6400.0</td>\n",
       "      <td>30400.0</td>\n",
       "      <td>35712.0</td>\n",
       "      <td>rectangle</td>\n",
       "      <td>[[6400.0, 35712.0], [6400.0, 30400.0], [1856.0...</td>\n",
       "    </tr>\n",
       "  </tbody>\n",
       "</table>\n",
       "</div>"
      ],
      "text/plain": [
       "  core_name  row_start  row_stop  column_start  column_stop  poly_type  \\\n",
       "0  Core_000      640.0    4992.0        3136.0       8832.0    polygon   \n",
       "1  Core_001      960.0    5632.0        9920.0      15680.0  rectangle   \n",
       "2  Core_002     1664.0    5504.0       16896.0      22656.0  rectangle   \n",
       "3  Core_003     1728.0    5952.0       23680.0      29312.0  rectangle   \n",
       "4  Core_004     1856.0    6400.0       30400.0      35712.0  rectangle   \n",
       "\n",
       "                                    polygon_vertices  \n",
       "0  [[2688.0, 6080.0], [4992.0, 3136.0], [640.0, 3...  \n",
       "1  [[5632.0, 15680.0], [5632.0, 9920.0], [960.0, ...  \n",
       "2  [[5504.0, 22656.0], [5504.0, 16896.0], [1664.0...  \n",
       "3  [[5952.0, 29312.0], [5952.0, 23680.0], [1728.0...  \n",
       "4  [[6400.0, 35712.0], [6400.0, 30400.0], [1856.0...  "
      ]
     },
     "execution_count": 3,
     "metadata": {},
     "output_type": "execute_result"
    }
   ],
   "source": [
    "df = pd.read_pickle(df_path)\n",
    "df.head()"
   ]
  },
  {
   "cell_type": "code",
   "execution_count": 4,
   "metadata": {},
   "outputs": [],
   "source": [
    "import zarr\n",
    "import dask.array as da\n",
    "\n",
    "\n",
    "# pathway to the image for segmentation\n",
    "im_path = r'R:\\CellDive\\BLCA-1B\\BLCA-1B_Final\\BLCA-1B_1.0.4_R000_DAPI__FINAL_F.ome.tif'\n",
    "\n",
    "store = imread(im_path,aszarr=True)\n",
    "group = zarr.open(store, mode='r')\n",
    "zattrs = group.attrs.asdict()\n",
    "level_num = 0\n",
    "\n",
    "path = zattrs['multiscales'][0]['datasets'][level_num]['path']\n",
    "im = da.from_zarr(group[path])"
   ]
  },
  {
   "cell_type": "code",
   "execution_count": 5,
   "metadata": {},
   "outputs": [],
   "source": [
    "%load_ext autoreload\n",
    "%autoreload 2\n",
    "\n",
    "from multiplex_pipeline.core_cutting.cutter import CoreCutter\n",
    "cutter = CoreCutter(margin=0, mask_value=0)\n",
    "test = cutter.extract_core(array=im, row=df.loc[1])"
   ]
  },
  {
   "cell_type": "code",
   "execution_count": 6,
   "metadata": {},
   "outputs": [
    {
     "data": {
      "text/plain": [
       "array([[114, 107,  97, ...,  98,  98,  98],\n",
       "       [114, 109, 114, ...,  98,  98,  98],\n",
       "       [117, 117, 128, ...,  98,  98,  98],\n",
       "       ...,\n",
       "       [350, 386, 378, ...,  98,  98,  98],\n",
       "       [369, 345, 400, ...,  98,  98,  98],\n",
       "       [385, 443, 383, ...,  98,  98,  98]], dtype=uint16)"
      ]
     },
     "execution_count": 6,
     "metadata": {},
     "output_type": "execute_result"
    }
   ],
   "source": [
    "test"
   ]
  },
  {
   "cell_type": "code",
   "execution_count": 7,
   "metadata": {},
   "outputs": [
    {
     "name": "stderr",
     "output_type": "stream",
     "text": [
      "c:\\Users\\KMK280\\AppData\\Local\\miniconda3\\envs\\napari-env\\Lib\\site-packages\\dask\\dataframe\\__init__.py:31: FutureWarning: The legacy Dask DataFrame implementation is deprecated and will be removed in a future version. Set the configuration option `dataframe.query-planning` to `True` or None to enable the new Dask Dataframe implementation and silence this warning.\n",
      "  warnings.warn(\n"
     ]
    }
   ],
   "source": [
    "from spatialdata import SpatialData\n",
    "from xarray import DataArray\n",
    "from spatialdata.models import Image2DModel"
   ]
  },
  {
   "cell_type": "code",
   "execution_count": 21,
   "metadata": {},
   "outputs": [
    {
     "data": {
      "text/plain": [
       "[]"
      ]
     },
     "execution_count": 21,
     "metadata": {},
     "output_type": "execute_result"
    }
   ],
   "source": [
    "max_pyramid_levels = 0\n",
    "scale_factors=[2**x for x in range(1,max_pyramid_levels) if max_pyramid_levels > 1]\n",
    "scale_factors"
   ]
  },
  {
   "cell_type": "code",
   "execution_count": null,
   "metadata": {},
   "outputs": [],
   "source": []
  },
  {
   "cell_type": "code",
   "execution_count": 15,
   "metadata": {},
   "outputs": [],
   "source": [
    "parsed_image = Image2DModel.parse(np.expand_dims(test, axis=0), dims=(\"c\",\"y\",\"x\"),scale_factors=[])\n",
    "Image2DModel().validate(parsed_image)"
   ]
  },
  {
   "cell_type": "code",
   "execution_count": 16,
   "metadata": {},
   "outputs": [
    {
     "data": {
      "text/plain": [
       "SpatialData object\n",
       "└── Images\n",
       "      └── 'im1': DataTree[cyx] (1, 4672, 5760)\n",
       "with coordinate systems:\n",
       "    ▸ 'global', with elements:\n",
       "        im1 (Images)"
      ]
     },
     "execution_count": 16,
     "metadata": {},
     "output_type": "execute_result"
    }
   ],
   "source": [
    "sd =SpatialData()\n",
    "my_images = {\"im1\": parsed_image}\n",
    "sd = SpatialData(images=my_images)\n",
    "sd"
   ]
  },
  {
   "cell_type": "code",
   "execution_count": 62,
   "metadata": {},
   "outputs": [
    {
     "data": {
      "text/plain": [
       "{'im1': <xarray.DataArray 'image' (c: 2, y: 4672, x: 5760)> Size: 108MB\n",
       "dask.array<array, shape=(2, 4672, 5760), dtype=uint16, chunksize=(2, 4672, 5760), chunktype=numpy.ndarray>\n",
       "Coordinates:\n",
       "  * c        (c) <U2 16B 't1' 't2'\n",
       "  * y        (y) float64 37kB 0.5 1.5 2.5 3.5 ... 4.67e+03 4.67e+03 4.672e+03\n",
       "  * x        (x) float64 46kB 0.5 1.5 2.5 3.5 ... 5.758e+03 5.758e+03 5.76e+03\n",
       "Attributes:\n",
       "    transform:  {'global': Identity }}"
      ]
     },
     "execution_count": 62,
     "metadata": {},
     "output_type": "execute_result"
    }
   ],
   "source": [
    "sd.images"
   ]
  },
  {
   "cell_type": "code",
   "execution_count": 8,
   "metadata": {},
   "outputs": [
    {
     "name": "stdout",
     "output_type": "stream",
     "text": [
      "The autoreload extension is already loaded. To reload it, use:\n",
      "  %reload_ext autoreload\n"
     ]
    }
   ],
   "source": [
    "%load_ext autoreload\n",
    "%autoreload 2\n",
    "\n",
    "from multiplex_pipeline.core_cutting.controller import CoreController"
   ]
  },
  {
   "cell_type": "code",
   "execution_count": null,
   "metadata": {},
   "outputs": [
    {
     "name": "stdout",
     "output_type": "stream",
     "text": [
      "Found 2 channels to process.\n",
      "Processing channel: CD3\n",
      "Processing channel: 002_DAPI\n",
      "Assembling SpatialData for: Core_000\n",
      "\u001b[34mINFO    \u001b[0m The Zarr backing store has been changed from \u001b[3;35mNone\u001b[0m the new file path:                                      \n",
      "         d:\\multiplex_pipeline\\notebooks\\Core_000.zarr                                                             \n",
      "Assembling SpatialData for: Core_001\n",
      "\u001b[34mINFO    \u001b[0m The Zarr backing store has been changed from \u001b[3;35mNone\u001b[0m the new file path:                                      \n",
      "         d:\\multiplex_pipeline\\notebooks\\Core_001.zarr                                                             \n",
      "Assembling SpatialData for: Core_002\n",
      "\u001b[34mINFO    \u001b[0m The Zarr backing store has been changed from \u001b[3;35mNone\u001b[0m the new file path:                                      \n",
      "         d:\\multiplex_pipeline\\notebooks\\Core_002.zarr                                                             \n"
     ]
    }
   ],
   "source": [
    "controller = CoreController(\n",
    "    metadata_df=df.loc[:2,:],\n",
    "    image_dir=r'R:\\CellDive\\BLCA-1B\\BLCA-1B_Final',\n",
    "    temp_dir=os.getcwd(),\n",
    "    output_dir=os.getcwd(),\n",
    "    max_pyramid_levels=3,\n",
    "    allowed_channels = ['CD3','002_DAPI'],\n",
    ")\n",
    "controller.run()"
   ]
  },
  {
   "cell_type": "markdown",
   "metadata": {},
   "source": [
    "Awesome, now let's deal with the file management. So, the files may be read in and saved locally or through Globus. If Globus is used than spatialdata "
   ]
  },
  {
   "cell_type": "code",
   "execution_count": 20,
   "metadata": {},
   "outputs": [
    {
     "data": {
      "text/plain": [
       "'d:\\\\multiplex_pipeline\\\\notebooks'"
      ]
     },
     "execution_count": 20,
     "metadata": {},
     "output_type": "execute_result"
    }
   ],
   "source": [
    "os.getcwd()"
   ]
  },
  {
   "cell_type": "code",
   "execution_count": 22,
   "metadata": {},
   "outputs": [],
   "source": [
    "from pathlib import Path"
   ]
  },
  {
   "cell_type": "code",
   "execution_count": 29,
   "metadata": {},
   "outputs": [
    {
     "ename": "ValueError",
     "evalue": "Cannot overwrite. The target path of the write operation is in use. Please save the data to a different location. \nDetails: the target path contains one or more files that Dask use for backing elements in the SpatialData object.\nWorkaround: please see discussion here https://github.com/scverse/spatialdata/discussions/520 .",
     "output_type": "error",
     "traceback": [
      "\u001b[1;31m---------------------------------------------------------------------------\u001b[0m",
      "\u001b[1;31mValueError\u001b[0m                                Traceback (most recent call last)",
      "File \u001b[1;32m<timed exec>:2\u001b[0m\n",
      "File \u001b[1;32mc:\\Users\\KMK280\\AppData\\Local\\miniconda3\\envs\\napari-env\\Lib\\site-packages\\spatialdata\\_core\\spatialdata.py:1210\u001b[0m, in \u001b[0;36mSpatialData.write\u001b[1;34m(self, file_path, overwrite, consolidate_metadata, format)\u001b[0m\n\u001b[0;32m   1208\u001b[0m \u001b[38;5;28;01mif\u001b[39;00m \u001b[38;5;28misinstance\u001b[39m(file_path, \u001b[38;5;28mstr\u001b[39m):\n\u001b[0;32m   1209\u001b[0m     file_path \u001b[38;5;241m=\u001b[39m Path(file_path)\n\u001b[1;32m-> 1210\u001b[0m \u001b[38;5;28;43mself\u001b[39;49m\u001b[38;5;241;43m.\u001b[39;49m\u001b[43m_validate_can_safely_write_to_path\u001b[49m\u001b[43m(\u001b[49m\u001b[43mfile_path\u001b[49m\u001b[43m,\u001b[49m\u001b[43m \u001b[49m\u001b[43moverwrite\u001b[49m\u001b[38;5;241;43m=\u001b[39;49m\u001b[43moverwrite\u001b[49m\u001b[43m)\u001b[49m\n\u001b[0;32m   1211\u001b[0m \u001b[38;5;28mself\u001b[39m\u001b[38;5;241m.\u001b[39m_validate_all_elements()\n\u001b[0;32m   1213\u001b[0m store \u001b[38;5;241m=\u001b[39m parse_url(file_path, mode\u001b[38;5;241m=\u001b[39m\u001b[38;5;124m\"\u001b[39m\u001b[38;5;124mw\u001b[39m\u001b[38;5;124m\"\u001b[39m)\u001b[38;5;241m.\u001b[39mstore\n",
      "File \u001b[1;32mc:\\Users\\KMK280\\AppData\\Local\\miniconda3\\envs\\napari-env\\Lib\\site-packages\\spatialdata\\_core\\spatialdata.py:1145\u001b[0m, in \u001b[0;36mSpatialData._validate_can_safely_write_to_path\u001b[1;34m(self, file_path, overwrite, saving_an_element)\u001b[0m\n\u001b[0;32m   1141\u001b[0m WORKAROUND \u001b[38;5;241m=\u001b[39m (\n\u001b[0;32m   1142\u001b[0m     \u001b[38;5;124m\"\u001b[39m\u001b[38;5;130;01m\\n\u001b[39;00m\u001b[38;5;124mWorkaround: please see discussion here https://github.com/scverse/spatialdata/discussions/520 .\u001b[39m\u001b[38;5;124m\"\u001b[39m\n\u001b[0;32m   1143\u001b[0m )\n\u001b[0;32m   1144\u001b[0m \u001b[38;5;28;01mif\u001b[39;00m \u001b[38;5;28many\u001b[39m(_backed_elements_contained_in_path(path\u001b[38;5;241m=\u001b[39mfile_path, \u001b[38;5;28mobject\u001b[39m\u001b[38;5;241m=\u001b[39m\u001b[38;5;28mself\u001b[39m)):\n\u001b[1;32m-> 1145\u001b[0m     \u001b[38;5;28;01mraise\u001b[39;00m \u001b[38;5;167;01mValueError\u001b[39;00m(\n\u001b[0;32m   1146\u001b[0m         ERROR_MSG \u001b[38;5;241m+\u001b[39m \u001b[38;5;124m\"\u001b[39m\u001b[38;5;130;01m\\n\u001b[39;00m\u001b[38;5;124mDetails: the target path contains one or more files that Dask use for \u001b[39m\u001b[38;5;124m\"\u001b[39m\n\u001b[0;32m   1147\u001b[0m         \u001b[38;5;124m\"\u001b[39m\u001b[38;5;124mbacking elements in the SpatialData object.\u001b[39m\u001b[38;5;124m\"\u001b[39m \u001b[38;5;241m+\u001b[39m WORKAROUND\n\u001b[0;32m   1148\u001b[0m     )\n\u001b[0;32m   1149\u001b[0m \u001b[38;5;28;01mif\u001b[39;00m \u001b[38;5;28mself\u001b[39m\u001b[38;5;241m.\u001b[39mpath \u001b[38;5;129;01mis\u001b[39;00m \u001b[38;5;129;01mnot\u001b[39;00m \u001b[38;5;28;01mNone\u001b[39;00m \u001b[38;5;129;01mand\u001b[39;00m (\n\u001b[0;32m   1150\u001b[0m     _is_subfolder(parent\u001b[38;5;241m=\u001b[39m\u001b[38;5;28mself\u001b[39m\u001b[38;5;241m.\u001b[39mpath, child\u001b[38;5;241m=\u001b[39mfile_path) \u001b[38;5;129;01mor\u001b[39;00m _is_subfolder(parent\u001b[38;5;241m=\u001b[39mfile_path, child\u001b[38;5;241m=\u001b[39m\u001b[38;5;28mself\u001b[39m\u001b[38;5;241m.\u001b[39mpath)\n\u001b[0;32m   1151\u001b[0m ):\n\u001b[0;32m   1152\u001b[0m     \u001b[38;5;28;01mif\u001b[39;00m saving_an_element \u001b[38;5;129;01mand\u001b[39;00m _is_subfolder(parent\u001b[38;5;241m=\u001b[39m\u001b[38;5;28mself\u001b[39m\u001b[38;5;241m.\u001b[39mpath, child\u001b[38;5;241m=\u001b[39mfile_path):\n",
      "\u001b[1;31mValueError\u001b[0m: Cannot overwrite. The target path of the write operation is in use. Please save the data to a different location. \nDetails: the target path contains one or more files that Dask use for backing elements in the SpatialData object.\nWorkaround: please see discussion here https://github.com/scverse/spatialdata/discussions/520 ."
     ]
    }
   ],
   "source": [
    "%%time\n",
    "f = Path(\"d:\\\\multiplex_pipeline\\\\notebooks\\Core_000.zarr\")\n",
    "sd.write(f, overwrite=True)\n"
   ]
  },
  {
   "cell_type": "code",
   "execution_count": 35,
   "metadata": {},
   "outputs": [
    {
     "name": "stderr",
     "output_type": "stream",
     "text": [
      "version mismatch: detected: RasterFormatV02, requested: FormatV04\n",
      "c:\\Users\\KMK280\\AppData\\Local\\miniconda3\\envs\\napari-env\\Lib\\site-packages\\zarr\\creation.py:614: UserWarning: ignoring keyword argument 'read_only'\n",
      "  compressor, fill_value = _kwargs_compat(compressor, fill_value, kwargs)\n",
      "version mismatch: detected: RasterFormatV02, requested: FormatV04\n"
     ]
    },
    {
     "data": {
      "text/plain": [
       "SpatialData object, with associated Zarr store: D:\\multiplex_pipeline\\notebooks\\Core_000.zarr\n",
       "└── Images\n",
       "      ├── '002_DAPI': DataTree[cyx] (1, 4352, 5696), (1, 2176, 2848), (1, 1088, 1424), (1, 544, 712)\n",
       "      └── 'CD3': DataTree[cyx] (1, 4352, 5696), (1, 2176, 2848), (1, 1088, 1424), (1, 544, 712)\n",
       "with coordinate systems:\n",
       "    ▸ 'global', with elements:\n",
       "        002_DAPI (Images), CD3 (Images)"
      ]
     },
     "execution_count": 35,
     "metadata": {},
     "output_type": "execute_result"
    }
   ],
   "source": [
    "f = Path(\"d:\\\\multiplex_pipeline\\\\notebooks\\Core_000.zarr\")\n",
    "sd = SpatialData.read(f)\n",
    "sd"
   ]
  },
  {
   "cell_type": "code",
   "execution_count": 31,
   "metadata": {},
   "outputs": [
    {
     "data": {
      "text/plain": [
       "[]"
      ]
     },
     "execution_count": 31,
     "metadata": {},
     "output_type": "execute_result"
    }
   ],
   "source": [
    "[2]*0"
   ]
  },
  {
   "cell_type": "code",
   "execution_count": 50,
   "metadata": {},
   "outputs": [
    {
     "data": {
      "text/plain": [
       "SpatialData object, with associated Zarr store: D:\\data_tt.zarr\n",
       "└── Images\n",
       "      ├── 'im1': DataArray[cyx] (1, 4672, 5760)\n",
       "      ├── 'im2': DataArray[cyx] (1, 4672, 5760)\n",
       "      └── 'im3': DataArray[cyx] (1, 4672, 5760)\n",
       "with coordinate systems:\n",
       "    ▸ 'global', with elements:\n",
       "        im1 (Images), im2 (Images), im3 (Images)\n",
       "with the following elements not in the Zarr store:\n",
       "    ▸ im3 (Images)"
      ]
     },
     "execution_count": 50,
     "metadata": {},
     "output_type": "execute_result"
    }
   ],
   "source": [
    "sd[\"im3\"] = parsed_image\n",
    "sd"
   ]
  },
  {
   "cell_type": "code",
   "execution_count": 45,
   "metadata": {},
   "outputs": [
    {
     "data": {
      "text/plain": [
       "SpatialData object, with associated Zarr store: D:\\data_tt.zarr\n",
       "└── Images\n",
       "      └── 'im1': DataArray[cyx] (1, 4672, 5760)\n",
       "with coordinate systems:\n",
       "    ▸ 'global', with elements:\n",
       "        im1 (Images)"
      ]
     },
     "execution_count": 45,
     "metadata": {},
     "output_type": "execute_result"
    }
   ],
   "source": [
    "sd"
   ]
  },
  {
   "cell_type": "code",
   "execution_count": 47,
   "metadata": {},
   "outputs": [
    {
     "name": "stdout",
     "output_type": "stream",
     "text": [
      "CPU times: total: 62.5 ms\n",
      "Wall time: 191 ms\n"
     ]
    }
   ],
   "source": [
    "%%time\n",
    "sd.write_element(\"im2\")"
   ]
  },
  {
   "cell_type": "code",
   "execution_count": 7,
   "metadata": {},
   "outputs": [
    {
     "data": {
      "text/plain": [
       "<Image layer 'test' at 0x1f77e8a63d0>"
      ]
     },
     "execution_count": 7,
     "metadata": {},
     "output_type": "execute_result"
    }
   ],
   "source": [
    "import napari\n",
    "viewer = napari.Viewer()\n",
    "viewer.add_image(test)"
   ]
  },
  {
   "cell_type": "code",
   "execution_count": 4,
   "metadata": {},
   "outputs": [
    {
     "name": "stdout",
     "output_type": "stream",
     "text": [
      "BLCA-5_1.0.4_R000_Cy3_pH2AX-AF555_FINAL_AFR_F.ome.tif\n",
      "BLCA-5_1.0.4_R000_Cy5_pRB-AF647_FINAL_AFR_F.ome.tif\n",
      "BLCA-5_1.0.4_R000_Cy7_cycD3-AF750_FINAL_AFR_F.ome.tif\n",
      "BLCA-5_1.0.4_R000_DAPI__FINAL_F.ome.tif\n",
      "BLCA-5_1.0.4_R000_FITC_CDC25C-AF488_FINAL_AFR_F.ome.tif\n",
      "BLCA-5_10.0.4_R000_Cy3_p38-AF555_FINAL_AFR_F.ome.tif\n",
      "BLCA-5_10.0.4_R000_Cy5_p16-AF647_FINAL_AFR_F.ome.tif\n",
      "BLCA-5_10.0.4_R000_Cy7_PDL1-AF750_FINAL_AFR_F.ome.tif\n",
      "BLCA-5_10.0.4_R000_DAPI__FINAL_F.ome.tif\n",
      "BLCA-5_10.0.4_R000_FITC_CD127-AF488_FINAL_AFR_F.ome.tif\n",
      "BLCA-5_11.0.4_R000_Cy3_CD3-AF555_FINAL_AFR_F.ome.tif\n",
      "BLCA-5_11.0.4_R000_Cy5_SKP2-AF647_FINAL_AFR_F.ome.tif\n",
      "BLCA-5_11.0.4_R000_Cy7_CD45-AF750_FINAL_AFR_F.ome.tif\n",
      "BLCA-5_11.0.4_R000_DAPI__FINAL_F.ome.tif\n",
      "BLCA-5_11.0.4_R000_FITC_CCR7-AF488_FINAL_AFR_F.ome.tif\n",
      "BLCA-5_12.0.4_R000_Cy3_CD11C-AF555_FINAL_AFR_F.ome.tif\n",
      "BLCA-5_12.0.4_R000_Cy5_cMYC-AF647_FINAL_AFR_F.ome.tif\n",
      "BLCA-5_12.0.4_R000_Cy7_CD20-AF750_FINAL_AFR_F.ome.tif\n",
      "BLCA-5_12.0.4_R000_DAPI__FINAL_F.ome.tif\n",
      "BLCA-5_12.0.4_R000_FITC_IL-8-AF488_FINAL_AFR_F.ome.tif\n",
      "BLCA-5_13.0.4_R000_Cy3_CD68-AF555_FINAL_AFR_F.ome.tif\n",
      "BLCA-5_13.0.4_R000_Cy5_CD69-AF647_FINAL_AFR_F.ome.tif\n",
      "BLCA-5_13.0.4_R000_Cy7_PH3-AF750_FINAL_AFR_F.ome.tif\n",
      "BLCA-5_13.0.4_R000_DAPI__FINAL_F.ome.tif\n",
      "BLCA-5_13.0.4_R000_FITC_TNFa-AF488_FINAL_AFR_F.ome.tif\n",
      "BLCA-5_14.0.4_R000_Cy3_PD-1-AF555_FINAL_AFR_F.ome.tif\n",
      "BLCA-5_14.0.4_R000_Cy5_CD4-AF647_FINAL_AFR_F.ome.tif\n",
      "BLCA-5_14.0.4_R000_Cy7_FOXP3-AF750_FINAL_AFR_F.ome.tif\n",
      "BLCA-5_14.0.4_R000_DAPI__FINAL_F.ome.tif\n",
      "BLCA-5_14.0.4_R000_FITC_Snail1-AF488_FINAL_AFR_F.ome.tif\n",
      "BLCA-5_15.0.4_R000_Cy3_CD11b-AF555_FINAL_AFR_F.ome.tif\n",
      "BLCA-5_15.0.4_R000_Cy5_CD8a-AF647_FINAL_AFR_F.ome.tif\n",
      "BLCA-5_15.0.4_R000_Cy7_NaKATPase-AF750_FINAL_AFR_F.ome.tif\n",
      "BLCA-5_15.0.4_R000_DAPI__FINAL_F.ome.tif\n",
      "BLCA-5_15.0.4_R000_FITC_Antibody1_FINAL_AFR_F.ome.tif\n",
      "BLCA-5_16.0.4_R000_Cy3_CD31-AF555_FINAL_AFR_F.ome.tif\n",
      "BLCA-5_16.0.4_R000_Cy5_pERK-AF647_FINAL_AFR_F.ome.tif\n",
      "BLCA-5_16.0.4_R000_Cy7_CD44-AF750_FINAL_AFR_F.ome.tif\n",
      "BLCA-5_16.0.4_R000_DAPI__FINAL_F.ome.tif\n",
      "BLCA-5_17.0.4_R000_Cy3_CD27-AF555_FINAL_AFR_F.ome.tif\n",
      "BLCA-5_17.0.4_R000_Cy5_pAKT-AF647_FINAL_AFR_F.ome.tif\n",
      "BLCA-5_17.0.4_R000_Cy7_CDC6-AF750_FINAL_AFR_F.ome.tif\n",
      "BLCA-5_17.0.4_R000_DAPI__FINAL_F.ome.tif\n",
      "BLCA-5_18.0.4_R000_Cy3_GranzymeB-AF555_FINAL_AFR_F.ome.tif\n",
      "BLCA-5_18.0.4_R000_Cy5_TGFb1-AF647_FINAL_AFR_F.ome.tif\n",
      "BLCA-5_18.0.4_R000_Cy7_p130-AF750_FINAL_AFR_F.ome.tif\n",
      "BLCA-5_18.0.4_R000_DAPI__FINAL_F.ome.tif\n",
      "BLCA-5_19.0.4_R000_Cy3_CD163-AF555_FINAL_AFR_F.ome.tif\n",
      "BLCA-5_19.0.4_R000_Cy5_Fibro-AF647_FINAL_AFR_F.ome.tif\n",
      "BLCA-5_19.0.4_R000_Cy7_p-p130-AF750_FINAL_AFR_F.ome.tif\n",
      "BLCA-5_19.0.4_R000_DAPI__FINAL_F.ome.tif\n",
      "BLCA-5_2.0.4_R000_Cy3_cycA1-AF555_FINAL_AFR_F.ome.tif\n",
      "BLCA-5_2.0.4_R000_Cy5_cycE1-AF647_FINAL_AFR_F.ome.tif\n",
      "BLCA-5_2.0.4_R000_Cy7_cycB2-AF750_FINAL_AFR_F.ome.tif\n",
      "BLCA-5_2.0.4_R000_DAPI__FINAL_F.ome.tif\n",
      "BLCA-5_2.0.4_R000_FITC_cycE2-AF488_FINAL_AFR_F.ome.tif\n",
      "BLCA-5_20.0.4_R000_Cy3_HLA1-AF555_FINAL_AFR_F.ome.tif\n",
      "BLCA-5_20.0.4_R000_Cy5_EpCAM-AF647_FINAL_AFR_F.ome.tif\n",
      "BLCA-5_20.0.4_R000_Cy7_pATR-AF750_FINAL_AFR_F.ome.tif\n",
      "BLCA-5_20.0.4_R000_DAPI__FINAL_F.ome.tif\n",
      "BLCA-5_21.0.4_R000_Cy3_SMA-Cy3_FINAL_AFR_F.ome.tif\n",
      "BLCA-5_21.0.4_R000_Cy5_IL6-AF647_FINAL_AFR_F.ome.tif\n",
      "BLCA-5_21.0.4_R000_Cy7_53BP1-AF750_FINAL_AFR_F.ome.tif\n",
      "BLCA-5_21.0.4_R000_DAPI__FINAL_F.ome.tif\n",
      "BLCA-5_22.0.4_R000_Cy5_CD19-AF647_FINAL_AFR_F.ome.tif\n",
      "BLCA-5_22.0.4_R000_Cy7_CD56-AF750_FINAL_AFR_F.ome.tif\n",
      "BLCA-5_22.0.4_R000_DAPI__FINAL_F.ome.tif\n",
      "BLCA-5_23.0.4_R000_Cy5_CD25-AF647_FINAL_AFR_F.ome.tif\n",
      "BLCA-5_23.0.4_R000_Cy7_CD73-AF750_FINAL_AFR_F.ome.tif\n",
      "BLCA-5_23.0.4_R000_DAPI__FINAL_F.ome.tif\n",
      "BLCA-5_24.0.4_R000_Cy5_PML-AF647_FINAL_AFR_F.ome.tif\n",
      "BLCA-5_24.0.4_R000_Cy7_HLADR-AF750_FINAL_AFR_F.ome.tif\n",
      "BLCA-5_24.0.4_R000_DAPI__FINAL_F.ome.tif\n",
      "BLCA-5_25.0.4_R000_Cy3_ECad-AF555_FINAL_AFR_F.ome.tif\n",
      "BLCA-5_25.0.4_R000_Cy5_CD86-AF647_FINAL_AFR_F.ome.tif\n",
      "BLCA-5_25.0.4_R000_Cy7_p27-AF750_FINAL_AFR_F.ome.tif\n",
      "BLCA-5_25.0.4_R000_DAPI__FINAL_F.ome.tif\n",
      "BLCA-5_25.0.4_R000_FITC_LaminB1-AF488_FINAL_AFR_F.ome.tif\n",
      "BLCA-5_26.0.4_R000_Cy3_ERa-AF555_FINAL_AFR_F.ome.tif\n",
      "BLCA-5_26.0.4_R000_Cy5_HIF1a-AF647_FINAL_AFR_F.ome.tif\n",
      "BLCA-5_26.0.4_R000_Cy7_ProgRc-AF750_FINAL_AFR_F.ome.tif\n",
      "BLCA-5_26.0.4_R000_DAPI__FINAL_F.ome.tif\n",
      "BLCA-5_26.0.4_R000_FITC_HER2-AF488_FINAL_AFR_F.ome.tif\n",
      "BLCA-5_27.0.4_R000_Cy3_CD68-AF555_FINAL_AFR_F.ome.tif\n",
      "BLCA-5_27.0.4_R000_Cy5_CD4-AF647_FINAL_AFR_F.ome.tif\n",
      "BLCA-5_27.0.4_R000_Cy7_FOXP3-AF750_FINAL_AFR_F.ome.tif\n",
      "BLCA-5_27.0.4_R000_DAPI__FINAL_F.ome.tif\n",
      "BLCA-5_27.0.4_R000_FITC_CD45RO-AF488_FINAL_AFR_F.ome.tif\n",
      "BLCA-5_28.0.4_R000_Cy3_p65-AF555_FINAL_AFR_F.ome.tif\n",
      "BLCA-5_28.0.4_R000_Cy5_CD86-AF647_FINAL_AFR_F.ome.tif\n",
      "BLCA-5_28.0.4_R000_Cy7_LAG3-AF750_FINAL_AFR_F.ome.tif\n",
      "BLCA-5_28.0.4_R000_DAPI__FINAL_F.ome.tif\n",
      "BLCA-5_29.0.4_R000_Cy3_CD4-AF555_FINAL_AFR_F.ome.tif\n",
      "BLCA-5_29.0.4_R000_Cy5_CD62L-AF647_FINAL_AFR_F.ome.tif\n",
      "BLCA-5_29.0.4_R000_Cy7_Coll3-AF750_FINAL_AFR_F.ome.tif\n",
      "BLCA-5_29.0.4_R000_DAPI__FINAL_F.ome.tif\n",
      "BLCA-5_3.0.4_R000_Cy3_cycD1-AF555_FINAL_AFR_F.ome.tif\n",
      "BLCA-5_3.0.4_R000_Cy5_Ki67-AF647_FINAL_AFR_F.ome.tif\n",
      "BLCA-5_3.0.4_R000_Cy7_RB-AF750_FINAL_AFR_F.ome.tif\n",
      "BLCA-5_3.0.4_R000_DAPI__FINAL_F.ome.tif\n",
      "BLCA-5_3.0.4_R000_FITC_cCASP3-AF488_FINAL_AFR_F.ome.tif\n",
      "BLCA-5_4.0.4_R000_Cy3_cycA2-AF555_FINAL_AFR_F.ome.tif\n",
      "BLCA-5_4.0.4_R000_Cy5_p53-AF647_FINAL_AFR_F.ome.tif\n",
      "BLCA-5_4.0.4_R000_Cy7_E2F1-AF750_FINAL_AFR_F.ome.tif\n",
      "BLCA-5_4.0.4_R000_DAPI__FINAL_F.ome.tif\n",
      "BLCA-5_4.0.4_R000_FITC_HES1-AF488_FINAL_AFR_F.ome.tif\n",
      "BLCA-5_5.0.4_R000_Cy3_bCat-AF555_FINAL_AFR_F.ome.tif\n",
      "BLCA-5_5.0.4_R000_Cy5_CDK6-AF647_FINAL_AFR_F.ome.tif\n",
      "BLCA-5_5.0.4_R000_Cy7_p27-AF750_FINAL_AFR_F.ome.tif\n",
      "BLCA-5_5.0.4_R000_DAPI__FINAL_F.ome.tif\n",
      "BLCA-5_5.0.4_R000_FITC_p65-AF488_FINAL_AFR_F.ome.tif\n",
      "BLCA-5_6.0.4_R000_Cy3_CycB1-AF555_FINAL_AFR_F.ome.tif\n",
      "BLCA-5_6.0.4_R000_Cy5_PCNA-AF647_FINAL_AFR_F.ome.tif\n",
      "BLCA-5_6.0.4_R000_Cy7_p-Cdc6-AF750_FINAL_AFR_F.ome.tif\n",
      "BLCA-5_6.0.4_R000_DAPI__FINAL_F.ome.tif\n",
      "BLCA-5_6.0.4_R000_FITC_Plk1-AF488_FINAL_AFR_F.ome.tif\n",
      "BLCA-5_7.0.4_R000_Cy3_wee1-AF555_FINAL_AFR_F.ome.tif\n",
      "BLCA-5_7.0.4_R000_Cy5_CDT1-AF647_FINAL_AFR_F.ome.tif\n",
      "BLCA-5_7.0.4_R000_Cy7_CDK4-AF750_FINAL_AFR_F.ome.tif\n",
      "BLCA-5_7.0.4_R000_DAPI__FINAL_F.ome.tif\n",
      "BLCA-5_7.0.4_R000_FITC_VIM-AF488_FINAL_AFR_F.ome.tif\n",
      "BLCA-5_8.0.4_R000_Cy3_YAP1-AF555_FINAL_AFR_F.ome.tif\n",
      "BLCA-5_8.0.4_R000_Cy5_pRB-AF647_FINAL_AFR_F.ome.tif\n",
      "BLCA-5_8.0.4_R000_Cy7_CDK2-AF750_FINAL_AFR_F.ome.tif\n",
      "BLCA-5_8.0.4_R000_DAPI__FINAL_F.ome.tif\n",
      "BLCA-5_8.0.4_R000_FITC_ECad-AF488_FINAL_AFR_F.ome.tif\n",
      "BLCA-5_9.0.4_R000_Cy3_pS6-AF555_FINAL_AFR_F.ome.tif\n",
      "BLCA-5_9.0.4_R000_Cy5_p21-AF647_FINAL_AFR_F.ome.tif\n",
      "BLCA-5_9.0.4_R000_Cy7_pCK26-AF750_FINAL_AFR_F.ome.tif\n",
      "BLCA-5_9.0.4_R000_DAPI__FINAL_F.ome.tif\n",
      "BLCA-5_9.0.4_R000_FITC_CD45RO-AF488_FINAL_AFR_F.ome.tif\n"
     ]
    }
   ],
   "source": [
    "# keep only the selected cores\n",
    "if selection_list:\n",
    "    df = df[df['core_id'].isin(selection_list[0])]\n",
    "\n",
    "# get list of subdirectories\n",
    "dir_list = os.listdir(input_dir)\n",
    "\n",
    "for ind,core in df.iterrows():\n",
    "    if core.core_name not in dir_list:\n",
    "        os.makedirs(os.path.join(output_dir,core.core_name), exist_ok=True)\n",
    "\n",
    "# get the list of images\n",
    "im_list = [x for x in os.listdir(input_dir) if ('.ome.tif' in x and '.0.4_R' in x)]\n",
    "\n",
    "mask_dict = {}\n",
    "\n",
    "for im_name in im_list:\n",
    "    print(im_name)\n",
    "    im = imread(os.path.join(input_dir,im_name))\n",
    "\n",
    "    for ind,core in df.iterrows():\n",
    "\n",
    "        core_im = im[core.row_start:core.row_stop,core.column_start:core.column_stop]\n",
    "\n",
    "        if core.poly_type != 'rectangle':\n",
    "\n",
    "            mask = mask_dict.get(core.core_name)\n",
    "\n",
    "            if mask is None:\n",
    "            \n",
    "                mask = np.zeros_like(core_im, dtype=bool)\n",
    "                r, c = polygon(core.polygon_vertices[:, 1], core.polygon_vertices[:, 0], mask.shape)\n",
    "\n",
    "                mask[r, c] = True\n",
    "\n",
    "                mask_dict[core.core_name] = mask\n",
    "\n",
    "            core_im[~mask] = 0\n",
    "\n",
    "        # save the core\n",
    "        core_name = im_name.replace('.ome.tif',f'_{core.core_name}.ome.tif')\n",
    "        imwrite(os.path.join(output_dir,core.core_name,core_name),core_im)"
   ]
  },
  {
   "cell_type": "code",
   "execution_count": 5,
   "metadata": {},
   "outputs": [
    {
     "data": {
      "text/plain": [
       "7.983333333333333"
      ]
     },
     "execution_count": 5,
     "metadata": {},
     "output_type": "execute_result"
    }
   ],
   "source": [
    "479/60\n"
   ]
  },
  {
   "cell_type": "code",
   "execution_count": null,
   "metadata": {},
   "outputs": [],
   "source": []
  }
 ],
 "metadata": {
  "kernelspec": {
   "display_name": "napari-env",
   "language": "python",
   "name": "python3"
  },
  "language_info": {
   "codemirror_mode": {
    "name": "ipython",
    "version": 3
   },
   "file_extension": ".py",
   "mimetype": "text/x-python",
   "name": "python",
   "nbconvert_exporter": "python",
   "pygments_lexer": "ipython3",
   "version": "3.11.11"
  }
 },
 "nbformat": 4,
 "nbformat_minor": 2
}
