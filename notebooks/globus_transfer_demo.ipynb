{
 "cells": [
  {
   "cell_type": "code",
   "execution_count": null,
   "id": "1e612dc4",
   "metadata": {},
   "outputs": [],
   "source": [
    "from pathlib import Path\n",
    "from multiplex_pipeline.utils.config_loaders import load_analysis_settings\n",
    "from multiplex_pipeline.utils.globus_utils import GlobusConfig, create_globus_tc\n",
    "from multiplex_pipeline.utils.file_utils import GlobusPathConverter"
   ]
  },
  {
   "cell_type": "code",
   "execution_count": 3,
   "id": "e49a454b",
   "metadata": {},
   "outputs": [],
   "source": [
    "# define pathways\n",
    "settings_path = r'R:\\Wayne\\BLCA\\BLCA-2_Analysis\\analysis_settings_BLCA2.yaml'\n",
    "\n",
    "globus_config_path = r'D:\\globus_config\\globus_config.yaml'"
   ]
  },
  {
   "cell_type": "code",
   "execution_count": 12,
   "id": "3377fd96",
   "metadata": {},
   "outputs": [],
   "source": [
    "# get Globus settings\n",
    "gc = GlobusConfig.from_config_files(globus_config_path, from_collection = 'r_collection_id', to_collection = 'crcd_collection_id')\n",
    "tc = create_globus_tc(gc.client_id, gc.transfer_tokens)"
   ]
  },
  {
   "cell_type": "code",
   "execution_count": 4,
   "id": "97acf26b",
   "metadata": {},
   "outputs": [
    {
     "data": {
      "text/plain": [
       "{'image_dir': 'R:/CellDive/BLCA-2/BLCA-2_Final',\n",
       " 'analysis_name': 'BLCA-2_Analysis',\n",
       " 'local_analysis_dir': 'R:/Wayne/BLCA',\n",
       " 'remote_analysis_dir': '/ix1/kkedziora/blca_analysis',\n",
       " 'log_dir': WindowsPath('R:/Wayne/BLCA/BLCA-2_Analysis/logs'),\n",
       " 'detection_image': 'BLCA-2_1.0.4_R000_DAPI__FINAL_F.ome.tif',\n",
       " 'core_info_file_path': WindowsPath('R:/Wayne/BLCA/BLCA-2_Analysis/cores.csv'),\n",
       " 'cores_dir_tif': WindowsPath('R:/Wayne/BLCA/BLCA-2_Analysis/temp'),\n",
       " 'cores_dir_output': WindowsPath('R:/Wayne/BLCA/BLCA-2_Analysis/cores'),\n",
       " 'include_channels': None,\n",
       " 'exclude_channels': ['008_ECad'],\n",
       " 'use_markers': None,\n",
       " 'ignore_markers': ['Antibody1',\n",
       "  'TNFa',\n",
       "  'Snail1',\n",
       "  'SKP2',\n",
       "  'ProgRc',\n",
       "  'Plk1',\n",
       "  'PH3',\n",
       "  'PDL1',\n",
       "  'p65',\n",
       "  'p130',\n",
       "  'p-p130',\n",
       "  'p-Cdc6',\n",
       "  'LAG3',\n",
       "  'IL-8',\n",
       "  'HER2',\n",
       "  'ERa',\n",
       "  'EpCAM',\n",
       "  'E2F1',\n",
       "  'cycD3',\n",
       "  'cycB2',\n",
       "  'CDC25C',\n",
       "  'CD86',\n",
       "  'CD73',\n",
       "  'CD69',\n",
       "  'CD62L',\n",
       "  'CD56',\n",
       "  'CD4',\n",
       "  'CD25',\n",
       "  'CD19',\n",
       "  'CD27',\n",
       "  'CCR7',\n",
       "  'cCASP3'],\n",
       " 'segmentation': {'package': 'instanseg',\n",
       "  'model': 'fluorescence_nuclei_and_cells',\n",
       "  'kwargs': {'pixel_size': 0.3,\n",
       "   'resolve_cell_and_nucleus': True,\n",
       "   'cleanup_fragments': True},\n",
       "  'input': ['DAPI',\n",
       "   'HLA1',\n",
       "   'CD44',\n",
       "   'NaKATPase',\n",
       "   'CD11C',\n",
       "   'CD45',\n",
       "   'pCK26',\n",
       "   'pS6',\n",
       "   'HES1'],\n",
       "  'output_name': ['instanseg_nucleus', 'instanseg_cell'],\n",
       "  'preprocessing': {'mix': None, 'denoise': None, 'normalize': [1, 99.5]},\n",
       "  'cleaner': 'BlobCleaner'},\n",
       " 'core_detection': {'im_level': 6,\n",
       "  'min_area': 2000,\n",
       "  'max_area': 10000,\n",
       "  'min_iou': 0.8,\n",
       "  'min_st': 0.9,\n",
       "  'min_int': 15,\n",
       "  'frame': 4},\n",
       " 'core_cutting': {'margin': 0,\n",
       "  'mask_value': 0,\n",
       "  'max_pyramid_level': 2,\n",
       "  'transfer_cleanup_enabled': True,\n",
       "  'core_cleanup_enabled': True,\n",
       "  'chunk_size': [1, 512, 512]},\n",
       " 'analysis_dir': WindowsPath('R:/Wayne/BLCA/BLCA-2_Analysis'),\n",
       " 'temp_dir': WindowsPath('R:/Wayne/BLCA/BLCA-2_Analysis/temp')}"
      ]
     },
     "execution_count": 4,
     "metadata": {},
     "output_type": "execute_result"
    }
   ],
   "source": [
    "# load analysis configuration\n",
    "settings = load_analysis_settings(settings_path)\n",
    "settings"
   ]
  },
  {
   "cell_type": "code",
   "execution_count": null,
   "id": "a522a272",
   "metadata": {},
   "outputs": [
    {
     "data": {
      "text/plain": [
       "'/ix1/kkedziora/blca_analysis/BLCA-2_Analysis'"
      ]
     },
     "execution_count": 9,
     "metadata": {},
     "output_type": "execute_result"
    }
   ],
   "source": [
    "conv = GlobusPathConverter(layout=\"single_drive\")\n",
    "\n",
    "remote_pathway = settings['remote_analysis_dir'] +'/'+ settings['analysis_name']\n",
    "local_pathway = conv.windows_to_globus"
   ]
  },
  {
   "cell_type": "code",
   "execution_count": null,
   "id": "d03c0d43",
   "metadata": {},
   "outputs": [],
   "source": [
    "transfer_map = {}\n",
    "transfer_map['settings'] = (local_settings_path, remote_settings_path)"
   ]
  }
 ],
 "metadata": {
  "kernelspec": {
   "display_name": "sdata-env",
   "language": "python",
   "name": "python3"
  },
  "language_info": {
   "codemirror_mode": {
    "name": "ipython",
    "version": 3
   },
   "file_extension": ".py",
   "mimetype": "text/x-python",
   "name": "python",
   "nbconvert_exporter": "python",
   "pygments_lexer": "ipython3",
   "version": "3.11.13"
  }
 },
 "nbformat": 4,
 "nbformat_minor": 5
}
