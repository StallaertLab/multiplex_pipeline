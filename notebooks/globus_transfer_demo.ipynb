{
 "cells": [
  {
   "cell_type": "code",
   "execution_count": 21,
   "id": "1e612dc4",
   "metadata": {},
   "outputs": [],
   "source": [
    "from pathlib import Path\n",
    "from multiplex_pipeline.utils.config_loaders import load_analysis_settings\n",
    "from multiplex_pipeline.utils.globus_utils import GlobusConfig, create_globus_tc\n",
    "from multiplex_pipeline.utils.file_utils import GlobusPathConverter\n",
    "from multiplex_pipeline.core_cutting.file_io import GlobusFileStrategy"
   ]
  },
  {
   "cell_type": "code",
   "execution_count": 3,
   "id": "e49a454b",
   "metadata": {},
   "outputs": [],
   "source": [
    "# define pathways\n",
    "settings_path = r'R:\\Wayne\\BLCA\\BLCA-2_Analysis\\analysis_settings_BLCA2.yaml'\n",
    "\n",
    "globus_config_path = r'D:\\globus_config\\globus_config.yaml'"
   ]
  },
  {
   "cell_type": "code",
   "execution_count": 23,
   "id": "3377fd96",
   "metadata": {},
   "outputs": [],
   "source": [
    "# get Globus settings\n",
    "gc = GlobusConfig.from_config_files(globus_config_path, to_collection = 'r_collection_id', from_collection = 'crcd_collection_id')\n",
    "tc = create_globus_tc(gc.client_id, gc.transfer_tokens)"
   ]
  },
  {
   "cell_type": "code",
   "execution_count": 24,
   "id": "97acf26b",
   "metadata": {},
   "outputs": [],
   "source": [
    "# load analysis configuration\n",
    "settings = load_analysis_settings(settings_path)"
   ]
  },
  {
   "cell_type": "code",
   "execution_count": 25,
   "id": "a522a272",
   "metadata": {},
   "outputs": [
    {
     "data": {
      "text/plain": [
       "{'analysis': ('/ix1/kkedziora/blca_analysis/BLCA-2_Analysis',\n",
       "  '/Wayne/BLCA/BLCA-2_Analysis')}"
      ]
     },
     "execution_count": 25,
     "metadata": {},
     "output_type": "execute_result"
    }
   ],
   "source": [
    "conv = GlobusPathConverter(layout=\"single_drive\")\n",
    "\n",
    "remote_path = settings['remote_analysis_dir'] +'/'+ settings['analysis_name']\n",
    "local_path = conv.windows_to_globus(settings['local_analysis_dir'] +'/'+ settings['analysis_name'])\n",
    "\n",
    "transfer_map = {}\n",
    "transfer_map['analysis'] = (remote_path, local_path) # for bringing analysis folder from remote to local\n",
    "transfer_map"
   ]
  },
  {
   "cell_type": "code",
   "execution_count": 26,
   "id": "d03c0d43",
   "metadata": {},
   "outputs": [
    {
     "name": "stderr",
     "output_type": "stream",
     "text": [
      "\u001b[32m2025-10-08 18:44:49.173\u001b[0m | \u001b[1mINFO    \u001b[0m | \u001b[36mmultiplex_pipeline.core_cutting.file_io\u001b[0m:\u001b[36msubmit_all_transfers\u001b[0m:\u001b[36m93\u001b[0m - \u001b[1mSubmitted transfer for analysis to /Wayne/BLCA/BLCA-2_Analysis (task_id=638251da-a498-11f0-9704-0e1cc5cf4f03)\u001b[0m\n"
     ]
    }
   ],
   "source": [
    "# submit transfer\n",
    "transfer = GlobusFileStrategy(tc=tc, transfer_map=transfer_map, gc=gc)"
   ]
  },
  {
   "cell_type": "code",
   "execution_count": null,
   "id": "27d6a849",
   "metadata": {},
   "outputs": [],
   "source": [
    "how the heck was instanseg fully segmented, was it?\n"
   ]
  }
 ],
 "metadata": {
  "kernelspec": {
   "display_name": "sdata-env",
   "language": "python",
   "name": "python3"
  },
  "language_info": {
   "codemirror_mode": {
    "name": "ipython",
    "version": 3
   },
   "file_extension": ".py",
   "mimetype": "text/x-python",
   "name": "python",
   "nbconvert_exporter": "python",
   "pygments_lexer": "ipython3",
   "version": "3.11.13"
  }
 },
 "nbformat": 4,
 "nbformat_minor": 5
}
