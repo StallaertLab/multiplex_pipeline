{
 "cells": [
  {
   "cell_type": "code",
   "execution_count": 3,
   "id": "225a9714",
   "metadata": {},
   "outputs": [
    {
     "name": "stdout",
     "output_type": "stream",
     "text": [
      "\n",
      "\n",
      "Welcome to CellposeSAM, cellpose v\n",
      "cellpose version: \t4.0.6 \n",
      "platform:       \twin32 \n",
      "python version: \t3.11.13 \n",
      "torch version:  \t2.7.1+cu126! The neural network component of\n",
      "CPSAM is much larger than in previous versions and CPU excution is slow. \n",
      "We encourage users to use GPU/MPS if available. \n",
      "\n",
      "\n"
     ]
    },
    {
     "data": {
      "text/plain": [
       "True"
      ]
     },
     "execution_count": 3,
     "metadata": {},
     "output_type": "execute_result"
    }
   ],
   "source": [
    "import zarr\n",
    "from cellpose import models\n",
    "from tifffile import imread\n",
    "import dask.array as da\n",
    "import napari\n",
    "import torch\n",
    "torch.cuda.is_available()"
   ]
  },
  {
   "cell_type": "code",
   "execution_count": 2,
   "id": "a11c6b03",
   "metadata": {},
   "outputs": [],
   "source": [
    "file_path = r'R:\\CellDive\\NSR7649\\NSR7649_Final\\NSR7649_1.0.4_R000_DAPI__FINAL_F.ome.tif'"
   ]
  },
  {
   "cell_type": "code",
   "execution_count": 3,
   "id": "ad69676c",
   "metadata": {},
   "outputs": [
    {
     "data": {
      "text/html": [
       "<table>\n",
       "    <tr>\n",
       "        <td>\n",
       "            <table style=\"border-collapse: collapse;\">\n",
       "                <thead>\n",
       "                    <tr>\n",
       "                        <td> </td>\n",
       "                        <th> Array </th>\n",
       "                        <th> Chunk </th>\n",
       "                    </tr>\n",
       "                </thead>\n",
       "                <tbody>\n",
       "                    \n",
       "                    <tr>\n",
       "                        <th> Bytes </th>\n",
       "                        <td> 11.84 GiB </td>\n",
       "                        <td> 512.00 kiB </td>\n",
       "                    </tr>\n",
       "                    \n",
       "                    <tr>\n",
       "                        <th> Shape </th>\n",
       "                        <td> (68754, 92415) </td>\n",
       "                        <td> (512, 512) </td>\n",
       "                    </tr>\n",
       "                    <tr>\n",
       "                        <th> Dask graph </th>\n",
       "                        <td colspan=\"2\"> 24435 chunks in 2 graph layers </td>\n",
       "                    </tr>\n",
       "                    <tr>\n",
       "                        <th> Data type </th>\n",
       "                        <td colspan=\"2\"> uint16 numpy.ndarray </td>\n",
       "                    </tr>\n",
       "                </tbody>\n",
       "            </table>\n",
       "        </td>\n",
       "        <td>\n",
       "        <svg width=\"170\" height=\"139\" style=\"stroke:rgb(0,0,0);stroke-width:1\" >\n",
       "\n",
       "  <!-- Horizontal lines -->\n",
       "  <line x1=\"0\" y1=\"0\" x2=\"120\" y2=\"0\" style=\"stroke-width:2\" />\n",
       "  <line x1=\"0\" y1=\"4\" x2=\"120\" y2=\"4\" />\n",
       "  <line x1=\"0\" y1=\"9\" x2=\"120\" y2=\"9\" />\n",
       "  <line x1=\"0\" y1=\"13\" x2=\"120\" y2=\"13\" />\n",
       "  <line x1=\"0\" y1=\"18\" x2=\"120\" y2=\"18\" />\n",
       "  <line x1=\"0\" y1=\"23\" x2=\"120\" y2=\"23\" />\n",
       "  <line x1=\"0\" y1=\"27\" x2=\"120\" y2=\"27\" />\n",
       "  <line x1=\"0\" y1=\"32\" x2=\"120\" y2=\"32\" />\n",
       "  <line x1=\"0\" y1=\"37\" x2=\"120\" y2=\"37\" />\n",
       "  <line x1=\"0\" y1=\"41\" x2=\"120\" y2=\"41\" />\n",
       "  <line x1=\"0\" y1=\"47\" x2=\"120\" y2=\"47\" />\n",
       "  <line x1=\"0\" y1=\"51\" x2=\"120\" y2=\"51\" />\n",
       "  <line x1=\"0\" y1=\"56\" x2=\"120\" y2=\"56\" />\n",
       "  <line x1=\"0\" y1=\"61\" x2=\"120\" y2=\"61\" />\n",
       "  <line x1=\"0\" y1=\"65\" x2=\"120\" y2=\"65\" />\n",
       "  <line x1=\"0\" y1=\"70\" x2=\"120\" y2=\"70\" />\n",
       "  <line x1=\"0\" y1=\"75\" x2=\"120\" y2=\"75\" />\n",
       "  <line x1=\"0\" y1=\"79\" x2=\"120\" y2=\"79\" />\n",
       "  <line x1=\"0\" y1=\"84\" x2=\"120\" y2=\"84\" />\n",
       "  <line x1=\"0\" y1=\"89\" x2=\"120\" y2=\"89\" style=\"stroke-width:2\" />\n",
       "\n",
       "  <!-- Vertical lines -->\n",
       "  <line x1=\"0\" y1=\"0\" x2=\"0\" y2=\"89\" style=\"stroke-width:2\" />\n",
       "  <line x1=\"5\" y1=\"0\" x2=\"5\" y2=\"89\" />\n",
       "  <line x1=\"12\" y1=\"0\" x2=\"12\" y2=\"89\" />\n",
       "  <line x1=\"18\" y1=\"0\" x2=\"18\" y2=\"89\" />\n",
       "  <line x1=\"25\" y1=\"0\" x2=\"25\" y2=\"89\" />\n",
       "  <line x1=\"31\" y1=\"0\" x2=\"31\" y2=\"89\" />\n",
       "  <line x1=\"37\" y1=\"0\" x2=\"37\" y2=\"89\" />\n",
       "  <line x1=\"43\" y1=\"0\" x2=\"43\" y2=\"89\" />\n",
       "  <line x1=\"50\" y1=\"0\" x2=\"50\" y2=\"89\" />\n",
       "  <line x1=\"56\" y1=\"0\" x2=\"56\" y2=\"89\" />\n",
       "  <line x1=\"63\" y1=\"0\" x2=\"63\" y2=\"89\" />\n",
       "  <line x1=\"69\" y1=\"0\" x2=\"69\" y2=\"89\" />\n",
       "  <line x1=\"75\" y1=\"0\" x2=\"75\" y2=\"89\" />\n",
       "  <line x1=\"81\" y1=\"0\" x2=\"81\" y2=\"89\" />\n",
       "  <line x1=\"88\" y1=\"0\" x2=\"88\" y2=\"89\" />\n",
       "  <line x1=\"94\" y1=\"0\" x2=\"94\" y2=\"89\" />\n",
       "  <line x1=\"101\" y1=\"0\" x2=\"101\" y2=\"89\" />\n",
       "  <line x1=\"107\" y1=\"0\" x2=\"107\" y2=\"89\" />\n",
       "  <line x1=\"113\" y1=\"0\" x2=\"113\" y2=\"89\" />\n",
       "  <line x1=\"120\" y1=\"0\" x2=\"120\" y2=\"89\" style=\"stroke-width:2\" />\n",
       "\n",
       "  <!-- Colored Rectangle -->\n",
       "  <polygon points=\"0.0,0.0 120.0,0.0 120.0,89.27641616620679 0.0,89.27641616620679\" style=\"fill:#8B4903A0;stroke-width:0\"/>\n",
       "\n",
       "  <!-- Text -->\n",
       "  <text x=\"60.000000\" y=\"109.276416\" font-size=\"1.0rem\" font-weight=\"100\" text-anchor=\"middle\" >92415</text>\n",
       "  <text x=\"140.000000\" y=\"44.638208\" font-size=\"1.0rem\" font-weight=\"100\" text-anchor=\"middle\" transform=\"rotate(-90,140.000000,44.638208)\">68754</text>\n",
       "</svg>\n",
       "        </td>\n",
       "    </tr>\n",
       "</table>"
      ],
      "text/plain": [
       "dask.array<from-zarr, shape=(68754, 92415), dtype=uint16, chunksize=(512, 512), chunktype=numpy.ndarray>"
      ]
     },
     "execution_count": 3,
     "metadata": {},
     "output_type": "execute_result"
    }
   ],
   "source": [
    "store = imread(file_path, aszarr=True)\n",
    "root = zarr.open(store, mode=\"r\") \n",
    "im_list = []\n",
    "for i in range(5):\n",
    "    im = da.from_zarr(root[str(i)])\n",
    "    im_list.append(im)\n",
    "\n",
    "im_list[0]"
   ]
  },
  {
   "cell_type": "code",
   "execution_count": null,
   "id": "1ebe1908",
   "metadata": {},
   "outputs": [],
   "source": [
    "model = models.CellposeModel(gpu=True)\n",
    "\n",
    "flow_threshold = 0.4\n",
    "cellprob_threshold = -0.2\n",
    "tile_norm_blocksize = 0\n",
    "\n",
    "im_small = im_list[0]#[29000:30000, 45000:46000]\n",
    "\n",
    "o1, o2, o3 = model.eval(im_small, flow_threshold=flow_threshold, cellprob_threshold=cellprob_threshold,\n",
    "                                normalize={\"tile_norm_blocksize\": tile_norm_blocksize})\n"
   ]
  },
  {
   "cell_type": "code",
   "execution_count": 8,
   "id": "07ebf36c",
   "metadata": {},
   "outputs": [
    {
     "data": {
      "text/plain": [
       "<Labels layer 'o1' at 0x1de3c243dd0>"
      ]
     },
     "execution_count": 8,
     "metadata": {},
     "output_type": "execute_result"
    }
   ],
   "source": [
    "viewer = napari.Viewer()\n",
    "viewer.add_image(im_list)\n",
    "viewer.add_labels(o1,translate=(29000, 45000))"
   ]
  },
  {
   "cell_type": "code",
   "execution_count": 14,
   "id": "75e52a9f",
   "metadata": {},
   "outputs": [],
   "source": [
    "from instanseg import InstanSeg\n",
    "import numpy as np"
   ]
  },
  {
   "cell_type": "code",
   "execution_count": 10,
   "id": "aa162c86",
   "metadata": {},
   "outputs": [
    {
     "name": "stdout",
     "output_type": "stream",
     "text": [
      "Model fluorescence_nuclei_and_cells version 0.1.0 downloaded and extracted to c:\\Users\\KMK280\\AppData\\Local\\miniconda3\\envs\\samcellpose-env\\Lib\\site-packages\\instanseg\\utils\\../bioimageio_models/\n",
      "Requesting default device: cuda\n"
     ]
    }
   ],
   "source": [
    "instanseg_fluorescence = InstanSeg(\"fluorescence_nuclei_and_cells\", verbosity=1)"
   ]
  },
  {
   "cell_type": "code",
   "execution_count": 36,
   "id": "266ff52a",
   "metadata": {},
   "outputs": [
    {
     "data": {
      "text/html": [
       "<table>\n",
       "    <tr>\n",
       "        <td>\n",
       "            <table style=\"border-collapse: collapse;\">\n",
       "                <thead>\n",
       "                    <tr>\n",
       "                        <td> </td>\n",
       "                        <th> Array </th>\n",
       "                        <th> Chunk </th>\n",
       "                    </tr>\n",
       "                </thead>\n",
       "                <tbody>\n",
       "                    \n",
       "                    <tr>\n",
       "                        <th> Bytes </th>\n",
       "                        <td> 47.33 MiB </td>\n",
       "                        <td> 512.00 kiB </td>\n",
       "                    </tr>\n",
       "                    \n",
       "                    <tr>\n",
       "                        <th> Shape </th>\n",
       "                        <td> (4297, 5775) </td>\n",
       "                        <td> (512, 512) </td>\n",
       "                    </tr>\n",
       "                    <tr>\n",
       "                        <th> Dask graph </th>\n",
       "                        <td colspan=\"2\"> 108 chunks in 2 graph layers </td>\n",
       "                    </tr>\n",
       "                    <tr>\n",
       "                        <th> Data type </th>\n",
       "                        <td colspan=\"2\"> uint16 numpy.ndarray </td>\n",
       "                    </tr>\n",
       "                </tbody>\n",
       "            </table>\n",
       "        </td>\n",
       "        <td>\n",
       "        <svg width=\"170\" height=\"139\" style=\"stroke:rgb(0,0,0);stroke-width:1\" >\n",
       "\n",
       "  <!-- Horizontal lines -->\n",
       "  <line x1=\"0\" y1=\"0\" x2=\"120\" y2=\"0\" style=\"stroke-width:2\" />\n",
       "  <line x1=\"0\" y1=\"10\" x2=\"120\" y2=\"10\" />\n",
       "  <line x1=\"0\" y1=\"21\" x2=\"120\" y2=\"21\" />\n",
       "  <line x1=\"0\" y1=\"31\" x2=\"120\" y2=\"31\" />\n",
       "  <line x1=\"0\" y1=\"42\" x2=\"120\" y2=\"42\" />\n",
       "  <line x1=\"0\" y1=\"53\" x2=\"120\" y2=\"53\" />\n",
       "  <line x1=\"0\" y1=\"63\" x2=\"120\" y2=\"63\" />\n",
       "  <line x1=\"0\" y1=\"74\" x2=\"120\" y2=\"74\" />\n",
       "  <line x1=\"0\" y1=\"85\" x2=\"120\" y2=\"85\" />\n",
       "  <line x1=\"0\" y1=\"89\" x2=\"120\" y2=\"89\" style=\"stroke-width:2\" />\n",
       "\n",
       "  <!-- Vertical lines -->\n",
       "  <line x1=\"0\" y1=\"0\" x2=\"0\" y2=\"89\" style=\"stroke-width:2\" />\n",
       "  <line x1=\"10\" y1=\"0\" x2=\"10\" y2=\"89\" />\n",
       "  <line x1=\"21\" y1=\"0\" x2=\"21\" y2=\"89\" />\n",
       "  <line x1=\"31\" y1=\"0\" x2=\"31\" y2=\"89\" />\n",
       "  <line x1=\"42\" y1=\"0\" x2=\"42\" y2=\"89\" />\n",
       "  <line x1=\"53\" y1=\"0\" x2=\"53\" y2=\"89\" />\n",
       "  <line x1=\"63\" y1=\"0\" x2=\"63\" y2=\"89\" />\n",
       "  <line x1=\"74\" y1=\"0\" x2=\"74\" y2=\"89\" />\n",
       "  <line x1=\"85\" y1=\"0\" x2=\"85\" y2=\"89\" />\n",
       "  <line x1=\"95\" y1=\"0\" x2=\"95\" y2=\"89\" />\n",
       "  <line x1=\"106\" y1=\"0\" x2=\"106\" y2=\"89\" />\n",
       "  <line x1=\"117\" y1=\"0\" x2=\"117\" y2=\"89\" />\n",
       "  <line x1=\"120\" y1=\"0\" x2=\"120\" y2=\"89\" style=\"stroke-width:2\" />\n",
       "\n",
       "  <!-- Colored Rectangle -->\n",
       "  <polygon points=\"0.0,0.0 120.0,0.0 120.0,89.2883116883117 0.0,89.2883116883117\" style=\"fill:#ECB172A0;stroke-width:0\"/>\n",
       "\n",
       "  <!-- Text -->\n",
       "  <text x=\"60.000000\" y=\"109.288312\" font-size=\"1.0rem\" font-weight=\"100\" text-anchor=\"middle\" >5775</text>\n",
       "  <text x=\"140.000000\" y=\"44.644156\" font-size=\"1.0rem\" font-weight=\"100\" text-anchor=\"middle\" transform=\"rotate(-90,140.000000,44.644156)\">4297</text>\n",
       "</svg>\n",
       "        </td>\n",
       "    </tr>\n",
       "</table>"
      ],
      "text/plain": [
       "dask.array<from-zarr, shape=(4297, 5775), dtype=uint16, chunksize=(512, 512), chunktype=numpy.ndarray>"
      ]
     },
     "execution_count": 36,
     "metadata": {},
     "output_type": "execute_result"
    }
   ],
   "source": [
    "im"
   ]
  },
  {
   "cell_type": "code",
   "execution_count": null,
   "id": "1b4be5ee",
   "metadata": {},
   "outputs": [],
   "source": [
    "pixel_size = 0.4\n",
    "im_test = np.stack([im_small.compute(),im_small.compute()], axis=-1)\n",
    "labeled_output, _ = instanseg_fluorescence.eval_small_image(im_test, \n",
    "                                                        pixel_size, \n",
    "                                                        resolve_cell_and_nucleus=False, \n",
    "                                                        mean_threshold = 0.3, \n",
    "                                                        cleanup_fragments = True)\n",
    "\n",
    "segm_array = [np.array(x).astype(int) for x in labeled_output[0, :, :, :]]"
   ]
  },
  {
   "cell_type": "code",
   "execution_count": 37,
   "id": "24937c7c",
   "metadata": {},
   "outputs": [],
   "source": [
    "im = im_list[0]\n",
    "\n",
    "pixel_size = 0.4\n",
    "im_test = np.stack([im,im, im], axis=-1)\n",
    "im_test = im_test[29000:30000, 45000:46000,:].compute()\n",
    "labeled_output, _ = instanseg_fluorescence.eval_small_image(im_test,\n",
    "                                                    pixel_size,\n",
    "                                                    resolve_cell_and_nucleus=False,\n",
    "                                                    mean_threshold = 0.3,\n",
    "                                                    cleanup_fragments = True)\n",
    "\n",
    "segm_array = [np.array(x).astype(int) for x in labeled_output[0, :, :, :]]"
   ]
  },
  {
   "cell_type": "code",
   "execution_count": 38,
   "id": "561c3dd2",
   "metadata": {},
   "outputs": [
    {
     "data": {
      "text/plain": [
       "(1000, 1000, 3)"
      ]
     },
     "execution_count": 38,
     "metadata": {},
     "output_type": "execute_result"
    }
   ],
   "source": [
    "im_test.shape"
   ]
  },
  {
   "cell_type": "code",
   "execution_count": 30,
   "id": "df2585e5",
   "metadata": {},
   "outputs": [
    {
     "data": {
      "text/plain": [
       "<Labels layer 'Labels [1]' at 0x1df009c9190>"
      ]
     },
     "execution_count": 30,
     "metadata": {},
     "output_type": "execute_result"
    }
   ],
   "source": [
    "viewer.add_labels(segm_array[0],translate=(29000, 45000))\n",
    "viewer.add_labels(segm_array[1],translate=(29000, 45000))"
   ]
  },
  {
   "cell_type": "code",
   "execution_count": 4,
   "id": "6f556acf",
   "metadata": {},
   "outputs": [],
   "source": [
    "mask_path = r'D:\\mask_todel\\test_30_30.tif'\n",
    "mask = imread(mask_path)"
   ]
  },
  {
   "cell_type": "markdown",
   "id": "bb183b3c",
   "metadata": {},
   "source": [
    "### Viewing example segmentation"
   ]
  },
  {
   "cell_type": "code",
   "execution_count": 1,
   "id": "d5fc0f87",
   "metadata": {},
   "outputs": [],
   "source": [
    "file_path = r'R:\\CellDive\\NSR7649\\NSR7649_Final\\r:\\CellDive\\NSR7649\\NSR7649_Final\\NSR7649_2.0.4_R000_DAPI__FINAL_F.ome.tif'"
   ]
  },
  {
   "cell_type": "code",
   "execution_count": 4,
   "id": "924867f7",
   "metadata": {},
   "outputs": [
    {
     "data": {
      "text/html": [
       "<table>\n",
       "    <tr>\n",
       "        <td>\n",
       "            <table style=\"border-collapse: collapse;\">\n",
       "                <thead>\n",
       "                    <tr>\n",
       "                        <td> </td>\n",
       "                        <th> Array </th>\n",
       "                        <th> Chunk </th>\n",
       "                    </tr>\n",
       "                </thead>\n",
       "                <tbody>\n",
       "                    \n",
       "                    <tr>\n",
       "                        <th> Bytes </th>\n",
       "                        <td> 11.84 GiB </td>\n",
       "                        <td> 512.00 kiB </td>\n",
       "                    </tr>\n",
       "                    \n",
       "                    <tr>\n",
       "                        <th> Shape </th>\n",
       "                        <td> (68754, 92415) </td>\n",
       "                        <td> (512, 512) </td>\n",
       "                    </tr>\n",
       "                    <tr>\n",
       "                        <th> Dask graph </th>\n",
       "                        <td colspan=\"2\"> 24435 chunks in 2 graph layers </td>\n",
       "                    </tr>\n",
       "                    <tr>\n",
       "                        <th> Data type </th>\n",
       "                        <td colspan=\"2\"> uint16 numpy.ndarray </td>\n",
       "                    </tr>\n",
       "                </tbody>\n",
       "            </table>\n",
       "        </td>\n",
       "        <td>\n",
       "        <svg width=\"170\" height=\"139\" style=\"stroke:rgb(0,0,0);stroke-width:1\" >\n",
       "\n",
       "  <!-- Horizontal lines -->\n",
       "  <line x1=\"0\" y1=\"0\" x2=\"120\" y2=\"0\" style=\"stroke-width:2\" />\n",
       "  <line x1=\"0\" y1=\"4\" x2=\"120\" y2=\"4\" />\n",
       "  <line x1=\"0\" y1=\"9\" x2=\"120\" y2=\"9\" />\n",
       "  <line x1=\"0\" y1=\"13\" x2=\"120\" y2=\"13\" />\n",
       "  <line x1=\"0\" y1=\"18\" x2=\"120\" y2=\"18\" />\n",
       "  <line x1=\"0\" y1=\"23\" x2=\"120\" y2=\"23\" />\n",
       "  <line x1=\"0\" y1=\"27\" x2=\"120\" y2=\"27\" />\n",
       "  <line x1=\"0\" y1=\"32\" x2=\"120\" y2=\"32\" />\n",
       "  <line x1=\"0\" y1=\"37\" x2=\"120\" y2=\"37\" />\n",
       "  <line x1=\"0\" y1=\"41\" x2=\"120\" y2=\"41\" />\n",
       "  <line x1=\"0\" y1=\"47\" x2=\"120\" y2=\"47\" />\n",
       "  <line x1=\"0\" y1=\"51\" x2=\"120\" y2=\"51\" />\n",
       "  <line x1=\"0\" y1=\"56\" x2=\"120\" y2=\"56\" />\n",
       "  <line x1=\"0\" y1=\"61\" x2=\"120\" y2=\"61\" />\n",
       "  <line x1=\"0\" y1=\"65\" x2=\"120\" y2=\"65\" />\n",
       "  <line x1=\"0\" y1=\"70\" x2=\"120\" y2=\"70\" />\n",
       "  <line x1=\"0\" y1=\"75\" x2=\"120\" y2=\"75\" />\n",
       "  <line x1=\"0\" y1=\"79\" x2=\"120\" y2=\"79\" />\n",
       "  <line x1=\"0\" y1=\"84\" x2=\"120\" y2=\"84\" />\n",
       "  <line x1=\"0\" y1=\"89\" x2=\"120\" y2=\"89\" style=\"stroke-width:2\" />\n",
       "\n",
       "  <!-- Vertical lines -->\n",
       "  <line x1=\"0\" y1=\"0\" x2=\"0\" y2=\"89\" style=\"stroke-width:2\" />\n",
       "  <line x1=\"5\" y1=\"0\" x2=\"5\" y2=\"89\" />\n",
       "  <line x1=\"12\" y1=\"0\" x2=\"12\" y2=\"89\" />\n",
       "  <line x1=\"18\" y1=\"0\" x2=\"18\" y2=\"89\" />\n",
       "  <line x1=\"25\" y1=\"0\" x2=\"25\" y2=\"89\" />\n",
       "  <line x1=\"31\" y1=\"0\" x2=\"31\" y2=\"89\" />\n",
       "  <line x1=\"37\" y1=\"0\" x2=\"37\" y2=\"89\" />\n",
       "  <line x1=\"43\" y1=\"0\" x2=\"43\" y2=\"89\" />\n",
       "  <line x1=\"50\" y1=\"0\" x2=\"50\" y2=\"89\" />\n",
       "  <line x1=\"56\" y1=\"0\" x2=\"56\" y2=\"89\" />\n",
       "  <line x1=\"63\" y1=\"0\" x2=\"63\" y2=\"89\" />\n",
       "  <line x1=\"69\" y1=\"0\" x2=\"69\" y2=\"89\" />\n",
       "  <line x1=\"75\" y1=\"0\" x2=\"75\" y2=\"89\" />\n",
       "  <line x1=\"81\" y1=\"0\" x2=\"81\" y2=\"89\" />\n",
       "  <line x1=\"88\" y1=\"0\" x2=\"88\" y2=\"89\" />\n",
       "  <line x1=\"94\" y1=\"0\" x2=\"94\" y2=\"89\" />\n",
       "  <line x1=\"101\" y1=\"0\" x2=\"101\" y2=\"89\" />\n",
       "  <line x1=\"107\" y1=\"0\" x2=\"107\" y2=\"89\" />\n",
       "  <line x1=\"113\" y1=\"0\" x2=\"113\" y2=\"89\" />\n",
       "  <line x1=\"120\" y1=\"0\" x2=\"120\" y2=\"89\" style=\"stroke-width:2\" />\n",
       "\n",
       "  <!-- Colored Rectangle -->\n",
       "  <polygon points=\"0.0,0.0 120.0,0.0 120.0,89.27641616620679 0.0,89.27641616620679\" style=\"fill:#8B4903A0;stroke-width:0\"/>\n",
       "\n",
       "  <!-- Text -->\n",
       "  <text x=\"60.000000\" y=\"109.276416\" font-size=\"1.0rem\" font-weight=\"100\" text-anchor=\"middle\" >92415</text>\n",
       "  <text x=\"140.000000\" y=\"44.638208\" font-size=\"1.0rem\" font-weight=\"100\" text-anchor=\"middle\" transform=\"rotate(-90,140.000000,44.638208)\">68754</text>\n",
       "</svg>\n",
       "        </td>\n",
       "    </tr>\n",
       "</table>"
      ],
      "text/plain": [
       "dask.array<from-zarr, shape=(68754, 92415), dtype=uint16, chunksize=(512, 512), chunktype=numpy.ndarray>"
      ]
     },
     "execution_count": 4,
     "metadata": {},
     "output_type": "execute_result"
    }
   ],
   "source": [
    "store = imread(file_path, aszarr=True)\n",
    "root = zarr.open(store, mode=\"r\") \n",
    "im_list = []\n",
    "for i in range(5):\n",
    "    im = da.from_zarr(root[str(i)])\n",
    "    im_list.append(im)\n",
    "\n",
    "im_list[0]"
   ]
  },
  {
   "cell_type": "code",
   "execution_count": 13,
   "id": "cd366207",
   "metadata": {},
   "outputs": [],
   "source": [
    "mask_path = r'D:\\cellpose_all.tif'\n",
    "mask = imread(mask_path)"
   ]
  },
  {
   "cell_type": "code",
   "execution_count": 15,
   "id": "161fc0ce",
   "metadata": {},
   "outputs": [
    {
     "data": {
      "text/plain": [
       "(40000, 30000)"
      ]
     },
     "execution_count": 15,
     "metadata": {},
     "output_type": "execute_result"
    }
   ],
   "source": [
    "mask.shape"
   ]
  },
  {
   "cell_type": "code",
   "execution_count": 14,
   "id": "2f689835",
   "metadata": {},
   "outputs": [
    {
     "name": "stderr",
     "output_type": "stream",
     "text": [
      "c:\\Users\\KMK280\\AppData\\Local\\miniconda3\\envs\\samcellpose-env\\Lib\\site-packages\\napari\\_vispy\\layers\\scalar_field.py:197: UserWarning: data shape (40000, 30000) exceeds GL_MAX_TEXTURE_SIZE 32768 in at least one axis and will be downsampled. Rendering is currently in 2D mode.\n",
      "  warnings.warn(\n"
     ]
    },
    {
     "data": {
      "text/plain": [
       "<Labels layer 'mask' at 0x141993e8cd0>"
      ]
     },
     "execution_count": 14,
     "metadata": {},
     "output_type": "execute_result"
    }
   ],
   "source": [
    "viewer = napari.Viewer()\n",
    "viewer.add_image(im_list)\n",
    "viewer.add_labels(mask)"
   ]
  },
  {
   "cell_type": "code",
   "execution_count": null,
   "id": "c58c8a67",
   "metadata": {},
   "outputs": [],
   "source": []
  }
 ],
 "metadata": {
  "kernelspec": {
   "display_name": "samcellpose-env",
   "language": "python",
   "name": "python3"
  },
  "language_info": {
   "codemirror_mode": {
    "name": "ipython",
    "version": 3
   },
   "file_extension": ".py",
   "mimetype": "text/x-python",
   "name": "python",
   "nbconvert_exporter": "python",
   "pygments_lexer": "ipython3",
   "version": "3.11.13"
  }
 },
 "nbformat": 4,
 "nbformat_minor": 5
}
