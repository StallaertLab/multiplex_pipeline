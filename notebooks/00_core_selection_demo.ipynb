{
 "cells": [
  {
   "cell_type": "code",
   "execution_count": 12,
   "metadata": {},
   "outputs": [
    {
     "name": "stdout",
     "output_type": "stream",
     "text": [
      "The autoreload extension is already loaded. To reload it, use:\n",
      "  %reload_ext autoreload\n"
     ]
    }
   ],
   "source": [
    "%load_ext autoreload\n",
    "%autoreload 2\n",
    "\n",
    "import os\n",
    "import pickle as pkl\n",
    "import subprocess\n",
    "\n",
    "import napari\n",
    "from magicgui import magicgui\n",
    "\n",
    "from multiplex_pipeline.core_definition.viewer_utils import (\n",
    "    display_saved_rois,\n",
    "    redo_bbox_layer,\n",
    "    redo_cores_layer,\n",
    "    save_rois_from_viewer,\n",
    ")\n",
    "from multiplex_pipeline.utils.im_utils import get_org_im_shape, prepare_rgb_image\n",
    "from multiplex_pipeline.core_definition.roi_utils import (\n",
    "    get_refined_rectangles,\n",
    "    get_visual_rectangles,\n",
    "    prepare_poly_df_for_saving,\n",
    "    xywh_to_corners,\n",
    ")\n",
    "from multiplex_pipeline.utils.file_utils import (\n",
    "    change_to_wsl_path\n",
    ")\n",
    "from multiplex_pipeline.utils.config_loaders import (\n",
    "    load_analysis_settings,\n",
    "    load_workstation_config\n",
    ")"
   ]
  },
  {
   "cell_type": "markdown",
   "metadata": {},
   "source": [
    "## Read in config"
   ]
  },
  {
   "cell_type": "code",
   "execution_count": 13,
   "metadata": {},
   "outputs": [
    {
     "data": {
      "text/plain": [
       "{'model_path': '/mnt/d/data_analysis/2024_bladder/sam2',\n",
       " 'sam_env': '/home/kasia/miniforge3/envs/sam2-env/bin/python'}"
      ]
     },
     "execution_count": 13,
     "metadata": {},
     "output_type": "execute_result"
    }
   ],
   "source": [
    "# load pipeline configuration\n",
    "config = load_workstation_config(r'R:\\Wayne\\BLCA\\pipeline_settings.yaml')\n",
    "config"
   ]
  },
  {
   "cell_type": "code",
   "execution_count": 18,
   "metadata": {},
   "outputs": [
    {
     "data": {
      "text/plain": [
       "{'image_dir': 'R:/CellDive/BLCA-3/BLCA-3_Final',\n",
       " 'analysis_name': 'BLCA-3_Analysis',\n",
       " 'local_analysis_dir': 'R:/Wayne/BLCA',\n",
       " 'remote_analysis_dir': '/ix1/kkedziora/blca_analysis',\n",
       " 'log_dir': WindowsPath('R:/Wayne/BLCA/BLCA-3_Analysis/logs'),\n",
       " 'detection_image': 'BLCA-3_1.0.4_R000_DAPI__FINAL_F.ome.tif',\n",
       " 'core_info_file_path': WindowsPath('R:/Wayne/BLCA/BLCA-3_Analysis/cores.csv'),\n",
       " 'cores_dir_tif': WindowsPath('R:/Wayne/BLCA/BLCA-3_Analysis/temp'),\n",
       " 'cores_dir_output': WindowsPath('R:/Wayne/BLCA/BLCA-3_Analysis/cores'),\n",
       " 'include_channels': None,\n",
       " 'exclude_channels': ['008_ECad'],\n",
       " 'use_markers': None,\n",
       " 'ignore_markers': ['Antibody1',\n",
       "  'TNFa',\n",
       "  'Snail1',\n",
       "  'SKP2',\n",
       "  'ProgRc',\n",
       "  'Plk1',\n",
       "  'PH3',\n",
       "  'PDL1',\n",
       "  'p65',\n",
       "  'p130',\n",
       "  'p-p130',\n",
       "  'p-Cdc6',\n",
       "  'LAG3',\n",
       "  'IL-8',\n",
       "  'HER2',\n",
       "  'ERa',\n",
       "  'EpCAM',\n",
       "  'E2F1',\n",
       "  'cycD3',\n",
       "  'cycB2',\n",
       "  'CDC25C',\n",
       "  'CD86',\n",
       "  'CD73',\n",
       "  'CD69',\n",
       "  'CD62L',\n",
       "  'CD56',\n",
       "  'CD4',\n",
       "  'CD25',\n",
       "  'CD19',\n",
       "  'CD27',\n",
       "  'CCR7',\n",
       "  'cCASP3'],\n",
       " 'segmentation': {'package': 'instaseg',\n",
       "  'model': 'fluorescence_nuclei_and_cells',\n",
       "  'kwargs': {'pixel_size': 0.3,\n",
       "   'resolve_cell_and_nucleus': True,\n",
       "   'cleanup_fragments': True},\n",
       "  'input': ['DAPI',\n",
       "   'HLA1',\n",
       "   'CD44',\n",
       "   'NaKATPase',\n",
       "   'CD11C',\n",
       "   'CD45',\n",
       "   'pCK26',\n",
       "   'pS6',\n",
       "   'HES1'],\n",
       "  'output_name': ['instanseg_nucleus', 'instanseg_cell'],\n",
       "  'preprocessing': {'mix': None, 'denoise': None, 'normalize': [1, 99.5]},\n",
       "  'cleaner': 'BlobCleaner'},\n",
       " 'core_detection': {'im_level': 6,\n",
       "  'min_area': 2000,\n",
       "  'max_area': 10000,\n",
       "  'min_iou': 0.8,\n",
       "  'min_st': 0.9,\n",
       "  'min_int': 15,\n",
       "  'frame': 4},\n",
       " 'core_cutting': {'margin': 0,\n",
       "  'mask_value': 0,\n",
       "  'max_pyramid_level': 2,\n",
       "  'transfer_cleanup_enabled': True,\n",
       "  'core_cleanup_enabled': True,\n",
       "  'chunk_size': [1, 512, 512]},\n",
       " 'analysis_dir': WindowsPath('R:/Wayne/BLCA/BLCA-3_Analysis'),\n",
       " 'temp_dir': WindowsPath('R:/Wayne/BLCA/BLCA-3_Analysis/temp')}"
      ]
     },
     "execution_count": 18,
     "metadata": {},
     "output_type": "execute_result"
    }
   ],
   "source": [
    "# load analysis configuration\n",
    "settings_path = r'R:/Wayne/BLCA/BLCA-3_Analysis/analysis_settings_BLCA3.yaml'\n",
    "\n",
    "settings = load_analysis_settings(settings_path)\n",
    "settings"
   ]
  },
  {
   "cell_type": "markdown",
   "metadata": {},
   "source": [
    "## Read in data"
   ]
  },
  {
   "cell_type": "code",
   "execution_count": 19,
   "metadata": {},
   "outputs": [
    {
     "name": "stderr",
     "output_type": "stream",
     "text": [
      "c:\\Users\\KMK280\\AppData\\Local\\miniconda3\\envs\\sdata-env\\Lib\\site-packages\\zarr\\creation.py:610: UserWarning: ignoring keyword argument 'read_only'\n",
      "  compressor, fill_value = _kwargs_compat(compressor, fill_value, kwargs)\n"
     ]
    },
    {
     "data": {
      "text/plain": [
       "(1102, 1077, 3)"
      ]
     },
     "execution_count": 19,
     "metadata": {},
     "output_type": "execute_result"
    }
   ],
   "source": [
    "# read in image data\n",
    "\n",
    "# simplify variable names\n",
    "im_level = settings['core_detection']['im_level']\n",
    "save_path = settings['core_info_file_path']\n",
    "\n",
    "# define the image path\n",
    "image_path = os.path.join(settings['image_dir'], settings['detection_image'])\n",
    "\n",
    "# get the original image shape\n",
    "org_im_shape = get_org_im_shape(image_path)\n",
    "\n",
    "# prepare the image for display\n",
    "im_rgb = prepare_rgb_image(image_path, req_level = im_level)\n",
    "im = im_rgb[:, :, 0]\n",
    "im_rgb.shape"
   ]
  },
  {
   "cell_type": "markdown",
   "metadata": {},
   "source": [
    "## Create a viewer with options"
   ]
  },
  {
   "cell_type": "code",
   "execution_count": 20,
   "metadata": {},
   "outputs": [
    {
     "data": {
      "text/plain": [
       "<napari._qt.widgets.qt_viewer_dock_widget.QtViewerDockWidget at 0x20fbf0c7c70>"
      ]
     },
     "execution_count": 20,
     "metadata": {},
     "output_type": "execute_result"
    }
   ],
   "source": [
    "viewer = napari.Viewer()\n",
    "viewer.add_image(im)\n",
    "\n",
    "# add a red rectangle to frame the image\n",
    "frame_rect = xywh_to_corners([0,0,im.shape[1],im.shape[0]], frame = 0)\n",
    "viewer.add_shapes(frame_rect, edge_color='white', face_color = 'transparent', shape_type='rectangle', edge_width=2, name = 'frame')\n",
    "\n",
    "# add a layer for the saved rois\n",
    "display_saved_rois(viewer, IM_LEVEL = im_level, save_path = save_path)\n",
    "\n",
    "\n",
    "#########################################################################################\n",
    "# add diplay saved button\n",
    "@magicgui(auto_call=False, call_button=\"Display Saved Cores\", result_widget=False)\n",
    "def display_saved_rois_button(viewer: napari.Viewer):\n",
    "    display_saved_rois(viewer, IM_LEVEL = im_level, save_path = save_path)\n",
    "\n",
    "# Add widget to viewer\n",
    "viewer.window.add_dock_widget(display_saved_rois_button, area='left')\n",
    "\n",
    "#########################################################################################\n",
    "# add a save button\n",
    "@magicgui(auto_call=False, call_button=\"Save Cores\")\n",
    "def save_button(viewer: napari.Viewer):\n",
    "    save_rois_from_viewer(viewer, org_im_shape = org_im_shape, req_level = im_level, save_path = save_path)\n",
    "\n",
    "# Add widget to viewer\n",
    "viewer.window.add_dock_widget(save_button, area='left')"
   ]
  },
  {
   "cell_type": "markdown",
   "metadata": {},
   "source": [
    "## Get suggestions for core detection from the SAM2 model"
   ]
  },
  {
   "cell_type": "markdown",
   "metadata": {},
   "source": [
    "Execute the cell below to get suggestions from SAM model about the cores position. \n",
    "\n",
    "Sometimes there is no immediate feedback of how SAM2 progresses. In this situation it's expected to wait 1-2 min for the outcome."
   ]
  },
  {
   "cell_type": "code",
   "execution_count": 21,
   "metadata": {},
   "outputs": [
    {
     "name": "stdout",
     "output_type": "stream",
     "text": [
      "Input image: /mnt/r/CellDive/BLCA-3/BLCA-3_Final/BLCA-3_1.0.4_R000_DAPI__FINAL_F.ome.tif\n",
      "Results will be saved to: /mnt/d/multiplex_pipeline/notebooks/masks.pkl\n",
      "\n",
      "Preparing RGB image for segmentation...\n",
      "Segmenting image. It should take around 1 min. Started at 2025-10-08 12:52:31...\n",
      "Saving masks...\n",
      "Initial number of masks: 220\n",
      "Number of refined masks: 94\n"
     ]
    },
    {
     "name": "stderr",
     "output_type": "stream",
     "text": [
      "D:\\multiplex_pipeline\\src\\multiplex_pipeline\\core_definition\\roi_utils.py:45: RuntimeWarning: Mean of empty slice.\n",
      "  ].mean()\n",
      "c:\\Users\\KMK280\\AppData\\Local\\miniconda3\\envs\\sdata-env\\Lib\\site-packages\\numpy\\_core\\_methods.py:145: RuntimeWarning: invalid value encountered in scalar divide\n",
      "  ret = ret.dtype.type(ret / rcount)\n"
     ]
    }
   ],
   "source": [
    "# Linux path to the image\n",
    "im_wsl = change_to_wsl_path(image_path)\n",
    "\n",
    "# temporary output path for masks\n",
    "out_win = os.path.join(os.getcwd(), 'masks.pkl')\n",
    "out_wsl = change_to_wsl_path(out_win)\n",
    "\n",
    "# Combine the command\n",
    "command = [\n",
    "    \"wsl\",\n",
    "    config['sam_env'],\n",
    "    \"-m\", \"multiplex_pipeline.core_definition.suggest_cores\",\n",
    "    im_wsl,\n",
    "    str(im_level),\n",
    "    config['model_path'],\n",
    "    out_wsl\n",
    "]\n",
    "\n",
    "# Execute the script\n",
    "process = subprocess.Popen(\n",
    "    command,\n",
    "    stdout=subprocess.PIPE,  # Pipe the standard output\n",
    "    stderr=subprocess.PIPE,  # Pipe the standard error\n",
    "    text=True                # Capture output as text\n",
    ")\n",
    "\n",
    "# Display output in real time\n",
    "while True:\n",
    "    output = process.stdout.readline()\n",
    "    if output == \"\" and process.poll() is not None:\n",
    "        break\n",
    "    if output:\n",
    "        print(output, end=\"\")  # Print each line as it becomes available\n",
    "\n",
    "# Print any remaining errors\n",
    "errors = process.stderr.read()\n",
    "if errors:\n",
    "    print(f\"ERROR: {errors}\")\n",
    "\n",
    "# load the masks\n",
    "masks = pkl.load(open(out_win, 'rb'))\n",
    "print(f'Initial number of masks: {len(masks)}')\n",
    "\n",
    "# remove the masks file\n",
    "os.remove(out_win)\n",
    "\n",
    "# refine masks\n",
    "rect_list = get_refined_rectangles(masks, im = im_rgb[:,:,0],\n",
    "                                   frame = settings['core_detection']['frame'],\n",
    "                                   min_area = settings['core_detection']['min_area'],\n",
    "                                   max_area = settings['core_detection']['max_area'],\n",
    "                                   min_iou = settings['core_detection']['min_iou'],\n",
    "                                   min_stability = settings['core_detection']['min_st'],\n",
    "                                   min_int = settings['core_detection']['min_int']\n",
    "                                   )\n",
    "print('Number of refined masks:', len(rect_list))\n",
    "\n",
    "# prepare df\n",
    "df = prepare_poly_df_for_saving(rect_list, poly_types = ['rectangle']*len(rect_list), org_im_shape = org_im_shape, req_level = im_level)\n",
    "rect_list = get_visual_rectangles(df, im_level)\n",
    "poly_list = [(x/(2**im_level)).astype('int') for x in df.polygon_vertices.to_list()]\n",
    "\n",
    "# add to napari\n",
    "redo_cores_layer(viewer,rect_list,shape_type = df.poly_type.to_list())\n",
    "redo_bbox_layer(viewer,rect_list,df['core_name'].tolist())"
   ]
  },
  {
   "cell_type": "code",
   "execution_count": null,
   "metadata": {},
   "outputs": [],
   "source": []
  }
 ],
 "metadata": {
  "kernelspec": {
   "display_name": "sdata-env",
   "language": "python",
   "name": "python3"
  },
  "language_info": {
   "codemirror_mode": {
    "name": "ipython",
    "version": 3
   },
   "file_extension": ".py",
   "mimetype": "text/x-python",
   "name": "python",
   "nbconvert_exporter": "python",
   "pygments_lexer": "ipython3",
   "version": "3.11.13"
  }
 },
 "nbformat": 4,
 "nbformat_minor": 2
}
