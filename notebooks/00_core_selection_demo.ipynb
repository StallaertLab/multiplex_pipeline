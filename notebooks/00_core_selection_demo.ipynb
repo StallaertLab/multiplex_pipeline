{
 "cells": [
  {
   "cell_type": "code",
   "execution_count": 1,
   "metadata": {},
   "outputs": [],
   "source": [
    "%load_ext autoreload\n",
    "%autoreload 2\n",
    "\n",
    "import os\n",
    "import pickle as pkl\n",
    "import subprocess\n",
    "import pandas as pd\n",
    "from pathlib import Path\n",
    "\n",
    "import napari\n",
    "from magicgui import magicgui\n",
    "\n",
    "from multiplex_pipeline.core_selection.viewer_utils import display_saved_rois, save_rois_from_viewer, redo_cores_layer, redo_bbox_layer\n",
    "from multiplex_pipeline.utils.utils import change_to_wsl_path, load_analysis_settings, load_workstation_config\n",
    "from multiplex_pipeline.im_utils import get_org_im_shape, prepare_rgb_image\n",
    "from multiplex_pipeline.roi_utils import read_in_saved_rois, get_refined_rectangles, get_visual_rectangles, prepare_poly_df_for_saving, xywh_to_corners"
   ]
  },
  {
   "cell_type": "markdown",
   "metadata": {},
   "source": [
    "## Read in config"
   ]
  },
  {
   "cell_type": "code",
   "execution_count": null,
   "metadata": {},
   "outputs": [
    {
     "data": {
      "text/plain": [
       "{'model_path': '/mnt/d/data_analysis/2024_bladder/sam2',\n",
       " 'sam_env': '/home/kasia/miniforge3/envs/sam2-env/bin/python'}"
      ]
     },
     "execution_count": 2,
     "metadata": {},
     "output_type": "execute_result"
    }
   ],
   "source": [
    "# load pipeline configuration\n",
    "config = load_workstation_config(r'R:\\Wayne\\BLCA\\pipeline_settings.yaml')\n",
    "config"
   ]
  },
  {
   "cell_type": "code",
   "execution_count": null,
   "metadata": {},
   "outputs": [
    {
     "data": {
      "text/plain": [
       "{'image_path': 'R:/CellDive/BLCA-1B/BLCA-1B_Final/BLCA-1B_1.0.4_R000_DAPI__FINAL_F.ome.tif',\n",
       " 'core_info_path': 'R:/Wayne/BLCA/BLCA-1B_Analysis/cores.csv',\n",
       " 'temp_dir_cores': 'D:/multiplex_pipeline/tests',\n",
       " 'output_dir_cores': 'R:/Wayne/BLCA/BLCA-1B_Analysis/temp',\n",
       " 'include_channels': [],\n",
       " 'exclude_channels': [],\n",
       " 'use_channels': [],\n",
       " 'core_detection': {'im_level': 6,\n",
       "  'min_area': 2000,\n",
       "  'max_area': 10000,\n",
       "  'min_iou': 0.8,\n",
       "  'min_st': 0.9,\n",
       "  'min_int': 15,\n",
       "  'frame': 4}}"
      ]
     },
     "execution_count": 3,
     "metadata": {},
     "output_type": "execute_result"
    }
   ],
   "source": [
    "# load analysis configuration\n",
    "settings_path = r'R:\\Wayne\\BLCA\\BLCA-1B_Analysis\\analysis_settings_BLCA1B.yaml'\n",
    "\n",
    "settings = load_analysis_settings(settings_path)\n",
    "settings"
   ]
  },
  {
   "cell_type": "code",
   "execution_count": 4,
   "metadata": {},
   "outputs": [],
   "source": [
    "# simplify variable names\n",
    "im_level = settings['core_detection']['im_level']\n",
    "save_path = settings['core_info_path']"
   ]
  },
  {
   "cell_type": "code",
   "execution_count": 5,
   "metadata": {},
   "outputs": [],
   "source": [
    "# ensure that the directory to save core info exists\n",
    "os.makedirs(os.path.dirname(settings['core_info_path']), exist_ok=True)"
   ]
  },
  {
   "cell_type": "markdown",
   "metadata": {},
   "source": [
    "## Read in data"
   ]
  },
  {
   "cell_type": "code",
   "execution_count": 6,
   "metadata": {},
   "outputs": [
    {
     "name": "stderr",
     "output_type": "stream",
     "text": [
      "c:\\Users\\KMK280\\AppData\\Local\\miniconda3\\envs\\sdata-env\\Lib\\site-packages\\zarr\\creation.py:610: UserWarning: ignoring keyword argument 'read_only'\n",
      "  compressor, fill_value = _kwargs_compat(compressor, fill_value, kwargs)\n"
     ]
    },
    {
     "data": {
      "text/plain": [
       "(1072, 558, 3)"
      ]
     },
     "execution_count": 6,
     "metadata": {},
     "output_type": "execute_result"
    }
   ],
   "source": [
    "# read in image data\n",
    "\n",
    "# get the original image shape\n",
    "org_im_shape = get_org_im_shape(settings['image_path'])\n",
    "\n",
    "# prepare the image for display\n",
    "im_rgb = prepare_rgb_image(settings['image_path'], req_level = im_level)\n",
    "im = im_rgb[:, :, 0]\n",
    "im_rgb.shape"
   ]
  },
  {
   "cell_type": "markdown",
   "metadata": {},
   "source": [
    "## Create a viewer with options"
   ]
  },
  {
   "cell_type": "code",
   "execution_count": 7,
   "metadata": {},
   "outputs": [
    {
     "data": {
      "text/plain": [
       "<napari._qt.widgets.qt_viewer_dock_widget.QtViewerDockWidget at 0x235068a2a70>"
      ]
     },
     "execution_count": 7,
     "metadata": {},
     "output_type": "execute_result"
    }
   ],
   "source": [
    "viewer = napari.Viewer()\n",
    "viewer.add_image(im)\n",
    "\n",
    "# add a red rectangle to frame the image\n",
    "frame_rect = xywh_to_corners([0,0,im.shape[1],im.shape[0]], frame = 0)\n",
    "viewer.add_shapes(frame_rect, edge_color='white', face_color = 'transparent', shape_type='rectangle', edge_width=2, name = 'frame')\n",
    "\n",
    "# add a layer for the saved rois\n",
    "display_saved_rois(viewer, IM_LEVEL = im_level, save_path = save_path)\n",
    "\n",
    "\n",
    "#########################################################################################\n",
    "# add diplay saved button\n",
    "@magicgui(auto_call=False, call_button=\"Display Saved Cores\", result_widget=False)\n",
    "def display_saved_rois_button(viewer: napari.Viewer):\n",
    "    display_saved_rois(viewer, IM_LEVEL = im_level, save_path = save_path)  \n",
    "\n",
    "# Add widget to viewer\n",
    "viewer.window.add_dock_widget(display_saved_rois_button, area='left')\n",
    "\n",
    "#########################################################################################\n",
    "# add a save button\n",
    "@magicgui(auto_call=False, call_button=\"Save Cores\")  \n",
    "def save_button(viewer: napari.Viewer):\n",
    "    save_rois_from_viewer(viewer, org_im_shape = org_im_shape, req_level = im_level, save_path = save_path)\n",
    "\n",
    "# Add widget to viewer\n",
    "viewer.window.add_dock_widget(save_button, area='left')"
   ]
  },
  {
   "cell_type": "markdown",
   "metadata": {},
   "source": [
    "## Get suggestions for core detection from the SAM2 model"
   ]
  },
  {
   "cell_type": "markdown",
   "metadata": {},
   "source": [
    "Execute the cell below to get suggestions from SAM model about the cores position. "
   ]
  },
  {
   "cell_type": "code",
   "execution_count": 8,
   "metadata": {},
   "outputs": [
    {
     "name": "stdout",
     "output_type": "stream",
     "text": [
      "Input image: /mnt/r/CellDive/BLCA-1B/BLCA-1B_Final/BLCA-1B_1.0.4_R000_DAPI__FINAL_F.ome.tif\n",
      "Results will be saved to: /mnt/d/multiplex_pipeline/notebooks/masks.pkl\n",
      "\n",
      "Preparing RGB image for segmentation...\n",
      "Segmenting image. It should take around 1 min. Started at 2025-09-22 12:05:05...\n",
      "Saving masks...\n",
      "Initial number of masks: 101\n",
      "Number of refined masks: 49\n"
     ]
    }
   ],
   "source": [
    "# Linux path to the image\n",
    "im_wsl = change_to_wsl_path(settings['image_path'])\n",
    "\n",
    "# temporary output path for masks\n",
    "out_win = os.path.join(os.getcwd(), 'masks.pkl')\n",
    "out_wsl = change_to_wsl_path(out_win)\n",
    "\n",
    "# Combine the command\n",
    "command = [\n",
    "    \"wsl\",\n",
    "    config['sam_env'],  \n",
    "    \"-m\", \"multiplex_pipeline.core_selection.suggest_cores\",\n",
    "    im_wsl, \n",
    "    str(im_level),\n",
    "    config['model_path'],\n",
    "    out_wsl\n",
    "]\n",
    "\n",
    "# Execute the script\n",
    "process = subprocess.Popen(\n",
    "    command,\n",
    "    stdout=subprocess.PIPE,  # Pipe the standard output\n",
    "    stderr=subprocess.PIPE,  # Pipe the standard error\n",
    "    text=True                # Capture output as text\n",
    ")\n",
    "\n",
    "# Display output in real time\n",
    "while True:\n",
    "    output = process.stdout.readline()\n",
    "    if output == \"\" and process.poll() is not None:\n",
    "        break\n",
    "    if output:\n",
    "        print(output, end=\"\")  # Print each line as it becomes available\n",
    "\n",
    "# Print any remaining errors\n",
    "errors = process.stderr.read()\n",
    "if errors:\n",
    "    print(f\"ERROR: {errors}\")\n",
    "\n",
    "# load the masks\n",
    "masks = pkl.load(open(out_win, 'rb'))\n",
    "print(f'Initial number of masks: {len(masks)}')\n",
    "\n",
    "# remove the masks file\n",
    "os.remove(out_win)\n",
    "\n",
    "# refine masks\n",
    "rect_list = get_refined_rectangles(masks, im = im_rgb[:,:,0], \n",
    "                                   frame = settings['core_detection']['frame'], \n",
    "                                   min_area = settings['core_detection']['min_area'],\n",
    "                                   max_area = settings['core_detection']['max_area'],\n",
    "                                   min_iou = settings['core_detection']['min_iou'],\n",
    "                                   min_stability = settings['core_detection']['min_st'],\n",
    "                                   min_int = settings['core_detection']['min_int']\n",
    "                                   )\n",
    "print('Number of refined masks:', len(rect_list))\n",
    "\n",
    "# prepare df\n",
    "df = prepare_poly_df_for_saving(rect_list, poly_types = ['rectangle']*len(rect_list), org_im_shape = org_im_shape, req_level = im_level)\n",
    "rect_list = get_visual_rectangles(df, im_level)\n",
    "poly_list = [(x/(2**im_level)).astype('int') for x in df.polygon_vertices.to_list()]\n",
    "\n",
    "# add to napari\n",
    "redo_cores_layer(viewer,rect_list,shape_type = df.poly_type.to_list())\n",
    "redo_bbox_layer(viewer,rect_list,df['core_name'].tolist())"
   ]
  },
  {
   "cell_type": "code",
   "execution_count": null,
   "metadata": {},
   "outputs": [],
   "source": []
  }
 ],
 "metadata": {
  "kernelspec": {
   "display_name": "sdata-env",
   "language": "python",
   "name": "python3"
  },
  "language_info": {
   "codemirror_mode": {
    "name": "ipython",
    "version": 3
   },
   "file_extension": ".py",
   "mimetype": "text/x-python",
   "name": "python",
   "nbconvert_exporter": "python",
   "pygments_lexer": "ipython3",
   "version": "3.11.13"
  }
 },
 "nbformat": 4,
 "nbformat_minor": 2
}
