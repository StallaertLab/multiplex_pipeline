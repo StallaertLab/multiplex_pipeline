{
 "cells": [
  {
   "cell_type": "code",
   "execution_count": 1,
   "metadata": {},
   "outputs": [
    {
     "name": "stderr",
     "output_type": "stream",
     "text": [
      "c:\\Users\\KMK280\\AppData\\Local\\miniconda3\\envs\\sdata-env\\Lib\\site-packages\\dask\\dataframe\\__init__.py:31: FutureWarning: The legacy Dask DataFrame implementation is deprecated and will be removed in a future version. Set the configuration option `dataframe.query-planning` to `True` or None to enable the new Dask Dataframe implementation and silence this warning.\n",
      "  warnings.warn(\n",
      "c:\\Users\\KMK280\\AppData\\Local\\miniconda3\\envs\\sdata-env\\Lib\\site-packages\\xarray_schema\\__init__.py:1: UserWarning: pkg_resources is deprecated as an API. See https://setuptools.pypa.io/en/latest/pkg_resources.html. The pkg_resources package is slated for removal as early as 2025-11-30. Refrain from using this package or pin to Setuptools<81.\n",
      "  from pkg_resources import DistributionNotFound, get_distribution\n"
     ]
    }
   ],
   "source": [
    "%load_ext autoreload\n",
    "%autoreload 2\n",
    "\n",
    "import os\n",
    "import pickle as pkl\n",
    "import subprocess\n",
    "from pathlib import Path\n",
    "\n",
    "import napari\n",
    "from magicgui import magicgui\n",
    "\n",
    "from multiplex_pipeline.core_definition.viewer_utils import (\n",
    "    display_saved_rois,\n",
    "    redo_bbox_layer,\n",
    "    redo_cores_layer,\n",
    "    save_rois_from_viewer,\n",
    ")\n",
    "from multiplex_pipeline.utils.im_utils import get_org_im_shape, prepare_rgb_image\n",
    "from multiplex_pipeline.core_definition.roi_utils import (\n",
    "    get_refined_rectangles,\n",
    "    get_visual_rectangles,\n",
    "    prepare_poly_df_for_saving,\n",
    "    xywh_to_corners,\n",
    ")\n",
    "from multiplex_pipeline.utils.file_utils import (\n",
    "    change_to_wsl_path\n",
    ")\n",
    "from multiplex_pipeline.utils.config_loaders import (\n",
    "    load_analysis_settings,\n",
    "    load_workstation_config\n",
    ")"
   ]
  },
  {
   "cell_type": "markdown",
   "metadata": {},
   "source": [
    "## Read in config"
   ]
  },
  {
   "cell_type": "code",
   "execution_count": 2,
   "metadata": {},
   "outputs": [
    {
     "data": {
      "text/plain": [
       "{'model_path': '/mnt/d/data_analysis/2024_bladder/sam2',\n",
       " 'sam_env': '/home/kasia/miniforge3/envs/sam2-env/bin/python'}"
      ]
     },
     "execution_count": 2,
     "metadata": {},
     "output_type": "execute_result"
    }
   ],
   "source": [
    "# load pipeline configuration\n",
    "config = load_workstation_config(r'R:\\Wayne\\BLCA\\pipeline_settings.yaml')\n",
    "config"
   ]
  },
  {
   "cell_type": "code",
   "execution_count": 3,
   "metadata": {},
   "outputs": [
    {
     "data": {
      "text/plain": [
       "AnalysisConfig(general=GeneralSettings(image_dir='R:/CellDive/BLCA-7/BLCA-7_Final', analysis_name='BLCA-7_Analysis', local_analysis_dir='C:/', remote_analysis_dir='/ix1/kkedziora/blca_analysis', log_dir=None), core_detection=CoreDetectionSettings(detection_image='BLCA-7_1.0.4_R000_DAPI__FINAL_F.ome.tif', core_info_file_path=None, im_level=6, min_area=2000, max_area=10000, min_iou=0.8, min_st=0.9, min_int=15, frame=4), core_cutting=CoreCuttingSettings(cores_dir_tif=None, cores_dir_output=None, include_channels=None, exclude_channels=['008_ECad'], use_markers=None, ignore_markers=['Antibody1', 'TNFa', 'Snail1', 'SKP2', 'ProgRc', 'Plk1', 'PH3', 'PDL1', 'p65', 'p130', 'p-p130', 'p-Cdc6', 'LAG3', 'IL-8', 'HER2', 'ERa', 'EpCAM', 'E2F1', 'cycD3', 'cycB2', 'CDC25C', 'CD86', 'CD73', 'CD69', 'CD62L', 'CD56', 'CD4', 'CD25', 'CD19', 'CD27', 'CCR7', 'cCASP3'], margin=0, mask_value=0, transfer_cleanup_enabled=True, core_cleanup_enabled=True), additional_elements=[NormalizeStep(category='image_transformer', type='normalize', input='DAPI', output='DAPI_norm', keep=False, parameters=Params(low=1.0, high=99.5)), NormalizeStep(category='image_transformer', type='normalize', input='CD45', output='CD45_norm', keep=False, parameters=Params(low=1.0, high=99.5)), NormalizeStep(category='image_transformer', type='normalize', input='CD44', output='CD44_norm', keep=False, parameters=Params(low=1.0, high=99.5)), NormalizeStep(category='image_transformer', type='normalize', input='HLA1', output='HLA1_norm', keep=False, parameters=Params(low=1.0, high=99.5)), NormalizeStep(category='image_transformer', type='normalize', input='CD44', output='CD44_norm', keep=False, parameters=Params(low=1.0, high=99.5)), NormalizeStep(category='image_transformer', type='normalize', input='NaKATPase', output='NaKATPase_norm', keep=False, parameters=Params(low=1.0, high=99.5)), NormalizeStep(category='image_transformer', type='normalize', input='CD11C', output='CD11C_norm', keep=False, parameters=Params(low=1.0, high=99.5)), NormalizeStep(category='image_transformer', type='normalize', input='pCK26', output='pCK26_norm', keep=False, parameters=Params(low=1.0, high=99.5)), NormalizeStep(category='image_transformer', type='normalize', input='pS6', output='pS6_norm', keep=False, parameters=Params(low=1.0, high=99.5)), NormalizeStep(category='image_transformer', type='normalize', input='HES1', output='HES1_norm', keep=False, parameters=Params(low=1.0, high=99.5)), InstansegStep(category='object_segmenter', type='instanseg', input=['DAPI_norm', 'HLA1_norm', 'CD44_norm', 'NaKATPase_norm', 'CD11C_norm', 'CD45_norm', 'pCK26_norm', 'pS6_norm', 'HES1_norm'], output=['instanseg_nucleus_org', 'instanseg_cell_org'], keep=True, parameters=Params(model='fluorescence_nuclei_and_cells', pixel_size=0.3, resolve_cell_and_nucleus=True, cleanup_fragments=True, clean_cache=True)), BlobStep(category='mask_builder', type='blob', input='instanseg_nucleus_org', output='blob', keep=True, parameters={}), MultiplyStep(category='mask_builder', type='multiply', input=['instanseg_nucleus_org', 'blob'], output='instanseg_nucleus', keep=True, parameters={}), MultiplyStep(category='mask_builder', type='multiply', input=['instanseg_cell_org', 'blob'], output='instanseg_cell', keep=True, parameters={}), RingStep(category='mask_builder', type='ring', input=['instanseg_nucleus'], output='ring', keep=True, parameters=Params(outer=8, inner=2)), SubtractStep(category='mask_builder', type='subtract', input=['instanseg_cell', 'instanseg_nucleus'], output='cytoplasm', keep=True, parameters={})], quant=[QuantTask(name='instanseg_table', masks={'nucleus': 'instanseg_nucleus', 'cell': 'instanseg_cell', 'ring': 'ring', 'cyto': 'cytoplasm'}, layer_connection='instanseg_cell')], sdata_storage=StorageSettings(chunk_size=[1, 512, 512], max_pyramid_level=3, downscale=2), analysis_dir=WindowsPath('C:/BLCA-7_Analysis'), temp_dir=WindowsPath('C:/BLCA-7_Analysis/temp'), log_dir_path=WindowsPath('C:/BLCA-7_Analysis/logs'), core_info_file_path=WindowsPath('C:/BLCA-7_Analysis/cores.csv'), cores_dir_tif_path=WindowsPath('C:/BLCA-7_Analysis/cores'), cores_dir_output_path=WindowsPath('C:/BLCA-7_Analysis/temp'))"
      ]
     },
     "execution_count": 3,
     "metadata": {},
     "output_type": "execute_result"
    }
   ],
   "source": [
    "# load analysis configuration\n",
    "settings_path = r'C:\\BLCA-7_Analysis\\analysis_settings_BLCA7.yaml'\n",
    "\n",
    "settings = load_analysis_settings(settings_path)\n",
    "settings"
   ]
  },
  {
   "cell_type": "markdown",
   "metadata": {},
   "source": [
    "## Read in data"
   ]
  },
  {
   "cell_type": "code",
   "execution_count": 4,
   "metadata": {},
   "outputs": [
    {
     "name": "stderr",
     "output_type": "stream",
     "text": [
      "c:\\Users\\KMK280\\AppData\\Local\\miniconda3\\envs\\sdata-env\\Lib\\site-packages\\zarr\\creation.py:610: UserWarning: ignoring keyword argument 'read_only'\n",
      "  compressor, fill_value = _kwargs_compat(compressor, fill_value, kwargs)\n"
     ]
    },
    {
     "data": {
      "text/plain": [
       "(1074, 1563, 3)"
      ]
     },
     "execution_count": 4,
     "metadata": {},
     "output_type": "execute_result"
    }
   ],
   "source": [
    "# read in image data\n",
    "\n",
    "# simplify variable names\n",
    "im_level = settings.core_detection.im_level\n",
    "save_path = settings.core_info_file_path\n",
    "\n",
    "# define the image path\n",
    "image_path = Path(settings.general.image_dir) / settings.core_detection.detection_image\n",
    "\n",
    "# get the original image shape\n",
    "org_im_shape = get_org_im_shape(image_path)\n",
    "\n",
    "# prepare the image for display\n",
    "im_rgb = prepare_rgb_image(image_path, req_level = im_level)\n",
    "im = im_rgb[:, :, 0]\n",
    "im_rgb.shape"
   ]
  },
  {
   "cell_type": "markdown",
   "metadata": {},
   "source": [
    "## Create a viewer with options"
   ]
  },
  {
   "cell_type": "code",
   "execution_count": 5,
   "metadata": {},
   "outputs": [
    {
     "data": {
      "text/plain": [
       "<napari._qt.widgets.qt_viewer_dock_widget.QtViewerDockWidget at 0x1b7e8746830>"
      ]
     },
     "execution_count": 5,
     "metadata": {},
     "output_type": "execute_result"
    }
   ],
   "source": [
    "viewer = napari.Viewer()\n",
    "viewer.add_image(im)\n",
    "\n",
    "# add a red rectangle to frame the image\n",
    "frame_rect = xywh_to_corners([0,0,im.shape[1],im.shape[0]], frame = 0)\n",
    "viewer.add_shapes(frame_rect, edge_color='white', face_color = 'transparent', shape_type='rectangle', edge_width=2, name = 'frame')\n",
    "\n",
    "# add a layer for the saved rois\n",
    "display_saved_rois(viewer, IM_LEVEL = im_level, save_path = save_path)\n",
    "\n",
    "\n",
    "#########################################################################################\n",
    "# add diplay saved button\n",
    "@magicgui(auto_call=False, call_button=\"Display Saved Cores\", result_widget=False)\n",
    "def display_saved_rois_button(viewer: napari.Viewer):\n",
    "    display_saved_rois(viewer, IM_LEVEL = im_level, save_path = save_path)\n",
    "\n",
    "# Add widget to viewer\n",
    "viewer.window.add_dock_widget(display_saved_rois_button, area='left')\n",
    "\n",
    "#########################################################################################\n",
    "# add a save button\n",
    "@magicgui(auto_call=False, call_button=\"Save Cores\")\n",
    "def save_button(viewer: napari.Viewer):\n",
    "    save_rois_from_viewer(viewer, org_im_shape = org_im_shape, req_level = im_level, save_path = save_path)\n",
    "\n",
    "# Add widget to viewer\n",
    "viewer.window.add_dock_widget(save_button, area='left')"
   ]
  },
  {
   "cell_type": "markdown",
   "metadata": {},
   "source": [
    "## Get suggestions for core detection from the SAM2 model"
   ]
  },
  {
   "cell_type": "markdown",
   "metadata": {},
   "source": [
    "Execute the cell below to get suggestions from SAM model about the cores position. \n",
    "\n",
    "Sometimes there is no immediate feedback of how SAM2 progresses. In this situation it's expected to wait 1-2 min for the outcome."
   ]
  },
  {
   "cell_type": "code",
   "execution_count": 8,
   "metadata": {},
   "outputs": [
    {
     "data": {
      "text/plain": [
       "'R:\\\\CellDive\\\\BLCA-7\\\\BLCA-7_Final\\\\BLCA-7_1.0.4_R000_DAPI__FINAL_F.ome.tif'"
      ]
     },
     "execution_count": 8,
     "metadata": {},
     "output_type": "execute_result"
    }
   ],
   "source": [
    "str(image_path)"
   ]
  },
  {
   "cell_type": "code",
   "execution_count": 9,
   "metadata": {},
   "outputs": [
    {
     "name": "stdout",
     "output_type": "stream",
     "text": [
      "Input image: /mnt/r/CellDive/BLCA-7/BLCA-7_Final/BLCA-7_1.0.4_R000_DAPI__FINAL_F.ome.tif\n",
      "Results will be saved to: /mnt/d/multiplex_pipeline/notebooks/masks.pkl\n",
      "\n",
      "Preparing RGB image for segmentation...\n",
      "Segmenting image. It should take around 1 min. Started at 2025-10-17 13:16:26...\n",
      "Saving masks...\n",
      "Initial number of masks: 277\n",
      "Number of refined masks: 141\n"
     ]
    },
    {
     "name": "stderr",
     "output_type": "stream",
     "text": [
      "D:\\multiplex_pipeline\\src\\multiplex_pipeline\\core_definition\\roi_utils.py:41: RuntimeWarning: Mean of empty slice.\n",
      "  mean_int = im[rect[0, 0] : rect[2, 0], rect[0, 1] : rect[1, 1]].mean()\n",
      "c:\\Users\\KMK280\\AppData\\Local\\miniconda3\\envs\\sdata-env\\Lib\\site-packages\\numpy\\_core\\_methods.py:145: RuntimeWarning: invalid value encountered in scalar divide\n",
      "  ret = ret.dtype.type(ret / rcount)\n"
     ]
    }
   ],
   "source": [
    "# Linux path to the image\n",
    "im_wsl = change_to_wsl_path(str(image_path))\n",
    "\n",
    "# temporary output path for masks\n",
    "out_win = os.path.join(os.getcwd(), 'masks.pkl')\n",
    "out_wsl = change_to_wsl_path(out_win)\n",
    "\n",
    "# Combine the command\n",
    "command = [\n",
    "    \"wsl\",\n",
    "    config['sam_env'],\n",
    "    \"-m\", \"multiplex_pipeline.core_definition.suggest_cores\",\n",
    "    im_wsl,\n",
    "    str(im_level),\n",
    "    config['model_path'],\n",
    "    out_wsl\n",
    "]\n",
    "\n",
    "# Execute the script\n",
    "process = subprocess.Popen(\n",
    "    command,\n",
    "    stdout=subprocess.PIPE,  # Pipe the standard output\n",
    "    stderr=subprocess.PIPE,  # Pipe the standard error\n",
    "    text=True                # Capture output as text\n",
    ")\n",
    "\n",
    "# Display output in real time\n",
    "while True:\n",
    "    output = process.stdout.readline()\n",
    "    if output == \"\" and process.poll() is not None:\n",
    "        break\n",
    "    if output:\n",
    "        print(output, end=\"\")  # Print each line as it becomes available\n",
    "\n",
    "# Print any remaining errors\n",
    "errors = process.stderr.read()\n",
    "if errors:\n",
    "    print(f\"ERROR: {errors}\")\n",
    "\n",
    "# load the masks\n",
    "masks = pkl.load(open(out_win, 'rb'))\n",
    "print(f'Initial number of masks: {len(masks)}')\n",
    "\n",
    "# remove the masks file\n",
    "os.remove(out_win)\n",
    "\n",
    "# refine masks\n",
    "rect_list = get_refined_rectangles(masks, im = im_rgb[:,:,0],\n",
    "                                   frame = settings.core_detection.frame,\n",
    "                                   min_area = settings.core_detection.min_area,\n",
    "                                   max_area = settings.core_detection.max_area,\n",
    "                                   min_iou = settings.core_detection.min_iou,\n",
    "                                   min_stability = settings.core_detection.min_st,\n",
    "                                   min_int = settings.core_detection.min_int\n",
    "                                   )\n",
    "print('Number of refined masks:', len(rect_list))\n",
    "\n",
    "# prepare df\n",
    "df = prepare_poly_df_for_saving(rect_list, poly_types = ['rectangle']*len(rect_list), org_im_shape = org_im_shape, req_level = im_level)\n",
    "rect_list = get_visual_rectangles(df, im_level)\n",
    "poly_list = [(x/(2**im_level)).astype('int') for x in df.polygon_vertices.to_list()]\n",
    "\n",
    "# add to napari\n",
    "redo_cores_layer(viewer,rect_list,shape_type = df.poly_type.to_list())\n",
    "redo_bbox_layer(viewer,rect_list,df['core_name'].tolist())"
   ]
  },
  {
   "cell_type": "code",
   "execution_count": null,
   "metadata": {},
   "outputs": [],
   "source": []
  }
 ],
 "metadata": {
  "kernelspec": {
   "display_name": "sdata-env",
   "language": "python",
   "name": "python3"
  },
  "language_info": {
   "codemirror_mode": {
    "name": "ipython",
    "version": 3
   },
   "file_extension": ".py",
   "mimetype": "text/x-python",
   "name": "python",
   "nbconvert_exporter": "python",
   "pygments_lexer": "ipython3",
   "version": "3.11.13"
  }
 },
 "nbformat": 4,
 "nbformat_minor": 2
}
