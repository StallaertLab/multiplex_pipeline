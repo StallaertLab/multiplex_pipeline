{
 "cells": [
  {
   "cell_type": "code",
   "execution_count": 1,
   "id": "b31951cf",
   "metadata": {},
   "outputs": [
    {
     "name": "stderr",
     "output_type": "stream",
     "text": [
      "c:\\Users\\KMK280\\AppData\\Local\\miniconda3\\envs\\sdata-env\\Lib\\site-packages\\dask\\dataframe\\__init__.py:31: FutureWarning: The legacy Dask DataFrame implementation is deprecated and will be removed in a future version. Set the configuration option `dataframe.query-planning` to `True` or None to enable the new Dask Dataframe implementation and silence this warning.\n",
      "  warnings.warn(\n",
      "c:\\Users\\KMK280\\AppData\\Local\\miniconda3\\envs\\sdata-env\\Lib\\site-packages\\xarray_schema\\__init__.py:1: UserWarning: pkg_resources is deprecated as an API. See https://setuptools.pypa.io/en/latest/pkg_resources.html. The pkg_resources package is slated for removal as early as 2025-11-30. Refrain from using this package or pin to Setuptools<81.\n",
      "  from pkg_resources import DistributionNotFound, get_distribution\n"
     ]
    }
   ],
   "source": [
    "%load_ext autoreload\n",
    "%autoreload 2\n",
    "\n",
    "import os\n",
    "from pathlib import Path\n",
    "from datetime import datetime\n",
    "from loguru import logger\n",
    "import numpy as np\n",
    "import spatialdata as sd\n",
    "from napari_spatialdata import Interactive\n",
    "\n",
    "from multiplex_pipeline.utils.config_loaders import load_analysis_settings\n",
    "from multiplex_pipeline.processors import build_processor\n",
    "from multiplex_pipeline.processors.controller import ResourceBuildingController\n",
    "from multiplex_pipeline.object_quantification.controller import QuantificationController"
   ]
  },
  {
   "cell_type": "markdown",
   "id": "909cd179",
   "metadata": {},
   "source": [
    "### Load analysis settings"
   ]
  },
  {
   "cell_type": "code",
   "execution_count": 10,
   "id": "40cdede3",
   "metadata": {},
   "outputs": [
    {
     "data": {
      "text/plain": [
       "AnalysisConfig(general=GeneralSettings(image_dir='R:/CellDive/BLCA-7/BLCA-7_Final', analysis_name='BLCA-7_Analysis', local_analysis_dir='C:/', remote_analysis_dir='/ix1/kkedziora/blca_analysis', log_dir=None), core_detection=CoreDetectionSettings(detection_image='BLCA-7_1.0.4_R000_DAPI__FINAL_F.ome.tif', core_info_file_path=None, im_level=6, min_area=2000, max_area=10000, min_iou=0.8, min_st=0.9, min_int=15, frame=4), core_cutting=CoreCuttingSettings(cores_dir_tif=None, cores_dir_output=None, include_channels=None, exclude_channels=['008_ECad'], use_markers=['DAPI', 'CD45', 'CD44', 'HLA1', 'NaKATPase', 'CD11C', 'pCK26', 'pS6', 'HES1'], ignore_markers=['Antibody1', 'TNFa', 'Snail1', 'SKP2', 'ProgRc', 'Plk1', 'PH3', 'PDL1', 'p65', 'p130', 'p-p130', 'p-Cdc6', 'LAG3', 'IL-8', 'HER2', 'ERa', 'EpCAM', 'E2F1', 'cycD3', 'cycB2', 'CDC25C', 'CD86', 'CD73', 'CD69', 'CD62L', 'CD56', 'CD4', 'CD25', 'CD19', 'CD27', 'CCR7', 'cCASP3'], margin=0, mask_value=0, transfer_cleanup_enabled=True, core_cleanup_enabled=True), additional_elements=[NormalizeStep(category='image_transformer', type='normalize', input='DAPI', output='DAPI_norm', keep=False, parameters=Params(low=1.0, high=99.5)), NormalizeStep(category='image_transformer', type='normalize', input='CD45', output='CD45_norm', keep=False, parameters=Params(low=1.0, high=99.5)), NormalizeStep(category='image_transformer', type='normalize', input='CD44', output='CD44_norm', keep=False, parameters=Params(low=1.0, high=99.5)), NormalizeStep(category='image_transformer', type='normalize', input='HLA1', output='HLA1_norm', keep=False, parameters=Params(low=1.0, high=99.5)), NormalizeStep(category='image_transformer', type='normalize', input='NaKATPase', output='NaKATPase_norm', keep=False, parameters=Params(low=1.0, high=99.5)), NormalizeStep(category='image_transformer', type='normalize', input='CD11C', output='CD11C_norm', keep=False, parameters=Params(low=1.0, high=99.5)), NormalizeStep(category='image_transformer', type='normalize', input='pCK26', output='pCK26_norm', keep=False, parameters=Params(low=1.0, high=99.5)), NormalizeStep(category='image_transformer', type='normalize', input='pS6', output='pS6_norm', keep=False, parameters=Params(low=1.0, high=99.5)), NormalizeStep(category='image_transformer', type='normalize', input='HES1', output='HES1_norm', keep=False, parameters=Params(low=1.0, high=99.5)), InstansegStep(category='object_segmenter', type='instanseg', input=['DAPI_norm', 'HLA1_norm', 'CD44_norm', 'NaKATPase_norm', 'CD11C_norm', 'CD45_norm', 'pCK26_norm', 'pS6_norm', 'HES1_norm'], output=['instanseg_nucleus_org', 'instanseg_cell_org'], keep=False, parameters=Params(model='fluorescence_nuclei_and_cells', pixel_size=0.3, resolve_cell_and_nucleus=True, cleanup_fragments=True, clean_cache=True)), BlobStep(category='mask_builder', type='blob', input='instanseg_nucleus_org', output='blob', keep=True, parameters={}), MultiplyStep(category='mask_builder', type='multiply', input=['instanseg_nucleus_org', 'blob'], output='instanseg_nucleus', keep=True, parameters={}), MultiplyStep(category='mask_builder', type='multiply', input=['instanseg_cell_org', 'blob'], output='instanseg_cell', keep=True, parameters={}), RingStep(category='mask_builder', type='ring', input=['instanseg_nucleus'], output='ring', keep=True, parameters=Params(outer=8, inner=2)), SubtractStep(category='mask_builder', type='subtract', input=['instanseg_cell', 'instanseg_nucleus'], output='cytoplasm', keep=True, parameters={})], quant=[QuantTask(name='instanseg_table', masks={'nucleus': 'instanseg_nucleus', 'cell': 'instanseg_cell', 'ring': 'ring', 'cyto': 'cytoplasm'}, layer_connection='instanseg_cell')], sdata_storage=StorageSettings(chunk_size=[1, 512, 512], max_pyramid_level=3, downscale=2), analysis_dir=WindowsPath('C:/BLCA-7_Analysis'), temp_dir=WindowsPath('C:/BLCA-7_Analysis/temp'), log_dir_path=WindowsPath('C:/BLCA-7_Analysis/logs'), core_info_file_path=WindowsPath('C:/BLCA-7_Analysis/cores.csv'), cores_dir_tif_path=WindowsPath('C:/BLCA-7_Analysis/temp'), cores_dir_output_path=WindowsPath('C:/BLCA-7_Analysis/cores'))"
      ]
     },
     "execution_count": 10,
     "metadata": {},
     "output_type": "execute_result"
    }
   ],
   "source": [
    "# load analysis configuration\n",
    "settings_path = r'C:\\BLCA-7_Analysis\\analysis_settings_BLCA7.yaml'\n",
    "\n",
    "settings = load_analysis_settings(settings_path)\n",
    "settings"
   ]
  },
  {
   "cell_type": "markdown",
   "id": "55327bef",
   "metadata": {},
   "source": [
    "### Define the logger"
   ]
  },
  {
   "cell_type": "code",
   "execution_count": 11,
   "id": "6379596c",
   "metadata": {},
   "outputs": [],
   "source": [
    "log_file = settings.log_dir_path / f\"quantification_{datetime.now():%Y-%m-%d_%H-%M-%S}.log\"\n",
    "\n",
    "logger.remove()\n",
    "l = logger.add(lambda msg: print(msg, end=\"\"))\n",
    "l = logger.add(log_file, level=\"DEBUG\", enqueue=True)"
   ]
  },
  {
   "cell_type": "markdown",
   "id": "2c64f1cc",
   "metadata": {},
   "source": [
    "### Define cores for the analysis"
   ]
  },
  {
   "cell_type": "code",
   "execution_count": 12,
   "id": "2ac0f474",
   "metadata": {},
   "outputs": [
    {
     "data": {
      "text/plain": [
       "[WindowsPath('C:/BLCA-7_Analysis/cores/Core_000.zarr')]"
      ]
     },
     "execution_count": 12,
     "metadata": {},
     "output_type": "execute_result"
    }
   ],
   "source": [
    "core_dir = settings.analysis_dir / 'cores'\n",
    "path_list = [core_dir / f for f in os.listdir(core_dir)]\n",
    "path_list.sort()\n",
    "path_list"
   ]
  },
  {
   "cell_type": "markdown",
   "id": "03848ec6",
   "metadata": {},
   "source": [
    "### Setup"
   ]
  },
  {
   "cell_type": "code",
   "execution_count": 13,
   "id": "2f4d57ba",
   "metadata": {},
   "outputs": [
    {
     "name": "stdout",
     "output_type": "stream",
     "text": [
      "2025-10-17 14:30:30.302 | INFO     | __main__:<module>:11 - Setting up quantification controller for 'instanseg_table' table with masks {'nucleus': 'instanseg_nucleus', 'cell': 'instanseg_cell', 'ring': 'ring', 'cyto': 'cytoplasm'} and connection to 'instanseg_cell' mask\n"
     ]
    }
   ],
   "source": [
    "# setup quantification controllers\n",
    "quant_controller_list = [] \n",
    "for quant in settings.quant:\n",
    "\n",
    "    table_name = quant.name\n",
    "    masks_keys = quant.masks\n",
    "    # # for test - delete\n",
    "    # masks_keys = {k: masks_keys[k] for k in ['nucleus', 'cell'] if k in masks_keys}\n",
    "    connect_to_mask = quant.layer_connection\n",
    "\n",
    "    logger.info(f\"Setting up quantification controller for '{table_name}' table with masks {masks_keys} and connection to '{connect_to_mask}' mask\")\n",
    "\n",
    "    controller = QuantificationController(\n",
    "        table_name=table_name,\n",
    "        mask_keys=masks_keys,\n",
    "        connect_to_mask=connect_to_mask,\n",
    "        overwrite=True,\n",
    "    )\n",
    "\n",
    "    quant_controller_list.append(controller) "
   ]
  },
  {
   "cell_type": "markdown",
   "id": "11de3cac",
   "metadata": {},
   "source": [
    "### Quantify"
   ]
  },
  {
   "cell_type": "code",
   "execution_count": 16,
   "id": "fcc1ce61",
   "metadata": {},
   "outputs": [
    {
     "name": "stderr",
     "output_type": "stream",
     "text": [
      "version mismatch: detected: RasterFormatV02, requested: FormatV04\n",
      "c:\\Users\\KMK280\\AppData\\Local\\miniconda3\\envs\\sdata-env\\Lib\\site-packages\\zarr\\creation.py:610: UserWarning: ignoring keyword argument 'read_only'\n",
      "  compressor, fill_value = _kwargs_compat(compressor, fill_value, kwargs)\n",
      "version mismatch: detected: RasterFormatV02, requested: FormatV04\n",
      "version mismatch: detected: RasterFormatV02, requested: FormatV04\n",
      "version mismatch: detected: RasterFormatV02, requested: FormatV04\n",
      "version mismatch: detected: RasterFormatV02, requested: FormatV04\n",
      "version mismatch: detected: RasterFormatV02, requested: FormatV04\n",
      "version mismatch: detected: RasterFormatV02, requested: FormatV04\n"
     ]
    },
    {
     "name": "stdout",
     "output_type": "stream",
     "text": [
      "2025-10-17 14:31:12.203 | INFO     | __main__:<module>:4 - Processing Core_000.zarr\n"
     ]
    },
    {
     "name": "stderr",
     "output_type": "stream",
     "text": [
      "version mismatch: detected: RasterFormatV02, requested: FormatV04\n",
      "version mismatch: detected: RasterFormatV02, requested: FormatV04\n"
     ]
    },
    {
     "name": "stdout",
     "output_type": "stream",
     "text": [
      "2025-10-17 14:31:12.787 | INFO     | multiplex_pipeline.object_quantification.controller:validate_sdata_as_input:229 - Channels not specified. Quantifying all existing channels (9).\n",
      "2025-10-17 14:31:14.207 | INFO     | multiplex_pipeline.object_quantification.controller:run:253 - Prepared masks for quantification.\n",
      "2025-10-17 14:31:14.208 | INFO     | multiplex_pipeline.object_quantification.controller:build_obs:68 - Quantifying morphology features for mask 'nucleus'\n",
      "2025-10-17 14:31:16.455 | INFO     | multiplex_pipeline.object_quantification.controller:build_obs:68 - Quantifying morphology features for mask 'cell'\n",
      "2025-10-17 14:31:18.789 | INFO     | multiplex_pipeline.object_quantification.controller:build_obs:68 - Quantifying morphology features for mask 'ring'\n",
      "2025-10-17 14:31:20.942 | INFO     | multiplex_pipeline.object_quantification.controller:build_obs:68 - Quantifying morphology features for mask 'cyto'\n",
      "2025-10-17 14:31:23.032 | INFO     | multiplex_pipeline.object_quantification.controller:run:265 - Found 4 columns with multiple dimensions: ['centroid_nucleus', 'centroid_cell', 'centroid_ring', 'centroid_cyto']. Creating obsm table.\n",
      "2025-10-17 14:31:23.255 | INFO     | multiplex_pipeline.object_quantification.controller:build_X_and_var:158 - Quantifying channel 'CD11C' with mask 'nucleus'\n",
      "2025-10-17 14:31:23.456 | INFO     | multiplex_pipeline.object_quantification.controller:build_X_and_var:158 - Quantifying channel 'CD11C' with mask 'cell'\n",
      "2025-10-17 14:31:23.677 | INFO     | multiplex_pipeline.object_quantification.controller:build_X_and_var:158 - Quantifying channel 'CD11C' with mask 'ring'\n",
      "2025-10-17 14:31:23.875 | INFO     | multiplex_pipeline.object_quantification.controller:build_X_and_var:158 - Quantifying channel 'CD11C' with mask 'cyto'\n",
      "2025-10-17 14:31:24.314 | INFO     | multiplex_pipeline.object_quantification.controller:build_X_and_var:158 - Quantifying channel 'CD44' with mask 'nucleus'\n",
      "2025-10-17 14:31:24.503 | INFO     | multiplex_pipeline.object_quantification.controller:build_X_and_var:158 - Quantifying channel 'CD44' with mask 'cell'\n",
      "2025-10-17 14:31:24.728 | INFO     | multiplex_pipeline.object_quantification.controller:build_X_and_var:158 - Quantifying channel 'CD44' with mask 'ring'\n",
      "2025-10-17 14:31:24.925 | INFO     | multiplex_pipeline.object_quantification.controller:build_X_and_var:158 - Quantifying channel 'CD44' with mask 'cyto'\n",
      "2025-10-17 14:31:25.348 | INFO     | multiplex_pipeline.object_quantification.controller:build_X_and_var:158 - Quantifying channel 'CD45' with mask 'nucleus'\n",
      "2025-10-17 14:31:25.536 | INFO     | multiplex_pipeline.object_quantification.controller:build_X_and_var:158 - Quantifying channel 'CD45' with mask 'cell'\n",
      "2025-10-17 14:31:25.749 | INFO     | multiplex_pipeline.object_quantification.controller:build_X_and_var:158 - Quantifying channel 'CD45' with mask 'ring'\n",
      "2025-10-17 14:31:25.998 | INFO     | multiplex_pipeline.object_quantification.controller:build_X_and_var:158 - Quantifying channel 'CD45' with mask 'cyto'\n",
      "2025-10-17 14:31:26.438 | INFO     | multiplex_pipeline.object_quantification.controller:build_X_and_var:158 - Quantifying channel 'DAPI' with mask 'nucleus'\n",
      "2025-10-17 14:31:26.624 | INFO     | multiplex_pipeline.object_quantification.controller:build_X_and_var:158 - Quantifying channel 'DAPI' with mask 'cell'\n",
      "2025-10-17 14:31:26.835 | INFO     | multiplex_pipeline.object_quantification.controller:build_X_and_var:158 - Quantifying channel 'DAPI' with mask 'ring'\n",
      "2025-10-17 14:31:27.032 | INFO     | multiplex_pipeline.object_quantification.controller:build_X_and_var:158 - Quantifying channel 'DAPI' with mask 'cyto'\n",
      "2025-10-17 14:31:27.436 | INFO     | multiplex_pipeline.object_quantification.controller:build_X_and_var:158 - Quantifying channel 'HES1' with mask 'nucleus'\n",
      "2025-10-17 14:31:27.652 | INFO     | multiplex_pipeline.object_quantification.controller:build_X_and_var:158 - Quantifying channel 'HES1' with mask 'cell'\n",
      "2025-10-17 14:31:27.888 | INFO     | multiplex_pipeline.object_quantification.controller:build_X_and_var:158 - Quantifying channel 'HES1' with mask 'ring'\n",
      "2025-10-17 14:31:28.102 | INFO     | multiplex_pipeline.object_quantification.controller:build_X_and_var:158 - Quantifying channel 'HES1' with mask 'cyto'\n",
      "2025-10-17 14:31:28.505 | INFO     | multiplex_pipeline.object_quantification.controller:build_X_and_var:158 - Quantifying channel 'HLA1' with mask 'nucleus'\n",
      "2025-10-17 14:31:28.698 | INFO     | multiplex_pipeline.object_quantification.controller:build_X_and_var:158 - Quantifying channel 'HLA1' with mask 'cell'\n",
      "2025-10-17 14:31:28.909 | INFO     | multiplex_pipeline.object_quantification.controller:build_X_and_var:158 - Quantifying channel 'HLA1' with mask 'ring'\n",
      "2025-10-17 14:31:29.143 | INFO     | multiplex_pipeline.object_quantification.controller:build_X_and_var:158 - Quantifying channel 'HLA1' with mask 'cyto'\n",
      "2025-10-17 14:31:29.596 | INFO     | multiplex_pipeline.object_quantification.controller:build_X_and_var:158 - Quantifying channel 'NaKATPase' with mask 'nucleus'\n",
      "2025-10-17 14:31:29.781 | INFO     | multiplex_pipeline.object_quantification.controller:build_X_and_var:158 - Quantifying channel 'NaKATPase' with mask 'cell'\n",
      "2025-10-17 14:31:30.019 | INFO     | multiplex_pipeline.object_quantification.controller:build_X_and_var:158 - Quantifying channel 'NaKATPase' with mask 'ring'\n",
      "2025-10-17 14:31:30.247 | INFO     | multiplex_pipeline.object_quantification.controller:build_X_and_var:158 - Quantifying channel 'NaKATPase' with mask 'cyto'\n",
      "2025-10-17 14:31:30.675 | INFO     | multiplex_pipeline.object_quantification.controller:build_X_and_var:158 - Quantifying channel 'pCK26' with mask 'nucleus'\n",
      "2025-10-17 14:31:30.862 | INFO     | multiplex_pipeline.object_quantification.controller:build_X_and_var:158 - Quantifying channel 'pCK26' with mask 'cell'\n",
      "2025-10-17 14:31:31.099 | INFO     | multiplex_pipeline.object_quantification.controller:build_X_and_var:158 - Quantifying channel 'pCK26' with mask 'ring'\n",
      "2025-10-17 14:31:31.326 | INFO     | multiplex_pipeline.object_quantification.controller:build_X_and_var:158 - Quantifying channel 'pCK26' with mask 'cyto'\n",
      "2025-10-17 14:31:31.745 | INFO     | multiplex_pipeline.object_quantification.controller:build_X_and_var:158 - Quantifying channel 'pS6' with mask 'nucleus'\n",
      "2025-10-17 14:31:31.932 | INFO     | multiplex_pipeline.object_quantification.controller:build_X_and_var:158 - Quantifying channel 'pS6' with mask 'cell'\n",
      "2025-10-17 14:31:32.144 | INFO     | multiplex_pipeline.object_quantification.controller:build_X_and_var:158 - Quantifying channel 'pS6' with mask 'ring'\n",
      "2025-10-17 14:31:32.342 | INFO     | multiplex_pipeline.object_quantification.controller:build_X_and_var:158 - Quantifying channel 'pS6' with mask 'cyto'\n"
     ]
    },
    {
     "name": "stderr",
     "output_type": "stream",
     "text": [
      "c:\\Users\\KMK280\\AppData\\Local\\miniconda3\\envs\\sdata-env\\Lib\\site-packages\\anndata\\_core\\aligned_df.py:68: ImplicitModificationWarning: Transforming to str index.\n",
      "  warnings.warn(\"Transforming to str index.\", ImplicitModificationWarning)\n",
      "c:\\Users\\KMK280\\AppData\\Local\\miniconda3\\envs\\sdata-env\\Lib\\site-packages\\spatialdata\\models\\models.py:1144: UserWarning: Converting `region_key: region` to categorical dtype.\n",
      "  return convert_region_column_to_categorical(adata)\n"
     ]
    },
    {
     "name": "stdout",
     "output_type": "stream",
     "text": [
      "2025-10-17 14:31:32.621 | INFO     | multiplex_pipeline.object_quantification.controller:run:286 - Quantification complete. Resulting AnnData has 2330 observations and 72 variables.\n",
      "2025-10-17 14:31:33.326 | SUCCESS  | multiplex_pipeline.object_quantification.controller:run:313 - Quantification complete. Table 'instanseg_table' written to C:\\BLCA-7_Analysis\\cores\\Core_000.zarr\n"
     ]
    }
   ],
   "source": [
    "for sd_path in path_list:\n",
    "    \n",
    "    # load data\n",
    "    logger.info(f'Processing {sd_path.name}')\n",
    "    sdata = sd.read_zarr(sd_path)\n",
    "\n",
    "    # run quantification\n",
    "    for controller in quant_controller_list:\n",
    "        controller.run(sdata)"
   ]
  },
  {
   "cell_type": "markdown",
   "id": "34b6035a",
   "metadata": {},
   "source": [
    "### Sneak peek"
   ]
  },
  {
   "cell_type": "code",
   "execution_count": 17,
   "id": "538b17d7",
   "metadata": {},
   "outputs": [
    {
     "name": "stderr",
     "output_type": "stream",
     "text": [
      "version mismatch: detected: RasterFormatV02, requested: FormatV04\n",
      "c:\\Users\\KMK280\\AppData\\Local\\miniconda3\\envs\\sdata-env\\Lib\\site-packages\\zarr\\creation.py:610: UserWarning: ignoring keyword argument 'read_only'\n",
      "  compressor, fill_value = _kwargs_compat(compressor, fill_value, kwargs)\n",
      "version mismatch: detected: RasterFormatV02, requested: FormatV04\n",
      "version mismatch: detected: RasterFormatV02, requested: FormatV04\n",
      "version mismatch: detected: RasterFormatV02, requested: FormatV04\n",
      "version mismatch: detected: RasterFormatV02, requested: FormatV04\n",
      "version mismatch: detected: RasterFormatV02, requested: FormatV04\n",
      "version mismatch: detected: RasterFormatV02, requested: FormatV04\n",
      "version mismatch: detected: RasterFormatV02, requested: FormatV04\n",
      "version mismatch: detected: RasterFormatV02, requested: FormatV04\n"
     ]
    }
   ],
   "source": [
    "sdata = sd.read_zarr(sd_path)"
   ]
  },
  {
   "cell_type": "code",
   "execution_count": null,
   "id": "349877b0",
   "metadata": {},
   "outputs": [
    {
     "data": {
      "text/plain": [
       "<napari_spatialdata._interactive.Interactive at 0x21ace80fe50>"
      ]
     },
     "execution_count": 18,
     "metadata": {},
     "output_type": "execute_result"
    },
    {
     "name": "stderr",
     "output_type": "stream",
     "text": [
      "c:\\Users\\KMK280\\AppData\\Local\\miniconda3\\envs\\sdata-env\\Lib\\site-packages\\anndata\\_core\\aligned_df.py:68: ImplicitModificationWarning: Transforming to str index.\n",
      "  warnings.warn(\"Transforming to str index.\", ImplicitModificationWarning)\n"
     ]
    },
    {
     "name": "stdout",
     "output_type": "stream",
     "text": [
      "2025-10-17 14:31:55.576 | DEBUG    | napari_spatialdata._view:_on_layer_update:569 - Updating layer.\n",
      "2025-10-17 14:31:55.577 | DEBUG    | napari_spatialdata._view:_on_layer_update:569 - Updating layer.\n",
      "2025-10-17 14:32:09.268 | DEBUG    | napari_spatialdata._view:_on_layer_update:569 - Updating layer.\n",
      "2025-10-17 14:32:09.275 | DEBUG    | napari_spatialdata._view:_on_layer_update:569 - Updating layer.\n",
      "2025-10-17 14:32:15.805 | DEBUG    | napari_spatialdata._view:_on_layer_update:569 - Updating layer.\n",
      "2025-10-17 14:32:15.810 | DEBUG    | napari_spatialdata._view:_on_layer_update:569 - Updating layer.\n",
      "2025-10-17 14:32:23.307 | DEBUG    | napari_spatialdata._view:_on_layer_update:569 - Updating layer.\n",
      "2025-10-17 14:32:23.314 | DEBUG    | napari_spatialdata._view:_on_layer_update:569 - Updating layer.\n",
      "2025-10-17 14:33:09.245 | DEBUG    | napari_spatialdata._view:_on_layer_update:569 - Updating layer.\n",
      "2025-10-17 14:33:09.251 | DEBUG    | napari_spatialdata._view:_on_layer_update:569 - Updating layer.\n",
      "2025-10-17 14:33:09.624 | DEBUG    | napari_spatialdata._view:_on_layer_update:569 - Updating layer.\n",
      "2025-10-17 14:33:34.699 | DEBUG    | napari_spatialdata._view:_on_layer_update:569 - Updating layer.\n",
      "2025-10-17 14:33:34.706 | DEBUG    | napari_spatialdata._view:_on_layer_update:569 - Updating layer.\n",
      "2025-10-17 14:33:34.707 | DEBUG    | napari_spatialdata._view:_on_layer_update:569 - Updating layer.\n"
     ]
    },
    {
     "name": "stderr",
     "output_type": "stream",
     "text": [
      "c:\\Users\\KMK280\\AppData\\Local\\miniconda3\\envs\\sdata-env\\Lib\\site-packages\\anndata\\_core\\aligned_df.py:68: ImplicitModificationWarning: Transforming to str index.\n",
      "  warnings.warn(\"Transforming to str index.\", ImplicitModificationWarning)\n"
     ]
    },
    {
     "name": "stdout",
     "output_type": "stream",
     "text": [
      "2025-10-17 14:34:35.216 | DEBUG    | napari_spatialdata._view:_on_layer_update:569 - Updating layer.\n",
      "2025-10-17 14:34:35.226 | DEBUG    | napari_spatialdata._view:_on_layer_update:569 - Updating layer.\n",
      "2025-10-17 14:34:35.227 | DEBUG    | napari_spatialdata._view:_on_layer_update:569 - Updating layer.\n"
     ]
    },
    {
     "name": "stderr",
     "output_type": "stream",
     "text": [
      "c:\\Users\\KMK280\\AppData\\Local\\miniconda3\\envs\\sdata-env\\Lib\\site-packages\\anndata\\_core\\aligned_df.py:68: ImplicitModificationWarning: Transforming to str index.\n",
      "  warnings.warn(\"Transforming to str index.\", ImplicitModificationWarning)\n"
     ]
    },
    {
     "name": "stdout",
     "output_type": "stream",
     "text": [
      "2025-10-17 14:36:24.441 | DEBUG    | napari_spatialdata._view:_on_layer_update:569 - Updating layer.\n",
      "2025-10-17 14:36:24.451 | DEBUG    | napari_spatialdata._view:_on_layer_update:569 - Updating layer.\n",
      "2025-10-17 14:36:24.452 | DEBUG    | napari_spatialdata._view:_on_layer_update:569 - Updating layer.\n"
     ]
    },
    {
     "name": "stderr",
     "output_type": "stream",
     "text": [
      "c:\\Users\\KMK280\\AppData\\Local\\miniconda3\\envs\\sdata-env\\Lib\\site-packages\\anndata\\_core\\aligned_df.py:68: ImplicitModificationWarning: Transforming to str index.\n",
      "  warnings.warn(\"Transforming to str index.\", ImplicitModificationWarning)\n"
     ]
    },
    {
     "name": "stdout",
     "output_type": "stream",
     "text": [
      "2025-10-17 14:36:36.093 | DEBUG    | napari_spatialdata._view:_on_layer_update:569 - Updating layer.\n",
      "2025-10-17 14:36:36.099 | DEBUG    | napari_spatialdata._view:_on_layer_update:569 - Updating layer.\n",
      "2025-10-17 14:36:36.101 | DEBUG    | napari_spatialdata._view:_on_layer_update:569 - Updating layer.\n"
     ]
    },
    {
     "name": "stderr",
     "output_type": "stream",
     "text": [
      "c:\\Users\\KMK280\\AppData\\Local\\miniconda3\\envs\\sdata-env\\Lib\\site-packages\\anndata\\_core\\aligned_df.py:68: ImplicitModificationWarning: Transforming to str index.\n",
      "  warnings.warn(\"Transforming to str index.\", ImplicitModificationWarning)\n"
     ]
    },
    {
     "name": "stdout",
     "output_type": "stream",
     "text": [
      "2025-10-17 14:36:38.760 | DEBUG    | napari_spatialdata._view:_on_layer_update:569 - Updating layer.\n",
      "2025-10-17 14:36:38.766 | DEBUG    | napari_spatialdata._view:_on_layer_update:569 - Updating layer.\n",
      "2025-10-17 14:36:38.767 | DEBUG    | napari_spatialdata._view:_on_layer_update:569 - Updating layer.\n"
     ]
    },
    {
     "name": "stderr",
     "output_type": "stream",
     "text": [
      "c:\\Users\\KMK280\\AppData\\Local\\miniconda3\\envs\\sdata-env\\Lib\\site-packages\\anndata\\_core\\aligned_df.py:68: ImplicitModificationWarning: Transforming to str index.\n",
      "  warnings.warn(\"Transforming to str index.\", ImplicitModificationWarning)\n"
     ]
    },
    {
     "name": "stdout",
     "output_type": "stream",
     "text": [
      "2025-10-17 14:36:40.818 | DEBUG    | napari_spatialdata._view:_on_layer_update:569 - Updating layer.\n",
      "2025-10-17 14:36:40.824 | DEBUG    | napari_spatialdata._view:_on_layer_update:569 - Updating layer.\n",
      "2025-10-17 14:36:40.825 | DEBUG    | napari_spatialdata._view:_on_layer_update:569 - Updating layer.\n"
     ]
    },
    {
     "name": "stderr",
     "output_type": "stream",
     "text": [
      "c:\\Users\\KMK280\\AppData\\Local\\miniconda3\\envs\\sdata-env\\Lib\\site-packages\\anndata\\_core\\aligned_df.py:68: ImplicitModificationWarning: Transforming to str index.\n",
      "  warnings.warn(\"Transforming to str index.\", ImplicitModificationWarning)\n"
     ]
    },
    {
     "name": "stdout",
     "output_type": "stream",
     "text": [
      "2025-10-17 14:36:43.325 | DEBUG    | napari_spatialdata._view:_on_layer_update:569 - Updating layer.\n",
      "2025-10-17 14:36:43.336 | DEBUG    | napari_spatialdata._view:_on_layer_update:569 - Updating layer.\n",
      "2025-10-17 14:36:43.338 | DEBUG    | napari_spatialdata._view:_on_layer_update:569 - Updating layer.\n"
     ]
    },
    {
     "name": "stderr",
     "output_type": "stream",
     "text": [
      "c:\\Users\\KMK280\\AppData\\Local\\miniconda3\\envs\\sdata-env\\Lib\\site-packages\\anndata\\_core\\aligned_df.py:68: ImplicitModificationWarning: Transforming to str index.\n",
      "  warnings.warn(\"Transforming to str index.\", ImplicitModificationWarning)\n"
     ]
    },
    {
     "name": "stdout",
     "output_type": "stream",
     "text": [
      "2025-10-17 14:36:58.232 | DEBUG    | napari_spatialdata._view:_on_layer_update:569 - Updating layer.\n",
      "2025-10-17 14:36:58.241 | DEBUG    | napari_spatialdata._view:_on_layer_update:569 - Updating layer.\n",
      "2025-10-17 14:36:58.242 | DEBUG    | napari_spatialdata._view:_on_layer_update:569 - Updating layer.\n"
     ]
    },
    {
     "name": "stderr",
     "output_type": "stream",
     "text": [
      "c:\\Users\\KMK280\\AppData\\Local\\miniconda3\\envs\\sdata-env\\Lib\\site-packages\\anndata\\_core\\aligned_df.py:68: ImplicitModificationWarning: Transforming to str index.\n",
      "  warnings.warn(\"Transforming to str index.\", ImplicitModificationWarning)\n"
     ]
    },
    {
     "name": "stdout",
     "output_type": "stream",
     "text": [
      "2025-10-17 14:37:02.631 | DEBUG    | napari_spatialdata._view:_on_layer_update:569 - Updating layer.\n",
      "2025-10-17 14:37:02.638 | DEBUG    | napari_spatialdata._view:_on_layer_update:569 - Updating layer.\n",
      "2025-10-17 14:37:02.639 | DEBUG    | napari_spatialdata._view:_on_layer_update:569 - Updating layer.\n",
      "2025-10-17 14:37:26.679 | DEBUG    | napari_spatialdata._view:_on_layer_update:569 - Updating layer.\n",
      "2025-10-17 14:37:26.692 | DEBUG    | napari_spatialdata._view:_on_layer_update:569 - Updating layer.\n",
      "2025-10-17 14:37:27.114 | DEBUG    | napari_spatialdata._view:_on_layer_update:569 - Updating layer.\n",
      "2025-10-17 14:37:34.674 | DEBUG    | napari_spatialdata._view:_on_layer_update:569 - Updating layer.\n",
      "2025-10-17 14:37:34.684 | DEBUG    | napari_spatialdata._view:_on_layer_update:569 - Updating layer.\n",
      "2025-10-17 14:37:34.684 | DEBUG    | napari_spatialdata._view:_on_layer_update:569 - Updating layer.\n",
      "2025-10-17 14:37:43.544 | DEBUG    | napari_spatialdata._view:_on_layer_update:569 - Updating layer.\n",
      "2025-10-17 14:37:43.545 | DEBUG    | napari_spatialdata._view:_on_layer_update:569 - Updating layer.\n",
      "2025-10-17 14:37:44.374 | DEBUG    | napari_spatialdata._view:_on_layer_update:569 - Updating layer.\n"
     ]
    }
   ],
   "source": [
    "from napari_spatialdata import Interactive\n",
    "\n",
    "Interactive(sdata)"
   ]
  },
  {
   "cell_type": "code",
   "execution_count": null,
   "id": "c1755252",
   "metadata": {},
   "outputs": [],
   "source": []
  }
 ],
 "metadata": {
  "kernelspec": {
   "display_name": "sdata-env",
   "language": "python",
   "name": "python3"
  },
  "language_info": {
   "codemirror_mode": {
    "name": "ipython",
    "version": 3
   },
   "file_extension": ".py",
   "mimetype": "text/x-python",
   "name": "python",
   "nbconvert_exporter": "python",
   "pygments_lexer": "ipython3",
   "version": "3.11.13"
  }
 },
 "nbformat": 4,
 "nbformat_minor": 5
}
