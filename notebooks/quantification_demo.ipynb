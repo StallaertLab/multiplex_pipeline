{
 "cells": [
  {
   "cell_type": "code",
   "execution_count": 3,
   "id": "53977f1e",
   "metadata": {},
   "outputs": [
    {
     "name": "stdout",
     "output_type": "stream",
     "text": [
      "The autoreload extension is already loaded. To reload it, use:\n",
      "  %reload_ext autoreload\n"
     ]
    }
   ],
   "source": [
    "%load_ext autoreload\n",
    "%autoreload 2"
   ]
  },
  {
   "cell_type": "code",
   "execution_count": 10,
   "id": "b31951cf",
   "metadata": {},
   "outputs": [],
   "source": [
    "import numpy as np\n",
    "import spatialdata as sd\n",
    "from napari_spatialdata import Interactive\n",
    "\n",
    "from multiplex_pipeline.core_quantification.controller import QuantificationController"
   ]
  },
  {
   "cell_type": "code",
   "execution_count": 4,
   "id": "eca568d4",
   "metadata": {},
   "outputs": [],
   "source": [
    "sdata_path = r'D:\\spatialData_tests\\Core_005.zarr' "
   ]
  },
  {
   "cell_type": "code",
   "execution_count": 5,
   "id": "f71ce6e1",
   "metadata": {},
   "outputs": [
    {
     "name": "stderr",
     "output_type": "stream",
     "text": [
      "version mismatch: detected: RasterFormatV02, requested: FormatV04\n",
      "c:\\Users\\KMK280\\AppData\\Local\\miniconda3\\envs\\sdata-env\\Lib\\site-packages\\zarr\\creation.py:610: UserWarning: ignoring keyword argument 'read_only'\n",
      "  compressor, fill_value = _kwargs_compat(compressor, fill_value, kwargs)\n",
      "version mismatch: detected: RasterFormatV02, requested: FormatV04\n",
      "version mismatch: detected: RasterFormatV02, requested: FormatV04\n",
      "version mismatch: detected: RasterFormatV02, requested: FormatV04\n",
      "version mismatch: detected: RasterFormatV02, requested: FormatV04\n",
      "version mismatch: detected: RasterFormatV02, requested: FormatV04\n",
      "version mismatch: detected: RasterFormatV02, requested: FormatV04\n",
      "version mismatch: detected: RasterFormatV02, requested: FormatV04\n",
      "version mismatch: detected: RasterFormatV02, requested: FormatV04\n"
     ]
    }
   ],
   "source": [
    "sdata = sd.read_zarr(sdata_path)"
   ]
  },
  {
   "cell_type": "code",
   "execution_count": 6,
   "id": "ddde14e2",
   "metadata": {},
   "outputs": [
    {
     "data": {
      "text/plain": [
       "SpatialData object, with associated Zarr store: D:\\spatialData_tests\\Core_005.zarr\n",
       "├── Images\n",
       "│     ├── 'CD8a': DataTree[cyx] (1, 5760, 5824), (1, 2880, 2912), (1, 1440, 1456)\n",
       "│     ├── 'CD11C': DataTree[cyx] (1, 5760, 5824), (1, 2880, 2912), (1, 1440, 1456)\n",
       "│     ├── 'CD44': DataTree[cyx] (1, 5760, 5824), (1, 2880, 2912), (1, 1440, 1456)\n",
       "│     ├── 'CD45': DataTree[cyx] (1, 5760, 5824), (1, 2880, 2912), (1, 1440, 1456)\n",
       "│     ├── 'DAPI': DataTree[cyx] (1, 5760, 5824), (1, 2880, 2912), (1, 1440, 1456)\n",
       "│     ├── 'HLA1': DataTree[cyx] (1, 5760, 5824), (1, 2880, 2912), (1, 1440, 1456)\n",
       "│     ├── 'NaKATPase': DataTree[cyx] (1, 5760, 5824), (1, 2880, 2912), (1, 1440, 1456)\n",
       "│     ├── 'pCK26': DataTree[cyx] (1, 5760, 5824), (1, 2880, 2912), (1, 1440, 1456)\n",
       "│     └── 'pS6': DataTree[cyx] (1, 5760, 5824), (1, 2880, 2912), (1, 1440, 1456)\n",
       "└── Labels\n",
       "      ├── 'cellpose_nucleus': DataTree[yx] (5760, 5824), (2880, 2912), (1440, 1456)\n",
       "      ├── 'instanseg_cell_clean_blob': DataTree[yx] (5760, 5824), (2880, 2912), (1440, 1456)\n",
       "      └── 'instanseg_nucleus_blob': DataTree[yx] (5760, 5824), (2880, 2912), (1440, 1456)\n",
       "with coordinate systems:\n",
       "    ▸ 'global', with elements:\n",
       "        CD8a (Images), CD11C (Images), CD44 (Images), CD45 (Images), DAPI (Images), HLA1 (Images), NaKATPase (Images), pCK26 (Images), pS6 (Images), cellpose_nucleus (Labels), instanseg_cell_clean_blob (Labels), instanseg_nucleus_blob (Labels)"
      ]
     },
     "execution_count": 6,
     "metadata": {},
     "output_type": "execute_result"
    }
   ],
   "source": [
    "sdata"
   ]
  },
  {
   "cell_type": "code",
   "execution_count": 7,
   "id": "200176ba",
   "metadata": {},
   "outputs": [
    {
     "name": "stderr",
     "output_type": "stream",
     "text": [
      "\u001b[32m2025-09-12 12:36:26.340\u001b[0m | \u001b[1mINFO    \u001b[0m | \u001b[36mmultiplex_pipeline.core_quantification.controller\u001b[0m:\u001b[36mprepare_masks\u001b[0m:\u001b[36m46\u001b[0m - \u001b[1mDerivative mask 'instanseg_cyto_clean_blob' created as instanseg_cell_clean_blob minus instanseg_nucleus_blob.\u001b[0m\n",
      "\u001b[32m2025-09-12 12:36:26.376\u001b[0m | \u001b[1mINFO    \u001b[0m | \u001b[36mmultiplex_pipeline.core_quantification.controller\u001b[0m:\u001b[36mrun\u001b[0m:\u001b[36m67\u001b[0m - \u001b[1mPrepared masks for quantification.\u001b[0m\n",
      "\u001b[32m2025-09-12 12:36:26.378\u001b[0m | \u001b[1mINFO    \u001b[0m | \u001b[36mmultiplex_pipeline.core_quantification.controller\u001b[0m:\u001b[36mrun\u001b[0m:\u001b[36m72\u001b[0m - \u001b[1mQuantifying morphology features for mask 'cell'\u001b[0m\n",
      "\u001b[32m2025-09-12 12:36:47.075\u001b[0m | \u001b[1mINFO    \u001b[0m | \u001b[36mmultiplex_pipeline.core_quantification.controller\u001b[0m:\u001b[36mrun\u001b[0m:\u001b[36m72\u001b[0m - \u001b[1mQuantifying morphology features for mask 'nucleus'\u001b[0m\n",
      "\u001b[32m2025-09-12 12:37:03.083\u001b[0m | \u001b[1mINFO    \u001b[0m | \u001b[36mmultiplex_pipeline.core_quantification.controller\u001b[0m:\u001b[36mrun\u001b[0m:\u001b[36m72\u001b[0m - \u001b[1mQuantifying morphology features for mask 'instanseg_cyto_clean_blob'\u001b[0m\n",
      "\u001b[32m2025-09-12 12:37:21.468\u001b[0m | \u001b[1mINFO    \u001b[0m | \u001b[36mmultiplex_pipeline.core_quantification.controller\u001b[0m:\u001b[36mrun\u001b[0m:\u001b[36m83\u001b[0m - \u001b[1mQuantifying channel 'CD11C' with mask 'cell'\u001b[0m\n",
      "\u001b[32m2025-09-12 12:37:23.012\u001b[0m | \u001b[1mINFO    \u001b[0m | \u001b[36mmultiplex_pipeline.core_quantification.controller\u001b[0m:\u001b[36mrun\u001b[0m:\u001b[36m83\u001b[0m - \u001b[1mQuantifying channel 'CD11C' with mask 'nucleus'\u001b[0m\n",
      "\u001b[32m2025-09-12 12:37:24.196\u001b[0m | \u001b[1mINFO    \u001b[0m | \u001b[36mmultiplex_pipeline.core_quantification.controller\u001b[0m:\u001b[36mrun\u001b[0m:\u001b[36m83\u001b[0m - \u001b[1mQuantifying channel 'CD11C' with mask 'instanseg_cyto_clean_blob'\u001b[0m\n",
      "\u001b[32m2025-09-12 12:37:26.119\u001b[0m | \u001b[1mINFO    \u001b[0m | \u001b[36mmultiplex_pipeline.core_quantification.controller\u001b[0m:\u001b[36mrun\u001b[0m:\u001b[36m83\u001b[0m - \u001b[1mQuantifying channel 'CD44' with mask 'cell'\u001b[0m\n",
      "\u001b[32m2025-09-12 12:37:27.780\u001b[0m | \u001b[1mINFO    \u001b[0m | \u001b[36mmultiplex_pipeline.core_quantification.controller\u001b[0m:\u001b[36mrun\u001b[0m:\u001b[36m83\u001b[0m - \u001b[1mQuantifying channel 'CD44' with mask 'nucleus'\u001b[0m\n",
      "\u001b[32m2025-09-12 12:37:28.985\u001b[0m | \u001b[1mINFO    \u001b[0m | \u001b[36mmultiplex_pipeline.core_quantification.controller\u001b[0m:\u001b[36mrun\u001b[0m:\u001b[36m83\u001b[0m - \u001b[1mQuantifying channel 'CD44' with mask 'instanseg_cyto_clean_blob'\u001b[0m\n",
      "\u001b[32m2025-09-12 12:37:30.664\u001b[0m | \u001b[1mINFO    \u001b[0m | \u001b[36mmultiplex_pipeline.core_quantification.controller\u001b[0m:\u001b[36mrun\u001b[0m:\u001b[36m83\u001b[0m - \u001b[1mQuantifying channel 'CD45' with mask 'cell'\u001b[0m\n",
      "\u001b[32m2025-09-12 12:37:32.395\u001b[0m | \u001b[1mINFO    \u001b[0m | \u001b[36mmultiplex_pipeline.core_quantification.controller\u001b[0m:\u001b[36mrun\u001b[0m:\u001b[36m83\u001b[0m - \u001b[1mQuantifying channel 'CD45' with mask 'nucleus'\u001b[0m\n",
      "\u001b[32m2025-09-12 12:37:33.610\u001b[0m | \u001b[1mINFO    \u001b[0m | \u001b[36mmultiplex_pipeline.core_quantification.controller\u001b[0m:\u001b[36mrun\u001b[0m:\u001b[36m83\u001b[0m - \u001b[1mQuantifying channel 'CD45' with mask 'instanseg_cyto_clean_blob'\u001b[0m\n",
      "\u001b[32m2025-09-12 12:37:35.480\u001b[0m | \u001b[1mINFO    \u001b[0m | \u001b[36mmultiplex_pipeline.core_quantification.controller\u001b[0m:\u001b[36mrun\u001b[0m:\u001b[36m83\u001b[0m - \u001b[1mQuantifying channel 'CD8a' with mask 'cell'\u001b[0m\n",
      "\u001b[32m2025-09-12 12:37:36.995\u001b[0m | \u001b[1mINFO    \u001b[0m | \u001b[36mmultiplex_pipeline.core_quantification.controller\u001b[0m:\u001b[36mrun\u001b[0m:\u001b[36m83\u001b[0m - \u001b[1mQuantifying channel 'CD8a' with mask 'nucleus'\u001b[0m\n",
      "\u001b[32m2025-09-12 12:37:38.379\u001b[0m | \u001b[1mINFO    \u001b[0m | \u001b[36mmultiplex_pipeline.core_quantification.controller\u001b[0m:\u001b[36mrun\u001b[0m:\u001b[36m83\u001b[0m - \u001b[1mQuantifying channel 'CD8a' with mask 'instanseg_cyto_clean_blob'\u001b[0m\n",
      "\u001b[32m2025-09-12 12:37:40.301\u001b[0m | \u001b[1mINFO    \u001b[0m | \u001b[36mmultiplex_pipeline.core_quantification.controller\u001b[0m:\u001b[36mrun\u001b[0m:\u001b[36m83\u001b[0m - \u001b[1mQuantifying channel 'DAPI' with mask 'cell'\u001b[0m\n",
      "\u001b[32m2025-09-12 12:37:41.997\u001b[0m | \u001b[1mINFO    \u001b[0m | \u001b[36mmultiplex_pipeline.core_quantification.controller\u001b[0m:\u001b[36mrun\u001b[0m:\u001b[36m83\u001b[0m - \u001b[1mQuantifying channel 'DAPI' with mask 'nucleus'\u001b[0m\n",
      "\u001b[32m2025-09-12 12:37:43.240\u001b[0m | \u001b[1mINFO    \u001b[0m | \u001b[36mmultiplex_pipeline.core_quantification.controller\u001b[0m:\u001b[36mrun\u001b[0m:\u001b[36m83\u001b[0m - \u001b[1mQuantifying channel 'DAPI' with mask 'instanseg_cyto_clean_blob'\u001b[0m\n",
      "\u001b[32m2025-09-12 12:37:45.219\u001b[0m | \u001b[1mINFO    \u001b[0m | \u001b[36mmultiplex_pipeline.core_quantification.controller\u001b[0m:\u001b[36mrun\u001b[0m:\u001b[36m83\u001b[0m - \u001b[1mQuantifying channel 'HLA1' with mask 'cell'\u001b[0m\n",
      "\u001b[32m2025-09-12 12:37:46.779\u001b[0m | \u001b[1mINFO    \u001b[0m | \u001b[36mmultiplex_pipeline.core_quantification.controller\u001b[0m:\u001b[36mrun\u001b[0m:\u001b[36m83\u001b[0m - \u001b[1mQuantifying channel 'HLA1' with mask 'nucleus'\u001b[0m\n",
      "\u001b[32m2025-09-12 12:37:48.172\u001b[0m | \u001b[1mINFO    \u001b[0m | \u001b[36mmultiplex_pipeline.core_quantification.controller\u001b[0m:\u001b[36mrun\u001b[0m:\u001b[36m83\u001b[0m - \u001b[1mQuantifying channel 'HLA1' with mask 'instanseg_cyto_clean_blob'\u001b[0m\n",
      "\u001b[32m2025-09-12 12:37:49.824\u001b[0m | \u001b[1mINFO    \u001b[0m | \u001b[36mmultiplex_pipeline.core_quantification.controller\u001b[0m:\u001b[36mrun\u001b[0m:\u001b[36m83\u001b[0m - \u001b[1mQuantifying channel 'NaKATPase' with mask 'cell'\u001b[0m\n",
      "\u001b[32m2025-09-12 12:37:51.535\u001b[0m | \u001b[1mINFO    \u001b[0m | \u001b[36mmultiplex_pipeline.core_quantification.controller\u001b[0m:\u001b[36mrun\u001b[0m:\u001b[36m83\u001b[0m - \u001b[1mQuantifying channel 'NaKATPase' with mask 'nucleus'\u001b[0m\n",
      "\u001b[32m2025-09-12 12:37:52.817\u001b[0m | \u001b[1mINFO    \u001b[0m | \u001b[36mmultiplex_pipeline.core_quantification.controller\u001b[0m:\u001b[36mrun\u001b[0m:\u001b[36m83\u001b[0m - \u001b[1mQuantifying channel 'NaKATPase' with mask 'instanseg_cyto_clean_blob'\u001b[0m\n",
      "\u001b[32m2025-09-12 12:37:54.847\u001b[0m | \u001b[1mINFO    \u001b[0m | \u001b[36mmultiplex_pipeline.core_quantification.controller\u001b[0m:\u001b[36mrun\u001b[0m:\u001b[36m83\u001b[0m - \u001b[1mQuantifying channel 'pCK26' with mask 'cell'\u001b[0m\n",
      "\u001b[32m2025-09-12 12:37:56.426\u001b[0m | \u001b[1mINFO    \u001b[0m | \u001b[36mmultiplex_pipeline.core_quantification.controller\u001b[0m:\u001b[36mrun\u001b[0m:\u001b[36m83\u001b[0m - \u001b[1mQuantifying channel 'pCK26' with mask 'nucleus'\u001b[0m\n",
      "\u001b[32m2025-09-12 12:37:57.761\u001b[0m | \u001b[1mINFO    \u001b[0m | \u001b[36mmultiplex_pipeline.core_quantification.controller\u001b[0m:\u001b[36mrun\u001b[0m:\u001b[36m83\u001b[0m - \u001b[1mQuantifying channel 'pCK26' with mask 'instanseg_cyto_clean_blob'\u001b[0m\n",
      "\u001b[32m2025-09-12 12:37:59.477\u001b[0m | \u001b[1mINFO    \u001b[0m | \u001b[36mmultiplex_pipeline.core_quantification.controller\u001b[0m:\u001b[36mrun\u001b[0m:\u001b[36m83\u001b[0m - \u001b[1mQuantifying channel 'pS6' with mask 'cell'\u001b[0m\n",
      "\u001b[32m2025-09-12 12:38:01.258\u001b[0m | \u001b[1mINFO    \u001b[0m | \u001b[36mmultiplex_pipeline.core_quantification.controller\u001b[0m:\u001b[36mrun\u001b[0m:\u001b[36m83\u001b[0m - \u001b[1mQuantifying channel 'pS6' with mask 'nucleus'\u001b[0m\n",
      "\u001b[32m2025-09-12 12:38:02.420\u001b[0m | \u001b[1mINFO    \u001b[0m | \u001b[36mmultiplex_pipeline.core_quantification.controller\u001b[0m:\u001b[36mrun\u001b[0m:\u001b[36m83\u001b[0m - \u001b[1mQuantifying channel 'pS6' with mask 'instanseg_cyto_clean_blob'\u001b[0m\n",
      "\u001b[32m2025-09-12 12:38:03.937\u001b[0m | \u001b[1mINFO    \u001b[0m | \u001b[36mmultiplex_pipeline.core_quantification.controller\u001b[0m:\u001b[36mrun\u001b[0m:\u001b[36m96\u001b[0m - \u001b[1mCombining morphology and quantification data into AnnData object.\u001b[0m\n",
      "c:\\Users\\KMK280\\AppData\\Local\\miniconda3\\envs\\sdata-env\\Lib\\site-packages\\anndata\\_core\\aligned_df.py:68: ImplicitModificationWarning: Transforming to str index.\n",
      "  warnings.warn(\"Transforming to str index.\", ImplicitModificationWarning)\n",
      "\u001b[32m2025-09-12 12:38:04.647\u001b[0m | \u001b[32m\u001b[1mSUCCESS \u001b[0m | \u001b[36mmultiplex_pipeline.core_quantification.controller\u001b[0m:\u001b[36mrun\u001b[0m:\u001b[36m111\u001b[0m - \u001b[32m\u001b[1mQuantification complete. Table 'instanseg_data' written to D:\\spatialData_tests\\Core_005.zarr\u001b[0m\n"
     ]
    }
   ],
   "source": [
    "controller = QuantificationController(\n",
    "    sdata,\n",
    "    mask_keys={'cell': 'instanseg_cell_clean_blob', 'nucleus': 'instanseg_nucleus_blob'},\n",
    "    table_name = 'instanseg_data',\n",
    "    derivative_components=('instanseg_cell_clean_blob', 'instanseg_nucleus_blob'),\n",
    "    derivative_mask_name='instanseg_cyto_clean_blob'\n",
    ")\n",
    "\n",
    "controller.run()"
   ]
  },
  {
   "cell_type": "code",
   "execution_count": 8,
   "id": "9a102257",
   "metadata": {},
   "outputs": [
    {
     "name": "stderr",
     "output_type": "stream",
     "text": [
      "version mismatch: detected: RasterFormatV02, requested: FormatV04\n",
      "c:\\Users\\KMK280\\AppData\\Local\\miniconda3\\envs\\sdata-env\\Lib\\site-packages\\zarr\\creation.py:610: UserWarning: ignoring keyword argument 'read_only'\n",
      "  compressor, fill_value = _kwargs_compat(compressor, fill_value, kwargs)\n",
      "version mismatch: detected: RasterFormatV02, requested: FormatV04\n",
      "version mismatch: detected: RasterFormatV02, requested: FormatV04\n",
      "version mismatch: detected: RasterFormatV02, requested: FormatV04\n",
      "version mismatch: detected: RasterFormatV02, requested: FormatV04\n",
      "version mismatch: detected: RasterFormatV02, requested: FormatV04\n",
      "version mismatch: detected: RasterFormatV02, requested: FormatV04\n",
      "version mismatch: detected: RasterFormatV02, requested: FormatV04\n",
      "version mismatch: detected: RasterFormatV02, requested: FormatV04\n"
     ]
    },
    {
     "data": {
      "text/plain": [
       "SpatialData object, with associated Zarr store: D:\\spatialData_tests\\Core_005.zarr\n",
       "├── Images\n",
       "│     ├── 'CD8a': DataTree[cyx] (1, 5760, 5824), (1, 2880, 2912), (1, 1440, 1456)\n",
       "│     ├── 'CD11C': DataTree[cyx] (1, 5760, 5824), (1, 2880, 2912), (1, 1440, 1456)\n",
       "│     ├── 'CD44': DataTree[cyx] (1, 5760, 5824), (1, 2880, 2912), (1, 1440, 1456)\n",
       "│     ├── 'CD45': DataTree[cyx] (1, 5760, 5824), (1, 2880, 2912), (1, 1440, 1456)\n",
       "│     ├── 'DAPI': DataTree[cyx] (1, 5760, 5824), (1, 2880, 2912), (1, 1440, 1456)\n",
       "│     ├── 'HLA1': DataTree[cyx] (1, 5760, 5824), (1, 2880, 2912), (1, 1440, 1456)\n",
       "│     ├── 'NaKATPase': DataTree[cyx] (1, 5760, 5824), (1, 2880, 2912), (1, 1440, 1456)\n",
       "│     ├── 'pCK26': DataTree[cyx] (1, 5760, 5824), (1, 2880, 2912), (1, 1440, 1456)\n",
       "│     └── 'pS6': DataTree[cyx] (1, 5760, 5824), (1, 2880, 2912), (1, 1440, 1456)\n",
       "├── Labels\n",
       "│     ├── 'cellpose_nucleus': DataTree[yx] (5760, 5824), (2880, 2912), (1440, 1456)\n",
       "│     ├── 'instanseg_cell_clean_blob': DataTree[yx] (5760, 5824), (2880, 2912), (1440, 1456)\n",
       "│     └── 'instanseg_nucleus_blob': DataTree[yx] (5760, 5824), (2880, 2912), (1440, 1456)\n",
       "└── Tables\n",
       "      └── 'instanseg_data': AnnData (12967, 54)\n",
       "with coordinate systems:\n",
       "    ▸ 'global', with elements:\n",
       "        CD8a (Images), CD11C (Images), CD44 (Images), CD45 (Images), DAPI (Images), HLA1 (Images), NaKATPase (Images), pCK26 (Images), pS6 (Images), cellpose_nucleus (Labels), instanseg_cell_clean_blob (Labels), instanseg_nucleus_blob (Labels)"
      ]
     },
     "execution_count": 8,
     "metadata": {},
     "output_type": "execute_result"
    }
   ],
   "source": [
    "sdata = sd.read_zarr(sdata_path)\n",
    "sdata"
   ]
  },
  {
   "cell_type": "code",
   "execution_count": null,
   "id": "95c871ca",
   "metadata": {},
   "outputs": [
    {
     "data": {
      "text/plain": [
       "<napari_spatialdata._interactive.Interactive at 0x23e0365c890>"
      ]
     },
     "execution_count": 11,
     "metadata": {},
     "output_type": "execute_result"
    },
    {
     "name": "stderr",
     "output_type": "stream",
     "text": [
      "c:\\Users\\KMK280\\AppData\\Local\\miniconda3\\envs\\sdata-env\\Lib\\site-packages\\anndata\\_core\\aligned_df.py:68: ImplicitModificationWarning: Transforming to str index.\n",
      "  warnings.warn(\"Transforming to str index.\", ImplicitModificationWarning)\n",
      "\u001b[32m2025-09-12 12:39:40.051\u001b[0m | \u001b[34m\u001b[1mDEBUG   \u001b[0m | \u001b[36mnapari_spatialdata._view\u001b[0m:\u001b[36m_on_layer_update\u001b[0m:\u001b[36m569\u001b[0m - \u001b[34m\u001b[1mUpdating layer.\u001b[0m\n",
      "\u001b[32m2025-09-12 12:39:40.053\u001b[0m | \u001b[34m\u001b[1mDEBUG   \u001b[0m | \u001b[36mnapari_spatialdata._view\u001b[0m:\u001b[36m_on_layer_update\u001b[0m:\u001b[36m569\u001b[0m - \u001b[34m\u001b[1mUpdating layer.\u001b[0m\n",
      "\u001b[32m2025-09-12 12:39:49.323\u001b[0m | \u001b[34m\u001b[1mDEBUG   \u001b[0m | \u001b[36mnapari_spatialdata._view\u001b[0m:\u001b[36m_on_layer_update\u001b[0m:\u001b[36m569\u001b[0m - \u001b[34m\u001b[1mUpdating layer.\u001b[0m\n",
      "\u001b[32m2025-09-12 12:39:49.333\u001b[0m | \u001b[34m\u001b[1mDEBUG   \u001b[0m | \u001b[36mnapari_spatialdata._view\u001b[0m:\u001b[36m_on_layer_update\u001b[0m:\u001b[36m569\u001b[0m - \u001b[34m\u001b[1mUpdating layer.\u001b[0m\n",
      "\u001b[32m2025-09-12 12:39:54.276\u001b[0m | \u001b[34m\u001b[1mDEBUG   \u001b[0m | \u001b[36mnapari_spatialdata._view\u001b[0m:\u001b[36m_on_layer_update\u001b[0m:\u001b[36m569\u001b[0m - \u001b[34m\u001b[1mUpdating layer.\u001b[0m\n",
      "\u001b[32m2025-09-12 12:39:54.280\u001b[0m | \u001b[34m\u001b[1mDEBUG   \u001b[0m | \u001b[36mnapari_spatialdata._view\u001b[0m:\u001b[36m_on_layer_update\u001b[0m:\u001b[36m569\u001b[0m - \u001b[34m\u001b[1mUpdating layer.\u001b[0m\n"
     ]
    }
   ],
   "source": [
    "Interactive(sdata)"
   ]
  },
  {
   "cell_type": "code",
   "execution_count": 14,
   "id": "ab307199",
   "metadata": {},
   "outputs": [],
   "source": [
    "ad1 = sdata['instanseg_data']"
   ]
  },
  {
   "cell_type": "code",
   "execution_count": 12,
   "id": "fab4097e",
   "metadata": {},
   "outputs": [],
   "source": [
    "%gui qt5\n",
    "from napari_spatialdata import QtAdataScatterWidget"
   ]
  },
  {
   "cell_type": "code",
   "execution_count": null,
   "id": "8772589b",
   "metadata": {},
   "outputs": [
    {
     "name": "stderr",
     "output_type": "stream",
     "text": [
      "\u001b[32m2025-09-12 12:41:08.329\u001b[0m | \u001b[34m\u001b[1mDEBUG   \u001b[0m | \u001b[36mnapari_spatialdata._scatterwidgets\u001b[0m:\u001b[36m_onClick\u001b[0m:\u001b[36m637\u001b[0m - \u001b[34m\u001b[1mPlotting has been requested.\u001b[0m\n",
      "\u001b[32m2025-09-12 12:41:08.329\u001b[0m | \u001b[34m\u001b[1mDEBUG   \u001b[0m | \u001b[36mnapari_spatialdata._scatterwidgets\u001b[0m:\u001b[36m_onClick\u001b[0m:\u001b[36m670\u001b[0m - \u001b[34m\u001b[1mChange in color label detected.\u001b[0m\n",
      "\u001b[32m2025-09-12 12:41:08.329\u001b[0m | \u001b[34m\u001b[1mDEBUG   \u001b[0m | \u001b[36mnapari_spatialdata._scatterwidgets\u001b[0m:\u001b[36m_onClick\u001b[0m:\u001b[36m719\u001b[0m - \u001b[34m\u001b[1mA change in x or y data has been detected.\u001b[0m\n",
      "\u001b[32m2025-09-12 12:41:08.345\u001b[0m | \u001b[34m\u001b[1mDEBUG   \u001b[0m | \u001b[36mnapari_spatialdata._scatterwidgets\u001b[0m:\u001b[36mplot\u001b[0m:\u001b[36m752\u001b[0m - \u001b[34m\u001b[1mGenerating scatter plot...\u001b[0m\n",
      "\u001b[32m2025-09-12 12:41:08.451\u001b[0m | \u001b[34m\u001b[1mDEBUG   \u001b[0m | \u001b[36mnapari_spatialdata._scatterwidgets\u001b[0m:\u001b[36mupdate_proximity_sensitivity\u001b[0m:\u001b[36m461\u001b[0m - \u001b[34m\u001b[1mUpdating proximity sensitivity...\u001b[0m\n",
      "\u001b[32m2025-09-12 12:41:08.536\u001b[0m | \u001b[34m\u001b[1mDEBUG   \u001b[0m | \u001b[36mnapari_spatialdata._scatterwidgets\u001b[0m:\u001b[36mupdate_proximity_sensitivity\u001b[0m:\u001b[36m461\u001b[0m - \u001b[34m\u001b[1mUpdating proximity sensitivity...\u001b[0m\n",
      "\u001b[32m2025-09-12 12:41:37.626\u001b[0m | \u001b[34m\u001b[1mDEBUG   \u001b[0m | \u001b[36mnapari_spatialdata._scatterwidgets\u001b[0m:\u001b[36m_onClick\u001b[0m:\u001b[36m637\u001b[0m - \u001b[34m\u001b[1mPlotting has been requested.\u001b[0m\n",
      "\u001b[32m2025-09-12 12:41:37.626\u001b[0m | \u001b[34m\u001b[1mDEBUG   \u001b[0m | \u001b[36mnapari_spatialdata._scatterwidgets\u001b[0m:\u001b[36m_onClick\u001b[0m:\u001b[36m670\u001b[0m - \u001b[34m\u001b[1mChange in color label detected.\u001b[0m\n",
      "\u001b[32m2025-09-12 12:41:46.180\u001b[0m | \u001b[34m\u001b[1mDEBUG   \u001b[0m | \u001b[36mnapari_spatialdata._scatterwidgets\u001b[0m:\u001b[36m_onClick\u001b[0m:\u001b[36m637\u001b[0m - \u001b[34m\u001b[1mPlotting has been requested.\u001b[0m\n",
      "\u001b[32m2025-09-12 12:41:46.180\u001b[0m | \u001b[34m\u001b[1mDEBUG   \u001b[0m | \u001b[36mnapari_spatialdata._scatterwidgets\u001b[0m:\u001b[36mplot\u001b[0m:\u001b[36m752\u001b[0m - \u001b[34m\u001b[1mGenerating scatter plot...\u001b[0m\n",
      "\u001b[32m2025-09-12 12:41:54.118\u001b[0m | \u001b[34m\u001b[1mDEBUG   \u001b[0m | \u001b[36mnapari_spatialdata._scatterwidgets\u001b[0m:\u001b[36m_onClick\u001b[0m:\u001b[36m637\u001b[0m - \u001b[34m\u001b[1mPlotting has been requested.\u001b[0m\n",
      "\u001b[32m2025-09-12 12:41:54.118\u001b[0m | \u001b[34m\u001b[1mDEBUG   \u001b[0m | \u001b[36mnapari_spatialdata._scatterwidgets\u001b[0m:\u001b[36m_onClick\u001b[0m:\u001b[36m670\u001b[0m - \u001b[34m\u001b[1mChange in color label detected.\u001b[0m\n",
      "\u001b[32m2025-09-12 12:41:54.229\u001b[0m | \u001b[34m\u001b[1mDEBUG   \u001b[0m | \u001b[36mnapari_spatialdata._scatterwidgets\u001b[0m:\u001b[36mget_brushes\u001b[0m:\u001b[36m868\u001b[0m - \u001b[34m\u001b[1mGenerating brushes...\u001b[0m\n",
      "\u001b[32m2025-09-12 12:41:54.421\u001b[0m | \u001b[34m\u001b[1mDEBUG   \u001b[0m | \u001b[36mnapari_spatialdata._scatterwidgets\u001b[0m:\u001b[36mplot\u001b[0m:\u001b[36m752\u001b[0m - \u001b[34m\u001b[1mGenerating scatter plot...\u001b[0m\n",
      "\u001b[32m2025-09-12 12:41:55.260\u001b[0m | \u001b[34m\u001b[1mDEBUG   \u001b[0m | \u001b[36mnapari_spatialdata._scatterwidgets\u001b[0m:\u001b[36mupdate_proximity_sensitivity\u001b[0m:\u001b[36m461\u001b[0m - \u001b[34m\u001b[1mUpdating proximity sensitivity...\u001b[0m\n",
      "\u001b[32m2025-09-12 12:41:59.038\u001b[0m | \u001b[34m\u001b[1mDEBUG   \u001b[0m | \u001b[36mnapari_spatialdata._scatterwidgets\u001b[0m:\u001b[36m_onClick\u001b[0m:\u001b[36m637\u001b[0m - \u001b[34m\u001b[1mPlotting has been requested.\u001b[0m\n",
      "\u001b[32m2025-09-12 12:41:59.038\u001b[0m | \u001b[34m\u001b[1mDEBUG   \u001b[0m | \u001b[36mnapari_spatialdata._scatterwidgets\u001b[0m:\u001b[36m_onClick\u001b[0m:\u001b[36m670\u001b[0m - \u001b[34m\u001b[1mChange in color label detected.\u001b[0m\n",
      "\u001b[32m2025-09-12 12:41:59.514\u001b[0m | \u001b[34m\u001b[1mDEBUG   \u001b[0m | \u001b[36mnapari_spatialdata._scatterwidgets\u001b[0m:\u001b[36mget_brushes\u001b[0m:\u001b[36m868\u001b[0m - \u001b[34m\u001b[1mGenerating brushes...\u001b[0m\n",
      "\u001b[32m2025-09-12 12:41:59.728\u001b[0m | \u001b[34m\u001b[1mDEBUG   \u001b[0m | \u001b[36mnapari_spatialdata._scatterwidgets\u001b[0m:\u001b[36mplot\u001b[0m:\u001b[36m752\u001b[0m - \u001b[34m\u001b[1mGenerating scatter plot...\u001b[0m\n",
      "\u001b[32m2025-09-12 12:42:04.590\u001b[0m | \u001b[34m\u001b[1mDEBUG   \u001b[0m | \u001b[36mnapari_spatialdata._scatterwidgets\u001b[0m:\u001b[36m_onClick\u001b[0m:\u001b[36m637\u001b[0m - \u001b[34m\u001b[1mPlotting has been requested.\u001b[0m\n",
      "\u001b[32m2025-09-12 12:42:04.590\u001b[0m | \u001b[34m\u001b[1mDEBUG   \u001b[0m | \u001b[36mnapari_spatialdata._scatterwidgets\u001b[0m:\u001b[36m_onClick\u001b[0m:\u001b[36m670\u001b[0m - \u001b[34m\u001b[1mChange in color label detected.\u001b[0m\n",
      "\u001b[32m2025-09-12 12:42:04.795\u001b[0m | \u001b[34m\u001b[1mDEBUG   \u001b[0m | \u001b[36mnapari_spatialdata._scatterwidgets\u001b[0m:\u001b[36mupdate_proximity_sensitivity\u001b[0m:\u001b[36m461\u001b[0m - \u001b[34m\u001b[1mUpdating proximity sensitivity...\u001b[0m\n",
      "\u001b[32m2025-09-12 12:42:07.932\u001b[0m | \u001b[34m\u001b[1mDEBUG   \u001b[0m | \u001b[36mnapari_spatialdata._scatterwidgets\u001b[0m:\u001b[36m_onClick\u001b[0m:\u001b[36m637\u001b[0m - \u001b[34m\u001b[1mPlotting has been requested.\u001b[0m\n",
      "\u001b[32m2025-09-12 12:42:07.932\u001b[0m | \u001b[34m\u001b[1mDEBUG   \u001b[0m | \u001b[36mnapari_spatialdata._scatterwidgets\u001b[0m:\u001b[36m_onClick\u001b[0m:\u001b[36m670\u001b[0m - \u001b[34m\u001b[1mChange in color label detected.\u001b[0m\n",
      "\u001b[32m2025-09-12 12:42:08.032\u001b[0m | \u001b[34m\u001b[1mDEBUG   \u001b[0m | \u001b[36mnapari_spatialdata._scatterwidgets\u001b[0m:\u001b[36mget_brushes\u001b[0m:\u001b[36m868\u001b[0m - \u001b[34m\u001b[1mGenerating brushes...\u001b[0m\n",
      "\u001b[32m2025-09-12 12:42:08.236\u001b[0m | \u001b[34m\u001b[1mDEBUG   \u001b[0m | \u001b[36mnapari_spatialdata._scatterwidgets\u001b[0m:\u001b[36mplot\u001b[0m:\u001b[36m752\u001b[0m - \u001b[34m\u001b[1mGenerating scatter plot...\u001b[0m\n",
      "\u001b[32m2025-09-12 12:42:09.065\u001b[0m | \u001b[34m\u001b[1mDEBUG   \u001b[0m | \u001b[36mnapari_spatialdata._scatterwidgets\u001b[0m:\u001b[36mupdate_proximity_sensitivity\u001b[0m:\u001b[36m461\u001b[0m - \u001b[34m\u001b[1mUpdating proximity sensitivity...\u001b[0m\n",
      "\u001b[32m2025-09-12 12:42:27.925\u001b[0m | \u001b[34m\u001b[1mDEBUG   \u001b[0m | \u001b[36mnapari_spatialdata._scatterwidgets\u001b[0m:\u001b[36m_onClick\u001b[0m:\u001b[36m637\u001b[0m - \u001b[34m\u001b[1mPlotting has been requested.\u001b[0m\n",
      "\u001b[32m2025-09-12 12:42:27.925\u001b[0m | \u001b[34m\u001b[1mDEBUG   \u001b[0m | \u001b[36mnapari_spatialdata._scatterwidgets\u001b[0m:\u001b[36m_onClick\u001b[0m:\u001b[36m719\u001b[0m - \u001b[34m\u001b[1mA change in x or y data has been detected.\u001b[0m\n",
      "\u001b[32m2025-09-12 12:42:27.925\u001b[0m | \u001b[34m\u001b[1mDEBUG   \u001b[0m | \u001b[36mnapari_spatialdata._scatterwidgets\u001b[0m:\u001b[36mplot\u001b[0m:\u001b[36m752\u001b[0m - \u001b[34m\u001b[1mGenerating scatter plot...\u001b[0m\n",
      "\u001b[32m2025-09-12 12:42:28.749\u001b[0m | \u001b[34m\u001b[1mDEBUG   \u001b[0m | \u001b[36mnapari_spatialdata._scatterwidgets\u001b[0m:\u001b[36mupdate_proximity_sensitivity\u001b[0m:\u001b[36m461\u001b[0m - \u001b[34m\u001b[1mUpdating proximity sensitivity...\u001b[0m\n",
      "\u001b[32m2025-09-12 12:42:28.848\u001b[0m | \u001b[34m\u001b[1mDEBUG   \u001b[0m | \u001b[36mnapari_spatialdata._scatterwidgets\u001b[0m:\u001b[36mupdate_proximity_sensitivity\u001b[0m:\u001b[36m461\u001b[0m - \u001b[34m\u001b[1mUpdating proximity sensitivity...\u001b[0m\n",
      "\u001b[32m2025-09-12 12:42:40.271\u001b[0m | \u001b[34m\u001b[1mDEBUG   \u001b[0m | \u001b[36mnapari_spatialdata._scatterwidgets\u001b[0m:\u001b[36m_onClick\u001b[0m:\u001b[36m637\u001b[0m - \u001b[34m\u001b[1mPlotting has been requested.\u001b[0m\n",
      "\u001b[32m2025-09-12 12:42:40.271\u001b[0m | \u001b[34m\u001b[1mDEBUG   \u001b[0m | \u001b[36mnapari_spatialdata._scatterwidgets\u001b[0m:\u001b[36m_onClick\u001b[0m:\u001b[36m719\u001b[0m - \u001b[34m\u001b[1mA change in x or y data has been detected.\u001b[0m\n",
      "\u001b[32m2025-09-12 12:42:40.271\u001b[0m | \u001b[34m\u001b[1mDEBUG   \u001b[0m | \u001b[36mnapari_spatialdata._scatterwidgets\u001b[0m:\u001b[36mplot\u001b[0m:\u001b[36m752\u001b[0m - \u001b[34m\u001b[1mGenerating scatter plot...\u001b[0m\n",
      "\u001b[32m2025-09-12 12:42:41.444\u001b[0m | \u001b[34m\u001b[1mDEBUG   \u001b[0m | \u001b[36mnapari_spatialdata._scatterwidgets\u001b[0m:\u001b[36mupdate_proximity_sensitivity\u001b[0m:\u001b[36m461\u001b[0m - \u001b[34m\u001b[1mUpdating proximity sensitivity...\u001b[0m\n",
      "\u001b[32m2025-09-12 12:42:41.607\u001b[0m | \u001b[34m\u001b[1mDEBUG   \u001b[0m | \u001b[36mnapari_spatialdata._scatterwidgets\u001b[0m:\u001b[36mupdate_proximity_sensitivity\u001b[0m:\u001b[36m461\u001b[0m - \u001b[34m\u001b[1mUpdating proximity sensitivity...\u001b[0m\n",
      "\u001b[32m2025-09-12 12:42:43.677\u001b[0m | \u001b[34m\u001b[1mDEBUG   \u001b[0m | \u001b[36mnapari_spatialdata._scatterwidgets\u001b[0m:\u001b[36mupdate_proximity_sensitivity\u001b[0m:\u001b[36m461\u001b[0m - \u001b[34m\u001b[1mUpdating proximity sensitivity...\u001b[0m\n",
      "\u001b[32m2025-09-12 12:42:48.938\u001b[0m | \u001b[34m\u001b[1mDEBUG   \u001b[0m | \u001b[36mnapari_spatialdata._scatterwidgets\u001b[0m:\u001b[36mupdate_proximity_sensitivity\u001b[0m:\u001b[36m461\u001b[0m - \u001b[34m\u001b[1mUpdating proximity sensitivity...\u001b[0m\n",
      "\u001b[32m2025-09-12 12:42:49.123\u001b[0m | \u001b[34m\u001b[1mDEBUG   \u001b[0m | \u001b[36mnapari_spatialdata._scatterwidgets\u001b[0m:\u001b[36mupdate_proximity_sensitivity\u001b[0m:\u001b[36m461\u001b[0m - \u001b[34m\u001b[1mUpdating proximity sensitivity...\u001b[0m\n",
      "\u001b[32m2025-09-12 12:42:49.466\u001b[0m | \u001b[34m\u001b[1mDEBUG   \u001b[0m | \u001b[36mnapari_spatialdata._scatterwidgets\u001b[0m:\u001b[36mupdate_proximity_sensitivity\u001b[0m:\u001b[36m461\u001b[0m - \u001b[34m\u001b[1mUpdating proximity sensitivity...\u001b[0m\n",
      "\u001b[32m2025-09-12 12:42:49.596\u001b[0m | \u001b[34m\u001b[1mDEBUG   \u001b[0m | \u001b[36mnapari_spatialdata._scatterwidgets\u001b[0m:\u001b[36mupdate_proximity_sensitivity\u001b[0m:\u001b[36m461\u001b[0m - \u001b[34m\u001b[1mUpdating proximity sensitivity...\u001b[0m\n",
      "\u001b[32m2025-09-12 12:42:53.756\u001b[0m | \u001b[34m\u001b[1mDEBUG   \u001b[0m | \u001b[36mnapari_spatialdata._scatterwidgets\u001b[0m:\u001b[36m_onClick\u001b[0m:\u001b[36m637\u001b[0m - \u001b[34m\u001b[1mPlotting has been requested.\u001b[0m\n",
      "\u001b[32m2025-09-12 12:42:53.763\u001b[0m | \u001b[34m\u001b[1mDEBUG   \u001b[0m | \u001b[36mnapari_spatialdata._scatterwidgets\u001b[0m:\u001b[36m_onClick\u001b[0m:\u001b[36m719\u001b[0m - \u001b[34m\u001b[1mA change in x or y data has been detected.\u001b[0m\n",
      "\u001b[32m2025-09-12 12:42:53.766\u001b[0m | \u001b[34m\u001b[1mDEBUG   \u001b[0m | \u001b[36mnapari_spatialdata._scatterwidgets\u001b[0m:\u001b[36mplot\u001b[0m:\u001b[36m752\u001b[0m - \u001b[34m\u001b[1mGenerating scatter plot...\u001b[0m\n",
      "\u001b[32m2025-09-12 12:42:54.907\u001b[0m | \u001b[34m\u001b[1mDEBUG   \u001b[0m | \u001b[36mnapari_spatialdata._scatterwidgets\u001b[0m:\u001b[36mupdate_proximity_sensitivity\u001b[0m:\u001b[36m461\u001b[0m - \u001b[34m\u001b[1mUpdating proximity sensitivity...\u001b[0m\n",
      "\u001b[32m2025-09-12 12:42:55.036\u001b[0m | \u001b[34m\u001b[1mDEBUG   \u001b[0m | \u001b[36mnapari_spatialdata._scatterwidgets\u001b[0m:\u001b[36mupdate_proximity_sensitivity\u001b[0m:\u001b[36m461\u001b[0m - \u001b[34m\u001b[1mUpdating proximity sensitivity...\u001b[0m\n",
      "c:\\Users\\KMK280\\AppData\\Local\\miniconda3\\envs\\sdata-env\\Lib\\site-packages\\anndata\\_core\\aligned_df.py:68: ImplicitModificationWarning: Transforming to str index.\n",
      "  warnings.warn(\"Transforming to str index.\", ImplicitModificationWarning)\n",
      "\u001b[32m2025-09-12 12:43:02.885\u001b[0m | \u001b[34m\u001b[1mDEBUG   \u001b[0m | \u001b[36mnapari_spatialdata._view\u001b[0m:\u001b[36m_on_layer_update\u001b[0m:\u001b[36m569\u001b[0m - \u001b[34m\u001b[1mUpdating layer.\u001b[0m\n",
      "\u001b[32m2025-09-12 12:43:02.895\u001b[0m | \u001b[34m\u001b[1mDEBUG   \u001b[0m | \u001b[36mnapari_spatialdata._view\u001b[0m:\u001b[36m_on_layer_update\u001b[0m:\u001b[36m569\u001b[0m - \u001b[34m\u001b[1mUpdating layer.\u001b[0m\n",
      "\u001b[32m2025-09-12 12:43:02.898\u001b[0m | \u001b[34m\u001b[1mDEBUG   \u001b[0m | \u001b[36mnapari_spatialdata._view\u001b[0m:\u001b[36m_on_layer_update\u001b[0m:\u001b[36m569\u001b[0m - \u001b[34m\u001b[1mUpdating layer.\u001b[0m\n",
      "\u001b[32m2025-09-12 12:43:38.302\u001b[0m | \u001b[34m\u001b[1mDEBUG   \u001b[0m | \u001b[36mnapari_spatialdata._scatterwidgets\u001b[0m:\u001b[36m_onClick\u001b[0m:\u001b[36m637\u001b[0m - \u001b[34m\u001b[1mPlotting has been requested.\u001b[0m\n",
      "\u001b[32m2025-09-12 12:43:38.302\u001b[0m | \u001b[34m\u001b[1mDEBUG   \u001b[0m | \u001b[36mnapari_spatialdata._scatterwidgets\u001b[0m:\u001b[36m_onClick\u001b[0m:\u001b[36m670\u001b[0m - \u001b[34m\u001b[1mChange in color label detected.\u001b[0m\n",
      "\u001b[32m2025-09-12 12:43:38.406\u001b[0m | \u001b[34m\u001b[1mDEBUG   \u001b[0m | \u001b[36mnapari_spatialdata._scatterwidgets\u001b[0m:\u001b[36mget_brushes\u001b[0m:\u001b[36m868\u001b[0m - \u001b[34m\u001b[1mGenerating brushes...\u001b[0m\n",
      "\u001b[32m2025-09-12 12:43:38.627\u001b[0m | \u001b[34m\u001b[1mDEBUG   \u001b[0m | \u001b[36mnapari_spatialdata._scatterwidgets\u001b[0m:\u001b[36mplot\u001b[0m:\u001b[36m752\u001b[0m - \u001b[34m\u001b[1mGenerating scatter plot...\u001b[0m\n",
      "\u001b[32m2025-09-12 12:43:43.674\u001b[0m | \u001b[34m\u001b[1mDEBUG   \u001b[0m | \u001b[36mnapari_spatialdata._scatterwidgets\u001b[0m:\u001b[36mupdate_proximity_sensitivity\u001b[0m:\u001b[36m461\u001b[0m - \u001b[34m\u001b[1mUpdating proximity sensitivity...\u001b[0m\n",
      "\u001b[32m2025-09-12 12:43:44.262\u001b[0m | \u001b[34m\u001b[1mDEBUG   \u001b[0m | \u001b[36mnapari_spatialdata._scatterwidgets\u001b[0m:\u001b[36mupdate_proximity_sensitivity\u001b[0m:\u001b[36m461\u001b[0m - \u001b[34m\u001b[1mUpdating proximity sensitivity...\u001b[0m\n",
      "\u001b[32m2025-09-12 12:43:44.464\u001b[0m | \u001b[34m\u001b[1mDEBUG   \u001b[0m | \u001b[36mnapari_spatialdata._scatterwidgets\u001b[0m:\u001b[36mupdate_proximity_sensitivity\u001b[0m:\u001b[36m461\u001b[0m - \u001b[34m\u001b[1mUpdating proximity sensitivity...\u001b[0m\n",
      "\u001b[32m2025-09-12 12:43:45.298\u001b[0m | \u001b[34m\u001b[1mDEBUG   \u001b[0m | \u001b[36mnapari_spatialdata._scatterwidgets\u001b[0m:\u001b[36mupdate_proximity_sensitivity\u001b[0m:\u001b[36m461\u001b[0m - \u001b[34m\u001b[1mUpdating proximity sensitivity...\u001b[0m\n",
      "\u001b[32m2025-09-12 12:43:45.444\u001b[0m | \u001b[34m\u001b[1mDEBUG   \u001b[0m | \u001b[36mnapari_spatialdata._scatterwidgets\u001b[0m:\u001b[36mupdate_proximity_sensitivity\u001b[0m:\u001b[36m461\u001b[0m - \u001b[34m\u001b[1mUpdating proximity sensitivity...\u001b[0m\n",
      "\u001b[32m2025-09-12 12:43:46.467\u001b[0m | \u001b[34m\u001b[1mDEBUG   \u001b[0m | \u001b[36mnapari_spatialdata._scatterwidgets\u001b[0m:\u001b[36mupdate_proximity_sensitivity\u001b[0m:\u001b[36m461\u001b[0m - \u001b[34m\u001b[1mUpdating proximity sensitivity...\u001b[0m\n",
      "\u001b[32m2025-09-12 12:43:47.183\u001b[0m | \u001b[34m\u001b[1mDEBUG   \u001b[0m | \u001b[36mnapari_spatialdata._scatterwidgets\u001b[0m:\u001b[36mupdate_proximity_sensitivity\u001b[0m:\u001b[36m461\u001b[0m - \u001b[34m\u001b[1mUpdating proximity sensitivity...\u001b[0m\n",
      "\u001b[32m2025-09-12 12:43:47.382\u001b[0m | \u001b[34m\u001b[1mDEBUG   \u001b[0m | \u001b[36mnapari_spatialdata._scatterwidgets\u001b[0m:\u001b[36mupdate_proximity_sensitivity\u001b[0m:\u001b[36m461\u001b[0m - \u001b[34m\u001b[1mUpdating proximity sensitivity...\u001b[0m\n",
      "\u001b[32m2025-09-12 12:43:47.877\u001b[0m | \u001b[34m\u001b[1mDEBUG   \u001b[0m | \u001b[36mnapari_spatialdata._scatterwidgets\u001b[0m:\u001b[36mupdate_proximity_sensitivity\u001b[0m:\u001b[36m461\u001b[0m - \u001b[34m\u001b[1mUpdating proximity sensitivity...\u001b[0m\n",
      "\u001b[32m2025-09-12 12:43:48.670\u001b[0m | \u001b[34m\u001b[1mDEBUG   \u001b[0m | \u001b[36mnapari_spatialdata._scatterwidgets\u001b[0m:\u001b[36mupdate_proximity_sensitivity\u001b[0m:\u001b[36m461\u001b[0m - \u001b[34m\u001b[1mUpdating proximity sensitivity...\u001b[0m\n",
      "\u001b[32m2025-09-12 12:43:49.979\u001b[0m | \u001b[34m\u001b[1mDEBUG   \u001b[0m | \u001b[36mnapari_spatialdata._scatterwidgets\u001b[0m:\u001b[36mupdate_proximity_sensitivity\u001b[0m:\u001b[36m461\u001b[0m - \u001b[34m\u001b[1mUpdating proximity sensitivity...\u001b[0m\n",
      "\u001b[32m2025-09-12 12:43:51.458\u001b[0m | \u001b[34m\u001b[1mDEBUG   \u001b[0m | \u001b[36mnapari_spatialdata._scatterwidgets\u001b[0m:\u001b[36mupdate_proximity_sensitivity\u001b[0m:\u001b[36m461\u001b[0m - \u001b[34m\u001b[1mUpdating proximity sensitivity...\u001b[0m\n",
      "\u001b[32m2025-09-12 12:43:52.590\u001b[0m | \u001b[34m\u001b[1mDEBUG   \u001b[0m | \u001b[36mnapari_spatialdata._scatterwidgets\u001b[0m:\u001b[36mupdate_proximity_sensitivity\u001b[0m:\u001b[36m461\u001b[0m - \u001b[34m\u001b[1mUpdating proximity sensitivity...\u001b[0m\n",
      "\u001b[32m2025-09-12 12:43:52.923\u001b[0m | \u001b[34m\u001b[1mDEBUG   \u001b[0m | \u001b[36mnapari_spatialdata._scatterwidgets\u001b[0m:\u001b[36mupdate_proximity_sensitivity\u001b[0m:\u001b[36m461\u001b[0m - \u001b[34m\u001b[1mUpdating proximity sensitivity...\u001b[0m\n",
      "\u001b[32m2025-09-12 12:43:53.219\u001b[0m | \u001b[34m\u001b[1mDEBUG   \u001b[0m | \u001b[36mnapari_spatialdata._scatterwidgets\u001b[0m:\u001b[36mupdate_proximity_sensitivity\u001b[0m:\u001b[36m461\u001b[0m - \u001b[34m\u001b[1mUpdating proximity sensitivity...\u001b[0m\n",
      "c:\\Users\\KMK280\\AppData\\Local\\miniconda3\\envs\\sdata-env\\Lib\\site-packages\\anndata\\_core\\aligned_df.py:68: ImplicitModificationWarning: Transforming to str index.\n",
      "  warnings.warn(\"Transforming to str index.\", ImplicitModificationWarning)\n",
      "\u001b[32m2025-09-12 12:44:04.672\u001b[0m | \u001b[34m\u001b[1mDEBUG   \u001b[0m | \u001b[36mnapari_spatialdata._view\u001b[0m:\u001b[36m_on_layer_update\u001b[0m:\u001b[36m569\u001b[0m - \u001b[34m\u001b[1mUpdating layer.\u001b[0m\n",
      "\u001b[32m2025-09-12 12:44:04.679\u001b[0m | \u001b[34m\u001b[1mDEBUG   \u001b[0m | \u001b[36mnapari_spatialdata._view\u001b[0m:\u001b[36m_on_layer_update\u001b[0m:\u001b[36m569\u001b[0m - \u001b[34m\u001b[1mUpdating layer.\u001b[0m\n",
      "\u001b[32m2025-09-12 12:44:04.681\u001b[0m | \u001b[34m\u001b[1mDEBUG   \u001b[0m | \u001b[36mnapari_spatialdata._view\u001b[0m:\u001b[36m_on_layer_update\u001b[0m:\u001b[36m569\u001b[0m - \u001b[34m\u001b[1mUpdating layer.\u001b[0m\n",
      "\u001b[32m2025-09-12 12:45:16.077\u001b[0m | \u001b[34m\u001b[1mDEBUG   \u001b[0m | \u001b[36mnapari_spatialdata._view\u001b[0m:\u001b[36m_on_layer_update\u001b[0m:\u001b[36m569\u001b[0m - \u001b[34m\u001b[1mUpdating layer.\u001b[0m\n",
      "\u001b[32m2025-09-12 12:45:16.089\u001b[0m | \u001b[34m\u001b[1mDEBUG   \u001b[0m | \u001b[36mnapari_spatialdata._view\u001b[0m:\u001b[36m_on_layer_update\u001b[0m:\u001b[36m569\u001b[0m - \u001b[34m\u001b[1mUpdating layer.\u001b[0m\n",
      "\u001b[32m2025-09-12 12:45:57.873\u001b[0m | \u001b[34m\u001b[1mDEBUG   \u001b[0m | \u001b[36mnapari_spatialdata._scatterwidgets\u001b[0m:\u001b[36m_onClick\u001b[0m:\u001b[36m637\u001b[0m - \u001b[34m\u001b[1mPlotting has been requested.\u001b[0m\n",
      "\u001b[32m2025-09-12 12:45:57.873\u001b[0m | \u001b[34m\u001b[1mDEBUG   \u001b[0m | \u001b[36mnapari_spatialdata._scatterwidgets\u001b[0m:\u001b[36m_onClick\u001b[0m:\u001b[36m719\u001b[0m - \u001b[34m\u001b[1mA change in x or y data has been detected.\u001b[0m\n",
      "\u001b[32m2025-09-12 12:45:57.873\u001b[0m | \u001b[34m\u001b[1mDEBUG   \u001b[0m | \u001b[36mnapari_spatialdata._scatterwidgets\u001b[0m:\u001b[36mplot\u001b[0m:\u001b[36m752\u001b[0m - \u001b[34m\u001b[1mGenerating scatter plot...\u001b[0m\n",
      "\u001b[32m2025-09-12 12:45:58.776\u001b[0m | \u001b[34m\u001b[1mDEBUG   \u001b[0m | \u001b[36mnapari_spatialdata._scatterwidgets\u001b[0m:\u001b[36mupdate_proximity_sensitivity\u001b[0m:\u001b[36m461\u001b[0m - \u001b[34m\u001b[1mUpdating proximity sensitivity...\u001b[0m\n",
      "\u001b[32m2025-09-12 12:46:01.031\u001b[0m | \u001b[34m\u001b[1mDEBUG   \u001b[0m | \u001b[36mnapari_spatialdata._scatterwidgets\u001b[0m:\u001b[36mupdate_proximity_sensitivity\u001b[0m:\u001b[36m461\u001b[0m - \u001b[34m\u001b[1mUpdating proximity sensitivity...\u001b[0m\n",
      "\u001b[32m2025-09-12 12:46:01.194\u001b[0m | \u001b[34m\u001b[1mDEBUG   \u001b[0m | \u001b[36mnapari_spatialdata._scatterwidgets\u001b[0m:\u001b[36mupdate_proximity_sensitivity\u001b[0m:\u001b[36m461\u001b[0m - \u001b[34m\u001b[1mUpdating proximity sensitivity...\u001b[0m\n",
      "\u001b[32m2025-09-12 12:46:01.883\u001b[0m | \u001b[34m\u001b[1mDEBUG   \u001b[0m | \u001b[36mnapari_spatialdata._scatterwidgets\u001b[0m:\u001b[36mupdate_proximity_sensitivity\u001b[0m:\u001b[36m461\u001b[0m - \u001b[34m\u001b[1mUpdating proximity sensitivity...\u001b[0m\n",
      "\u001b[32m2025-09-12 12:46:03.576\u001b[0m | \u001b[34m\u001b[1mDEBUG   \u001b[0m | \u001b[36mnapari_spatialdata._scatterwidgets\u001b[0m:\u001b[36mupdate_proximity_sensitivity\u001b[0m:\u001b[36m461\u001b[0m - \u001b[34m\u001b[1mUpdating proximity sensitivity...\u001b[0m\n",
      "\u001b[32m2025-09-12 12:46:03.797\u001b[0m | \u001b[34m\u001b[1mDEBUG   \u001b[0m | \u001b[36mnapari_spatialdata._scatterwidgets\u001b[0m:\u001b[36mupdate_proximity_sensitivity\u001b[0m:\u001b[36m461\u001b[0m - \u001b[34m\u001b[1mUpdating proximity sensitivity...\u001b[0m\n",
      "\u001b[32m2025-09-12 12:46:04.114\u001b[0m | \u001b[34m\u001b[1mDEBUG   \u001b[0m | \u001b[36mnapari_spatialdata._scatterwidgets\u001b[0m:\u001b[36mupdate_proximity_sensitivity\u001b[0m:\u001b[36m461\u001b[0m - \u001b[34m\u001b[1mUpdating proximity sensitivity...\u001b[0m\n",
      "\u001b[32m2025-09-12 12:46:04.278\u001b[0m | \u001b[34m\u001b[1mDEBUG   \u001b[0m | \u001b[36mnapari_spatialdata._scatterwidgets\u001b[0m:\u001b[36mupdate_proximity_sensitivity\u001b[0m:\u001b[36m461\u001b[0m - \u001b[34m\u001b[1mUpdating proximity sensitivity...\u001b[0m\n",
      "\u001b[32m2025-09-12 12:46:04.411\u001b[0m | \u001b[34m\u001b[1mDEBUG   \u001b[0m | \u001b[36mnapari_spatialdata._scatterwidgets\u001b[0m:\u001b[36mupdate_proximity_sensitivity\u001b[0m:\u001b[36m461\u001b[0m - \u001b[34m\u001b[1mUpdating proximity sensitivity...\u001b[0m\n",
      "\u001b[32m2025-09-12 12:46:04.731\u001b[0m | \u001b[34m\u001b[1mDEBUG   \u001b[0m | \u001b[36mnapari_spatialdata._scatterwidgets\u001b[0m:\u001b[36mupdate_proximity_sensitivity\u001b[0m:\u001b[36m461\u001b[0m - \u001b[34m\u001b[1mUpdating proximity sensitivity...\u001b[0m\n",
      "\u001b[32m2025-09-12 12:46:05.896\u001b[0m | \u001b[34m\u001b[1mDEBUG   \u001b[0m | \u001b[36mnapari_spatialdata._scatterwidgets\u001b[0m:\u001b[36mget_brushes\u001b[0m:\u001b[36m868\u001b[0m - \u001b[34m\u001b[1mGenerating brushes...\u001b[0m\n",
      "\u001b[32m2025-09-12 12:46:06.109\u001b[0m | \u001b[34m\u001b[1mDEBUG   \u001b[0m | \u001b[36mnapari_spatialdata._scatterwidgets\u001b[0m:\u001b[36mplot\u001b[0m:\u001b[36m752\u001b[0m - \u001b[34m\u001b[1mGenerating scatter plot...\u001b[0m\n",
      "\u001b[32m2025-09-12 12:46:07.009\u001b[0m | \u001b[34m\u001b[1mDEBUG   \u001b[0m | \u001b[36mnapari_spatialdata._scatterwidgets\u001b[0m:\u001b[36mget_brushes\u001b[0m:\u001b[36m868\u001b[0m - \u001b[34m\u001b[1mGenerating brushes...\u001b[0m\n",
      "\u001b[32m2025-09-12 12:46:07.237\u001b[0m | \u001b[34m\u001b[1mDEBUG   \u001b[0m | \u001b[36mnapari_spatialdata._scatterwidgets\u001b[0m:\u001b[36mplot\u001b[0m:\u001b[36m752\u001b[0m - \u001b[34m\u001b[1mGenerating scatter plot...\u001b[0m\n",
      "\u001b[32m2025-09-12 12:46:09.684\u001b[0m | \u001b[34m\u001b[1mDEBUG   \u001b[0m | \u001b[36mnapari_spatialdata._scatterwidgets\u001b[0m:\u001b[36mget_brushes\u001b[0m:\u001b[36m868\u001b[0m - \u001b[34m\u001b[1mGenerating brushes...\u001b[0m\n",
      "\u001b[32m2025-09-12 12:46:09.953\u001b[0m | \u001b[34m\u001b[1mDEBUG   \u001b[0m | \u001b[36mnapari_spatialdata._scatterwidgets\u001b[0m:\u001b[36mplot\u001b[0m:\u001b[36m752\u001b[0m - \u001b[34m\u001b[1mGenerating scatter plot...\u001b[0m\n",
      "\u001b[32m2025-09-12 12:46:11.178\u001b[0m | \u001b[34m\u001b[1mDEBUG   \u001b[0m | \u001b[36mnapari_spatialdata._scatterwidgets\u001b[0m:\u001b[36mget_brushes\u001b[0m:\u001b[36m868\u001b[0m - \u001b[34m\u001b[1mGenerating brushes...\u001b[0m\n",
      "\u001b[32m2025-09-12 12:46:11.388\u001b[0m | \u001b[34m\u001b[1mDEBUG   \u001b[0m | \u001b[36mnapari_spatialdata._scatterwidgets\u001b[0m:\u001b[36mplot\u001b[0m:\u001b[36m752\u001b[0m - \u001b[34m\u001b[1mGenerating scatter plot...\u001b[0m\n",
      "\u001b[32m2025-09-12 12:46:15.298\u001b[0m | \u001b[34m\u001b[1mDEBUG   \u001b[0m | \u001b[36mnapari_spatialdata._scatterwidgets\u001b[0m:\u001b[36mupdate_proximity_sensitivity\u001b[0m:\u001b[36m461\u001b[0m - \u001b[34m\u001b[1mUpdating proximity sensitivity...\u001b[0m\n",
      "\u001b[32m2025-09-12 12:46:15.683\u001b[0m | \u001b[34m\u001b[1mDEBUG   \u001b[0m | \u001b[36mnapari_spatialdata._scatterwidgets\u001b[0m:\u001b[36mupdate_proximity_sensitivity\u001b[0m:\u001b[36m461\u001b[0m - \u001b[34m\u001b[1mUpdating proximity sensitivity...\u001b[0m\n",
      "\u001b[32m2025-09-12 12:46:16.089\u001b[0m | \u001b[34m\u001b[1mDEBUG   \u001b[0m | \u001b[36mnapari_spatialdata._scatterwidgets\u001b[0m:\u001b[36mupdate_proximity_sensitivity\u001b[0m:\u001b[36m461\u001b[0m - \u001b[34m\u001b[1mUpdating proximity sensitivity...\u001b[0m\n",
      "\u001b[32m2025-09-12 12:46:16.959\u001b[0m | \u001b[34m\u001b[1mDEBUG   \u001b[0m | \u001b[36mnapari_spatialdata._scatterwidgets\u001b[0m:\u001b[36mupdate_proximity_sensitivity\u001b[0m:\u001b[36m461\u001b[0m - \u001b[34m\u001b[1mUpdating proximity sensitivity...\u001b[0m\n",
      "\u001b[32m2025-09-12 12:46:17.558\u001b[0m | \u001b[34m\u001b[1mDEBUG   \u001b[0m | \u001b[36mnapari_spatialdata._scatterwidgets\u001b[0m:\u001b[36mupdate_proximity_sensitivity\u001b[0m:\u001b[36m461\u001b[0m - \u001b[34m\u001b[1mUpdating proximity sensitivity...\u001b[0m\n",
      "\u001b[32m2025-09-12 12:46:33.328\u001b[0m | \u001b[34m\u001b[1mDEBUG   \u001b[0m | \u001b[36mnapari_spatialdata._scatterwidgets\u001b[0m:\u001b[36mmouseReleaseEvent\u001b[0m:\u001b[36m993\u001b[0m - \u001b[34m\u001b[1mMouse release event detected at PyQt5.QtCore.QPointF(6457.961283906453, 3858.1398285457017)\u001b[0m\n",
      "\u001b[32m2025-09-12 12:46:33.328\u001b[0m | \u001b[34m\u001b[1mDEBUG   \u001b[0m | \u001b[36mnapari_spatialdata._scatterwidgets\u001b[0m:\u001b[36mget_brushes\u001b[0m:\u001b[36m868\u001b[0m - \u001b[34m\u001b[1mGenerating brushes...\u001b[0m\n",
      "\u001b[32m2025-09-12 12:46:33.524\u001b[0m | \u001b[34m\u001b[1mDEBUG   \u001b[0m | \u001b[36mnapari_spatialdata._scatterwidgets\u001b[0m:\u001b[36mplot\u001b[0m:\u001b[36m752\u001b[0m - \u001b[34m\u001b[1mGenerating scatter plot...\u001b[0m\n",
      "\u001b[32m2025-09-12 12:46:35.768\u001b[0m | \u001b[34m\u001b[1mDEBUG   \u001b[0m | \u001b[36mnapari_spatialdata._scatterwidgets\u001b[0m:\u001b[36mmouseReleaseEvent\u001b[0m:\u001b[36m993\u001b[0m - \u001b[34m\u001b[1mMouse release event detected at PyQt5.QtCore.QPointF(6360.593262944657, 1076.4970902081732)\u001b[0m\n",
      "\u001b[32m2025-09-12 12:46:35.768\u001b[0m | \u001b[34m\u001b[1mDEBUG   \u001b[0m | \u001b[36mnapari_spatialdata._scatterwidgets\u001b[0m:\u001b[36mget_brushes\u001b[0m:\u001b[36m868\u001b[0m - \u001b[34m\u001b[1mGenerating brushes...\u001b[0m\n",
      "\u001b[32m2025-09-12 12:46:35.959\u001b[0m | \u001b[34m\u001b[1mDEBUG   \u001b[0m | \u001b[36mnapari_spatialdata._scatterwidgets\u001b[0m:\u001b[36mplot\u001b[0m:\u001b[36m752\u001b[0m - \u001b[34m\u001b[1mGenerating scatter plot...\u001b[0m\n",
      "\u001b[32m2025-09-12 12:46:38.453\u001b[0m | \u001b[34m\u001b[1mDEBUG   \u001b[0m | \u001b[36mnapari_spatialdata._scatterwidgets\u001b[0m:\u001b[36mmouseReleaseEvent\u001b[0m:\u001b[36m993\u001b[0m - \u001b[34m\u001b[1mMouse release event detected at PyQt5.QtCore.QPointF(6369.444901213911, 1086.8763541571934)\u001b[0m\n",
      "\u001b[32m2025-09-12 12:46:38.453\u001b[0m | \u001b[34m\u001b[1mDEBUG   \u001b[0m | \u001b[36mnapari_spatialdata._scatterwidgets\u001b[0m:\u001b[36mget_brushes\u001b[0m:\u001b[36m868\u001b[0m - \u001b[34m\u001b[1mGenerating brushes...\u001b[0m\n",
      "\u001b[32m2025-09-12 12:46:38.644\u001b[0m | \u001b[34m\u001b[1mDEBUG   \u001b[0m | \u001b[36mnapari_spatialdata._scatterwidgets\u001b[0m:\u001b[36mplot\u001b[0m:\u001b[36m752\u001b[0m - \u001b[34m\u001b[1mGenerating scatter plot...\u001b[0m\n",
      "c:\\Users\\KMK280\\AppData\\Local\\miniconda3\\envs\\sdata-env\\Lib\\site-packages\\anndata\\_core\\aligned_df.py:68: ImplicitModificationWarning: Transforming to str index.\n",
      "  warnings.warn(\"Transforming to str index.\", ImplicitModificationWarning)\n",
      "\u001b[32m2025-09-12 12:47:01.857\u001b[0m | \u001b[34m\u001b[1mDEBUG   \u001b[0m | \u001b[36mnapari_spatialdata._view\u001b[0m:\u001b[36m_on_layer_update\u001b[0m:\u001b[36m569\u001b[0m - \u001b[34m\u001b[1mUpdating layer.\u001b[0m\n",
      "\u001b[32m2025-09-12 12:47:01.867\u001b[0m | \u001b[34m\u001b[1mDEBUG   \u001b[0m | \u001b[36mnapari_spatialdata._view\u001b[0m:\u001b[36m_on_layer_update\u001b[0m:\u001b[36m569\u001b[0m - \u001b[34m\u001b[1mUpdating layer.\u001b[0m\n",
      "\u001b[32m2025-09-12 12:47:01.869\u001b[0m | \u001b[34m\u001b[1mDEBUG   \u001b[0m | \u001b[36mnapari_spatialdata._view\u001b[0m:\u001b[36m_on_layer_update\u001b[0m:\u001b[36m569\u001b[0m - \u001b[34m\u001b[1mUpdating layer.\u001b[0m\n",
      "c:\\Users\\KMK280\\AppData\\Local\\miniconda3\\envs\\sdata-env\\Lib\\site-packages\\anndata\\_core\\aligned_df.py:68: ImplicitModificationWarning: Transforming to str index.\n",
      "  warnings.warn(\"Transforming to str index.\", ImplicitModificationWarning)\n",
      "\u001b[32m2025-09-12 12:47:08.170\u001b[0m | \u001b[34m\u001b[1mDEBUG   \u001b[0m | \u001b[36mnapari_spatialdata._view\u001b[0m:\u001b[36m_on_layer_update\u001b[0m:\u001b[36m569\u001b[0m - \u001b[34m\u001b[1mUpdating layer.\u001b[0m\n",
      "\u001b[32m2025-09-12 12:47:08.182\u001b[0m | \u001b[34m\u001b[1mDEBUG   \u001b[0m | \u001b[36mnapari_spatialdata._view\u001b[0m:\u001b[36m_on_layer_update\u001b[0m:\u001b[36m569\u001b[0m - \u001b[34m\u001b[1mUpdating layer.\u001b[0m\n",
      "\u001b[32m2025-09-12 12:47:08.185\u001b[0m | \u001b[34m\u001b[1mDEBUG   \u001b[0m | \u001b[36mnapari_spatialdata._view\u001b[0m:\u001b[36m_on_layer_update\u001b[0m:\u001b[36m569\u001b[0m - \u001b[34m\u001b[1mUpdating layer.\u001b[0m\n",
      "\u001b[32m2025-09-12 12:47:33.812\u001b[0m | \u001b[34m\u001b[1mDEBUG   \u001b[0m | \u001b[36mnapari_spatialdata._scatterwidgets\u001b[0m:\u001b[36m_onClick\u001b[0m:\u001b[36m637\u001b[0m - \u001b[34m\u001b[1mPlotting has been requested.\u001b[0m\n",
      "\u001b[32m2025-09-12 12:47:33.812\u001b[0m | \u001b[34m\u001b[1mDEBUG   \u001b[0m | \u001b[36mnapari_spatialdata._scatterwidgets\u001b[0m:\u001b[36m_onClick\u001b[0m:\u001b[36m670\u001b[0m - \u001b[34m\u001b[1mChange in color label detected.\u001b[0m\n",
      "\u001b[32m2025-09-12 12:47:33.917\u001b[0m | \u001b[34m\u001b[1mDEBUG   \u001b[0m | \u001b[36mnapari_spatialdata._scatterwidgets\u001b[0m:\u001b[36mget_brushes\u001b[0m:\u001b[36m868\u001b[0m - \u001b[34m\u001b[1mGenerating brushes...\u001b[0m\n",
      "\u001b[32m2025-09-12 12:47:34.106\u001b[0m | \u001b[34m\u001b[1mDEBUG   \u001b[0m | \u001b[36mnapari_spatialdata._scatterwidgets\u001b[0m:\u001b[36mplot\u001b[0m:\u001b[36m752\u001b[0m - \u001b[34m\u001b[1mGenerating scatter plot...\u001b[0m\n",
      "\u001b[32m2025-09-12 12:47:39.356\u001b[0m | \u001b[34m\u001b[1mDEBUG   \u001b[0m | \u001b[36mnapari_spatialdata._scatterwidgets\u001b[0m:\u001b[36mmouseReleaseEvent\u001b[0m:\u001b[36m993\u001b[0m - \u001b[34m\u001b[1mMouse release event detected at PyQt5.QtCore.QPointF(6404.851454290928, 308.4315579806462)\u001b[0m\n",
      "\u001b[32m2025-09-12 12:47:39.356\u001b[0m | \u001b[34m\u001b[1mDEBUG   \u001b[0m | \u001b[36mnapari_spatialdata._scatterwidgets\u001b[0m:\u001b[36mget_brushes\u001b[0m:\u001b[36m868\u001b[0m - \u001b[34m\u001b[1mGenerating brushes...\u001b[0m\n",
      "\u001b[32m2025-09-12 12:47:39.563\u001b[0m | \u001b[34m\u001b[1mDEBUG   \u001b[0m | \u001b[36mnapari_spatialdata._scatterwidgets\u001b[0m:\u001b[36mplot\u001b[0m:\u001b[36m752\u001b[0m - \u001b[34m\u001b[1mGenerating scatter plot...\u001b[0m\n",
      "c:\\Users\\KMK280\\AppData\\Local\\miniconda3\\envs\\sdata-env\\Lib\\site-packages\\anndata\\_core\\aligned_df.py:68: ImplicitModificationWarning: Transforming to str index.\n",
      "  warnings.warn(\"Transforming to str index.\", ImplicitModificationWarning)\n",
      "\u001b[32m2025-09-12 12:48:01.063\u001b[0m | \u001b[34m\u001b[1mDEBUG   \u001b[0m | \u001b[36mnapari_spatialdata._view\u001b[0m:\u001b[36m_on_layer_update\u001b[0m:\u001b[36m569\u001b[0m - \u001b[34m\u001b[1mUpdating layer.\u001b[0m\n",
      "\u001b[32m2025-09-12 12:48:01.072\u001b[0m | \u001b[34m\u001b[1mDEBUG   \u001b[0m | \u001b[36mnapari_spatialdata._view\u001b[0m:\u001b[36m_on_layer_update\u001b[0m:\u001b[36m569\u001b[0m - \u001b[34m\u001b[1mUpdating layer.\u001b[0m\n",
      "\u001b[32m2025-09-12 12:48:01.075\u001b[0m | \u001b[34m\u001b[1mDEBUG   \u001b[0m | \u001b[36mnapari_spatialdata._view\u001b[0m:\u001b[36m_on_layer_update\u001b[0m:\u001b[36m569\u001b[0m - \u001b[34m\u001b[1mUpdating layer.\u001b[0m\n",
      "\u001b[32m2025-09-12 12:48:12.999\u001b[0m | \u001b[34m\u001b[1mDEBUG   \u001b[0m | \u001b[36mnapari_spatialdata._scatterwidgets\u001b[0m:\u001b[36m_onClick\u001b[0m:\u001b[36m637\u001b[0m - \u001b[34m\u001b[1mPlotting has been requested.\u001b[0m\n",
      "\u001b[32m2025-09-12 12:48:12.999\u001b[0m | \u001b[34m\u001b[1mDEBUG   \u001b[0m | \u001b[36mnapari_spatialdata._scatterwidgets\u001b[0m:\u001b[36m_onClick\u001b[0m:\u001b[36m670\u001b[0m - \u001b[34m\u001b[1mChange in color label detected.\u001b[0m\n",
      "\u001b[32m2025-09-12 12:48:13.109\u001b[0m | \u001b[34m\u001b[1mDEBUG   \u001b[0m | \u001b[36mnapari_spatialdata._scatterwidgets\u001b[0m:\u001b[36mget_brushes\u001b[0m:\u001b[36m868\u001b[0m - \u001b[34m\u001b[1mGenerating brushes...\u001b[0m\n",
      "\u001b[32m2025-09-12 12:48:13.381\u001b[0m | \u001b[34m\u001b[1mDEBUG   \u001b[0m | \u001b[36mnapari_spatialdata._scatterwidgets\u001b[0m:\u001b[36mplot\u001b[0m:\u001b[36m752\u001b[0m - \u001b[34m\u001b[1mGenerating scatter plot...\u001b[0m\n",
      "\u001b[32m2025-09-12 12:48:17.205\u001b[0m | \u001b[34m\u001b[1mDEBUG   \u001b[0m | \u001b[36mnapari_spatialdata._scatterwidgets\u001b[0m:\u001b[36mmouseReleaseEvent\u001b[0m:\u001b[36m993\u001b[0m - \u001b[34m\u001b[1mMouse release event detected at PyQt5.QtCore.QPointF(6528.7743900604855, 3567.520437973124)\u001b[0m\n",
      "\u001b[32m2025-09-12 12:48:17.205\u001b[0m | \u001b[34m\u001b[1mDEBUG   \u001b[0m | \u001b[36mnapari_spatialdata._scatterwidgets\u001b[0m:\u001b[36mget_brushes\u001b[0m:\u001b[36m868\u001b[0m - \u001b[34m\u001b[1mGenerating brushes...\u001b[0m\n",
      "\u001b[32m2025-09-12 12:48:17.395\u001b[0m | \u001b[34m\u001b[1mDEBUG   \u001b[0m | \u001b[36mnapari_spatialdata._scatterwidgets\u001b[0m:\u001b[36mplot\u001b[0m:\u001b[36m752\u001b[0m - \u001b[34m\u001b[1mGenerating scatter plot...\u001b[0m\n",
      "\u001b[32m2025-09-12 12:48:18.831\u001b[0m | \u001b[34m\u001b[1mDEBUG   \u001b[0m | \u001b[36mnapari_spatialdata._scatterwidgets\u001b[0m:\u001b[36mmouseReleaseEvent\u001b[0m:\u001b[36m993\u001b[0m - \u001b[34m\u001b[1mMouse release event detected at PyQt5.QtCore.QPointF(6440.258007367945, 1834.183358486679)\u001b[0m\n",
      "\u001b[32m2025-09-12 12:48:18.831\u001b[0m | \u001b[34m\u001b[1mDEBUG   \u001b[0m | \u001b[36mnapari_spatialdata._scatterwidgets\u001b[0m:\u001b[36mget_brushes\u001b[0m:\u001b[36m868\u001b[0m - \u001b[34m\u001b[1mGenerating brushes...\u001b[0m\n",
      "\u001b[32m2025-09-12 12:48:19.068\u001b[0m | \u001b[34m\u001b[1mDEBUG   \u001b[0m | \u001b[36mnapari_spatialdata._scatterwidgets\u001b[0m:\u001b[36mplot\u001b[0m:\u001b[36m752\u001b[0m - \u001b[34m\u001b[1mGenerating scatter plot...\u001b[0m\n",
      "\u001b[32m2025-09-12 12:48:29.947\u001b[0m | \u001b[34m\u001b[1mDEBUG   \u001b[0m | \u001b[36mnapari_spatialdata._scatterwidgets\u001b[0m:\u001b[36mupdate_proximity_sensitivity\u001b[0m:\u001b[36m461\u001b[0m - \u001b[34m\u001b[1mUpdating proximity sensitivity...\u001b[0m\n",
      "\u001b[32m2025-09-12 12:48:30.712\u001b[0m | \u001b[34m\u001b[1mDEBUG   \u001b[0m | \u001b[36mnapari_spatialdata._scatterwidgets\u001b[0m:\u001b[36mupdate_proximity_sensitivity\u001b[0m:\u001b[36m461\u001b[0m - \u001b[34m\u001b[1mUpdating proximity sensitivity...\u001b[0m\n",
      "\u001b[32m2025-09-12 12:48:32.721\u001b[0m | \u001b[34m\u001b[1mDEBUG   \u001b[0m | \u001b[36mnapari_spatialdata._scatterwidgets\u001b[0m:\u001b[36mupdate_proximity_sensitivity\u001b[0m:\u001b[36m461\u001b[0m - \u001b[34m\u001b[1mUpdating proximity sensitivity...\u001b[0m\n",
      "\u001b[32m2025-09-12 12:48:33.107\u001b[0m | \u001b[34m\u001b[1mDEBUG   \u001b[0m | \u001b[36mnapari_spatialdata._scatterwidgets\u001b[0m:\u001b[36mupdate_proximity_sensitivity\u001b[0m:\u001b[36m461\u001b[0m - \u001b[34m\u001b[1mUpdating proximity sensitivity...\u001b[0m\n",
      "\u001b[32m2025-09-12 12:48:34.447\u001b[0m | \u001b[34m\u001b[1mDEBUG   \u001b[0m | \u001b[36mnapari_spatialdata._scatterwidgets\u001b[0m:\u001b[36mupdate_proximity_sensitivity\u001b[0m:\u001b[36m461\u001b[0m - \u001b[34m\u001b[1mUpdating proximity sensitivity...\u001b[0m\n",
      "\u001b[32m2025-09-12 12:48:34.558\u001b[0m | \u001b[34m\u001b[1mDEBUG   \u001b[0m | \u001b[36mnapari_spatialdata._scatterwidgets\u001b[0m:\u001b[36mupdate_proximity_sensitivity\u001b[0m:\u001b[36m461\u001b[0m - \u001b[34m\u001b[1mUpdating proximity sensitivity...\u001b[0m\n",
      "\u001b[32m2025-09-12 12:48:54.553\u001b[0m | \u001b[34m\u001b[1mDEBUG   \u001b[0m | \u001b[36mnapari_spatialdata._scatterwidgets\u001b[0m:\u001b[36mupdate_proximity_sensitivity\u001b[0m:\u001b[36m461\u001b[0m - \u001b[34m\u001b[1mUpdating proximity sensitivity...\u001b[0m\n",
      "\u001b[32m2025-09-12 12:48:54.693\u001b[0m | \u001b[34m\u001b[1mDEBUG   \u001b[0m | \u001b[36mnapari_spatialdata._scatterwidgets\u001b[0m:\u001b[36mupdate_proximity_sensitivity\u001b[0m:\u001b[36m461\u001b[0m - \u001b[34m\u001b[1mUpdating proximity sensitivity...\u001b[0m\n",
      "\u001b[32m2025-09-12 12:48:56.015\u001b[0m | \u001b[34m\u001b[1mDEBUG   \u001b[0m | \u001b[36mnapari_spatialdata._scatterwidgets\u001b[0m:\u001b[36mupdate_proximity_sensitivity\u001b[0m:\u001b[36m461\u001b[0m - \u001b[34m\u001b[1mUpdating proximity sensitivity...\u001b[0m\n",
      "\u001b[32m2025-09-12 12:48:56.785\u001b[0m | \u001b[34m\u001b[1mDEBUG   \u001b[0m | \u001b[36mnapari_spatialdata._scatterwidgets\u001b[0m:\u001b[36mupdate_proximity_sensitivity\u001b[0m:\u001b[36m461\u001b[0m - \u001b[34m\u001b[1mUpdating proximity sensitivity...\u001b[0m\n",
      "\u001b[32m2025-09-12 12:48:58.504\u001b[0m | \u001b[34m\u001b[1mDEBUG   \u001b[0m | \u001b[36mnapari_spatialdata._scatterwidgets\u001b[0m:\u001b[36mupdate_proximity_sensitivity\u001b[0m:\u001b[36m461\u001b[0m - \u001b[34m\u001b[1mUpdating proximity sensitivity...\u001b[0m\n",
      "\u001b[32m2025-09-12 12:48:58.862\u001b[0m | \u001b[34m\u001b[1mDEBUG   \u001b[0m | \u001b[36mnapari_spatialdata._scatterwidgets\u001b[0m:\u001b[36mmouseReleaseEvent\u001b[0m:\u001b[36m993\u001b[0m - \u001b[34m\u001b[1mMouse release event detected at PyQt5.QtCore.QPointF(2710.596470168356, 4127.880011281518)\u001b[0m\n",
      "\u001b[32m2025-09-12 12:49:01.895\u001b[0m | \u001b[34m\u001b[1mDEBUG   \u001b[0m | \u001b[36mnapari_spatialdata._scatterwidgets\u001b[0m:\u001b[36mupdate_proximity_sensitivity\u001b[0m:\u001b[36m461\u001b[0m - \u001b[34m\u001b[1mUpdating proximity sensitivity...\u001b[0m\n",
      "\u001b[32m2025-09-12 12:49:06.389\u001b[0m | \u001b[34m\u001b[1mDEBUG   \u001b[0m | \u001b[36mnapari_spatialdata._scatterwidgets\u001b[0m:\u001b[36mupdate_proximity_sensitivity\u001b[0m:\u001b[36m461\u001b[0m - \u001b[34m\u001b[1mUpdating proximity sensitivity...\u001b[0m\n",
      "\u001b[32m2025-09-12 12:49:06.852\u001b[0m | \u001b[34m\u001b[1mDEBUG   \u001b[0m | \u001b[36mnapari_spatialdata._scatterwidgets\u001b[0m:\u001b[36mupdate_proximity_sensitivity\u001b[0m:\u001b[36m461\u001b[0m - \u001b[34m\u001b[1mUpdating proximity sensitivity...\u001b[0m\n",
      "\u001b[32m2025-09-12 12:49:07.154\u001b[0m | \u001b[34m\u001b[1mDEBUG   \u001b[0m | \u001b[36mnapari_spatialdata._scatterwidgets\u001b[0m:\u001b[36mupdate_proximity_sensitivity\u001b[0m:\u001b[36m461\u001b[0m - \u001b[34m\u001b[1mUpdating proximity sensitivity...\u001b[0m\n",
      "\u001b[32m2025-09-12 12:49:10.387\u001b[0m | \u001b[34m\u001b[1mDEBUG   \u001b[0m | \u001b[36mnapari_spatialdata._scatterwidgets\u001b[0m:\u001b[36mupdate_proximity_sensitivity\u001b[0m:\u001b[36m461\u001b[0m - \u001b[34m\u001b[1mUpdating proximity sensitivity...\u001b[0m\n",
      "\u001b[32m2025-09-12 12:49:10.523\u001b[0m | \u001b[34m\u001b[1mDEBUG   \u001b[0m | \u001b[36mnapari_spatialdata._scatterwidgets\u001b[0m:\u001b[36mupdate_proximity_sensitivity\u001b[0m:\u001b[36m461\u001b[0m - \u001b[34m\u001b[1mUpdating proximity sensitivity...\u001b[0m\n",
      "\u001b[32m2025-09-12 12:49:10.592\u001b[0m | \u001b[34m\u001b[1mDEBUG   \u001b[0m | \u001b[36mnapari_spatialdata._scatterwidgets\u001b[0m:\u001b[36mmouseReleaseEvent\u001b[0m:\u001b[36m993\u001b[0m - \u001b[34m\u001b[1mMouse release event detected at PyQt5.QtCore.QPointF(3410.409954224053, 2217.0269293301267)\u001b[0m\n",
      "\u001b[32m2025-09-12 12:49:10.639\u001b[0m | \u001b[34m\u001b[1mDEBUG   \u001b[0m | \u001b[36mnapari_spatialdata._scatterwidgets\u001b[0m:\u001b[36mupdate_proximity_sensitivity\u001b[0m:\u001b[36m461\u001b[0m - \u001b[34m\u001b[1mUpdating proximity sensitivity...\u001b[0m\n",
      "\u001b[32m2025-09-12 12:49:14.998\u001b[0m | \u001b[34m\u001b[1mDEBUG   \u001b[0m | \u001b[36mnapari_spatialdata._scatterwidgets\u001b[0m:\u001b[36mupdate_proximity_sensitivity\u001b[0m:\u001b[36m461\u001b[0m - \u001b[34m\u001b[1mUpdating proximity sensitivity...\u001b[0m\n",
      "\u001b[32m2025-09-12 12:49:15.563\u001b[0m | \u001b[34m\u001b[1mDEBUG   \u001b[0m | \u001b[36mnapari_spatialdata._scatterwidgets\u001b[0m:\u001b[36mupdate_proximity_sensitivity\u001b[0m:\u001b[36m461\u001b[0m - \u001b[34m\u001b[1mUpdating proximity sensitivity...\u001b[0m\n",
      "\u001b[32m2025-09-12 12:49:15.693\u001b[0m | \u001b[34m\u001b[1mDEBUG   \u001b[0m | \u001b[36mnapari_spatialdata._scatterwidgets\u001b[0m:\u001b[36mupdate_proximity_sensitivity\u001b[0m:\u001b[36m461\u001b[0m - \u001b[34m\u001b[1mUpdating proximity sensitivity...\u001b[0m\n",
      "\u001b[32m2025-09-12 12:49:16.446\u001b[0m | \u001b[34m\u001b[1mDEBUG   \u001b[0m | \u001b[36mnapari_spatialdata._scatterwidgets\u001b[0m:\u001b[36mupdate_proximity_sensitivity\u001b[0m:\u001b[36m461\u001b[0m - \u001b[34m\u001b[1mUpdating proximity sensitivity...\u001b[0m\n",
      "\u001b[32m2025-09-12 12:49:16.693\u001b[0m | \u001b[34m\u001b[1mDEBUG   \u001b[0m | \u001b[36mnapari_spatialdata._scatterwidgets\u001b[0m:\u001b[36mupdate_proximity_sensitivity\u001b[0m:\u001b[36m461\u001b[0m - \u001b[34m\u001b[1mUpdating proximity sensitivity...\u001b[0m\n",
      "\u001b[32m2025-09-12 12:49:17.539\u001b[0m | \u001b[34m\u001b[1mDEBUG   \u001b[0m | \u001b[36mnapari_spatialdata._scatterwidgets\u001b[0m:\u001b[36mupdate_proximity_sensitivity\u001b[0m:\u001b[36m461\u001b[0m - \u001b[34m\u001b[1mUpdating proximity sensitivity...\u001b[0m\n",
      "\u001b[32m2025-09-12 12:49:17.702\u001b[0m | \u001b[34m\u001b[1mDEBUG   \u001b[0m | \u001b[36mnapari_spatialdata._scatterwidgets\u001b[0m:\u001b[36mupdate_proximity_sensitivity\u001b[0m:\u001b[36m461\u001b[0m - \u001b[34m\u001b[1mUpdating proximity sensitivity...\u001b[0m\n",
      "\u001b[32m2025-09-12 12:49:18.271\u001b[0m | \u001b[34m\u001b[1mDEBUG   \u001b[0m | \u001b[36mnapari_spatialdata._scatterwidgets\u001b[0m:\u001b[36mupdate_proximity_sensitivity\u001b[0m:\u001b[36m461\u001b[0m - \u001b[34m\u001b[1mUpdating proximity sensitivity...\u001b[0m\n",
      "\u001b[32m2025-09-12 12:49:29.701\u001b[0m | \u001b[34m\u001b[1mDEBUG   \u001b[0m | \u001b[36mnapari_spatialdata._scatterwidgets\u001b[0m:\u001b[36mmouseReleaseEvent\u001b[0m:\u001b[36m993\u001b[0m - \u001b[34m\u001b[1mMouse release event detected at PyQt5.QtCore.QPointF(-735.7876695019005, -672.6659893819015)\u001b[0m\n",
      "\u001b[32m2025-09-12 12:49:29.701\u001b[0m | \u001b[34m\u001b[1mDEBUG   \u001b[0m | \u001b[36mnapari_spatialdata._scatterwidgets\u001b[0m:\u001b[36mmouseReleaseEvent\u001b[0m:\u001b[36m993\u001b[0m - \u001b[34m\u001b[1mMouse release event detected at PyQt5.QtCore.QPointF(-815.4524139251876, 6073.855577481501)\u001b[0m\n",
      "\u001b[32m2025-09-12 12:49:29.818\u001b[0m | \u001b[34m\u001b[1mDEBUG   \u001b[0m | \u001b[36mnapari_spatialdata._scatterwidgets\u001b[0m:\u001b[36mupdate_proximity_sensitivity\u001b[0m:\u001b[36m461\u001b[0m - \u001b[34m\u001b[1mUpdating proximity sensitivity...\u001b[0m\n",
      "\u001b[32m2025-09-12 12:49:31.070\u001b[0m | \u001b[34m\u001b[1mDEBUG   \u001b[0m | \u001b[36mnapari_spatialdata._scatterwidgets\u001b[0m:\u001b[36mmouseReleaseEvent\u001b[0m:\u001b[36m993\u001b[0m - \u001b[34m\u001b[1mMouse release event detected at PyQt5.QtCore.QPointF(-490.57475745803725, -301.04412520071855)\u001b[0m\n",
      "\u001b[32m2025-09-12 12:49:33.919\u001b[0m | \u001b[34m\u001b[1mDEBUG   \u001b[0m | \u001b[36mnapari_spatialdata._scatterwidgets\u001b[0m:\u001b[36mupdate_proximity_sensitivity\u001b[0m:\u001b[36m461\u001b[0m - \u001b[34m\u001b[1mUpdating proximity sensitivity...\u001b[0m\n",
      "\u001b[32m2025-09-12 12:49:34.455\u001b[0m | \u001b[34m\u001b[1mDEBUG   \u001b[0m | \u001b[36mnapari_spatialdata._scatterwidgets\u001b[0m:\u001b[36mupdate_proximity_sensitivity\u001b[0m:\u001b[36m461\u001b[0m - \u001b[34m\u001b[1mUpdating proximity sensitivity...\u001b[0m\n",
      "\u001b[32m2025-09-12 12:49:37.628\u001b[0m | \u001b[34m\u001b[1mDEBUG   \u001b[0m | \u001b[36mnapari_spatialdata._scatterwidgets\u001b[0m:\u001b[36mmouseReleaseEvent\u001b[0m:\u001b[36m993\u001b[0m - \u001b[34m\u001b[1mMouse release event detected at PyQt5.QtCore.QPointF(-455.16820438102025, -331.27534994889174)\u001b[0m\n",
      "\u001b[32m2025-09-12 12:49:37.628\u001b[0m | \u001b[34m\u001b[1mDEBUG   \u001b[0m | \u001b[36mnapari_spatialdata._scatterwidgets\u001b[0m:\u001b[36mmouseReleaseEvent\u001b[0m:\u001b[36m993\u001b[0m - \u001b[34m\u001b[1mMouse release event detected at PyQt5.QtCore.QPointF(-534.8329488043074, 6218.823345488347)\u001b[0m\n",
      "\u001b[32m2025-09-12 12:49:50.255\u001b[0m | \u001b[34m\u001b[1mDEBUG   \u001b[0m | \u001b[36mnapari_spatialdata._scatterwidgets\u001b[0m:\u001b[36mupdate_proximity_sensitivity\u001b[0m:\u001b[36m461\u001b[0m - \u001b[34m\u001b[1mUpdating proximity sensitivity...\u001b[0m\n",
      "\u001b[32m2025-09-12 12:49:50.500\u001b[0m | \u001b[34m\u001b[1mDEBUG   \u001b[0m | \u001b[36mnapari_spatialdata._scatterwidgets\u001b[0m:\u001b[36mupdate_proximity_sensitivity\u001b[0m:\u001b[36m461\u001b[0m - \u001b[34m\u001b[1mUpdating proximity sensitivity...\u001b[0m\n",
      "\u001b[32m2025-09-12 12:49:51.115\u001b[0m | \u001b[34m\u001b[1mDEBUG   \u001b[0m | \u001b[36mnapari_spatialdata._scatterwidgets\u001b[0m:\u001b[36mupdate_proximity_sensitivity\u001b[0m:\u001b[36m461\u001b[0m - \u001b[34m\u001b[1mUpdating proximity sensitivity...\u001b[0m\n",
      "\u001b[32m2025-09-12 12:49:53.628\u001b[0m | \u001b[34m\u001b[1mDEBUG   \u001b[0m | \u001b[36mnapari_spatialdata._scatterwidgets\u001b[0m:\u001b[36mupdate_proximity_sensitivity\u001b[0m:\u001b[36m461\u001b[0m - \u001b[34m\u001b[1mUpdating proximity sensitivity...\u001b[0m\n",
      "\u001b[32m2025-09-12 12:49:53.845\u001b[0m | \u001b[34m\u001b[1mDEBUG   \u001b[0m | \u001b[36mnapari_spatialdata._scatterwidgets\u001b[0m:\u001b[36mupdate_proximity_sensitivity\u001b[0m:\u001b[36m461\u001b[0m - \u001b[34m\u001b[1mUpdating proximity sensitivity...\u001b[0m\n",
      "\u001b[32m2025-09-12 12:49:54.060\u001b[0m | \u001b[34m\u001b[1mDEBUG   \u001b[0m | \u001b[36mnapari_spatialdata._scatterwidgets\u001b[0m:\u001b[36mupdate_proximity_sensitivity\u001b[0m:\u001b[36m461\u001b[0m - \u001b[34m\u001b[1mUpdating proximity sensitivity...\u001b[0m\n",
      "\u001b[32m2025-09-12 12:49:54.357\u001b[0m | \u001b[34m\u001b[1mDEBUG   \u001b[0m | \u001b[36mnapari_spatialdata._scatterwidgets\u001b[0m:\u001b[36mupdate_proximity_sensitivity\u001b[0m:\u001b[36m461\u001b[0m - \u001b[34m\u001b[1mUpdating proximity sensitivity...\u001b[0m\n",
      "\u001b[32m2025-09-12 12:49:55.674\u001b[0m | \u001b[34m\u001b[1mDEBUG   \u001b[0m | \u001b[36mnapari_spatialdata._scatterwidgets\u001b[0m:\u001b[36mupdate_proximity_sensitivity\u001b[0m:\u001b[36m461\u001b[0m - \u001b[34m\u001b[1mUpdating proximity sensitivity...\u001b[0m\n",
      "\u001b[32m2025-09-12 12:49:55.816\u001b[0m | \u001b[34m\u001b[1mDEBUG   \u001b[0m | \u001b[36mnapari_spatialdata._scatterwidgets\u001b[0m:\u001b[36mmouseReleaseEvent\u001b[0m:\u001b[36m993\u001b[0m - \u001b[34m\u001b[1mMouse release event detected at PyQt5.QtCore.QPointF(2997.3894987774443, 3406.74960312139)\u001b[0m\n",
      "\u001b[32m2025-09-12 12:49:56.612\u001b[0m | \u001b[34m\u001b[1mDEBUG   \u001b[0m | \u001b[36mnapari_spatialdata._scatterwidgets\u001b[0m:\u001b[36mupdate_proximity_sensitivity\u001b[0m:\u001b[36m461\u001b[0m - \u001b[34m\u001b[1mUpdating proximity sensitivity...\u001b[0m\n",
      "\u001b[32m2025-09-12 12:50:18.674\u001b[0m | \u001b[34m\u001b[1mDEBUG   \u001b[0m | \u001b[36mnapari_spatialdata._scatterwidgets\u001b[0m:\u001b[36m_onClick\u001b[0m:\u001b[36m637\u001b[0m - \u001b[34m\u001b[1mPlotting has been requested.\u001b[0m\n",
      "\u001b[32m2025-09-12 12:50:18.674\u001b[0m | \u001b[34m\u001b[1mDEBUG   \u001b[0m | \u001b[36mnapari_spatialdata._scatterwidgets\u001b[0m:\u001b[36m_onClick\u001b[0m:\u001b[36m719\u001b[0m - \u001b[34m\u001b[1mA change in x or y data has been detected.\u001b[0m\n",
      "\u001b[32m2025-09-12 12:50:18.674\u001b[0m | \u001b[34m\u001b[1mDEBUG   \u001b[0m | \u001b[36mnapari_spatialdata._scatterwidgets\u001b[0m:\u001b[36mplot\u001b[0m:\u001b[36m752\u001b[0m - \u001b[34m\u001b[1mGenerating scatter plot...\u001b[0m\n",
      "\u001b[32m2025-09-12 12:50:19.566\u001b[0m | \u001b[34m\u001b[1mDEBUG   \u001b[0m | \u001b[36mnapari_spatialdata._scatterwidgets\u001b[0m:\u001b[36mupdate_proximity_sensitivity\u001b[0m:\u001b[36m461\u001b[0m - \u001b[34m\u001b[1mUpdating proximity sensitivity...\u001b[0m\n",
      "\u001b[32m2025-09-12 12:50:33.386\u001b[0m | \u001b[34m\u001b[1mDEBUG   \u001b[0m | \u001b[36mnapari_spatialdata._scatterwidgets\u001b[0m:\u001b[36mmouseReleaseEvent\u001b[0m:\u001b[36m993\u001b[0m - \u001b[34m\u001b[1mMouse release event detected at PyQt5.QtCore.QPointF(-388.78967457256437, 2839.896743604089)\u001b[0m\n",
      "\u001b[32m2025-09-12 12:50:33.386\u001b[0m | \u001b[34m\u001b[1mDEBUG   \u001b[0m | \u001b[36mnapari_spatialdata._scatterwidgets\u001b[0m:\u001b[36mmouseReleaseEvent\u001b[0m:\u001b[36m993\u001b[0m - \u001b[34m\u001b[1mMouse release event detected at PyQt5.QtCore.QPointF(-478.0426937971034, 3239.652954627993)\u001b[0m\n",
      "\u001b[32m2025-09-12 12:50:40.681\u001b[0m | \u001b[34m\u001b[1mDEBUG   \u001b[0m | \u001b[36mnapari_spatialdata._scatterwidgets\u001b[0m:\u001b[36mupdate_proximity_sensitivity\u001b[0m:\u001b[36m461\u001b[0m - \u001b[34m\u001b[1mUpdating proximity sensitivity...\u001b[0m\n",
      "\u001b[32m2025-09-12 12:50:40.855\u001b[0m | \u001b[34m\u001b[1mDEBUG   \u001b[0m | \u001b[36mnapari_spatialdata._scatterwidgets\u001b[0m:\u001b[36mupdate_proximity_sensitivity\u001b[0m:\u001b[36m461\u001b[0m - \u001b[34m\u001b[1mUpdating proximity sensitivity...\u001b[0m\n",
      "\u001b[32m2025-09-12 12:50:41.141\u001b[0m | \u001b[34m\u001b[1mDEBUG   \u001b[0m | \u001b[36mnapari_spatialdata._scatterwidgets\u001b[0m:\u001b[36mupdate_proximity_sensitivity\u001b[0m:\u001b[36m461\u001b[0m - \u001b[34m\u001b[1mUpdating proximity sensitivity...\u001b[0m\n",
      "\u001b[32m2025-09-12 12:50:41.616\u001b[0m | \u001b[34m\u001b[1mDEBUG   \u001b[0m | \u001b[36mnapari_spatialdata._scatterwidgets\u001b[0m:\u001b[36mupdate_proximity_sensitivity\u001b[0m:\u001b[36m461\u001b[0m - \u001b[34m\u001b[1mUpdating proximity sensitivity...\u001b[0m\n",
      "\u001b[32m2025-09-12 12:50:51.245\u001b[0m | \u001b[34m\u001b[1mDEBUG   \u001b[0m | \u001b[36mnapari_spatialdata._view\u001b[0m:\u001b[36m_on_layer_update\u001b[0m:\u001b[36m569\u001b[0m - \u001b[34m\u001b[1mUpdating layer.\u001b[0m\n",
      "\u001b[32m2025-09-12 12:50:51.257\u001b[0m | \u001b[34m\u001b[1mDEBUG   \u001b[0m | \u001b[36mnapari_spatialdata._view\u001b[0m:\u001b[36m_on_layer_update\u001b[0m:\u001b[36m569\u001b[0m - \u001b[34m\u001b[1mUpdating layer.\u001b[0m\n",
      "\u001b[32m2025-09-12 12:50:52.367\u001b[0m | \u001b[34m\u001b[1mDEBUG   \u001b[0m | \u001b[36mnapari_spatialdata._view\u001b[0m:\u001b[36m_on_layer_update\u001b[0m:\u001b[36m569\u001b[0m - \u001b[34m\u001b[1mUpdating layer.\u001b[0m\n",
      "\u001b[32m2025-09-12 12:50:52.378\u001b[0m | \u001b[34m\u001b[1mDEBUG   \u001b[0m | \u001b[36mnapari_spatialdata._view\u001b[0m:\u001b[36m_on_layer_update\u001b[0m:\u001b[36m569\u001b[0m - \u001b[34m\u001b[1mUpdating layer.\u001b[0m\n",
      "\u001b[32m2025-09-12 12:55:10.304\u001b[0m | \u001b[34m\u001b[1mDEBUG   \u001b[0m | \u001b[36mnapari_spatialdata._view\u001b[0m:\u001b[36m_on_layer_update\u001b[0m:\u001b[36m569\u001b[0m - \u001b[34m\u001b[1mUpdating layer.\u001b[0m\n",
      "\u001b[32m2025-09-12 12:55:10.322\u001b[0m | \u001b[34m\u001b[1mDEBUG   \u001b[0m | \u001b[36mnapari_spatialdata._view\u001b[0m:\u001b[36m_on_layer_update\u001b[0m:\u001b[36m569\u001b[0m - \u001b[34m\u001b[1mUpdating layer.\u001b[0m\n"
     ]
    }
   ],
   "source": [
    "widget = QtAdataScatterWidget(adata = ad1)\n",
    "widget.show()"
   ]
  }
 ],
 "metadata": {
  "kernelspec": {
   "display_name": "sdata-env",
   "language": "python",
   "name": "python3"
  },
  "language_info": {
   "codemirror_mode": {
    "name": "ipython",
    "version": 3
   },
   "file_extension": ".py",
   "mimetype": "text/x-python",
   "name": "python",
   "nbconvert_exporter": "python",
   "pygments_lexer": "ipython3",
   "version": "3.11.13"
  }
 },
 "nbformat": 4,
 "nbformat_minor": 5
}
