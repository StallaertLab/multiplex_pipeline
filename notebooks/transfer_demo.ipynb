{
 "cells": [
  {
   "cell_type": "code",
   "execution_count": 1,
   "id": "a2a584df",
   "metadata": {},
   "outputs": [],
   "source": [
    "%load_ext autoreload\n",
    "%autoreload 2\n",
    "\n",
    "from pathlib import Path\n",
    "from globus_sdk import TransferData\n",
    "\n",
    "from multiplex_pipeline.utils.globus_utils import GlobusConfig, create_globus_tc\n",
    "from globus_sdk import TransferData"
   ]
  },
  {
   "cell_type": "code",
   "execution_count": null,
   "id": "2fa307b5",
   "metadata": {},
   "outputs": [],
   "source": [
    "# define pathways\n",
    "\n",
    "file_name = 'NSR7649_1.0.4_R000_DAPI__FINAL_F.ome.tif'\n",
    "dir_from = '/CellDive/NSR7649/NSR7649_Final'\n",
    "dir_to = '/ix1/kkedziora/NSR7649/data'\n",
    "\n",
    "globus_config_path = Path(r'D:\\globus_config\\globus_config.yaml')"
   ]
  },
  {
   "cell_type": "code",
   "execution_count": null,
   "id": "fc70e76d",
   "metadata": {},
   "outputs": [],
   "source": [
    "# get Globus settings\n",
    "gc = GlobusConfig.from_config_files(globus_config_path, from_collection='source_collection_id', to_collection='crcd_collection_id')\n",
    "tc = create_globus_tc(gc.client_id, gc.transfer_tokens)"
   ]
  },
  {
   "cell_type": "code",
   "execution_count": null,
   "id": "e01bc5f4",
   "metadata": {},
   "outputs": [
    {
     "data": {
      "text/plain": [
       "GlobusHTTPResponse({\n",
       "  \"DATA_TYPE\": \"transfer_result\",\n",
       "  \"code\": \"Accepted\",\n",
       "  \"message\": \"The transfer has been accepted and a task has been created and queued for execution\",\n",
       "  \"request_id\": \"86SnD17sd\",\n",
       "  \"resource\": \"/transfer\",\n",
       "  \"submission_id\": \"34ab5e0b-a2c2-11f0-82f9-02a08b1590f5\",\n",
       "  \"task_id\": \"34ab5d49-a2c2-11f0-bcfb-02a08b1590f5\",\n",
       "  \"task_link\": {\n",
       "    \"DATA_TYPE\": \"link\",\n",
       "    \"href\": \"task/34ab5d49-a2c2-11f0-bcfb-02a08b1590f5?format=json\",\n",
       "    \"rel\": \"related\",\n",
       "    \"resource\": \"task\",\n",
       "    \"title\": \"related task\"\n",
       "  }\n",
       "})"
      ]
     },
     "execution_count": 21,
     "metadata": {},
     "output_type": "execute_result"
    }
   ],
   "source": [
    "# define and submit transfer\n",
    "\n",
    "path_from = '/'.join([dir_from,file_name])\n",
    "path_to = '/'.join([dir_to,file_name])\n",
    "\n",
    "transfer_data = TransferData(\n",
    "    source_endpoint=gc.source_collection_id,\n",
    "    destination_endpoint=gc.destination_collection_id,\n",
    "    label=\"DAPI Image Transfer\",\n",
    "    sync_level=\"checksum\",\n",
    "    verify_checksum=True,\n",
    "    notify_on_succeeded=False,\n",
    "    notify_on_failed=False,\n",
    "    notify_on_inactive=False,\n",
    ")\n",
    "transfer_data.add_item(path_from, path_to)\n",
    "submission_result = tc.submit_transfer(transfer_data)\n",
    "submission_result"
   ]
  },
  {
   "cell_type": "code",
   "execution_count": 22,
   "id": "8196208e",
   "metadata": {},
   "outputs": [
    {
     "data": {
      "text/plain": [
       "'ACTIVE'"
      ]
     },
     "execution_count": 22,
     "metadata": {},
     "output_type": "execute_result"
    }
   ],
   "source": [
    "# check task status\n",
    "\n",
    "task = tc.get_task(submission_result[\"task_id\"])\n",
    "task[\"status\"]"
   ]
  },
  {
   "cell_type": "code",
   "execution_count": null,
   "id": "984b43d5",
   "metadata": {},
   "outputs": [],
   "source": []
  }
 ],
 "metadata": {
  "kernelspec": {
   "display_name": "sdata-env",
   "language": "python",
   "name": "python3"
  },
  "language_info": {
   "codemirror_mode": {
    "name": "ipython",
    "version": 3
   },
   "file_extension": ".py",
   "mimetype": "text/x-python",
   "name": "python",
   "nbconvert_exporter": "python",
   "pygments_lexer": "ipython3",
   "version": "3.11.13"
  }
 },
 "nbformat": 4,
 "nbformat_minor": 5
}
