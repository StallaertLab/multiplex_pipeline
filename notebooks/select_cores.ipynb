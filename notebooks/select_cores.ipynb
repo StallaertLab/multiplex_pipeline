{
 "cells": [
  {
   "cell_type": "code",
   "execution_count": 14,
   "metadata": {},
   "outputs": [
    {
     "name": "stdout",
     "output_type": "stream",
     "text": [
      "The autoreload extension is already loaded. To reload it, use:\n",
      "  %reload_ext autoreload\n"
     ]
    }
   ],
   "source": [
    "%load_ext autoreload\n",
    "%autoreload 2\n",
    "\n",
    "import os\n",
    "import pickle as pkl\n",
    "import subprocess\n",
    "import pandas as pd\n",
    "\n",
    "import napari\n",
    "from magicgui import magicgui\n",
    "\n",
    "from multiplex_pipeline.viewer_utils import display_saved_rois, save_rois_from_viewer, redo_cores_layer, redo_bbox_layer\n",
    "from multiplex_pipeline.utils import change_to_wsl_path, get_package_path, get_workstation_path, load_config\n",
    "from multiplex_pipeline.im_utils import get_org_im_shape, prepare_rgb_image\n",
    "from multiplex_pipeline.roi_utils import read_in_saved_rois, get_refined_rectangles, get_visual_rectangles, prepare_poly_df_for_saving, xywh_to_corners"
   ]
  },
  {
   "cell_type": "markdown",
   "metadata": {},
   "source": [
    "## Read in config"
   ]
  },
  {
   "cell_type": "code",
   "execution_count": 2,
   "metadata": {},
   "outputs": [
    {
     "name": "stdout",
     "output_type": "stream",
     "text": [
      "Using workstation DESKTOP-S71S74E\n",
      "\n",
      "IM_LEVEL: 6\n",
      "MIN_AREA: 2000\n",
      "MAX_AREA: 10000\n",
      "MIN_IOU: 0.8\n",
      "MIN_ST: 0.9\n",
      "MIN_INT: 15\n",
      "FRAME: 4\n"
     ]
    }
   ],
   "source": [
    "# load config\n",
    "# this step ensures that all starting parameters are loaded before they are used\n",
    "config = load_config(namespace = globals())"
   ]
  },
  {
   "cell_type": "code",
   "execution_count": 3,
   "metadata": {},
   "outputs": [],
   "source": [
    "# change the config settings if necessary\n",
    "#IM_LEVEL = 6\n",
    "MAX_AREA = 14000"
   ]
  },
  {
   "cell_type": "markdown",
   "metadata": {},
   "source": [
    "## Read in data"
   ]
  },
  {
   "cell_type": "code",
   "execution_count": 8,
   "metadata": {},
   "outputs": [],
   "source": [
    "# pathway to the image for segmentation\n",
    "im_path = r'R:\\CellDive\\BLCA-1B\\BLCA-1B_Final\\BLCA-1B_1.0.4_R000_DAPI__FINAL_F.ome.tif'\n",
    "\n",
    "# output pathway - where to save corrected cores coordinates\n",
    "save_path = r'R:\\Wayne\\BLCA\\BLCA-1B_Analysis\\cores.csv'\n",
    "\n",
    "# ensure that the directory exists\n",
    "os.makedirs(os.path.dirname(save_path), exist_ok=True)"
   ]
  },
  {
   "cell_type": "code",
   "execution_count": 5,
   "metadata": {},
   "outputs": [
    {
     "data": {
      "text/plain": [
       "(1072, 558, 3)"
      ]
     },
     "execution_count": 5,
     "metadata": {},
     "output_type": "execute_result"
    }
   ],
   "source": [
    "# read in image data\n",
    "\n",
    "# get the original image shape\n",
    "org_im_shape = get_org_im_shape(im_path)\n",
    "\n",
    "# prepare the image for display\n",
    "im_rgb = prepare_rgb_image(im_path, req_level=IM_LEVEL)\n",
    "im = im_rgb[:, :, 0]\n",
    "im_rgb.shape"
   ]
  },
  {
   "cell_type": "markdown",
   "metadata": {},
   "source": [
    "## Create a viewer with options"
   ]
  },
  {
   "cell_type": "code",
   "execution_count": 11,
   "metadata": {},
   "outputs": [
    {
     "data": {
      "text/plain": [
       "<napari._qt.widgets.qt_viewer_dock_widget.QtViewerDockWidget at 0x1d712432cb0>"
      ]
     },
     "execution_count": 11,
     "metadata": {},
     "output_type": "execute_result"
    }
   ],
   "source": [
    "viewer = napari.Viewer()\n",
    "viewer.add_image(im)\n",
    "\n",
    "# add a red rectangle to frame the image\n",
    "frame_rect = xywh_to_corners([0,0,im.shape[1],im.shape[0]], frame = 0)\n",
    "viewer.add_shapes(frame_rect, edge_color='white', face_color = 'transparent', shape_type='rectangle', edge_width=2, name = 'frame')\n",
    "\n",
    "# add a layer for the saved rois\n",
    "display_saved_rois(viewer, IM_LEVEL = IM_LEVEL, save_path = save_path)\n",
    "\n",
    "\n",
    "#########################################################################################\n",
    "# add diplay saved button\n",
    "@magicgui(auto_call=False, call_button=\"Display Saved Cores\")\n",
    "def display_saved_rois_button(viewer: napari.Viewer):\n",
    "    display_saved_rois(viewer, save_path = save_path)  \n",
    "\n",
    "# Add widget to viewer\n",
    "viewer.window.add_dock_widget(display_saved_rois_button, area='left')\n",
    "\n",
    "#########################################################################################\n",
    "# add a save button\n",
    "@magicgui(auto_call=False, call_button=\"Save Cores\")  \n",
    "def save_button(viewer: napari.Viewer):\n",
    "    save_rois_from_viewer(viewer, org_im_shape = org_im_shape, req_level = IM_LEVEL, save_path = save_path)\n",
    "\n",
    "# Add widget to viewer\n",
    "viewer.window.add_dock_widget(save_button, area='left')"
   ]
  },
  {
   "cell_type": "markdown",
   "metadata": {},
   "source": [
    "## Get suggestions for core detection from the SAM2 model"
   ]
  },
  {
   "cell_type": "markdown",
   "metadata": {},
   "source": [
    "Execute the cell below to get suggestions from SAM model about the cores position. "
   ]
  },
  {
   "cell_type": "code",
   "execution_count": null,
   "metadata": {},
   "outputs": [
    {
     "name": "stdout",
     "output_type": "stream",
     "text": [
      "No model path provided. Using default model path: /mnt/d/data_analysis/2024_bladder/sam2\n",
      "Input image: /mnt/r/CellDive/BLCA-1B/BLCA-1B_Final/BLCA-1B_1.0.4_R000_DAPI__FINAL_F.ome.tif\n",
      "Results will be saved to: /mnt/d/multiplex_pipeline/notebooks/masks.pkl\n",
      "\n",
      "Preparing RGB image for segmentation...\n",
      "Segmenting image. It should take around 1 min. Started at 2025-06-09 12:01:14...\n",
      "Saving masks...\n",
      "Initial number of masks: 101\n",
      "Number of refined masks: 49\n"
     ]
    }
   ],
   "source": [
    "# Path to the Python interpreter in the target Conda environment\n",
    "sam_env = get_workstation_path(key=\"sam_env\")\n",
    "\n",
    "# Path to your script\n",
    "script_path = change_to_wsl_path(os.path.join(get_package_path('multiplex_pipeline'),'core_selection','suggest_cores.py'))\n",
    "im_wsl_path = change_to_wsl_path(im_path)\n",
    "\n",
    "# Define the script arguments\n",
    "output_path_suggested = os.path.join(os.getcwd(), 'masks.pkl')\n",
    "\n",
    "optional_args = ['--output', change_to_wsl_path(output_path_suggested)]\n",
    "\n",
    "# Combine the command\n",
    "command = ['wsl', sam_env, '-u', script_path, im_wsl_path, str(IM_LEVEL)] + optional_args\n",
    "\n",
    "# Execute the script\n",
    "process = subprocess.Popen(\n",
    "    command,\n",
    "    stdout=subprocess.PIPE,  # Pipe the standard output\n",
    "    stderr=subprocess.PIPE,  # Pipe the standard error\n",
    "    text=True                # Capture output as text\n",
    ")\n",
    "\n",
    "# Display output in real time\n",
    "while True:\n",
    "    output = process.stdout.readline()\n",
    "    if output == \"\" and process.poll() is not None:\n",
    "        break\n",
    "    if output:\n",
    "        print(output, end=\"\")  # Print each line as it becomes available\n",
    "\n",
    "# Print any remaining errors\n",
    "errors = process.stderr.read()\n",
    "if errors:\n",
    "    print(f\"ERROR: {errors}\")\n",
    "\n",
    "# load the masks\n",
    "masks = pkl.load(open(output_path_suggested, 'rb'))\n",
    "print(f'Initial number of masks: {len(masks)}')\n",
    "\n",
    "# remove the masks file\n",
    "os.remove(output_path_suggested)\n",
    "\n",
    "# refine masks\n",
    "rect_list = get_refined_rectangles(masks, im = im_rgb[:,:,0], frame = FRAME, min_area = MIN_AREA, max_area = MAX_AREA, min_iou = MIN_IOU, min_stability = MIN_ST, min_int = MIN_INT)\n",
    "print('Number of refined masks:', len(rect_list))\n",
    "\n",
    "# prepare df\n",
    "df = prepare_poly_df_for_saving(rect_list, poly_types = ['rectangle']*len(rect_list), org_im_shape = org_im_shape, req_level = IM_LEVEL)\n",
    "rect_list = get_visual_rectangles(df, IM_LEVEL)\n",
    "poly_list = [(x/(2**IM_LEVEL)).astype('int') for x in df.polygon_vertices.to_list()]\n",
    "\n",
    "# add to napari\n",
    "redo_cores_layer(viewer,rect_list,shape_type = df.poly_type.to_list())\n",
    "redo_bbox_layer(viewer,rect_list,df['core_name'].tolist())"
   ]
  },
  {
   "cell_type": "code",
   "execution_count": null,
   "metadata": {},
   "outputs": [],
   "source": []
  }
 ],
 "metadata": {
  "kernelspec": {
   "display_name": "napari-env",
   "language": "python",
   "name": "python3"
  },
  "language_info": {
   "codemirror_mode": {
    "name": "ipython",
    "version": 3
   },
   "file_extension": ".py",
   "mimetype": "text/x-python",
   "name": "python",
   "nbconvert_exporter": "python",
   "pygments_lexer": "ipython3",
   "version": "3.11.11"
  }
 },
 "nbformat": 4,
 "nbformat_minor": 2
}
