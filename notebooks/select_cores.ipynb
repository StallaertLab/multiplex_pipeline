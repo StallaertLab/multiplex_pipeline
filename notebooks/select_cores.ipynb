{
 "cells": [
  {
   "cell_type": "code",
   "execution_count": null,
   "metadata": {},
   "outputs": [],
    "source": [
    "%load_ext autoreload\n",
    "%autoreload 2\n",
    "\n",
    "import os\n",
    "import pickle as pkl\n",
    "import subprocess\n",
    "\n",
    "import napari\n",
    "from magicgui import magicgui\n",
    "from qtpy.QtWidgets import QFileDialog\n",
    "\n",
    "from multiplex_pipeline.utils import change_to_wsl_path, get_package_path, get_workstation_path, load_config\n",
    "from multiplex_pipeline.im_utils import get_org_im_shape, prepare_rgb_image\n",
    "from multiplex_pipeline.roi_utils import get_refined_rectangles, get_visual_rectangles, prepare_poly_df_for_saving, xywh_to_corners"
   ]
  },
  {
   "cell_type": "code",
   "execution_count": 61,
   "metadata": {},
   "outputs": [
    {
     "name": "stdout",
     "output_type": "stream",
     "text": [
      "Using workstation DESKTOP-S71S74E\n",
      "\n",
      "IM_LEVEL: 6\n",
      "MIN_AREA: 2000\n",
      "MAX_AREA: 10000\n",
      "MIN_IOU: 0.8\n",
      "MIN_ST: 0.9\n",
      "MIN_INT: 15\n",
      "FRAME: 4\n"
     ]
    }
   ],
   "source": [
    "# load config\n",
    "# this step ensures that all starting parameters are loaded before they are used\n",
    "config = load_config(namespace = globals())"
   ]
  },
  {
   "cell_type": "code",
   "execution_count": null,
   "metadata": {},
   "outputs": [],
   "source": [
    "# pathway to the image for segmetnation\n",
    "\n",
    "im_path = r'R:\\CellDive\\BLCA-1B\\BLCA-1B_Final\\BLCA-1B_1.0.4_R000_DAPI__FINAL_F.ome.tif'\n",
    "\n",
    "# output pathway\n",
    "# where to save corrected cores coordinates\n",
    "save_path = r'R:\\Wayne\\BLCA\\BLCA-1B_Analysis\\cores.csv'\n",
    "\n",
    "os.makedirs(os.path.dirname(save_path), exist_ok = True)"
   ]
  },
  {
   "cell_type": "markdown",
   "metadata": {},
   "source": [
    "## Display image and options"
   ]
  },
  {
   "cell_type": "code",
   "execution_count": 5,
   "metadata": {},
   "outputs": [
    {
     "data": {
      "text/plain": [
       "(1072, 558, 3)"
      ]
     },
     "execution_count": 5,
     "metadata": {},
     "output_type": "execute_result"
    }
   ],
   "source": [
    "# get an image for display\n",
    "\n",
    "# chnge the level paramter if necessary\n",
    "#IM_LEVEL = 6\n",
    "\n",
    "# get the original image shape\n",
    "org_im_shape = get_org_im_shape(im_path)\n",
    "\n",
    "# prepare the image for display\n",
    "im_rgb = prepare_rgb_image(im_path, req_level=IM_LEVEL)\n",
    "im = im_rgb[:, :, 0]\n",
    "im_rgb.shape"
   ]
  },
  {
   "cell_type": "code",
   "execution_count": null,
   "metadata": {},
   "outputs": [],
   "source": [
    "\n",
    "\n",
    "def redo_cores_layer(viewer,data=[],shape_type='polygon'):\n",
    "\n",
    "    if 'cores' in viewer.layers:\n",
    "        viewer.layers.remove('cores')\n",
    "\n",
    "    viewer.add_shapes(\n",
    "    data,       \n",
    "    shape_type=shape_type,  \n",
    "    edge_color='green', \n",
    "    face_color='transparent',  \n",
    "    edge_width=2,       \n",
    "    name = 'cores'\n",
    ")\n",
    "\n",
    "def redo_bbox_layer(viewer,data=[],text=[]):\n",
    "\n",
    "    if 'bounding_boxes' in viewer.layers:\n",
    "        viewer.layers.remove('bounding_boxes')\n",
    "\n",
    "    viewer.add_shapes(\n",
    "    data,       \n",
    "    shape_type='rectangle',  \n",
    "    edge_color='red', \n",
    "    face_color='transparent',  \n",
    "    edge_width=2,       \n",
    "    name = 'bounding_boxes',\n",
    "    text = {'string': text,'size':12,'color':'red','anchor':'upper_left'}\n",
    ")    \n",
    "\n",
    "\n",
    "def save_rois(viewer, org_im_shape, req_level, save_path = None):\n",
    "    '''\n",
    "    '''\n",
    "    if 'cores' in viewer.layers:\n",
    "\n",
    "        # get the saving path if not provided\n",
    "        if save_path is None:\n",
    "            # open dialog for getting a dir to save csv file\n",
    "            save_path = QFileDialog.getSaveFileName(filter = 'CSV file (*.csv)')[0]\n",
    "\n",
    "        # get the polygon data\n",
    "        poly_data = viewer.layers['cores'].data\n",
    "        poly_types = viewer.layers['cores'].shape_type\n",
    "\n",
    "        # prepare df for saving\n",
    "        df = prepare_poly_df_for_saving(poly_data, poly_types, req_level, org_im_shape)\n",
    "\n",
    "        # save the rois\n",
    "        df.to_pickle(save_path.replace('.csv','.pkl'))\n",
    "        df.to_csv(save_path, index = False)\n",
    "\n",
    "        # prepare the cores visual for saving\n",
    "        rect_list = get_visual_rectangles(df, req_level)\n",
    "        poly_list = [(x/(2**(req_level))).astype('int') for x in df.polygon_vertices.to_list()]\n",
    "\n",
    "        # change the visualization\n",
    "        redo_cores_layer(viewer,poly_list,shape_type = df.poly_type.to_list())\n",
    "        redo_bbox_layer(viewer,rect_list,df['core_name'].tolist())\n",
    "\n",
    "        viewer.status = f'Cores saved to {save_path}'\n",
    "\n",
    "    else:\n",
    "        viewer.status = 'No layer called \"cores\" found!'"
   ]
  },
  {
   "cell_type": "code",
   "execution_count": 58,
   "metadata": {},
   "outputs": [
    {
     "data": {
      "text/plain": [
       "<napari._qt.widgets.qt_viewer_dock_widget.QtViewerDockWidget at 0x2b27b685750>"
      ]
     },
     "execution_count": 58,
     "metadata": {},
     "output_type": "execute_result"
    }
   ],
   "source": [
    "viewer = napari.Viewer()\n",
    "viewer.add_image(im)\n",
    "\n",
    "# add a red rectangle to frame the image\n",
    "frame_rect = xywh_to_corners([0,0,im.shape[1],im.shape[0]], frame = 0)\n",
    "viewer.add_shapes(frame_rect, edge_color='white', face_color = 'transparent', shape_type='rectangle', edge_width=2, name = 'frame')\n",
    "\n",
    "redo_cores_layer(viewer,[])\n",
    "\n",
    "# add a save button\n",
    "@magicgui(auto_call=False, call_button=\"Save Cores\")  \n",
    "def save_button(viewer: napari.Viewer):\n",
    "    save_rois(viewer, org_im_shape = org_im_shape, req_level = IM_LEVEL, save_path = save_path)\n",
    "\n",
    "# Add widget to viewer\n",
    "viewer.window.add_dock_widget(save_button, area='left')"
   ]
  },
  {
   "cell_type": "markdown",
   "metadata": {},
   "source": [
    "## Get suggestions for core detection from the SAM2 model"
   ]
  },
  {
   "cell_type": "code",
   "execution_count": 69,
   "metadata": {},
   "outputs": [],
   "source": [
    "MAX_AREA = 14000"
   ]
  },
  {
   "cell_type": "code",
   "execution_count": 67,
   "metadata": {},
   "outputs": [
    {
     "name": "stdout",
     "output_type": "stream",
     "text": [
      "No model path provided. Using default model path: /mnt/d/data_analysis/2024_bladder/sam2\n",
      "Input image: /mnt/r/CellDive/BLCA-1B/BLCA-1B_Final/BLCA-1B_1.0.4_R000_DAPI__FINAL_F.ome.tif\n",
      "Results will be saved to: /mnt/d/multiplex_pipeline/notebooks/suggested_cores.csv\n",
      "\n",
      "Preparing RGB image for segmentation...\n",
      "Segmenting image. It should take around 1 min. Started at 2025-06-05 15:19:08...\n",
      "Saving masks...\n"
     ]
    }
   ],
   "source": [
    "# Change the default if needed\n",
    "# IM_LEVEL: 6\n",
    "\n",
    "# Path to the Python interpreter in the target Conda environment\n",
    "sam_env = get_workstation_path(key=\"sam_env\")\n",
    "\n",
    "# Path to your script\n",
    "script_path = change_to_wsl_path(os.path.join(get_package_path('multiplex_pipeline'),'suggest_cores.py'))\n",
    "im_wsl_path = change_to_wsl_path(im_path)\n",
    "\n",
    "# Define the script arguments\n",
    "output_path_suggested = os.path.join(os.getcwd(), 'suggested_cores.csv')\n",
    "\n",
    "optional_args = ['--output', change_to_wsl_path(output_path_suggested)]\n",
    "\n",
    "# Combine the command\n",
    "command = ['wsl', sam_env, '-u', script_path, im_wsl_path, str(IM_LEVEL)] + optional_args\n",
    "\n",
    "# Execute the script\n",
    "process = subprocess.Popen(\n",
    "    command,\n",
    "    stdout=subprocess.PIPE,  # Pipe the standard output\n",
    "    stderr=subprocess.PIPE,  # Pipe the standard error\n",
    "    text=True                # Capture output as text\n",
    ")\n",
    "\n",
    "# Display output in real time\n",
    "while True:\n",
    "    output = process.stdout.readline()\n",
    "    if output == \"\" and process.poll() is not None:\n",
    "        break\n",
    "    if output:\n",
    "        print(output, end=\"\")  # Print each line as it becomes available\n",
    "\n",
    "# Print any remaining errors\n",
    "errors = process.stderr.read()\n",
    "if errors:\n",
    "    print(f\"ERROR: {errors}\")"
   ]
  },
  {
   "cell_type": "code",
   "execution_count": 70,
   "metadata": {},
   "outputs": [
    {
     "name": "stdout",
     "output_type": "stream",
     "text": [
      "Initial number of masks: 101\n",
      "Number of refined masks: 49\n"
     ]
    }
   ],
   "source": [
    "# load the masks\n",
    "\n",
    "masks = pkl.load(open(output_path_suggested, 'rb'))\n",
    "print(f'Initial number of masks: {len(masks)}')\n",
    "\n",
    "# refine masks\n",
    "rect_list = get_refined_rectangles(masks, im = im_rgb[:,:,0], frame = FRAME, min_area = MIN_AREA, max_area = MAX_AREA, min_iou = MIN_IOU, min_stability = MIN_ST, min_int = MIN_INT)\n",
    "print('Number of refined masks:', len(rect_list))\n",
    "\n",
    "# add to napari\n",
    "redo_cores_layer(viewer,rect_list,shape_type='rectangle')"
   ]
  }
 ],
 "metadata": {
  "kernelspec": {
   "display_name": "napari-env",
   "language": "python",
   "name": "python3"
  },
  "language_info": {
   "codemirror_mode": {
    "name": "ipython",
    "version": 3
   },
   "file_extension": ".py",
   "mimetype": "text/x-python",
   "name": "python",
   "nbconvert_exporter": "python",
   "pygments_lexer": "ipython3",
   "version": "3.11.11"
  }
 },
 "nbformat": 4,
 "nbformat_minor": 2
}
