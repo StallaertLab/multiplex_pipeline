{
 "cells": [
  {
   "cell_type": "code",
   "execution_count": 2,
   "id": "6d0dedb9",
   "metadata": {},
   "outputs": [],
   "source": [
    "%load_ext autoreload\n",
    "%autoreload 2"
   ]
  },
  {
   "cell_type": "code",
   "execution_count": 3,
   "id": "9b3831b0",
   "metadata": {},
   "outputs": [
    {
     "name": "stderr",
     "output_type": "stream",
     "text": [
      "c:\\Users\\KMK280\\AppData\\Local\\miniconda3\\envs\\sdata-env\\Lib\\site-packages\\dask\\dataframe\\__init__.py:31: FutureWarning: The legacy Dask DataFrame implementation is deprecated and will be removed in a future version. Set the configuration option `dataframe.query-planning` to `True` or None to enable the new Dask Dataframe implementation and silence this warning.\n",
      "  warnings.warn(\n",
      "c:\\Users\\KMK280\\AppData\\Local\\miniconda3\\envs\\sdata-env\\Lib\\site-packages\\xarray_schema\\__init__.py:1: UserWarning: pkg_resources is deprecated as an API. See https://setuptools.pypa.io/en/latest/pkg_resources.html. The pkg_resources package is slated for removal as early as 2025-11-30. Refrain from using this package or pin to Setuptools<81.\n",
      "  from pkg_resources import DistributionNotFound, get_distribution\n"
     ]
    }
   ],
   "source": [
    "import numpy as np\n",
    "import spatialdata as sd\n",
    "from napari_spatialdata import Interactive\n",
    "\n",
    "from multiplex_pipeline.core_segmentation.controller import SegmentationController\n",
    "from multiplex_pipeline.core_segmentation.segmenters import Cellpose4Segmenter, InstansegSegmenter\n",
    "from multiplex_pipeline.core_segmentation.cleaners import DbscanEllipseCleaner, BlobCleaner\n",
    "from multiplex_pipeline.core_preprocessing.controller import PreSegmentationProcessor"
   ]
  },
  {
   "cell_type": "code",
   "execution_count": 4,
   "id": "a331dd5f",
   "metadata": {},
   "outputs": [],
   "source": [
    "sdata_path = r'D:\\spatialData_tests\\Core_005.zarr' "
   ]
  },
  {
   "cell_type": "code",
   "execution_count": 5,
   "id": "6f45c13e",
   "metadata": {},
   "outputs": [
    {
     "name": "stderr",
     "output_type": "stream",
     "text": [
      "version mismatch: detected: RasterFormatV02, requested: FormatV04\n",
      "c:\\Users\\KMK280\\AppData\\Local\\miniconda3\\envs\\sdata-env\\Lib\\site-packages\\zarr\\creation.py:610: UserWarning: ignoring keyword argument 'read_only'\n",
      "  compressor, fill_value = _kwargs_compat(compressor, fill_value, kwargs)\n",
      "version mismatch: detected: RasterFormatV02, requested: FormatV04\n",
      "version mismatch: detected: RasterFormatV02, requested: FormatV04\n",
      "version mismatch: detected: RasterFormatV02, requested: FormatV04\n",
      "version mismatch: detected: RasterFormatV02, requested: FormatV04\n",
      "version mismatch: detected: RasterFormatV02, requested: FormatV04\n",
      "version mismatch: detected: RasterFormatV02, requested: FormatV04\n",
      "version mismatch: detected: RasterFormatV02, requested: FormatV04\n",
      "version mismatch: detected: RasterFormatV02, requested: FormatV04\n"
     ]
    }
   ],
   "source": [
    "sdata_org = sd.read_zarr(sdata_path)"
   ]
  },
  {
   "cell_type": "code",
   "execution_count": 6,
   "id": "29ead83e",
   "metadata": {},
   "outputs": [
    {
     "data": {
      "text/plain": [
       "SpatialData object, with associated Zarr store: D:\\spatialData_tests\\Core_005.zarr\n",
       "├── Images\n",
       "│     ├── 'CD8a': DataTree[cyx] (1, 5760, 5824), (1, 2880, 2912), (1, 1440, 1456)\n",
       "│     ├── 'CD11C': DataTree[cyx] (1, 5760, 5824), (1, 2880, 2912), (1, 1440, 1456)\n",
       "│     ├── 'CD44': DataTree[cyx] (1, 5760, 5824), (1, 2880, 2912), (1, 1440, 1456)\n",
       "│     ├── 'CD45': DataTree[cyx] (1, 5760, 5824), (1, 2880, 2912), (1, 1440, 1456)\n",
       "│     ├── 'DAPI': DataTree[cyx] (1, 5760, 5824), (1, 2880, 2912), (1, 1440, 1456)\n",
       "│     ├── 'HLA1': DataTree[cyx] (1, 5760, 5824), (1, 2880, 2912), (1, 1440, 1456)\n",
       "│     ├── 'NaKATPase': DataTree[cyx] (1, 5760, 5824), (1, 2880, 2912), (1, 1440, 1456)\n",
       "│     ├── 'pCK26': DataTree[cyx] (1, 5760, 5824), (1, 2880, 2912), (1, 1440, 1456)\n",
       "│     └── 'pS6': DataTree[cyx] (1, 5760, 5824), (1, 2880, 2912), (1, 1440, 1456)\n",
       "└── Labels\n",
       "      ├── 'cellpose_nucleus': DataTree[yx] (5760, 5824), (2880, 2912), (1440, 1456)\n",
       "      ├── 'instanseg_cell_clean_blob': DataTree[yx] (5760, 5824), (2880, 2912), (1440, 1456)\n",
       "      └── 'instanseg_nucleus_blob': DataTree[yx] (5760, 5824), (2880, 2912), (1440, 1456)\n",
       "with coordinate systems:\n",
       "    ▸ 'global', with elements:\n",
       "        CD8a (Images), CD11C (Images), CD44 (Images), CD45 (Images), DAPI (Images), HLA1 (Images), NaKATPase (Images), pCK26 (Images), pS6 (Images), cellpose_nucleus (Labels), instanseg_cell_clean_blob (Labels), instanseg_nucleus_blob (Labels)"
      ]
     },
     "execution_count": 6,
     "metadata": {},
     "output_type": "execute_result"
    }
   ],
   "source": [
    "sdata_org"
   ]
  },
  {
   "cell_type": "code",
   "execution_count": null,
   "id": "ba395957",
   "metadata": {},
   "outputs": [
    {
     "data": {
      "text/plain": [
       "<napari_spatialdata._interactive.Interactive at 0x235e6ba6250>"
      ]
     },
     "execution_count": 7,
     "metadata": {},
     "output_type": "execute_result"
    },
    {
     "name": "stderr",
     "output_type": "stream",
     "text": [
      "c:\\Users\\KMK280\\AppData\\Local\\miniconda3\\envs\\sdata-env\\Lib\\site-packages\\anndata\\_core\\aligned_df.py:68: ImplicitModificationWarning: Transforming to str index.\n",
      "  warnings.warn(\"Transforming to str index.\", ImplicitModificationWarning)\n",
      "\u001b[32m2025-09-12 12:26:00.727\u001b[0m | \u001b[34m\u001b[1mDEBUG   \u001b[0m | \u001b[36mnapari_spatialdata._view\u001b[0m:\u001b[36m_on_layer_update\u001b[0m:\u001b[36m569\u001b[0m - \u001b[34m\u001b[1mUpdating layer.\u001b[0m\n",
      "\u001b[32m2025-09-12 12:26:00.730\u001b[0m | \u001b[34m\u001b[1mDEBUG   \u001b[0m | \u001b[36mnapari_spatialdata._view\u001b[0m:\u001b[36m_on_layer_update\u001b[0m:\u001b[36m569\u001b[0m - \u001b[34m\u001b[1mUpdating layer.\u001b[0m\n",
      "\u001b[32m2025-09-12 12:26:11.616\u001b[0m | \u001b[34m\u001b[1mDEBUG   \u001b[0m | \u001b[36mnapari_spatialdata._view\u001b[0m:\u001b[36m_on_layer_update\u001b[0m:\u001b[36m569\u001b[0m - \u001b[34m\u001b[1mUpdating layer.\u001b[0m\n",
      "\u001b[32m2025-09-12 12:26:11.626\u001b[0m | \u001b[34m\u001b[1mDEBUG   \u001b[0m | \u001b[36mnapari_spatialdata._view\u001b[0m:\u001b[36m_on_layer_update\u001b[0m:\u001b[36m569\u001b[0m - \u001b[34m\u001b[1mUpdating layer.\u001b[0m\n",
      "\u001b[32m2025-09-12 12:26:17.823\u001b[0m | \u001b[34m\u001b[1mDEBUG   \u001b[0m | \u001b[36mnapari_spatialdata._view\u001b[0m:\u001b[36m_on_layer_update\u001b[0m:\u001b[36m569\u001b[0m - \u001b[34m\u001b[1mUpdating layer.\u001b[0m\n",
      "\u001b[32m2025-09-12 12:26:17.829\u001b[0m | \u001b[34m\u001b[1mDEBUG   \u001b[0m | \u001b[36mnapari_spatialdata._view\u001b[0m:\u001b[36m_on_layer_update\u001b[0m:\u001b[36m569\u001b[0m - \u001b[34m\u001b[1mUpdating layer.\u001b[0m\n",
      "\u001b[32m2025-09-12 12:27:01.168\u001b[0m | \u001b[34m\u001b[1mDEBUG   \u001b[0m | \u001b[36mnapari_spatialdata._view\u001b[0m:\u001b[36m_on_layer_update\u001b[0m:\u001b[36m569\u001b[0m - \u001b[34m\u001b[1mUpdating layer.\u001b[0m\n",
      "\u001b[32m2025-09-12 12:27:01.175\u001b[0m | \u001b[34m\u001b[1mDEBUG   \u001b[0m | \u001b[36mnapari_spatialdata._view\u001b[0m:\u001b[36m_on_layer_update\u001b[0m:\u001b[36m569\u001b[0m - \u001b[34m\u001b[1mUpdating layer.\u001b[0m\n",
      "c:\\Users\\KMK280\\AppData\\Local\\miniconda3\\envs\\sdata-env\\Lib\\site-packages\\anndata\\_core\\aligned_df.py:68: ImplicitModificationWarning: Transforming to str index.\n",
      "  warnings.warn(\"Transforming to str index.\", ImplicitModificationWarning)\n",
      "\u001b[32m2025-09-12 12:27:17.338\u001b[0m | \u001b[34m\u001b[1mDEBUG   \u001b[0m | \u001b[36mnapari_spatialdata._view\u001b[0m:\u001b[36m_on_layer_update\u001b[0m:\u001b[36m569\u001b[0m - \u001b[34m\u001b[1mUpdating layer.\u001b[0m\n",
      "\u001b[32m2025-09-12 12:27:17.343\u001b[0m | \u001b[34m\u001b[1mDEBUG   \u001b[0m | \u001b[36mnapari_spatialdata._view\u001b[0m:\u001b[36m_on_layer_update\u001b[0m:\u001b[36m569\u001b[0m - \u001b[34m\u001b[1mUpdating layer.\u001b[0m\n",
      "\u001b[32m2025-09-12 12:27:17.345\u001b[0m | \u001b[34m\u001b[1mDEBUG   \u001b[0m | \u001b[36mnapari_spatialdata._view\u001b[0m:\u001b[36m_on_layer_update\u001b[0m:\u001b[36m569\u001b[0m - \u001b[34m\u001b[1mUpdating layer.\u001b[0m\n",
      "\u001b[32m2025-09-12 12:27:30.865\u001b[0m | \u001b[34m\u001b[1mDEBUG   \u001b[0m | \u001b[36mnapari_spatialdata._view\u001b[0m:\u001b[36m_on_layer_update\u001b[0m:\u001b[36m569\u001b[0m - \u001b[34m\u001b[1mUpdating layer.\u001b[0m\n",
      "\u001b[32m2025-09-12 12:27:30.873\u001b[0m | \u001b[34m\u001b[1mDEBUG   \u001b[0m | \u001b[36mnapari_spatialdata._view\u001b[0m:\u001b[36m_on_layer_update\u001b[0m:\u001b[36m569\u001b[0m - \u001b[34m\u001b[1mUpdating layer.\u001b[0m\n"
     ]
    }
   ],
   "source": [
    "# view data\n",
    "Interactive(sdata_org)"
   ]
  },
  {
   "cell_type": "markdown",
   "id": "e9d46a77",
   "metadata": {},
   "source": [
    "## Cellpose nuclear segmentation"
   ]
  },
  {
   "cell_type": "code",
   "execution_count": 10,
   "id": "7c8a270e",
   "metadata": {},
   "outputs": [
    {
     "name": "stdout",
     "output_type": "stream",
     "text": [
      "\n",
      "\n",
      "Welcome to CellposeSAM, cellpose v\n",
      "cellpose version: \t4.0.6 \n",
      "platform:       \twin32 \n",
      "python version: \t3.11.13 \n",
      "torch version:  \t2.7.1+cu126! The neural network component of\n",
      "CPSAM is much larger than in previous versions and CPU excution is slow. \n",
      "We encourage users to use GPU/MPS if available. \n",
      "\n",
      "\n"
     ]
    },
    {
     "name": "stderr",
     "output_type": "stream",
     "text": [
      "\u001b[32m2025-09-12 12:18:21.251\u001b[0m | \u001b[1mINFO    \u001b[0m | \u001b[36mmultiplex_pipeline.core_segmentation.controller\u001b[0m:\u001b[36m__init__\u001b[0m:\u001b[36m28\u001b[0m - \u001b[1mInitialized SegmentationController with segmenter=<multiplex_pipeline.core_segmentation.segmenters.Cellpose4Segmenter object at 0x0000022B07147B90>, resolution_level=0, pyramid_levels=3, downscale=2, cleaner=None\u001b[0m\n"
     ]
    }
   ],
   "source": [
    "cellpose_segmenter = Cellpose4Segmenter()\n",
    "segmentation_controller = SegmentationController(cellpose_segmenter, resolution_level = 0)"
   ]
  },
  {
   "cell_type": "code",
   "execution_count": 11,
   "id": "a02674f5",
   "metadata": {},
   "outputs": [
    {
     "name": "stderr",
     "output_type": "stream",
     "text": [
      "version mismatch: detected: RasterFormatV02, requested: FormatV04\n",
      "c:\\Users\\KMK280\\AppData\\Local\\miniconda3\\envs\\sdata-env\\Lib\\site-packages\\zarr\\creation.py:610: UserWarning: ignoring keyword argument 'read_only'\n",
      "  compressor, fill_value = _kwargs_compat(compressor, fill_value, kwargs)\n",
      "version mismatch: detected: RasterFormatV02, requested: FormatV04\n",
      "version mismatch: detected: RasterFormatV02, requested: FormatV04\n",
      "version mismatch: detected: RasterFormatV02, requested: FormatV04\n",
      "version mismatch: detected: RasterFormatV02, requested: FormatV04\n",
      "version mismatch: detected: RasterFormatV02, requested: FormatV04\n",
      "version mismatch: detected: RasterFormatV02, requested: FormatV04\n",
      "version mismatch: detected: RasterFormatV02, requested: FormatV04\n",
      "version mismatch: detected: RasterFormatV02, requested: FormatV04\n",
      "version mismatch: detected: RasterFormatV02, requested: FormatV04\n",
      "version mismatch: detected: RasterFormatV02, requested: FormatV04\n",
      "version mismatch: detected: RasterFormatV02, requested: FormatV04\n",
      "version mismatch: detected: RasterFormatV02, requested: FormatV04\n",
      "version mismatch: detected: RasterFormatV02, requested: FormatV04\n",
      "version mismatch: detected: RasterFormatV02, requested: FormatV04\n",
      "version mismatch: detected: RasterFormatV02, requested: FormatV04\n",
      "version mismatch: detected: RasterFormatV02, requested: FormatV04\n",
      "version mismatch: detected: RasterFormatV02, requested: FormatV04\n",
      "\u001b[32m2025-09-12 12:18:37.928\u001b[0m | \u001b[1mINFO    \u001b[0m | \u001b[36mmultiplex_pipeline.core_segmentation.controller\u001b[0m:\u001b[36msegment_spatial_data\u001b[0m:\u001b[36m49\u001b[0m - \u001b[1mAll requested channels are present.\u001b[0m\n",
      "\u001b[32m2025-09-12 12:18:37.928\u001b[0m | \u001b[1mINFO    \u001b[0m | \u001b[36mmultiplex_pipeline.core_segmentation.controller\u001b[0m:\u001b[36msegment_spatial_data\u001b[0m:\u001b[36m57\u001b[0m - \u001b[1mAll channels have required resolution level: 0\u001b[0m\n",
      "\u001b[32m2025-09-12 12:18:38.865\u001b[0m | \u001b[1mINFO    \u001b[0m | \u001b[36mmultiplex_pipeline.core_segmentation.controller\u001b[0m:\u001b[36msegment_spatial_data\u001b[0m:\u001b[36m63\u001b[0m - \u001b[1mRunning segmentation on 1 images at resolution level 0.\u001b[0m\n",
      "\u001b[32m2025-09-12 12:19:22.869\u001b[0m | \u001b[32m\u001b[1mSUCCESS \u001b[0m | \u001b[36mmultiplex_pipeline.core_segmentation.controller\u001b[0m:\u001b[36msegment_spatial_data\u001b[0m:\u001b[36m114\u001b[0m - \u001b[32m\u001b[1mSegmentation complete. Mask 'cellpose_nucleus' written to D:\\spatialData_tests\\Core_005.zarr\u001b[0m\n"
     ]
    }
   ],
   "source": [
    "segmentation_controller.segment_spatial_data(sdata_path, channels = ['DAPI'], mask_name = \"cellpose_nucleus\")"
   ]
  },
  {
   "cell_type": "code",
   "execution_count": 12,
   "id": "7e9f11ef",
   "metadata": {},
   "outputs": [
    {
     "name": "stderr",
     "output_type": "stream",
     "text": [
      "version mismatch: detected: RasterFormatV02, requested: FormatV04\n",
      "version mismatch: detected: RasterFormatV02, requested: FormatV04\n",
      "version mismatch: detected: RasterFormatV02, requested: FormatV04\n",
      "version mismatch: detected: RasterFormatV02, requested: FormatV04\n",
      "version mismatch: detected: RasterFormatV02, requested: FormatV04\n",
      "version mismatch: detected: RasterFormatV02, requested: FormatV04\n",
      "version mismatch: detected: RasterFormatV02, requested: FormatV04\n",
      "version mismatch: detected: RasterFormatV02, requested: FormatV04\n",
      "version mismatch: detected: RasterFormatV02, requested: FormatV04\n"
     ]
    },
    {
     "data": {
      "text/plain": [
       "SpatialData object, with associated Zarr store: D:\\spatialData_tests\\Core_005.zarr\n",
       "├── Images\n",
       "│     ├── 'CD8a': DataTree[cyx] (1, 5760, 5824), (1, 2880, 2912), (1, 1440, 1456)\n",
       "│     ├── 'CD11C': DataTree[cyx] (1, 5760, 5824), (1, 2880, 2912), (1, 1440, 1456)\n",
       "│     ├── 'CD44': DataTree[cyx] (1, 5760, 5824), (1, 2880, 2912), (1, 1440, 1456)\n",
       "│     ├── 'CD45': DataTree[cyx] (1, 5760, 5824), (1, 2880, 2912), (1, 1440, 1456)\n",
       "│     ├── 'DAPI': DataTree[cyx] (1, 5760, 5824), (1, 2880, 2912), (1, 1440, 1456)\n",
       "│     ├── 'HLA1': DataTree[cyx] (1, 5760, 5824), (1, 2880, 2912), (1, 1440, 1456)\n",
       "│     ├── 'NaKATPase': DataTree[cyx] (1, 5760, 5824), (1, 2880, 2912), (1, 1440, 1456)\n",
       "│     ├── 'pCK26': DataTree[cyx] (1, 5760, 5824), (1, 2880, 2912), (1, 1440, 1456)\n",
       "│     └── 'pS6': DataTree[cyx] (1, 5760, 5824), (1, 2880, 2912), (1, 1440, 1456)\n",
       "└── Labels\n",
       "      └── 'cellpose_nucleus': DataTree[yx] (5760, 5824), (2880, 2912), (1440, 1456)\n",
       "with coordinate systems:\n",
       "    ▸ 'global', with elements:\n",
       "        CD8a (Images), CD11C (Images), CD44 (Images), CD45 (Images), DAPI (Images), HLA1 (Images), NaKATPase (Images), pCK26 (Images), pS6 (Images), cellpose_nucleus (Labels)"
      ]
     },
     "execution_count": 12,
     "metadata": {},
     "output_type": "execute_result"
    }
   ],
   "source": [
    "# check content of the SpatialData object\n",
    "sdata = sd.read_zarr(sdata_path)\n",
    "sdata"
   ]
  },
  {
   "cell_type": "code",
   "execution_count": null,
   "id": "ef8efadd",
   "metadata": {},
   "outputs": [
    {
     "data": {
      "text/plain": [
       "<napari_spatialdata._interactive.Interactive at 0x22b1ce5af90>"
      ]
     },
     "execution_count": 14,
     "metadata": {},
     "output_type": "execute_result"
    },
    {
     "name": "stderr",
     "output_type": "stream",
     "text": [
      "c:\\Users\\KMK280\\AppData\\Local\\miniconda3\\envs\\sdata-env\\Lib\\site-packages\\anndata\\_core\\aligned_df.py:68: ImplicitModificationWarning: Transforming to str index.\n",
      "  warnings.warn(\"Transforming to str index.\", ImplicitModificationWarning)\n",
      "\u001b[32m2025-09-12 12:20:22.436\u001b[0m | \u001b[34m\u001b[1mDEBUG   \u001b[0m | \u001b[36mnapari_spatialdata._view\u001b[0m:\u001b[36m_on_layer_update\u001b[0m:\u001b[36m569\u001b[0m - \u001b[34m\u001b[1mUpdating layer.\u001b[0m\n",
      "\u001b[32m2025-09-12 12:20:22.439\u001b[0m | \u001b[34m\u001b[1mDEBUG   \u001b[0m | \u001b[36mnapari_spatialdata._view\u001b[0m:\u001b[36m_on_layer_update\u001b[0m:\u001b[36m569\u001b[0m - \u001b[34m\u001b[1mUpdating layer.\u001b[0m\n",
      "\u001b[32m2025-09-12 12:20:30.768\u001b[0m | \u001b[34m\u001b[1mDEBUG   \u001b[0m | \u001b[36mnapari_spatialdata._view\u001b[0m:\u001b[36m_on_layer_update\u001b[0m:\u001b[36m569\u001b[0m - \u001b[34m\u001b[1mUpdating layer.\u001b[0m\n",
      "\u001b[32m2025-09-12 12:20:30.777\u001b[0m | \u001b[34m\u001b[1mDEBUG   \u001b[0m | \u001b[36mnapari_spatialdata._view\u001b[0m:\u001b[36m_on_layer_update\u001b[0m:\u001b[36m569\u001b[0m - \u001b[34m\u001b[1mUpdating layer.\u001b[0m\n"
     ]
    }
   ],
   "source": [
    "# view data\n",
    "Interactive(sdata)"
   ]
  },
  {
   "cell_type": "markdown",
   "id": "20172c1f",
   "metadata": {},
   "source": [
    "## Instanseg for nucleus and cell segmentation using multiple channels"
   ]
  },
  {
   "cell_type": "code",
   "execution_count": 15,
   "id": "a6b5cd5d",
   "metadata": {},
   "outputs": [],
   "source": [
    "channels = ['DAPI','HLA1','CD8a','CD44','NaKATPase','CD11C','CD45','pCK26','pS6']"
   ]
  },
  {
   "cell_type": "code",
   "execution_count": 16,
   "id": "44f23fd7",
   "metadata": {},
   "outputs": [
    {
     "name": "stderr",
     "output_type": "stream",
     "text": [
      "\u001b[32m2025-09-12 12:21:00.303\u001b[0m | \u001b[1mINFO    \u001b[0m | \u001b[36mmultiplex_pipeline.core_preprocessing.controller\u001b[0m:\u001b[36mrun_normalize\u001b[0m:\u001b[36m80\u001b[0m - \u001b[1mApplied normalization with percentiles [1, 99.5].\u001b[0m\n",
      "\u001b[32m2025-09-12 12:21:04.443\u001b[0m | \u001b[1mINFO    \u001b[0m | \u001b[36mmultiplex_pipeline.core_preprocessing.controller\u001b[0m:\u001b[36mrun_normalize\u001b[0m:\u001b[36m80\u001b[0m - \u001b[1mApplied normalization with percentiles [1, 99.5].\u001b[0m\n",
      "\u001b[32m2025-09-12 12:21:08.433\u001b[0m | \u001b[1mINFO    \u001b[0m | \u001b[36mmultiplex_pipeline.core_preprocessing.controller\u001b[0m:\u001b[36mrun_normalize\u001b[0m:\u001b[36m80\u001b[0m - \u001b[1mApplied normalization with percentiles [1, 99.5].\u001b[0m\n",
      "\u001b[32m2025-09-12 12:21:11.723\u001b[0m | \u001b[1mINFO    \u001b[0m | \u001b[36mmultiplex_pipeline.core_preprocessing.controller\u001b[0m:\u001b[36mrun_normalize\u001b[0m:\u001b[36m80\u001b[0m - \u001b[1mApplied normalization with percentiles [1, 99.5].\u001b[0m\n",
      "\u001b[32m2025-09-12 12:21:15.709\u001b[0m | \u001b[1mINFO    \u001b[0m | \u001b[36mmultiplex_pipeline.core_preprocessing.controller\u001b[0m:\u001b[36mrun_normalize\u001b[0m:\u001b[36m80\u001b[0m - \u001b[1mApplied normalization with percentiles [1, 99.5].\u001b[0m\n",
      "\u001b[32m2025-09-12 12:21:19.350\u001b[0m | \u001b[1mINFO    \u001b[0m | \u001b[36mmultiplex_pipeline.core_preprocessing.controller\u001b[0m:\u001b[36mrun_normalize\u001b[0m:\u001b[36m80\u001b[0m - \u001b[1mApplied normalization with percentiles [1, 99.5].\u001b[0m\n",
      "\u001b[32m2025-09-12 12:21:23.206\u001b[0m | \u001b[1mINFO    \u001b[0m | \u001b[36mmultiplex_pipeline.core_preprocessing.controller\u001b[0m:\u001b[36mrun_normalize\u001b[0m:\u001b[36m80\u001b[0m - \u001b[1mApplied normalization with percentiles [1, 99.5].\u001b[0m\n",
      "\u001b[32m2025-09-12 12:21:26.926\u001b[0m | \u001b[1mINFO    \u001b[0m | \u001b[36mmultiplex_pipeline.core_preprocessing.controller\u001b[0m:\u001b[36mrun_normalize\u001b[0m:\u001b[36m80\u001b[0m - \u001b[1mApplied normalization with percentiles [1, 99.5].\u001b[0m\n",
      "\u001b[32m2025-09-12 12:21:30.128\u001b[0m | \u001b[1mINFO    \u001b[0m | \u001b[36mmultiplex_pipeline.core_preprocessing.controller\u001b[0m:\u001b[36mrun_normalize\u001b[0m:\u001b[36m80\u001b[0m - \u001b[1mApplied normalization with percentiles [1, 99.5].\u001b[0m\n"
     ]
    }
   ],
   "source": [
    "# get 8 bit normalized images to use with instanseg\n",
    "\n",
    "preseg_processor = PreSegmentationProcessor(normalize = [1, 99.5])\n",
    "preseg_processor.run(sdata_org, channels = channels)"
   ]
  },
  {
   "cell_type": "code",
   "execution_count": 17,
   "id": "cbe574ea",
   "metadata": {},
   "outputs": [
    {
     "name": "stderr",
     "output_type": "stream",
     "text": [
      "version mismatch: detected: RasterFormatV02, requested: FormatV04\n",
      "c:\\Users\\KMK280\\AppData\\Local\\miniconda3\\envs\\sdata-env\\Lib\\site-packages\\zarr\\creation.py:610: UserWarning: ignoring keyword argument 'read_only'\n",
      "  compressor, fill_value = _kwargs_compat(compressor, fill_value, kwargs)\n",
      "version mismatch: detected: RasterFormatV02, requested: FormatV04\n",
      "version mismatch: detected: RasterFormatV02, requested: FormatV04\n",
      "version mismatch: detected: RasterFormatV02, requested: FormatV04\n",
      "version mismatch: detected: RasterFormatV02, requested: FormatV04\n",
      "version mismatch: detected: RasterFormatV02, requested: FormatV04\n",
      "version mismatch: detected: RasterFormatV02, requested: FormatV04\n",
      "version mismatch: detected: RasterFormatV02, requested: FormatV04\n",
      "version mismatch: detected: RasterFormatV02, requested: FormatV04\n",
      "version mismatch: detected: RasterFormatV02, requested: FormatV04\n",
      "version mismatch: detected: RasterFormatV02, requested: FormatV04\n",
      "version mismatch: detected: RasterFormatV02, requested: FormatV04\n",
      "version mismatch: detected: RasterFormatV02, requested: FormatV04\n",
      "version mismatch: detected: RasterFormatV02, requested: FormatV04\n",
      "version mismatch: detected: RasterFormatV02, requested: FormatV04\n",
      "version mismatch: detected: RasterFormatV02, requested: FormatV04\n",
      "version mismatch: detected: RasterFormatV02, requested: FormatV04\n",
      "version mismatch: detected: RasterFormatV02, requested: FormatV04\n"
     ]
    },
    {
     "data": {
      "text/plain": [
       "SpatialData object, with associated Zarr store: D:\\spatialData_tests\\Core_005.zarr\n",
       "├── Images\n",
       "│     ├── 'CD8a': DataTree[cyx] (1, 5760, 5824), (1, 2880, 2912), (1, 1440, 1456)\n",
       "│     ├── 'CD8a_preseg': DataTree[cyx] (1, 5760, 5824), (1, 2880, 2912), (1, 1440, 1456)\n",
       "│     ├── 'CD11C': DataTree[cyx] (1, 5760, 5824), (1, 2880, 2912), (1, 1440, 1456)\n",
       "│     ├── 'CD11C_preseg': DataTree[cyx] (1, 5760, 5824), (1, 2880, 2912), (1, 1440, 1456)\n",
       "│     ├── 'CD44': DataTree[cyx] (1, 5760, 5824), (1, 2880, 2912), (1, 1440, 1456)\n",
       "│     ├── 'CD44_preseg': DataTree[cyx] (1, 5760, 5824), (1, 2880, 2912), (1, 1440, 1456)\n",
       "│     ├── 'CD45': DataTree[cyx] (1, 5760, 5824), (1, 2880, 2912), (1, 1440, 1456)\n",
       "│     ├── 'CD45_preseg': DataTree[cyx] (1, 5760, 5824), (1, 2880, 2912), (1, 1440, 1456)\n",
       "│     ├── 'DAPI': DataTree[cyx] (1, 5760, 5824), (1, 2880, 2912), (1, 1440, 1456)\n",
       "│     ├── 'DAPI_preseg': DataTree[cyx] (1, 5760, 5824), (1, 2880, 2912), (1, 1440, 1456)\n",
       "│     ├── 'HLA1': DataTree[cyx] (1, 5760, 5824), (1, 2880, 2912), (1, 1440, 1456)\n",
       "│     ├── 'HLA1_preseg': DataTree[cyx] (1, 5760, 5824), (1, 2880, 2912), (1, 1440, 1456)\n",
       "│     ├── 'NaKATPase': DataTree[cyx] (1, 5760, 5824), (1, 2880, 2912), (1, 1440, 1456)\n",
       "│     ├── 'NaKATPase_preseg': DataTree[cyx] (1, 5760, 5824), (1, 2880, 2912), (1, 1440, 1456)\n",
       "│     ├── 'pCK26': DataTree[cyx] (1, 5760, 5824), (1, 2880, 2912), (1, 1440, 1456)\n",
       "│     ├── 'pCK26_preseg': DataTree[cyx] (1, 5760, 5824), (1, 2880, 2912), (1, 1440, 1456)\n",
       "│     ├── 'pS6': DataTree[cyx] (1, 5760, 5824), (1, 2880, 2912), (1, 1440, 1456)\n",
       "│     └── 'pS6_preseg': DataTree[cyx] (1, 5760, 5824), (1, 2880, 2912), (1, 1440, 1456)\n",
       "└── Labels\n",
       "      └── 'cellpose_nucleus': DataTree[yx] (5760, 5824), (2880, 2912), (1440, 1456)\n",
       "with coordinate systems:\n",
       "    ▸ 'global', with elements:\n",
       "        CD8a (Images), CD8a_preseg (Images), CD11C (Images), CD11C_preseg (Images), CD44 (Images), CD44_preseg (Images), CD45 (Images), CD45_preseg (Images), DAPI (Images), DAPI_preseg (Images), HLA1 (Images), HLA1_preseg (Images), NaKATPase (Images), NaKATPase_preseg (Images), pCK26 (Images), pCK26_preseg (Images), pS6 (Images), pS6_preseg (Images), cellpose_nucleus (Labels)"
      ]
     },
     "execution_count": 17,
     "metadata": {},
     "output_type": "execute_result"
    }
   ],
   "source": [
    "# refresh the object\n",
    "sdata_org = sd.read_zarr(sdata_path)\n",
    "sdata_org"
   ]
  },
  {
   "cell_type": "code",
   "execution_count": 18,
   "id": "15e410fa",
   "metadata": {},
   "outputs": [
    {
     "name": "stdout",
     "output_type": "stream",
     "text": [
      "Model fluorescence_nuclei_and_cells version 0.1.0 already downloaded in c:\\Users\\KMK280\\AppData\\Local\\miniconda3\\envs\\sdata-env\\Lib\\site-packages\\instanseg\\utils\\../bioimageio_models/, loading\n"
     ]
    },
    {
     "name": "stderr",
     "output_type": "stream",
     "text": [
      "\u001b[32m2025-09-12 12:21:54.300\u001b[0m | \u001b[1mINFO    \u001b[0m | \u001b[36mmultiplex_pipeline.core_segmentation.controller\u001b[0m:\u001b[36m__init__\u001b[0m:\u001b[36m28\u001b[0m - \u001b[1mInitialized SegmentationController with segmenter=<multiplex_pipeline.core_segmentation.segmenters.InstansegSegmenter object at 0x0000022BE812FF50>, resolution_level=0, pyramid_levels=3, downscale=2, cleaner=<multiplex_pipeline.core_segmentation.cleaners.BlobCleaner object at 0x0000022BEAFFEA50>\u001b[0m\n"
     ]
    },
    {
     "name": "stdout",
     "output_type": "stream",
     "text": [
      "Requesting default device: cuda\n"
     ]
    }
   ],
   "source": [
    "segmenter = InstansegSegmenter(model_type = 'fluorescence_nuclei_and_cells', pixel_size = 0.3, resolve_cell_and_nucleus = True, cleanup_fragments = True)\n",
    "cleaner = BlobCleaner()\n",
    "segmentation_controller = SegmentationController(segmenter, cleaner = cleaner, resolution_level = 0)"
   ]
  },
  {
   "cell_type": "code",
   "execution_count": 19,
   "id": "cdbe6e76",
   "metadata": {},
   "outputs": [],
   "source": [
    "channels = [f'{ch}_preseg' for ch in channels]"
   ]
  },
  {
   "cell_type": "code",
   "execution_count": 21,
   "id": "60cf0baa",
   "metadata": {},
   "outputs": [
    {
     "name": "stderr",
     "output_type": "stream",
     "text": [
      "version mismatch: detected: RasterFormatV02, requested: FormatV04\n",
      "version mismatch: detected: RasterFormatV02, requested: FormatV04\n",
      "version mismatch: detected: RasterFormatV02, requested: FormatV04\n",
      "version mismatch: detected: RasterFormatV02, requested: FormatV04\n",
      "version mismatch: detected: RasterFormatV02, requested: FormatV04\n",
      "version mismatch: detected: RasterFormatV02, requested: FormatV04\n",
      "version mismatch: detected: RasterFormatV02, requested: FormatV04\n",
      "version mismatch: detected: RasterFormatV02, requested: FormatV04\n",
      "version mismatch: detected: RasterFormatV02, requested: FormatV04\n",
      "version mismatch: detected: RasterFormatV02, requested: FormatV04\n",
      "version mismatch: detected: RasterFormatV02, requested: FormatV04\n",
      "version mismatch: detected: RasterFormatV02, requested: FormatV04\n",
      "version mismatch: detected: RasterFormatV02, requested: FormatV04\n",
      "version mismatch: detected: RasterFormatV02, requested: FormatV04\n",
      "version mismatch: detected: RasterFormatV02, requested: FormatV04\n",
      "version mismatch: detected: RasterFormatV02, requested: FormatV04\n",
      "version mismatch: detected: RasterFormatV02, requested: FormatV04\n",
      "version mismatch: detected: RasterFormatV02, requested: FormatV04\n",
      "version mismatch: detected: RasterFormatV02, requested: FormatV04\n",
      "version mismatch: detected: RasterFormatV02, requested: FormatV04\n",
      "version mismatch: detected: RasterFormatV02, requested: FormatV04\n",
      "version mismatch: detected: RasterFormatV02, requested: FormatV04\n",
      "version mismatch: detected: RasterFormatV02, requested: FormatV04\n",
      "version mismatch: detected: RasterFormatV02, requested: FormatV04\n",
      "version mismatch: detected: RasterFormatV02, requested: FormatV04\n",
      "version mismatch: detected: RasterFormatV02, requested: FormatV04\n",
      "version mismatch: detected: RasterFormatV02, requested: FormatV04\n",
      "version mismatch: detected: RasterFormatV02, requested: FormatV04\n",
      "version mismatch: detected: RasterFormatV02, requested: FormatV04\n",
      "version mismatch: detected: RasterFormatV02, requested: FormatV04\n",
      "version mismatch: detected: RasterFormatV02, requested: FormatV04\n",
      "version mismatch: detected: RasterFormatV02, requested: FormatV04\n",
      "version mismatch: detected: RasterFormatV02, requested: FormatV04\n",
      "version mismatch: detected: RasterFormatV02, requested: FormatV04\n",
      "version mismatch: detected: RasterFormatV02, requested: FormatV04\n",
      "version mismatch: detected: RasterFormatV02, requested: FormatV04\n",
      "\u001b[32m2025-09-12 12:23:20.334\u001b[0m | \u001b[1mINFO    \u001b[0m | \u001b[36mmultiplex_pipeline.core_segmentation.controller\u001b[0m:\u001b[36msegment_spatial_data\u001b[0m:\u001b[36m49\u001b[0m - \u001b[1mAll requested channels are present.\u001b[0m\n",
      "\u001b[32m2025-09-12 12:23:20.337\u001b[0m | \u001b[1mINFO    \u001b[0m | \u001b[36mmultiplex_pipeline.core_segmentation.controller\u001b[0m:\u001b[36msegment_spatial_data\u001b[0m:\u001b[36m57\u001b[0m - \u001b[1mAll channels have required resolution level: 0\u001b[0m\n",
      "\u001b[32m2025-09-12 12:23:24.764\u001b[0m | \u001b[1mINFO    \u001b[0m | \u001b[36mmultiplex_pipeline.core_segmentation.controller\u001b[0m:\u001b[36msegment_spatial_data\u001b[0m:\u001b[36m63\u001b[0m - \u001b[1mRunning segmentation on 9 images at resolution level 0.\u001b[0m\n",
      "\u001b[32m2025-09-12 12:23:46.876\u001b[0m | \u001b[1mINFO    \u001b[0m | \u001b[36mmultiplex_pipeline.core_segmentation.controller\u001b[0m:\u001b[36msegment_spatial_data\u001b[0m:\u001b[36m72\u001b[0m - \u001b[1mCleaning masks using the provided cleaner.\u001b[0m\n",
      "\u001b[32m2025-09-12 12:23:55.605\u001b[0m | \u001b[32m\u001b[1mSUCCESS \u001b[0m | \u001b[36mmultiplex_pipeline.core_segmentation.controller\u001b[0m:\u001b[36msegment_spatial_data\u001b[0m:\u001b[36m114\u001b[0m - \u001b[32m\u001b[1mSegmentation complete. Mask 'instanseg_nucleus_blob' written to D:\\spatialData_tests\\Core_005.zarr\u001b[0m\n",
      "\u001b[32m2025-09-12 12:23:57.659\u001b[0m | \u001b[32m\u001b[1mSUCCESS \u001b[0m | \u001b[36mmultiplex_pipeline.core_segmentation.controller\u001b[0m:\u001b[36msegment_spatial_data\u001b[0m:\u001b[36m114\u001b[0m - \u001b[32m\u001b[1mSegmentation complete. Mask 'instanseg_cell_clean_blob' written to D:\\spatialData_tests\\Core_005.zarr\u001b[0m\n"
     ]
    }
   ],
   "source": [
    "segmentation_controller.segment_spatial_data(sdata_path, channels = channels, mask_name = ['instanseg_nucleus_blob', 'instanseg_cell_clean_blob'])"
   ]
  },
  {
   "cell_type": "code",
   "execution_count": 22,
   "id": "53996fe0",
   "metadata": {},
   "outputs": [],
   "source": [
    "# delete images created for instanseg\n",
    "for ch in channels:\n",
    "    del sdata_org[ch]\n",
    "    sdata_org.delete_element_from_disk(ch)"
   ]
  },
  {
   "cell_type": "code",
   "execution_count": 23,
   "id": "ea43a55f",
   "metadata": {},
   "outputs": [
    {
     "name": "stderr",
     "output_type": "stream",
     "text": [
      "version mismatch: detected: RasterFormatV02, requested: FormatV04\n",
      "version mismatch: detected: RasterFormatV02, requested: FormatV04\n",
      "version mismatch: detected: RasterFormatV02, requested: FormatV04\n",
      "version mismatch: detected: RasterFormatV02, requested: FormatV04\n",
      "version mismatch: detected: RasterFormatV02, requested: FormatV04\n",
      "version mismatch: detected: RasterFormatV02, requested: FormatV04\n",
      "version mismatch: detected: RasterFormatV02, requested: FormatV04\n",
      "version mismatch: detected: RasterFormatV02, requested: FormatV04\n",
      "version mismatch: detected: RasterFormatV02, requested: FormatV04\n"
     ]
    },
    {
     "data": {
      "text/plain": [
       "SpatialData object, with associated Zarr store: D:\\spatialData_tests\\Core_005.zarr\n",
       "├── Images\n",
       "│     ├── 'CD8a': DataTree[cyx] (1, 5760, 5824), (1, 2880, 2912), (1, 1440, 1456)\n",
       "│     ├── 'CD11C': DataTree[cyx] (1, 5760, 5824), (1, 2880, 2912), (1, 1440, 1456)\n",
       "│     ├── 'CD44': DataTree[cyx] (1, 5760, 5824), (1, 2880, 2912), (1, 1440, 1456)\n",
       "│     ├── 'CD45': DataTree[cyx] (1, 5760, 5824), (1, 2880, 2912), (1, 1440, 1456)\n",
       "│     ├── 'DAPI': DataTree[cyx] (1, 5760, 5824), (1, 2880, 2912), (1, 1440, 1456)\n",
       "│     ├── 'HLA1': DataTree[cyx] (1, 5760, 5824), (1, 2880, 2912), (1, 1440, 1456)\n",
       "│     ├── 'NaKATPase': DataTree[cyx] (1, 5760, 5824), (1, 2880, 2912), (1, 1440, 1456)\n",
       "│     ├── 'pCK26': DataTree[cyx] (1, 5760, 5824), (1, 2880, 2912), (1, 1440, 1456)\n",
       "│     └── 'pS6': DataTree[cyx] (1, 5760, 5824), (1, 2880, 2912), (1, 1440, 1456)\n",
       "└── Labels\n",
       "      ├── 'cellpose_nucleus': DataTree[yx] (5760, 5824), (2880, 2912), (1440, 1456)\n",
       "      ├── 'instanseg_cell_clean_blob': DataTree[yx] (5760, 5824), (2880, 2912), (1440, 1456)\n",
       "      └── 'instanseg_nucleus_blob': DataTree[yx] (5760, 5824), (2880, 2912), (1440, 1456)\n",
       "with coordinate systems:\n",
       "    ▸ 'global', with elements:\n",
       "        CD8a (Images), CD11C (Images), CD44 (Images), CD45 (Images), DAPI (Images), HLA1 (Images), NaKATPase (Images), pCK26 (Images), pS6 (Images), cellpose_nucleus (Labels), instanseg_cell_clean_blob (Labels), instanseg_nucleus_blob (Labels)"
      ]
     },
     "execution_count": 23,
     "metadata": {},
     "output_type": "execute_result"
    }
   ],
   "source": [
    "# refresh the object\n",
    "sdata_org = sd.read_zarr(sdata_path)\n",
    "sdata_org"
   ]
  },
  {
   "cell_type": "code",
   "execution_count": 8,
   "id": "1d2f4b17",
   "metadata": {},
   "outputs": [
    {
     "data": {
      "text/plain": [
       "<napari_spatialdata._interactive.Interactive at 0x2360067cd50>"
      ]
     },
     "execution_count": 8,
     "metadata": {},
     "output_type": "execute_result"
    }
   ],
   "source": [
    "Interactive(sdata_org)"
   ]
  }
 ],
 "metadata": {
  "kernelspec": {
   "display_name": "sdata-env",
   "language": "python",
   "name": "python3"
  },
  "language_info": {
   "codemirror_mode": {
    "name": "ipython",
    "version": 3
   },
   "file_extension": ".py",
   "mimetype": "text/x-python",
   "name": "python",
   "nbconvert_exporter": "python",
   "pygments_lexer": "ipython3",
   "version": "3.11.13"
  }
 },
 "nbformat": 4,
 "nbformat_minor": 5
}
