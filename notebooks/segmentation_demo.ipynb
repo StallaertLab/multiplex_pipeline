{
 "cells": [
  {
   "cell_type": "code",
   "execution_count": 1,
   "id": "9b3831b0",
   "metadata": {},
   "outputs": [
    {
     "name": "stderr",
     "output_type": "stream",
     "text": [
      "c:\\Users\\KMK280\\AppData\\Local\\miniconda3\\envs\\cellpose-env\\Lib\\site-packages\\dask\\dataframe\\__init__.py:31: FutureWarning: The legacy Dask DataFrame implementation is deprecated and will be removed in a future version. Set the configuration option `dataframe.query-planning` to `True` or None to enable the new Dask Dataframe implementation and silence this warning.\n",
      "  warnings.warn(\n"
     ]
    }
   ],
   "source": [
    "import numpy as np\n",
    "import spatialdata as sd\n",
    "\n",
    "from multiplex_pipeline.core_segmentation.controller import SegmentationController\n",
    "from multiplex_pipeline.core_segmentation.segmenters import CellposeSegmenter"
   ]
  },
  {
   "cell_type": "markdown",
   "id": "e9d46a77",
   "metadata": {},
   "source": [
    "## Cellpose nuclear segmentation"
   ]
  },
  {
   "cell_type": "code",
   "execution_count": 5,
   "id": "a331dd5f",
   "metadata": {},
   "outputs": [],
   "source": [
    "sdata_path = r'R:\\Wayne\\BLCA\\BLCA-1B_Analysis\\temp\\Core_015.zarr' "
   ]
  },
  {
   "cell_type": "code",
   "execution_count": 6,
   "id": "7c8a270e",
   "metadata": {},
   "outputs": [],
   "source": [
    "cellpose_segmenter = CellposeSegmenter(model_type = 'cyto2', diameter = 40)\n",
    "segmentation_controller = SegmentationController(cellpose_segmenter, resolution_level = 0)"
   ]
  },
  {
   "cell_type": "code",
   "execution_count": 7,
   "id": "a02674f5",
   "metadata": {},
   "outputs": [
    {
     "name": "stderr",
     "output_type": "stream",
     "text": [
      "version mismatch: detected: RasterFormatV02, requested: FormatV04\n",
      "c:\\Users\\KMK280\\AppData\\Local\\miniconda3\\envs\\cellpose-env\\Lib\\site-packages\\zarr\\creation.py:614: UserWarning: ignoring keyword argument 'read_only'\n",
      "  compressor, fill_value = _kwargs_compat(compressor, fill_value, kwargs)\n",
      "version mismatch: detected: RasterFormatV02, requested: FormatV04\n"
     ]
    }
   ],
   "source": [
    "segmentation_controller.segment_spatial_data(sdata_path, channels = ['DAPI'], mask_name = \"cellpose_nucleus\")"
   ]
  },
  {
   "cell_type": "code",
   "execution_count": 8,
   "id": "7e9f11ef",
   "metadata": {},
   "outputs": [
    {
     "name": "stderr",
     "output_type": "stream",
     "text": [
      "version mismatch: detected: RasterFormatV02, requested: FormatV04\n",
      "version mismatch: detected: RasterFormatV02, requested: FormatV04\n"
     ]
    },
    {
     "data": {
      "text/plain": [
       "SpatialData object, with associated Zarr store: \\\\share.files.pitt.edu\\HSIT-Stallaert-Lab\\Wayne\\BLCA\\BLCA-1B_Analysis\\temp\\Core_015.zarr\n",
       "├── Images\n",
       "│     ├── 'CD3': DataTree[cyx] (1, 5824, 5824), (1, 2912, 2912), (1, 1456, 1456)\n",
       "│     └── 'DAPI': DataTree[cyx] (1, 5824, 5824), (1, 2912, 2912), (1, 1456, 1456)\n",
       "└── Labels\n",
       "      └── 'cellpose_nucleus': DataTree[yx] (5824, 5824), (2912, 2912), (1456, 1456)\n",
       "with coordinate systems:\n",
       "    ▸ 'global', with elements:\n",
       "        CD3 (Images), DAPI (Images), cellpose_nucleus (Labels)"
      ]
     },
     "execution_count": 8,
     "metadata": {},
     "output_type": "execute_result"
    }
   ],
   "source": [
    "# check content of the SpatialData object\n",
    "sdata = sd.read_zarr(sdata_path)\n",
    "sdata"
   ]
  },
  {
   "cell_type": "markdown",
   "id": "20172c1f",
   "metadata": {},
   "source": [
    "## Instanseg for nucleus and cell segmentation using multiple channels"
   ]
  },
  {
   "cell_type": "code",
   "execution_count": null,
   "id": "15e410fa",
   "metadata": {},
   "outputs": [],
   "source": []
  }
 ],
 "metadata": {
  "kernelspec": {
   "display_name": "cellpose-env",
   "language": "python",
   "name": "python3"
  },
  "language_info": {
   "codemirror_mode": {
    "name": "ipython",
    "version": 3
   },
   "file_extension": ".py",
   "mimetype": "text/x-python",
   "name": "python",
   "nbconvert_exporter": "python",
   "pygments_lexer": "ipython3",
   "version": "3.11.11"
  }
 },
 "nbformat": 4,
 "nbformat_minor": 5
}
