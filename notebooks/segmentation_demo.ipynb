{
 "cells": [
  {
   "cell_type": "code",
   "execution_count": 1,
   "id": "6d0dedb9",
   "metadata": {},
   "outputs": [],
   "source": [
    "%load_ext autoreload\n",
    "%autoreload 2"
   ]
  },
  {
   "cell_type": "code",
   "execution_count": 2,
   "id": "9b3831b0",
   "metadata": {},
   "outputs": [
    {
     "name": "stderr",
     "output_type": "stream",
     "text": [
      "c:\\Users\\KMK280\\AppData\\Local\\miniconda3\\envs\\sdata-env\\Lib\\site-packages\\dask\\dataframe\\__init__.py:31: FutureWarning: The legacy Dask DataFrame implementation is deprecated and will be removed in a future version. Set the configuration option `dataframe.query-planning` to `True` or None to enable the new Dask Dataframe implementation and silence this warning.\n",
      "  warnings.warn(\n",
      "c:\\Users\\KMK280\\AppData\\Local\\miniconda3\\envs\\sdata-env\\Lib\\site-packages\\xarray_schema\\__init__.py:1: UserWarning: pkg_resources is deprecated as an API. See https://setuptools.pypa.io/en/latest/pkg_resources.html. The pkg_resources package is slated for removal as early as 2025-11-30. Refrain from using this package or pin to Setuptools<81.\n",
      "  from pkg_resources import DistributionNotFound, get_distribution\n"
     ]
    }
   ],
   "source": [
    "import numpy as np\n",
    "import spatialdata as sd\n",
    "\n",
    "from multiplex_pipeline.core_segmentation.controller import SegmentationController\n",
    "from multiplex_pipeline.core_segmentation.segmenters import CellposeSegmenter, InstansegSegmenter\n",
    "from multiplex_pipeline.core_preprocessing.controller import PreSegmentationProcessor"
   ]
  },
  {
   "cell_type": "code",
   "execution_count": 3,
   "id": "a331dd5f",
   "metadata": {},
   "outputs": [],
   "source": [
    "sdata_path = r'D:\\multiplex_pipeline - Copy\\temp\\Core_005.zarr' "
   ]
  },
  {
   "cell_type": "code",
   "execution_count": 4,
   "id": "6f45c13e",
   "metadata": {},
   "outputs": [
    {
     "name": "stderr",
     "output_type": "stream",
     "text": [
      "version mismatch: detected: RasterFormatV02, requested: FormatV04\n",
      "c:\\Users\\KMK280\\AppData\\Local\\miniconda3\\envs\\sdata-env\\Lib\\site-packages\\zarr\\creation.py:610: UserWarning: ignoring keyword argument 'read_only'\n",
      "  compressor, fill_value = _kwargs_compat(compressor, fill_value, kwargs)\n",
      "version mismatch: detected: RasterFormatV02, requested: FormatV04\n",
      "version mismatch: detected: RasterFormatV02, requested: FormatV04\n",
      "version mismatch: detected: RasterFormatV02, requested: FormatV04\n",
      "version mismatch: detected: RasterFormatV02, requested: FormatV04\n",
      "version mismatch: detected: RasterFormatV02, requested: FormatV04\n",
      "version mismatch: detected: RasterFormatV02, requested: FormatV04\n",
      "version mismatch: detected: RasterFormatV02, requested: FormatV04\n",
      "version mismatch: detected: RasterFormatV02, requested: FormatV04\n"
     ]
    }
   ],
   "source": [
    "sdata_org = sd.read_zarr(sdata_path)"
   ]
  },
  {
   "cell_type": "code",
   "execution_count": 5,
   "id": "29ead83e",
   "metadata": {},
   "outputs": [
    {
     "data": {
      "text/plain": [
       "SpatialData object, with associated Zarr store: D:\\multiplex_pipeline - Copy\\temp\\Core_005.zarr\n",
       "└── Images\n",
       "      ├── 'CD8a': DataTree[cyx] (1, 5760, 5824), (1, 2880, 2912), (1, 1440, 1456)\n",
       "      ├── 'CD11C': DataTree[cyx] (1, 5760, 5824), (1, 2880, 2912), (1, 1440, 1456)\n",
       "      ├── 'CD44': DataTree[cyx] (1, 5760, 5824), (1, 2880, 2912), (1, 1440, 1456)\n",
       "      ├── 'CD45': DataTree[cyx] (1, 5760, 5824), (1, 2880, 2912), (1, 1440, 1456)\n",
       "      ├── 'DAPI': DataTree[cyx] (1, 5760, 5824), (1, 2880, 2912), (1, 1440, 1456)\n",
       "      ├── 'HLA1': DataTree[cyx] (1, 5760, 5824), (1, 2880, 2912), (1, 1440, 1456)\n",
       "      ├── 'NaKATPase': DataTree[cyx] (1, 5760, 5824), (1, 2880, 2912), (1, 1440, 1456)\n",
       "      ├── 'pCK26': DataTree[cyx] (1, 5760, 5824), (1, 2880, 2912), (1, 1440, 1456)\n",
       "      └── 'pS6': DataTree[cyx] (1, 5760, 5824), (1, 2880, 2912), (1, 1440, 1456)\n",
       "with coordinate systems:\n",
       "    ▸ 'global', with elements:\n",
       "        CD8a (Images), CD11C (Images), CD44 (Images), CD45 (Images), DAPI (Images), HLA1 (Images), NaKATPase (Images), pCK26 (Images), pS6 (Images)"
      ]
     },
     "execution_count": 5,
     "metadata": {},
     "output_type": "execute_result"
    }
   ],
   "source": [
    "sdata_org"
   ]
  },
  {
   "cell_type": "markdown",
   "id": "e9d46a77",
   "metadata": {},
   "source": [
    "## Cellpose nuclear segmentation"
   ]
  },
  {
   "cell_type": "code",
   "execution_count": 6,
   "id": "7c8a270e",
   "metadata": {},
   "outputs": [],
   "source": [
    "cellpose_segmenter = CellposeSegmenter(model_type = 'cyto2', diameter = 40)\n",
    "segmentation_controller = SegmentationController(cellpose_segmenter, resolution_level = 0)"
   ]
  },
  {
   "cell_type": "code",
   "execution_count": 7,
   "id": "a02674f5",
   "metadata": {},
   "outputs": [
    {
     "name": "stderr",
     "output_type": "stream",
     "text": [
      "version mismatch: detected: RasterFormatV02, requested: FormatV04\n",
      "c:\\Users\\KMK280\\AppData\\Local\\miniconda3\\envs\\cellpose-env\\Lib\\site-packages\\zarr\\creation.py:614: UserWarning: ignoring keyword argument 'read_only'\n",
      "  compressor, fill_value = _kwargs_compat(compressor, fill_value, kwargs)\n",
      "version mismatch: detected: RasterFormatV02, requested: FormatV04\n"
     ]
    }
   ],
   "source": [
    "segmentation_controller.segment_spatial_data(sdata_path, channels = ['DAPI'], mask_name = \"cellpose_nucleus\")"
   ]
  },
  {
   "cell_type": "code",
   "execution_count": 8,
   "id": "7e9f11ef",
   "metadata": {},
   "outputs": [
    {
     "name": "stderr",
     "output_type": "stream",
     "text": [
      "version mismatch: detected: RasterFormatV02, requested: FormatV04\n",
      "version mismatch: detected: RasterFormatV02, requested: FormatV04\n"
     ]
    },
    {
     "data": {
      "text/plain": [
       "SpatialData object, with associated Zarr store: \\\\share.files.pitt.edu\\HSIT-Stallaert-Lab\\Wayne\\BLCA\\BLCA-1B_Analysis\\temp\\Core_015.zarr\n",
       "├── Images\n",
       "│     ├── 'CD3': DataTree[cyx] (1, 5824, 5824), (1, 2912, 2912), (1, 1456, 1456)\n",
       "│     └── 'DAPI': DataTree[cyx] (1, 5824, 5824), (1, 2912, 2912), (1, 1456, 1456)\n",
       "└── Labels\n",
       "      └── 'cellpose_nucleus': DataTree[yx] (5824, 5824), (2912, 2912), (1456, 1456)\n",
       "with coordinate systems:\n",
       "    ▸ 'global', with elements:\n",
       "        CD3 (Images), DAPI (Images), cellpose_nucleus (Labels)"
      ]
     },
     "execution_count": 8,
     "metadata": {},
     "output_type": "execute_result"
    }
   ],
   "source": [
    "# check content of the SpatialData object\n",
    "sdata = sd.read_zarr(sdata_path)\n",
    "sdata"
   ]
  },
  {
   "cell_type": "markdown",
   "id": "20172c1f",
   "metadata": {},
   "source": [
    "## Instanseg for nucleus and cell segmentation using multiple channels"
   ]
  },
  {
   "cell_type": "code",
   "execution_count": 6,
   "id": "a6b5cd5d",
   "metadata": {},
   "outputs": [],
   "source": [
    "channels = ['DAPI','HLA1','CD8a','CD44','NaKATPase','CD11C','CD45','pCK26','pS6']"
   ]
  },
  {
   "cell_type": "code",
   "execution_count": 7,
   "id": "44f23fd7",
   "metadata": {},
   "outputs": [
    {
     "name": "stderr",
     "output_type": "stream",
     "text": [
      "\u001b[32m2025-07-08 22:06:45.921\u001b[0m | \u001b[1mINFO    \u001b[0m | \u001b[36mmultiplex_pipeline.core_preprocessing.controller\u001b[0m:\u001b[36mrun_normalize\u001b[0m:\u001b[36m80\u001b[0m - \u001b[1mApplied normalization with percentiles [1, 99.5].\u001b[0m\n",
      "\u001b[32m2025-07-08 22:06:49.910\u001b[0m | \u001b[1mINFO    \u001b[0m | \u001b[36mmultiplex_pipeline.core_preprocessing.controller\u001b[0m:\u001b[36mrun_normalize\u001b[0m:\u001b[36m80\u001b[0m - \u001b[1mApplied normalization with percentiles [1, 99.5].\u001b[0m\n",
      "\u001b[32m2025-07-08 22:06:53.825\u001b[0m | \u001b[1mINFO    \u001b[0m | \u001b[36mmultiplex_pipeline.core_preprocessing.controller\u001b[0m:\u001b[36mrun_normalize\u001b[0m:\u001b[36m80\u001b[0m - \u001b[1mApplied normalization with percentiles [1, 99.5].\u001b[0m\n",
      "\u001b[32m2025-07-08 22:06:57.691\u001b[0m | \u001b[1mINFO    \u001b[0m | \u001b[36mmultiplex_pipeline.core_preprocessing.controller\u001b[0m:\u001b[36mrun_normalize\u001b[0m:\u001b[36m80\u001b[0m - \u001b[1mApplied normalization with percentiles [1, 99.5].\u001b[0m\n",
      "\u001b[32m2025-07-08 22:07:01.598\u001b[0m | \u001b[1mINFO    \u001b[0m | \u001b[36mmultiplex_pipeline.core_preprocessing.controller\u001b[0m:\u001b[36mrun_normalize\u001b[0m:\u001b[36m80\u001b[0m - \u001b[1mApplied normalization with percentiles [1, 99.5].\u001b[0m\n",
      "\u001b[32m2025-07-08 22:07:05.831\u001b[0m | \u001b[1mINFO    \u001b[0m | \u001b[36mmultiplex_pipeline.core_preprocessing.controller\u001b[0m:\u001b[36mrun_normalize\u001b[0m:\u001b[36m80\u001b[0m - \u001b[1mApplied normalization with percentiles [1, 99.5].\u001b[0m\n",
      "\u001b[32m2025-07-08 22:07:09.866\u001b[0m | \u001b[1mINFO    \u001b[0m | \u001b[36mmultiplex_pipeline.core_preprocessing.controller\u001b[0m:\u001b[36mrun_normalize\u001b[0m:\u001b[36m80\u001b[0m - \u001b[1mApplied normalization with percentiles [1, 99.5].\u001b[0m\n",
      "\u001b[32m2025-07-08 22:07:13.878\u001b[0m | \u001b[1mINFO    \u001b[0m | \u001b[36mmultiplex_pipeline.core_preprocessing.controller\u001b[0m:\u001b[36mrun_normalize\u001b[0m:\u001b[36m80\u001b[0m - \u001b[1mApplied normalization with percentiles [1, 99.5].\u001b[0m\n",
      "\u001b[32m2025-07-08 22:07:17.632\u001b[0m | \u001b[1mINFO    \u001b[0m | \u001b[36mmultiplex_pipeline.core_preprocessing.controller\u001b[0m:\u001b[36mrun_normalize\u001b[0m:\u001b[36m80\u001b[0m - \u001b[1mApplied normalization with percentiles [1, 99.5].\u001b[0m\n"
     ]
    }
   ],
   "source": [
    "# get 8 bit normalized images to use with instanseg\n",
    "\n",
    "preseg_processor = PreSegmentationProcessor(normalize = [1, 99.5])\n",
    "preseg_processor.run(sdata_org, channels = channels)"
   ]
  },
  {
   "cell_type": "code",
   "execution_count": 14,
   "id": "cbe574ea",
   "metadata": {},
   "outputs": [
    {
     "name": "stderr",
     "output_type": "stream",
     "text": [
      "version mismatch: detected: RasterFormatV02, requested: FormatV04\n",
      "c:\\Users\\KMK280\\AppData\\Local\\miniconda3\\envs\\sdata-env\\Lib\\site-packages\\zarr\\creation.py:610: UserWarning: ignoring keyword argument 'read_only'\n",
      "  compressor, fill_value = _kwargs_compat(compressor, fill_value, kwargs)\n",
      "version mismatch: detected: RasterFormatV02, requested: FormatV04\n",
      "version mismatch: detected: RasterFormatV02, requested: FormatV04\n",
      "version mismatch: detected: RasterFormatV02, requested: FormatV04\n",
      "version mismatch: detected: RasterFormatV02, requested: FormatV04\n",
      "version mismatch: detected: RasterFormatV02, requested: FormatV04\n",
      "version mismatch: detected: RasterFormatV02, requested: FormatV04\n",
      "version mismatch: detected: RasterFormatV02, requested: FormatV04\n",
      "version mismatch: detected: RasterFormatV02, requested: FormatV04\n"
     ]
    },
    {
     "data": {
      "text/plain": [
       "SpatialData object, with associated Zarr store: D:\\multiplex_pipeline - Copy\\temp\\Core_005.zarr\n",
       "├── Images\n",
       "│     ├── 'CD8a': DataTree[cyx] (1, 5760, 5824), (1, 2880, 2912), (1, 1440, 1456)\n",
       "│     ├── 'CD11C': DataTree[cyx] (1, 5760, 5824), (1, 2880, 2912), (1, 1440, 1456)\n",
       "│     ├── 'CD44': DataTree[cyx] (1, 5760, 5824), (1, 2880, 2912), (1, 1440, 1456)\n",
       "│     ├── 'CD45': DataTree[cyx] (1, 5760, 5824), (1, 2880, 2912), (1, 1440, 1456)\n",
       "│     ├── 'DAPI': DataTree[cyx] (1, 5760, 5824), (1, 2880, 2912), (1, 1440, 1456)\n",
       "│     ├── 'HLA1': DataTree[cyx] (1, 5760, 5824), (1, 2880, 2912), (1, 1440, 1456)\n",
       "│     ├── 'NaKATPase': DataTree[cyx] (1, 5760, 5824), (1, 2880, 2912), (1, 1440, 1456)\n",
       "│     ├── 'pCK26': DataTree[cyx] (1, 5760, 5824), (1, 2880, 2912), (1, 1440, 1456)\n",
       "│     └── 'pS6': DataTree[cyx] (1, 5760, 5824), (1, 2880, 2912), (1, 1440, 1456)\n",
       "└── Labels\n",
       "      ├── 'instanseg_cell': DataTree[yx] (5760, 5824), (2880, 2912), (1440, 1456)\n",
       "      └── 'instanseg_nucleus': DataTree[yx] (5760, 5824), (2880, 2912), (1440, 1456)\n",
       "with coordinate systems:\n",
       "    ▸ 'global', with elements:\n",
       "        CD8a (Images), CD11C (Images), CD44 (Images), CD45 (Images), DAPI (Images), HLA1 (Images), NaKATPase (Images), pCK26 (Images), pS6 (Images), instanseg_cell (Labels), instanseg_nucleus (Labels)"
      ]
     },
     "execution_count": 14,
     "metadata": {},
     "output_type": "execute_result"
    }
   ],
   "source": [
    "# refresh the object\n",
    "sdata_org = sd.read_zarr(sdata_path)\n",
    "sdata_org"
   ]
  },
  {
   "cell_type": "code",
   "execution_count": 9,
   "id": "15e410fa",
   "metadata": {},
   "outputs": [
    {
     "name": "stdout",
     "output_type": "stream",
     "text": [
      "Model fluorescence_nuclei_and_cells version 0.1.0 already downloaded in c:\\Users\\KMK280\\AppData\\Local\\miniconda3\\envs\\sdata-env\\Lib\\site-packages\\instanseg\\utils\\../bioimageio_models/, loading\n",
      "Requesting default device: cuda\n"
     ]
    },
    {
     "name": "stderr",
     "output_type": "stream",
     "text": [
      "\u001b[32m2025-07-08 22:09:50.939\u001b[0m | \u001b[1mINFO    \u001b[0m | \u001b[36mmultiplex_pipeline.core_segmentation.controller\u001b[0m:\u001b[36m__init__\u001b[0m:\u001b[36m19\u001b[0m - \u001b[1mInitialized SegmentationController with segmenter=<multiplex_pipeline.core_segmentation.segmenters.InstansegSegmenter object at 0x0000025A49037110>, resolution_level=0, pyramid_levels=3, downscale=2\u001b[0m\n"
     ]
    }
   ],
   "source": [
    "test_segmenter = InstansegSegmenter(model_type = 'fluorescence_nuclei_and_cells', pixel_size = 0.3, resolve_cell_and_nucleus = True, cleanup_fragments = True)\n",
    "segmentation_controller = SegmentationController(test_segmenter, resolution_level = 0)"
   ]
  },
  {
   "cell_type": "code",
   "execution_count": 10,
   "id": "cdbe6e76",
   "metadata": {},
   "outputs": [],
   "source": [
    "channels = [f'{ch}_preseg' for ch in channels]"
   ]
  },
  {
   "cell_type": "code",
   "execution_count": 11,
   "id": "60cf0baa",
   "metadata": {},
   "outputs": [
    {
     "name": "stderr",
     "output_type": "stream",
     "text": [
      "version mismatch: detected: RasterFormatV02, requested: FormatV04\n",
      "c:\\Users\\KMK280\\AppData\\Local\\miniconda3\\envs\\sdata-env\\Lib\\site-packages\\zarr\\creation.py:610: UserWarning: ignoring keyword argument 'read_only'\n",
      "  compressor, fill_value = _kwargs_compat(compressor, fill_value, kwargs)\n",
      "version mismatch: detected: RasterFormatV02, requested: FormatV04\n",
      "version mismatch: detected: RasterFormatV02, requested: FormatV04\n",
      "version mismatch: detected: RasterFormatV02, requested: FormatV04\n",
      "version mismatch: detected: RasterFormatV02, requested: FormatV04\n",
      "version mismatch: detected: RasterFormatV02, requested: FormatV04\n",
      "version mismatch: detected: RasterFormatV02, requested: FormatV04\n",
      "version mismatch: detected: RasterFormatV02, requested: FormatV04\n",
      "version mismatch: detected: RasterFormatV02, requested: FormatV04\n",
      "version mismatch: detected: RasterFormatV02, requested: FormatV04\n",
      "version mismatch: detected: RasterFormatV02, requested: FormatV04\n",
      "version mismatch: detected: RasterFormatV02, requested: FormatV04\n",
      "version mismatch: detected: RasterFormatV02, requested: FormatV04\n",
      "version mismatch: detected: RasterFormatV02, requested: FormatV04\n",
      "version mismatch: detected: RasterFormatV02, requested: FormatV04\n",
      "version mismatch: detected: RasterFormatV02, requested: FormatV04\n",
      "version mismatch: detected: RasterFormatV02, requested: FormatV04\n",
      "version mismatch: detected: RasterFormatV02, requested: FormatV04\n",
      "version mismatch: detected: RasterFormatV02, requested: FormatV04\n",
      "version mismatch: detected: RasterFormatV02, requested: FormatV04\n",
      "version mismatch: detected: RasterFormatV02, requested: FormatV04\n",
      "version mismatch: detected: RasterFormatV02, requested: FormatV04\n",
      "version mismatch: detected: RasterFormatV02, requested: FormatV04\n",
      "version mismatch: detected: RasterFormatV02, requested: FormatV04\n",
      "version mismatch: detected: RasterFormatV02, requested: FormatV04\n",
      "version mismatch: detected: RasterFormatV02, requested: FormatV04\n",
      "version mismatch: detected: RasterFormatV02, requested: FormatV04\n",
      "version mismatch: detected: RasterFormatV02, requested: FormatV04\n",
      "version mismatch: detected: RasterFormatV02, requested: FormatV04\n",
      "version mismatch: detected: RasterFormatV02, requested: FormatV04\n",
      "version mismatch: detected: RasterFormatV02, requested: FormatV04\n",
      "version mismatch: detected: RasterFormatV02, requested: FormatV04\n",
      "version mismatch: detected: RasterFormatV02, requested: FormatV04\n",
      "version mismatch: detected: RasterFormatV02, requested: FormatV04\n",
      "version mismatch: detected: RasterFormatV02, requested: FormatV04\n",
      "version mismatch: detected: RasterFormatV02, requested: FormatV04\n",
      "\u001b[32m2025-07-08 22:12:22.007\u001b[0m | \u001b[1mINFO    \u001b[0m | \u001b[36mmultiplex_pipeline.core_segmentation.controller\u001b[0m:\u001b[36msegment_spatial_data\u001b[0m:\u001b[36m39\u001b[0m - \u001b[1mAll requested channels are present.\u001b[0m\n",
      "\u001b[32m2025-07-08 22:12:22.008\u001b[0m | \u001b[1mINFO    \u001b[0m | \u001b[36mmultiplex_pipeline.core_segmentation.controller\u001b[0m:\u001b[36msegment_spatial_data\u001b[0m:\u001b[36m47\u001b[0m - \u001b[1mAll channels have required resolution level: 0\u001b[0m\n",
      "\u001b[32m2025-07-08 22:12:42.789\u001b[0m | \u001b[32m\u001b[1mSUCCESS \u001b[0m | \u001b[36mmultiplex_pipeline.core_segmentation.controller\u001b[0m:\u001b[36msegment_spatial_data\u001b[0m:\u001b[36m96\u001b[0m - \u001b[32m\u001b[1mSegmentation complete. Mask 'instanseg_nucleus' written to D:\\multiplex_pipeline - Copy\\temp\\Core_005.zarr\u001b[0m\n",
      "\u001b[32m2025-07-08 22:12:44.791\u001b[0m | \u001b[32m\u001b[1mSUCCESS \u001b[0m | \u001b[36mmultiplex_pipeline.core_segmentation.controller\u001b[0m:\u001b[36msegment_spatial_data\u001b[0m:\u001b[36m96\u001b[0m - \u001b[32m\u001b[1mSegmentation complete. Mask 'instanseg_cell' written to D:\\multiplex_pipeline - Copy\\temp\\Core_005.zarr\u001b[0m\n"
     ]
    }
   ],
   "source": [
    "segmentation_controller.segment_spatial_data(sdata_path, channels = channels, mask_name = ['instanseg_nucleus', 'instanseg_cell'])"
   ]
  },
  {
   "cell_type": "code",
   "execution_count": 12,
   "id": "53996fe0",
   "metadata": {},
   "outputs": [],
   "source": [
    "for ch in channels:\n",
    "    del sdata_org[ch]\n",
    "    sdata_org.delete_element_from_disk(ch)"
   ]
  },
  {
   "cell_type": "code",
   "execution_count": 15,
   "id": "ea43a55f",
   "metadata": {},
   "outputs": [
    {
     "name": "stderr",
     "output_type": "stream",
     "text": [
      "version mismatch: detected: RasterFormatV02, requested: FormatV04\n",
      "version mismatch: detected: RasterFormatV02, requested: FormatV04\n",
      "version mismatch: detected: RasterFormatV02, requested: FormatV04\n",
      "version mismatch: detected: RasterFormatV02, requested: FormatV04\n",
      "version mismatch: detected: RasterFormatV02, requested: FormatV04\n",
      "version mismatch: detected: RasterFormatV02, requested: FormatV04\n",
      "version mismatch: detected: RasterFormatV02, requested: FormatV04\n",
      "version mismatch: detected: RasterFormatV02, requested: FormatV04\n",
      "version mismatch: detected: RasterFormatV02, requested: FormatV04\n"
     ]
    },
    {
     "data": {
      "text/plain": [
       "SpatialData object, with associated Zarr store: D:\\multiplex_pipeline - Copy\\temp\\Core_005.zarr\n",
       "├── Images\n",
       "│     ├── 'CD8a': DataTree[cyx] (1, 5760, 5824), (1, 2880, 2912), (1, 1440, 1456)\n",
       "│     ├── 'CD11C': DataTree[cyx] (1, 5760, 5824), (1, 2880, 2912), (1, 1440, 1456)\n",
       "│     ├── 'CD44': DataTree[cyx] (1, 5760, 5824), (1, 2880, 2912), (1, 1440, 1456)\n",
       "│     ├── 'CD45': DataTree[cyx] (1, 5760, 5824), (1, 2880, 2912), (1, 1440, 1456)\n",
       "│     ├── 'DAPI': DataTree[cyx] (1, 5760, 5824), (1, 2880, 2912), (1, 1440, 1456)\n",
       "│     ├── 'HLA1': DataTree[cyx] (1, 5760, 5824), (1, 2880, 2912), (1, 1440, 1456)\n",
       "│     ├── 'NaKATPase': DataTree[cyx] (1, 5760, 5824), (1, 2880, 2912), (1, 1440, 1456)\n",
       "│     ├── 'pCK26': DataTree[cyx] (1, 5760, 5824), (1, 2880, 2912), (1, 1440, 1456)\n",
       "│     └── 'pS6': DataTree[cyx] (1, 5760, 5824), (1, 2880, 2912), (1, 1440, 1456)\n",
       "└── Labels\n",
       "      ├── 'instanseg_cell': DataTree[yx] (5760, 5824), (2880, 2912), (1440, 1456)\n",
       "      └── 'instanseg_nucleus': DataTree[yx] (5760, 5824), (2880, 2912), (1440, 1456)\n",
       "with coordinate systems:\n",
       "    ▸ 'global', with elements:\n",
       "        CD8a (Images), CD11C (Images), CD44 (Images), CD45 (Images), DAPI (Images), HLA1 (Images), NaKATPase (Images), pCK26 (Images), pS6 (Images), instanseg_cell (Labels), instanseg_nucleus (Labels)"
      ]
     },
     "execution_count": 15,
     "metadata": {},
     "output_type": "execute_result"
    }
   ],
   "source": [
    "# refresh the object\n",
    "sdata_org = sd.read_zarr(sdata_path)\n",
    "sdata_org"
   ]
  },
  {
   "cell_type": "code",
   "execution_count": null,
   "id": "63f03615",
   "metadata": {},
   "outputs": [
    {
     "name": "stderr",
     "output_type": "stream",
     "text": [
      "c:\\Users\\KMK280\\AppData\\Local\\miniconda3\\envs\\sdata-env\\Lib\\site-packages\\anndata\\_core\\aligned_df.py:68: ImplicitModificationWarning: Transforming to str index.\n",
      "  warnings.warn(\"Transforming to str index.\", ImplicitModificationWarning)\n",
      "\u001b[32m2025-07-08 22:28:35.570\u001b[0m | \u001b[34m\u001b[1mDEBUG   \u001b[0m | \u001b[36mnapari_spatialdata._view\u001b[0m:\u001b[36m_on_layer_update\u001b[0m:\u001b[36m569\u001b[0m - \u001b[34m\u001b[1mUpdating layer.\u001b[0m\n",
      "\u001b[32m2025-07-08 22:28:35.578\u001b[0m | \u001b[34m\u001b[1mDEBUG   \u001b[0m | \u001b[36mnapari_spatialdata._view\u001b[0m:\u001b[36m_on_layer_update\u001b[0m:\u001b[36m569\u001b[0m - \u001b[34m\u001b[1mUpdating layer.\u001b[0m\n",
      "\u001b[32m2025-07-08 22:28:44.843\u001b[0m | \u001b[34m\u001b[1mDEBUG   \u001b[0m | \u001b[36mnapari_spatialdata._view\u001b[0m:\u001b[36m_on_layer_update\u001b[0m:\u001b[36m569\u001b[0m - \u001b[34m\u001b[1mUpdating layer.\u001b[0m\n",
      "\u001b[32m2025-07-08 22:28:44.853\u001b[0m | \u001b[34m\u001b[1mDEBUG   \u001b[0m | \u001b[36mnapari_spatialdata._view\u001b[0m:\u001b[36m_on_layer_update\u001b[0m:\u001b[36m569\u001b[0m - \u001b[34m\u001b[1mUpdating layer.\u001b[0m\n",
      "\u001b[32m2025-07-08 22:29:10.423\u001b[0m | \u001b[34m\u001b[1mDEBUG   \u001b[0m | \u001b[36mnapari_spatialdata._view\u001b[0m:\u001b[36m_on_layer_update\u001b[0m:\u001b[36m569\u001b[0m - \u001b[34m\u001b[1mUpdating layer.\u001b[0m\n",
      "\u001b[32m2025-07-08 22:29:10.433\u001b[0m | \u001b[34m\u001b[1mDEBUG   \u001b[0m | \u001b[36mnapari_spatialdata._view\u001b[0m:\u001b[36m_on_layer_update\u001b[0m:\u001b[36m569\u001b[0m - \u001b[34m\u001b[1mUpdating layer.\u001b[0m\n",
      "\u001b[32m2025-07-08 22:29:59.925\u001b[0m | \u001b[34m\u001b[1mDEBUG   \u001b[0m | \u001b[36mnapari_spatialdata._view\u001b[0m:\u001b[36m_on_layer_update\u001b[0m:\u001b[36m569\u001b[0m - \u001b[34m\u001b[1mUpdating layer.\u001b[0m\n",
      "\u001b[32m2025-07-08 22:29:59.934\u001b[0m | \u001b[34m\u001b[1mDEBUG   \u001b[0m | \u001b[36mnapari_spatialdata._view\u001b[0m:\u001b[36m_on_layer_update\u001b[0m:\u001b[36m569\u001b[0m - \u001b[34m\u001b[1mUpdating layer.\u001b[0m\n",
      "\u001b[32m2025-07-08 22:29:59.938\u001b[0m | \u001b[34m\u001b[1mDEBUG   \u001b[0m | \u001b[36mnapari_spatialdata._view\u001b[0m:\u001b[36m_on_layer_update\u001b[0m:\u001b[36m569\u001b[0m - \u001b[34m\u001b[1mUpdating layer.\u001b[0m\n",
      "c:\\Users\\KMK280\\AppData\\Local\\miniconda3\\envs\\sdata-env\\Lib\\site-packages\\anndata\\_core\\aligned_df.py:68: ImplicitModificationWarning: Transforming to str index.\n",
      "  warnings.warn(\"Transforming to str index.\", ImplicitModificationWarning)\n",
      "\u001b[32m2025-07-08 22:30:15.493\u001b[0m | \u001b[34m\u001b[1mDEBUG   \u001b[0m | \u001b[36mnapari_spatialdata._view\u001b[0m:\u001b[36m_on_layer_update\u001b[0m:\u001b[36m569\u001b[0m - \u001b[34m\u001b[1mUpdating layer.\u001b[0m\n",
      "\u001b[32m2025-07-08 22:30:15.500\u001b[0m | \u001b[34m\u001b[1mDEBUG   \u001b[0m | \u001b[36mnapari_spatialdata._view\u001b[0m:\u001b[36m_on_layer_update\u001b[0m:\u001b[36m569\u001b[0m - \u001b[34m\u001b[1mUpdating layer.\u001b[0m\n",
      "\u001b[32m2025-07-08 22:30:15.501\u001b[0m | \u001b[34m\u001b[1mDEBUG   \u001b[0m | \u001b[36mnapari_spatialdata._view\u001b[0m:\u001b[36m_on_layer_update\u001b[0m:\u001b[36m569\u001b[0m - \u001b[34m\u001b[1mUpdating layer.\u001b[0m\n",
      "c:\\Users\\KMK280\\AppData\\Local\\miniconda3\\envs\\sdata-env\\Lib\\site-packages\\anndata\\_core\\aligned_df.py:68: ImplicitModificationWarning: Transforming to str index.\n",
      "  warnings.warn(\"Transforming to str index.\", ImplicitModificationWarning)\n",
      "\u001b[32m2025-07-08 22:31:20.879\u001b[0m | \u001b[34m\u001b[1mDEBUG   \u001b[0m | \u001b[36mnapari_spatialdata._view\u001b[0m:\u001b[36m_on_layer_update\u001b[0m:\u001b[36m569\u001b[0m - \u001b[34m\u001b[1mUpdating layer.\u001b[0m\n",
      "\u001b[32m2025-07-08 22:31:20.889\u001b[0m | \u001b[34m\u001b[1mDEBUG   \u001b[0m | \u001b[36mnapari_spatialdata._view\u001b[0m:\u001b[36m_on_layer_update\u001b[0m:\u001b[36m569\u001b[0m - \u001b[34m\u001b[1mUpdating layer.\u001b[0m\n",
      "\u001b[32m2025-07-08 22:31:20.892\u001b[0m | \u001b[34m\u001b[1mDEBUG   \u001b[0m | \u001b[36mnapari_spatialdata._view\u001b[0m:\u001b[36m_on_layer_update\u001b[0m:\u001b[36m569\u001b[0m - \u001b[34m\u001b[1mUpdating layer.\u001b[0m\n",
      "c:\\Users\\KMK280\\AppData\\Local\\miniconda3\\envs\\sdata-env\\Lib\\site-packages\\anndata\\_core\\aligned_df.py:68: ImplicitModificationWarning: Transforming to str index.\n",
      "  warnings.warn(\"Transforming to str index.\", ImplicitModificationWarning)\n",
      "\u001b[32m2025-07-08 22:31:36.892\u001b[0m | \u001b[34m\u001b[1mDEBUG   \u001b[0m | \u001b[36mnapari_spatialdata._view\u001b[0m:\u001b[36m_on_layer_update\u001b[0m:\u001b[36m569\u001b[0m - \u001b[34m\u001b[1mUpdating layer.\u001b[0m\n",
      "\u001b[32m2025-07-08 22:31:36.901\u001b[0m | \u001b[34m\u001b[1mDEBUG   \u001b[0m | \u001b[36mnapari_spatialdata._view\u001b[0m:\u001b[36m_on_layer_update\u001b[0m:\u001b[36m569\u001b[0m - \u001b[34m\u001b[1mUpdating layer.\u001b[0m\n",
      "\u001b[32m2025-07-08 22:31:36.903\u001b[0m | \u001b[34m\u001b[1mDEBUG   \u001b[0m | \u001b[36mnapari_spatialdata._view\u001b[0m:\u001b[36m_on_layer_update\u001b[0m:\u001b[36m569\u001b[0m - \u001b[34m\u001b[1mUpdating layer.\u001b[0m\n"
     ]
    }
   ],
   "source": [
    "from napari_spatialdata import Interactive\n",
    "\n",
    "interactive = Interactive(sdata_org)\n",
    "interactive.run()"
   ]
  },
  {
   "cell_type": "code",
   "execution_count": null,
   "id": "2c978cab",
   "metadata": {},
   "outputs": [],
   "source": []
  }
 ],
 "metadata": {
  "kernelspec": {
   "display_name": "sdata-env",
   "language": "python",
   "name": "python3"
  },
  "language_info": {
   "codemirror_mode": {
    "name": "ipython",
    "version": 3
   },
   "file_extension": ".py",
   "mimetype": "text/x-python",
   "name": "python",
   "nbconvert_exporter": "python",
   "pygments_lexer": "ipython3",
   "version": "3.11.13"
  }
 },
 "nbformat": 4,
 "nbformat_minor": 5
}
