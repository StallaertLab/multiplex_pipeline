{
 "cells": [
  {
   "cell_type": "code",
   "execution_count": 1,
   "metadata": {},
   "outputs": [],
   "source": [
    "import os\n",
    "import time\n",
    "from pathlib import Path\n",
    "\n",
    "import globus_sdk\n",
    "import numpy as np\n",
    "import pandas as pd\n",
    "from loguru import logger\n",
    "from skimage.draw import polygon\n",
    "from tifffile import imread, imwrite\n",
    "\n",
    "from multiplex_pipeline.globus_utils import (\n",
    "    GlobusConfig,\n",
    "    create_globus_tc,\n",
    "    get_with_globus_https,\n",
    ")"
   ]
  },
  {
   "cell_type": "code",
   "execution_count": 2,
   "metadata": {},
   "outputs": [],
   "source": [
    "df_path = '/Wayne/BLCA/BLCA-6_Analysis/cores.pkl'\n",
    "input_dir = '/CellDive/BLCA-6/BLCA-6_Final'\n",
    "temp_dir = r'D:\\temp_storage'\n",
    "output_dir = '/Wayne/BLCA/BLCA-6_Analysis/Core Storage'\n",
    "\n",
    "selection_list = None"
   ]
  },
  {
   "cell_type": "code",
   "execution_count": 3,
   "metadata": {},
   "outputs": [
    {
     "data": {
      "text/plain": [
       "1"
      ]
     },
     "execution_count": 3,
     "metadata": {},
     "output_type": "execute_result"
    }
   ],
   "source": [
    "# set up logger\n",
    "\n",
    "log_file_path = os.path.join(temp_dir, 'core_cutting_log_{time}.log')\n",
    "\n",
    "# Configure the logger to write to the log file\n",
    "logger.add(log_file_path, rotation=\"10 MB\", compression=\"zip\")\n"
   ]
  },
  {
   "cell_type": "code",
   "execution_count": 4,
   "metadata": {},
   "outputs": [],
   "source": [
    "config_dir = Path(r'D:\\\\globus_config')\n",
    "gc = GlobusConfig.from_config_files(config_dir)"
   ]
  },
  {
   "cell_type": "code",
   "execution_count": 6,
   "metadata": {},
   "outputs": [],
   "source": [
    "# create a transfer client\n",
    "tc = create_globus_tc(gc.client_id, gc.transfer_tokens)"
   ]
  },
  {
   "cell_type": "code",
   "execution_count": 7,
   "metadata": {},
   "outputs": [
    {
     "data": {
      "text/html": [
       "<div>\n",
       "<style scoped>\n",
       "    .dataframe tbody tr th:only-of-type {\n",
       "        vertical-align: middle;\n",
       "    }\n",
       "\n",
       "    .dataframe tbody tr th {\n",
       "        vertical-align: top;\n",
       "    }\n",
       "\n",
       "    .dataframe thead th {\n",
       "        text-align: right;\n",
       "    }\n",
       "</style>\n",
       "<table border=\"1\" class=\"dataframe\">\n",
       "  <thead>\n",
       "    <tr style=\"text-align: right;\">\n",
       "      <th></th>\n",
       "      <th>core_name</th>\n",
       "      <th>row_start</th>\n",
       "      <th>row_stop</th>\n",
       "      <th>column_start</th>\n",
       "      <th>column_stop</th>\n",
       "      <th>poly_type</th>\n",
       "      <th>polygon_vertices</th>\n",
       "    </tr>\n",
       "  </thead>\n",
       "  <tbody>\n",
       "    <tr>\n",
       "      <th>0</th>\n",
       "      <td>Core_000</td>\n",
       "      <td>1152</td>\n",
       "      <td>8768</td>\n",
       "      <td>3072</td>\n",
       "      <td>10624</td>\n",
       "      <td>rectangle</td>\n",
       "      <td>[[1152.0, 10624.0], [8768.0, 10624.0], [8768.0...</td>\n",
       "    </tr>\n",
       "    <tr>\n",
       "      <th>1</th>\n",
       "      <td>Core_001</td>\n",
       "      <td>1344</td>\n",
       "      <td>9408</td>\n",
       "      <td>12032</td>\n",
       "      <td>20224</td>\n",
       "      <td>rectangle</td>\n",
       "      <td>[[1344.0, 20224.0], [9408.0, 20224.0], [9408.0...</td>\n",
       "    </tr>\n",
       "    <tr>\n",
       "      <th>2</th>\n",
       "      <td>Core_002</td>\n",
       "      <td>1920</td>\n",
       "      <td>9216</td>\n",
       "      <td>21312</td>\n",
       "      <td>28544</td>\n",
       "      <td>rectangle</td>\n",
       "      <td>[[1920.0, 28544.0], [9216.0, 28544.0], [9216.0...</td>\n",
       "    </tr>\n",
       "    <tr>\n",
       "      <th>3</th>\n",
       "      <td>Core_003</td>\n",
       "      <td>2944</td>\n",
       "      <td>8896</td>\n",
       "      <td>39296</td>\n",
       "      <td>46464</td>\n",
       "      <td>rectangle</td>\n",
       "      <td>[[2944.0, 46464.0], [8896.0, 46464.0], [8896.0...</td>\n",
       "    </tr>\n",
       "    <tr>\n",
       "      <th>4</th>\n",
       "      <td>Core_004</td>\n",
       "      <td>2752</td>\n",
       "      <td>9600</td>\n",
       "      <td>48896</td>\n",
       "      <td>56128</td>\n",
       "      <td>rectangle</td>\n",
       "      <td>[[2752.0, 56128.0], [9600.0, 56128.0], [9600.0...</td>\n",
       "    </tr>\n",
       "    <tr>\n",
       "      <th>...</th>\n",
       "      <td>...</td>\n",
       "      <td>...</td>\n",
       "      <td>...</td>\n",
       "      <td>...</td>\n",
       "      <td>...</td>\n",
       "      <td>...</td>\n",
       "      <td>...</td>\n",
       "    </tr>\n",
       "    <tr>\n",
       "      <th>60</th>\n",
       "      <td>Core_060</td>\n",
       "      <td>55360</td>\n",
       "      <td>62144</td>\n",
       "      <td>17984</td>\n",
       "      <td>25280</td>\n",
       "      <td>rectangle</td>\n",
       "      <td>[[55360.0, 25280.0], [62144.0, 25280.0], [6214...</td>\n",
       "    </tr>\n",
       "    <tr>\n",
       "      <th>61</th>\n",
       "      <td>Core_061</td>\n",
       "      <td>56000</td>\n",
       "      <td>62528</td>\n",
       "      <td>36224</td>\n",
       "      <td>43584</td>\n",
       "      <td>rectangle</td>\n",
       "      <td>[[56000.0, 43584.0], [62528.0, 43584.0], [6252...</td>\n",
       "    </tr>\n",
       "    <tr>\n",
       "      <th>62</th>\n",
       "      <td>Core_062</td>\n",
       "      <td>56448</td>\n",
       "      <td>64320</td>\n",
       "      <td>46144</td>\n",
       "      <td>54272</td>\n",
       "      <td>rectangle</td>\n",
       "      <td>[[56448.0, 54272.0], [64320.0, 54272.0], [6432...</td>\n",
       "    </tr>\n",
       "    <tr>\n",
       "      <th>63</th>\n",
       "      <td>Core_063</td>\n",
       "      <td>55808</td>\n",
       "      <td>62528</td>\n",
       "      <td>75456</td>\n",
       "      <td>82496</td>\n",
       "      <td>rectangle</td>\n",
       "      <td>[[55808.0, 82496.0], [62528.0, 82496.0], [6252...</td>\n",
       "    </tr>\n",
       "    <tr>\n",
       "      <th>64</th>\n",
       "      <td>Core_064</td>\n",
       "      <td>57088</td>\n",
       "      <td>65208</td>\n",
       "      <td>55360</td>\n",
       "      <td>63104</td>\n",
       "      <td>rectangle</td>\n",
       "      <td>[[57088.0, 63104.0], [65208.0, 63104.0], [6520...</td>\n",
       "    </tr>\n",
       "  </tbody>\n",
       "</table>\n",
       "<p>65 rows × 7 columns</p>\n",
       "</div>"
      ],
      "text/plain": [
       "   core_name  row_start  row_stop  column_start  column_stop  poly_type  \\\n",
       "0   Core_000       1152      8768          3072        10624  rectangle   \n",
       "1   Core_001       1344      9408         12032        20224  rectangle   \n",
       "2   Core_002       1920      9216         21312        28544  rectangle   \n",
       "3   Core_003       2944      8896         39296        46464  rectangle   \n",
       "4   Core_004       2752      9600         48896        56128  rectangle   \n",
       "..       ...        ...       ...           ...          ...        ...   \n",
       "60  Core_060      55360     62144         17984        25280  rectangle   \n",
       "61  Core_061      56000     62528         36224        43584  rectangle   \n",
       "62  Core_062      56448     64320         46144        54272  rectangle   \n",
       "63  Core_063      55808     62528         75456        82496  rectangle   \n",
       "64  Core_064      57088     65208         55360        63104  rectangle   \n",
       "\n",
       "                                     polygon_vertices  \n",
       "0   [[1152.0, 10624.0], [8768.0, 10624.0], [8768.0...  \n",
       "1   [[1344.0, 20224.0], [9408.0, 20224.0], [9408.0...  \n",
       "2   [[1920.0, 28544.0], [9216.0, 28544.0], [9216.0...  \n",
       "3   [[2944.0, 46464.0], [8896.0, 46464.0], [8896.0...  \n",
       "4   [[2752.0, 56128.0], [9600.0, 56128.0], [9600.0...  \n",
       "..                                                ...  \n",
       "60  [[55360.0, 25280.0], [62144.0, 25280.0], [6214...  \n",
       "61  [[56000.0, 43584.0], [62528.0, 43584.0], [6252...  \n",
       "62  [[56448.0, 54272.0], [64320.0, 54272.0], [6432...  \n",
       "63  [[55808.0, 82496.0], [62528.0, 82496.0], [6252...  \n",
       "64  [[57088.0, 63104.0], [65208.0, 63104.0], [6520...  \n",
       "\n",
       "[65 rows x 7 columns]"
      ]
     },
     "execution_count": 7,
     "metadata": {},
     "output_type": "execute_result"
    }
   ],
   "source": [
    "df = pd.read_pickle(get_with_globus_https(df_path, gc.https_server, gc.https_token))\n",
    "df"
   ]
  },
  {
   "cell_type": "code",
   "execution_count": null,
   "metadata": {},
   "outputs": [
    {
     "name": "stderr",
     "output_type": "stream",
     "text": [
      "\u001b[32m2025-01-20 16:17:43.760\u001b[0m | \u001b[1mINFO    \u001b[0m | \u001b[36m__main__\u001b[0m:\u001b[36m<module>\u001b[0m:\u001b[36m17\u001b[0m - \u001b[1mSubmitted transfer task fbb2575e-d773-11ef-9be3-191f082cca5d for BLCA-6_1.0.4_R000_Cy3_pH2AX-AF555_FINAL_AFR_F.ome.tif.\u001b[0m\n"
     ]
    },
    {
     "name": "stdout",
     "output_type": "stream",
     "text": [
      "Waiting for the file copy. {time}\n"
     ]
    },
    {
     "ename": "KeyboardInterrupt",
     "evalue": "",
     "output_type": "error",
     "traceback": [
      "\u001b[1;31m---------------------------------------------------------------------------\u001b[0m",
      "\u001b[1;31mKeyboardInterrupt\u001b[0m                         Traceback (most recent call last)",
      "Cell \u001b[1;32mIn[11], line 22\u001b[0m\n\u001b[0;32m     20\u001b[0m \u001b[38;5;28;01mwhile\u001b[39;00m task[\u001b[38;5;124m\"\u001b[39m\u001b[38;5;124mstatus\u001b[39m\u001b[38;5;124m\"\u001b[39m] \u001b[38;5;241m!=\u001b[39m \u001b[38;5;124m\"\u001b[39m\u001b[38;5;124mSUCCEEDED\u001b[39m\u001b[38;5;124m\"\u001b[39m:\n\u001b[0;32m     21\u001b[0m     \u001b[38;5;28mprint\u001b[39m(\u001b[38;5;124m'\u001b[39m\u001b[38;5;124mWaiting for the file copy. \u001b[39m\u001b[38;5;132;01m{time}\u001b[39;00m\u001b[38;5;124m'\u001b[39m)\n\u001b[1;32m---> 22\u001b[0m     \u001b[43mtime\u001b[49m\u001b[38;5;241;43m.\u001b[39;49m\u001b[43msleep\u001b[49m\u001b[43m(\u001b[49m\u001b[38;5;241;43m15\u001b[39;49m\u001b[43m)\u001b[49m\n",
      "\u001b[1;31mKeyboardInterrupt\u001b[0m: "
     ]
    }
   ],
   "source": [
    "im_name = 'BLCA-6_1.0.4_R000_Cy3_pH2AX-AF555_FINAL_AFR_F.ome.tif'\n",
    "\n",
    "task_data = globus_sdk.TransferData(\n",
    "    source_endpoint=gc.source_collection_id,\n",
    "    destination_endpoint=gc.destination_collection_id,\n",
    "    notify_on_succeeded=False,  # Disable email on success\n",
    "    notify_on_failed=True,      # Enable email on failure\n",
    "    notify_on_inactive=False    # Disable email on inactivity\n",
    ")\n",
    "\n",
    "task_data.add_item(\n",
    "    input_dir+'/'+im_name,\n",
    "    './temp.ome.tif')\n",
    "\n",
    "task_doc = tc.submit_transfer(task_data)\n",
    "task_id = task_doc[\"task_id\"]\n",
    "l = logger.info(f\"Submitted transfer task {task_id} for {im_name}.\")\n",
    "\n",
    "task = tc.get_task(task_id)\n",
    "while task[\"status\"] != \"SUCCEEDED\":\n",
    "    print('Waiting for the file copy. {time}')\n",
    "    time.sleep(15)"
   ]
  },
  {
   "cell_type": "code",
   "execution_count": null,
   "metadata": {},
   "outputs": [
    {
     "name": "stdout",
     "output_type": "stream",
     "text": [
      "BLCA-6_1.0.4_R000_Cy3_pH2AX-AF555_FINAL_AFR_F.ome.tif\n"
     ]
    },
    {
     "ename": "KeyboardInterrupt",
     "evalue": "",
     "output_type": "error",
     "traceback": [
      "\u001b[1;31m---------------------------------------------------------------------------\u001b[0m",
      "\u001b[1;31mKeyboardInterrupt\u001b[0m                         Traceback (most recent call last)",
      "Cell \u001b[1;32mIn[8], line 14\u001b[0m\n\u001b[0;32m     12\u001b[0m \u001b[38;5;28;01mfor\u001b[39;00m im_name \u001b[38;5;129;01min\u001b[39;00m im_list:\n\u001b[0;32m     13\u001b[0m     \u001b[38;5;28mprint\u001b[39m(im_name)\n\u001b[1;32m---> 14\u001b[0m     im \u001b[38;5;241m=\u001b[39m imread(\u001b[43mget_with_globus_https\u001b[49m\u001b[43m(\u001b[49m\u001b[43minput_dir\u001b[49m\u001b[38;5;241;43m+\u001b[39;49m\u001b[38;5;124;43m'\u001b[39;49m\u001b[38;5;124;43m/\u001b[39;49m\u001b[38;5;124;43m'\u001b[39;49m\u001b[38;5;241;43m+\u001b[39;49m\u001b[43mim_name\u001b[49m\u001b[43m,\u001b[49m\u001b[43m \u001b[49m\u001b[43mgc\u001b[49m\u001b[38;5;241;43m.\u001b[39;49m\u001b[43mhttps_server\u001b[49m\u001b[43m,\u001b[49m\u001b[43m \u001b[49m\u001b[43mgc\u001b[49m\u001b[38;5;241;43m.\u001b[39;49m\u001b[43mhttps_token\u001b[49m\u001b[43m)\u001b[49m)\n\u001b[0;32m     16\u001b[0m     \u001b[38;5;28;01mfor\u001b[39;00m ind,core \u001b[38;5;129;01min\u001b[39;00m df\u001b[38;5;241m.\u001b[39miterrows():\n\u001b[0;32m     18\u001b[0m         core_im \u001b[38;5;241m=\u001b[39m im[core\u001b[38;5;241m.\u001b[39mrow_start:core\u001b[38;5;241m.\u001b[39mrow_stop,core\u001b[38;5;241m.\u001b[39mcolumn_start:core\u001b[38;5;241m.\u001b[39mcolumn_stop]\n",
      "File \u001b[1;32mD:\\multiplex_pipeline\\src\\multiplex_pipeline\\globus_utils.py:96\u001b[0m, in \u001b[0;36mget_with_globus_https\u001b[1;34m(file_path, https_server, https_token)\u001b[0m\n\u001b[0;32m     89\u001b[0m headers \u001b[38;5;241m=\u001b[39m {\n\u001b[0;32m     90\u001b[0m \u001b[38;5;124m'\u001b[39m\u001b[38;5;124mAuthorization\u001b[39m\u001b[38;5;124m'\u001b[39m: \u001b[38;5;124mf\u001b[39m\u001b[38;5;124m'\u001b[39m\u001b[38;5;124mBearer \u001b[39m\u001b[38;5;132;01m{\u001b[39;00mhttps_token\u001b[38;5;132;01m}\u001b[39;00m\u001b[38;5;124m'\u001b[39m,\n\u001b[0;32m     91\u001b[0m \u001b[38;5;124m'\u001b[39m\u001b[38;5;124mAccept\u001b[39m\u001b[38;5;124m'\u001b[39m: \u001b[38;5;124m'\u001b[39m\u001b[38;5;124mapplication/octet-stream\u001b[39m\u001b[38;5;124m'\u001b[39m\n\u001b[0;32m     92\u001b[0m }\n\u001b[0;32m     94\u001b[0m https_url \u001b[38;5;241m=\u001b[39m \u001b[38;5;124mf\u001b[39m\u001b[38;5;124m\"\u001b[39m\u001b[38;5;132;01m{\u001b[39;00mhttps_server\u001b[38;5;132;01m}\u001b[39;00m\u001b[38;5;132;01m{\u001b[39;00mfile_path\u001b[38;5;132;01m}\u001b[39;00m\u001b[38;5;124m\"\u001b[39m\n\u001b[1;32m---> 96\u001b[0m response \u001b[38;5;241m=\u001b[39m \u001b[43mrequests\u001b[49m\u001b[38;5;241;43m.\u001b[39;49m\u001b[43mget\u001b[49m\u001b[43m(\u001b[49m\u001b[43mhttps_url\u001b[49m\u001b[43m,\u001b[49m\u001b[43m \u001b[49m\u001b[43mheaders\u001b[49m\u001b[38;5;241;43m=\u001b[39;49m\u001b[43mheaders\u001b[49m\u001b[43m,\u001b[49m\u001b[43m \u001b[49m\u001b[43mallow_redirects\u001b[49m\u001b[38;5;241;43m=\u001b[39;49m\u001b[38;5;28;43;01mTrue\u001b[39;49;00m\u001b[43m)\u001b[49m\n\u001b[0;32m     97\u001b[0m response\u001b[38;5;241m.\u001b[39mraise_for_status()  \u001b[38;5;66;03m# Ensure the request was successful\u001b[39;00m\n\u001b[0;32m     99\u001b[0m \u001b[38;5;28;01mreturn\u001b[39;00m BytesIO(response\u001b[38;5;241m.\u001b[39mcontent)\n",
      "File \u001b[1;32mc:\\Users\\KMK280\\AppData\\Local\\anaconda3\\envs\\cellpose-env\\lib\\site-packages\\requests\\api.py:73\u001b[0m, in \u001b[0;36mget\u001b[1;34m(url, params, **kwargs)\u001b[0m\n\u001b[0;32m     62\u001b[0m \u001b[38;5;28;01mdef\u001b[39;00m \u001b[38;5;21mget\u001b[39m(url, params\u001b[38;5;241m=\u001b[39m\u001b[38;5;28;01mNone\u001b[39;00m, \u001b[38;5;241m*\u001b[39m\u001b[38;5;241m*\u001b[39mkwargs):\n\u001b[0;32m     63\u001b[0m \u001b[38;5;250m    \u001b[39m\u001b[38;5;124mr\u001b[39m\u001b[38;5;124;03m\"\"\"Sends a GET request.\u001b[39;00m\n\u001b[0;32m     64\u001b[0m \n\u001b[0;32m     65\u001b[0m \u001b[38;5;124;03m    :param url: URL for the new :class:`Request` object.\u001b[39;00m\n\u001b[1;32m   (...)\u001b[0m\n\u001b[0;32m     70\u001b[0m \u001b[38;5;124;03m    :rtype: requests.Response\u001b[39;00m\n\u001b[0;32m     71\u001b[0m \u001b[38;5;124;03m    \"\"\"\u001b[39;00m\n\u001b[1;32m---> 73\u001b[0m     \u001b[38;5;28;01mreturn\u001b[39;00m request(\u001b[38;5;124m\"\u001b[39m\u001b[38;5;124mget\u001b[39m\u001b[38;5;124m\"\u001b[39m, url, params\u001b[38;5;241m=\u001b[39mparams, \u001b[38;5;241m*\u001b[39m\u001b[38;5;241m*\u001b[39mkwargs)\n",
      "File \u001b[1;32mc:\\Users\\KMK280\\AppData\\Local\\anaconda3\\envs\\cellpose-env\\lib\\site-packages\\requests\\api.py:59\u001b[0m, in \u001b[0;36mrequest\u001b[1;34m(method, url, **kwargs)\u001b[0m\n\u001b[0;32m     55\u001b[0m \u001b[38;5;66;03m# By using the 'with' statement we are sure the session is closed, thus we\u001b[39;00m\n\u001b[0;32m     56\u001b[0m \u001b[38;5;66;03m# avoid leaving sockets open which can trigger a ResourceWarning in some\u001b[39;00m\n\u001b[0;32m     57\u001b[0m \u001b[38;5;66;03m# cases, and look like a memory leak in others.\u001b[39;00m\n\u001b[0;32m     58\u001b[0m \u001b[38;5;28;01mwith\u001b[39;00m sessions\u001b[38;5;241m.\u001b[39mSession() \u001b[38;5;28;01mas\u001b[39;00m session:\n\u001b[1;32m---> 59\u001b[0m     \u001b[38;5;28;01mreturn\u001b[39;00m session\u001b[38;5;241m.\u001b[39mrequest(method\u001b[38;5;241m=\u001b[39mmethod, url\u001b[38;5;241m=\u001b[39murl, \u001b[38;5;241m*\u001b[39m\u001b[38;5;241m*\u001b[39mkwargs)\n",
      "File \u001b[1;32mc:\\Users\\KMK280\\AppData\\Local\\anaconda3\\envs\\cellpose-env\\lib\\site-packages\\requests\\sessions.py:589\u001b[0m, in \u001b[0;36mSession.request\u001b[1;34m(self, method, url, params, data, headers, cookies, files, auth, timeout, allow_redirects, proxies, hooks, stream, verify, cert, json)\u001b[0m\n\u001b[0;32m    584\u001b[0m send_kwargs \u001b[38;5;241m=\u001b[39m {\n\u001b[0;32m    585\u001b[0m     \u001b[38;5;124m\"\u001b[39m\u001b[38;5;124mtimeout\u001b[39m\u001b[38;5;124m\"\u001b[39m: timeout,\n\u001b[0;32m    586\u001b[0m     \u001b[38;5;124m\"\u001b[39m\u001b[38;5;124mallow_redirects\u001b[39m\u001b[38;5;124m\"\u001b[39m: allow_redirects,\n\u001b[0;32m    587\u001b[0m }\n\u001b[0;32m    588\u001b[0m send_kwargs\u001b[38;5;241m.\u001b[39mupdate(settings)\n\u001b[1;32m--> 589\u001b[0m resp \u001b[38;5;241m=\u001b[39m \u001b[38;5;28mself\u001b[39m\u001b[38;5;241m.\u001b[39msend(prep, \u001b[38;5;241m*\u001b[39m\u001b[38;5;241m*\u001b[39msend_kwargs)\n\u001b[0;32m    591\u001b[0m \u001b[38;5;28;01mreturn\u001b[39;00m resp\n",
      "File \u001b[1;32mc:\\Users\\KMK280\\AppData\\Local\\anaconda3\\envs\\cellpose-env\\lib\\site-packages\\requests\\sessions.py:746\u001b[0m, in \u001b[0;36mSession.send\u001b[1;34m(self, request, **kwargs)\u001b[0m\n\u001b[0;32m    743\u001b[0m         \u001b[38;5;28;01mpass\u001b[39;00m\n\u001b[0;32m    745\u001b[0m \u001b[38;5;28;01mif\u001b[39;00m \u001b[38;5;129;01mnot\u001b[39;00m stream:\n\u001b[1;32m--> 746\u001b[0m     \u001b[43mr\u001b[49m\u001b[38;5;241;43m.\u001b[39;49m\u001b[43mcontent\u001b[49m\n\u001b[0;32m    748\u001b[0m \u001b[38;5;28;01mreturn\u001b[39;00m r\n",
      "File \u001b[1;32mc:\\Users\\KMK280\\AppData\\Local\\anaconda3\\envs\\cellpose-env\\lib\\site-packages\\requests\\models.py:902\u001b[0m, in \u001b[0;36mResponse.content\u001b[1;34m(self)\u001b[0m\n\u001b[0;32m    900\u001b[0m         \u001b[38;5;28mself\u001b[39m\u001b[38;5;241m.\u001b[39m_content \u001b[38;5;241m=\u001b[39m \u001b[38;5;28;01mNone\u001b[39;00m\n\u001b[0;32m    901\u001b[0m     \u001b[38;5;28;01melse\u001b[39;00m:\n\u001b[1;32m--> 902\u001b[0m         \u001b[38;5;28mself\u001b[39m\u001b[38;5;241m.\u001b[39m_content \u001b[38;5;241m=\u001b[39m \u001b[38;5;124;43mb\u001b[39;49m\u001b[38;5;124;43m\"\u001b[39;49m\u001b[38;5;124;43m\"\u001b[39;49m\u001b[38;5;241;43m.\u001b[39;49m\u001b[43mjoin\u001b[49m\u001b[43m(\u001b[49m\u001b[38;5;28;43mself\u001b[39;49m\u001b[38;5;241;43m.\u001b[39;49m\u001b[43miter_content\u001b[49m\u001b[43m(\u001b[49m\u001b[43mCONTENT_CHUNK_SIZE\u001b[49m\u001b[43m)\u001b[49m\u001b[43m)\u001b[49m \u001b[38;5;129;01mor\u001b[39;00m \u001b[38;5;124mb\u001b[39m\u001b[38;5;124m\"\u001b[39m\u001b[38;5;124m\"\u001b[39m\n\u001b[0;32m    904\u001b[0m \u001b[38;5;28mself\u001b[39m\u001b[38;5;241m.\u001b[39m_content_consumed \u001b[38;5;241m=\u001b[39m \u001b[38;5;28;01mTrue\u001b[39;00m\n\u001b[0;32m    905\u001b[0m \u001b[38;5;66;03m# don't need to release the connection; that's been handled by urllib3\u001b[39;00m\n\u001b[0;32m    906\u001b[0m \u001b[38;5;66;03m# since we exhausted the data.\u001b[39;00m\n",
      "File \u001b[1;32mc:\\Users\\KMK280\\AppData\\Local\\anaconda3\\envs\\cellpose-env\\lib\\site-packages\\requests\\models.py:820\u001b[0m, in \u001b[0;36mResponse.iter_content.<locals>.generate\u001b[1;34m()\u001b[0m\n\u001b[0;32m    818\u001b[0m \u001b[38;5;28;01mif\u001b[39;00m \u001b[38;5;28mhasattr\u001b[39m(\u001b[38;5;28mself\u001b[39m\u001b[38;5;241m.\u001b[39mraw, \u001b[38;5;124m\"\u001b[39m\u001b[38;5;124mstream\u001b[39m\u001b[38;5;124m\"\u001b[39m):\n\u001b[0;32m    819\u001b[0m     \u001b[38;5;28;01mtry\u001b[39;00m:\n\u001b[1;32m--> 820\u001b[0m         \u001b[38;5;28;01myield from\u001b[39;00m \u001b[38;5;28mself\u001b[39m\u001b[38;5;241m.\u001b[39mraw\u001b[38;5;241m.\u001b[39mstream(chunk_size, decode_content\u001b[38;5;241m=\u001b[39m\u001b[38;5;28;01mTrue\u001b[39;00m)\n\u001b[0;32m    821\u001b[0m     \u001b[38;5;28;01mexcept\u001b[39;00m ProtocolError \u001b[38;5;28;01mas\u001b[39;00m e:\n\u001b[0;32m    822\u001b[0m         \u001b[38;5;28;01mraise\u001b[39;00m ChunkedEncodingError(e)\n",
      "File \u001b[1;32mc:\\Users\\KMK280\\AppData\\Local\\anaconda3\\envs\\cellpose-env\\lib\\site-packages\\urllib3\\response.py:1057\u001b[0m, in \u001b[0;36mHTTPResponse.stream\u001b[1;34m(self, amt, decode_content)\u001b[0m\n\u001b[0;32m   1041\u001b[0m \u001b[38;5;250m\u001b[39m\u001b[38;5;124;03m\"\"\"\u001b[39;00m\n\u001b[0;32m   1042\u001b[0m \u001b[38;5;124;03mA generator wrapper for the read() method. A call will block until\u001b[39;00m\n\u001b[0;32m   1043\u001b[0m \u001b[38;5;124;03m``amt`` bytes have been read from the connection or until the\u001b[39;00m\n\u001b[1;32m   (...)\u001b[0m\n\u001b[0;32m   1054\u001b[0m \u001b[38;5;124;03m    'content-encoding' header.\u001b[39;00m\n\u001b[0;32m   1055\u001b[0m \u001b[38;5;124;03m\"\"\"\u001b[39;00m\n\u001b[0;32m   1056\u001b[0m \u001b[38;5;28;01mif\u001b[39;00m \u001b[38;5;28mself\u001b[39m\u001b[38;5;241m.\u001b[39mchunked \u001b[38;5;129;01mand\u001b[39;00m \u001b[38;5;28mself\u001b[39m\u001b[38;5;241m.\u001b[39msupports_chunked_reads():\n\u001b[1;32m-> 1057\u001b[0m     \u001b[38;5;28;01myield from\u001b[39;00m \u001b[38;5;28mself\u001b[39m\u001b[38;5;241m.\u001b[39mread_chunked(amt, decode_content\u001b[38;5;241m=\u001b[39mdecode_content)\n\u001b[0;32m   1058\u001b[0m \u001b[38;5;28;01melse\u001b[39;00m:\n\u001b[0;32m   1059\u001b[0m     \u001b[38;5;28;01mwhile\u001b[39;00m \u001b[38;5;129;01mnot\u001b[39;00m is_fp_closed(\u001b[38;5;28mself\u001b[39m\u001b[38;5;241m.\u001b[39m_fp) \u001b[38;5;129;01mor\u001b[39;00m \u001b[38;5;28mlen\u001b[39m(\u001b[38;5;28mself\u001b[39m\u001b[38;5;241m.\u001b[39m_decoded_buffer) \u001b[38;5;241m>\u001b[39m \u001b[38;5;241m0\u001b[39m:\n",
      "File \u001b[1;32mc:\\Users\\KMK280\\AppData\\Local\\anaconda3\\envs\\cellpose-env\\lib\\site-packages\\urllib3\\response.py:1209\u001b[0m, in \u001b[0;36mHTTPResponse.read_chunked\u001b[1;34m(self, amt, decode_content)\u001b[0m\n\u001b[0;32m   1207\u001b[0m \u001b[38;5;28;01mif\u001b[39;00m \u001b[38;5;28mself\u001b[39m\u001b[38;5;241m.\u001b[39mchunk_left \u001b[38;5;241m==\u001b[39m \u001b[38;5;241m0\u001b[39m:\n\u001b[0;32m   1208\u001b[0m     \u001b[38;5;28;01mbreak\u001b[39;00m\n\u001b[1;32m-> 1209\u001b[0m chunk \u001b[38;5;241m=\u001b[39m \u001b[38;5;28;43mself\u001b[39;49m\u001b[38;5;241;43m.\u001b[39;49m\u001b[43m_handle_chunk\u001b[49m\u001b[43m(\u001b[49m\u001b[43mamt\u001b[49m\u001b[43m)\u001b[49m\n\u001b[0;32m   1210\u001b[0m decoded \u001b[38;5;241m=\u001b[39m \u001b[38;5;28mself\u001b[39m\u001b[38;5;241m.\u001b[39m_decode(\n\u001b[0;32m   1211\u001b[0m     chunk, decode_content\u001b[38;5;241m=\u001b[39mdecode_content, flush_decoder\u001b[38;5;241m=\u001b[39m\u001b[38;5;28;01mFalse\u001b[39;00m\n\u001b[0;32m   1212\u001b[0m )\n\u001b[0;32m   1213\u001b[0m \u001b[38;5;28;01mif\u001b[39;00m decoded:\n",
      "File \u001b[1;32mc:\\Users\\KMK280\\AppData\\Local\\anaconda3\\envs\\cellpose-env\\lib\\site-packages\\urllib3\\response.py:1155\u001b[0m, in \u001b[0;36mHTTPResponse._handle_chunk\u001b[1;34m(self, amt)\u001b[0m\n\u001b[0;32m   1153\u001b[0m     returned_chunk \u001b[38;5;241m=\u001b[39m value\n\u001b[0;32m   1154\u001b[0m \u001b[38;5;28;01melse\u001b[39;00m:  \u001b[38;5;66;03m# amt > self.chunk_left\u001b[39;00m\n\u001b[1;32m-> 1155\u001b[0m     returned_chunk \u001b[38;5;241m=\u001b[39m \u001b[38;5;28;43mself\u001b[39;49m\u001b[38;5;241;43m.\u001b[39;49m\u001b[43m_fp\u001b[49m\u001b[38;5;241;43m.\u001b[39;49m\u001b[43m_safe_read\u001b[49m\u001b[43m(\u001b[49m\u001b[38;5;28;43mself\u001b[39;49m\u001b[38;5;241;43m.\u001b[39;49m\u001b[43mchunk_left\u001b[49m\u001b[43m)\u001b[49m  \u001b[38;5;66;03m# type: ignore[union-attr]\u001b[39;00m\n\u001b[0;32m   1156\u001b[0m     \u001b[38;5;28mself\u001b[39m\u001b[38;5;241m.\u001b[39m_fp\u001b[38;5;241m.\u001b[39m_safe_read(\u001b[38;5;241m2\u001b[39m)  \u001b[38;5;66;03m# type: ignore[union-attr] # Toss the CRLF at the end of the chunk.\u001b[39;00m\n\u001b[0;32m   1157\u001b[0m     \u001b[38;5;28mself\u001b[39m\u001b[38;5;241m.\u001b[39mchunk_left \u001b[38;5;241m=\u001b[39m \u001b[38;5;28;01mNone\u001b[39;00m\n",
      "File \u001b[1;32mc:\\Users\\KMK280\\AppData\\Local\\anaconda3\\envs\\cellpose-env\\lib\\http\\client.py:631\u001b[0m, in \u001b[0;36mHTTPResponse._safe_read\u001b[1;34m(self, amt)\u001b[0m\n\u001b[0;32m    624\u001b[0m \u001b[38;5;28;01mdef\u001b[39;00m \u001b[38;5;21m_safe_read\u001b[39m(\u001b[38;5;28mself\u001b[39m, amt):\n\u001b[0;32m    625\u001b[0m \u001b[38;5;250m    \u001b[39m\u001b[38;5;124;03m\"\"\"Read the number of bytes requested.\u001b[39;00m\n\u001b[0;32m    626\u001b[0m \n\u001b[0;32m    627\u001b[0m \u001b[38;5;124;03m    This function should be used when <amt> bytes \"should\" be present for\u001b[39;00m\n\u001b[0;32m    628\u001b[0m \u001b[38;5;124;03m    reading. If the bytes are truly not available (due to EOF), then the\u001b[39;00m\n\u001b[0;32m    629\u001b[0m \u001b[38;5;124;03m    IncompleteRead exception can be used to detect the problem.\u001b[39;00m\n\u001b[0;32m    630\u001b[0m \u001b[38;5;124;03m    \"\"\"\u001b[39;00m\n\u001b[1;32m--> 631\u001b[0m     data \u001b[38;5;241m=\u001b[39m \u001b[38;5;28;43mself\u001b[39;49m\u001b[38;5;241;43m.\u001b[39;49m\u001b[43mfp\u001b[49m\u001b[38;5;241;43m.\u001b[39;49m\u001b[43mread\u001b[49m\u001b[43m(\u001b[49m\u001b[43mamt\u001b[49m\u001b[43m)\u001b[49m\n\u001b[0;32m    632\u001b[0m     \u001b[38;5;28;01mif\u001b[39;00m \u001b[38;5;28mlen\u001b[39m(data) \u001b[38;5;241m<\u001b[39m amt:\n\u001b[0;32m    633\u001b[0m         \u001b[38;5;28;01mraise\u001b[39;00m IncompleteRead(data, amt\u001b[38;5;241m-\u001b[39m\u001b[38;5;28mlen\u001b[39m(data))\n",
      "File \u001b[1;32mc:\\Users\\KMK280\\AppData\\Local\\anaconda3\\envs\\cellpose-env\\lib\\socket.py:705\u001b[0m, in \u001b[0;36mSocketIO.readinto\u001b[1;34m(self, b)\u001b[0m\n\u001b[0;32m    703\u001b[0m \u001b[38;5;28;01mwhile\u001b[39;00m \u001b[38;5;28;01mTrue\u001b[39;00m:\n\u001b[0;32m    704\u001b[0m     \u001b[38;5;28;01mtry\u001b[39;00m:\n\u001b[1;32m--> 705\u001b[0m         \u001b[38;5;28;01mreturn\u001b[39;00m \u001b[38;5;28;43mself\u001b[39;49m\u001b[38;5;241;43m.\u001b[39;49m\u001b[43m_sock\u001b[49m\u001b[38;5;241;43m.\u001b[39;49m\u001b[43mrecv_into\u001b[49m\u001b[43m(\u001b[49m\u001b[43mb\u001b[49m\u001b[43m)\u001b[49m\n\u001b[0;32m    706\u001b[0m     \u001b[38;5;28;01mexcept\u001b[39;00m timeout:\n\u001b[0;32m    707\u001b[0m         \u001b[38;5;28mself\u001b[39m\u001b[38;5;241m.\u001b[39m_timeout_occurred \u001b[38;5;241m=\u001b[39m \u001b[38;5;28;01mTrue\u001b[39;00m\n",
      "File \u001b[1;32mc:\\Users\\KMK280\\AppData\\Local\\anaconda3\\envs\\cellpose-env\\lib\\ssl.py:1307\u001b[0m, in \u001b[0;36mSSLSocket.recv_into\u001b[1;34m(self, buffer, nbytes, flags)\u001b[0m\n\u001b[0;32m   1303\u001b[0m     \u001b[38;5;28;01mif\u001b[39;00m flags \u001b[38;5;241m!=\u001b[39m \u001b[38;5;241m0\u001b[39m:\n\u001b[0;32m   1304\u001b[0m         \u001b[38;5;28;01mraise\u001b[39;00m \u001b[38;5;167;01mValueError\u001b[39;00m(\n\u001b[0;32m   1305\u001b[0m           \u001b[38;5;124m\"\u001b[39m\u001b[38;5;124mnon-zero flags not allowed in calls to recv_into() on \u001b[39m\u001b[38;5;132;01m%s\u001b[39;00m\u001b[38;5;124m\"\u001b[39m \u001b[38;5;241m%\u001b[39m\n\u001b[0;32m   1306\u001b[0m           \u001b[38;5;28mself\u001b[39m\u001b[38;5;241m.\u001b[39m\u001b[38;5;18m__class__\u001b[39m)\n\u001b[1;32m-> 1307\u001b[0m     \u001b[38;5;28;01mreturn\u001b[39;00m \u001b[38;5;28;43mself\u001b[39;49m\u001b[38;5;241;43m.\u001b[39;49m\u001b[43mread\u001b[49m\u001b[43m(\u001b[49m\u001b[43mnbytes\u001b[49m\u001b[43m,\u001b[49m\u001b[43m \u001b[49m\u001b[43mbuffer\u001b[49m\u001b[43m)\u001b[49m\n\u001b[0;32m   1308\u001b[0m \u001b[38;5;28;01melse\u001b[39;00m:\n\u001b[0;32m   1309\u001b[0m     \u001b[38;5;28;01mreturn\u001b[39;00m \u001b[38;5;28msuper\u001b[39m()\u001b[38;5;241m.\u001b[39mrecv_into(buffer, nbytes, flags)\n",
      "File \u001b[1;32mc:\\Users\\KMK280\\AppData\\Local\\anaconda3\\envs\\cellpose-env\\lib\\ssl.py:1163\u001b[0m, in \u001b[0;36mSSLSocket.read\u001b[1;34m(self, len, buffer)\u001b[0m\n\u001b[0;32m   1161\u001b[0m \u001b[38;5;28;01mtry\u001b[39;00m:\n\u001b[0;32m   1162\u001b[0m     \u001b[38;5;28;01mif\u001b[39;00m buffer \u001b[38;5;129;01mis\u001b[39;00m \u001b[38;5;129;01mnot\u001b[39;00m \u001b[38;5;28;01mNone\u001b[39;00m:\n\u001b[1;32m-> 1163\u001b[0m         \u001b[38;5;28;01mreturn\u001b[39;00m \u001b[38;5;28;43mself\u001b[39;49m\u001b[38;5;241;43m.\u001b[39;49m\u001b[43m_sslobj\u001b[49m\u001b[38;5;241;43m.\u001b[39;49m\u001b[43mread\u001b[49m\u001b[43m(\u001b[49m\u001b[38;5;28;43mlen\u001b[39;49m\u001b[43m,\u001b[49m\u001b[43m \u001b[49m\u001b[43mbuffer\u001b[49m\u001b[43m)\u001b[49m\n\u001b[0;32m   1164\u001b[0m     \u001b[38;5;28;01melse\u001b[39;00m:\n\u001b[0;32m   1165\u001b[0m         \u001b[38;5;28;01mreturn\u001b[39;00m \u001b[38;5;28mself\u001b[39m\u001b[38;5;241m.\u001b[39m_sslobj\u001b[38;5;241m.\u001b[39mread(\u001b[38;5;28mlen\u001b[39m)\n",
      "\u001b[1;31mKeyboardInterrupt\u001b[0m: "
     ]
    }
   ],
   "source": [
    "# keep only the selected cores\n",
    "if selection_list:\n",
    "    df = df[df['core_id'].isin(selection_list[0])]\n",
    "\n",
    "\n",
    "# get the list of images\n",
    "im_list = [x['name'] for x in tc.operation_ls(gc.source_collection_id, path=input_dir) if ('.ome.tif' in x['name'] and '.0.4_R' in x['name'])]\n",
    "\n",
    "mask_dict = {}\n",
    "pending_transfers = []\n",
    "\n",
    "for im_name in im_list:\n",
    "    print(im_name)\n",
    "    im = imread(get_with_globus_https(input_dir+'/'+im_name, gc.https_server, gc.https_token))\n",
    "\n",
    "    for ind,core in df.iterrows():\n",
    "\n",
    "        core_im = im[core.row_start:core.row_stop,core.column_start:core.column_stop]\n",
    "\n",
    "        if core.poly_type != 'rectangle':\n",
    "\n",
    "            mask = mask_dict.get(core.core_name)\n",
    "\n",
    "            if mask is None:\n",
    "\n",
    "                mask = np.zeros_like(core_im, dtype=bool)\n",
    "                r, c = polygon(core.polygon_vertices[:, 1], core.polygon_vertices[:, 0], mask.shape)\n",
    "\n",
    "                mask[r, c] = True\n",
    "\n",
    "                mask_dict[core.core_name] = mask\n",
    "\n",
    "            core_im[~mask] = 0\n",
    "\n",
    "        # save the core to a temporary location\n",
    "        core_name = im_name.replace('.ome.tif',f'_{core.core_name}.ome.tif')\n",
    "        save_temp_path = os.path.join(temp_dir,core.core_name,core_name)\n",
    "        os.makedirs(os.path.dirname(save_temp_path), exist_ok=True)\n",
    "        imwrite(save_temp_path,core_im)\n",
    "\n",
    "        # transfer the core to the output location\n",
    "        task_data = globus_sdk.TransferData(\n",
    "            source_endpoint=gc.destination_collection_id,\n",
    "            destination_endpoint=gc.source_collection_id,\n",
    "            notify_on_succeeded=False,  # Disable email on success\n",
    "            notify_on_failed=True,      # Enable email on failure\n",
    "            notify_on_inactive=False    # Disable email on inactivity\n",
    "        )\n",
    "\n",
    "        task_data.add_item(\n",
    "            save_temp_path.replace('D:','/~/D').replace('\\\\','/'),\n",
    "            output_dir+'/'+core.core_name+'/'+core_name)\n",
    "\n",
    "        task_doc = tc.submit_transfer(task_data)\n",
    "        task_id = task_doc[\"task_id\"]\n",
    "        l = logger.info(f\"Submitted transfer task {task_id} for {im_name}.\")\n",
    "\n",
    "        # collect submitted transfer\n",
    "        pending_transfers.append((task_id, Path(save_temp_path)))"
   ]
  },
  {
   "cell_type": "code",
   "execution_count": 9,
   "metadata": {},
   "outputs": [],
   "source": [
    "def check_transfers(pending_transfers) -> bool:\n",
    "    \"\"\"Check status of pending transfers and clean up completed ones.\"\"\"\n",
    "    still_pending = []\n",
    "    all_completed = True\n",
    "\n",
    "    for task_id, temp_path in pending_transfers:\n",
    "        task = tc.get_task(task_id)\n",
    "\n",
    "        if task[\"status\"] == \"SUCCEEDED\":\n",
    "            logger.info(f\"Transfer {task_id} completed successfully\")\n",
    "            if temp_path.exists():\n",
    "                temp_path.unlink()\n",
    "                logger.debug(f\"Cleaned up temporary file: {temp_path}\")\n",
    "        elif task[\"status\"] == \"FAILED\":\n",
    "            logger.error(f\"Transfer {task_id} failed: {task.get('nice_status_details')}\")\n",
    "            all_completed = False\n",
    "            still_pending.append((task_id, temp_path))\n",
    "        else:\n",
    "            all_completed = False\n",
    "            still_pending.append((task_id, temp_path))\n",
    "\n",
    "    pending_transfers = still_pending\n",
    "    return all_completed"
   ]
  },
  {
   "cell_type": "code",
   "execution_count": 10,
   "metadata": {},
   "outputs": [
    {
     "name": "stderr",
     "output_type": "stream",
     "text": [
      "\u001b[32m2025-01-20 14:09:17.138\u001b[0m | \u001b[1mINFO    \u001b[0m | \u001b[36m__main__\u001b[0m:\u001b[36mcheck_transfers\u001b[0m:\u001b[36m10\u001b[0m - \u001b[1mTransfer fbd02b92-d761-11ef-a413-a3a97d3f63df completed successfully\u001b[0m\n",
      "\u001b[32m2025-01-20 14:09:17.152\u001b[0m | \u001b[34m\u001b[1mDEBUG   \u001b[0m | \u001b[36m__main__\u001b[0m:\u001b[36mcheck_transfers\u001b[0m:\u001b[36m13\u001b[0m - \u001b[34m\u001b[1mCleaned up temporary file: D:\\temp_storage\\Core_000\\BLCA-6_1.0.4_R000_Cy3_pH2AX-AF555_FINAL_AFR_F_Core_000.ome.tif\u001b[0m\n",
      "\u001b[32m2025-01-20 14:09:17.178\u001b[0m | \u001b[1mINFO    \u001b[0m | \u001b[36m__main__\u001b[0m:\u001b[36mcheck_transfers\u001b[0m:\u001b[36m10\u001b[0m - \u001b[1mTransfer fc60bb1c-d761-11ef-a413-a3a97d3f63df completed successfully\u001b[0m\n"
     ]
    },
    {
     "name": "stderr",
     "output_type": "stream",
     "text": [
      "\u001b[32m2025-01-20 14:09:17.214\u001b[0m | \u001b[34m\u001b[1mDEBUG   \u001b[0m | \u001b[36m__main__\u001b[0m:\u001b[36mcheck_transfers\u001b[0m:\u001b[36m13\u001b[0m - \u001b[34m\u001b[1mCleaned up temporary file: D:\\temp_storage\\Core_001\\BLCA-6_1.0.4_R000_Cy3_pH2AX-AF555_FINAL_AFR_F_Core_001.ome.tif\u001b[0m\n",
      "\u001b[32m2025-01-20 14:09:17.244\u001b[0m | \u001b[1mINFO    \u001b[0m | \u001b[36m__main__\u001b[0m:\u001b[36mcheck_transfers\u001b[0m:\u001b[36m10\u001b[0m - \u001b[1mTransfer fcdf82da-d761-11ef-a413-a3a97d3f63df completed successfully\u001b[0m\n",
      "\u001b[32m2025-01-20 14:09:17.258\u001b[0m | \u001b[34m\u001b[1mDEBUG   \u001b[0m | \u001b[36m__main__\u001b[0m:\u001b[36mcheck_transfers\u001b[0m:\u001b[36m13\u001b[0m - \u001b[34m\u001b[1mCleaned up temporary file: D:\\temp_storage\\Core_002\\BLCA-6_1.0.4_R000_Cy3_pH2AX-AF555_FINAL_AFR_F_Core_002.ome.tif\u001b[0m\n",
      "\u001b[32m2025-01-20 14:09:17.282\u001b[0m | \u001b[1mINFO    \u001b[0m | \u001b[36m__main__\u001b[0m:\u001b[36mcheck_transfers\u001b[0m:\u001b[36m10\u001b[0m - \u001b[1mTransfer fd4da846-d761-11ef-a413-a3a97d3f63df completed successfully\u001b[0m\n",
      "\u001b[32m2025-01-20 14:09:17.293\u001b[0m | \u001b[34m\u001b[1mDEBUG   \u001b[0m | \u001b[36m__main__\u001b[0m:\u001b[36mcheck_transfers\u001b[0m:\u001b[36m13\u001b[0m - \u001b[34m\u001b[1mCleaned up temporary file: D:\\temp_storage\\Core_003\\BLCA-6_1.0.4_R000_Cy3_pH2AX-AF555_FINAL_AFR_F_Core_003.ome.tif\u001b[0m\n",
      "\u001b[32m2025-01-20 14:09:17.315\u001b[0m | \u001b[1mINFO    \u001b[0m | \u001b[36m__main__\u001b[0m:\u001b[36mcheck_transfers\u001b[0m:\u001b[36m10\u001b[0m - \u001b[1mTransfer fdb4695a-d761-11ef-a413-a3a97d3f63df completed successfully\u001b[0m\n",
      "\u001b[32m2025-01-20 14:09:17.333\u001b[0m | \u001b[34m\u001b[1mDEBUG   \u001b[0m | \u001b[36m__main__\u001b[0m:\u001b[36mcheck_transfers\u001b[0m:\u001b[36m13\u001b[0m - \u001b[34m\u001b[1mCleaned up temporary file: D:\\temp_storage\\Core_004\\BLCA-6_1.0.4_R000_Cy3_pH2AX-AF555_FINAL_AFR_F_Core_004.ome.tif\u001b[0m\n",
      "\u001b[32m2025-01-20 14:09:17.363\u001b[0m | \u001b[1mINFO    \u001b[0m | \u001b[36m__main__\u001b[0m:\u001b[36mcheck_transfers\u001b[0m:\u001b[36m10\u001b[0m - \u001b[1mTransfer fdff4b64-d761-11ef-a413-a3a97d3f63df completed successfully\u001b[0m\n",
      "\u001b[32m2025-01-20 14:09:17.380\u001b[0m | \u001b[34m\u001b[1mDEBUG   \u001b[0m | \u001b[36m__main__\u001b[0m:\u001b[36mcheck_transfers\u001b[0m:\u001b[36m13\u001b[0m - \u001b[34m\u001b[1mCleaned up temporary file: D:\\temp_storage\\Core_005\\BLCA-6_1.0.4_R000_Cy3_pH2AX-AF555_FINAL_AFR_F_Core_005.ome.tif\u001b[0m\n",
      "\u001b[32m2025-01-20 14:09:17.407\u001b[0m | \u001b[1mINFO    \u001b[0m | \u001b[36m__main__\u001b[0m:\u001b[36mcheck_transfers\u001b[0m:\u001b[36m10\u001b[0m - \u001b[1mTransfer fe235e15-d761-11ef-a413-a3a97d3f63df completed successfully\u001b[0m\n",
      "\u001b[32m2025-01-20 14:09:17.421\u001b[0m | \u001b[34m\u001b[1mDEBUG   \u001b[0m | \u001b[36m__main__\u001b[0m:\u001b[36mcheck_transfers\u001b[0m:\u001b[36m13\u001b[0m - \u001b[34m\u001b[1mCleaned up temporary file: D:\\temp_storage\\Core_006\\BLCA-6_1.0.4_R000_Cy3_pH2AX-AF555_FINAL_AFR_F_Core_006.ome.tif\u001b[0m\n",
      "\u001b[32m2025-01-20 14:09:17.446\u001b[0m | \u001b[1mINFO    \u001b[0m | \u001b[36m__main__\u001b[0m:\u001b[36mcheck_transfers\u001b[0m:\u001b[36m10\u001b[0m - \u001b[1mTransfer fdd37747-d761-11ef-a413-a3a97d3f63df completed successfully\u001b[0m\n",
      "\u001b[32m2025-01-20 14:09:17.462\u001b[0m | \u001b[34m\u001b[1mDEBUG   \u001b[0m | \u001b[36m__main__\u001b[0m:\u001b[36mcheck_transfers\u001b[0m:\u001b[36m13\u001b[0m - \u001b[34m\u001b[1mCleaned up temporary file: D:\\temp_storage\\Core_007\\BLCA-6_1.0.4_R000_Cy3_pH2AX-AF555_FINAL_AFR_F_Core_007.ome.tif\u001b[0m\n",
      "\u001b[32m2025-01-20 14:09:17.486\u001b[0m | \u001b[1mINFO    \u001b[0m | \u001b[36m__main__\u001b[0m:\u001b[36mcheck_transfers\u001b[0m:\u001b[36m10\u001b[0m - \u001b[1mTransfer ff371228-d761-11ef-a413-a3a97d3f63df completed successfully\u001b[0m\n",
      "\u001b[32m2025-01-20 14:09:17.500\u001b[0m | \u001b[34m\u001b[1mDEBUG   \u001b[0m | \u001b[36m__main__\u001b[0m:\u001b[36mcheck_transfers\u001b[0m:\u001b[36m13\u001b[0m - \u001b[34m\u001b[1mCleaned up temporary file: D:\\temp_storage\\Core_008\\BLCA-6_1.0.4_R000_Cy3_pH2AX-AF555_FINAL_AFR_F_Core_008.ome.tif\u001b[0m\n",
      "\u001b[32m2025-01-20 14:09:17.521\u001b[0m | \u001b[1mINFO    \u001b[0m | \u001b[36m__main__\u001b[0m:\u001b[36mcheck_transfers\u001b[0m:\u001b[36m10\u001b[0m - \u001b[1mTransfer ff7d882a-d761-11ef-a413-a3a97d3f63df completed successfully\u001b[0m\n",
      "\u001b[32m2025-01-20 14:09:17.544\u001b[0m | \u001b[34m\u001b[1mDEBUG   \u001b[0m | \u001b[36m__main__\u001b[0m:\u001b[36mcheck_transfers\u001b[0m:\u001b[36m13\u001b[0m - \u001b[34m\u001b[1mCleaned up temporary file: D:\\temp_storage\\Core_009\\BLCA-6_1.0.4_R000_Cy3_pH2AX-AF555_FINAL_AFR_F_Core_009.ome.tif\u001b[0m\n",
      "\u001b[32m2025-01-20 14:09:17.569\u001b[0m | \u001b[1mINFO    \u001b[0m | \u001b[36m__main__\u001b[0m:\u001b[36mcheck_transfers\u001b[0m:\u001b[36m10\u001b[0m - \u001b[1mTransfer fef805a7-d761-11ef-a413-a3a97d3f63df completed successfully\u001b[0m\n",
      "\u001b[32m2025-01-20 14:09:17.590\u001b[0m | \u001b[34m\u001b[1mDEBUG   \u001b[0m | \u001b[36m__main__\u001b[0m:\u001b[36mcheck_transfers\u001b[0m:\u001b[36m13\u001b[0m - \u001b[34m\u001b[1mCleaned up temporary file: D:\\temp_storage\\Core_010\\BLCA-6_1.0.4_R000_Cy3_pH2AX-AF555_FINAL_AFR_F_Core_010.ome.tif\u001b[0m\n",
      "\u001b[32m2025-01-20 14:09:17.613\u001b[0m | \u001b[1mINFO    \u001b[0m | \u001b[36m__main__\u001b[0m:\u001b[36mcheck_transfers\u001b[0m:\u001b[36m10\u001b[0m - \u001b[1mTransfer 00262b10-d762-11ef-a413-a3a97d3f63df completed successfully\u001b[0m\n",
      "\u001b[32m2025-01-20 14:09:17.626\u001b[0m | \u001b[34m\u001b[1mDEBUG   \u001b[0m | \u001b[36m__main__\u001b[0m:\u001b[36mcheck_transfers\u001b[0m:\u001b[36m13\u001b[0m - \u001b[34m\u001b[1mCleaned up temporary file: D:\\temp_storage\\Core_011\\BLCA-6_1.0.4_R000_Cy3_pH2AX-AF555_FINAL_AFR_F_Core_011.ome.tif\u001b[0m\n",
      "\u001b[32m2025-01-20 14:09:17.648\u001b[0m | \u001b[1mINFO    \u001b[0m | \u001b[36m__main__\u001b[0m:\u001b[36mcheck_transfers\u001b[0m:\u001b[36m10\u001b[0m - \u001b[1mTransfer 00752d14-d762-11ef-a413-a3a97d3f63df completed successfully\u001b[0m\n",
      "\u001b[32m2025-01-20 14:09:17.671\u001b[0m | \u001b[34m\u001b[1mDEBUG   \u001b[0m | \u001b[36m__main__\u001b[0m:\u001b[36mcheck_transfers\u001b[0m:\u001b[36m13\u001b[0m - \u001b[34m\u001b[1mCleaned up temporary file: D:\\temp_storage\\Core_012\\BLCA-6_1.0.4_R000_Cy3_pH2AX-AF555_FINAL_AFR_F_Core_012.ome.tif\u001b[0m\n",
      "\u001b[32m2025-01-20 14:09:17.694\u001b[0m | \u001b[1mINFO    \u001b[0m | \u001b[36m__main__\u001b[0m:\u001b[36mcheck_transfers\u001b[0m:\u001b[36m10\u001b[0m - \u001b[1mTransfer 0043904d-d762-11ef-a413-a3a97d3f63df completed successfully\u001b[0m\n",
      "\u001b[32m2025-01-20 14:09:17.718\u001b[0m | \u001b[34m\u001b[1mDEBUG   \u001b[0m | \u001b[36m__main__\u001b[0m:\u001b[36mcheck_transfers\u001b[0m:\u001b[36m13\u001b[0m - \u001b[34m\u001b[1mCleaned up temporary file: D:\\temp_storage\\Core_013\\BLCA-6_1.0.4_R000_Cy3_pH2AX-AF555_FINAL_AFR_F_Core_013.ome.tif\u001b[0m\n",
      "\u001b[32m2025-01-20 14:09:17.746\u001b[0m | \u001b[1mINFO    \u001b[0m | \u001b[36m__main__\u001b[0m:\u001b[36mcheck_transfers\u001b[0m:\u001b[36m10\u001b[0m - \u001b[1mTransfer 011703d2-d762-11ef-a413-a3a97d3f63df completed successfully\u001b[0m\n",
      "\u001b[32m2025-01-20 14:09:17.761\u001b[0m | \u001b[34m\u001b[1mDEBUG   \u001b[0m | \u001b[36m__main__\u001b[0m:\u001b[36mcheck_transfers\u001b[0m:\u001b[36m13\u001b[0m - \u001b[34m\u001b[1mCleaned up temporary file: D:\\temp_storage\\Core_014\\BLCA-6_1.0.4_R000_Cy3_pH2AX-AF555_FINAL_AFR_F_Core_014.ome.tif\u001b[0m\n",
      "\u001b[32m2025-01-20 14:09:17.785\u001b[0m | \u001b[1mINFO    \u001b[0m | \u001b[36m__main__\u001b[0m:\u001b[36mcheck_transfers\u001b[0m:\u001b[36m10\u001b[0m - \u001b[1mTransfer 0135ba03-d762-11ef-a413-a3a97d3f63df completed successfully\u001b[0m\n",
      "\u001b[32m2025-01-20 14:09:17.802\u001b[0m | \u001b[34m\u001b[1mDEBUG   \u001b[0m | \u001b[36m__main__\u001b[0m:\u001b[36mcheck_transfers\u001b[0m:\u001b[36m13\u001b[0m - \u001b[34m\u001b[1mCleaned up temporary file: D:\\temp_storage\\Core_015\\BLCA-6_1.0.4_R000_Cy3_pH2AX-AF555_FINAL_AFR_F_Core_015.ome.tif\u001b[0m\n",
      "\u001b[32m2025-01-20 14:09:17.828\u001b[0m | \u001b[1mINFO    \u001b[0m | \u001b[36m__main__\u001b[0m:\u001b[36mcheck_transfers\u001b[0m:\u001b[36m10\u001b[0m - \u001b[1mTransfer 01ce763e-d762-11ef-a413-a3a97d3f63df completed successfully\u001b[0m\n",
      "\u001b[32m2025-01-20 14:09:17.845\u001b[0m | \u001b[34m\u001b[1mDEBUG   \u001b[0m | \u001b[36m__main__\u001b[0m:\u001b[36mcheck_transfers\u001b[0m:\u001b[36m13\u001b[0m - \u001b[34m\u001b[1mCleaned up temporary file: D:\\temp_storage\\Core_016\\BLCA-6_1.0.4_R000_Cy3_pH2AX-AF555_FINAL_AFR_F_Core_016.ome.tif\u001b[0m\n",
      "\u001b[32m2025-01-20 14:09:17.846\u001b[0m | \u001b[1mINFO    \u001b[0m | \u001b[36m__main__\u001b[0m:\u001b[36m<module>\u001b[0m:\u001b[36m5\u001b[0m - \u001b[1mAll processing and transfers completed\u001b[0m\n"
     ]
    }
   ],
   "source": [
    "while not check_transfers(pending_transfers):\n",
    "    logger.info(\"Waiting for transfers to complete...\")\n",
    "    time.sleep(60)  # Check every minute\n",
    "\n",
    "logger.info(\"All processing and transfers completed\")"
   ]
  },
  {
   "cell_type": "code",
   "execution_count": 47,
   "metadata": {},
   "outputs": [
    {
     "data": {
      "text/plain": [
       "[('77b08bfa-d760-11ef-ace3-d575118df8d3',\n",
       "  WindowsPath('D:/temp_storage/Core_000/BLCA-6_1.0.4_R000_Cy3_pH2AX-AF555_FINAL_AFR_F_Core_000.ome.tif')),\n",
       " ('782fe490-d760-11ef-ace3-d575118df8d3',\n",
       "  WindowsPath('D:/temp_storage/Core_001/BLCA-6_1.0.4_R000_Cy3_pH2AX-AF555_FINAL_AFR_F_Core_001.ome.tif')),\n",
       " ('789e2a04-d760-11ef-ace3-d575118df8d3',\n",
       "  WindowsPath('D:/temp_storage/Core_002/BLCA-6_1.0.4_R000_Cy3_pH2AX-AF555_FINAL_AFR_F_Core_002.ome.tif')),\n",
       " ('78ece4b4-d760-11ef-ace3-d575118df8d3',\n",
       "  WindowsPath('D:/temp_storage/Core_003/BLCA-6_1.0.4_R000_Cy3_pH2AX-AF555_FINAL_AFR_F_Core_003.ome.tif')),\n",
       " ('78ece4b6-d760-11ef-ace3-d575118df8d3',\n",
       "  WindowsPath('D:/temp_storage/Core_004/BLCA-6_1.0.4_R000_Cy3_pH2AX-AF555_FINAL_AFR_F_Core_004.ome.tif')),\n",
       " ('7989fe7a-d760-11ef-ace3-d575118df8d3',\n",
       "  WindowsPath('D:/temp_storage/Core_005/BLCA-6_1.0.4_R000_Cy3_pH2AX-AF555_FINAL_AFR_F_Core_005.ome.tif')),\n",
       " ('79e36c1c-d760-11ef-ace3-d575118df8d3',\n",
       "  WindowsPath('D:/temp_storage/Core_006/BLCA-6_1.0.4_R000_Cy3_pH2AX-AF555_FINAL_AFR_F_Core_006.ome.tif')),\n",
       " ('7966cda7-d760-11ef-ace3-d575118df8d3',\n",
       "  WindowsPath('D:/temp_storage/Core_007/BLCA-6_1.0.4_R000_Cy3_pH2AX-AF555_FINAL_AFR_F_Core_007.ome.tif')),\n",
       " ('7aaadeb4-d760-11ef-ace3-d575118df8d3',\n",
       "  WindowsPath('D:/temp_storage/Core_008/BLCA-6_1.0.4_R000_Cy3_pH2AX-AF555_FINAL_AFR_F_Core_008.ome.tif')),\n",
       " ('7af75a32-d760-11ef-ace3-d575118df8d3',\n",
       "  WindowsPath('D:/temp_storage/Core_009/BLCA-6_1.0.4_R000_Cy3_pH2AX-AF555_FINAL_AFR_F_Core_009.ome.tif'))]"
      ]
     },
     "execution_count": 47,
     "metadata": {},
     "output_type": "execute_result"
    }
   ],
   "source": [
    "pending_transfers"
   ]
  },
  {
   "cell_type": "code",
   "execution_count": null,
   "metadata": {},
   "outputs": [],
   "source": []
  }
 ],
 "metadata": {
  "kernelspec": {
   "display_name": "cellpose-env",
   "language": "python",
   "name": "python3"
  },
  "language_info": {
   "codemirror_mode": {
    "name": "ipython",
    "version": 3
   },
   "file_extension": ".py",
   "mimetype": "text/x-python",
   "name": "python",
   "nbconvert_exporter": "python",
   "pygments_lexer": "ipython3",
   "version": "3.10.14"
  }
 },
 "nbformat": 4,
 "nbformat_minor": 2
}
