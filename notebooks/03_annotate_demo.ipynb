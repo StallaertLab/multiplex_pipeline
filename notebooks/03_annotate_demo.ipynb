{
 "cells": [
  {
   "cell_type": "code",
   "execution_count": 1,
   "metadata": {},
   "outputs": [
    {
     "name": "stderr",
     "output_type": "stream",
     "text": [
      "c:\\Users\\KMK280\\AppData\\Local\\miniconda3\\envs\\sdata-env\\Lib\\site-packages\\dask\\dataframe\\__init__.py:31: FutureWarning: The legacy Dask DataFrame implementation is deprecated and will be removed in a future version. Set the configuration option `dataframe.query-planning` to `True` or None to enable the new Dask Dataframe implementation and silence this warning.\n",
      "  warnings.warn(\n",
      "c:\\Users\\KMK280\\AppData\\Local\\miniconda3\\envs\\sdata-env\\Lib\\site-packages\\xarray_schema\\__init__.py:1: UserWarning: pkg_resources is deprecated as an API. See https://setuptools.pypa.io/en/latest/pkg_resources.html. The pkg_resources package is slated for removal as early as 2025-11-30. Refrain from using this package or pin to Setuptools<81.\n",
      "  from pkg_resources import DistributionNotFound, get_distribution\n"
     ]
    }
   ],
   "source": [
    "%load_ext autoreload\n",
    "%autoreload 2\n",
    "\n",
    "import os\n",
    "from datetime import datetime\n",
    "from tifffile import imread, imwrite\n",
    "import numpy as np\n",
    "import pandas as pd\n",
    "from skimage.draw import polygon\n",
    "from pathlib import Path\n",
    "from loguru import logger\n",
    "from IPython.display import clear_output\n",
    "import spatialdata as sd\n",
    "import napari\n",
    "from magicgui import magicgui\n",
    "from napari_spatialdata import Interactive\n",
    "\n",
    "from multiplex_pipeline.utils.config_loaders import load_analysis_settings\n",
    "from multiplex_pipeline.core_cutting.channel_scanner import discover_channels, build_transfer_map\n",
    "from multiplex_pipeline.core_cutting.controller import CorePreparationController\n",
    "from multiplex_pipeline.core_cutting.file_io import GlobusFileStrategy\n",
    "from multiplex_pipeline.utils.globus_utils import GlobusConfig, create_globus_tc\n",
    "from multiplex_pipeline.utils.file_utils import GlobusPathConverter"
   ]
  },
  {
   "cell_type": "code",
   "execution_count": 2,
   "metadata": {},
   "outputs": [],
   "source": [
    "# define pathways\n",
    "settings_path = r'C:\\BLCA-7_Analysis\\analysis_settings_BLCA7.yaml'"
   ]
  },
  {
   "cell_type": "markdown",
   "metadata": {},
   "source": [
    "### Load analysis settings"
   ]
  },
  {
   "cell_type": "code",
   "execution_count": 3,
   "metadata": {},
   "outputs": [
    {
     "data": {
      "text/plain": [
       "AnalysisConfig(general=GeneralSettings(image_dir='R:/CellDive/BLCA-7/BLCA-7_Final', analysis_name='BLCA-7_Analysis', local_analysis_dir='C:/', remote_analysis_dir='/ix1/kkedziora/blca_analysis', log_dir=None), core_detection=CoreDetectionSettings(detection_image='BLCA-7_1.0.4_R000_DAPI__FINAL_F.ome.tif', core_info_file_path=None, im_level=6, min_area=2000, max_area=10000, min_iou=0.8, min_st=0.9, min_int=15, frame=4), core_cutting=CoreCuttingSettings(cores_dir_tif=None, cores_dir_output=None, include_channels=None, exclude_channels=['008_ECad'], use_markers=['DAPI', 'CD45', 'CD44', 'HLA1', 'NaKATPase', 'CD11C', 'pCK26', 'pS6', 'HES1'], ignore_markers=['Antibody1', 'TNFa', 'Snail1', 'SKP2', 'ProgRc', 'Plk1', 'PH3', 'PDL1', 'p65', 'p130', 'p-p130', 'p-Cdc6', 'LAG3', 'IL-8', 'HER2', 'ERa', 'EpCAM', 'E2F1', 'cycD3', 'cycB2', 'CDC25C', 'CD86', 'CD73', 'CD69', 'CD62L', 'CD56', 'CD4', 'CD25', 'CD19', 'CD27', 'CCR7', 'cCASP3'], margin=0, mask_value=0, transfer_cleanup_enabled=True, core_cleanup_enabled=True), additional_elements=[NormalizeStep(category='image_transformer', type='normalize', input='DAPI', output='DAPI_norm', keep=False, parameters=Params(low=1.0, high=99.5)), NormalizeStep(category='image_transformer', type='normalize', input='CD45', output='CD45_norm', keep=False, parameters=Params(low=1.0, high=99.5)), NormalizeStep(category='image_transformer', type='normalize', input='CD44', output='CD44_norm', keep=False, parameters=Params(low=1.0, high=99.5)), NormalizeStep(category='image_transformer', type='normalize', input='HLA1', output='HLA1_norm', keep=False, parameters=Params(low=1.0, high=99.5)), NormalizeStep(category='image_transformer', type='normalize', input='NaKATPase', output='NaKATPase_norm', keep=False, parameters=Params(low=1.0, high=99.5)), NormalizeStep(category='image_transformer', type='normalize', input='CD11C', output='CD11C_norm', keep=False, parameters=Params(low=1.0, high=99.5)), NormalizeStep(category='image_transformer', type='normalize', input='pCK26', output='pCK26_norm', keep=False, parameters=Params(low=1.0, high=99.5)), NormalizeStep(category='image_transformer', type='normalize', input='pS6', output='pS6_norm', keep=False, parameters=Params(low=1.0, high=99.5)), NormalizeStep(category='image_transformer', type='normalize', input='HES1', output='HES1_norm', keep=False, parameters=Params(low=1.0, high=99.5)), InstansegStep(category='object_segmenter', type='instanseg', input=['DAPI_norm', 'HLA1_norm', 'CD44_norm', 'NaKATPase_norm', 'CD11C_norm', 'CD45_norm', 'pCK26_norm', 'pS6_norm', 'HES1_norm'], output=['instanseg_nucleus_org', 'instanseg_cell_org'], keep=False, parameters=Params(model='fluorescence_nuclei_and_cells', pixel_size=0.3, resolve_cell_and_nucleus=True, cleanup_fragments=True, clean_cache=True)), BlobStep(category='mask_builder', type='blob', input='instanseg_nucleus_org', output='blob', keep=True, parameters={}), MultiplyStep(category='mask_builder', type='multiply', input=['instanseg_nucleus_org', 'blob'], output='instanseg_nucleus', keep=True, parameters={}), MultiplyStep(category='mask_builder', type='multiply', input=['instanseg_cell_org', 'blob'], output='instanseg_cell', keep=True, parameters={}), RingStep(category='mask_builder', type='ring', input=['instanseg_nucleus'], output='ring', keep=True, parameters=Params(outer=8, inner=2)), SubtractStep(category='mask_builder', type='subtract', input=['instanseg_cell', 'instanseg_nucleus'], output='cytoplasm', keep=True, parameters={})], quant=[QuantTask(name='instanseg_table', masks={'nucleus': 'instanseg_nucleus', 'cell': 'instanseg_cell', 'ring': 'ring', 'cyto': 'cytoplasm'}, layer_connection='instanseg_cell')], sdata_storage=StorageSettings(chunk_size=[1, 512, 512], max_pyramid_level=3, downscale=2), analysis_dir=WindowsPath('C:/BLCA-7_Analysis'), temp_dir=WindowsPath('C:/BLCA-7_Analysis/temp'), log_dir_path=WindowsPath('C:/BLCA-7_Analysis/logs'), core_info_file_path=WindowsPath('C:/BLCA-7_Analysis/cores.csv'), cores_dir_tif_path=WindowsPath('C:/BLCA-7_Analysis/temp'), cores_dir_output_path=WindowsPath('C:/BLCA-7_Analysis/cores'))"
      ]
     },
     "execution_count": 3,
     "metadata": {},
     "output_type": "execute_result"
    }
   ],
   "source": [
    "# load analysis configuration\n",
    "settings = load_analysis_settings(settings_path)\n",
    "settings"
   ]
  },
  {
   "cell_type": "code",
   "execution_count": 4,
   "metadata": {},
   "outputs": [
    {
     "data": {
      "text/plain": [
       "[WindowsPath('C:/BLCA-7_Analysis/cores/Core_000.zarr')]"
      ]
     },
     "execution_count": 4,
     "metadata": {},
     "output_type": "execute_result"
    }
   ],
   "source": [
    "core_dir = settings.analysis_dir / 'cores'\n",
    "path_list = [core_dir / f for f in os.listdir(core_dir)]\n",
    "path_list.sort()\n",
    "path_list"
   ]
  },
  {
   "cell_type": "code",
   "execution_count": 162,
   "metadata": {},
   "outputs": [
    {
     "name": "stderr",
     "output_type": "stream",
     "text": [
      "version mismatch: detected: RasterFormatV02, requested: FormatV04\n",
      "c:\\Users\\KMK280\\AppData\\Local\\miniconda3\\envs\\sdata-env\\Lib\\site-packages\\zarr\\creation.py:610: UserWarning: ignoring keyword argument 'read_only'\n",
      "  compressor, fill_value = _kwargs_compat(compressor, fill_value, kwargs)\n",
      "version mismatch: detected: RasterFormatV02, requested: FormatV04\n",
      "version mismatch: detected: RasterFormatV02, requested: FormatV04\n",
      "version mismatch: detected: RasterFormatV02, requested: FormatV04\n",
      "version mismatch: detected: RasterFormatV02, requested: FormatV04\n",
      "version mismatch: detected: RasterFormatV02, requested: FormatV04\n",
      "version mismatch: detected: RasterFormatV02, requested: FormatV04\n",
      "version mismatch: detected: RasterFormatV02, requested: FormatV04\n",
      "version mismatch: detected: RasterFormatV02, requested: FormatV04\n"
     ]
    }
   ],
   "source": [
    "for sd_path in path_list[:1]:\n",
    "\n",
    "    # get sdata\n",
    "    sdata = sd.read_zarr(sd_path)"
   ]
  },
  {
   "cell_type": "code",
   "execution_count": 165,
   "metadata": {},
   "outputs": [
    {
     "name": "stdout",
     "output_type": "stream",
     "text": [
      "The autoreload extension is already loaded. To reload it, use:\n",
      "  %reload_ext autoreload\n"
     ]
    }
   ],
   "source": [
    "%load_ext autoreload\n",
    "%autoreload 2\n",
    "from multiplex_pipeline.widgets.qc_widget import QCWidget"
   ]
  },
  {
   "cell_type": "code",
   "execution_count": 166,
   "metadata": {},
   "outputs": [
    {
     "data": {
      "text/plain": [
       "<napari._qt.widgets.qt_viewer_dock_widget.QtViewerDockWidget at 0x25f5334c040>"
      ]
     },
     "execution_count": 166,
     "metadata": {},
     "output_type": "execute_result"
    }
   ],
   "source": [
    "viewer = napari.Viewer()\n",
    "\n",
    "qc_widget = QCWidget(viewer,sdata)\n",
    "\n",
    "viewer.window.add_dock_widget(qc_widget, area='right')"
   ]
  },
  {
   "cell_type": "code",
   "execution_count": 161,
   "metadata": {},
   "outputs": [],
   "source": [
    "qc_widget.viewer.status = f'{self.shapes_name} has been saved to disk.'"
   ]
  },
  {
   "cell_type": "code",
   "execution_count": 169,
   "metadata": {},
   "outputs": [
    {
     "data": {
      "text/plain": [
       "SpatialData object, with associated Zarr store: C:\\BLCA-7_Analysis\\cores\\Core_000.zarr\n",
       "├── Images\n",
       "│     ├── 'CD11C': DataTree[cyx] (1, 4992, 5312), (1, 2496, 2656), (1, 1248, 1328)\n",
       "│     ├── 'CD44': DataTree[cyx] (1, 4992, 5312), (1, 2496, 2656), (1, 1248, 1328)\n",
       "│     ├── 'CD45': DataTree[cyx] (1, 4992, 5312), (1, 2496, 2656), (1, 1248, 1328)\n",
       "│     ├── 'DAPI': DataTree[cyx] (1, 4992, 5312), (1, 2496, 2656), (1, 1248, 1328)\n",
       "│     ├── 'HES1': DataTree[cyx] (1, 4992, 5312), (1, 2496, 2656), (1, 1248, 1328)\n",
       "│     ├── 'HLA1': DataTree[cyx] (1, 4992, 5312), (1, 2496, 2656), (1, 1248, 1328)\n",
       "│     ├── 'NaKATPase': DataTree[cyx] (1, 4992, 5312), (1, 2496, 2656), (1, 1248, 1328)\n",
       "│     ├── 'pCK26': DataTree[cyx] (1, 4992, 5312), (1, 2496, 2656), (1, 1248, 1328)\n",
       "│     └── 'pS6': DataTree[cyx] (1, 4992, 5312), (1, 2496, 2656), (1, 1248, 1328)\n",
       "└── Labels\n",
       "      ├── 'blob': DataTree[yx] (4992, 5312), (2496, 2656), (1248, 1328)\n",
       "      ├── 'cytoplasm': DataTree[yx] (4992, 5312), (2496, 2656), (1248, 1328)\n",
       "      ├── 'instanseg_cell': DataTree[yx] (4992, 5312), (2496, 2656), (1248, 1328)\n",
       "      ├── 'instanseg_nucleus': DataTree[yx] (4992, 5312), (2496, 2656), (1248, 1328)\n",
       "      └── 'ring': DataTree[yx] (4992, 5312), (2496, 2656), (1248, 1328)\n",
       "with coordinate systems:\n",
       "    ▸ 'global', with elements:\n",
       "        CD11C (Images), CD44 (Images), CD45 (Images), DAPI (Images), HES1 (Images), HLA1 (Images), NaKATPase (Images), pCK26 (Images), pS6 (Images), blob (Labels), cytoplasm (Labels), instanseg_cell (Labels), instanseg_nucleus (Labels), ring (Labels)\n",
       "with the following elements in the Zarr store but not in the SpatialData object:\n",
       "    ▸ qc_exclude_CD44 (Shapes)"
      ]
     },
     "execution_count": 169,
     "metadata": {},
     "output_type": "execute_result"
    }
   ],
   "source": [
    "sdata"
   ]
  },
  {
   "cell_type": "code",
   "execution_count": 148,
   "metadata": {},
   "outputs": [
    {
     "data": {
      "text/plain": [
       "'qc_exclude_CD44'"
      ]
     },
     "execution_count": 148,
     "metadata": {},
     "output_type": "execute_result"
    }
   ],
   "source": [
    "qc_widget.shapes_name"
   ]
  },
  {
   "cell_type": "code",
   "execution_count": 128,
   "metadata": {},
   "outputs": [
    {
     "data": {
      "text/plain": [
       "4"
      ]
     },
     "execution_count": 128,
     "metadata": {},
     "output_type": "execute_result"
    }
   ],
   "source": [
    "qc_widget.position"
   ]
  },
  {
   "cell_type": "code",
   "execution_count": 114,
   "metadata": {},
   "outputs": [
    {
     "data": {
      "text/plain": [
       "[array([[ 979.4635029 , 1296.84862944],\n",
       "        [ 979.4635029 , 2350.36559995],\n",
       "        [1865.95949027, 2350.36559995],\n",
       "        [1865.95949027, 1296.84862944],\n",
       "        [ 979.4635029 , 1296.84862944]]),\n",
       " array([[2341.32690379, 2915.66738899],\n",
       "        [2341.32690379, 4014.15154726],\n",
       "        [3420.53941016, 4014.15154726],\n",
       "        [3420.53941016, 2915.66738899],\n",
       "        [2341.32690379, 2915.66738899]])]"
      ]
     },
     "execution_count": 114,
     "metadata": {},
     "output_type": "execute_result"
    }
   ],
   "source": [
    "data = [np.array(self.sdata[self.shapes_name].geometry[i].exterior.coords) for i in range(len(self.sdata[self.shapes_name]))]\n",
    "data"
   ]
  },
  {
   "cell_type": "code",
   "execution_count": 118,
   "metadata": {},
   "outputs": [
    {
     "data": {
      "text/plain": [
       "(5, 2)"
      ]
     },
     "execution_count": 118,
     "metadata": {},
     "output_type": "execute_result"
    }
   ],
   "source": [
    "data[0].shape"
   ]
  },
  {
   "cell_type": "code",
   "execution_count": 119,
   "metadata": {},
   "outputs": [
    {
     "data": {
      "text/plain": [
       "<Shapes layer 'qc_exclude_CD44' at 0x25f26d73f90>"
      ]
     },
     "execution_count": 119,
     "metadata": {},
     "output_type": "execute_result"
    }
   ],
   "source": [
    "viewer.add_shapes(data = data, name = self.shapes_name, shape_type = 'polygon')"
   ]
  },
  {
   "cell_type": "code",
   "execution_count": 72,
   "metadata": {},
   "outputs": [],
   "source": [
    "import numpy as np\n",
    "from geopandas import GeoDataFrame\n",
    "from shapely import Polygon\n",
    "from spatialdata.models import ShapesModel\n",
    "from spatialdata.transformations import Identity"
   ]
  },
  {
   "cell_type": "code",
   "execution_count": 73,
   "metadata": {},
   "outputs": [
    {
     "name": "stdout",
     "output_type": "stream",
     "text": [
      "ues\n"
     ]
    },
    {
     "ename": "TypeError",
     "evalue": "numpy_to_shapely() takes 1 positional argument but 2 were given",
     "output_type": "error",
     "traceback": [
      "\u001b[31m---------------------------------------------------------------------------\u001b[39m",
      "\u001b[31mTypeError\u001b[39m                                 Traceback (most recent call last)",
      "\u001b[36mCell\u001b[39m\u001b[36m \u001b[39m\u001b[32mIn[73]\u001b[39m\u001b[32m, line 5\u001b[39m\n\u001b[32m      2\u001b[39m \u001b[38;5;28;01mif\u001b[39;00m \u001b[38;5;28mself\u001b[39m.shapes_name \u001b[38;5;129;01min\u001b[39;00m [x.name \u001b[38;5;28;01mfor\u001b[39;00m x \u001b[38;5;129;01min\u001b[39;00m \u001b[38;5;28mself\u001b[39m.viewer.layers]:\n\u001b[32m      3\u001b[39m     \u001b[38;5;28mprint\u001b[39m(\u001b[33m'\u001b[39m\u001b[33mues\u001b[39m\u001b[33m'\u001b[39m)\n\u001b[32m----> \u001b[39m\u001b[32m5\u001b[39m     gdf = GeoDataFrame({\u001b[33m\"\u001b[39m\u001b[33mgeometry\u001b[39m\u001b[33m\"\u001b[39m: \u001b[43m[\u001b[49m\u001b[38;5;28;43mself\u001b[39;49m\u001b[43m.\u001b[49m\u001b[43mnumpy_to_shapely\u001b[49m\u001b[43m(\u001b[49m\u001b[43mx\u001b[49m\u001b[43m)\u001b[49m\u001b[43m \u001b[49m\u001b[38;5;28;43;01mfor\u001b[39;49;00m\u001b[43m \u001b[49m\u001b[43mx\u001b[49m\u001b[43m \u001b[49m\u001b[38;5;129;43;01min\u001b[39;49;00m\u001b[43m \u001b[49m\u001b[38;5;28;43mself\u001b[39;49m\u001b[43m.\u001b[49m\u001b[43mviewer\u001b[49m\u001b[43m.\u001b[49m\u001b[43mlayers\u001b[49m\u001b[43m[\u001b[49m\u001b[38;5;28;43mself\u001b[39;49m\u001b[43m.\u001b[49m\u001b[43mshapes_name\u001b[49m\u001b[43m]\u001b[49m\u001b[43m.\u001b[49m\u001b[43mdata\u001b[49m\u001b[43m]\u001b[49m})\n\u001b[32m      6\u001b[39m     gdf = ShapesModel.parse(gdf, transformations={\u001b[33m\"\u001b[39m\u001b[33maligned\u001b[39m\u001b[33m\"\u001b[39m: Identity()})\n\u001b[32m      7\u001b[39m     \u001b[38;5;28mself\u001b[39m.sdata.shapes[\u001b[38;5;28mself\u001b[39m.shapes_name] = gdf\n",
      "\u001b[36mCell\u001b[39m\u001b[36m \u001b[39m\u001b[32mIn[73]\u001b[39m\u001b[32m, line 5\u001b[39m, in \u001b[36m<listcomp>\u001b[39m\u001b[34m(.0)\u001b[39m\n\u001b[32m      2\u001b[39m \u001b[38;5;28;01mif\u001b[39;00m \u001b[38;5;28mself\u001b[39m.shapes_name \u001b[38;5;129;01min\u001b[39;00m [x.name \u001b[38;5;28;01mfor\u001b[39;00m x \u001b[38;5;129;01min\u001b[39;00m \u001b[38;5;28mself\u001b[39m.viewer.layers]:\n\u001b[32m      3\u001b[39m     \u001b[38;5;28mprint\u001b[39m(\u001b[33m'\u001b[39m\u001b[33mues\u001b[39m\u001b[33m'\u001b[39m)\n\u001b[32m----> \u001b[39m\u001b[32m5\u001b[39m     gdf = GeoDataFrame({\u001b[33m\"\u001b[39m\u001b[33mgeometry\u001b[39m\u001b[33m\"\u001b[39m: [\u001b[38;5;28;43mself\u001b[39;49m\u001b[43m.\u001b[49m\u001b[43mnumpy_to_shapely\u001b[49m\u001b[43m(\u001b[49m\u001b[43mx\u001b[49m\u001b[43m)\u001b[49m \u001b[38;5;28;01mfor\u001b[39;00m x \u001b[38;5;129;01min\u001b[39;00m \u001b[38;5;28mself\u001b[39m.viewer.layers[\u001b[38;5;28mself\u001b[39m.shapes_name].data]})\n\u001b[32m      6\u001b[39m     gdf = ShapesModel.parse(gdf, transformations={\u001b[33m\"\u001b[39m\u001b[33maligned\u001b[39m\u001b[33m\"\u001b[39m: Identity()})\n\u001b[32m      7\u001b[39m     \u001b[38;5;28mself\u001b[39m.sdata.shapes[\u001b[38;5;28mself\u001b[39m.shapes_name] = gdf\n",
      "\u001b[31mTypeError\u001b[39m: numpy_to_shapely() takes 1 positional argument but 2 were given"
     ]
    }
   ],
   "source": [
    "self = qc_widget        \n",
    "if self.shapes_name in [x.name for x in self.viewer.layers]:\n",
    "    print('ues')\n",
    "            \n",
    "    gdf = GeoDataFrame({\"geometry\": [self.numpy_to_shapely(x) for x in self.viewer.layers[self.shapes_name].data]})\n",
    "    gdf = ShapesModel.parse(gdf, transformations={\"aligned\": Identity()})\n",
    "    self.sdata.shapes[self.shapes_name] = gdf"
   ]
  },
  {
   "cell_type": "code",
   "execution_count": 75,
   "metadata": {},
   "outputs": [
    {
     "data": {
      "text/plain": [
       "[array([[1993.74091548, 1798.59965193],\n",
       "        [1993.74091548, 3395.10615174],\n",
       "        [3420.82223571, 3395.10615174],\n",
       "        [3420.82223571, 1798.59965193]])]"
      ]
     },
     "execution_count": 75,
     "metadata": {},
     "output_type": "execute_result"
    }
   ],
   "source": [
    "self.viewer.layers[self.shapes_name].data"
   ]
  },
  {
   "cell_type": "code",
   "execution_count": 76,
   "metadata": {},
   "outputs": [
    {
     "ename": "TypeError",
     "evalue": "numpy_to_shapely() takes 1 positional argument but 2 were given",
     "output_type": "error",
     "traceback": [
      "\u001b[31m---------------------------------------------------------------------------\u001b[39m",
      "\u001b[31mTypeError\u001b[39m                                 Traceback (most recent call last)",
      "\u001b[36mCell\u001b[39m\u001b[36m \u001b[39m\u001b[32mIn[76]\u001b[39m\u001b[32m, line 1\u001b[39m\n\u001b[32m----> \u001b[39m\u001b[32m1\u001b[39m \u001b[43m[\u001b[49m\u001b[38;5;28;43mself\u001b[39;49m\u001b[43m.\u001b[49m\u001b[43mnumpy_to_shapely\u001b[49m\u001b[43m(\u001b[49m\u001b[43mx\u001b[49m\u001b[43m)\u001b[49m\u001b[43m \u001b[49m\u001b[38;5;28;43;01mfor\u001b[39;49;00m\u001b[43m \u001b[49m\u001b[43mx\u001b[49m\u001b[43m \u001b[49m\u001b[38;5;129;43;01min\u001b[39;49;00m\u001b[43m \u001b[49m\u001b[38;5;28;43mself\u001b[39;49m\u001b[43m.\u001b[49m\u001b[43mviewer\u001b[49m\u001b[43m.\u001b[49m\u001b[43mlayers\u001b[49m\u001b[43m[\u001b[49m\u001b[38;5;28;43mself\u001b[39;49m\u001b[43m.\u001b[49m\u001b[43mshapes_name\u001b[49m\u001b[43m]\u001b[49m\u001b[43m.\u001b[49m\u001b[43mdata\u001b[49m\u001b[43m]\u001b[49m\n",
      "\u001b[36mCell\u001b[39m\u001b[36m \u001b[39m\u001b[32mIn[76]\u001b[39m\u001b[32m, line 1\u001b[39m, in \u001b[36m<listcomp>\u001b[39m\u001b[34m(.0)\u001b[39m\n\u001b[32m----> \u001b[39m\u001b[32m1\u001b[39m [\u001b[38;5;28;43mself\u001b[39;49m\u001b[43m.\u001b[49m\u001b[43mnumpy_to_shapely\u001b[49m\u001b[43m(\u001b[49m\u001b[43mx\u001b[49m\u001b[43m)\u001b[49m \u001b[38;5;28;01mfor\u001b[39;00m x \u001b[38;5;129;01min\u001b[39;00m \u001b[38;5;28mself\u001b[39m.viewer.layers[\u001b[38;5;28mself\u001b[39m.shapes_name].data]\n",
      "\u001b[31mTypeError\u001b[39m: numpy_to_shapely() takes 1 positional argument but 2 were given"
     ]
    }
   ],
   "source": [
    "[self.numpy_to_shapely(x) for x in self.viewer.layers[self.shapes_name].data]"
   ]
  },
  {
   "cell_type": "code",
   "execution_count": 67,
   "metadata": {},
   "outputs": [
    {
     "data": {
      "text/plain": [
       "['CD44', 'qc_exclude_CD44']"
      ]
     },
     "execution_count": 67,
     "metadata": {},
     "output_type": "execute_result"
    }
   ],
   "source": [
    "[x.name for x in self.viewer.layers]"
   ]
  },
  {
   "cell_type": "code",
   "execution_count": null,
   "metadata": {},
   "outputs": [],
   "source": []
  }
 ],
 "metadata": {
  "kernelspec": {
   "display_name": "sdata-env",
   "language": "python",
   "name": "python3"
  },
  "language_info": {
   "codemirror_mode": {
    "name": "ipython",
    "version": 3
   },
   "file_extension": ".py",
   "mimetype": "text/x-python",
   "name": "python",
   "nbconvert_exporter": "python",
   "pygments_lexer": "ipython3",
   "version": "3.11.13"
  }
 },
 "nbformat": 4,
 "nbformat_minor": 2
}
