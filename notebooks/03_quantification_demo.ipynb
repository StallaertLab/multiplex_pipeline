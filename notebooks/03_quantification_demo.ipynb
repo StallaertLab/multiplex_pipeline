{
 "cells": [
  {
   "cell_type": "code",
   "execution_count": 1,
   "id": "b31951cf",
   "metadata": {},
   "outputs": [
    {
     "name": "stderr",
     "output_type": "stream",
     "text": [
      "c:\\Users\\KMK280\\AppData\\Local\\miniconda3\\envs\\sdata-env\\Lib\\site-packages\\dask\\dataframe\\__init__.py:31: FutureWarning: The legacy Dask DataFrame implementation is deprecated and will be removed in a future version. Set the configuration option `dataframe.query-planning` to `True` or None to enable the new Dask Dataframe implementation and silence this warning.\n",
      "  warnings.warn(\n",
      "c:\\Users\\KMK280\\AppData\\Local\\miniconda3\\envs\\sdata-env\\Lib\\site-packages\\xarray_schema\\__init__.py:1: UserWarning: pkg_resources is deprecated as an API. See https://setuptools.pypa.io/en/latest/pkg_resources.html. The pkg_resources package is slated for removal as early as 2025-11-30. Refrain from using this package or pin to Setuptools<81.\n",
      "  from pkg_resources import DistributionNotFound, get_distribution\n"
     ]
    }
   ],
   "source": [
    "%load_ext autoreload\n",
    "%autoreload 2\n",
    "\n",
    "import os\n",
    "from pathlib import Path\n",
    "from datetime import datetime\n",
    "from loguru import logger\n",
    "import numpy as np\n",
    "import spatialdata as sd\n",
    "from napari_spatialdata import Interactive\n",
    "\n",
    "\n",
    "from multiplex_pipeline.utils.config_loaders import load_analysis_settings\n",
    "from multiplex_pipeline.object_quantification.mask_builders import BaseBuilder\n",
    "from multiplex_pipeline.object_quantification.mask_controller import MaskBuildingController\n",
    "from multiplex_pipeline.object_quantification.controller import QuantificationController"
   ]
  },
  {
   "cell_type": "markdown",
   "id": "909cd179",
   "metadata": {},
   "source": [
    "### Load analysis settings"
   ]
  },
  {
   "cell_type": "code",
   "execution_count": 2,
   "id": "40cdede3",
   "metadata": {},
   "outputs": [
    {
     "data": {
      "text/plain": [
       "{'image_dir': 'R:/CellDive/BLCA-2/BLCA-2_Final',\n",
       " 'analysis_name': 'BLCA-2_Analysis_todel',\n",
       " 'local_analysis_dir': 'C:/',\n",
       " 'remote_analysis_dir': '/ix1/kkedziora/blca_analysis',\n",
       " 'log_dir': WindowsPath('C:/BLCA-2_Analysis_todel/logs'),\n",
       " 'detection_image': 'BLCA-2_1.0.4_R000_DAPI__FINAL_F.ome.tif',\n",
       " 'core_info_file_path': WindowsPath('C:/BLCA-2_Analysis_todel/cores.csv'),\n",
       " 'cores_dir_tif': WindowsPath('C:/BLCA-2_Analysis_todel/temp'),\n",
       " 'cores_dir_output': WindowsPath('C:/BLCA-2_Analysis_todel/cores'),\n",
       " 'include_channels': None,\n",
       " 'exclude_channels': ['008_ECad'],\n",
       " 'use_markers': 'DAPI',\n",
       " 'ignore_markers': ['Antibody1',\n",
       "  'TNFa',\n",
       "  'Snail1',\n",
       "  'SKP2',\n",
       "  'ProgRc',\n",
       "  'Plk1',\n",
       "  'PH3',\n",
       "  'PDL1',\n",
       "  'p65',\n",
       "  'p130',\n",
       "  'p-p130',\n",
       "  'p-Cdc6',\n",
       "  'LAG3',\n",
       "  'IL-8',\n",
       "  'HER2',\n",
       "  'ERa',\n",
       "  'EpCAM',\n",
       "  'E2F1',\n",
       "  'cycD3',\n",
       "  'cycB2',\n",
       "  'CDC25C',\n",
       "  'CD86',\n",
       "  'CD73',\n",
       "  'CD69',\n",
       "  'CD62L',\n",
       "  'CD56',\n",
       "  'CD4',\n",
       "  'CD25',\n",
       "  'CD19',\n",
       "  'CD27',\n",
       "  'CCR7',\n",
       "  'cCASP3'],\n",
       " 'segmentation': {'package': 'instanseg',\n",
       "  'model': 'fluorescence_nuclei_and_cells',\n",
       "  'kwargs': {'pixel_size': 0.3,\n",
       "   'resolve_cell_and_nucleus': True,\n",
       "   'cleanup_fragments': True},\n",
       "  'input': ['DAPI'],\n",
       "  'resolution_level': 0,\n",
       "  'output_name': ['instanseg_nucleus', 'instanseg_cell'],\n",
       "  'preprocessing': {'mix': None, 'denoise': None, 'normalize': [1, 99.5]},\n",
       "  'cleaner': 'BlobCleaner'},\n",
       " 'additional_masks': [{'name': 'ring',\n",
       "   'type': 'ring',\n",
       "   'source': ['instanseg_nucleus'],\n",
       "   'keep': False,\n",
       "   'parameters': {'outer': 8, 'inner': 2}},\n",
       "  {'name': 'cytoplasm',\n",
       "   'type': 'subtraction',\n",
       "   'source': ['instanseg_cell', 'instanseg_nucleus'],\n",
       "   'keep': False}],\n",
       " 'quant': [{'name': 'instanseg_table',\n",
       "   'masks': {'nucleus': 'instanseg_nucleus',\n",
       "    'cell': 'instanseg_cell',\n",
       "    'ring': 'ring',\n",
       "    'cyto': 'cytoplasm'},\n",
       "   'layer_connection': 'instanseg_cell'}],\n",
       " 'core_detection': {'im_level': 6,\n",
       "  'min_area': 2000,\n",
       "  'max_area': 10000,\n",
       "  'min_iou': 0.8,\n",
       "  'min_st': 0.9,\n",
       "  'min_int': 15,\n",
       "  'frame': 4},\n",
       " 'core_cutting': {'margin': 0,\n",
       "  'mask_value': 0,\n",
       "  'max_pyramid_level': 2,\n",
       "  'transfer_cleanup_enabled': True,\n",
       "  'core_cleanup_enabled': True,\n",
       "  'chunk_size': [1, 512, 512]},\n",
       " 'analysis_dir': WindowsPath('C:/BLCA-2_Analysis_todel'),\n",
       " 'temp_dir': WindowsPath('C:/BLCA-2_Analysis_todel/temp')}"
      ]
     },
     "execution_count": 2,
     "metadata": {},
     "output_type": "execute_result"
    }
   ],
   "source": [
    "# load analysis configuration\n",
    "settings_path = r'C:\\BLCA-2_Analysis_todel\\analysis_settings_BLCA2_todel.yaml'\n",
    "\n",
    "settings = load_analysis_settings(settings_path)\n",
    "settings"
   ]
  },
  {
   "cell_type": "markdown",
   "id": "55327bef",
   "metadata": {},
   "source": [
    "### Define the logger"
   ]
  },
  {
   "cell_type": "code",
   "execution_count": 3,
   "id": "6379596c",
   "metadata": {},
   "outputs": [
    {
     "data": {
      "text/plain": [
       "2"
      ]
     },
     "execution_count": 3,
     "metadata": {},
     "output_type": "execute_result"
    }
   ],
   "source": [
    "log_file = settings['log_dir'] / f\"cores_quantification_{datetime.now():%Y-%m-%d_%H-%M-%S}.log\"\n",
    "\n",
    "logger.remove()\n",
    "logger.add(lambda msg: print(msg, end=\"\"))\n",
    "logger.add(log_file, level=\"DEBUG\", enqueue=True)"
   ]
  },
  {
   "cell_type": "markdown",
   "id": "2c64f1cc",
   "metadata": {},
   "source": [
    "### Define cores for the analysis"
   ]
  },
  {
   "cell_type": "code",
   "execution_count": 4,
   "id": "2ac0f474",
   "metadata": {},
   "outputs": [
    {
     "data": {
      "text/plain": [
       "[WindowsPath('C:/BLCA-2_Analysis_todel/cores/Core_000.zarr')]"
      ]
     },
     "execution_count": 4,
     "metadata": {},
     "output_type": "execute_result"
    }
   ],
   "source": [
    "core_dir = Path(settings['analysis_dir']) / 'cores'\n",
    "path_list = [core_dir / f for f in os.listdir(core_dir)]\n",
    "path_list.sort()\n",
    "path_list"
   ]
  },
  {
   "cell_type": "markdown",
   "id": "03848ec6",
   "metadata": {},
   "source": [
    "### Setup"
   ]
  },
  {
   "cell_type": "code",
   "execution_count": 9,
   "id": "f178084d",
   "metadata": {},
   "outputs": [
    {
     "data": {
      "text/plain": [
       "[{'name': 'ring',\n",
       "  'type': 'ring',\n",
       "  'source': ['instanseg_nucleus'],\n",
       "  'keep': False,\n",
       "  'parameters': {'outer': 8, 'inner': 2}},\n",
       " {'name': 'cytoplasm',\n",
       "  'type': 'subtraction',\n",
       "  'source': ['instanseg_cell', 'instanseg_nucleus'],\n",
       "  'keep': False}]"
      ]
     },
     "execution_count": 9,
     "metadata": {},
     "output_type": "execute_result"
    }
   ],
   "source": [
    "mask_settings = settings['additional_masks']\n",
    "mask_settings"
   ]
  },
  {
   "cell_type": "code",
   "execution_count": 12,
   "id": "58564f29",
   "metadata": {},
   "outputs": [
    {
     "ename": "KeyError",
     "evalue": "'nonsense'",
     "output_type": "error",
     "traceback": [
      "\u001b[31m---------------------------------------------------------------------------\u001b[39m",
      "\u001b[31mKeyError\u001b[39m                                  Traceback (most recent call last)",
      "\u001b[36mCell\u001b[39m\u001b[36m \u001b[39m\u001b[32mIn[12]\u001b[39m\u001b[32m, line 1\u001b[39m\n\u001b[32m----> \u001b[39m\u001b[32m1\u001b[39m \u001b[43msettings\u001b[49m\u001b[43m[\u001b[49m\u001b[33;43m'\u001b[39;49m\u001b[33;43mnonsense\u001b[39;49m\u001b[33;43m'\u001b[39;49m\u001b[43m]\u001b[49m\n",
      "\u001b[31mKeyError\u001b[39m: 'nonsense'"
     ]
    }
   ],
   "source": [
    "settings['nonsense']"
   ]
  },
  {
   "cell_type": "code",
   "execution_count": 11,
   "id": "12c798a7",
   "metadata": {},
   "outputs": [],
   "source": [
    "from multiplex_pipeline.object_quantification.mask_builders import BaseBuilder\n",
    "from multiplex_pipeline.object_quantification.mask_controller import MaskBuildingController"
   ]
  },
  {
   "cell_type": "code",
   "execution_count": 14,
   "id": "b6e4bacb",
   "metadata": {},
   "outputs": [
    {
     "name": "stdout",
     "output_type": "stream",
     "text": [
      "2025-10-10 16:56:37.103 | INFO     | __main__:<module>:5 - Setting up builders for additional masks.\n"
     ]
    },
    {
     "ename": "TypeError",
     "evalue": "MaskBuildingController.__init__() got an unexpected keyword argument 'mask_builder'",
     "output_type": "error",
     "traceback": [
      "\u001b[31m---------------------------------------------------------------------------\u001b[39m",
      "\u001b[31mTypeError\u001b[39m                                 Traceback (most recent call last)",
      "\u001b[36mCell\u001b[39m\u001b[36m \u001b[39m\u001b[32mIn[14]\u001b[39m\u001b[32m, line 11\u001b[39m\n\u001b[32m      9\u001b[39m     \u001b[38;5;28;01mfor\u001b[39;00m mask_settings \u001b[38;5;129;01min\u001b[39;00m settings[\u001b[33m'\u001b[39m\u001b[33madditional_masks\u001b[39m\u001b[33m'\u001b[39m]:\n\u001b[32m     10\u001b[39m         builder = BaseBuilder.create(mask_settings[\u001b[33m'\u001b[39m\u001b[33mtype\u001b[39m\u001b[33m'\u001b[39m], mask_settings.get(\u001b[33m'\u001b[39m\u001b[33mparameters\u001b[39m\u001b[33m'\u001b[39m,\u001b[38;5;28;01mNone\u001b[39;00m))\n\u001b[32m---> \u001b[39m\u001b[32m11\u001b[39m         builder_controller = \u001b[43mMaskBuildingController\u001b[49m\u001b[43m(\u001b[49m\u001b[43mmask_builder\u001b[49m\u001b[43m=\u001b[49m\u001b[43mbuilder\u001b[49m\u001b[43m,\u001b[49m\u001b[43m \u001b[49m\n\u001b[32m     12\u001b[39m \u001b[43m                                            \u001b[49m\u001b[43msource\u001b[49m\u001b[43m=\u001b[49m\u001b[43mmask_settings\u001b[49m\u001b[43m[\u001b[49m\u001b[33;43m'\u001b[39;49m\u001b[33;43msource\u001b[39;49m\u001b[33;43m'\u001b[39;49m\u001b[43m]\u001b[49m\u001b[43m,\u001b[49m\u001b[43m \u001b[49m\n\u001b[32m     13\u001b[39m \u001b[43m                                            \u001b[49m\u001b[43mmask_name\u001b[49m\u001b[43m=\u001b[49m\u001b[43mmask_settings\u001b[49m\u001b[43m[\u001b[49m\u001b[33;43m'\u001b[39;49m\u001b[33;43mname\u001b[39;49m\u001b[33;43m'\u001b[39;49m\u001b[43m]\u001b[49m\u001b[43m,\u001b[49m\u001b[43m \u001b[49m\n\u001b[32m     14\u001b[39m \u001b[43m                                            \u001b[49m\u001b[43mkeep\u001b[49m\u001b[43m=\u001b[49m\u001b[43mmask_settings\u001b[49m\u001b[43m.\u001b[49m\u001b[43mget\u001b[49m\u001b[43m(\u001b[49m\u001b[33;43m'\u001b[39;49m\u001b[33;43mkeep\u001b[39;49m\u001b[33;43m'\u001b[39;49m\u001b[43m,\u001b[49m\u001b[43m \u001b[49m\u001b[38;5;28;43;01mFalse\u001b[39;49;00m\u001b[43m)\u001b[49m\u001b[43m,\u001b[49m\u001b[43m \u001b[49m\n\u001b[32m     15\u001b[39m \u001b[43m                                            \u001b[49m\u001b[43moverwrite\u001b[49m\u001b[43m=\u001b[49m\u001b[38;5;28;43;01mTrue\u001b[39;49;00m\u001b[43m)\u001b[49m\n\u001b[32m     17\u001b[39m         builder_controller_list.append(builder_controller)\n\u001b[32m     19\u001b[39m \u001b[38;5;28;01melse\u001b[39;00m:\n",
      "\u001b[31mTypeError\u001b[39m: MaskBuildingController.__init__() got an unexpected keyword argument 'mask_builder'"
     ]
    }
   ],
   "source": [
    "# setup builder of additional masks\n",
    "\n",
    "if settings.get('additional_masks', None):\n",
    "\n",
    "    logger.info(\"Setting up builders for additional masks.\")\n",
    "    \n",
    "    builder_controller_list = []\n",
    "\n",
    "    for mask_settings in settings['additional_masks']:\n",
    "        builder = BaseBuilder.create(mask_settings['type'], mask_settings.get('parameters',None))\n",
    "        builder_controller = MaskBuildingController(mask_builder=builder, \n",
    "                                            source=mask_settings['source'], \n",
    "                                            mask_name=mask_settings['name'], \n",
    "                                            keep=mask_settings.get('keep', False), \n",
    "                                            overwrite=True)\n",
    "\n",
    "        builder_controller_list.append(builder_controller)\n",
    "\n",
    "else:\n",
    "    builder_controller_list = []\n",
    "    logger.info(\"No additional masks specified.\")"
   ]
  },
  {
   "cell_type": "code",
   "execution_count": 9,
   "id": "92a30089",
   "metadata": {},
   "outputs": [
    {
     "data": {
      "text/plain": [
       "['subtraction']"
      ]
     },
     "execution_count": 9,
     "metadata": {},
     "output_type": "execute_result"
    }
   ],
   "source": [
    "BaseBuilder.available()"
   ]
  },
  {
   "cell_type": "code",
   "execution_count": null,
   "id": "200176ba",
   "metadata": {},
   "outputs": [
    {
     "data": {
      "text/plain": [
       "[{'name': 'ring',\n",
       "  'type': 'ring',\n",
       "  'keep': False,\n",
       "  'kwargs': {'source': ['instanseg_nucleus'], 'outer': 8, 'inner': 2}},\n",
       " {'name': 'cytoplasm',\n",
       "  'type': 'subtraction',\n",
       "  'keep': False,\n",
       "  'kwargs': {'source': ['instanseg_cell', 'instanseg_nucleus']}}]"
      ]
     },
     "execution_count": 22,
     "metadata": {},
     "output_type": "execute_result"
    }
   ],
   "source": [
    "# setup building of additional masks\n",
    "\n",
    "add_masks_builders = []\n",
    "for add_mask in settings['additional_masks']:\n",
    "\n",
    "    # build a quantifier\n",
    "    # send to the controller"
   ]
  },
  {
   "cell_type": "code",
   "execution_count": null,
   "id": "2f4d57ba",
   "metadata": {},
   "outputs": [
    {
     "name": "stdout",
     "output_type": "stream",
     "text": [
      "2025-10-10 14:05:36.803 | INFO     | __main__:<module>:11 - Setting up quantification controller for 'instanseg_table' table with masks {'nucleus': 'instanseg_nucleus', 'cell': 'instanseg_cell'} and connection to 'instanseg_cell' mask\n"
     ]
    }
   ],
   "source": [
    "# setup quantification controllers\n",
    "quant_controller_list = [] \n",
    "for quant in settings['quant']:\n",
    "\n",
    "    table_name = quant['name']\n",
    "    masks_keys = quant['masks']\n",
    "    # for test - delete\n",
    "    masks_keys = {k: masks_keys[k] for k in ['nucleus', 'cell'] if k in masks_keys}\n",
    "    connect_to_mask = quant.get('layer_connection', None)\n",
    "\n",
    "    logger.info(f\"Setting up quantification controller for '{table_name}' table with masks {masks_keys} and connection to '{connect_to_mask}' mask\")\n",
    "\n",
    "    controller = QuantificationController(\n",
    "        table_name=table_name,\n",
    "        mask_keys=masks_keys,\n",
    "        connect_to_mask=connect_to_mask,\n",
    "        overwrite_table=False,\n",
    "    )\n",
    "\n",
    "    quant_controller_list.append(controller) "
   ]
  },
  {
   "cell_type": "markdown",
   "id": "11de3cac",
   "metadata": {},
   "source": [
    "### Quantify"
   ]
  },
  {
   "cell_type": "code",
   "execution_count": 9,
   "id": "fcc1ce61",
   "metadata": {},
   "outputs": [
    {
     "name": "stderr",
     "output_type": "stream",
     "text": [
      "version mismatch: detected: RasterFormatV02, requested: FormatV04\n"
     ]
    },
    {
     "name": "stdout",
     "output_type": "stream",
     "text": [
      "2025-10-10 11:55:09.092 | INFO     | __main__:<module>:4 - Processing Core_000.zarr\n"
     ]
    },
    {
     "name": "stderr",
     "output_type": "stream",
     "text": [
      "c:\\Users\\KMK280\\AppData\\Local\\miniconda3\\envs\\sdata-env\\Lib\\site-packages\\zarr\\creation.py:610: UserWarning: ignoring keyword argument 'read_only'\n",
      "  compressor, fill_value = _kwargs_compat(compressor, fill_value, kwargs)\n"
     ]
    },
    {
     "name": "stdout",
     "output_type": "stream",
     "text": [
      "2025-10-10 11:55:09.626 | INFO     | multiplex_pipeline.object_quantification.controller:run:9 - Quantifying 1 user-specified channels: ['DAPI'].\n",
      "2025-10-10 11:55:09.636 | ERROR    | multiplex_pipeline.object_quantification.controller:run:14 - Table name 'instanseg_table' already exists in sdata. Please provide unique table names.\n"
     ]
    },
    {
     "ename": "ValueError",
     "evalue": "Table name 'instanseg_table' already exists in sdata. Please provide unique table names.",
     "output_type": "error",
     "traceback": [
      "\u001b[31m---------------------------------------------------------------------------\u001b[39m",
      "\u001b[31mValueError\u001b[39m                                Traceback (most recent call last)",
      "\u001b[36mCell\u001b[39m\u001b[36m \u001b[39m\u001b[32mIn[9]\u001b[39m\u001b[32m, line 9\u001b[39m\n\u001b[32m      7\u001b[39m \u001b[38;5;66;03m# run quantification\u001b[39;00m\n\u001b[32m      8\u001b[39m \u001b[38;5;28;01mfor\u001b[39;00m controller \u001b[38;5;129;01min\u001b[39;00m quant_controller_list:\n\u001b[32m----> \u001b[39m\u001b[32m9\u001b[39m     \u001b[43mcontroller\u001b[49m\u001b[43m.\u001b[49m\u001b[43mrun\u001b[49m\u001b[43m(\u001b[49m\u001b[43msdata\u001b[49m\u001b[43m)\u001b[49m\n",
      "\u001b[36mFile \u001b[39m\u001b[32m<string>:15\u001b[39m, in \u001b[36mrun\u001b[39m\u001b[34m(self, spatial_data)\u001b[39m\n",
      "\u001b[31mValueError\u001b[39m: Table name 'instanseg_table' already exists in sdata. Please provide unique table names."
     ]
    }
   ],
   "source": [
    "for sd_path in path_list[:1]:\n",
    "    \n",
    "    # load data\n",
    "    logger.info(f'Processing {sd_path.name}')\n",
    "    sdata = sd.read_zarr(sd_path)\n",
    "\n",
    "    # run quantification\n",
    "    for controller in quant_controller_list:\n",
    "        controller.run(sdata)"
   ]
  },
  {
   "cell_type": "code",
   "execution_count": 10,
   "id": "538b17d7",
   "metadata": {},
   "outputs": [
    {
     "name": "stderr",
     "output_type": "stream",
     "text": [
      "version mismatch: detected: RasterFormatV02, requested: FormatV04\n",
      "c:\\Users\\KMK280\\AppData\\Local\\miniconda3\\envs\\sdata-env\\Lib\\site-packages\\zarr\\creation.py:610: UserWarning: ignoring keyword argument 'read_only'\n",
      "  compressor, fill_value = _kwargs_compat(compressor, fill_value, kwargs)\n"
     ]
    }
   ],
   "source": [
    "sdata = sd.read_zarr(sd_path)"
   ]
  },
  {
   "cell_type": "code",
   "execution_count": null,
   "id": "349877b0",
   "metadata": {},
   "outputs": [
    {
     "data": {
      "text/plain": [
       "<napari_spatialdata._interactive.Interactive at 0x18acd560690>"
      ]
     },
     "execution_count": 11,
     "metadata": {},
     "output_type": "execute_result"
    },
    {
     "name": "stderr",
     "output_type": "stream",
     "text": [
      "c:\\Users\\KMK280\\AppData\\Local\\miniconda3\\envs\\sdata-env\\Lib\\site-packages\\anndata\\_core\\aligned_df.py:68: ImplicitModificationWarning: Transforming to str index.\n",
      "  warnings.warn(\"Transforming to str index.\", ImplicitModificationWarning)\n"
     ]
    },
    {
     "name": "stdout",
     "output_type": "stream",
     "text": [
      "2025-10-10 11:55:27.783 | DEBUG    | napari_spatialdata._view:_on_layer_update:569 - Updating layer.\n",
      "2025-10-10 11:55:27.787 | DEBUG    | napari_spatialdata._view:_on_layer_update:569 - Updating layer.\n",
      "2025-10-10 11:55:32.836 | DEBUG    | napari_spatialdata._view:_on_layer_update:569 - Updating layer.\n",
      "2025-10-10 11:55:32.841 | DEBUG    | napari_spatialdata._view:_on_layer_update:569 - Updating layer.\n",
      "2025-10-10 11:55:34.285 | DEBUG    | napari_spatialdata._view:_on_layer_update:569 - Updating layer.\n",
      "2025-10-10 11:56:30.828 | DEBUG    | napari_spatialdata._view:_on_layer_update:569 - Updating layer.\n",
      "2025-10-10 11:56:30.828 | DEBUG    | napari_spatialdata._view:_on_layer_update:569 - Updating layer.\n",
      "2025-10-10 11:56:30.838 | DEBUG    | napari_spatialdata._view:_on_layer_update:569 - Updating layer.\n"
     ]
    }
   ],
   "source": [
    "from napari_spatialdata import Interactive\n",
    "\n",
    "Interactive(sdata)"
   ]
  },
  {
   "cell_type": "code",
   "execution_count": 91,
   "id": "f2c1b6c7",
   "metadata": {},
   "outputs": [
    {
     "name": "stdout",
     "output_type": "stream",
     "text": [
      "2025-10-10 09:31:07.706 | INFO     | multiplex_pipeline.object_quantification.controller:prepare_masks:58 - Cytoplasm mask 'cyto' created as instanseg_cell minus instanseg_nucleus.\n",
      "2025-10-10 09:31:07.768 | INFO     | multiplex_pipeline.object_quantification.controller:run:15 - Prepared masks for quantification.\n",
      "2025-10-10 09:31:07.768 | INFO     | multiplex_pipeline.object_quantification.controller:run:23 - Quantifying morphology features for mask 'cell'\n",
      "2025-10-10 09:31:54.830 | INFO     | multiplex_pipeline.object_quantification.controller:run:23 - Quantifying morphology features for mask 'nucleus'\n",
      "2025-10-10 09:32:36.670 | INFO     | multiplex_pipeline.object_quantification.controller:run:23 - Quantifying morphology features for mask 'cyto'\n",
      "2025-10-10 09:33:27.794 | INFO     | multiplex_pipeline.object_quantification.controller:run:32 - Quantifying channel '53BP1' with mask 'cell'\n",
      "2025-10-10 09:33:32.062 | INFO     | multiplex_pipeline.object_quantification.controller:run:32 - Quantifying channel '53BP1' with mask 'nucleus'\n",
      "2025-10-10 09:33:35.691 | INFO     | multiplex_pipeline.object_quantification.controller:run:32 - Quantifying channel '53BP1' with mask 'cyto'\n",
      "2025-10-10 09:33:40.225 | INFO     | multiplex_pipeline.object_quantification.controller:run:32 - Quantifying channel 'CD11C' with mask 'cell'\n",
      "2025-10-10 09:33:44.785 | INFO     | multiplex_pipeline.object_quantification.controller:run:32 - Quantifying channel 'CD11C' with mask 'nucleus'\n",
      "2025-10-10 09:33:48.508 | INFO     | multiplex_pipeline.object_quantification.controller:run:32 - Quantifying channel 'CD11C' with mask 'cyto'\n",
      "2025-10-10 09:33:52.477 | INFO     | multiplex_pipeline.object_quantification.controller:run:32 - Quantifying channel 'CD11b' with mask 'cell'\n",
      "2025-10-10 09:33:57.029 | INFO     | multiplex_pipeline.object_quantification.controller:run:32 - Quantifying channel 'CD11b' with mask 'nucleus'\n",
      "2025-10-10 09:34:00.453 | INFO     | multiplex_pipeline.object_quantification.controller:run:32 - Quantifying channel 'CD11b' with mask 'cyto'\n",
      "2025-10-10 09:34:04.879 | INFO     | multiplex_pipeline.object_quantification.controller:run:32 - Quantifying channel 'CD127' with mask 'cell'\n",
      "2025-10-10 09:34:09.268 | INFO     | multiplex_pipeline.object_quantification.controller:run:32 - Quantifying channel 'CD127' with mask 'nucleus'\n",
      "2025-10-10 09:34:12.982 | INFO     | multiplex_pipeline.object_quantification.controller:run:32 - Quantifying channel 'CD127' with mask 'cyto'\n",
      "2025-10-10 09:34:17.198 | INFO     | multiplex_pipeline.object_quantification.controller:run:32 - Quantifying channel 'CD163' with mask 'cell'\n",
      "2025-10-10 09:34:21.813 | INFO     | multiplex_pipeline.object_quantification.controller:run:32 - Quantifying channel 'CD163' with mask 'nucleus'\n",
      "2025-10-10 09:34:25.435 | INFO     | multiplex_pipeline.object_quantification.controller:run:32 - Quantifying channel 'CD163' with mask 'cyto'\n",
      "2025-10-10 09:34:29.430 | INFO     | multiplex_pipeline.object_quantification.controller:run:32 - Quantifying channel 'CD20' with mask 'cell'\n",
      "2025-10-10 09:34:34.394 | INFO     | multiplex_pipeline.object_quantification.controller:run:32 - Quantifying channel 'CD20' with mask 'nucleus'\n",
      "2025-10-10 09:34:37.513 | INFO     | multiplex_pipeline.object_quantification.controller:run:32 - Quantifying channel 'CD20' with mask 'cyto'\n",
      "2025-10-10 09:34:41.348 | INFO     | multiplex_pipeline.object_quantification.controller:run:32 - Quantifying channel 'CD3' with mask 'cell'\n",
      "2025-10-10 09:34:44.694 | INFO     | multiplex_pipeline.object_quantification.controller:run:32 - Quantifying channel 'CD3' with mask 'nucleus'\n",
      "2025-10-10 09:34:47.712 | INFO     | multiplex_pipeline.object_quantification.controller:run:32 - Quantifying channel 'CD3' with mask 'cyto'\n",
      "2025-10-10 09:34:51.335 | INFO     | multiplex_pipeline.object_quantification.controller:run:32 - Quantifying channel 'CD31' with mask 'cell'\n",
      "2025-10-10 09:34:54.756 | INFO     | multiplex_pipeline.object_quantification.controller:run:32 - Quantifying channel 'CD31' with mask 'nucleus'\n",
      "2025-10-10 09:34:57.949 | INFO     | multiplex_pipeline.object_quantification.controller:run:32 - Quantifying channel 'CD31' with mask 'cyto'\n",
      "2025-10-10 09:35:01.266 | INFO     | multiplex_pipeline.object_quantification.controller:run:32 - Quantifying channel 'CD44' with mask 'cell'\n",
      "2025-10-10 09:35:04.961 | INFO     | multiplex_pipeline.object_quantification.controller:run:32 - Quantifying channel 'CD44' with mask 'nucleus'\n",
      "2025-10-10 09:35:07.713 | INFO     | multiplex_pipeline.object_quantification.controller:run:32 - Quantifying channel 'CD44' with mask 'cyto'\n",
      "2025-10-10 09:35:11.334 | INFO     | multiplex_pipeline.object_quantification.controller:run:32 - Quantifying channel 'CD45' with mask 'cell'\n",
      "2025-10-10 09:35:14.684 | INFO     | multiplex_pipeline.object_quantification.controller:run:32 - Quantifying channel 'CD45' with mask 'nucleus'\n",
      "2025-10-10 09:35:17.676 | INFO     | multiplex_pipeline.object_quantification.controller:run:32 - Quantifying channel 'CD45' with mask 'cyto'\n",
      "2025-10-10 09:35:21.000 | INFO     | multiplex_pipeline.object_quantification.controller:run:32 - Quantifying channel 'CD45RO' with mask 'cell'\n",
      "2025-10-10 09:35:24.758 | INFO     | multiplex_pipeline.object_quantification.controller:run:32 - Quantifying channel 'CD45RO' with mask 'nucleus'\n",
      "2025-10-10 09:35:27.783 | INFO     | multiplex_pipeline.object_quantification.controller:run:32 - Quantifying channel 'CD45RO' with mask 'cyto'\n",
      "2025-10-10 09:35:31.136 | INFO     | multiplex_pipeline.object_quantification.controller:run:32 - Quantifying channel 'CD68' with mask 'cell'\n",
      "2025-10-10 09:35:35.153 | INFO     | multiplex_pipeline.object_quantification.controller:run:32 - Quantifying channel 'CD68' with mask 'nucleus'\n",
      "2025-10-10 09:35:38.153 | INFO     | multiplex_pipeline.object_quantification.controller:run:32 - Quantifying channel 'CD68' with mask 'cyto'\n",
      "2025-10-10 09:35:42.353 | INFO     | multiplex_pipeline.object_quantification.controller:run:32 - Quantifying channel 'CD8a' with mask 'cell'\n",
      "2025-10-10 09:35:46.084 | INFO     | multiplex_pipeline.object_quantification.controller:run:32 - Quantifying channel 'CD8a' with mask 'nucleus'\n",
      "2025-10-10 09:35:49.701 | INFO     | multiplex_pipeline.object_quantification.controller:run:32 - Quantifying channel 'CD8a' with mask 'cyto'\n",
      "2025-10-10 09:35:53.668 | INFO     | multiplex_pipeline.object_quantification.controller:run:32 - Quantifying channel 'CDC6' with mask 'cell'\n",
      "2025-10-10 09:35:58.225 | INFO     | multiplex_pipeline.object_quantification.controller:run:32 - Quantifying channel 'CDC6' with mask 'nucleus'\n",
      "2025-10-10 09:36:01.955 | INFO     | multiplex_pipeline.object_quantification.controller:run:32 - Quantifying channel 'CDC6' with mask 'cyto'\n",
      "2025-10-10 09:36:05.253 | INFO     | multiplex_pipeline.object_quantification.controller:run:32 - Quantifying channel 'CDK2' with mask 'cell'\n",
      "2025-10-10 09:36:08.854 | INFO     | multiplex_pipeline.object_quantification.controller:run:32 - Quantifying channel 'CDK2' with mask 'nucleus'\n",
      "2025-10-10 09:36:11.567 | INFO     | multiplex_pipeline.object_quantification.controller:run:32 - Quantifying channel 'CDK2' with mask 'cyto'\n",
      "2025-10-10 09:36:15.435 | INFO     | multiplex_pipeline.object_quantification.controller:run:32 - Quantifying channel 'CDK4' with mask 'cell'\n",
      "2025-10-10 09:36:18.736 | INFO     | multiplex_pipeline.object_quantification.controller:run:32 - Quantifying channel 'CDK4' with mask 'nucleus'\n",
      "2025-10-10 09:36:21.729 | INFO     | multiplex_pipeline.object_quantification.controller:run:32 - Quantifying channel 'CDK4' with mask 'cyto'\n",
      "2025-10-10 09:36:25.511 | INFO     | multiplex_pipeline.object_quantification.controller:run:32 - Quantifying channel 'CDK6' with mask 'cell'\n",
      "2025-10-10 09:36:28.751 | INFO     | multiplex_pipeline.object_quantification.controller:run:32 - Quantifying channel 'CDK6' with mask 'nucleus'\n",
      "2025-10-10 09:36:31.781 | INFO     | multiplex_pipeline.object_quantification.controller:run:32 - Quantifying channel 'CDK6' with mask 'cyto'\n",
      "2025-10-10 09:36:35.201 | INFO     | multiplex_pipeline.object_quantification.controller:run:32 - Quantifying channel 'CDT1' with mask 'cell'\n",
      "2025-10-10 09:36:38.941 | INFO     | multiplex_pipeline.object_quantification.controller:run:32 - Quantifying channel 'CDT1' with mask 'nucleus'\n",
      "2025-10-10 09:36:41.611 | INFO     | multiplex_pipeline.object_quantification.controller:run:32 - Quantifying channel 'CDT1' with mask 'cyto'\n",
      "2025-10-10 09:36:45.313 | INFO     | multiplex_pipeline.object_quantification.controller:run:32 - Quantifying channel 'Coll3' with mask 'cell'\n",
      "2025-10-10 09:36:48.843 | INFO     | multiplex_pipeline.object_quantification.controller:run:32 - Quantifying channel 'Coll3' with mask 'nucleus'\n",
      "2025-10-10 09:36:52.224 | INFO     | multiplex_pipeline.object_quantification.controller:run:32 - Quantifying channel 'Coll3' with mask 'cyto'\n",
      "2025-10-10 09:36:56.252 | INFO     | multiplex_pipeline.object_quantification.controller:run:32 - Quantifying channel 'CycB1' with mask 'cell'\n",
      "2025-10-10 09:37:00.346 | INFO     | multiplex_pipeline.object_quantification.controller:run:32 - Quantifying channel 'CycB1' with mask 'nucleus'\n",
      "2025-10-10 09:37:04.328 | INFO     | multiplex_pipeline.object_quantification.controller:run:32 - Quantifying channel 'CycB1' with mask 'cyto'\n",
      "2025-10-10 09:37:08.141 | INFO     | multiplex_pipeline.object_quantification.controller:run:32 - Quantifying channel 'DAPI' with mask 'cell'\n",
      "2025-10-10 09:37:12.258 | INFO     | multiplex_pipeline.object_quantification.controller:run:32 - Quantifying channel 'DAPI' with mask 'nucleus'\n",
      "2025-10-10 09:37:15.682 | INFO     | multiplex_pipeline.object_quantification.controller:run:32 - Quantifying channel 'DAPI' with mask 'cyto'\n",
      "2025-10-10 09:37:20.429 | INFO     | multiplex_pipeline.object_quantification.controller:run:32 - Quantifying channel 'ECad' with mask 'cell'\n",
      "2025-10-10 09:37:24.474 | INFO     | multiplex_pipeline.object_quantification.controller:run:32 - Quantifying channel 'ECad' with mask 'nucleus'\n",
      "2025-10-10 09:37:28.066 | INFO     | multiplex_pipeline.object_quantification.controller:run:32 - Quantifying channel 'ECad' with mask 'cyto'\n",
      "2025-10-10 09:37:32.600 | INFO     | multiplex_pipeline.object_quantification.controller:run:32 - Quantifying channel 'FOXP3' with mask 'cell'\n",
      "2025-10-10 09:37:36.617 | INFO     | multiplex_pipeline.object_quantification.controller:run:32 - Quantifying channel 'FOXP3' with mask 'nucleus'\n",
      "2025-10-10 09:37:40.356 | INFO     | multiplex_pipeline.object_quantification.controller:run:32 - Quantifying channel 'FOXP3' with mask 'cyto'\n",
      "2025-10-10 09:37:44.431 | INFO     | multiplex_pipeline.object_quantification.controller:run:32 - Quantifying channel 'Fibro' with mask 'cell'\n",
      "2025-10-10 09:37:48.728 | INFO     | multiplex_pipeline.object_quantification.controller:run:32 - Quantifying channel 'Fibro' with mask 'nucleus'\n",
      "2025-10-10 09:37:51.943 | INFO     | multiplex_pipeline.object_quantification.controller:run:32 - Quantifying channel 'Fibro' with mask 'cyto'\n",
      "2025-10-10 09:37:56.134 | INFO     | multiplex_pipeline.object_quantification.controller:run:32 - Quantifying channel 'GranzymeB' with mask 'cell'\n",
      "2025-10-10 09:38:00.242 | INFO     | multiplex_pipeline.object_quantification.controller:run:32 - Quantifying channel 'GranzymeB' with mask 'nucleus'\n",
      "2025-10-10 09:38:03.840 | INFO     | multiplex_pipeline.object_quantification.controller:run:32 - Quantifying channel 'GranzymeB' with mask 'cyto'\n",
      "2025-10-10 09:38:08.277 | INFO     | multiplex_pipeline.object_quantification.controller:run:32 - Quantifying channel 'HES1' with mask 'cell'\n",
      "2025-10-10 09:38:12.414 | INFO     | multiplex_pipeline.object_quantification.controller:run:32 - Quantifying channel 'HES1' with mask 'nucleus'\n",
      "2025-10-10 09:38:16.037 | INFO     | multiplex_pipeline.object_quantification.controller:run:32 - Quantifying channel 'HES1' with mask 'cyto'\n",
      "2025-10-10 09:38:20.102 | INFO     | multiplex_pipeline.object_quantification.controller:run:32 - Quantifying channel 'HIF1a' with mask 'cell'\n",
      "2025-10-10 09:38:24.409 | INFO     | multiplex_pipeline.object_quantification.controller:run:32 - Quantifying channel 'HIF1a' with mask 'nucleus'\n",
      "2025-10-10 09:38:27.656 | INFO     | multiplex_pipeline.object_quantification.controller:run:32 - Quantifying channel 'HIF1a' with mask 'cyto'\n",
      "2025-10-10 09:38:31.813 | INFO     | multiplex_pipeline.object_quantification.controller:run:32 - Quantifying channel 'HLA1' with mask 'cell'\n",
      "2025-10-10 09:38:35.816 | INFO     | multiplex_pipeline.object_quantification.controller:run:32 - Quantifying channel 'HLA1' with mask 'nucleus'\n",
      "2025-10-10 09:38:39.361 | INFO     | multiplex_pipeline.object_quantification.controller:run:32 - Quantifying channel 'HLA1' with mask 'cyto'\n",
      "2025-10-10 09:38:43.243 | INFO     | multiplex_pipeline.object_quantification.controller:run:32 - Quantifying channel 'HLADR' with mask 'cell'\n",
      "2025-10-10 09:38:47.510 | INFO     | multiplex_pipeline.object_quantification.controller:run:32 - Quantifying channel 'HLADR' with mask 'nucleus'\n",
      "2025-10-10 09:38:51.068 | INFO     | multiplex_pipeline.object_quantification.controller:run:32 - Quantifying channel 'HLADR' with mask 'cyto'\n",
      "2025-10-10 09:38:55.107 | INFO     | multiplex_pipeline.object_quantification.controller:run:32 - Quantifying channel 'IL6' with mask 'cell'\n",
      "2025-10-10 09:38:59.574 | INFO     | multiplex_pipeline.object_quantification.controller:run:32 - Quantifying channel 'IL6' with mask 'nucleus'\n",
      "2025-10-10 09:39:02.828 | INFO     | multiplex_pipeline.object_quantification.controller:run:32 - Quantifying channel 'IL6' with mask 'cyto'\n",
      "2025-10-10 09:39:07.362 | INFO     | multiplex_pipeline.object_quantification.controller:run:32 - Quantifying channel 'Ki67' with mask 'cell'\n",
      "2025-10-10 09:39:11.013 | INFO     | multiplex_pipeline.object_quantification.controller:run:32 - Quantifying channel 'Ki67' with mask 'nucleus'\n",
      "2025-10-10 09:39:14.461 | INFO     | multiplex_pipeline.object_quantification.controller:run:32 - Quantifying channel 'Ki67' with mask 'cyto'\n",
      "2025-10-10 09:39:18.258 | INFO     | multiplex_pipeline.object_quantification.controller:run:32 - Quantifying channel 'LaminB1' with mask 'cell'\n",
      "2025-10-10 09:39:22.536 | INFO     | multiplex_pipeline.object_quantification.controller:run:32 - Quantifying channel 'LaminB1' with mask 'nucleus'\n",
      "2025-10-10 09:39:25.878 | INFO     | multiplex_pipeline.object_quantification.controller:run:32 - Quantifying channel 'LaminB1' with mask 'cyto'\n",
      "2025-10-10 09:39:29.831 | INFO     | multiplex_pipeline.object_quantification.controller:run:32 - Quantifying channel 'NaKATPase' with mask 'cell'\n",
      "2025-10-10 09:39:34.406 | INFO     | multiplex_pipeline.object_quantification.controller:run:32 - Quantifying channel 'NaKATPase' with mask 'nucleus'\n",
      "2025-10-10 09:39:37.551 | INFO     | multiplex_pipeline.object_quantification.controller:run:32 - Quantifying channel 'NaKATPase' with mask 'cyto'\n",
      "2025-10-10 09:39:41.843 | INFO     | multiplex_pipeline.object_quantification.controller:run:32 - Quantifying channel 'PCNA' with mask 'cell'\n",
      "2025-10-10 09:39:46.197 | INFO     | multiplex_pipeline.object_quantification.controller:run:32 - Quantifying channel 'PCNA' with mask 'nucleus'\n",
      "2025-10-10 09:39:50.043 | INFO     | multiplex_pipeline.object_quantification.controller:run:32 - Quantifying channel 'PCNA' with mask 'cyto'\n",
      "2025-10-10 09:39:53.830 | INFO     | multiplex_pipeline.object_quantification.controller:run:32 - Quantifying channel 'PD-1' with mask 'cell'\n",
      "2025-10-10 09:39:57.211 | INFO     | multiplex_pipeline.object_quantification.controller:run:32 - Quantifying channel 'PD-1' with mask 'nucleus'\n",
      "2025-10-10 09:40:00.292 | INFO     | multiplex_pipeline.object_quantification.controller:run:32 - Quantifying channel 'PD-1' with mask 'cyto'\n",
      "2025-10-10 09:40:03.696 | INFO     | multiplex_pipeline.object_quantification.controller:run:32 - Quantifying channel 'PML' with mask 'cell'\n",
      "2025-10-10 09:40:07.486 | INFO     | multiplex_pipeline.object_quantification.controller:run:32 - Quantifying channel 'PML' with mask 'nucleus'\n",
      "2025-10-10 09:40:10.271 | INFO     | multiplex_pipeline.object_quantification.controller:run:32 - Quantifying channel 'PML' with mask 'cyto'\n",
      "2025-10-10 09:40:14.179 | INFO     | multiplex_pipeline.object_quantification.controller:run:32 - Quantifying channel 'RB' with mask 'cell'\n",
      "2025-10-10 09:40:17.457 | INFO     | multiplex_pipeline.object_quantification.controller:run:32 - Quantifying channel 'RB' with mask 'nucleus'\n",
      "2025-10-10 09:40:20.511 | INFO     | multiplex_pipeline.object_quantification.controller:run:32 - Quantifying channel 'RB' with mask 'cyto'\n",
      "2025-10-10 09:40:24.291 | INFO     | multiplex_pipeline.object_quantification.controller:run:32 - Quantifying channel 'SMA' with mask 'cell'\n",
      "2025-10-10 09:40:27.578 | INFO     | multiplex_pipeline.object_quantification.controller:run:32 - Quantifying channel 'SMA' with mask 'nucleus'\n",
      "2025-10-10 09:40:30.664 | INFO     | multiplex_pipeline.object_quantification.controller:run:32 - Quantifying channel 'SMA' with mask 'cyto'\n",
      "2025-10-10 09:40:34.037 | INFO     | multiplex_pipeline.object_quantification.controller:run:32 - Quantifying channel 'TGFb1' with mask 'cell'\n",
      "2025-10-10 09:40:37.741 | INFO     | multiplex_pipeline.object_quantification.controller:run:32 - Quantifying channel 'TGFb1' with mask 'nucleus'\n",
      "2025-10-10 09:40:40.452 | INFO     | multiplex_pipeline.object_quantification.controller:run:32 - Quantifying channel 'TGFb1' with mask 'cyto'\n",
      "2025-10-10 09:40:44.151 | INFO     | multiplex_pipeline.object_quantification.controller:run:32 - Quantifying channel 'VIM' with mask 'cell'\n",
      "2025-10-10 09:40:47.418 | INFO     | multiplex_pipeline.object_quantification.controller:run:32 - Quantifying channel 'VIM' with mask 'nucleus'\n",
      "2025-10-10 09:40:50.568 | INFO     | multiplex_pipeline.object_quantification.controller:run:32 - Quantifying channel 'VIM' with mask 'cyto'\n",
      "2025-10-10 09:40:54.337 | INFO     | multiplex_pipeline.object_quantification.controller:run:32 - Quantifying channel 'YAP1' with mask 'cell'\n",
      "2025-10-10 09:40:57.687 | INFO     | multiplex_pipeline.object_quantification.controller:run:32 - Quantifying channel 'YAP1' with mask 'nucleus'\n",
      "2025-10-10 09:41:00.718 | INFO     | multiplex_pipeline.object_quantification.controller:run:32 - Quantifying channel 'YAP1' with mask 'cyto'\n",
      "2025-10-10 09:41:04.089 | INFO     | multiplex_pipeline.object_quantification.controller:run:32 - Quantifying channel 'bCat' with mask 'cell'\n",
      "2025-10-10 09:41:07.745 | INFO     | multiplex_pipeline.object_quantification.controller:run:32 - Quantifying channel 'bCat' with mask 'nucleus'\n",
      "2025-10-10 09:41:10.412 | INFO     | multiplex_pipeline.object_quantification.controller:run:32 - Quantifying channel 'bCat' with mask 'cyto'\n",
      "2025-10-10 09:41:14.135 | INFO     | multiplex_pipeline.object_quantification.controller:run:32 - Quantifying channel 'cMYC' with mask 'cell'\n",
      "2025-10-10 09:41:17.475 | INFO     | multiplex_pipeline.object_quantification.controller:run:32 - Quantifying channel 'cMYC' with mask 'nucleus'\n",
      "2025-10-10 09:41:20.513 | INFO     | multiplex_pipeline.object_quantification.controller:run:32 - Quantifying channel 'cMYC' with mask 'cyto'\n",
      "2025-10-10 09:41:24.329 | INFO     | multiplex_pipeline.object_quantification.controller:run:32 - Quantifying channel 'cycA1' with mask 'cell'\n",
      "2025-10-10 09:41:27.769 | INFO     | multiplex_pipeline.object_quantification.controller:run:32 - Quantifying channel 'cycA1' with mask 'nucleus'\n",
      "2025-10-10 09:41:31.021 | INFO     | multiplex_pipeline.object_quantification.controller:run:32 - Quantifying channel 'cycA1' with mask 'cyto'\n",
      "2025-10-10 09:41:34.405 | INFO     | multiplex_pipeline.object_quantification.controller:run:32 - Quantifying channel 'cycA2' with mask 'cell'\n",
      "2025-10-10 09:41:38.197 | INFO     | multiplex_pipeline.object_quantification.controller:run:32 - Quantifying channel 'cycA2' with mask 'nucleus'\n",
      "2025-10-10 09:41:40.925 | INFO     | multiplex_pipeline.object_quantification.controller:run:32 - Quantifying channel 'cycA2' with mask 'cyto'\n",
      "2025-10-10 09:41:44.702 | INFO     | multiplex_pipeline.object_quantification.controller:run:32 - Quantifying channel 'cycD1' with mask 'cell'\n",
      "2025-10-10 09:41:48.054 | INFO     | multiplex_pipeline.object_quantification.controller:run:32 - Quantifying channel 'cycD1' with mask 'nucleus'\n",
      "2025-10-10 09:41:51.169 | INFO     | multiplex_pipeline.object_quantification.controller:run:32 - Quantifying channel 'cycD1' with mask 'cyto'\n",
      "2025-10-10 09:41:54.570 | INFO     | multiplex_pipeline.object_quantification.controller:run:32 - Quantifying channel 'cycE1' with mask 'cell'\n",
      "2025-10-10 09:41:58.289 | INFO     | multiplex_pipeline.object_quantification.controller:run:32 - Quantifying channel 'cycE1' with mask 'nucleus'\n",
      "2025-10-10 09:42:01.365 | INFO     | multiplex_pipeline.object_quantification.controller:run:32 - Quantifying channel 'cycE1' with mask 'cyto'\n",
      "2025-10-10 09:42:04.839 | INFO     | multiplex_pipeline.object_quantification.controller:run:32 - Quantifying channel 'cycE2' with mask 'cell'\n",
      "2025-10-10 09:42:08.598 | INFO     | multiplex_pipeline.object_quantification.controller:run:32 - Quantifying channel 'cycE2' with mask 'nucleus'\n",
      "2025-10-10 09:42:11.428 | INFO     | multiplex_pipeline.object_quantification.controller:run:32 - Quantifying channel 'cycE2' with mask 'cyto'\n",
      "2025-10-10 09:42:15.236 | INFO     | multiplex_pipeline.object_quantification.controller:run:32 - Quantifying channel 'p16' with mask 'cell'\n",
      "2025-10-10 09:42:18.661 | INFO     | multiplex_pipeline.object_quantification.controller:run:32 - Quantifying channel 'p16' with mask 'nucleus'\n",
      "2025-10-10 09:42:21.919 | INFO     | multiplex_pipeline.object_quantification.controller:run:32 - Quantifying channel 'p16' with mask 'cyto'\n",
      "2025-10-10 09:42:25.468 | INFO     | multiplex_pipeline.object_quantification.controller:run:32 - Quantifying channel 'p21' with mask 'cell'\n",
      "2025-10-10 09:42:29.177 | INFO     | multiplex_pipeline.object_quantification.controller:run:32 - Quantifying channel 'p21' with mask 'nucleus'\n",
      "2025-10-10 09:42:32.324 | INFO     | multiplex_pipeline.object_quantification.controller:run:32 - Quantifying channel 'p21' with mask 'cyto'\n",
      "2025-10-10 09:42:35.603 | INFO     | multiplex_pipeline.object_quantification.controller:run:32 - Quantifying channel 'p27' with mask 'cell'\n",
      "2025-10-10 09:42:39.349 | INFO     | multiplex_pipeline.object_quantification.controller:run:32 - Quantifying channel 'p27' with mask 'nucleus'\n",
      "2025-10-10 09:42:42.130 | INFO     | multiplex_pipeline.object_quantification.controller:run:32 - Quantifying channel 'p27' with mask 'cyto'\n",
      "2025-10-10 09:42:46.124 | INFO     | multiplex_pipeline.object_quantification.controller:run:32 - Quantifying channel 'p38' with mask 'cell'\n",
      "2025-10-10 09:42:49.571 | INFO     | multiplex_pipeline.object_quantification.controller:run:32 - Quantifying channel 'p38' with mask 'nucleus'\n",
      "2025-10-10 09:42:52.671 | INFO     | multiplex_pipeline.object_quantification.controller:run:32 - Quantifying channel 'p38' with mask 'cyto'\n",
      "2025-10-10 09:42:56.433 | INFO     | multiplex_pipeline.object_quantification.controller:run:32 - Quantifying channel 'p53' with mask 'cell'\n",
      "2025-10-10 09:42:59.701 | INFO     | multiplex_pipeline.object_quantification.controller:run:32 - Quantifying channel 'p53' with mask 'nucleus'\n",
      "2025-10-10 09:43:02.746 | INFO     | multiplex_pipeline.object_quantification.controller:run:32 - Quantifying channel 'p53' with mask 'cyto'\n",
      "2025-10-10 09:43:06.281 | INFO     | multiplex_pipeline.object_quantification.controller:run:32 - Quantifying channel 'pAKT' with mask 'cell'\n",
      "2025-10-10 09:43:10.084 | INFO     | multiplex_pipeline.object_quantification.controller:run:32 - Quantifying channel 'pAKT' with mask 'nucleus'\n",
      "2025-10-10 09:43:12.794 | INFO     | multiplex_pipeline.object_quantification.controller:run:32 - Quantifying channel 'pAKT' with mask 'cyto'\n",
      "2025-10-10 09:43:16.741 | INFO     | multiplex_pipeline.object_quantification.controller:run:32 - Quantifying channel 'pATR' with mask 'cell'\n",
      "2025-10-10 09:43:20.132 | INFO     | multiplex_pipeline.object_quantification.controller:run:32 - Quantifying channel 'pATR' with mask 'nucleus'\n",
      "2025-10-10 09:43:23.232 | INFO     | multiplex_pipeline.object_quantification.controller:run:32 - Quantifying channel 'pATR' with mask 'cyto'\n",
      "2025-10-10 09:43:27.082 | INFO     | multiplex_pipeline.object_quantification.controller:run:32 - Quantifying channel 'pCK26' with mask 'cell'\n",
      "2025-10-10 09:43:30.342 | INFO     | multiplex_pipeline.object_quantification.controller:run:32 - Quantifying channel 'pCK26' with mask 'nucleus'\n",
      "2025-10-10 09:43:33.472 | INFO     | multiplex_pipeline.object_quantification.controller:run:32 - Quantifying channel 'pCK26' with mask 'cyto'\n",
      "2025-10-10 09:43:36.916 | INFO     | multiplex_pipeline.object_quantification.controller:run:32 - Quantifying channel 'pERK' with mask 'cell'\n",
      "2025-10-10 09:43:40.512 | INFO     | multiplex_pipeline.object_quantification.controller:run:32 - Quantifying channel 'pERK' with mask 'nucleus'\n",
      "2025-10-10 09:43:43.326 | INFO     | multiplex_pipeline.object_quantification.controller:run:32 - Quantifying channel 'pERK' with mask 'cyto'\n",
      "2025-10-10 09:43:46.982 | INFO     | multiplex_pipeline.object_quantification.controller:run:32 - Quantifying channel 'pH2AX' with mask 'cell'\n",
      "2025-10-10 09:43:50.292 | INFO     | multiplex_pipeline.object_quantification.controller:run:32 - Quantifying channel 'pH2AX' with mask 'nucleus'\n",
      "2025-10-10 09:43:53.458 | INFO     | multiplex_pipeline.object_quantification.controller:run:32 - Quantifying channel 'pH2AX' with mask 'cyto'\n",
      "2025-10-10 09:43:57.162 | INFO     | multiplex_pipeline.object_quantification.controller:run:32 - Quantifying channel 'pRB' with mask 'cell'\n",
      "2025-10-10 09:44:00.615 | INFO     | multiplex_pipeline.object_quantification.controller:run:32 - Quantifying channel 'pRB' with mask 'nucleus'\n",
      "2025-10-10 09:44:03.724 | INFO     | multiplex_pipeline.object_quantification.controller:run:32 - Quantifying channel 'pRB' with mask 'cyto'\n",
      "2025-10-10 09:44:07.013 | INFO     | multiplex_pipeline.object_quantification.controller:run:32 - Quantifying channel 'pS6' with mask 'cell'\n",
      "2025-10-10 09:44:10.678 | INFO     | multiplex_pipeline.object_quantification.controller:run:32 - Quantifying channel 'pS6' with mask 'nucleus'\n",
      "2025-10-10 09:44:13.386 | INFO     | multiplex_pipeline.object_quantification.controller:run:32 - Quantifying channel 'pS6' with mask 'cyto'\n",
      "2025-10-10 09:44:17.137 | INFO     | multiplex_pipeline.object_quantification.controller:run:32 - Quantifying channel 'wee1' with mask 'cell'\n",
      "2025-10-10 09:44:20.413 | INFO     | multiplex_pipeline.object_quantification.controller:run:32 - Quantifying channel 'wee1' with mask 'nucleus'\n",
      "2025-10-10 09:44:23.512 | INFO     | multiplex_pipeline.object_quantification.controller:run:32 - Quantifying channel 'wee1' with mask 'cyto'\n",
      "2025-10-10 09:44:26.383 | INFO     | multiplex_pipeline.object_quantification.controller:run:37 - Combining morphology and quantification data into AnnData object.\n",
      "2025-10-10 09:44:26.413 | INFO     | multiplex_pipeline.object_quantification.controller:run:41 - Found 3 columns with multiple dimensions: ['centroid_cell', 'centroid_nucleus', 'centroid_cyto']. Creating obsm table.\n"
     ]
    },
    {
     "ename": "TypeError",
     "evalue": "build_obsm() takes 2 positional arguments but 3 were given",
     "output_type": "error",
     "traceback": [
      "\u001b[31m---------------------------------------------------------------------------\u001b[39m",
      "\u001b[31mTypeError\u001b[39m                                 Traceback (most recent call last)",
      "\u001b[36mCell\u001b[39m\u001b[36m \u001b[39m\u001b[32mIn[91]\u001b[39m\u001b[32m, line 1\u001b[39m\n\u001b[32m----> \u001b[39m\u001b[32m1\u001b[39m \u001b[43mcontroller\u001b[49m\u001b[43m.\u001b[49m\u001b[43mrun\u001b[49m\u001b[43m(\u001b[49m\u001b[43msdata\u001b[49m\u001b[43m)\u001b[49m\n",
      "\u001b[36mFile \u001b[39m\u001b[32m<string>:42\u001b[39m, in \u001b[36mrun\u001b[39m\u001b[34m(self, spatial_data)\u001b[39m\n",
      "\u001b[31mTypeError\u001b[39m: build_obsm() takes 2 positional arguments but 3 were given"
     ]
    }
   ],
   "source": [
    "controller.run(sdata)"
   ]
  },
  {
   "cell_type": "code",
   "execution_count": 86,
   "id": "63198b2a",
   "metadata": {},
   "outputs": [
    {
     "name": "stderr",
     "output_type": "stream",
     "text": [
      "version mismatch: detected: RasterFormatV02, requested: FormatV04\n",
      "c:\\Users\\KMK280\\AppData\\Local\\miniconda3\\envs\\sdata-env\\Lib\\site-packages\\zarr\\creation.py:610: UserWarning: ignoring keyword argument 'read_only'\n",
      "  compressor, fill_value = _kwargs_compat(compressor, fill_value, kwargs)\n",
      "version mismatch: detected: RasterFormatV02, requested: FormatV04\n",
      "version mismatch: detected: RasterFormatV02, requested: FormatV04\n",
      "version mismatch: detected: RasterFormatV02, requested: FormatV04\n",
      "version mismatch: detected: RasterFormatV02, requested: FormatV04\n",
      "version mismatch: detected: RasterFormatV02, requested: FormatV04\n",
      "version mismatch: detected: RasterFormatV02, requested: FormatV04\n",
      "version mismatch: detected: RasterFormatV02, requested: FormatV04\n",
      "version mismatch: detected: RasterFormatV02, requested: FormatV04\n",
      "version mismatch: detected: RasterFormatV02, requested: FormatV04\n",
      "version mismatch: detected: RasterFormatV02, requested: FormatV04\n",
      "version mismatch: detected: RasterFormatV02, requested: FormatV04\n",
      "version mismatch: detected: RasterFormatV02, requested: FormatV04\n",
      "version mismatch: detected: RasterFormatV02, requested: FormatV04\n",
      "version mismatch: detected: RasterFormatV02, requested: FormatV04\n",
      "version mismatch: detected: RasterFormatV02, requested: FormatV04\n",
      "version mismatch: detected: RasterFormatV02, requested: FormatV04\n",
      "version mismatch: detected: RasterFormatV02, requested: FormatV04\n",
      "version mismatch: detected: RasterFormatV02, requested: FormatV04\n",
      "version mismatch: detected: RasterFormatV02, requested: FormatV04\n",
      "version mismatch: detected: RasterFormatV02, requested: FormatV04\n",
      "version mismatch: detected: RasterFormatV02, requested: FormatV04\n",
      "version mismatch: detected: RasterFormatV02, requested: FormatV04\n",
      "version mismatch: detected: RasterFormatV02, requested: FormatV04\n",
      "version mismatch: detected: RasterFormatV02, requested: FormatV04\n",
      "version mismatch: detected: RasterFormatV02, requested: FormatV04\n",
      "version mismatch: detected: RasterFormatV02, requested: FormatV04\n",
      "version mismatch: detected: RasterFormatV02, requested: FormatV04\n",
      "version mismatch: detected: RasterFormatV02, requested: FormatV04\n",
      "version mismatch: detected: RasterFormatV02, requested: FormatV04\n",
      "version mismatch: detected: RasterFormatV02, requested: FormatV04\n",
      "version mismatch: detected: RasterFormatV02, requested: FormatV04\n",
      "version mismatch: detected: RasterFormatV02, requested: FormatV04\n",
      "version mismatch: detected: RasterFormatV02, requested: FormatV04\n",
      "version mismatch: detected: RasterFormatV02, requested: FormatV04\n",
      "version mismatch: detected: RasterFormatV02, requested: FormatV04\n",
      "version mismatch: detected: RasterFormatV02, requested: FormatV04\n",
      "version mismatch: detected: RasterFormatV02, requested: FormatV04\n",
      "version mismatch: detected: RasterFormatV02, requested: FormatV04\n",
      "version mismatch: detected: RasterFormatV02, requested: FormatV04\n",
      "version mismatch: detected: RasterFormatV02, requested: FormatV04\n",
      "version mismatch: detected: RasterFormatV02, requested: FormatV04\n",
      "version mismatch: detected: RasterFormatV02, requested: FormatV04\n",
      "version mismatch: detected: RasterFormatV02, requested: FormatV04\n",
      "version mismatch: detected: RasterFormatV02, requested: FormatV04\n",
      "version mismatch: detected: RasterFormatV02, requested: FormatV04\n",
      "version mismatch: detected: RasterFormatV02, requested: FormatV04\n",
      "version mismatch: detected: RasterFormatV02, requested: FormatV04\n",
      "version mismatch: detected: RasterFormatV02, requested: FormatV04\n",
      "version mismatch: detected: RasterFormatV02, requested: FormatV04\n",
      "version mismatch: detected: RasterFormatV02, requested: FormatV04\n",
      "version mismatch: detected: RasterFormatV02, requested: FormatV04\n",
      "version mismatch: detected: RasterFormatV02, requested: FormatV04\n",
      "version mismatch: detected: RasterFormatV02, requested: FormatV04\n",
      "version mismatch: detected: RasterFormatV02, requested: FormatV04\n",
      "version mismatch: detected: RasterFormatV02, requested: FormatV04\n",
      "version mismatch: detected: RasterFormatV02, requested: FormatV04\n",
      "version mismatch: detected: RasterFormatV02, requested: FormatV04\n",
      "version mismatch: detected: RasterFormatV02, requested: FormatV04\n",
      "version mismatch: detected: RasterFormatV02, requested: FormatV04\n",
      "version mismatch: detected: RasterFormatV02, requested: FormatV04\n"
     ]
    },
    {
     "data": {
      "text/plain": [
       "SpatialData object, with associated Zarr store: C:\\BLCA-1_Analysis\\cores\\Core_006.zarr\n",
       "├── Images\n",
       "│     ├── '53BP1': DataTree[cyx] (1, 7168, 7168), (1, 3584, 3584)\n",
       "│     ├── 'CD3': DataTree[cyx] (1, 7168, 7168), (1, 3584, 3584)\n",
       "│     ├── 'CD8a': DataTree[cyx] (1, 7168, 7168), (1, 3584, 3584)\n",
       "│     ├── 'CD11C': DataTree[cyx] (1, 7168, 7168), (1, 3584, 3584)\n",
       "│     ├── 'CD11b': DataTree[cyx] (1, 7168, 7168), (1, 3584, 3584)\n",
       "│     ├── 'CD20': DataTree[cyx] (1, 7168, 7168), (1, 3584, 3584)\n",
       "│     ├── 'CD31': DataTree[cyx] (1, 7168, 7168), (1, 3584, 3584)\n",
       "│     ├── 'CD44': DataTree[cyx] (1, 7168, 7168), (1, 3584, 3584)\n",
       "│     ├── 'CD45': DataTree[cyx] (1, 7168, 7168), (1, 3584, 3584)\n",
       "│     ├── 'CD45RO': DataTree[cyx] (1, 7168, 7168), (1, 3584, 3584)\n",
       "│     ├── 'CD68': DataTree[cyx] (1, 7168, 7168), (1, 3584, 3584)\n",
       "│     ├── 'CD127': DataTree[cyx] (1, 7168, 7168), (1, 3584, 3584)\n",
       "│     ├── 'CD163': DataTree[cyx] (1, 7168, 7168), (1, 3584, 3584)\n",
       "│     ├── 'CDC6': DataTree[cyx] (1, 7168, 7168), (1, 3584, 3584)\n",
       "│     ├── 'CDK2': DataTree[cyx] (1, 7168, 7168), (1, 3584, 3584)\n",
       "│     ├── 'CDK4': DataTree[cyx] (1, 7168, 7168), (1, 3584, 3584)\n",
       "│     ├── 'CDK6': DataTree[cyx] (1, 7168, 7168), (1, 3584, 3584)\n",
       "│     ├── 'CDT1': DataTree[cyx] (1, 7168, 7168), (1, 3584, 3584)\n",
       "│     ├── 'Coll3': DataTree[cyx] (1, 7168, 7168), (1, 3584, 3584)\n",
       "│     ├── 'CycB1': DataTree[cyx] (1, 7168, 7168), (1, 3584, 3584)\n",
       "│     ├── 'DAPI': DataTree[cyx] (1, 7168, 7168), (1, 3584, 3584)\n",
       "│     ├── 'ECad': DataTree[cyx] (1, 7168, 7168), (1, 3584, 3584)\n",
       "│     ├── 'FOXP3': DataTree[cyx] (1, 7168, 7168), (1, 3584, 3584)\n",
       "│     ├── 'Fibro': DataTree[cyx] (1, 7168, 7168), (1, 3584, 3584)\n",
       "│     ├── 'GranzymeB': DataTree[cyx] (1, 7168, 7168), (1, 3584, 3584)\n",
       "│     ├── 'HES1': DataTree[cyx] (1, 7168, 7168), (1, 3584, 3584)\n",
       "│     ├── 'HIF1a': DataTree[cyx] (1, 7168, 7168), (1, 3584, 3584)\n",
       "│     ├── 'HLA1': DataTree[cyx] (1, 7168, 7168), (1, 3584, 3584)\n",
       "│     ├── 'HLADR': DataTree[cyx] (1, 7168, 7168), (1, 3584, 3584)\n",
       "│     ├── 'IL6': DataTree[cyx] (1, 7168, 7168), (1, 3584, 3584)\n",
       "│     ├── 'Ki67': DataTree[cyx] (1, 7168, 7168), (1, 3584, 3584)\n",
       "│     ├── 'LaminB1': DataTree[cyx] (1, 7168, 7168), (1, 3584, 3584)\n",
       "│     ├── 'NaKATPase': DataTree[cyx] (1, 7168, 7168), (1, 3584, 3584)\n",
       "│     ├── 'PCNA': DataTree[cyx] (1, 7168, 7168), (1, 3584, 3584)\n",
       "│     ├── 'PD-1': DataTree[cyx] (1, 7168, 7168), (1, 3584, 3584)\n",
       "│     ├── 'PML': DataTree[cyx] (1, 7168, 7168), (1, 3584, 3584)\n",
       "│     ├── 'RB': DataTree[cyx] (1, 7168, 7168), (1, 3584, 3584)\n",
       "│     ├── 'SMA': DataTree[cyx] (1, 7168, 7168), (1, 3584, 3584)\n",
       "│     ├── 'TGFb1': DataTree[cyx] (1, 7168, 7168), (1, 3584, 3584)\n",
       "│     ├── 'VIM': DataTree[cyx] (1, 7168, 7168), (1, 3584, 3584)\n",
       "│     ├── 'YAP1': DataTree[cyx] (1, 7168, 7168), (1, 3584, 3584)\n",
       "│     ├── 'bCat': DataTree[cyx] (1, 7168, 7168), (1, 3584, 3584)\n",
       "│     ├── 'cMYC': DataTree[cyx] (1, 7168, 7168), (1, 3584, 3584)\n",
       "│     ├── 'cycA1': DataTree[cyx] (1, 7168, 7168), (1, 3584, 3584)\n",
       "│     ├── 'cycA2': DataTree[cyx] (1, 7168, 7168), (1, 3584, 3584)\n",
       "│     ├── 'cycD1': DataTree[cyx] (1, 7168, 7168), (1, 3584, 3584)\n",
       "│     ├── 'cycE1': DataTree[cyx] (1, 7168, 7168), (1, 3584, 3584)\n",
       "│     ├── 'cycE2': DataTree[cyx] (1, 7168, 7168), (1, 3584, 3584)\n",
       "│     ├── 'p16': DataTree[cyx] (1, 7168, 7168), (1, 3584, 3584)\n",
       "│     ├── 'p21': DataTree[cyx] (1, 7168, 7168), (1, 3584, 3584)\n",
       "│     ├── 'p27': DataTree[cyx] (1, 7168, 7168), (1, 3584, 3584)\n",
       "│     ├── 'p38': DataTree[cyx] (1, 7168, 7168), (1, 3584, 3584)\n",
       "│     ├── 'p53': DataTree[cyx] (1, 7168, 7168), (1, 3584, 3584)\n",
       "│     ├── 'pAKT': DataTree[cyx] (1, 7168, 7168), (1, 3584, 3584)\n",
       "│     ├── 'pATR': DataTree[cyx] (1, 7168, 7168), (1, 3584, 3584)\n",
       "│     ├── 'pCK26': DataTree[cyx] (1, 7168, 7168), (1, 3584, 3584)\n",
       "│     ├── 'pERK': DataTree[cyx] (1, 7168, 7168), (1, 3584, 3584)\n",
       "│     ├── 'pH2AX': DataTree[cyx] (1, 7168, 7168), (1, 3584, 3584)\n",
       "│     ├── 'pRB': DataTree[cyx] (1, 7168, 7168), (1, 3584, 3584)\n",
       "│     ├── 'pS6': DataTree[cyx] (1, 7168, 7168), (1, 3584, 3584)\n",
       "│     └── 'wee1': DataTree[cyx] (1, 7168, 7168), (1, 3584, 3584)\n",
       "├── Labels\n",
       "│     ├── 'instanseg_cell': DataTree[yx] (7168, 7168), (3584, 3584), (1792, 1792)\n",
       "│     └── 'instanseg_nucleus': DataTree[yx] (7168, 7168), (3584, 3584), (1792, 1792)\n",
       "└── Tables\n",
       "      └── 'instanseg_data': AnnData (29455, 366)\n",
       "with coordinate systems:\n",
       "    ▸ 'global', with elements:\n",
       "        53BP1 (Images), CD3 (Images), CD8a (Images), CD11C (Images), CD11b (Images), CD20 (Images), CD31 (Images), CD44 (Images), CD45 (Images), CD45RO (Images), CD68 (Images), CD127 (Images), CD163 (Images), CDC6 (Images), CDK2 (Images), CDK4 (Images), CDK6 (Images), CDT1 (Images), Coll3 (Images), CycB1 (Images), DAPI (Images), ECad (Images), FOXP3 (Images), Fibro (Images), GranzymeB (Images), HES1 (Images), HIF1a (Images), HLA1 (Images), HLADR (Images), IL6 (Images), Ki67 (Images), LaminB1 (Images), NaKATPase (Images), PCNA (Images), PD-1 (Images), PML (Images), RB (Images), SMA (Images), TGFb1 (Images), VIM (Images), YAP1 (Images), bCat (Images), cMYC (Images), cycA1 (Images), cycA2 (Images), cycD1 (Images), cycE1 (Images), cycE2 (Images), p16 (Images), p21 (Images), p27 (Images), p38 (Images), p53 (Images), pAKT (Images), pATR (Images), pCK26 (Images), pERK (Images), pH2AX (Images), pRB (Images), pS6 (Images), wee1 (Images), instanseg_cell (Labels), instanseg_nucleus (Labels)"
      ]
     },
     "execution_count": 86,
     "metadata": {},
     "output_type": "execute_result"
    }
   ],
   "source": [
    "# view anndata\n",
    "\n",
    "sd_path = r'C:\\BLCA-1_Analysis\\cores\\Core_006.zarr'\n",
    "sdata = sd.read_zarr(sd_path)\n",
    "sdata"
   ]
  },
  {
   "cell_type": "code",
   "execution_count": 42,
   "id": "9d30ea43",
   "metadata": {},
   "outputs": [
    {
     "data": {
      "text/plain": [
       "SpatialData object, with associated Zarr store: C:\\BLCA-1_Analysis\\cores\\Core_006.zarr\n",
       "├── Images\n",
       "│     ├── '53BP1': DataTree[cyx] (1, 7168, 7168), (1, 3584, 3584)\n",
       "│     ├── 'CD3': DataTree[cyx] (1, 7168, 7168), (1, 3584, 3584)\n",
       "│     ├── 'CD8a': DataTree[cyx] (1, 7168, 7168), (1, 3584, 3584)\n",
       "│     ├── 'CD11C': DataTree[cyx] (1, 7168, 7168), (1, 3584, 3584)\n",
       "│     ├── 'CD11b': DataTree[cyx] (1, 7168, 7168), (1, 3584, 3584)\n",
       "│     ├── 'CD20': DataTree[cyx] (1, 7168, 7168), (1, 3584, 3584)\n",
       "│     ├── 'CD31': DataTree[cyx] (1, 7168, 7168), (1, 3584, 3584)\n",
       "│     ├── 'CD44': DataTree[cyx] (1, 7168, 7168), (1, 3584, 3584)\n",
       "│     ├── 'CD45': DataTree[cyx] (1, 7168, 7168), (1, 3584, 3584)\n",
       "│     ├── 'CD45RO': DataTree[cyx] (1, 7168, 7168), (1, 3584, 3584)\n",
       "│     ├── 'CD68': DataTree[cyx] (1, 7168, 7168), (1, 3584, 3584)\n",
       "│     ├── 'CD127': DataTree[cyx] (1, 7168, 7168), (1, 3584, 3584)\n",
       "│     ├── 'CD163': DataTree[cyx] (1, 7168, 7168), (1, 3584, 3584)\n",
       "│     ├── 'CDC6': DataTree[cyx] (1, 7168, 7168), (1, 3584, 3584)\n",
       "│     ├── 'CDK2': DataTree[cyx] (1, 7168, 7168), (1, 3584, 3584)\n",
       "│     ├── 'CDK4': DataTree[cyx] (1, 7168, 7168), (1, 3584, 3584)\n",
       "│     ├── 'CDK6': DataTree[cyx] (1, 7168, 7168), (1, 3584, 3584)\n",
       "│     ├── 'CDT1': DataTree[cyx] (1, 7168, 7168), (1, 3584, 3584)\n",
       "│     ├── 'Coll3': DataTree[cyx] (1, 7168, 7168), (1, 3584, 3584)\n",
       "│     ├── 'CycB1': DataTree[cyx] (1, 7168, 7168), (1, 3584, 3584)\n",
       "│     ├── 'DAPI': DataTree[cyx] (1, 7168, 7168), (1, 3584, 3584)\n",
       "│     ├── 'ECad': DataTree[cyx] (1, 7168, 7168), (1, 3584, 3584)\n",
       "│     ├── 'FOXP3': DataTree[cyx] (1, 7168, 7168), (1, 3584, 3584)\n",
       "│     ├── 'Fibro': DataTree[cyx] (1, 7168, 7168), (1, 3584, 3584)\n",
       "│     ├── 'GranzymeB': DataTree[cyx] (1, 7168, 7168), (1, 3584, 3584)\n",
       "│     ├── 'HES1': DataTree[cyx] (1, 7168, 7168), (1, 3584, 3584)\n",
       "│     ├── 'HIF1a': DataTree[cyx] (1, 7168, 7168), (1, 3584, 3584)\n",
       "│     ├── 'HLA1': DataTree[cyx] (1, 7168, 7168), (1, 3584, 3584)\n",
       "│     ├── 'HLADR': DataTree[cyx] (1, 7168, 7168), (1, 3584, 3584)\n",
       "│     ├── 'IL6': DataTree[cyx] (1, 7168, 7168), (1, 3584, 3584)\n",
       "│     ├── 'Ki67': DataTree[cyx] (1, 7168, 7168), (1, 3584, 3584)\n",
       "│     ├── 'LaminB1': DataTree[cyx] (1, 7168, 7168), (1, 3584, 3584)\n",
       "│     ├── 'NaKATPase': DataTree[cyx] (1, 7168, 7168), (1, 3584, 3584)\n",
       "│     ├── 'PCNA': DataTree[cyx] (1, 7168, 7168), (1, 3584, 3584)\n",
       "│     ├── 'PD-1': DataTree[cyx] (1, 7168, 7168), (1, 3584, 3584)\n",
       "│     ├── 'PML': DataTree[cyx] (1, 7168, 7168), (1, 3584, 3584)\n",
       "│     ├── 'RB': DataTree[cyx] (1, 7168, 7168), (1, 3584, 3584)\n",
       "│     ├── 'SMA': DataTree[cyx] (1, 7168, 7168), (1, 3584, 3584)\n",
       "│     ├── 'TGFb1': DataTree[cyx] (1, 7168, 7168), (1, 3584, 3584)\n",
       "│     ├── 'VIM': DataTree[cyx] (1, 7168, 7168), (1, 3584, 3584)\n",
       "│     ├── 'YAP1': DataTree[cyx] (1, 7168, 7168), (1, 3584, 3584)\n",
       "│     ├── 'bCat': DataTree[cyx] (1, 7168, 7168), (1, 3584, 3584)\n",
       "│     ├── 'cMYC': DataTree[cyx] (1, 7168, 7168), (1, 3584, 3584)\n",
       "│     ├── 'cycA1': DataTree[cyx] (1, 7168, 7168), (1, 3584, 3584)\n",
       "│     ├── 'cycA2': DataTree[cyx] (1, 7168, 7168), (1, 3584, 3584)\n",
       "│     ├── 'cycD1': DataTree[cyx] (1, 7168, 7168), (1, 3584, 3584)\n",
       "│     ├── 'cycE1': DataTree[cyx] (1, 7168, 7168), (1, 3584, 3584)\n",
       "│     ├── 'cycE2': DataTree[cyx] (1, 7168, 7168), (1, 3584, 3584)\n",
       "│     ├── 'p16': DataTree[cyx] (1, 7168, 7168), (1, 3584, 3584)\n",
       "│     ├── 'p21': DataTree[cyx] (1, 7168, 7168), (1, 3584, 3584)\n",
       "│     ├── 'p27': DataTree[cyx] (1, 7168, 7168), (1, 3584, 3584)\n",
       "│     ├── 'p38': DataTree[cyx] (1, 7168, 7168), (1, 3584, 3584)\n",
       "│     ├── 'p53': DataTree[cyx] (1, 7168, 7168), (1, 3584, 3584)\n",
       "│     ├── 'pAKT': DataTree[cyx] (1, 7168, 7168), (1, 3584, 3584)\n",
       "│     ├── 'pATR': DataTree[cyx] (1, 7168, 7168), (1, 3584, 3584)\n",
       "│     ├── 'pCK26': DataTree[cyx] (1, 7168, 7168), (1, 3584, 3584)\n",
       "│     ├── 'pERK': DataTree[cyx] (1, 7168, 7168), (1, 3584, 3584)\n",
       "│     ├── 'pH2AX': DataTree[cyx] (1, 7168, 7168), (1, 3584, 3584)\n",
       "│     ├── 'pRB': DataTree[cyx] (1, 7168, 7168), (1, 3584, 3584)\n",
       "│     ├── 'pS6': DataTree[cyx] (1, 7168, 7168), (1, 3584, 3584)\n",
       "│     └── 'wee1': DataTree[cyx] (1, 7168, 7168), (1, 3584, 3584)\n",
       "├── Labels\n",
       "│     ├── 'instanseg_cell': DataTree[yx] (7168, 7168), (3584, 3584), (1792, 1792)\n",
       "│     └── 'instanseg_nucleus': DataTree[yx] (7168, 7168), (3584, 3584), (1792, 1792)\n",
       "└── Tables\n",
       "      └── 'instanseg_data': AnnData (29455, 366)\n",
       "with coordinate systems:\n",
       "    ▸ 'global', with elements:\n",
       "        53BP1 (Images), CD3 (Images), CD8a (Images), CD11C (Images), CD11b (Images), CD20 (Images), CD31 (Images), CD44 (Images), CD45 (Images), CD45RO (Images), CD68 (Images), CD127 (Images), CD163 (Images), CDC6 (Images), CDK2 (Images), CDK4 (Images), CDK6 (Images), CDT1 (Images), Coll3 (Images), CycB1 (Images), DAPI (Images), ECad (Images), FOXP3 (Images), Fibro (Images), GranzymeB (Images), HES1 (Images), HIF1a (Images), HLA1 (Images), HLADR (Images), IL6 (Images), Ki67 (Images), LaminB1 (Images), NaKATPase (Images), PCNA (Images), PD-1 (Images), PML (Images), RB (Images), SMA (Images), TGFb1 (Images), VIM (Images), YAP1 (Images), bCat (Images), cMYC (Images), cycA1 (Images), cycA2 (Images), cycD1 (Images), cycE1 (Images), cycE2 (Images), p16 (Images), p21 (Images), p27 (Images), p38 (Images), p53 (Images), pAKT (Images), pATR (Images), pCK26 (Images), pERK (Images), pH2AX (Images), pRB (Images), pS6 (Images), wee1 (Images), instanseg_cell (Labels), instanseg_nucleus (Labels)"
      ]
     },
     "execution_count": 42,
     "metadata": {},
     "output_type": "execute_result"
    }
   ],
   "source": [
    "sdata"
   ]
  },
  {
   "cell_type": "code",
   "execution_count": 43,
   "id": "4867b4d9",
   "metadata": {},
   "outputs": [
    {
     "data": {
      "text/plain": [
       "Index(['area_cell', 'eccentricity_cell', 'solidity_cell', 'perimeter_cell',\n",
       "       'centroid-0_cell', 'centroid-1_cell', 'euler_number_cell',\n",
       "       'area_nucleus', 'eccentricity_nucleus', 'solidity_nucleus',\n",
       "       'perimeter_nucleus', 'centroid-0_nucleus', 'centroid-1_nucleus',\n",
       "       'euler_number_nucleus', 'area_cyto', 'eccentricity_cyto',\n",
       "       'solidity_cyto', 'perimeter_cyto', 'centroid-0_cyto', 'centroid-1_cyto',\n",
       "       'euler_number_cyto', 'region', 'cell'],\n",
       "      dtype='object')"
      ]
     },
     "execution_count": 43,
     "metadata": {},
     "output_type": "execute_result"
    }
   ],
   "source": [
    "cols = sdata['instanseg_data'].obs.columns\n",
    "cols\n"
   ]
  },
  {
   "cell_type": "code",
   "execution_count": 44,
   "id": "842ac31d",
   "metadata": {},
   "outputs": [
    {
     "data": {
      "text/plain": [
       "['centroid-0_cell',\n",
       " 'centroid-1_cell',\n",
       " 'centroid-0_nucleus',\n",
       " 'centroid-1_nucleus',\n",
       " 'centroid-0_cyto',\n",
       " 'centroid-1_cyto']"
      ]
     },
     "execution_count": 44,
     "metadata": {},
     "output_type": "execute_result"
    }
   ],
   "source": [
    "import re\n",
    "\n",
    "pair_list = []\n",
    "for c in cols:\n",
    "    if '-0' in c:\n",
    "        pattern = re.compile('^' + re.escape(c).replace(r'\\-0', r'-(\\d+)') + '$')\n",
    "        matches = [c for c in cols if pattern.match(c)]\n",
    "        if matches:\n",
    "            pair_list.extend(matches)\n",
    "\n",
    "pair_list"
   ]
  },
  {
   "cell_type": "code",
   "execution_count": 57,
   "id": "6af26974",
   "metadata": {},
   "outputs": [],
   "source": [
    "t = sdata['instanseg_data'].obs"
   ]
  },
  {
   "cell_type": "code",
   "execution_count": 58,
   "id": "e552bb3f",
   "metadata": {},
   "outputs": [
    {
     "data": {
      "text/plain": [
       "Index(['area_cell', 'eccentricity_cell', 'solidity_cell', 'perimeter_cell',\n",
       "       'centroid-0_cell', 'centroid-1_cell', 'euler_number_cell',\n",
       "       'area_nucleus', 'eccentricity_nucleus', 'solidity_nucleus',\n",
       "       'perimeter_nucleus', 'centroid-0_nucleus', 'centroid-1_nucleus',\n",
       "       'euler_number_nucleus', 'area_cyto', 'eccentricity_cyto',\n",
       "       'solidity_cyto', 'perimeter_cyto', 'centroid-0_cyto', 'centroid-1_cyto',\n",
       "       'euler_number_cyto', 'region', 'cell'],\n",
       "      dtype='object')"
      ]
     },
     "execution_count": 58,
     "metadata": {},
     "output_type": "execute_result"
    }
   ],
   "source": [
    "t.columns"
   ]
  },
  {
   "cell_type": "code",
   "execution_count": 76,
   "id": "e902cd5c",
   "metadata": {},
   "outputs": [],
   "source": [
    "names = t.columns\n",
    "\n",
    "_ndims_regex = re.compile(r'^(?P<base>[^-]+)-(?P<dim>\\d+)(?P<suffix>.*)?$') # first '-' is expected to precede dimension number\n",
    "\n",
    "ndims_buckets = {}  # (property:str) -> List[tuple[dim:int, col:str]]\n",
    "for col in names:\n",
    "    m = _ndims_regex.match(col)\n",
    "    if m:\n",
    "        prop = ''.join([m.group(\"base\"),m.group(\"suffix\")])\n",
    "        dim = int(m.group(\"dim\"))\n",
    "        ndims_buckets.setdefault(prop, []).append((dim, col))\n",
    "\n",
    "for prop, dim_cols in ndims_buckets.items():\n",
    "    # --- Check uniqueness of dimension indices ---\n",
    "    dims = [d for d, _ in dim_cols]\n",
    "    dup_dims = [d for d in set(dims) if dims.count(d) > 1]\n",
    "    if dup_dims:\n",
    "        raise ValueError(\n",
    "            f\"Duplicate dimension indices found for '{prop}': {dup_dims}. \"\n",
    "            \"Each dimension (e.g., -0, -1, ...) must be unique.\"\n",
    "        )\n",
    "    if len(dims) <= 1:\n",
    "        # remove from ndims_buckets\n",
    "        logger.warning(\n",
    "            f\"Property '{prop}' has only a single dimension. Skipping addition to obsm.\"\n",
    "        )\n",
    "        ndims_buckets[prop] = []"
   ]
  },
  {
   "cell_type": "code",
   "execution_count": 82,
   "id": "467ca8d6",
   "metadata": {},
   "outputs": [
    {
     "data": {
      "text/plain": [
       "False"
      ]
     },
     "execution_count": 82,
     "metadata": {},
     "output_type": "execute_result"
    }
   ],
   "source": [
    "ndims_buckets = {}\n",
    "ndims_buckets == True"
   ]
  },
  {
   "cell_type": "code",
   "execution_count": 78,
   "id": "caa0c732",
   "metadata": {},
   "outputs": [],
   "source": [
    "obsm = {}\n",
    "cols_to_drop = []\n",
    "for prop, dim_cols in ndims_buckets.items():\n",
    "\n",
    "    # --- Sort by dimension index ---\n",
    "    dim_cols_sorted = sorted(dim_cols, key=lambda t: t[0])\n",
    "    dims_sorted, cols_sorted = zip(*dim_cols_sorted) if dim_cols_sorted else ([], [])\n",
    "\n",
    "    # --- Build array ---\n",
    "    arr = np.column_stack([obs[c].to_numpy() for c in cols_sorted])\n",
    "    obsm[prop] = arr\n",
    "    cols_to_drop.extend(cols_sorted)"
   ]
  },
  {
   "cell_type": "code",
   "execution_count": 81,
   "id": "1e4a182b",
   "metadata": {},
   "outputs": [
    {
     "data": {
      "text/plain": [
       "['centroid-0_cell',\n",
       " 'centroid-1_cell',\n",
       " 'centroid-0_nucleus',\n",
       " 'centroid-1_nucleus',\n",
       " 'centroid-0_cyto',\n",
       " 'centroid-1_cyto']"
      ]
     },
     "execution_count": 81,
     "metadata": {},
     "output_type": "execute_result"
    }
   ],
   "source": [
    "cols_to_drop"
   ]
  },
  {
   "cell_type": "code",
   "execution_count": 71,
   "id": "aa7620fa",
   "metadata": {},
   "outputs": [],
   "source": [
    "obs = t\n",
    "\n",
    "obsm = {}\n",
    "cols_to_drop = []\n",
    "for prop, dim_cols in buckets.items():\n",
    "    # --- Check uniqueness of dimension indices ---\n",
    "    dims = [d for d, _ in dim_cols]\n",
    "    dup_dims = [d for d in set(dims) if dims.count(d) > 1]\n",
    "    if dup_dims:\n",
    "        raise ValueError(\n",
    "            f\"Duplicate dimension indices found for '{prop}': {dup_dims}. \"\n",
    "            \"Each dimension (e.g., -0, -1, ...) must be unique.\"\n",
    "        )\n",
    "    if len(dims) <= 1:\n",
    "        logger.warning(\n",
    "            f\"Property '{prop}' has only a single dimension. Skipping addition to obsm.\"\n",
    "        )\n",
    "        continue\n",
    "\n",
    "    # --- Sort by dimension index ---\n",
    "    dim_cols_sorted = sorted(dim_cols, key=lambda t: t[0])\n",
    "    dims_sorted, cols_sorted = zip(*dim_cols_sorted) if dim_cols_sorted else ([], [])\n",
    "\n",
    "    # --- Build array ---\n",
    "    arr = np.column_stack([obs[c].to_numpy() for c in cols_sorted])\n",
    "    obsm[prop] = arr\n",
    "    cols_to_drop.extend(cols_sorted)"
   ]
  },
  {
   "cell_type": "code",
   "execution_count": 74,
   "id": "fd834b8e",
   "metadata": {},
   "outputs": [
    {
     "data": {
      "text/plain": [
       "array([[  61.72477064, 7065.35321101],\n",
       "       [  73.90277778, 7116.27314815],\n",
       "       [  80.80503145, 7143.49056604],\n",
       "       ...,\n",
       "       [6921.11036789, 4154.09364548],\n",
       "       [6935.79631761, 3665.88952819],\n",
       "       [6940.76737589, 2846.65106383]], shape=(29455, 2))"
      ]
     },
     "execution_count": 74,
     "metadata": {},
     "output_type": "execute_result"
    }
   ],
   "source": [
    "obsm['centroid_cell']"
   ]
  },
  {
   "cell_type": "code",
   "execution_count": 75,
   "id": "967ace6d",
   "metadata": {},
   "outputs": [
    {
     "data": {
      "text/plain": [
       "label\n",
       "3          61.724771\n",
       "4          73.902778\n",
       "5          80.805031\n",
       "6          81.825000\n",
       "7          94.460581\n",
       "            ...     \n",
       "53954    6882.396518\n",
       "53976    6919.187320\n",
       "53977    6921.110368\n",
       "53980    6935.796318\n",
       "53981    6940.767376\n",
       "Name: centroid-0_cell, Length: 29455, dtype: float64"
      ]
     },
     "execution_count": 75,
     "metadata": {},
     "output_type": "execute_result"
    }
   ],
   "source": [
    "t['centroid-0_cell']"
   ]
  },
  {
   "cell_type": "code",
   "execution_count": 26,
   "id": "e503dde9",
   "metadata": {},
   "outputs": [
    {
     "data": {
      "text/plain": [
       "Index(['centroid-0_cell', 'centroid-1_cell', 'centroid-1_cell',\n",
       "       'centroid-0_cell', 'centroid-0_nucleus', 'centroid-1_nucleus',\n",
       "       'centroid-1_nucleus', 'centroid-0_nucleus', 'centroid-0_cyto',\n",
       "       'centroid-1_cyto', 'centroid-1_cyto', 'centroid-0_cyto'],\n",
       "      dtype='object')"
      ]
     },
     "execution_count": 26,
     "metadata": {},
     "output_type": "execute_result"
    }
   ],
   "source": [
    "pair_df.columns"
   ]
  },
  {
   "cell_type": "code",
   "execution_count": null,
   "id": "895b0639",
   "metadata": {},
   "outputs": [],
   "source": []
  }
 ],
 "metadata": {
  "kernelspec": {
   "display_name": "sdata-env",
   "language": "python",
   "name": "python3"
  },
  "language_info": {
   "codemirror_mode": {
    "name": "ipython",
    "version": 3
   },
   "file_extension": ".py",
   "mimetype": "text/x-python",
   "name": "python",
   "nbconvert_exporter": "python",
   "pygments_lexer": "ipython3",
   "version": "3.11.13"
  }
 },
 "nbformat": 4,
 "nbformat_minor": 5
}
