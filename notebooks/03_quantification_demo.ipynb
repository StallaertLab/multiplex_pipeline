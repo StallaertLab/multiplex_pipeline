{
 "cells": [
  {
   "cell_type": "code",
   "execution_count": 1,
   "id": "b31951cf",
   "metadata": {},
   "outputs": [
    {
     "name": "stderr",
     "output_type": "stream",
     "text": [
      "c:\\Users\\KMK280\\AppData\\Local\\miniconda3\\envs\\sdata-env\\Lib\\site-packages\\dask\\dataframe\\__init__.py:31: FutureWarning: The legacy Dask DataFrame implementation is deprecated and will be removed in a future version. Set the configuration option `dataframe.query-planning` to `True` or None to enable the new Dask Dataframe implementation and silence this warning.\n",
      "  warnings.warn(\n",
      "c:\\Users\\KMK280\\AppData\\Local\\miniconda3\\envs\\sdata-env\\Lib\\site-packages\\xarray_schema\\__init__.py:1: UserWarning: pkg_resources is deprecated as an API. See https://setuptools.pypa.io/en/latest/pkg_resources.html. The pkg_resources package is slated for removal as early as 2025-11-30. Refrain from using this package or pin to Setuptools<81.\n",
      "  from pkg_resources import DistributionNotFound, get_distribution\n"
     ]
    }
   ],
   "source": [
    "%load_ext autoreload\n",
    "%autoreload 2\n",
    "\n",
    "import os\n",
    "from pathlib import Path\n",
    "from datetime import datetime\n",
    "from loguru import logger\n",
    "import numpy as np\n",
    "import spatialdata as sd\n",
    "from napari_spatialdata import Interactive\n",
    "\n",
    "from multiplex_pipeline.utils.config_loaders import load_analysis_settings\n",
    "from multiplex_pipeline.processors import build_processor\n",
    "from multiplex_pipeline.processors.controller import ResourceBuildingController\n",
    "from multiplex_pipeline.object_quantification.controller import QuantificationController"
   ]
  },
  {
   "cell_type": "markdown",
   "id": "909cd179",
   "metadata": {},
   "source": [
    "### Load analysis settings"
   ]
  },
  {
   "cell_type": "code",
   "execution_count": 2,
   "id": "40cdede3",
   "metadata": {},
   "outputs": [
    {
     "data": {
      "text/plain": [
       "{'image_dir': 'R:/CellDive/BLCA-2/BLCA-2_Final',\n",
       " 'analysis_name': 'BLCA-2_Analysis_todel',\n",
       " 'local_analysis_dir': 'C:/',\n",
       " 'remote_analysis_dir': '/ix1/kkedziora/blca_analysis',\n",
       " 'log_dir': WindowsPath('C:/BLCA-2_Analysis_todel/logs'),\n",
       " 'detection_image': 'BLCA-2_1.0.4_R000_DAPI__FINAL_F.ome.tif',\n",
       " 'core_info_file_path': WindowsPath('C:/BLCA-2_Analysis_todel/cores.csv'),\n",
       " 'cores_dir_tif': WindowsPath('C:/BLCA-2_Analysis_todel/temp'),\n",
       " 'cores_dir_output': WindowsPath('C:/BLCA-2_Analysis_todel/cores'),\n",
       " 'include_channels': None,\n",
       " 'exclude_channels': ['008_ECad'],\n",
       " 'use_markers': 'DAPI',\n",
       " 'ignore_markers': ['Antibody1',\n",
       "  'TNFa',\n",
       "  'Snail1',\n",
       "  'SKP2',\n",
       "  'ProgRc',\n",
       "  'Plk1',\n",
       "  'PH3',\n",
       "  'PDL1',\n",
       "  'p65',\n",
       "  'p130',\n",
       "  'p-p130',\n",
       "  'p-Cdc6',\n",
       "  'LAG3',\n",
       "  'IL-8',\n",
       "  'HER2',\n",
       "  'ERa',\n",
       "  'EpCAM',\n",
       "  'E2F1',\n",
       "  'cycD3',\n",
       "  'cycB2',\n",
       "  'CDC25C',\n",
       "  'CD86',\n",
       "  'CD73',\n",
       "  'CD69',\n",
       "  'CD62L',\n",
       "  'CD56',\n",
       "  'CD4',\n",
       "  'CD25',\n",
       "  'CD19',\n",
       "  'CD27',\n",
       "  'CCR7',\n",
       "  'cCASP3'],\n",
       " 'additional_elements': [{'category': 'image_transformer',\n",
       "   'type': 'normalize',\n",
       "   'input': 'DAPI',\n",
       "   'output': 'DAPI_norm',\n",
       "   'parameters': {'low': 1, 'high': 99.5},\n",
       "   'keep': False},\n",
       "  {'category': 'object_segmenter',\n",
       "   'type': 'instanseg',\n",
       "   'parameters': {'model': 'fluorescence_nuclei_and_cells',\n",
       "    'pixel_size': 0.3,\n",
       "    'resolve_cell_and_nucleus': True,\n",
       "    'cleanup_fragments': True},\n",
       "   'input': ['DAPI_norm'],\n",
       "   'output': ['instanseg_nucleus_org', 'instanseg_cell_org']},\n",
       "  {'category': 'mask_builder',\n",
       "   'type': 'blob',\n",
       "   'input': 'instanseg_nucleus_org',\n",
       "   'output': 'blob',\n",
       "   'keep': True},\n",
       "  {'category': 'mask_builder',\n",
       "   'type': 'multiply',\n",
       "   'input': ['instanseg_nucleus_org', 'blob'],\n",
       "   'output': 'instanseg_nucleus',\n",
       "   'keep': True},\n",
       "  {'category': 'mask_builder',\n",
       "   'type': 'multiply',\n",
       "   'input': ['instanseg_cell_org', 'blob'],\n",
       "   'output': 'instanseg_cell',\n",
       "   'keep': True},\n",
       "  {'category': 'mask_builder',\n",
       "   'type': 'ring',\n",
       "   'input': ['instanseg_nucleus'],\n",
       "   'output': 'ring',\n",
       "   'parameters': {'outer': 8, 'inner': 2},\n",
       "   'keep': True},\n",
       "  {'category': 'mask_builder',\n",
       "   'type': 'subtract',\n",
       "   'input': ['instanseg_cell', 'instanseg_nucleus'],\n",
       "   'output': 'cytoplasm',\n",
       "   'keep': True}],\n",
       " 'quant': [{'name': 'instanseg_table',\n",
       "   'masks': {'nucleus': 'instanseg_nucleus',\n",
       "    'cell': 'instanseg_cell',\n",
       "    'ring': 'ring',\n",
       "    'cyto': 'cytoplasm'},\n",
       "   'layer_connection': 'instanseg_cell'}],\n",
       " 'sdata_storage': {'chunk_size': [1, 512, 512],\n",
       "  'max_pyramid_level': 3,\n",
       "  'downscale': 2},\n",
       " 'core_detection': {'im_level': 6,\n",
       "  'min_area': 2000,\n",
       "  'max_area': 10000,\n",
       "  'min_iou': 0.8,\n",
       "  'min_st': 0.9,\n",
       "  'min_int': 15,\n",
       "  'frame': 4},\n",
       " 'core_cutting': {'margin': 0,\n",
       "  'mask_value': 0,\n",
       "  'max_pyramid_level': 2,\n",
       "  'transfer_cleanup_enabled': True,\n",
       "  'core_cleanup_enabled': True},\n",
       " 'analysis_dir': WindowsPath('C:/BLCA-2_Analysis_todel'),\n",
       " 'temp_dir': WindowsPath('C:/BLCA-2_Analysis_todel/temp')}"
      ]
     },
     "execution_count": 2,
     "metadata": {},
     "output_type": "execute_result"
    }
   ],
   "source": [
    "# load analysis configuration\n",
    "settings_path = r'C:\\BLCA-2_Analysis_todel\\analysis_settings_BLCA2_todel.yaml'\n",
    "\n",
    "settings = load_analysis_settings(settings_path)\n",
    "settings"
   ]
  },
  {
   "cell_type": "markdown",
   "id": "55327bef",
   "metadata": {},
   "source": [
    "### Define the logger"
   ]
  },
  {
   "cell_type": "code",
   "execution_count": 3,
   "id": "6379596c",
   "metadata": {},
   "outputs": [
    {
     "data": {
      "text/plain": [
       "2"
      ]
     },
     "execution_count": 3,
     "metadata": {},
     "output_type": "execute_result"
    }
   ],
   "source": [
    "log_file = settings['log_dir'] / f\"cores_quantification_{datetime.now():%Y-%m-%d_%H-%M-%S}.log\"\n",
    "\n",
    "logger.remove()\n",
    "logger.add(lambda msg: print(msg, end=\"\"))\n",
    "logger.add(log_file, level=\"DEBUG\", enqueue=True)"
   ]
  },
  {
   "cell_type": "markdown",
   "id": "2c64f1cc",
   "metadata": {},
   "source": [
    "### Define cores for the analysis"
   ]
  },
  {
   "cell_type": "code",
   "execution_count": 4,
   "id": "2ac0f474",
   "metadata": {},
   "outputs": [
    {
     "data": {
      "text/plain": [
       "[WindowsPath('C:/BLCA-2_Analysis_todel/cores/Core_000.zarr')]"
      ]
     },
     "execution_count": 4,
     "metadata": {},
     "output_type": "execute_result"
    }
   ],
   "source": [
    "core_dir = Path(settings['analysis_dir']) / 'cores'\n",
    "path_list = [core_dir / f for f in os.listdir(core_dir)]\n",
    "path_list.sort()\n",
    "path_list"
   ]
  },
  {
   "cell_type": "markdown",
   "id": "03848ec6",
   "metadata": {},
   "source": [
    "### Setup"
   ]
  },
  {
   "cell_type": "code",
   "execution_count": 11,
   "id": "2f4d57ba",
   "metadata": {},
   "outputs": [
    {
     "name": "stdout",
     "output_type": "stream",
     "text": [
      "2025-10-14 17:09:09.088 | INFO     | __main__:<module>:11 - Setting up quantification controller for 'instanseg_table' table with masks {'nucleus': 'instanseg_nucleus', 'cell': 'instanseg_cell', 'ring': 'ring', 'cyto': 'cytoplasm'} and connection to 'instanseg_cell' mask\n"
     ]
    }
   ],
   "source": [
    "# setup quantification controllers\n",
    "quant_controller_list = [] \n",
    "for quant in settings['quant']:\n",
    "\n",
    "    table_name = quant['name']\n",
    "    masks_keys = quant['masks']\n",
    "    # # for test - delete\n",
    "    # masks_keys = {k: masks_keys[k] for k in ['nucleus', 'cell'] if k in masks_keys}\n",
    "    connect_to_mask = quant.get('layer_connection', None)\n",
    "\n",
    "    logger.info(f\"Setting up quantification controller for '{table_name}' table with masks {masks_keys} and connection to '{connect_to_mask}' mask\")\n",
    "\n",
    "    controller = QuantificationController(\n",
    "        table_name=table_name,\n",
    "        mask_keys=masks_keys,\n",
    "        connect_to_mask=connect_to_mask,\n",
    "        overwrite=True,\n",
    "    )\n",
    "\n",
    "    quant_controller_list.append(controller) "
   ]
  },
  {
   "cell_type": "markdown",
   "id": "11de3cac",
   "metadata": {},
   "source": [
    "### Quantify"
   ]
  },
  {
   "cell_type": "code",
   "execution_count": 12,
   "id": "fcc1ce61",
   "metadata": {},
   "outputs": [
    {
     "name": "stderr",
     "output_type": "stream",
     "text": [
      "version mismatch: detected: RasterFormatV02, requested: FormatV04\n"
     ]
    },
    {
     "name": "stdout",
     "output_type": "stream",
     "text": [
      "2025-10-14 17:09:10.348 | INFO     | __main__:<module>:4 - Processing Core_000.zarr\n"
     ]
    },
    {
     "name": "stderr",
     "output_type": "stream",
     "text": [
      "c:\\Users\\KMK280\\AppData\\Local\\miniconda3\\envs\\sdata-env\\Lib\\site-packages\\zarr\\creation.py:610: UserWarning: ignoring keyword argument 'read_only'\n",
      "  compressor, fill_value = _kwargs_compat(compressor, fill_value, kwargs)\n"
     ]
    },
    {
     "name": "stdout",
     "output_type": "stream",
     "text": [
      "2025-10-14 17:09:10.648 | INFO     | multiplex_pipeline.object_quantification.controller:validate_sdata_as_input:20 - Channels not specified. Quantifying all existing channels (1).\n",
      "2025-10-14 17:09:10.648 | WARNING  | multiplex_pipeline.object_quantification.controller:prepare_to_overwrite:8 - Table 'instanseg_table' already exists and will be overwritten.\n",
      "2025-10-14 17:09:10.982 | INFO     | multiplex_pipeline.object_quantification.controller:prepare_to_overwrite:11 - Existing table 'instanseg_table' deleted from sdata.\n",
      "2025-10-14 17:09:13.223 | INFO     | multiplex_pipeline.object_quantification.controller:run:7 - Prepared masks for quantification.\n",
      "2025-10-14 17:09:13.226 | INFO     | multiplex_pipeline.object_quantification.controller:build_obs:74 - Quantifying morphology features for mask 'nucleus'\n",
      "2025-10-14 17:09:26.626 | INFO     | multiplex_pipeline.object_quantification.controller:build_obs:74 - Quantifying morphology features for mask 'cell'\n",
      "2025-10-14 17:09:42.909 | INFO     | multiplex_pipeline.object_quantification.controller:build_obs:74 - Quantifying morphology features for mask 'ring'\n",
      "2025-10-14 17:09:57.601 | INFO     | multiplex_pipeline.object_quantification.controller:build_obs:74 - Quantifying morphology features for mask 'cyto'\n",
      "2025-10-14 17:10:12.675 | INFO     | multiplex_pipeline.object_quantification.controller:run:11 - Found 4 columns with multiple dimensions: ['centroid_nucleus', 'centroid_cell', 'centroid_ring', 'centroid_cyto']. Creating obsm table.\n",
      "2025-10-14 17:10:12.895 | INFO     | multiplex_pipeline.object_quantification.controller:build_X_and_var:164 - Quantifying channel 'DAPI' with mask 'nucleus'\n",
      "2025-10-14 17:10:13.918 | INFO     | multiplex_pipeline.object_quantification.controller:build_X_and_var:164 - Quantifying channel 'DAPI' with mask 'cell'\n",
      "2025-10-14 17:10:15.383 | INFO     | multiplex_pipeline.object_quantification.controller:build_X_and_var:164 - Quantifying channel 'DAPI' with mask 'ring'\n",
      "2025-10-14 17:10:16.428 | INFO     | multiplex_pipeline.object_quantification.controller:build_X_and_var:164 - Quantifying channel 'DAPI' with mask 'cyto'\n"
     ]
    },
    {
     "name": "stderr",
     "output_type": "stream",
     "text": [
      "c:\\Users\\KMK280\\AppData\\Local\\miniconda3\\envs\\sdata-env\\Lib\\site-packages\\anndata\\_core\\aligned_df.py:68: ImplicitModificationWarning: Transforming to str index.\n",
      "  warnings.warn(\"Transforming to str index.\", ImplicitModificationWarning)\n",
      "c:\\Users\\KMK280\\AppData\\Local\\miniconda3\\envs\\sdata-env\\Lib\\site-packages\\spatialdata\\models\\models.py:1144: UserWarning: Converting `region_key: region` to categorical dtype.\n",
      "  return convert_region_column_to_categorical(adata)\n"
     ]
    },
    {
     "name": "stdout",
     "output_type": "stream",
     "text": [
      "2025-10-14 17:10:17.630 | INFO     | multiplex_pipeline.object_quantification.controller:run:19 - Quantification complete. Resulting AnnData has 13866 observations and 8 variables.\n",
      "2025-10-14 17:10:18.698 | SUCCESS  | multiplex_pipeline.object_quantification.controller:run:28 - Quantification complete. Table 'instanseg_table' written to C:\\BLCA-2_Analysis_todel\\cores\\Core_000.zarr\n"
     ]
    }
   ],
   "source": [
    "for sd_path in path_list[:1]:\n",
    "    \n",
    "    # load data\n",
    "    logger.info(f'Processing {sd_path.name}')\n",
    "    sdata = sd.read_zarr(sd_path)\n",
    "\n",
    "    # run quantification\n",
    "    for controller in quant_controller_list:\n",
    "        controller.run(sdata)"
   ]
  },
  {
   "cell_type": "code",
   "execution_count": 10,
   "id": "538b17d7",
   "metadata": {},
   "outputs": [
    {
     "name": "stderr",
     "output_type": "stream",
     "text": [
      "version mismatch: detected: RasterFormatV02, requested: FormatV04\n",
      "c:\\Users\\KMK280\\AppData\\Local\\miniconda3\\envs\\sdata-env\\Lib\\site-packages\\zarr\\creation.py:610: UserWarning: ignoring keyword argument 'read_only'\n",
      "  compressor, fill_value = _kwargs_compat(compressor, fill_value, kwargs)\n"
     ]
    }
   ],
   "source": [
    "sdata = sd.read_zarr(sd_path)"
   ]
  },
  {
   "cell_type": "code",
   "execution_count": null,
   "id": "349877b0",
   "metadata": {},
   "outputs": [
    {
     "data": {
      "text/plain": [
       "<napari_spatialdata._interactive.Interactive at 0x18acd560690>"
      ]
     },
     "execution_count": 11,
     "metadata": {},
     "output_type": "execute_result"
    },
    {
     "name": "stderr",
     "output_type": "stream",
     "text": [
      "c:\\Users\\KMK280\\AppData\\Local\\miniconda3\\envs\\sdata-env\\Lib\\site-packages\\anndata\\_core\\aligned_df.py:68: ImplicitModificationWarning: Transforming to str index.\n",
      "  warnings.warn(\"Transforming to str index.\", ImplicitModificationWarning)\n"
     ]
    },
    {
     "name": "stdout",
     "output_type": "stream",
     "text": [
      "2025-10-10 11:55:27.783 | DEBUG    | napari_spatialdata._view:_on_layer_update:569 - Updating layer.\n",
      "2025-10-10 11:55:27.787 | DEBUG    | napari_spatialdata._view:_on_layer_update:569 - Updating layer.\n",
      "2025-10-10 11:55:32.836 | DEBUG    | napari_spatialdata._view:_on_layer_update:569 - Updating layer.\n",
      "2025-10-10 11:55:32.841 | DEBUG    | napari_spatialdata._view:_on_layer_update:569 - Updating layer.\n",
      "2025-10-10 11:55:34.285 | DEBUG    | napari_spatialdata._view:_on_layer_update:569 - Updating layer.\n",
      "2025-10-10 11:56:30.828 | DEBUG    | napari_spatialdata._view:_on_layer_update:569 - Updating layer.\n",
      "2025-10-10 11:56:30.828 | DEBUG    | napari_spatialdata._view:_on_layer_update:569 - Updating layer.\n",
      "2025-10-10 11:56:30.838 | DEBUG    | napari_spatialdata._view:_on_layer_update:569 - Updating layer.\n"
     ]
    }
   ],
   "source": [
    "from napari_spatialdata import Interactive\n",
    "\n",
    "Interactive(sdata)"
   ]
  }
 ],
 "metadata": {
  "kernelspec": {
   "display_name": "sdata-env",
   "language": "python",
   "name": "python3"
  },
  "language_info": {
   "codemirror_mode": {
    "name": "ipython",
    "version": 3
   },
   "file_extension": ".py",
   "mimetype": "text/x-python",
   "name": "python",
   "nbconvert_exporter": "python",
   "pygments_lexer": "ipython3",
   "version": "3.11.13"
  }
 },
 "nbformat": 4,
 "nbformat_minor": 5
}
