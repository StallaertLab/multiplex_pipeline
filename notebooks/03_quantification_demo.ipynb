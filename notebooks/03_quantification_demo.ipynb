{
 "cells": [
  {
   "cell_type": "code",
   "execution_count": 1,
   "id": "b31951cf",
   "metadata": {},
   "outputs": [
    {
     "name": "stderr",
     "output_type": "stream",
     "text": [
      "c:\\Users\\KMK280\\AppData\\Local\\miniconda3\\envs\\sdata-env\\Lib\\site-packages\\dask\\dataframe\\__init__.py:31: FutureWarning: The legacy Dask DataFrame implementation is deprecated and will be removed in a future version. Set the configuration option `dataframe.query-planning` to `True` or None to enable the new Dask Dataframe implementation and silence this warning.\n",
      "  warnings.warn(\n",
      "c:\\Users\\KMK280\\AppData\\Local\\miniconda3\\envs\\sdata-env\\Lib\\site-packages\\xarray_schema\\__init__.py:1: UserWarning: pkg_resources is deprecated as an API. See https://setuptools.pypa.io/en/latest/pkg_resources.html. The pkg_resources package is slated for removal as early as 2025-11-30. Refrain from using this package or pin to Setuptools<81.\n",
      "  from pkg_resources import DistributionNotFound, get_distribution\n"
     ]
    }
   ],
   "source": [
    "%load_ext autoreload\n",
    "%autoreload 2\n",
    "\n",
    "import os\n",
    "from pathlib import Path\n",
    "from datetime import datetime\n",
    "from loguru import logger\n",
    "import numpy as np\n",
    "import spatialdata as sd\n",
    "from napari_spatialdata import Interactive\n",
    "\n",
    "from multiplex_pipeline.utils.config_loaders import load_analysis_settings\n",
    "from multiplex_pipeline.object_quantification.controller import QuantificationController"
   ]
  },
  {
   "cell_type": "markdown",
   "id": "909cd179",
   "metadata": {},
   "source": [
    "### Load analysis settings"
   ]
  },
  {
   "cell_type": "code",
   "execution_count": null,
   "id": "40cdede3",
   "metadata": {},
   "outputs": [],
   "source": [
    "# load analysis configuration\n",
    "settings_path = r'C:\\BLCA-1_Analysis\\analysis_settings_BLCA1.yaml'\n",
    "\n",
    "settings = load_analysis_settings(settings_path)\n",
    "settings"
   ]
  },
  {
   "cell_type": "markdown",
   "id": "55327bef",
   "metadata": {},
   "source": [
    "### Define the logger"
   ]
  },
  {
   "cell_type": "code",
   "execution_count": null,
   "id": "6379596c",
   "metadata": {},
   "outputs": [],
   "source": [
    "log_file = settings['log_dir'] / f\"cores_quantification_{datetime.now():%Y-%m-%d_%H-%M-%S}.log\"\n",
    "\n",
    "logger.remove()\n",
    "logger.add(lambda msg: print(msg, end=\"\"))\n",
    "logger.add(log_file, level=\"DEBUG\", enqueue=True)"
   ]
  },
  {
   "cell_type": "markdown",
   "id": "2c64f1cc",
   "metadata": {},
   "source": [
    "### Define cores for the analysis"
   ]
  },
  {
   "cell_type": "code",
   "execution_count": null,
   "id": "2ac0f474",
   "metadata": {},
   "outputs": [],
   "source": [
    "core_dir = Path(settings['analysis_dir']) / 'cores'\n",
    "path_list = [core_dir / f for f in os.listdir(core_dir)]\n",
    "path_list.sort()\n",
    "path_list"
   ]
  },
  {
   "cell_type": "markdown",
   "id": "03848ec6",
   "metadata": {},
   "source": [
    "### Setup"
   ]
  },
  {
   "cell_type": "code",
   "execution_count": null,
   "id": "200176ba",
   "metadata": {},
   "outputs": [],
   "source": [
    "controller = QuantificationController(\n",
    "    mask_keys={'cell': 'instanseg_cell', 'nucleus': 'instanseg_nucleus'},\n",
    "    table_name = 'instanseg_data',\n",
    "    cytoplasm_components=('instanseg_cell', 'instanseg_nucleus'),\n",
    "    cytoplasm_mask_name='cyto'\n",
    ")"
   ]
  },
  {
   "cell_type": "markdown",
   "id": "11de3cac",
   "metadata": {},
   "source": [
    "### Quantify"
   ]
  },
  {
   "cell_type": "code",
   "execution_count": null,
   "id": "fcc1ce61",
   "metadata": {},
   "outputs": [],
   "source": [
    "for sd_path in path_list[:1]:\n",
    "    \n",
    "    # load data\n",
    "    logger.info(f'Processing {sd_path.name}')\n",
    "    sdata = sd.read_zarr(sd_path)\n",
    "\n",
    "    # run quantification\n",
    "    controller.run(sdata)"
   ]
  },
  {
   "cell_type": "code",
   "execution_count": null,
   "id": "63198b2a",
   "metadata": {},
   "outputs": [],
   "source": [
    "# view anndata\n",
    "\n",
    "sd_path = r'C:\\BLCA-1_Analysis\\cores\\Core_006.zarr'\n",
    "sdata = sd.read_zarr(sd_path)\n",
    "sdata"
   ]
  },
  {
   "cell_type": "code",
   "execution_count": 4,
   "id": "9d30ea43",
   "metadata": {},
   "outputs": [
    {
     "data": {
      "text/plain": [
       "SpatialData object, with associated Zarr store: C:\\BLCA-1_Analysis\\cores\\Core_006.zarr\n",
       "├── Images\n",
       "│     ├── '53BP1': DataTree[cyx] (1, 7168, 7168), (1, 3584, 3584)\n",
       "│     ├── 'CD3': DataTree[cyx] (1, 7168, 7168), (1, 3584, 3584)\n",
       "│     ├── 'CD8a': DataTree[cyx] (1, 7168, 7168), (1, 3584, 3584)\n",
       "│     ├── 'CD11C': DataTree[cyx] (1, 7168, 7168), (1, 3584, 3584)\n",
       "│     ├── 'CD11b': DataTree[cyx] (1, 7168, 7168), (1, 3584, 3584)\n",
       "│     ├── 'CD20': DataTree[cyx] (1, 7168, 7168), (1, 3584, 3584)\n",
       "│     ├── 'CD31': DataTree[cyx] (1, 7168, 7168), (1, 3584, 3584)\n",
       "│     ├── 'CD44': DataTree[cyx] (1, 7168, 7168), (1, 3584, 3584)\n",
       "│     ├── 'CD45': DataTree[cyx] (1, 7168, 7168), (1, 3584, 3584)\n",
       "│     ├── 'CD45RO': DataTree[cyx] (1, 7168, 7168), (1, 3584, 3584)\n",
       "│     ├── 'CD68': DataTree[cyx] (1, 7168, 7168), (1, 3584, 3584)\n",
       "│     ├── 'CD127': DataTree[cyx] (1, 7168, 7168), (1, 3584, 3584)\n",
       "│     ├── 'CD163': DataTree[cyx] (1, 7168, 7168), (1, 3584, 3584)\n",
       "│     ├── 'CDC6': DataTree[cyx] (1, 7168, 7168), (1, 3584, 3584)\n",
       "│     ├── 'CDK2': DataTree[cyx] (1, 7168, 7168), (1, 3584, 3584)\n",
       "│     ├── 'CDK4': DataTree[cyx] (1, 7168, 7168), (1, 3584, 3584)\n",
       "│     ├── 'CDK6': DataTree[cyx] (1, 7168, 7168), (1, 3584, 3584)\n",
       "│     ├── 'CDT1': DataTree[cyx] (1, 7168, 7168), (1, 3584, 3584)\n",
       "│     ├── 'Coll3': DataTree[cyx] (1, 7168, 7168), (1, 3584, 3584)\n",
       "│     ├── 'CycB1': DataTree[cyx] (1, 7168, 7168), (1, 3584, 3584)\n",
       "│     ├── 'DAPI': DataTree[cyx] (1, 7168, 7168), (1, 3584, 3584)\n",
       "│     ├── 'ECad': DataTree[cyx] (1, 7168, 7168), (1, 3584, 3584)\n",
       "│     ├── 'FOXP3': DataTree[cyx] (1, 7168, 7168), (1, 3584, 3584)\n",
       "│     ├── 'Fibro': DataTree[cyx] (1, 7168, 7168), (1, 3584, 3584)\n",
       "│     ├── 'GranzymeB': DataTree[cyx] (1, 7168, 7168), (1, 3584, 3584)\n",
       "│     ├── 'HES1': DataTree[cyx] (1, 7168, 7168), (1, 3584, 3584)\n",
       "│     ├── 'HIF1a': DataTree[cyx] (1, 7168, 7168), (1, 3584, 3584)\n",
       "│     ├── 'HLA1': DataTree[cyx] (1, 7168, 7168), (1, 3584, 3584)\n",
       "│     ├── 'HLADR': DataTree[cyx] (1, 7168, 7168), (1, 3584, 3584)\n",
       "│     ├── 'IL6': DataTree[cyx] (1, 7168, 7168), (1, 3584, 3584)\n",
       "│     ├── 'Ki67': DataTree[cyx] (1, 7168, 7168), (1, 3584, 3584)\n",
       "│     ├── 'LaminB1': DataTree[cyx] (1, 7168, 7168), (1, 3584, 3584)\n",
       "│     ├── 'NaKATPase': DataTree[cyx] (1, 7168, 7168), (1, 3584, 3584)\n",
       "│     ├── 'PCNA': DataTree[cyx] (1, 7168, 7168), (1, 3584, 3584)\n",
       "│     ├── 'PD-1': DataTree[cyx] (1, 7168, 7168), (1, 3584, 3584)\n",
       "│     ├── 'PML': DataTree[cyx] (1, 7168, 7168), (1, 3584, 3584)\n",
       "│     ├── 'RB': DataTree[cyx] (1, 7168, 7168), (1, 3584, 3584)\n",
       "│     ├── 'SMA': DataTree[cyx] (1, 7168, 7168), (1, 3584, 3584)\n",
       "│     ├── 'TGFb1': DataTree[cyx] (1, 7168, 7168), (1, 3584, 3584)\n",
       "│     ├── 'VIM': DataTree[cyx] (1, 7168, 7168), (1, 3584, 3584)\n",
       "│     ├── 'YAP1': DataTree[cyx] (1, 7168, 7168), (1, 3584, 3584)\n",
       "│     ├── 'bCat': DataTree[cyx] (1, 7168, 7168), (1, 3584, 3584)\n",
       "│     ├── 'cMYC': DataTree[cyx] (1, 7168, 7168), (1, 3584, 3584)\n",
       "│     ├── 'cycA1': DataTree[cyx] (1, 7168, 7168), (1, 3584, 3584)\n",
       "│     ├── 'cycA2': DataTree[cyx] (1, 7168, 7168), (1, 3584, 3584)\n",
       "│     ├── 'cycD1': DataTree[cyx] (1, 7168, 7168), (1, 3584, 3584)\n",
       "│     ├── 'cycE1': DataTree[cyx] (1, 7168, 7168), (1, 3584, 3584)\n",
       "│     ├── 'cycE2': DataTree[cyx] (1, 7168, 7168), (1, 3584, 3584)\n",
       "│     ├── 'p16': DataTree[cyx] (1, 7168, 7168), (1, 3584, 3584)\n",
       "│     ├── 'p21': DataTree[cyx] (1, 7168, 7168), (1, 3584, 3584)\n",
       "│     ├── 'p27': DataTree[cyx] (1, 7168, 7168), (1, 3584, 3584)\n",
       "│     ├── 'p38': DataTree[cyx] (1, 7168, 7168), (1, 3584, 3584)\n",
       "│     ├── 'p53': DataTree[cyx] (1, 7168, 7168), (1, 3584, 3584)\n",
       "│     ├── 'pAKT': DataTree[cyx] (1, 7168, 7168), (1, 3584, 3584)\n",
       "│     ├── 'pATR': DataTree[cyx] (1, 7168, 7168), (1, 3584, 3584)\n",
       "│     ├── 'pCK26': DataTree[cyx] (1, 7168, 7168), (1, 3584, 3584)\n",
       "│     ├── 'pERK': DataTree[cyx] (1, 7168, 7168), (1, 3584, 3584)\n",
       "│     ├── 'pH2AX': DataTree[cyx] (1, 7168, 7168), (1, 3584, 3584)\n",
       "│     ├── 'pRB': DataTree[cyx] (1, 7168, 7168), (1, 3584, 3584)\n",
       "│     ├── 'pS6': DataTree[cyx] (1, 7168, 7168), (1, 3584, 3584)\n",
       "│     └── 'wee1': DataTree[cyx] (1, 7168, 7168), (1, 3584, 3584)\n",
       "├── Labels\n",
       "│     ├── 'instanseg_cell': DataTree[yx] (7168, 7168), (3584, 3584), (1792, 1792)\n",
       "│     └── 'instanseg_nucleus': DataTree[yx] (7168, 7168), (3584, 3584), (1792, 1792)\n",
       "└── Tables\n",
       "      └── 'instanseg_data': AnnData (29455, 366)\n",
       "with coordinate systems:\n",
       "    ▸ 'global', with elements:\n",
       "        53BP1 (Images), CD3 (Images), CD8a (Images), CD11C (Images), CD11b (Images), CD20 (Images), CD31 (Images), CD44 (Images), CD45 (Images), CD45RO (Images), CD68 (Images), CD127 (Images), CD163 (Images), CDC6 (Images), CDK2 (Images), CDK4 (Images), CDK6 (Images), CDT1 (Images), Coll3 (Images), CycB1 (Images), DAPI (Images), ECad (Images), FOXP3 (Images), Fibro (Images), GranzymeB (Images), HES1 (Images), HIF1a (Images), HLA1 (Images), HLADR (Images), IL6 (Images), Ki67 (Images), LaminB1 (Images), NaKATPase (Images), PCNA (Images), PD-1 (Images), PML (Images), RB (Images), SMA (Images), TGFb1 (Images), VIM (Images), YAP1 (Images), bCat (Images), cMYC (Images), cycA1 (Images), cycA2 (Images), cycD1 (Images), cycE1 (Images), cycE2 (Images), p16 (Images), p21 (Images), p27 (Images), p38 (Images), p53 (Images), pAKT (Images), pATR (Images), pCK26 (Images), pERK (Images), pH2AX (Images), pRB (Images), pS6 (Images), wee1 (Images), instanseg_cell (Labels), instanseg_nucleus (Labels)"
      ]
     },
     "execution_count": 4,
     "metadata": {},
     "output_type": "execute_result"
    }
   ],
   "source": [
    "sdata"
   ]
  },
  {
   "cell_type": "code",
   "execution_count": null,
   "id": "4867b4d9",
   "metadata": {},
   "outputs": [],
   "source": []
  }
 ],
 "metadata": {
  "kernelspec": {
   "display_name": "sdata-env",
   "language": "python",
   "name": "python3"
  },
  "language_info": {
   "codemirror_mode": {
    "name": "ipython",
    "version": 3
   },
   "file_extension": ".py",
   "mimetype": "text/x-python",
   "name": "python",
   "nbconvert_exporter": "python",
   "pygments_lexer": "ipython3",
   "version": "3.11.13"
  }
 },
 "nbformat": 4,
 "nbformat_minor": 5
}
