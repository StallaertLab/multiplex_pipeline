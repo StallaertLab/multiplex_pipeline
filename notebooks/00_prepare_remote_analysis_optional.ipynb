{
 "cells": [
  {
   "cell_type": "code",
   "execution_count": 1,
   "id": "d6469970",
   "metadata": {},
   "outputs": [
    {
     "name": "stderr",
     "output_type": "stream",
     "text": [
      "c:\\Users\\KMK280\\AppData\\Local\\miniconda3\\envs\\sdata-env\\Lib\\site-packages\\dask\\dataframe\\__init__.py:31: FutureWarning: The legacy Dask DataFrame implementation is deprecated and will be removed in a future version. Set the configuration option `dataframe.query-planning` to `True` or None to enable the new Dask Dataframe implementation and silence this warning.\n",
      "  warnings.warn(\n",
      "c:\\Users\\KMK280\\AppData\\Local\\miniconda3\\envs\\sdata-env\\Lib\\site-packages\\xarray_schema\\__init__.py:1: UserWarning: pkg_resources is deprecated as an API. See https://setuptools.pypa.io/en/latest/pkg_resources.html. The pkg_resources package is slated for removal as early as 2025-11-30. Refrain from using this package or pin to Setuptools<81.\n",
      "  from pkg_resources import DistributionNotFound, get_distribution\n"
     ]
    }
   ],
   "source": [
    "%load_ext autoreload\n",
    "%autoreload 2\n",
    "\n",
    "from pathlib import Path\n",
    "from multiplex_pipeline.utils.config_loaders import load_analysis_settings\n",
    "from multiplex_pipeline.utils.globus_utils import GlobusConfig, create_globus_tc\n",
    "from multiplex_pipeline.utils.file_utils import globus_dir_exists, GlobusPathConverter\n",
    "from multiplex_pipeline.core_cutting.file_io import GlobusFileStrategy"
   ]
  },
  {
   "cell_type": "code",
   "execution_count": 2,
   "id": "d6e1a5cb",
   "metadata": {},
   "outputs": [],
   "source": [
    "# experiment settings file path\n",
    "settings_path = r'C:\\BLCA-7_Analysis\\analysis_settings_BLCA7.yaml'\n",
    "\n",
    "# globus config\n",
    "config_path = Path(r'D:\\globus_config\\globus_config.yaml')"
   ]
  },
  {
   "cell_type": "code",
   "execution_count": 3,
   "id": "041d6c37",
   "metadata": {},
   "outputs": [
    {
     "data": {
      "text/plain": [
       "AnalysisConfig(general=GeneralSettings(image_dir='R:/CellDive/BLCA-7/BLCA-7_Final', analysis_name='BLCA-7_Analysis', local_analysis_dir='C:/', remote_analysis_dir='/ix1/kkedziora/blca_analysis', log_dir=None), core_detection=CoreDetectionSettings(detection_image='BLCA-7_1.0.4_R000_DAPI__FINAL_F.ome.tif', core_info_file_path=None, im_level=6, min_area=2000, max_area=10000, min_iou=0.8, min_st=0.9, min_int=15, frame=4), core_cutting=CoreCuttingSettings(cores_dir_tif=None, cores_dir_output=None, include_channels=None, exclude_channels=['008_ECad'], use_markers=['DAPI', 'CD45', 'CD44', 'HLA1', 'NaKATPase', 'CD11C', 'pCK26', 'pS6', 'HES1'], ignore_markers=['Antibody1', 'TNFa', 'Snail1', 'SKP2', 'ProgRc', 'Plk1', 'PH3', 'PDL1', 'p65', 'p130', 'p-p130', 'p-Cdc6', 'LAG3', 'IL-8', 'HER2', 'ERa', 'EpCAM', 'E2F1', 'cycD3', 'cycB2', 'CDC25C', 'CD86', 'CD73', 'CD69', 'CD62L', 'CD56', 'CD4', 'CD25', 'CD19', 'CD27', 'CCR7', 'cCASP3'], margin=0, mask_value=0, transfer_cleanup_enabled=True, core_cleanup_enabled=True), additional_elements=[NormalizeStep(category='image_transformer', type='normalize', input='DAPI', output='DAPI_norm', keep=False, parameters=Params(low=1.0, high=99.5)), NormalizeStep(category='image_transformer', type='normalize', input='CD45', output='CD45_norm', keep=False, parameters=Params(low=1.0, high=99.5)), NormalizeStep(category='image_transformer', type='normalize', input='CD44', output='CD44_norm', keep=False, parameters=Params(low=1.0, high=99.5)), NormalizeStep(category='image_transformer', type='normalize', input='HLA1', output='HLA1_norm', keep=False, parameters=Params(low=1.0, high=99.5)), NormalizeStep(category='image_transformer', type='normalize', input='NaKATPase', output='NaKATPase_norm', keep=False, parameters=Params(low=1.0, high=99.5)), NormalizeStep(category='image_transformer', type='normalize', input='CD11C', output='CD11C_norm', keep=False, parameters=Params(low=1.0, high=99.5)), NormalizeStep(category='image_transformer', type='normalize', input='pCK26', output='pCK26_norm', keep=False, parameters=Params(low=1.0, high=99.5)), NormalizeStep(category='image_transformer', type='normalize', input='pS6', output='pS6_norm', keep=False, parameters=Params(low=1.0, high=99.5)), NormalizeStep(category='image_transformer', type='normalize', input='HES1', output='HES1_norm', keep=False, parameters=Params(low=1.0, high=99.5)), InstansegStep(category='object_segmenter', type='instanseg', input=['DAPI_norm', 'HLA1_norm', 'CD44_norm', 'NaKATPase_norm', 'CD11C_norm', 'CD45_norm', 'pCK26_norm', 'pS6_norm', 'HES1_norm'], output=['instanseg_nucleus_org', 'instanseg_cell_org'], keep=False, parameters=Params(model='fluorescence_nuclei_and_cells', pixel_size=0.3, resolve_cell_and_nucleus=True, cleanup_fragments=True, clean_cache=True)), BlobStep(category='mask_builder', type='blob', input='instanseg_nucleus_org', output='blob', keep=True, parameters={}), MultiplyStep(category='mask_builder', type='multiply', input=['instanseg_nucleus_org', 'blob'], output='instanseg_nucleus', keep=True, parameters={}), MultiplyStep(category='mask_builder', type='multiply', input=['instanseg_cell_org', 'blob'], output='instanseg_cell', keep=True, parameters={}), RingStep(category='mask_builder', type='ring', input=['instanseg_nucleus'], output='ring', keep=True, parameters=Params(outer=8, inner=2)), SubtractStep(category='mask_builder', type='subtract', input=['instanseg_cell', 'instanseg_nucleus'], output='cytoplasm', keep=True, parameters={})], quant=[QuantTask(name='instanseg_table', masks={'nucleus': 'instanseg_nucleus', 'cell': 'instanseg_cell', 'ring': 'ring', 'cyto': 'cytoplasm'}, layer_connection='instanseg_cell')], sdata_storage=StorageSettings(chunk_size=[1, 512, 512], max_pyramid_level=3, downscale=2), analysis_dir=WindowsPath('C:/BLCA-7_Analysis'), temp_dir=WindowsPath('C:/BLCA-7_Analysis/temp'), log_dir_path=WindowsPath('C:/BLCA-7_Analysis/logs'), core_info_file_path=WindowsPath('C:/BLCA-7_Analysis/cores.csv'), cores_dir_tif_path=WindowsPath('C:/BLCA-7_Analysis/temp'), cores_dir_output_path=WindowsPath('C:/BLCA-7_Analysis/cores'))"
      ]
     },
     "execution_count": 3,
     "metadata": {},
     "output_type": "execute_result"
    }
   ],
   "source": [
    "# load analysis configuration\n",
    "settings = load_analysis_settings(settings_path)\n",
    "settings"
   ]
  },
  {
   "cell_type": "code",
   "execution_count": 4,
   "id": "f3d4546e",
   "metadata": {},
   "outputs": [],
   "source": [
    "# get Globus settings\n",
    "gc = GlobusConfig.from_config_files(config_path, from_collection = 'r_collection_id', to_collection = 'crcd_collection_id')\n",
    "tc = create_globus_tc(gc.client_id, gc.transfer_tokens)"
   ]
  },
  {
   "cell_type": "code",
   "execution_count": 5,
   "id": "c8cd2b25",
   "metadata": {},
   "outputs": [
    {
     "data": {
      "text/plain": [
       "False"
      ]
     },
     "execution_count": 5,
     "metadata": {},
     "output_type": "execute_result"
    }
   ],
   "source": [
    "# check if the destination analysis directory exists \n",
    "remote_analysis_dir = settings.general.remote_analysis_dir + '/' + settings.general.analysis_name\n",
    "\n",
    "globus_dir_exists(tc, gc.destination_collection_id, remote_analysis_dir)"
   ]
  },
  {
   "cell_type": "code",
   "execution_count": 10,
   "id": "7d82c20f",
   "metadata": {},
   "outputs": [
    {
     "data": {
      "text/plain": [
       "{'settings': ('/BLCA-1_Analysis/analysis_settings_BLCA1_todel.yaml',\n",
       "  '/ix1/kkedziora/blca_analysis/BLCA-1_Analysis/analysis_settings_BLCA1_todel.yaml'),\n",
       " 'core_definitions': ('/BLCA-1_Analysis/cores.pkl',\n",
       "  '/ix1/kkedziora/blca_analysis/BLCA-1_Analysis/cores.pkl')}"
      ]
     },
     "execution_count": 10,
     "metadata": {},
     "output_type": "execute_result"
    }
   ],
   "source": [
    "# build a transfer map\n",
    "\n",
    "# if transfering from Windows with multiple drives exposed in Globus use \"multi_drive\"\n",
    "# if transfering from Windows with a single drive exposed in Globus \n",
    "# or if transfering from CIFs drive use \"single_drive\"\n",
    "conv = GlobusPathConverter(layout=\"single_drive\")\n",
    "\n",
    "local_settings_path = conv.windows_to_globus(settings_path)\n",
    "remote_settings_path = remote_analysis_dir + '/' + Path(settings_path).name\n",
    "    \n",
    "local_cores_info_path = conv.windows_to_globus(settings.core_info_file_path.with_suffix('.pkl'))\n",
    "remote_cores_info_path = remote_analysis_dir + '/' + Path(local_cores_info_path).name\n",
    "\n",
    "remote_cores_info_path = remote_analysis_dir + '/' + Path(local_cores_info_path).name\n",
    "\n",
    "transfer_map = {}\n",
    "transfer_map['settings'] = (local_settings_path, remote_settings_path)\n",
    "transfer_map['core_definitions'] = (local_cores_info_path, remote_cores_info_path)\n",
    "transfer_map"
   ]
  },
  {
   "cell_type": "code",
   "execution_count": 14,
   "id": "7a09e622",
   "metadata": {},
   "outputs": [
    {
     "name": "stderr",
     "output_type": "stream",
     "text": [
      "\u001b[32m2025-10-08 12:55:11.680\u001b[0m | \u001b[1mINFO    \u001b[0m | \u001b[36mmultiplex_pipeline.core_cutting.file_io\u001b[0m:\u001b[36msubmit_all_transfers\u001b[0m:\u001b[36m93\u001b[0m - \u001b[1mSubmitted transfer for settings to /ix1/kkedziora/blca_analysis/BLCA-3_Analysis/analysis_settings_BLCA3.yaml (task_id=8c3cea84-a467-11f0-ac3e-0affca67c55f)\u001b[0m\n",
      "\u001b[32m2025-10-08 12:55:12.898\u001b[0m | \u001b[1mINFO    \u001b[0m | \u001b[36mmultiplex_pipeline.core_cutting.file_io\u001b[0m:\u001b[36msubmit_all_transfers\u001b[0m:\u001b[36m93\u001b[0m - \u001b[1mSubmitted transfer for core_definitions to /ix1/kkedziora/blca_analysis/BLCA-3_Analysis/cores.pkl (task_id=8d514710-a467-11f0-92dd-0affca67c55f)\u001b[0m\n"
     ]
    }
   ],
   "source": [
    "# submit transfer\n",
    "transfer = GlobusFileStrategy(tc=tc, transfer_map=transfer_map, gc=gc, cleanup_enabled = False)"
   ]
  },
  {
   "cell_type": "code",
   "execution_count": 17,
   "id": "23e07e3f",
   "metadata": {},
   "outputs": [
    {
     "name": "stdout",
     "output_type": "stream",
     "text": [
      "Status of /ix1/kkedziora/blca_analysis/BLCA-3_Analysis/analysis_settings_BLCA3.yaml: SUCCEEDED\n",
      "Status of /ix1/kkedziora/blca_analysis/BLCA-3_Analysis/cores.pkl: SUCCEEDED\n"
     ]
    }
   ],
   "source": [
    "# monitor transfer\n",
    "print(f'Status of {transfer.pending[0][1]}: {tc.get_task(transfer.pending[0][0])[\"status\"]}')\n",
    "print(f'Status of {transfer.pending[1][1]}: {tc.get_task(transfer.pending[1][0])[\"status\"]}')"
   ]
  }
 ],
 "metadata": {
  "kernelspec": {
   "display_name": "sdata-env",
   "language": "python",
   "name": "python3"
  },
  "language_info": {
   "codemirror_mode": {
    "name": "ipython",
    "version": 3
   },
   "file_extension": ".py",
   "mimetype": "text/x-python",
   "name": "python",
   "nbconvert_exporter": "python",
   "pygments_lexer": "ipython3",
   "version": "3.11.13"
  }
 },
 "nbformat": 4,
 "nbformat_minor": 5
}
