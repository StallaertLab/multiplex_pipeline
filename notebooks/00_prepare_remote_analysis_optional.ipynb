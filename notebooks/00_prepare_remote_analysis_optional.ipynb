{
 "cells": [
  {
   "cell_type": "code",
   "execution_count": 4,
   "id": "d6469970",
   "metadata": {},
   "outputs": [
    {
     "name": "stdout",
     "output_type": "stream",
     "text": [
      "The autoreload extension is already loaded. To reload it, use:\n",
      "  %reload_ext autoreload\n"
     ]
    }
   ],
   "source": [
    "%load_ext autoreload\n",
    "%autoreload 2\n",
    "\n",
    "from pathlib import Path\n",
    "from multiplex_pipeline.utils.config_loaders import load_analysis_settings\n",
    "from multiplex_pipeline.utils.globus_utils import GlobusConfig, create_globus_tc\n",
    "from multiplex_pipeline.utils.file_utils import globus_dir_exists, GlobusPathConverter\n",
    "from multiplex_pipeline.core_cutting.file_io import GlobusFileStrategy"
   ]
  },
  {
   "cell_type": "code",
   "execution_count": 5,
   "id": "d6e1a5cb",
   "metadata": {},
   "outputs": [],
   "source": [
    "# experiment settings file path\n",
    "settings_path = r'R:\\Wayne\\BLCA\\BLCA-3_Analysis\\analysis_settings_BLCA3.yaml'\n",
    "\n",
    "# globus config\n",
    "config_path = Path(r'D:\\globus_config\\globus_config.yaml')"
   ]
  },
  {
   "cell_type": "code",
   "execution_count": 10,
   "id": "041d6c37",
   "metadata": {},
   "outputs": [],
   "source": [
    "# load analysis configuration\n",
    "settings = load_analysis_settings(settings_path)"
   ]
  },
  {
   "cell_type": "code",
   "execution_count": 11,
   "id": "611bad81",
   "metadata": {},
   "outputs": [
    {
     "data": {
      "text/plain": [
       "{'image_dir': 'R:/CellDive/BLCA-3/BLCA-3_Final',\n",
       " 'analysis_name': 'BLCA-3_Analysis',\n",
       " 'local_analysis_dir': 'R:/Wayne/BLCA',\n",
       " 'remote_analysis_dir': '/ix1/kkedziora/blca_analysis',\n",
       " 'log_dir': WindowsPath('R:/Wayne/BLCA/BLCA-3_Analysis/logs'),\n",
       " 'detection_image': 'BLCA-3_1.0.4_R000_DAPI__FINAL_F.ome.tif',\n",
       " 'core_info_file_path': WindowsPath('R:/Wayne/BLCA/BLCA-3_Analysis/cores.csv'),\n",
       " 'cores_dir_tif': WindowsPath('R:/Wayne/BLCA/BLCA-3_Analysis/temp'),\n",
       " 'cores_dir_output': WindowsPath('R:/Wayne/BLCA/BLCA-3_Analysis/cores'),\n",
       " 'include_channels': None,\n",
       " 'exclude_channels': ['008_ECad'],\n",
       " 'use_markers': None,\n",
       " 'ignore_markers': ['Antibody1',\n",
       "  'TNFa',\n",
       "  'Snail1',\n",
       "  'SKP2',\n",
       "  'ProgRc',\n",
       "  'Plk1',\n",
       "  'PH3',\n",
       "  'PDL1',\n",
       "  'p65',\n",
       "  'p130',\n",
       "  'p-p130',\n",
       "  'p-Cdc6',\n",
       "  'LAG3',\n",
       "  'IL-8',\n",
       "  'HER2',\n",
       "  'ERa',\n",
       "  'EpCAM',\n",
       "  'E2F1',\n",
       "  'cycD3',\n",
       "  'cycB2',\n",
       "  'CDC25C',\n",
       "  'CD86',\n",
       "  'CD73',\n",
       "  'CD69',\n",
       "  'CD62L',\n",
       "  'CD56',\n",
       "  'CD4',\n",
       "  'CD25',\n",
       "  'CD19',\n",
       "  'CD27',\n",
       "  'CCR7',\n",
       "  'cCASP3'],\n",
       " 'segmentation': {'package': 'instaseg',\n",
       "  'model': 'fluorescence_nuclei_and_cells',\n",
       "  'kwargs': {'pixel_size': 0.3,\n",
       "   'resolve_cell_and_nucleus': True,\n",
       "   'cleanup_fragments': True},\n",
       "  'input': ['DAPI',\n",
       "   'HLA1',\n",
       "   'CD44',\n",
       "   'NaKATPase',\n",
       "   'CD11C',\n",
       "   'CD45',\n",
       "   'pCK26',\n",
       "   'pS6',\n",
       "   'HES1'],\n",
       "  'output_name': ['instanseg_nucleus', 'instanseg_cell'],\n",
       "  'preprocessing': {'mix': None, 'denoise': None, 'normalize': [1, 99.5]},\n",
       "  'cleaner': 'BlobCleaner'},\n",
       " 'core_detection': {'im_level': 6,\n",
       "  'min_area': 2000,\n",
       "  'max_area': 10000,\n",
       "  'min_iou': 0.8,\n",
       "  'min_st': 0.9,\n",
       "  'min_int': 15,\n",
       "  'frame': 4},\n",
       " 'core_cutting': {'margin': 0,\n",
       "  'mask_value': 0,\n",
       "  'max_pyramid_level': 2,\n",
       "  'transfer_cleanup_enabled': True,\n",
       "  'core_cleanup_enabled': True,\n",
       "  'chunk_size': [1, 512, 512]},\n",
       " 'analysis_dir': WindowsPath('R:/Wayne/BLCA/BLCA-3_Analysis'),\n",
       " 'temp_dir': WindowsPath('R:/Wayne/BLCA/BLCA-3_Analysis/temp')}"
      ]
     },
     "execution_count": 11,
     "metadata": {},
     "output_type": "execute_result"
    }
   ],
   "source": [
    "settings"
   ]
  },
  {
   "cell_type": "code",
   "execution_count": 8,
   "id": "f3d4546e",
   "metadata": {},
   "outputs": [],
   "source": [
    "# get Globus settings\n",
    "gc = GlobusConfig.from_config_files(config_path, from_collection = 'r_collection_id', to_collection = 'crcd_collection_id')\n",
    "tc = create_globus_tc(gc.client_id, gc.transfer_tokens)"
   ]
  },
  {
   "cell_type": "code",
   "execution_count": 12,
   "id": "c8cd2b25",
   "metadata": {},
   "outputs": [
    {
     "data": {
      "text/plain": [
       "True"
      ]
     },
     "execution_count": 12,
     "metadata": {},
     "output_type": "execute_result"
    }
   ],
   "source": [
    "# check if the destination analysis directory exists \n",
    "remote_analysis_dir = settings[\"remote_analysis_dir\"] + '/' + settings[\"analysis_name\"]\n",
    "\n",
    "globus_dir_exists(tc, gc.destination_collection_id, remote_analysis_dir)"
   ]
  },
  {
   "cell_type": "code",
   "execution_count": 13,
   "id": "7d82c20f",
   "metadata": {},
   "outputs": [
    {
     "data": {
      "text/plain": [
       "{'settings': ('/Wayne/BLCA/BLCA-3_Analysis/analysis_settings_BLCA3.yaml',\n",
       "  '/ix1/kkedziora/blca_analysis/BLCA-3_Analysis/analysis_settings_BLCA3.yaml'),\n",
       " 'core_definitions': ('/Wayne/BLCA/BLCA-3_Analysis/cores.pkl',\n",
       "  '/ix1/kkedziora/blca_analysis/BLCA-3_Analysis/cores.pkl')}"
      ]
     },
     "execution_count": 13,
     "metadata": {},
     "output_type": "execute_result"
    }
   ],
   "source": [
    "# build a transfer map\n",
    "\n",
    "# if transfering from Windows with multiple drives exposed in Globus use \"multi_drive\"\n",
    "# if transfering from Windows with a single drive exposed in Globus \n",
    "# or if transfering from CIFs drive use \"single_drive\"\n",
    "conv = GlobusPathConverter(layout=\"single_drive\")\n",
    "\n",
    "local_settings_path = conv.windows_to_globus(settings_path)\n",
    "remote_settings_path = remote_analysis_dir + '/' + Path(settings_path).name\n",
    "    \n",
    "local_cores_info_path = conv.windows_to_globus(settings['core_info_file_path'].with_suffix('.pkl'))\n",
    "remote_cores_info_path = remote_analysis_dir + '/' + Path(local_cores_info_path).name\n",
    "\n",
    "remote_cores_info_path = remote_analysis_dir + '/' + Path(local_cores_info_path).name\n",
    "\n",
    "transfer_map = {}\n",
    "transfer_map['settings'] = (local_settings_path, remote_settings_path)\n",
    "transfer_map['core_definitions'] = (local_cores_info_path, remote_cores_info_path)\n",
    "transfer_map"
   ]
  },
  {
   "cell_type": "code",
   "execution_count": 14,
   "id": "7a09e622",
   "metadata": {},
   "outputs": [
    {
     "name": "stderr",
     "output_type": "stream",
     "text": [
      "\u001b[32m2025-10-08 12:55:11.680\u001b[0m | \u001b[1mINFO    \u001b[0m | \u001b[36mmultiplex_pipeline.core_cutting.file_io\u001b[0m:\u001b[36msubmit_all_transfers\u001b[0m:\u001b[36m93\u001b[0m - \u001b[1mSubmitted transfer for settings to /ix1/kkedziora/blca_analysis/BLCA-3_Analysis/analysis_settings_BLCA3.yaml (task_id=8c3cea84-a467-11f0-ac3e-0affca67c55f)\u001b[0m\n",
      "\u001b[32m2025-10-08 12:55:12.898\u001b[0m | \u001b[1mINFO    \u001b[0m | \u001b[36mmultiplex_pipeline.core_cutting.file_io\u001b[0m:\u001b[36msubmit_all_transfers\u001b[0m:\u001b[36m93\u001b[0m - \u001b[1mSubmitted transfer for core_definitions to /ix1/kkedziora/blca_analysis/BLCA-3_Analysis/cores.pkl (task_id=8d514710-a467-11f0-92dd-0affca67c55f)\u001b[0m\n"
     ]
    }
   ],
   "source": [
    "# submit transfer\n",
    "transfer = GlobusFileStrategy(tc=tc, transfer_map=transfer_map, gc=gc, cleanup_enabled = False)"
   ]
  },
  {
   "cell_type": "code",
   "execution_count": 17,
   "id": "23e07e3f",
   "metadata": {},
   "outputs": [
    {
     "name": "stdout",
     "output_type": "stream",
     "text": [
      "Status of /ix1/kkedziora/blca_analysis/BLCA-3_Analysis/analysis_settings_BLCA3.yaml: SUCCEEDED\n",
      "Status of /ix1/kkedziora/blca_analysis/BLCA-3_Analysis/cores.pkl: SUCCEEDED\n"
     ]
    }
   ],
   "source": [
    "# monitor transfer\n",
    "print(f'Status of {transfer.pending[0][1]}: {tc.get_task(transfer.pending[0][0])[\"status\"]}')\n",
    "print(f'Status of {transfer.pending[1][1]}: {tc.get_task(transfer.pending[1][0])[\"status\"]}')"
   ]
  },
  {
   "cell_type": "code",
   "execution_count": null,
   "id": "43a46a4b",
   "metadata": {},
   "outputs": [],
   "source": []
  }
 ],
 "metadata": {
  "kernelspec": {
   "display_name": "sdata-env",
   "language": "python",
   "name": "python3"
  },
  "language_info": {
   "codemirror_mode": {
    "name": "ipython",
    "version": 3
   },
   "file_extension": ".py",
   "mimetype": "text/x-python",
   "name": "python",
   "nbconvert_exporter": "python",
   "pygments_lexer": "ipython3",
   "version": "3.11.13"
  }
 },
 "nbformat": 4,
 "nbformat_minor": 5
}
