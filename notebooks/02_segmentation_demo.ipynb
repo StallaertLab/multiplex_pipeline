{
 "cells": [
  {
   "cell_type": "code",
   "execution_count": 2,
   "id": "9b3831b0",
   "metadata": {},
   "outputs": [
    {
     "name": "stderr",
     "output_type": "stream",
     "text": [
      "c:\\Users\\KMK280\\AppData\\Local\\miniconda3\\envs\\sdata-env\\Lib\\site-packages\\dask\\dataframe\\__init__.py:31: FutureWarning: The legacy Dask DataFrame implementation is deprecated and will be removed in a future version. Set the configuration option `dataframe.query-planning` to `True` or None to enable the new Dask Dataframe implementation and silence this warning.\n",
      "  warnings.warn(\n",
      "c:\\Users\\KMK280\\AppData\\Local\\miniconda3\\envs\\sdata-env\\Lib\\site-packages\\xarray_schema\\__init__.py:1: UserWarning: pkg_resources is deprecated as an API. See https://setuptools.pypa.io/en/latest/pkg_resources.html. The pkg_resources package is slated for removal as early as 2025-11-30. Refrain from using this package or pin to Setuptools<81.\n",
      "  from pkg_resources import DistributionNotFound, get_distribution\n"
     ]
    }
   ],
   "source": [
    "%load_ext autoreload\n",
    "%autoreload 2\n",
    "\n",
    "import os\n",
    "from datetime import datetime\n",
    "from pathlib import Path\n",
    "\n",
    "import spatialdata as sd\n",
    "from loguru import logger\n",
    "from napari_spatialdata import Interactive\n",
    "\n",
    "import multiplex_pipeline.core_segmentation.cleaners as cleaners\n",
    "from multiplex_pipeline.core_preprocessing.controller import (\n",
    "    PreSegmentationProcessor,\n",
    ")\n",
    "from multiplex_pipeline.core_segmentation.controller import (\n",
    "    SegmentationController,\n",
    ")\n",
    "from multiplex_pipeline.core_segmentation.segmenters import (\n",
    "    InstansegSegmenter,\n",
    ")\n",
    "from multiplex_pipeline.utils.utils import load_analysis_settings"
   ]
  },
  {
   "cell_type": "markdown",
   "id": "29f71fee",
   "metadata": {},
   "source": [
    "### Load analysis settings"
   ]
  },
  {
   "cell_type": "code",
   "execution_count": 3,
   "id": "2346b63f",
   "metadata": {},
   "outputs": [
    {
     "data": {
      "text/plain": [
       "{'image_dir': 'R:/CellDive/BLCA-1/BLCA-1_Final',\n",
       " 'analysis_dir': 'C:/BLCA-1_Analysis',\n",
       " 'log_dir': WindowsPath('C:/BLCA-1_Analysis/logs'),\n",
       " 'detection_image': 'BLCA-1_1.0.4_R000_DAPI__FINAL_F.ome.tif',\n",
       " 'core_info_file_path': WindowsPath('C:/BLCA-1_Analysis/cores.csv'),\n",
       " 'cores_dir_tif': WindowsPath('C:/BLCA-1_Analysis/temp'),\n",
       " 'cores_dir_output': WindowsPath('C:/BLCA-1_Analysis/cores'),\n",
       " 'include_channels': None,\n",
       " 'exclude_channels': ['008_ECad'],\n",
       " 'use_markers': None,\n",
       " 'ignore_markers': ['Antibody1',\n",
       "  'TNFa',\n",
       "  'Snail1',\n",
       "  'SKP2',\n",
       "  'ProgRc',\n",
       "  'Plk1',\n",
       "  'PH3',\n",
       "  'PDL1',\n",
       "  'p65',\n",
       "  'p130',\n",
       "  'p-p130',\n",
       "  'p-Cdc6',\n",
       "  'LAG3',\n",
       "  'IL-8',\n",
       "  'HER2',\n",
       "  'ERa',\n",
       "  'EpCAM',\n",
       "  'E2F1',\n",
       "  'cycD3',\n",
       "  'cycB2',\n",
       "  'CDC25C',\n",
       "  'CD86',\n",
       "  'CD73',\n",
       "  'CD69',\n",
       "  'CD62L',\n",
       "  'CD56',\n",
       "  'CD4',\n",
       "  'CD25',\n",
       "  'CD19',\n",
       "  'CD27',\n",
       "  'CCR7',\n",
       "  'cCASP3'],\n",
       " 'segmentation': {'package': 'instaseg',\n",
       "  'model': 'fluorescence_nuclei_and_cells',\n",
       "  'kwargs': {'pixel_size': 0.3,\n",
       "   'resolve_cell_and_nucleus': True,\n",
       "   'cleanup_fragments': True,\n",
       "   'normalise': False},\n",
       "  'input': ['DAPI',\n",
       "   'HLA1',\n",
       "   'CD44',\n",
       "   'NaKATPase',\n",
       "   'CD11C',\n",
       "   'CD45',\n",
       "   'pCK26',\n",
       "   'pS6',\n",
       "   'HES1'],\n",
       "  'output_name': ['instanseg_nucleus', 'instanseg_cell'],\n",
       "  'preprocessing': {'mix': None, 'denoise': None, 'normalize': [1, 99.5]},\n",
       "  'cleaner': 'BlobCleaner'},\n",
       " 'core_detection': {'im_level': 6,\n",
       "  'min_area': 2000,\n",
       "  'max_area': 20000,\n",
       "  'min_iou': 0.8,\n",
       "  'min_st': 0.9,\n",
       "  'min_int': 15,\n",
       "  'frame': 4},\n",
       " 'core_cutting': {'margin': 0,\n",
       "  'mask_value': 0,\n",
       "  'max_pyramid_level': 2,\n",
       "  'transfer_cleanup_enabled': True,\n",
       "  'core_cleanup_enabled': True}}"
      ]
     },
     "execution_count": 3,
     "metadata": {},
     "output_type": "execute_result"
    }
   ],
   "source": [
    "# load analysis configuration\n",
    "settings_path = r'C:\\BLCA-1_Analysis\\analysis_settings_BLCA1.yaml'\n",
    "\n",
    "settings = load_analysis_settings(settings_path)\n",
    "settings"
   ]
  },
  {
   "cell_type": "markdown",
   "id": "e30eb2e5",
   "metadata": {},
   "source": [
    "### Define the logger"
   ]
  },
  {
   "cell_type": "code",
   "execution_count": 4,
   "id": "01333eee",
   "metadata": {},
   "outputs": [
    {
     "data": {
      "text/plain": [
       "2"
      ]
     },
     "execution_count": 4,
     "metadata": {},
     "output_type": "execute_result"
    }
   ],
   "source": [
    "log_file = settings['log_dir'] / f\"cores_segmentation_{datetime.now():%Y-%m-%d_%H-%M-%S}.log\"\n",
    "\n",
    "logger.remove()\n",
    "logger.add(lambda msg: print(msg, end=\"\"))\n",
    "logger.add(log_file, level=\"DEBUG\", enqueue=True)"
   ]
  },
  {
   "cell_type": "markdown",
   "id": "ecbb0071",
   "metadata": {},
   "source": [
    "### Define cores for the analysis"
   ]
  },
  {
   "cell_type": "code",
   "execution_count": 5,
   "id": "a331dd5f",
   "metadata": {},
   "outputs": [
    {
     "data": {
      "text/plain": [
       "[WindowsPath('C:/BLCA-1_Analysis/cores/Core_000.zarr'),\n",
       " WindowsPath('C:/BLCA-1_Analysis/cores/Core_001.zarr'),\n",
       " WindowsPath('C:/BLCA-1_Analysis/cores/Core_002.zarr'),\n",
       " WindowsPath('C:/BLCA-1_Analysis/cores/Core_003.zarr'),\n",
       " WindowsPath('C:/BLCA-1_Analysis/cores/Core_004.zarr'),\n",
       " WindowsPath('C:/BLCA-1_Analysis/cores/Core_005.zarr'),\n",
       " WindowsPath('C:/BLCA-1_Analysis/cores/Core_006.zarr'),\n",
       " WindowsPath('C:/BLCA-1_Analysis/cores/Core_007.zarr'),\n",
       " WindowsPath('C:/BLCA-1_Analysis/cores/Core_008.zarr'),\n",
       " WindowsPath('C:/BLCA-1_Analysis/cores/Core_009.zarr'),\n",
       " WindowsPath('C:/BLCA-1_Analysis/cores/Core_010.zarr'),\n",
       " WindowsPath('C:/BLCA-1_Analysis/cores/Core_011.zarr'),\n",
       " WindowsPath('C:/BLCA-1_Analysis/cores/Core_012.zarr'),\n",
       " WindowsPath('C:/BLCA-1_Analysis/cores/Core_013.zarr'),\n",
       " WindowsPath('C:/BLCA-1_Analysis/cores/Core_014.zarr'),\n",
       " WindowsPath('C:/BLCA-1_Analysis/cores/Core_015.zarr'),\n",
       " WindowsPath('C:/BLCA-1_Analysis/cores/Core_016.zarr'),\n",
       " WindowsPath('C:/BLCA-1_Analysis/cores/Core_017.zarr'),\n",
       " WindowsPath('C:/BLCA-1_Analysis/cores/Core_018.zarr'),\n",
       " WindowsPath('C:/BLCA-1_Analysis/cores/Core_019.zarr'),\n",
       " WindowsPath('C:/BLCA-1_Analysis/cores/Core_020.zarr'),\n",
       " WindowsPath('C:/BLCA-1_Analysis/cores/Core_021.zarr'),\n",
       " WindowsPath('C:/BLCA-1_Analysis/cores/Core_022.zarr'),\n",
       " WindowsPath('C:/BLCA-1_Analysis/cores/Core_023.zarr'),\n",
       " WindowsPath('C:/BLCA-1_Analysis/cores/Core_024.zarr'),\n",
       " WindowsPath('C:/BLCA-1_Analysis/cores/Core_025.zarr'),\n",
       " WindowsPath('C:/BLCA-1_Analysis/cores/Core_026.zarr'),\n",
       " WindowsPath('C:/BLCA-1_Analysis/cores/Core_027.zarr'),\n",
       " WindowsPath('C:/BLCA-1_Analysis/cores/Core_028.zarr'),\n",
       " WindowsPath('C:/BLCA-1_Analysis/cores/Core_029.zarr'),\n",
       " WindowsPath('C:/BLCA-1_Analysis/cores/Core_030.zarr'),\n",
       " WindowsPath('C:/BLCA-1_Analysis/cores/Core_031.zarr'),\n",
       " WindowsPath('C:/BLCA-1_Analysis/cores/Core_032.zarr'),\n",
       " WindowsPath('C:/BLCA-1_Analysis/cores/Core_033.zarr'),\n",
       " WindowsPath('C:/BLCA-1_Analysis/cores/Core_034.zarr'),\n",
       " WindowsPath('C:/BLCA-1_Analysis/cores/Core_035.zarr'),\n",
       " WindowsPath('C:/BLCA-1_Analysis/cores/Core_036.zarr'),\n",
       " WindowsPath('C:/BLCA-1_Analysis/cores/Core_037.zarr'),\n",
       " WindowsPath('C:/BLCA-1_Analysis/cores/Core_038.zarr'),\n",
       " WindowsPath('C:/BLCA-1_Analysis/cores/Core_039.zarr'),\n",
       " WindowsPath('C:/BLCA-1_Analysis/cores/Core_040.zarr'),\n",
       " WindowsPath('C:/BLCA-1_Analysis/cores/Core_041.zarr'),\n",
       " WindowsPath('C:/BLCA-1_Analysis/cores/Core_042.zarr'),\n",
       " WindowsPath('C:/BLCA-1_Analysis/cores/Core_043.zarr'),\n",
       " WindowsPath('C:/BLCA-1_Analysis/cores/Core_044.zarr'),\n",
       " WindowsPath('C:/BLCA-1_Analysis/cores/Core_045.zarr'),\n",
       " WindowsPath('C:/BLCA-1_Analysis/cores/Core_046.zarr'),\n",
       " WindowsPath('C:/BLCA-1_Analysis/cores/Core_047.zarr'),\n",
       " WindowsPath('C:/BLCA-1_Analysis/cores/Core_048.zarr'),\n",
       " WindowsPath('C:/BLCA-1_Analysis/cores/Core_049.zarr'),\n",
       " WindowsPath('C:/BLCA-1_Analysis/cores/Core_050.zarr'),\n",
       " WindowsPath('C:/BLCA-1_Analysis/cores/Core_051.zarr'),\n",
       " WindowsPath('C:/BLCA-1_Analysis/cores/Core_052.zarr'),\n",
       " WindowsPath('C:/BLCA-1_Analysis/cores/Core_053.zarr')]"
      ]
     },
     "execution_count": 5,
     "metadata": {},
     "output_type": "execute_result"
    }
   ],
   "source": [
    "core_dir = Path(settings['analysis_dir']) / 'cores'\n",
    "path_list = [core_dir / f for f in os.listdir(core_dir)]\n",
    "path_list.sort()\n",
    "path_list"
   ]
  },
  {
   "cell_type": "markdown",
   "id": "c36f3714",
   "metadata": {},
   "source": [
    "### Setup"
   ]
  },
  {
   "cell_type": "code",
   "execution_count": 6,
   "id": "7afe3c5e",
   "metadata": {},
   "outputs": [
    {
     "name": "stdout",
     "output_type": "stream",
     "text": [
      "Segmentation input: ['DAPI', 'HLA1', 'CD44', 'NaKATPase', 'CD11C', 'CD45', 'pCK26', 'pS6', 'HES1']\n",
      "Model fluorescence_nuclei_and_cells version 0.1.0 already downloaded in c:\\Users\\KMK280\\AppData\\Local\\miniconda3\\envs\\sdata-env\\Lib\\site-packages\\instanseg\\utils\\../bioimageio_models/, loading\n",
      "Requesting default device: cuda\n",
      "2025-09-24 12:11:16.496 | INFO     | multiplex_pipeline.core_segmentation.controller:__init__:31 - Initialized SegmentationController with segmenter=<multiplex_pipeline.core_segmentation.segmenters.InstansegSegmenter object at 0x000001FD957FF110>, resolution_level=0, pyramid_levels=3, downscale=2, cleaner=<multiplex_pipeline.core_segmentation.cleaners.BlobCleaner object at 0x000001FD95C40A50> and overwrite_mask=True\n"
     ]
    }
   ],
   "source": [
    "# create requested elements\n",
    "channels = settings['segmentation']['input']\n",
    "print(f'Segmentation input: {channels}')\n",
    "\n",
    "# define pre-processor\n",
    "preseg_processor = PreSegmentationProcessor(normalize = settings['segmentation']['preprocessing']['normalize'],\n",
    "                                            denoise = settings['segmentation']['preprocessing']['denoise'],\n",
    "                                            mix = settings['segmentation']['preprocessing']['mix']\n",
    "                                            )\n",
    "\n",
    "# define segmenter\n",
    "if settings['segmentation']['package'] == 'instaseg':\n",
    "    model = settings['segmentation']['model']\n",
    "    segmenter = InstansegSegmenter(model_type = model, **settings['segmentation']['kwargs'])\n",
    "else:\n",
    "    raise ValueError(f\"Segmentation package {settings['segmentation']['package']} to be implemented.\")\n",
    "\n",
    "# define cleaner\n",
    "cleaner_name = settings['segmentation']['cleaner']\n",
    "cleaner_class = getattr(cleaners, cleaner_name)\n",
    "cleaner = cleaner_class()\n",
    "\n",
    "# define controller\n",
    "segmentation_controller = SegmentationController(segmenter, cleaner = cleaner, resolution_level = 0, overwrite_mask = True)\n",
    "\n",
    "# channels used for segmentation\n",
    "input_channels = [f'{ch}_preseg' for ch in channels]"
   ]
  },
  {
   "cell_type": "code",
   "execution_count": 12,
   "id": "2e4e3c04",
   "metadata": {},
   "outputs": [],
   "source": [
    "torch.cuda.empty_cache()"
   ]
  },
  {
   "cell_type": "markdown",
   "id": "129b88d8",
   "metadata": {},
   "source": [
    "### Segmentation"
   ]
  },
  {
   "cell_type": "code",
   "execution_count": null,
   "id": "e2176a9b",
   "metadata": {},
   "outputs": [
    {
     "name": "stderr",
     "output_type": "stream",
     "text": [
      "version mismatch: detected: RasterFormatV02, requested: FormatV04\n",
      "c:\\Users\\KMK280\\AppData\\Local\\miniconda3\\envs\\sdata-env\\Lib\\site-packages\\zarr\\creation.py:610: UserWarning: ignoring keyword argument 'read_only'\n",
      "  compressor, fill_value = _kwargs_compat(compressor, fill_value, kwargs)\n",
      "version mismatch: detected: RasterFormatV02, requested: FormatV04\n",
      "version mismatch: detected: RasterFormatV02, requested: FormatV04\n"
     ]
    },
    {
     "name": "stdout",
     "output_type": "stream",
     "text": [
      "Processing Core_053.zarr\n"
     ]
    },
    {
     "name": "stderr",
     "output_type": "stream",
     "text": [
      "version mismatch: detected: RasterFormatV02, requested: FormatV04\n",
      "version mismatch: detected: RasterFormatV02, requested: FormatV04\n",
      "version mismatch: detected: RasterFormatV02, requested: FormatV04\n",
      "version mismatch: detected: RasterFormatV02, requested: FormatV04\n",
      "version mismatch: detected: RasterFormatV02, requested: FormatV04\n",
      "version mismatch: detected: RasterFormatV02, requested: FormatV04\n",
      "version mismatch: detected: RasterFormatV02, requested: FormatV04\n",
      "version mismatch: detected: RasterFormatV02, requested: FormatV04\n",
      "version mismatch: detected: RasterFormatV02, requested: FormatV04\n",
      "version mismatch: detected: RasterFormatV02, requested: FormatV04\n",
      "version mismatch: detected: RasterFormatV02, requested: FormatV04\n",
      "version mismatch: detected: RasterFormatV02, requested: FormatV04\n",
      "version mismatch: detected: RasterFormatV02, requested: FormatV04\n",
      "version mismatch: detected: RasterFormatV02, requested: FormatV04\n",
      "version mismatch: detected: RasterFormatV02, requested: FormatV04\n",
      "version mismatch: detected: RasterFormatV02, requested: FormatV04\n",
      "version mismatch: detected: RasterFormatV02, requested: FormatV04\n",
      "version mismatch: detected: RasterFormatV02, requested: FormatV04\n",
      "version mismatch: detected: RasterFormatV02, requested: FormatV04\n",
      "version mismatch: detected: RasterFormatV02, requested: FormatV04\n",
      "version mismatch: detected: RasterFormatV02, requested: FormatV04\n",
      "version mismatch: detected: RasterFormatV02, requested: FormatV04\n",
      "version mismatch: detected: RasterFormatV02, requested: FormatV04\n",
      "version mismatch: detected: RasterFormatV02, requested: FormatV04\n",
      "version mismatch: detected: RasterFormatV02, requested: FormatV04\n",
      "version mismatch: detected: RasterFormatV02, requested: FormatV04\n",
      "version mismatch: detected: RasterFormatV02, requested: FormatV04\n",
      "version mismatch: detected: RasterFormatV02, requested: FormatV04\n",
      "version mismatch: detected: RasterFormatV02, requested: FormatV04\n",
      "version mismatch: detected: RasterFormatV02, requested: FormatV04\n",
      "version mismatch: detected: RasterFormatV02, requested: FormatV04\n",
      "version mismatch: detected: RasterFormatV02, requested: FormatV04\n",
      "version mismatch: detected: RasterFormatV02, requested: FormatV04\n",
      "version mismatch: detected: RasterFormatV02, requested: FormatV04\n",
      "version mismatch: detected: RasterFormatV02, requested: FormatV04\n",
      "version mismatch: detected: RasterFormatV02, requested: FormatV04\n",
      "version mismatch: detected: RasterFormatV02, requested: FormatV04\n",
      "version mismatch: detected: RasterFormatV02, requested: FormatV04\n",
      "version mismatch: detected: RasterFormatV02, requested: FormatV04\n",
      "version mismatch: detected: RasterFormatV02, requested: FormatV04\n",
      "version mismatch: detected: RasterFormatV02, requested: FormatV04\n",
      "version mismatch: detected: RasterFormatV02, requested: FormatV04\n",
      "version mismatch: detected: RasterFormatV02, requested: FormatV04\n",
      "version mismatch: detected: RasterFormatV02, requested: FormatV04\n",
      "version mismatch: detected: RasterFormatV02, requested: FormatV04\n",
      "version mismatch: detected: RasterFormatV02, requested: FormatV04\n",
      "version mismatch: detected: RasterFormatV02, requested: FormatV04\n",
      "version mismatch: detected: RasterFormatV02, requested: FormatV04\n",
      "version mismatch: detected: RasterFormatV02, requested: FormatV04\n",
      "version mismatch: detected: RasterFormatV02, requested: FormatV04\n",
      "version mismatch: detected: RasterFormatV02, requested: FormatV04\n",
      "version mismatch: detected: RasterFormatV02, requested: FormatV04\n",
      "version mismatch: detected: RasterFormatV02, requested: FormatV04\n",
      "version mismatch: detected: RasterFormatV02, requested: FormatV04\n",
      "version mismatch: detected: RasterFormatV02, requested: FormatV04\n",
      "version mismatch: detected: RasterFormatV02, requested: FormatV04\n",
      "version mismatch: detected: RasterFormatV02, requested: FormatV04\n",
      "version mismatch: detected: RasterFormatV02, requested: FormatV04\n"
     ]
    },
    {
     "name": "stdout",
     "output_type": "stream",
     "text": [
      "2025-09-24 12:39:52.242 | INFO     | multiplex_pipeline.core_preprocessing.controller:run_normalize:81 - Applied normalization with percentiles [1, 99.5].\n",
      "2025-09-24 12:39:53.679 | INFO     | multiplex_pipeline.core_preprocessing.controller:run_normalize:81 - Applied normalization with percentiles [1, 99.5].\n",
      "2025-09-24 12:39:55.157 | INFO     | multiplex_pipeline.core_preprocessing.controller:run_normalize:81 - Applied normalization with percentiles [1, 99.5].\n",
      "2025-09-24 12:39:56.617 | INFO     | multiplex_pipeline.core_preprocessing.controller:run_normalize:81 - Applied normalization with percentiles [1, 99.5].\n",
      "2025-09-24 12:39:58.399 | INFO     | multiplex_pipeline.core_preprocessing.controller:run_normalize:81 - Applied normalization with percentiles [1, 99.5].\n",
      "2025-09-24 12:39:59.701 | INFO     | multiplex_pipeline.core_preprocessing.controller:run_normalize:81 - Applied normalization with percentiles [1, 99.5].\n",
      "2025-09-24 12:40:01.256 | INFO     | multiplex_pipeline.core_preprocessing.controller:run_normalize:81 - Applied normalization with percentiles [1, 99.5].\n",
      "2025-09-24 12:40:02.682 | INFO     | multiplex_pipeline.core_preprocessing.controller:run_normalize:81 - Applied normalization with percentiles [1, 99.5].\n",
      "2025-09-24 12:40:04.065 | INFO     | multiplex_pipeline.core_preprocessing.controller:run_normalize:81 - Applied normalization with percentiles [1, 99.5].\n",
      "2025-09-24 12:40:04.589 | INFO     | multiplex_pipeline.core_segmentation.controller:run:49 - All requested channels are present.\n",
      "2025-09-24 12:40:04.590 | INFO     | multiplex_pipeline.core_segmentation.controller:run:57 - All channels have required resolution level: 0\n",
      "2025-09-24 12:40:11.800 | INFO     | multiplex_pipeline.core_segmentation.controller:run:63 - Running segmentation on 9 images at resolution level 0.\n",
      "alloc=0.93 GB | reserved=35.69 GB\n",
      "alloc=0.93 GB | reserved=0.93 GB\n",
      "2025-09-24 12:43:18.730 | INFO     | multiplex_pipeline.core_segmentation.controller:run:72 - Cleaning masks using the provided cleaner.\n",
      "2025-09-24 12:43:37.584 | SUCCESS  | multiplex_pipeline.core_segmentation.controller:run:120 - Segmentation complete. Mask 'instanseg_nucleus' written to C:\\BLCA-1_Analysis\\cores\\Core_053.zarr\n",
      "2025-09-24 12:43:41.630 | SUCCESS  | multiplex_pipeline.core_segmentation.controller:run:120 - Segmentation complete. Mask 'instanseg_cell' written to C:\\BLCA-1_Analysis\\cores\\Core_053.zarr\n"
     ]
    }
   ],
   "source": [
    "for sd_path in path_list[52:53]:\n",
    "\n",
    "    print(f\"Processing {sd_path.name}\")\n",
    "\n",
    "    # get sdata\n",
    "    sdata = sd.read_zarr(sd_path)\n",
    "\n",
    "    # run preprocessing\n",
    "    sdata = preseg_processor.run(sdata, channels = channels)\n",
    "\n",
    "    # run segmentation\n",
    "    segmentation_controller.run(sdata, channels = input_channels, mask_name = settings['segmentation']['output_name'])\n",
    "\n"
   ]
  },
  {
   "cell_type": "markdown",
   "id": "11be39f1",
   "metadata": {},
   "source": [
    "### Sneak peak"
   ]
  },
  {
   "cell_type": "code",
   "execution_count": 15,
   "id": "ea43a55f",
   "metadata": {},
   "outputs": [
    {
     "name": "stderr",
     "output_type": "stream",
     "text": [
      "version mismatch: detected: RasterFormatV02, requested: FormatV04\n",
      "c:\\Users\\KMK280\\AppData\\Local\\miniconda3\\envs\\sdata-env\\Lib\\site-packages\\zarr\\creation.py:610: UserWarning: ignoring keyword argument 'read_only'\n",
      "  compressor, fill_value = _kwargs_compat(compressor, fill_value, kwargs)\n",
      "version mismatch: detected: RasterFormatV02, requested: FormatV04\n",
      "version mismatch: detected: RasterFormatV02, requested: FormatV04\n",
      "version mismatch: detected: RasterFormatV02, requested: FormatV04\n",
      "version mismatch: detected: RasterFormatV02, requested: FormatV04\n",
      "version mismatch: detected: RasterFormatV02, requested: FormatV04\n",
      "version mismatch: detected: RasterFormatV02, requested: FormatV04\n",
      "version mismatch: detected: RasterFormatV02, requested: FormatV04\n",
      "version mismatch: detected: RasterFormatV02, requested: FormatV04\n",
      "version mismatch: detected: RasterFormatV02, requested: FormatV04\n",
      "version mismatch: detected: RasterFormatV02, requested: FormatV04\n",
      "version mismatch: detected: RasterFormatV02, requested: FormatV04\n",
      "version mismatch: detected: RasterFormatV02, requested: FormatV04\n",
      "version mismatch: detected: RasterFormatV02, requested: FormatV04\n",
      "version mismatch: detected: RasterFormatV02, requested: FormatV04\n",
      "version mismatch: detected: RasterFormatV02, requested: FormatV04\n",
      "version mismatch: detected: RasterFormatV02, requested: FormatV04\n",
      "version mismatch: detected: RasterFormatV02, requested: FormatV04\n",
      "version mismatch: detected: RasterFormatV02, requested: FormatV04\n",
      "version mismatch: detected: RasterFormatV02, requested: FormatV04\n",
      "version mismatch: detected: RasterFormatV02, requested: FormatV04\n",
      "version mismatch: detected: RasterFormatV02, requested: FormatV04\n",
      "version mismatch: detected: RasterFormatV02, requested: FormatV04\n",
      "version mismatch: detected: RasterFormatV02, requested: FormatV04\n",
      "version mismatch: detected: RasterFormatV02, requested: FormatV04\n",
      "version mismatch: detected: RasterFormatV02, requested: FormatV04\n",
      "version mismatch: detected: RasterFormatV02, requested: FormatV04\n",
      "version mismatch: detected: RasterFormatV02, requested: FormatV04\n",
      "version mismatch: detected: RasterFormatV02, requested: FormatV04\n",
      "version mismatch: detected: RasterFormatV02, requested: FormatV04\n",
      "version mismatch: detected: RasterFormatV02, requested: FormatV04\n",
      "version mismatch: detected: RasterFormatV02, requested: FormatV04\n",
      "version mismatch: detected: RasterFormatV02, requested: FormatV04\n",
      "version mismatch: detected: RasterFormatV02, requested: FormatV04\n",
      "version mismatch: detected: RasterFormatV02, requested: FormatV04\n",
      "version mismatch: detected: RasterFormatV02, requested: FormatV04\n",
      "version mismatch: detected: RasterFormatV02, requested: FormatV04\n",
      "version mismatch: detected: RasterFormatV02, requested: FormatV04\n",
      "version mismatch: detected: RasterFormatV02, requested: FormatV04\n",
      "version mismatch: detected: RasterFormatV02, requested: FormatV04\n",
      "version mismatch: detected: RasterFormatV02, requested: FormatV04\n",
      "version mismatch: detected: RasterFormatV02, requested: FormatV04\n",
      "version mismatch: detected: RasterFormatV02, requested: FormatV04\n",
      "version mismatch: detected: RasterFormatV02, requested: FormatV04\n",
      "version mismatch: detected: RasterFormatV02, requested: FormatV04\n",
      "version mismatch: detected: RasterFormatV02, requested: FormatV04\n",
      "version mismatch: detected: RasterFormatV02, requested: FormatV04\n",
      "version mismatch: detected: RasterFormatV02, requested: FormatV04\n",
      "version mismatch: detected: RasterFormatV02, requested: FormatV04\n",
      "version mismatch: detected: RasterFormatV02, requested: FormatV04\n",
      "version mismatch: detected: RasterFormatV02, requested: FormatV04\n",
      "version mismatch: detected: RasterFormatV02, requested: FormatV04\n",
      "version mismatch: detected: RasterFormatV02, requested: FormatV04\n",
      "version mismatch: detected: RasterFormatV02, requested: FormatV04\n",
      "version mismatch: detected: RasterFormatV02, requested: FormatV04\n",
      "version mismatch: detected: RasterFormatV02, requested: FormatV04\n",
      "version mismatch: detected: RasterFormatV02, requested: FormatV04\n",
      "version mismatch: detected: RasterFormatV02, requested: FormatV04\n",
      "version mismatch: detected: RasterFormatV02, requested: FormatV04\n",
      "version mismatch: detected: RasterFormatV02, requested: FormatV04\n",
      "version mismatch: detected: RasterFormatV02, requested: FormatV04\n"
     ]
    },
    {
     "data": {
      "text/plain": [
       "SpatialData object, with associated Zarr store: C:\\BLCA-1_Analysis\\cores\\Core_004.zarr\n",
       "├── Images\n",
       "│     ├── '53BP1': DataTree[cyx] (1, 7040, 7232), (1, 3520, 3616)\n",
       "│     ├── 'CD3': DataTree[cyx] (1, 7040, 7232), (1, 3520, 3616)\n",
       "│     ├── 'CD8a': DataTree[cyx] (1, 7040, 7232), (1, 3520, 3616)\n",
       "│     ├── 'CD11C': DataTree[cyx] (1, 7040, 7232), (1, 3520, 3616)\n",
       "│     ├── 'CD11b': DataTree[cyx] (1, 7040, 7232), (1, 3520, 3616)\n",
       "│     ├── 'CD20': DataTree[cyx] (1, 7040, 7232), (1, 3520, 3616)\n",
       "│     ├── 'CD31': DataTree[cyx] (1, 7040, 7232), (1, 3520, 3616)\n",
       "│     ├── 'CD44': DataTree[cyx] (1, 7040, 7232), (1, 3520, 3616)\n",
       "│     ├── 'CD45': DataTree[cyx] (1, 7040, 7232), (1, 3520, 3616)\n",
       "│     ├── 'CD45RO': DataTree[cyx] (1, 7040, 7232), (1, 3520, 3616)\n",
       "│     ├── 'CD68': DataTree[cyx] (1, 7040, 7232), (1, 3520, 3616)\n",
       "│     ├── 'CD127': DataTree[cyx] (1, 7040, 7232), (1, 3520, 3616)\n",
       "│     ├── 'CD163': DataTree[cyx] (1, 7040, 7232), (1, 3520, 3616)\n",
       "│     ├── 'CDC6': DataTree[cyx] (1, 7040, 7232), (1, 3520, 3616)\n",
       "│     ├── 'CDK2': DataTree[cyx] (1, 7040, 7232), (1, 3520, 3616)\n",
       "│     ├── 'CDK4': DataTree[cyx] (1, 7040, 7232), (1, 3520, 3616)\n",
       "│     ├── 'CDK6': DataTree[cyx] (1, 7040, 7232), (1, 3520, 3616)\n",
       "│     ├── 'CDT1': DataTree[cyx] (1, 7040, 7232), (1, 3520, 3616)\n",
       "│     ├── 'Coll3': DataTree[cyx] (1, 7040, 7232), (1, 3520, 3616)\n",
       "│     ├── 'CycB1': DataTree[cyx] (1, 7040, 7232), (1, 3520, 3616)\n",
       "│     ├── 'DAPI': DataTree[cyx] (1, 7040, 7232), (1, 3520, 3616)\n",
       "│     ├── 'ECad': DataTree[cyx] (1, 7040, 7232), (1, 3520, 3616)\n",
       "│     ├── 'FOXP3': DataTree[cyx] (1, 7040, 7232), (1, 3520, 3616)\n",
       "│     ├── 'Fibro': DataTree[cyx] (1, 7040, 7232), (1, 3520, 3616)\n",
       "│     ├── 'GranzymeB': DataTree[cyx] (1, 7040, 7232), (1, 3520, 3616)\n",
       "│     ├── 'HES1': DataTree[cyx] (1, 7040, 7232), (1, 3520, 3616)\n",
       "│     ├── 'HIF1a': DataTree[cyx] (1, 7040, 7232), (1, 3520, 3616)\n",
       "│     ├── 'HLA1': DataTree[cyx] (1, 7040, 7232), (1, 3520, 3616)\n",
       "│     ├── 'HLADR': DataTree[cyx] (1, 7040, 7232), (1, 3520, 3616)\n",
       "│     ├── 'IL6': DataTree[cyx] (1, 7040, 7232), (1, 3520, 3616)\n",
       "│     ├── 'Ki67': DataTree[cyx] (1, 7040, 7232), (1, 3520, 3616)\n",
       "│     ├── 'LaminB1': DataTree[cyx] (1, 7040, 7232), (1, 3520, 3616)\n",
       "│     ├── 'NaKATPase': DataTree[cyx] (1, 7040, 7232), (1, 3520, 3616)\n",
       "│     ├── 'PCNA': DataTree[cyx] (1, 7040, 7232), (1, 3520, 3616)\n",
       "│     ├── 'PD-1': DataTree[cyx] (1, 7040, 7232), (1, 3520, 3616)\n",
       "│     ├── 'PML': DataTree[cyx] (1, 7040, 7232), (1, 3520, 3616)\n",
       "│     ├── 'RB': DataTree[cyx] (1, 7040, 7232), (1, 3520, 3616)\n",
       "│     ├── 'SMA': DataTree[cyx] (1, 7040, 7232), (1, 3520, 3616)\n",
       "│     ├── 'TGFb1': DataTree[cyx] (1, 7040, 7232), (1, 3520, 3616)\n",
       "│     ├── 'VIM': DataTree[cyx] (1, 7040, 7232), (1, 3520, 3616)\n",
       "│     ├── 'YAP1': DataTree[cyx] (1, 7040, 7232), (1, 3520, 3616)\n",
       "│     ├── 'bCat': DataTree[cyx] (1, 7040, 7232), (1, 3520, 3616)\n",
       "│     ├── 'cMYC': DataTree[cyx] (1, 7040, 7232), (1, 3520, 3616)\n",
       "│     ├── 'cycA1': DataTree[cyx] (1, 7040, 7232), (1, 3520, 3616)\n",
       "│     ├── 'cycA2': DataTree[cyx] (1, 7040, 7232), (1, 3520, 3616)\n",
       "│     ├── 'cycD1': DataTree[cyx] (1, 7040, 7232), (1, 3520, 3616)\n",
       "│     ├── 'cycE1': DataTree[cyx] (1, 7040, 7232), (1, 3520, 3616)\n",
       "│     ├── 'cycE2': DataTree[cyx] (1, 7040, 7232), (1, 3520, 3616)\n",
       "│     ├── 'p16': DataTree[cyx] (1, 7040, 7232), (1, 3520, 3616)\n",
       "│     ├── 'p21': DataTree[cyx] (1, 7040, 7232), (1, 3520, 3616)\n",
       "│     ├── 'p27': DataTree[cyx] (1, 7040, 7232), (1, 3520, 3616)\n",
       "│     ├── 'p38': DataTree[cyx] (1, 7040, 7232), (1, 3520, 3616)\n",
       "│     ├── 'p53': DataTree[cyx] (1, 7040, 7232), (1, 3520, 3616)\n",
       "│     ├── 'pAKT': DataTree[cyx] (1, 7040, 7232), (1, 3520, 3616)\n",
       "│     ├── 'pATR': DataTree[cyx] (1, 7040, 7232), (1, 3520, 3616)\n",
       "│     ├── 'pCK26': DataTree[cyx] (1, 7040, 7232), (1, 3520, 3616)\n",
       "│     ├── 'pERK': DataTree[cyx] (1, 7040, 7232), (1, 3520, 3616)\n",
       "│     ├── 'pH2AX': DataTree[cyx] (1, 7040, 7232), (1, 3520, 3616)\n",
       "│     ├── 'pRB': DataTree[cyx] (1, 7040, 7232), (1, 3520, 3616)\n",
       "│     ├── 'pS6': DataTree[cyx] (1, 7040, 7232), (1, 3520, 3616)\n",
       "│     └── 'wee1': DataTree[cyx] (1, 7040, 7232), (1, 3520, 3616)\n",
       "└── Labels\n",
       "      ├── 'instanseg_cell': DataTree[yx] (7040, 7232), (3520, 3616), (1760, 1808)\n",
       "      └── 'instanseg_nucleus': DataTree[yx] (7040, 7232), (3520, 3616), (1760, 1808)\n",
       "with coordinate systems:\n",
       "    ▸ 'global', with elements:\n",
       "        53BP1 (Images), CD3 (Images), CD8a (Images), CD11C (Images), CD11b (Images), CD20 (Images), CD31 (Images), CD44 (Images), CD45 (Images), CD45RO (Images), CD68 (Images), CD127 (Images), CD163 (Images), CDC6 (Images), CDK2 (Images), CDK4 (Images), CDK6 (Images), CDT1 (Images), Coll3 (Images), CycB1 (Images), DAPI (Images), ECad (Images), FOXP3 (Images), Fibro (Images), GranzymeB (Images), HES1 (Images), HIF1a (Images), HLA1 (Images), HLADR (Images), IL6 (Images), Ki67 (Images), LaminB1 (Images), NaKATPase (Images), PCNA (Images), PD-1 (Images), PML (Images), RB (Images), SMA (Images), TGFb1 (Images), VIM (Images), YAP1 (Images), bCat (Images), cMYC (Images), cycA1 (Images), cycA2 (Images), cycD1 (Images), cycE1 (Images), cycE2 (Images), p16 (Images), p21 (Images), p27 (Images), p38 (Images), p53 (Images), pAKT (Images), pATR (Images), pCK26 (Images), pERK (Images), pH2AX (Images), pRB (Images), pS6 (Images), wee1 (Images), instanseg_cell (Labels), instanseg_nucleus (Labels)"
      ]
     },
     "execution_count": 15,
     "metadata": {},
     "output_type": "execute_result"
    }
   ],
   "source": [
    "# refresh the object\n",
    "sdata_org = sd.read_zarr(path_list[4])\n",
    "sdata_org"
   ]
  },
  {
   "cell_type": "code",
   "execution_count": 16,
   "id": "1d2f4b17",
   "metadata": {},
   "outputs": [
    {
     "data": {
      "text/plain": [
       "<napari_spatialdata._interactive.Interactive at 0x1b54da16750>"
      ]
     },
     "execution_count": 16,
     "metadata": {},
     "output_type": "execute_result"
    },
    {
     "name": "stderr",
     "output_type": "stream",
     "text": [
      "c:\\Users\\KMK280\\AppData\\Local\\miniconda3\\envs\\sdata-env\\Lib\\site-packages\\anndata\\_core\\aligned_df.py:68: ImplicitModificationWarning: Transforming to str index.\n",
      "  warnings.warn(\"Transforming to str index.\", ImplicitModificationWarning)\n"
     ]
    },
    {
     "name": "stdout",
     "output_type": "stream",
     "text": [
      "2025-09-24 10:38:40.208 | DEBUG    | napari_spatialdata._view:_on_layer_update:569 - Updating layer.\n",
      "2025-09-24 10:38:40.208 | DEBUG    | napari_spatialdata._view:_on_layer_update:569 - Updating layer.\n",
      "2025-09-24 10:38:50.523 | DEBUG    | napari_spatialdata._view:_on_layer_update:569 - Updating layer.\n",
      "2025-09-24 10:38:50.531 | DEBUG    | napari_spatialdata._view:_on_layer_update:569 - Updating layer.\n",
      "2025-09-24 10:39:07.940 | DEBUG    | napari_spatialdata._view:_on_layer_update:569 - Updating layer.\n",
      "2025-09-24 10:39:07.948 | DEBUG    | napari_spatialdata._view:_on_layer_update:569 - Updating layer.\n"
     ]
    }
   ],
   "source": [
    "Interactive(sdata_org)"
   ]
  },
  {
   "cell_type": "code",
   "execution_count": null,
   "id": "67848494",
   "metadata": {},
   "outputs": [],
   "source": []
  }
 ],
 "metadata": {
  "kernelspec": {
   "display_name": "sdata-env",
   "language": "python",
   "name": "python3"
  },
  "language_info": {
   "codemirror_mode": {
    "name": "ipython",
    "version": 3
   },
   "file_extension": ".py",
   "mimetype": "text/x-python",
   "name": "python",
   "nbconvert_exporter": "python",
   "pygments_lexer": "ipython3",
   "version": "3.11.13"
  }
 },
 "nbformat": 4,
 "nbformat_minor": 5
}
