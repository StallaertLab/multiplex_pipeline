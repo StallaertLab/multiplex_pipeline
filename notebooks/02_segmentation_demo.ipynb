{
 "cells": [
  {
   "cell_type": "code",
   "execution_count": 1,
   "id": "9b3831b0",
   "metadata": {},
   "outputs": [
    {
     "name": "stderr",
     "output_type": "stream",
     "text": [
      "c:\\Users\\KMK280\\AppData\\Local\\miniconda3\\envs\\sdata-env\\Lib\\site-packages\\dask\\dataframe\\__init__.py:31: FutureWarning: The legacy Dask DataFrame implementation is deprecated and will be removed in a future version. Set the configuration option `dataframe.query-planning` to `True` or None to enable the new Dask Dataframe implementation and silence this warning.\n",
      "  warnings.warn(\n",
      "c:\\Users\\KMK280\\AppData\\Local\\miniconda3\\envs\\sdata-env\\Lib\\site-packages\\xarray_schema\\__init__.py:1: UserWarning: pkg_resources is deprecated as an API. See https://setuptools.pypa.io/en/latest/pkg_resources.html. The pkg_resources package is slated for removal as early as 2025-11-30. Refrain from using this package or pin to Setuptools<81.\n",
      "  from pkg_resources import DistributionNotFound, get_distribution\n"
     ]
    }
   ],
   "source": [
    "%load_ext autoreload\n",
    "%autoreload 2\n",
    "\n",
    "import os\n",
    "from datetime import datetime\n",
    "from loguru import logger\n",
    "from pathlib import Path\n",
    "import numpy as np\n",
    "import spatialdata as sd\n",
    "from napari_spatialdata import Interactive\n",
    "\n",
    "from multiplex_pipeline.utils.config_loaders import load_analysis_settings\n",
    "from multiplex_pipeline.processors import build_processor\n",
    "from multiplex_pipeline.processors.controller import ResourceBuildingController"
   ]
  },
  {
   "cell_type": "markdown",
   "id": "29f71fee",
   "metadata": {},
   "source": [
    "### Load analysis settings"
   ]
  },
  {
   "cell_type": "code",
   "execution_count": 2,
   "id": "2346b63f",
   "metadata": {},
   "outputs": [
    {
     "data": {
      "text/plain": [
       "{'image_dir': 'R:/CellDive/BLCA-2/BLCA-2_Final',\n",
       " 'analysis_name': 'BLCA-2_Analysis_todel',\n",
       " 'local_analysis_dir': 'C:/',\n",
       " 'remote_analysis_dir': '/ix1/kkedziora/blca_analysis',\n",
       " 'log_dir': WindowsPath('C:/BLCA-2_Analysis_todel/logs'),\n",
       " 'detection_image': 'BLCA-2_1.0.4_R000_DAPI__FINAL_F.ome.tif',\n",
       " 'core_info_file_path': WindowsPath('C:/BLCA-2_Analysis_todel/cores.csv'),\n",
       " 'cores_dir_tif': WindowsPath('C:/BLCA-2_Analysis_todel/temp'),\n",
       " 'cores_dir_output': WindowsPath('C:/BLCA-2_Analysis_todel/cores'),\n",
       " 'include_channels': None,\n",
       " 'exclude_channels': ['008_ECad'],\n",
       " 'use_markers': 'DAPI',\n",
       " 'ignore_markers': ['Antibody1',\n",
       "  'TNFa',\n",
       "  'Snail1',\n",
       "  'SKP2',\n",
       "  'ProgRc',\n",
       "  'Plk1',\n",
       "  'PH3',\n",
       "  'PDL1',\n",
       "  'p65',\n",
       "  'p130',\n",
       "  'p-p130',\n",
       "  'p-Cdc6',\n",
       "  'LAG3',\n",
       "  'IL-8',\n",
       "  'HER2',\n",
       "  'ERa',\n",
       "  'EpCAM',\n",
       "  'E2F1',\n",
       "  'cycD3',\n",
       "  'cycB2',\n",
       "  'CDC25C',\n",
       "  'CD86',\n",
       "  'CD73',\n",
       "  'CD69',\n",
       "  'CD62L',\n",
       "  'CD56',\n",
       "  'CD4',\n",
       "  'CD25',\n",
       "  'CD19',\n",
       "  'CD27',\n",
       "  'CCR7',\n",
       "  'cCASP3'],\n",
       " 'additional_elements': [{'category': 'image_transformer',\n",
       "   'type': 'normalize',\n",
       "   'input': 'DAPI',\n",
       "   'output': 'DAPI_norm',\n",
       "   'parameters': {'low': 1, 'high': 99.5},\n",
       "   'keep': False},\n",
       "  {'category': 'object_segmenter',\n",
       "   'type': 'instanseg',\n",
       "   'parameters': {'model': 'fluorescence_nuclei_and_cells',\n",
       "    'pixel_size': 0.3,\n",
       "    'resolve_cell_and_nucleus': True,\n",
       "    'cleanup_fragments': True},\n",
       "   'input': ['DAPI_norm'],\n",
       "   'output': ['instanseg_nucleus_org', 'instanseg_cell_org']},\n",
       "  {'category': 'mask_builder',\n",
       "   'type': 'blob',\n",
       "   'input': 'instanseg_nucleus_org',\n",
       "   'output': 'blob',\n",
       "   'keep': True},\n",
       "  {'category': 'mask_builder',\n",
       "   'type': 'multiply',\n",
       "   'input': ['instanseg_nucleus_org', 'blob'],\n",
       "   'output': 'instanseg_nucleus',\n",
       "   'keep': True},\n",
       "  {'category': 'mask_builder',\n",
       "   'type': 'multiply',\n",
       "   'input': ['instanseg_cell_org', 'blob'],\n",
       "   'output': 'instanseg_cell',\n",
       "   'keep': True},\n",
       "  {'category': 'mask_builder',\n",
       "   'type': 'ring',\n",
       "   'input': ['instanseg_nucleus'],\n",
       "   'output': 'ring',\n",
       "   'parameters': {'outer': 8, 'inner': 2},\n",
       "   'keep': True},\n",
       "  {'category': 'mask_builder',\n",
       "   'type': 'subtract',\n",
       "   'input': ['instanseg_cell', 'instanseg_nucleus'],\n",
       "   'output': 'cytoplasm',\n",
       "   'keep': True}],\n",
       " 'quant': [{'name': 'instanseg_table',\n",
       "   'masks': {'nucleus': 'instanseg_nucleus',\n",
       "    'cell': 'instanseg_cell',\n",
       "    'ring': 'ring',\n",
       "    'cyto': 'cytoplasm'},\n",
       "   'layer_connection': 'instanseg_cell'}],\n",
       " 'sdata_storage': {'chunk_size': [1, 512, 512],\n",
       "  'max_pyramid_level': 3,\n",
       "  'downscale': 2},\n",
       " 'core_detection': {'im_level': 6,\n",
       "  'min_area': 2000,\n",
       "  'max_area': 10000,\n",
       "  'min_iou': 0.8,\n",
       "  'min_st': 0.9,\n",
       "  'min_int': 15,\n",
       "  'frame': 4},\n",
       " 'core_cutting': {'margin': 0,\n",
       "  'mask_value': 0,\n",
       "  'max_pyramid_level': 2,\n",
       "  'transfer_cleanup_enabled': True,\n",
       "  'core_cleanup_enabled': True},\n",
       " 'analysis_dir': WindowsPath('C:/BLCA-2_Analysis_todel'),\n",
       " 'temp_dir': WindowsPath('C:/BLCA-2_Analysis_todel/temp')}"
      ]
     },
     "execution_count": 2,
     "metadata": {},
     "output_type": "execute_result"
    }
   ],
   "source": [
    "# load analysis configuration\n",
    "settings_path = r'C:\\BLCA-2_Analysis_todel\\analysis_settings_BLCA2_todel.yaml'\n",
    "\n",
    "overwrite_mask = True\n",
    "\n",
    "settings = load_analysis_settings(settings_path)\n",
    "settings"
   ]
  },
  {
   "cell_type": "markdown",
   "id": "e30eb2e5",
   "metadata": {},
   "source": [
    "### Define the logger"
   ]
  },
  {
   "cell_type": "code",
   "execution_count": 3,
   "id": "01333eee",
   "metadata": {},
   "outputs": [
    {
     "data": {
      "text/plain": [
       "2"
      ]
     },
     "execution_count": 3,
     "metadata": {},
     "output_type": "execute_result"
    }
   ],
   "source": [
    "log_file = settings['log_dir'] / f\"cores_segmentation_{datetime.now():%Y-%m-%d_%H-%M-%S}.log\"\n",
    "\n",
    "logger.remove()\n",
    "logger.add(lambda msg: print(msg, end=\"\"))\n",
    "logger.add(log_file, level=\"DEBUG\", enqueue=True)"
   ]
  },
  {
   "cell_type": "markdown",
   "id": "ecbb0071",
   "metadata": {},
   "source": [
    "### Define cores for the analysis"
   ]
  },
  {
   "cell_type": "code",
   "execution_count": 4,
   "id": "a331dd5f",
   "metadata": {},
   "outputs": [
    {
     "data": {
      "text/plain": [
       "[WindowsPath('C:/BLCA-2_Analysis_todel/cores/Core_000.zarr')]"
      ]
     },
     "execution_count": 4,
     "metadata": {},
     "output_type": "execute_result"
    }
   ],
   "source": [
    "core_dir = Path(settings['analysis_dir']) / 'cores'\n",
    "path_list = [core_dir / f for f in os.listdir(core_dir)]\n",
    "path_list.sort()\n",
    "path_list"
   ]
  },
  {
   "cell_type": "markdown",
   "id": "c36f3714",
   "metadata": {},
   "source": [
    "### Setup"
   ]
  },
  {
   "cell_type": "code",
   "execution_count": 5,
   "id": "b430d525",
   "metadata": {},
   "outputs": [
    {
     "name": "stdout",
     "output_type": "stream",
     "text": [
      "{'category': 'image_transformer', 'type': 'normalize', 'input': 'DAPI', 'output': 'DAPI_norm', 'parameters': {'low': 1, 'high': 99.5}, 'keep': False}\n",
      "2025-10-14 16:09:51.819 | INFO     | __main__:<module>:28 - Image transformer of type 'normalize' for image 'DAPI' has been created.\n",
      "{'category': 'object_segmenter', 'type': 'instanseg', 'parameters': {'model': 'fluorescence_nuclei_and_cells', 'pixel_size': 0.3, 'resolve_cell_and_nucleus': True, 'cleanup_fragments': True}, 'input': ['DAPI_norm'], 'output': ['instanseg_nucleus_org', 'instanseg_cell_org']}\n",
      "Model fluorescence_nuclei_and_cells version 0.1.0 already downloaded in c:\\Users\\KMK280\\AppData\\Local\\miniconda3\\envs\\sdata-env\\Lib\\site-packages\\instanseg\\utils\\../bioimageio_models/, loading\n",
      "Requesting default device: cuda\n",
      "2025-10-14 16:09:52.620 | INFO     | __main__:<module>:28 - Image transformer of type 'instanseg' for image '['DAPI_norm']' has been created.\n",
      "{'category': 'mask_builder', 'type': 'blob', 'input': 'instanseg_nucleus_org', 'output': 'blob', 'keep': True}\n",
      "2025-10-14 16:09:52.620 | WARNING  | multiplex_pipeline.processors.mask_builders:validate_config:103 - %s: using defaults work_shape=%s, radius=%s.\n",
      "2025-10-14 16:09:52.620 | INFO     | __main__:<module>:28 - Image transformer of type 'blob' for image 'instanseg_nucleus_org' has been created.\n",
      "{'category': 'mask_builder', 'type': 'multiply', 'input': ['instanseg_nucleus_org', 'blob'], 'output': 'instanseg_nucleus', 'keep': True}\n",
      "2025-10-14 16:09:52.620 | INFO     | __main__:<module>:28 - Image transformer of type 'multiply' for image '['instanseg_nucleus_org', 'blob']' has been created.\n",
      "{'category': 'mask_builder', 'type': 'multiply', 'input': ['instanseg_cell_org', 'blob'], 'output': 'instanseg_cell', 'keep': True}\n",
      "2025-10-14 16:09:52.620 | INFO     | __main__:<module>:28 - Image transformer of type 'multiply' for image '['instanseg_cell_org', 'blob']' has been created.\n",
      "{'category': 'mask_builder', 'type': 'ring', 'input': ['instanseg_nucleus'], 'output': 'ring', 'parameters': {'outer': 8, 'inner': 2}, 'keep': True}\n",
      "2025-10-14 16:09:52.620 | INFO     | __main__:<module>:28 - Image transformer of type 'ring' for image '['instanseg_nucleus']' has been created.\n",
      "{'category': 'mask_builder', 'type': 'subtract', 'input': ['instanseg_cell', 'instanseg_nucleus'], 'output': 'cytoplasm', 'keep': True}\n",
      "2025-10-14 16:09:52.620 | INFO     | __main__:<module>:28 - Image transformer of type 'subtract' for image '['instanseg_cell', 'instanseg_nucleus']' has been created.\n"
     ]
    }
   ],
   "source": [
    "pyramid_levels = settings['sdata_storage']['max_pyramid_level']\n",
    "downscale = settings['sdata_storage']['downscale']\n",
    "chunk_size = settings['sdata_storage']['chunk_size']\n",
    "\n",
    "# setup builders of additional data elements\n",
    "\n",
    "if settings.get('additional_elements', None):\n",
    "    \n",
    "    builders_list = []\n",
    "\n",
    "    for builder_settings in settings['additional_elements']:\n",
    "        \n",
    "        params = builder_settings.get(\"parameters\") or {}\n",
    "        print(builder_settings)\n",
    "\n",
    "        builder = build_processor(builder_settings['category'], builder_settings['type'], **params) \n",
    "        \n",
    "        builder_controller = ResourceBuildingController(builder=builder, \n",
    "                                            input_names=builder_settings['input'], \n",
    "                                            output_names=builder_settings['output'], \n",
    "                                            keep=builder_settings.get('keep', False), \n",
    "                                            overwrite=True,\n",
    "                                            pyramid_levels=pyramid_levels,\n",
    "                                            downscale = downscale,\n",
    "                                            chunk_size = chunk_size,\n",
    "                                            )\n",
    "        \n",
    "        logger.info(f\"Image transformer of type '{builder_settings['type']}' for image '{builder_settings['input']}' has been created.\")\n",
    "\n",
    "        builders_list.append(builder_controller)\n",
    "\n",
    "else:\n",
    "    builders_list = []\n",
    "    logger.info(\"No resource builders specified.\")"
   ]
  },
  {
   "cell_type": "markdown",
   "id": "129b88d8",
   "metadata": {},
   "source": [
    "### Processing"
   ]
  },
  {
   "cell_type": "code",
   "execution_count": 23,
   "id": "e2176a9b",
   "metadata": {},
   "outputs": [
    {
     "name": "stderr",
     "output_type": "stream",
     "text": [
      "version mismatch: detected: RasterFormatV02, requested: FormatV04\n"
     ]
    },
    {
     "name": "stdout",
     "output_type": "stream",
     "text": [
      "Processing Core_000.zarr\n"
     ]
    },
    {
     "name": "stderr",
     "output_type": "stream",
     "text": [
      "c:\\Users\\KMK280\\AppData\\Local\\miniconda3\\envs\\sdata-env\\Lib\\site-packages\\zarr\\creation.py:610: UserWarning: ignoring keyword argument 'read_only'\n",
      "  compressor, fill_value = _kwargs_compat(compressor, fill_value, kwargs)\n"
     ]
    },
    {
     "name": "stdout",
     "output_type": "stream",
     "text": [
      "2025-10-14 16:26:54.372 | INFO     | multiplex_pipeline.processors.controller:validate_resolution_present:51 - All channels have required resolution level: 0\n",
      "2025-10-14 16:26:55.361 | INFO     | multiplex_pipeline.processors.image_transformers:run:73 - Applied normalization (percentiles 1.0–99.5) → [98.0, 3871.0]\n",
      "2025-10-14 16:26:55.364 | INFO     | multiplex_pipeline.processors.controller:run:136 - New element(s) '['DAPI_norm']' have been created.\n",
      "2025-10-14 16:26:55.534 | INFO     | multiplex_pipeline.processors.controller:validate_resolution_present:51 - All channels have required resolution level: 0\n"
     ]
    },
    {
     "name": "stderr",
     "output_type": "stream",
     "text": [
      "                                                 3.56it/s]\r"
     ]
    },
    {
     "name": "stdout",
     "output_type": "stream",
     "text": [
      "2025-10-14 16:27:13.787 | INFO     | multiplex_pipeline.processors.controller:run:136 - New element(s) '['instanseg_nucleus_org', 'instanseg_cell_org']' have been created.\n",
      "2025-10-14 16:27:16.146 | INFO     | multiplex_pipeline.processors.controller:validate_resolution_present:51 - All channels have required resolution level: 0\n",
      "2025-10-14 16:27:16.147 | WARNING  | multiplex_pipeline.processors.controller:prepare_to_overwrite:72 - Mask name 'blob' already exists and will be overwritten.\n",
      "2025-10-14 16:27:16.535 | INFO     | multiplex_pipeline.processors.controller:prepare_to_overwrite:77 - Existing mask 'blob' deleted from sdata.\n",
      "2025-10-14 16:27:20.950 | INFO     | multiplex_pipeline.processors.controller:run:136 - New element(s) '['blob']' have been created.\n",
      "2025-10-14 16:27:22.445 | INFO     | multiplex_pipeline.processors.controller:run:154 - Mask 'blob' has been saved to disk.\n",
      "2025-10-14 16:27:22.465 | INFO     | multiplex_pipeline.processors.controller:validate_resolution_present:51 - All channels have required resolution level: 0\n",
      "2025-10-14 16:27:22.465 | WARNING  | multiplex_pipeline.processors.controller:prepare_to_overwrite:72 - Mask name 'instanseg_nucleus' already exists and will be overwritten.\n",
      "2025-10-14 16:27:22.809 | INFO     | multiplex_pipeline.processors.controller:prepare_to_overwrite:77 - Existing mask 'instanseg_nucleus' deleted from sdata.\n",
      "2025-10-14 16:27:23.569 | INFO     | multiplex_pipeline.processors.controller:run:136 - New element(s) '['instanseg_nucleus']' have been created.\n",
      "2025-10-14 16:27:25.220 | INFO     | multiplex_pipeline.processors.controller:run:154 - Mask 'instanseg_nucleus' has been saved to disk.\n",
      "2025-10-14 16:27:25.271 | INFO     | multiplex_pipeline.processors.controller:validate_resolution_present:51 - All channels have required resolution level: 0\n",
      "2025-10-14 16:27:25.271 | WARNING  | multiplex_pipeline.processors.controller:prepare_to_overwrite:72 - Mask name 'instanseg_cell' already exists and will be overwritten.\n",
      "2025-10-14 16:27:25.661 | INFO     | multiplex_pipeline.processors.controller:prepare_to_overwrite:77 - Existing mask 'instanseg_cell' deleted from sdata.\n",
      "2025-10-14 16:27:26.441 | INFO     | multiplex_pipeline.processors.controller:run:136 - New element(s) '['instanseg_cell']' have been created.\n",
      "2025-10-14 16:27:27.994 | INFO     | multiplex_pipeline.processors.controller:run:154 - Mask 'instanseg_cell' has been saved to disk.\n",
      "2025-10-14 16:27:28.050 | INFO     | multiplex_pipeline.processors.controller:validate_resolution_present:51 - All channels have required resolution level: 0\n",
      "2025-10-14 16:27:28.051 | WARNING  | multiplex_pipeline.processors.controller:prepare_to_overwrite:72 - Mask name 'ring' already exists and will be overwritten.\n",
      "2025-10-14 16:27:28.418 | INFO     | multiplex_pipeline.processors.controller:prepare_to_overwrite:77 - Existing mask 'ring' deleted from sdata.\n",
      "2025-10-14 16:27:36.136 | INFO     | multiplex_pipeline.processors.controller:run:136 - New element(s) '['ring']' have been created.\n",
      "2025-10-14 16:27:37.673 | INFO     | multiplex_pipeline.processors.controller:run:154 - Mask 'ring' has been saved to disk.\n",
      "2025-10-14 16:27:37.726 | INFO     | multiplex_pipeline.processors.controller:validate_resolution_present:51 - All channels have required resolution level: 0\n",
      "2025-10-14 16:27:37.727 | WARNING  | multiplex_pipeline.processors.controller:prepare_to_overwrite:72 - Mask name 'cytoplasm' already exists and will be overwritten.\n",
      "2025-10-14 16:27:38.130 | INFO     | multiplex_pipeline.processors.controller:prepare_to_overwrite:77 - Existing mask 'cytoplasm' deleted from sdata.\n",
      "2025-10-14 16:27:38.876 | INFO     | multiplex_pipeline.processors.controller:run:136 - New element(s) '['cytoplasm']' have been created.\n",
      "2025-10-14 16:27:40.459 | INFO     | multiplex_pipeline.processors.controller:run:154 - Mask 'cytoplasm' has been saved to disk.\n"
     ]
    }
   ],
   "source": [
    "for sd_path in path_list:\n",
    "    \n",
    "    print(f\"Processing {sd_path.name}\")\n",
    "\n",
    "    # get sdata\n",
    "    sdata = sd.read_zarr(sd_path)\n",
    "\n",
    "    # run builders of additional elements\n",
    "    for builder_controller in builders_list:\n",
    "        sdata = builder_controller.run(sdata)"
   ]
  },
  {
   "cell_type": "markdown",
   "id": "11be39f1",
   "metadata": {},
   "source": [
    "### Sneak peak"
   ]
  },
  {
   "cell_type": "code",
   "execution_count": 15,
   "id": "ea43a55f",
   "metadata": {},
   "outputs": [
    {
     "name": "stderr",
     "output_type": "stream",
     "text": [
      "version mismatch: detected: RasterFormatV02, requested: FormatV04\n",
      "c:\\Users\\KMK280\\AppData\\Local\\miniconda3\\envs\\sdata-env\\Lib\\site-packages\\zarr\\creation.py:610: UserWarning: ignoring keyword argument 'read_only'\n",
      "  compressor, fill_value = _kwargs_compat(compressor, fill_value, kwargs)\n"
     ]
    },
    {
     "data": {
      "text/plain": [
       "SpatialData object, with associated Zarr store: C:\\BLCA-2_Analysis_todel\\cores\\Core_000.zarr\n",
       "├── Images\n",
       "│     └── 'DAPI': DataTree[cyx] (1, 5696, 5568), (1, 2848, 2784)\n",
       "├── Labels\n",
       "│     ├── 'blob': DataTree[yx] (5696, 5568), (2848, 2784), (1424, 1392)\n",
       "│     ├── 'cytoplasm': DataTree[yx] (5696, 5568), (2848, 2784), (1424, 1392)\n",
       "│     ├── 'instanseg_cell': DataTree[yx] (5696, 5568), (2848, 2784), (1424, 1392)\n",
       "│     ├── 'instanseg_nucleus': DataTree[yx] (5696, 5568), (2848, 2784), (1424, 1392)\n",
       "│     └── 'ring': DataTree[yx] (5696, 5568), (2848, 2784), (1424, 1392)\n",
       "└── Tables\n",
       "      ├── 'instanseg_data': AnnData (11394, 6)\n",
       "      └── 'instanseg_table': AnnData (11394, 4)\n",
       "with coordinate systems:\n",
       "    ▸ 'global', with elements:\n",
       "        DAPI (Images), blob (Labels), cytoplasm (Labels), instanseg_cell (Labels), instanseg_nucleus (Labels), ring (Labels)"
      ]
     },
     "execution_count": 15,
     "metadata": {},
     "output_type": "execute_result"
    }
   ],
   "source": [
    "# refresh the object\n",
    "sdata_org = sd.read_zarr(path_list[0])\n",
    "sdata_org"
   ]
  },
  {
   "cell_type": "code",
   "execution_count": null,
   "id": "1d2f4b17",
   "metadata": {},
   "outputs": [
    {
     "data": {
      "text/plain": [
       "<napari_spatialdata._interactive.Interactive at 0x1fd29f7a210>"
      ]
     },
     "execution_count": 25,
     "metadata": {},
     "output_type": "execute_result"
    },
    {
     "name": "stderr",
     "output_type": "stream",
     "text": [
      "c:\\Users\\KMK280\\AppData\\Local\\miniconda3\\envs\\sdata-env\\Lib\\site-packages\\anndata\\_core\\aligned_df.py:68: ImplicitModificationWarning: Transforming to str index.\n",
      "  warnings.warn(\"Transforming to str index.\", ImplicitModificationWarning)\n"
     ]
    },
    {
     "name": "stdout",
     "output_type": "stream",
     "text": [
      "2025-10-14 16:28:08.716 | DEBUG    | napari_spatialdata._view:_on_layer_update:569 - Updating layer.\n",
      "2025-10-14 16:28:08.717 | DEBUG    | napari_spatialdata._view:_on_layer_update:569 - Updating layer.\n",
      "2025-10-14 16:28:15.641 | DEBUG    | napari_spatialdata._view:_on_layer_update:569 - Updating layer.\n",
      "2025-10-14 16:28:15.652 | DEBUG    | napari_spatialdata._view:_on_layer_update:569 - Updating layer.\n",
      "2025-10-14 16:28:37.324 | DEBUG    | napari_spatialdata._view:_on_layer_update:569 - Updating layer.\n",
      "2025-10-14 16:28:37.331 | DEBUG    | napari_spatialdata._view:_on_layer_update:569 - Updating layer.\n",
      "2025-10-14 16:28:52.705 | DEBUG    | napari_spatialdata._view:_on_layer_update:569 - Updating layer.\n",
      "2025-10-14 16:28:52.710 | DEBUG    | napari_spatialdata._view:_on_layer_update:569 - Updating layer.\n"
     ]
    }
   ],
   "source": [
    "Interactive(sdata_org)"
   ]
  }
 ],
 "metadata": {
  "kernelspec": {
   "display_name": "sdata-env",
   "language": "python",
   "name": "python3"
  },
  "language_info": {
   "codemirror_mode": {
    "name": "ipython",
    "version": 3
   },
   "file_extension": ".py",
   "mimetype": "text/x-python",
   "name": "python",
   "nbconvert_exporter": "python",
   "pygments_lexer": "ipython3",
   "version": "3.11.13"
  }
 },
 "nbformat": 4,
 "nbformat_minor": 5
}
