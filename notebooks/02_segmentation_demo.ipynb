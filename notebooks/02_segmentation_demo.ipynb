{
 "cells": [
  {
   "cell_type": "code",
   "execution_count": 2,
   "id": "9b3831b0",
   "metadata": {},
   "outputs": [
    {
     "name": "stdout",
     "output_type": "stream",
     "text": [
      "The autoreload extension is already loaded. To reload it, use:\n",
      "  %reload_ext autoreload\n"
     ]
    }
   ],
   "source": [
    "%load_ext autoreload\n",
    "%autoreload 2\n",
    "\n",
    "import os\n",
    "from datetime import datetime\n",
    "from loguru import logger\n",
    "from pathlib import Path\n",
    "import numpy as np\n",
    "import spatialdata as sd\n",
    "from napari_spatialdata import Interactive\n",
    "\n",
    "from multiplex_pipeline.utils.config_loaders import load_analysis_settings\n",
    "from multiplex_pipeline.processors import build_processor\n",
    "from multiplex_pipeline.processors.controller import ResourceBuildingController"
   ]
  },
  {
   "cell_type": "markdown",
   "id": "29f71fee",
   "metadata": {},
   "source": [
    "### Load analysis settings"
   ]
  },
  {
   "cell_type": "code",
   "execution_count": 3,
   "id": "2346b63f",
   "metadata": {},
   "outputs": [],
   "source": [
    "# load analysis configuration\n",
    "settings_path = r'C:\\BLCA-7_Analysis\\analysis_settings_BLCA7.yaml'\n",
    "\n",
    "overwrite_mask = True\n",
    "\n",
    "settings = load_analysis_settings(settings_path)"
   ]
  },
  {
   "cell_type": "markdown",
   "id": "e30eb2e5",
   "metadata": {},
   "source": [
    "### Define the logger"
   ]
  },
  {
   "cell_type": "code",
   "execution_count": 4,
   "id": "f81b9c45",
   "metadata": {},
   "outputs": [],
   "source": [
    "log_file = settings.log_dir_path / f\"cores_segmenation_{datetime.now():%Y-%m-%d_%H-%M-%S}.log\"\n",
    "\n",
    "logger.remove()\n",
    "l = logger.add(lambda msg: print(msg, end=\"\"))\n",
    "l = logger.add(log_file, level=\"DEBUG\", enqueue=True)"
   ]
  },
  {
   "cell_type": "markdown",
   "id": "ecbb0071",
   "metadata": {},
   "source": [
    "### Define cores for the analysis"
   ]
  },
  {
   "cell_type": "code",
   "execution_count": 5,
   "id": "a331dd5f",
   "metadata": {},
   "outputs": [
    {
     "data": {
      "text/plain": [
       "[WindowsPath('C:/BLCA-7_Analysis/cores/Core_000.zarr')]"
      ]
     },
     "execution_count": 5,
     "metadata": {},
     "output_type": "execute_result"
    }
   ],
   "source": [
    "core_dir = settings.analysis_dir / 'cores'\n",
    "path_list = [core_dir / f for f in os.listdir(core_dir)]\n",
    "path_list.sort()\n",
    "path_list"
   ]
  },
  {
   "cell_type": "markdown",
   "id": "c36f3714",
   "metadata": {},
   "source": [
    "### Setup"
   ]
  },
  {
   "cell_type": "code",
   "execution_count": 7,
   "id": "b430d525",
   "metadata": {},
   "outputs": [
    {
     "name": "stdout",
     "output_type": "stream",
     "text": [
      "2025-10-17 14:22:07.484 | INFO     | __main__:<module>:23 - Image transformer of type 'normalize' for image 'DAPI' has been created.\n",
      "2025-10-17 14:22:07.484 | INFO     | __main__:<module>:23 - Image transformer of type 'normalize' for image 'CD45' has been created.\n",
      "2025-10-17 14:22:07.484 | INFO     | __main__:<module>:23 - Image transformer of type 'normalize' for image 'CD44' has been created.\n",
      "2025-10-17 14:22:07.485 | INFO     | __main__:<module>:23 - Image transformer of type 'normalize' for image 'HLA1' has been created.\n",
      "2025-10-17 14:22:07.485 | INFO     | __main__:<module>:23 - Image transformer of type 'normalize' for image 'NaKATPase' has been created.\n",
      "2025-10-17 14:22:07.485 | INFO     | __main__:<module>:23 - Image transformer of type 'normalize' for image 'CD11C' has been created.\n",
      "2025-10-17 14:22:07.485 | INFO     | __main__:<module>:23 - Image transformer of type 'normalize' for image 'pCK26' has been created.\n",
      "2025-10-17 14:22:07.485 | INFO     | __main__:<module>:23 - Image transformer of type 'normalize' for image 'pS6' has been created.\n",
      "2025-10-17 14:22:07.486 | INFO     | __main__:<module>:23 - Image transformer of type 'normalize' for image 'HES1' has been created.\n",
      "Model fluorescence_nuclei_and_cells version 0.1.0 already downloaded in c:\\Users\\KMK280\\AppData\\Local\\miniconda3\\envs\\sdata-env\\Lib\\site-packages\\instanseg\\utils\\../bioimageio_models/, loading\n",
      "Requesting default device: cuda\n",
      "2025-10-17 14:22:08.054 | INFO     | __main__:<module>:23 - Image transformer of type 'instanseg' for image '['DAPI_norm', 'HLA1_norm', 'CD44_norm', 'NaKATPase_norm', 'CD11C_norm', 'CD45_norm', 'pCK26_norm', 'pS6_norm', 'HES1_norm']' has been created.\n",
      "2025-10-17 14:22:08.054 | WARNING  | multiplex_pipeline.processors.base:_log_missing_optional_params:51 - BlobBuilder.Params: Parameter work_shape not provided. Using default value: (250, 250).\n",
      "2025-10-17 14:22:08.054 | WARNING  | multiplex_pipeline.processors.base:_log_missing_optional_params:51 - BlobBuilder.Params: Parameter radius not provided. Using default value: 5.\n",
      "2025-10-17 14:22:08.054 | INFO     | __main__:<module>:23 - Image transformer of type 'blob' for image 'instanseg_nucleus_org' has been created.\n",
      "2025-10-17 14:22:08.054 | INFO     | __main__:<module>:23 - Image transformer of type 'multiply' for image '['instanseg_nucleus_org', 'blob']' has been created.\n",
      "2025-10-17 14:22:08.054 | INFO     | __main__:<module>:23 - Image transformer of type 'multiply' for image '['instanseg_cell_org', 'blob']' has been created.\n",
      "2025-10-17 14:22:08.055 | INFO     | __main__:<module>:23 - Image transformer of type 'ring' for image '['instanseg_nucleus']' has been created.\n",
      "2025-10-17 14:22:08.055 | INFO     | __main__:<module>:23 - Image transformer of type 'subtract' for image '['instanseg_cell', 'instanseg_nucleus']' has been created.\n"
     ]
    }
   ],
   "source": [
    "# setup builders of additional data elements\n",
    "\n",
    "if getattr(settings,'additional_elements',None):\n",
    "    \n",
    "    builders_list = []\n",
    "\n",
    "    for builder_settings in settings.additional_elements:\n",
    "        \n",
    "        params = dict(getattr(builder_settings,'parameters',None)) or {}\n",
    "\n",
    "        builder = build_processor(builder_settings.category, builder_settings.type, **params) \n",
    "        \n",
    "        builder_controller = ResourceBuildingController(builder=builder, \n",
    "                                            input_names=builder_settings.input, \n",
    "                                            output_names=builder_settings.output, \n",
    "                                            keep=builder_settings.keep, \n",
    "                                            overwrite=True,\n",
    "                                            pyramid_levels=settings.sdata_storage.max_pyramid_level,\n",
    "                                            downscale = settings.sdata_storage.downscale,\n",
    "                                            chunk_size = settings.sdata_storage.chunk_size,\n",
    "                                            )\n",
    "        \n",
    "        logger.info(f\"Image transformer of type '{builder_settings.type}' for image '{builder_settings.input}' has been created.\")\n",
    "\n",
    "        builders_list.append(builder_controller)\n",
    "\n",
    "else:\n",
    "    builders_list = []\n",
    "    logger.info(\"No resource builders specified.\")"
   ]
  },
  {
   "cell_type": "markdown",
   "id": "129b88d8",
   "metadata": {},
   "source": [
    "### Processing"
   ]
  },
  {
   "cell_type": "code",
   "execution_count": null,
   "id": "c4daf0cb",
   "metadata": {},
   "outputs": [
    {
     "name": "stderr",
     "output_type": "stream",
     "text": [
      "version mismatch: detected: RasterFormatV02, requested: FormatV04\n",
      "c:\\Users\\KMK280\\AppData\\Local\\miniconda3\\envs\\sdata-env\\Lib\\site-packages\\zarr\\creation.py:610: UserWarning: ignoring keyword argument 'read_only'\n",
      "  compressor, fill_value = _kwargs_compat(compressor, fill_value, kwargs)\n",
      "version mismatch: detected: RasterFormatV02, requested: FormatV04\n",
      "version mismatch: detected: RasterFormatV02, requested: FormatV04\n",
      "version mismatch: detected: RasterFormatV02, requested: FormatV04\n",
      "version mismatch: detected: RasterFormatV02, requested: FormatV04\n",
      "version mismatch: detected: RasterFormatV02, requested: FormatV04\n"
     ]
    },
    {
     "name": "stdout",
     "output_type": "stream",
     "text": [
      "2025-10-17 13:34:57.535 | INFO     | __main__:<module>:4 - Validating Core_000.zarr\n"
     ]
    },
    {
     "name": "stderr",
     "output_type": "stream",
     "text": [
      "version mismatch: detected: RasterFormatV02, requested: FormatV04\n",
      "version mismatch: detected: RasterFormatV02, requested: FormatV04\n",
      "version mismatch: detected: RasterFormatV02, requested: FormatV04\n"
     ]
    },
    {
     "name": "stdout",
     "output_type": "stream",
     "text": [
      "2025-10-17 13:34:58.191 | INFO     | multiplex_pipeline.utils.config_schema:validate_pipeline:184 - ✅ Pipeline validation successful.\n"
     ]
    }
   ],
   "source": [
    "# # Optional - to detect problems early (runs <10s per sdata object)\n",
    "# for sd_path in path_list:\n",
    "    \n",
    "#     logger.info(f\"Validating {sd_path.name}\")\n",
    "\n",
    "#     # get sdata\n",
    "#     sdata = sd.read_zarr(sd_path)\n",
    "\n",
    "#     # check that the pipeline can run on provide sdata\n",
    "#     settings.validate_pipeline(sdata)"
   ]
  },
  {
   "cell_type": "code",
   "execution_count": 9,
   "id": "e2176a9b",
   "metadata": {},
   "outputs": [
    {
     "name": "stderr",
     "output_type": "stream",
     "text": [
      "version mismatch: detected: RasterFormatV02, requested: FormatV04\n",
      "c:\\Users\\KMK280\\AppData\\Local\\miniconda3\\envs\\sdata-env\\Lib\\site-packages\\zarr\\creation.py:610: UserWarning: ignoring keyword argument 'read_only'\n",
      "  compressor, fill_value = _kwargs_compat(compressor, fill_value, kwargs)\n",
      "version mismatch: detected: RasterFormatV02, requested: FormatV04\n",
      "version mismatch: detected: RasterFormatV02, requested: FormatV04\n",
      "version mismatch: detected: RasterFormatV02, requested: FormatV04\n",
      "version mismatch: detected: RasterFormatV02, requested: FormatV04\n",
      "version mismatch: detected: RasterFormatV02, requested: FormatV04\n"
     ]
    },
    {
     "name": "stdout",
     "output_type": "stream",
     "text": [
      "2025-10-17 14:24:07.933 | INFO     | __main__:<module>:3 - Processing Core_000.zarr\n"
     ]
    },
    {
     "name": "stderr",
     "output_type": "stream",
     "text": [
      "version mismatch: detected: RasterFormatV02, requested: FormatV04\n",
      "version mismatch: detected: RasterFormatV02, requested: FormatV04\n",
      "version mismatch: detected: RasterFormatV02, requested: FormatV04\n"
     ]
    },
    {
     "name": "stdout",
     "output_type": "stream",
     "text": [
      "2025-10-17 14:24:08.285 | INFO     | multiplex_pipeline.utils.config_schema:validate_pipeline:184 - ✅ Pipeline validation successful.\n",
      "2025-10-17 14:24:08.285 | INFO     | multiplex_pipeline.processors.controller:validate_resolution_present:85 - All channels have required resolution level: 0\n",
      "2025-10-17 14:24:09.025 | INFO     | multiplex_pipeline.processors.image_transformers:run:73 - Applied normalization (percentiles 1.0–99.5) → [98.0, 4311.0]\n",
      "2025-10-17 14:24:09.026 | INFO     | multiplex_pipeline.processors.controller:run:208 - New element(s) '['DAPI_norm']' have been created.\n",
      "2025-10-17 14:24:09.154 | INFO     | multiplex_pipeline.processors.controller:validate_resolution_present:85 - All channels have required resolution level: 0\n",
      "2025-10-17 14:24:10.110 | INFO     | multiplex_pipeline.processors.image_transformers:run:73 - Applied normalization (percentiles 1.0–99.5) → [98.0, 338.0]\n",
      "2025-10-17 14:24:10.111 | INFO     | multiplex_pipeline.processors.controller:run:208 - New element(s) '['CD45_norm']' have been created.\n",
      "2025-10-17 14:24:10.238 | INFO     | multiplex_pipeline.processors.controller:validate_resolution_present:85 - All channels have required resolution level: 0\n",
      "2025-10-17 14:24:11.110 | INFO     | multiplex_pipeline.processors.image_transformers:run:73 - Applied normalization (percentiles 1.0–99.5) → [0.0, 269.0]\n",
      "2025-10-17 14:24:11.111 | INFO     | multiplex_pipeline.processors.controller:run:208 - New element(s) '['CD44_norm']' have been created.\n",
      "2025-10-17 14:24:11.238 | INFO     | multiplex_pipeline.processors.controller:validate_resolution_present:85 - All channels have required resolution level: 0\n",
      "2025-10-17 14:24:12.068 | INFO     | multiplex_pipeline.processors.image_transformers:run:73 - Applied normalization (percentiles 1.0–99.5) → [57.0, 248.0]\n",
      "2025-10-17 14:24:12.069 | INFO     | multiplex_pipeline.processors.controller:run:208 - New element(s) '['HLA1_norm']' have been created.\n",
      "2025-10-17 14:24:12.212 | INFO     | multiplex_pipeline.processors.controller:validate_resolution_present:85 - All channels have required resolution level: 0\n",
      "2025-10-17 14:24:12.928 | INFO     | multiplex_pipeline.processors.image_transformers:run:73 - Applied normalization (percentiles 1.0–99.5) → [0.0, 2980.0]\n",
      "2025-10-17 14:24:12.929 | INFO     | multiplex_pipeline.processors.controller:run:208 - New element(s) '['NaKATPase_norm']' have been created.\n",
      "2025-10-17 14:24:13.056 | INFO     | multiplex_pipeline.processors.controller:validate_resolution_present:85 - All channels have required resolution level: 0\n",
      "2025-10-17 14:24:13.912 | INFO     | multiplex_pipeline.processors.image_transformers:run:73 - Applied normalization (percentiles 1.0–99.5) → [0.0, 110.0]\n",
      "2025-10-17 14:24:13.913 | INFO     | multiplex_pipeline.processors.controller:run:208 - New element(s) '['CD11C_norm']' have been created.\n",
      "2025-10-17 14:24:14.040 | INFO     | multiplex_pipeline.processors.controller:validate_resolution_present:85 - All channels have required resolution level: 0\n",
      "2025-10-17 14:24:14.805 | INFO     | multiplex_pipeline.processors.image_transformers:run:73 - Applied normalization (percentiles 1.0–99.5) → [0.0, 25292.0]\n",
      "2025-10-17 14:24:14.807 | INFO     | multiplex_pipeline.processors.controller:run:208 - New element(s) '['pCK26_norm']' have been created.\n",
      "2025-10-17 14:24:14.962 | INFO     | multiplex_pipeline.processors.controller:validate_resolution_present:85 - All channels have required resolution level: 0\n",
      "2025-10-17 14:24:15.862 | INFO     | multiplex_pipeline.processors.image_transformers:run:73 - Applied normalization (percentiles 1.0–99.5) → [75.0, 686.0]\n",
      "2025-10-17 14:24:15.863 | INFO     | multiplex_pipeline.processors.controller:run:208 - New element(s) '['pS6_norm']' have been created.\n",
      "2025-10-17 14:24:15.989 | INFO     | multiplex_pipeline.processors.controller:validate_resolution_present:85 - All channels have required resolution level: 0\n",
      "2025-10-17 14:24:16.789 | INFO     | multiplex_pipeline.processors.image_transformers:run:73 - Applied normalization (percentiles 1.0–99.5) → [74.0, 1156.0]\n",
      "2025-10-17 14:24:16.790 | INFO     | multiplex_pipeline.processors.controller:run:208 - New element(s) '['HES1_norm']' have been created.\n",
      "2025-10-17 14:24:16.917 | INFO     | multiplex_pipeline.processors.controller:validate_resolution_present:85 - All channels have required resolution level: 0\n"
     ]
    },
    {
     "name": "stderr",
     "output_type": "stream",
     "text": [
      "c:\\Users\\KMK280\\AppData\\Local\\miniconda3\\envs\\sdata-env\\Lib\\site-packages\\instanseg\\utils\\pytorch_utils.py:204: UserWarning: Sparse CSR tensor support is in beta state. If you miss a functionality in the sparse tensor support, please submit a feature request to https://github.com/pytorch/pytorch/issues. (Triggered internally at C:\\actions-runner\\_work\\pytorch\\pytorch\\pytorch\\aten\\src\\ATen\\SparseCsrTensorImpl.cpp:55.)\n",
      "  intersection = torch.sparse.mm(onehot1, onehot2.T).to_dense()\n"
     ]
    },
    {
     "name": "stdout",
     "output_type": "stream",
     "text": [
      "2025-10-17 14:24:40.985 | INFO     | multiplex_pipeline.processors.controller:run:208 - New element(s) '['instanseg_nucleus_org', 'instanseg_cell_org']' have been created.\n",
      "2025-10-17 14:24:42.193 | INFO     | multiplex_pipeline.processors.controller:run:226 - Mask 'instanseg_nucleus_org' has been saved to disk.\n",
      "2025-10-17 14:24:43.575 | INFO     | multiplex_pipeline.processors.controller:run:226 - Mask 'instanseg_cell_org' has been saved to disk.\n",
      "2025-10-17 14:24:43.690 | INFO     | multiplex_pipeline.processors.controller:validate_resolution_present:85 - All channels have required resolution level: 0\n",
      "2025-10-17 14:24:47.231 | INFO     | multiplex_pipeline.processors.controller:run:208 - New element(s) '['blob']' have been created.\n",
      "2025-10-17 14:24:48.475 | INFO     | multiplex_pipeline.processors.controller:run:226 - Mask 'blob' has been saved to disk.\n",
      "2025-10-17 14:24:48.509 | INFO     | multiplex_pipeline.processors.controller:validate_resolution_present:85 - All channels have required resolution level: 0\n",
      "2025-10-17 14:24:49.092 | INFO     | multiplex_pipeline.processors.controller:run:208 - New element(s) '['instanseg_nucleus']' have been created.\n",
      "2025-10-17 14:24:50.391 | INFO     | multiplex_pipeline.processors.controller:run:226 - Mask 'instanseg_nucleus' has been saved to disk.\n",
      "2025-10-17 14:24:50.428 | INFO     | multiplex_pipeline.processors.controller:validate_resolution_present:85 - All channels have required resolution level: 0\n",
      "2025-10-17 14:24:51.077 | INFO     | multiplex_pipeline.processors.controller:run:208 - New element(s) '['instanseg_cell']' have been created.\n",
      "2025-10-17 14:24:52.398 | INFO     | multiplex_pipeline.processors.controller:run:226 - Mask 'instanseg_cell' has been saved to disk.\n",
      "2025-10-17 14:24:52.441 | INFO     | multiplex_pipeline.processors.controller:validate_resolution_present:85 - All channels have required resolution level: 0\n",
      "2025-10-17 14:24:58.218 | INFO     | multiplex_pipeline.processors.controller:run:208 - New element(s) '['ring']' have been created.\n",
      "2025-10-17 14:24:59.559 | INFO     | multiplex_pipeline.processors.controller:run:226 - Mask 'ring' has been saved to disk.\n",
      "2025-10-17 14:24:59.586 | INFO     | multiplex_pipeline.processors.controller:validate_resolution_present:85 - All channels have required resolution level: 0\n",
      "2025-10-17 14:25:00.295 | INFO     | multiplex_pipeline.processors.controller:run:208 - New element(s) '['cytoplasm']' have been created.\n",
      "2025-10-17 14:25:01.652 | INFO     | multiplex_pipeline.processors.controller:run:226 - Mask 'cytoplasm' has been saved to disk.\n"
     ]
    }
   ],
   "source": [
    "for sd_path in path_list:\n",
    "    \n",
    "    logger.info(f\"Processing {sd_path.name}\")\n",
    "\n",
    "    # get sdata\n",
    "    sdata = sd.read_zarr(sd_path)\n",
    "\n",
    "    # check that the pipeline can run on provide sdata\n",
    "    settings.validate_pipeline(sdata)\n",
    "\n",
    "    # run builders of additional elements\n",
    "    for builder_controller in builders_list:\n",
    "        sdata = builder_controller.run(sdata)"
   ]
  },
  {
   "cell_type": "markdown",
   "id": "11be39f1",
   "metadata": {},
   "source": [
    "### Sneak peek"
   ]
  },
  {
   "cell_type": "code",
   "execution_count": 26,
   "id": "ea43a55f",
   "metadata": {},
   "outputs": [
    {
     "name": "stderr",
     "output_type": "stream",
     "text": [
      "version mismatch: detected: RasterFormatV02, requested: FormatV04\n",
      "c:\\Users\\KMK280\\AppData\\Local\\miniconda3\\envs\\sdata-env\\Lib\\site-packages\\zarr\\creation.py:610: UserWarning: ignoring keyword argument 'read_only'\n",
      "  compressor, fill_value = _kwargs_compat(compressor, fill_value, kwargs)\n"
     ]
    },
    {
     "data": {
      "text/plain": [
       "SpatialData object, with associated Zarr store: C:\\BLCA-2_Analysis_todel\\cores\\Core_000.zarr\n",
       "├── Images\n",
       "│     └── 'DAPI': DataTree[cyx] (1, 5696, 5568), (1, 2848, 2784)\n",
       "├── Labels\n",
       "│     ├── 'blob': DataTree[yx] (5696, 5568), (2848, 2784), (1424, 1392)\n",
       "│     ├── 'cytoplasm': DataTree[yx] (5696, 5568), (2848, 2784), (1424, 1392)\n",
       "│     ├── 'instanseg_cell': DataTree[yx] (5696, 5568), (2848, 2784), (1424, 1392)\n",
       "│     ├── 'instanseg_nucleus': DataTree[yx] (5696, 5568), (2848, 2784), (1424, 1392)\n",
       "│     └── 'ring': DataTree[yx] (5696, 5568), (2848, 2784), (1424, 1392)\n",
       "└── Tables\n",
       "      ├── 'instanseg_data': AnnData (11394, 6)\n",
       "      └── 'instanseg_table': AnnData (11394, 4)\n",
       "with coordinate systems:\n",
       "    ▸ 'global', with elements:\n",
       "        DAPI (Images), blob (Labels), cytoplasm (Labels), instanseg_cell (Labels), instanseg_nucleus (Labels), ring (Labels)"
      ]
     },
     "execution_count": 26,
     "metadata": {},
     "output_type": "execute_result"
    }
   ],
   "source": [
    "# refresh the object\n",
    "sdata_org = sd.read_zarr(path_list[0])\n",
    "sdata_org"
   ]
  },
  {
   "cell_type": "code",
   "execution_count": null,
   "id": "1d2f4b17",
   "metadata": {},
   "outputs": [
    {
     "data": {
      "text/plain": [
       "<napari_spatialdata._interactive.Interactive at 0x20d16ba0810>"
      ]
     },
     "execution_count": 8,
     "metadata": {},
     "output_type": "execute_result"
    }
   ],
   "source": [
    "Interactive(sdata_org)"
   ]
  },
  {
   "cell_type": "code",
   "execution_count": 10,
   "id": "1b5df9b4",
   "metadata": {},
   "outputs": [
    {
     "data": {
      "text/plain": [
       "SpatialData object, with associated Zarr store: C:\\BLCA-7_Analysis\\cores\\Core_000.zarr\n",
       "├── Images\n",
       "│     ├── 'CD11C': DataTree[cyx] (1, 4992, 5312), (1, 2496, 2656), (1, 1248, 1328)\n",
       "│     ├── 'CD11C_norm': DataTree[cyx] (1, 4992, 5312), (1, 2496, 2656), (1, 1248, 1328)\n",
       "│     ├── 'CD44': DataTree[cyx] (1, 4992, 5312), (1, 2496, 2656), (1, 1248, 1328)\n",
       "│     ├── 'CD44_norm': DataTree[cyx] (1, 4992, 5312), (1, 2496, 2656), (1, 1248, 1328)\n",
       "│     ├── 'CD45': DataTree[cyx] (1, 4992, 5312), (1, 2496, 2656), (1, 1248, 1328)\n",
       "│     ├── 'CD45_norm': DataTree[cyx] (1, 4992, 5312), (1, 2496, 2656), (1, 1248, 1328)\n",
       "│     ├── 'DAPI': DataTree[cyx] (1, 4992, 5312), (1, 2496, 2656), (1, 1248, 1328)\n",
       "│     ├── 'DAPI_norm': DataTree[cyx] (1, 4992, 5312), (1, 2496, 2656), (1, 1248, 1328)\n",
       "│     ├── 'HES1': DataTree[cyx] (1, 4992, 5312), (1, 2496, 2656), (1, 1248, 1328)\n",
       "│     ├── 'HES1_norm': DataTree[cyx] (1, 4992, 5312), (1, 2496, 2656), (1, 1248, 1328)\n",
       "│     ├── 'HLA1': DataTree[cyx] (1, 4992, 5312), (1, 2496, 2656), (1, 1248, 1328)\n",
       "│     ├── 'HLA1_norm': DataTree[cyx] (1, 4992, 5312), (1, 2496, 2656), (1, 1248, 1328)\n",
       "│     ├── 'NaKATPase': DataTree[cyx] (1, 4992, 5312), (1, 2496, 2656), (1, 1248, 1328)\n",
       "│     ├── 'NaKATPase_norm': DataTree[cyx] (1, 4992, 5312), (1, 2496, 2656), (1, 1248, 1328)\n",
       "│     ├── 'pCK26': DataTree[cyx] (1, 4992, 5312), (1, 2496, 2656), (1, 1248, 1328)\n",
       "│     ├── 'pCK26_norm': DataTree[cyx] (1, 4992, 5312), (1, 2496, 2656), (1, 1248, 1328)\n",
       "│     ├── 'pS6': DataTree[cyx] (1, 4992, 5312), (1, 2496, 2656), (1, 1248, 1328)\n",
       "│     └── 'pS6_norm': DataTree[cyx] (1, 4992, 5312), (1, 2496, 2656), (1, 1248, 1328)\n",
       "└── Labels\n",
       "      ├── 'blob': DataTree[yx] (4992, 5312), (2496, 2656), (1248, 1328)\n",
       "      ├── 'cytoplasm': DataTree[yx] (4992, 5312), (2496, 2656), (1248, 1328)\n",
       "      ├── 'instanseg_cell': DataTree[yx] (4992, 5312), (2496, 2656), (1248, 1328)\n",
       "      ├── 'instanseg_cell_org': DataTree[yx] (4992, 5312), (2496, 2656), (1248, 1328)\n",
       "      ├── 'instanseg_nucleus': DataTree[yx] (4992, 5312), (2496, 2656), (1248, 1328)\n",
       "      ├── 'instanseg_nucleus_org': DataTree[yx] (4992, 5312), (2496, 2656), (1248, 1328)\n",
       "      └── 'ring': DataTree[yx] (4992, 5312), (2496, 2656), (1248, 1328)\n",
       "with coordinate systems:\n",
       "    ▸ 'global', with elements:\n",
       "        CD11C (Images), CD11C_norm (Images), CD44 (Images), CD44_norm (Images), CD45 (Images), CD45_norm (Images), DAPI (Images), DAPI_norm (Images), HES1 (Images), HES1_norm (Images), HLA1 (Images), HLA1_norm (Images), NaKATPase (Images), NaKATPase_norm (Images), pCK26 (Images), pCK26_norm (Images), pS6 (Images), pS6_norm (Images), blob (Labels), cytoplasm (Labels), instanseg_cell (Labels), instanseg_cell_org (Labels), instanseg_nucleus (Labels), instanseg_nucleus_org (Labels), ring (Labels)\n",
       "with the following elements not in the Zarr store:\n",
       "    ▸ pS6_norm (Images)\n",
       "    ▸ DAPI_norm (Images)\n",
       "    ▸ CD11C_norm (Images)\n",
       "    ▸ CD44_norm (Images)\n",
       "    ▸ pCK26_norm (Images)\n",
       "    ▸ HLA1_norm (Images)\n",
       "    ▸ HES1_norm (Images)\n",
       "    ▸ CD45_norm (Images)\n",
       "    ▸ NaKATPase_norm (Images)"
      ]
     },
     "execution_count": 10,
     "metadata": {},
     "output_type": "execute_result"
    }
   ],
   "source": [
    "sdata"
   ]
  },
  {
   "cell_type": "code",
   "execution_count": null,
   "id": "9e17c4c8",
   "metadata": {},
   "outputs": [],
   "source": []
  }
 ],
 "metadata": {
  "kernelspec": {
   "display_name": "sdata-env",
   "language": "python",
   "name": "python3"
  },
  "language_info": {
   "codemirror_mode": {
    "name": "ipython",
    "version": 3
   },
   "file_extension": ".py",
   "mimetype": "text/x-python",
   "name": "python",
   "nbconvert_exporter": "python",
   "pygments_lexer": "ipython3",
   "version": "3.11.13"
  }
 },
 "nbformat": 4,
 "nbformat_minor": 5
}
